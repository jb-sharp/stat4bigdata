{
 "cells": [
  {
   "cell_type": "markdown",
   "id": "a87e2781",
   "metadata": {},
   "source": [
    "# Strutture Dati\n",
    "\n",
    "Una **struttura dati** è un formato specializzato per organizzare, processare, recuperare e memorizzare i dati. Esistono molteplici strutture dati, sia semplici che complesse, progettate per organizzare i dati in modo tale da soddisfare particolari requisiti. Le strutture dati sono utili per accedere e lavorare con i dati di cui si ha bisogno nella maniera più appropriata.\n",
    "\n",
    "## Liste\n",
    "\n",
    "Le **liste** sono utilizzate per memorizzare contemporanemanete molteplici elementi in una singola variabile; vengono definite utilizzando le parentesi quadre, `[...]`. Per creare una lista vuota basta usare `[]`."
   ]
  },
  {
   "cell_type": "code",
   "execution_count": 1,
   "id": "f3d12130-a1da-48dd-8ae7-67b8a0e4f3f8",
   "metadata": {},
   "outputs": [
    {
     "data": {
      "text/plain": [
       "[]"
      ]
     },
     "execution_count": 1,
     "metadata": {},
     "output_type": "execute_result"
    }
   ],
   "source": [
    "vuota = []\n",
    "vuota"
   ]
  },
  {
   "cell_type": "code",
   "execution_count": 2,
   "id": "48931d17",
   "metadata": {},
   "outputs": [],
   "source": [
    "a = 'arancia'\n",
    "b = 'banana'\n",
    "c = 'ciliegia'"
   ]
  },
  {
   "cell_type": "code",
   "execution_count": 3,
   "id": "dc28d13c",
   "metadata": {},
   "outputs": [],
   "source": [
    "frutta = ['arancia', 'banana', 'ciliegia']"
   ]
  },
  {
   "cell_type": "code",
   "execution_count": 4,
   "id": "32a73454",
   "metadata": {},
   "outputs": [
    {
     "data": {
      "text/plain": [
       "['arancia', 'banana', 'ciliegia']"
      ]
     },
     "execution_count": 4,
     "metadata": {},
     "output_type": "execute_result"
    }
   ],
   "source": [
    "frutta"
   ]
  },
  {
   "cell_type": "code",
   "execution_count": 5,
   "id": "5df576c7",
   "metadata": {},
   "outputs": [
    {
     "data": {
      "text/plain": [
       "list"
      ]
     },
     "execution_count": 5,
     "metadata": {},
     "output_type": "execute_result"
    }
   ],
   "source": [
    "type(frutta)"
   ]
  },
  {
   "cell_type": "markdown",
   "id": "181da9a0",
   "metadata": {},
   "source": [
    "Una lista può anche contenere differenti tipi di dato."
   ]
  },
  {
   "cell_type": "code",
   "execution_count": 6,
   "id": "3d586f1d",
   "metadata": {},
   "outputs": [],
   "source": [
    "mix = ['ciao', 200, [True, 0.2]]"
   ]
  },
  {
   "cell_type": "code",
   "execution_count": 7,
   "id": "46947048",
   "metadata": {},
   "outputs": [
    {
     "data": {
      "text/plain": [
       "['ciao', 200, [True, 0.2]]"
      ]
     },
     "execution_count": 7,
     "metadata": {},
     "output_type": "execute_result"
    }
   ],
   "source": [
    "mix"
   ]
  },
  {
   "cell_type": "markdown",
   "id": "21d86e3c",
   "metadata": {},
   "source": [
    "Come gli altri tipi sequenziali, ad esempio le stringhe, anche le liste possono essere soggette ad operazioni di indexing e slicing."
   ]
  },
  {
   "cell_type": "code",
   "execution_count": 8,
   "id": "1448680a",
   "metadata": {},
   "outputs": [
    {
     "data": {
      "text/plain": [
       "'arancia'"
      ]
     },
     "execution_count": 8,
     "metadata": {},
     "output_type": "execute_result"
    }
   ],
   "source": [
    "frutta[0]"
   ]
  },
  {
   "cell_type": "code",
   "execution_count": 9,
   "id": "ea18af70",
   "metadata": {},
   "outputs": [
    {
     "data": {
      "text/plain": [
       "['banana', 'ciliegia']"
      ]
     },
     "execution_count": 9,
     "metadata": {},
     "output_type": "execute_result"
    }
   ],
   "source": [
    "frutta[1:]"
   ]
  },
  {
   "cell_type": "markdown",
   "id": "a34c9213",
   "metadata": {},
   "source": [
    "A differenza delle stringhe, che sono *immutabili*, le liste sono un tipo *mutabili*, dunque è possibile modificarne il contenuto."
   ]
  },
  {
   "cell_type": "code",
   "execution_count": 10,
   "id": "1088f47b",
   "metadata": {},
   "outputs": [
    {
     "data": {
      "text/plain": [
       "['ananas', 'banana', 'ciliegia']"
      ]
     },
     "execution_count": 10,
     "metadata": {},
     "output_type": "execute_result"
    }
   ],
   "source": [
    "frutta[0] = 'ananas'\n",
    "frutta"
   ]
  },
  {
   "cell_type": "code",
   "execution_count": 11,
   "id": "cd6efc1d",
   "metadata": {},
   "outputs": [
    {
     "ename": "TypeError",
     "evalue": "'str' object does not support item assignment",
     "output_type": "error",
     "traceback": [
      "\u001b[0;31m---------------------------------------------------------------------------\u001b[0m",
      "\u001b[0;31mTypeError\u001b[0m                                 Traceback (most recent call last)",
      "Cell \u001b[0;32mIn[11], line 1\u001b[0m\n\u001b[0;32m----> 1\u001b[0m \u001b[38;5;124m'\u001b[39m\u001b[38;5;124mananas\u001b[39m\u001b[38;5;124m'\u001b[39m[\u001b[38;5;241m0\u001b[39m] \u001b[38;5;241m=\u001b[39m \u001b[38;5;124m'\u001b[39m\u001b[38;5;124mc\u001b[39m\u001b[38;5;124m'\u001b[39m\n",
      "\u001b[0;31mTypeError\u001b[0m: 'str' object does not support item assignment"
     ]
    }
   ],
   "source": [
    "'ananas'[0] = 'c'"
   ]
  },
  {
   "cell_type": "code",
   "execution_count": 12,
   "id": "f36f7dca",
   "metadata": {},
   "outputs": [
    {
     "data": {
      "text/plain": [
       "'ananac'"
      ]
     },
     "execution_count": 12,
     "metadata": {},
     "output_type": "execute_result"
    }
   ],
   "source": [
    "'ananas'.replace('s', 'c')"
   ]
  },
  {
   "cell_type": "markdown",
   "id": "660231dd",
   "metadata": {},
   "source": [
    "È possibile utilizzare anche la direttiva `list()` per definire una lista."
   ]
  },
  {
   "cell_type": "code",
   "execution_count": 13,
   "id": "1d481693",
   "metadata": {},
   "outputs": [
    {
     "data": {
      "text/plain": [
       "[0, 1, 2, 3]"
      ]
     },
     "execution_count": 13,
     "metadata": {},
     "output_type": "execute_result"
    }
   ],
   "source": [
    "list([0, 1, 2, 3])"
   ]
  },
  {
   "cell_type": "markdown",
   "id": "4f033fa5-a361-41e1-92d4-7601751d62c7",
   "metadata": {},
   "source": [
    "Quando usata su una stringa produce la lista dei caratteri della stringa:"
   ]
  },
  {
   "cell_type": "code",
   "execution_count": 14,
   "id": "27d92e43",
   "metadata": {},
   "outputs": [
    {
     "data": {
      "text/plain": [
       "['a', 'n', 'a', 'n', 'a', 's']"
      ]
     },
     "execution_count": 14,
     "metadata": {},
     "output_type": "execute_result"
    }
   ],
   "source": [
    "list('ananas')"
   ]
  },
  {
   "cell_type": "markdown",
   "id": "dbe37455",
   "metadata": {},
   "source": [
    "### `len(object)`\n",
    "\n",
    "Il metodo `len()` resituisce la lunghezza (il numero di elementi) di un oggetto. L'argomento può essere una sequenza (ad esempio una stringa o una lista) oppure una collezione (ad esempio un dizionario o un insieme)."
   ]
  },
  {
   "cell_type": "code",
   "execution_count": 15,
   "id": "5ed3ef67",
   "metadata": {},
   "outputs": [
    {
     "data": {
      "text/plain": [
       "3"
      ]
     },
     "execution_count": 15,
     "metadata": {},
     "output_type": "execute_result"
    }
   ],
   "source": [
    "len(frutta)"
   ]
  },
  {
   "cell_type": "code",
   "execution_count": 16,
   "id": "231ce067",
   "metadata": {},
   "outputs": [
    {
     "data": {
      "text/plain": [
       "6"
      ]
     },
     "execution_count": 16,
     "metadata": {},
     "output_type": "execute_result"
    }
   ],
   "source": [
    "len('ananas')"
   ]
  },
  {
   "cell_type": "code",
   "execution_count": 17,
   "id": "682a493d",
   "metadata": {},
   "outputs": [
    {
     "ename": "TypeError",
     "evalue": "object of type 'int' has no len()",
     "output_type": "error",
     "traceback": [
      "\u001b[0;31m---------------------------------------------------------------------------\u001b[0m",
      "\u001b[0;31mTypeError\u001b[0m                                 Traceback (most recent call last)",
      "Cell \u001b[0;32mIn[17], line 1\u001b[0m\n\u001b[0;32m----> 1\u001b[0m \u001b[38;5;28mlen\u001b[39m(\u001b[38;5;241m4\u001b[39m)\n",
      "\u001b[0;31mTypeError\u001b[0m: object of type 'int' has no len()"
     ]
    }
   ],
   "source": [
    "len(4)"
   ]
  },
  {
   "cell_type": "markdown",
   "id": "b245bde6",
   "metadata": {},
   "source": [
    "### Metodi di `list`\n",
    "\n",
    "Le liste sono ordinate, ovvero gli elementi hanno un ordine definito, e tale ordine non viene cambiato. Nel caso in cui vengano aggiunti nuovi elementi ad una lista, questi verranno piazzati alla fine della lista stessa.\n",
    "\n",
    "`list.append(x)` aggiunge un elemento alla fine della lista."
   ]
  },
  {
   "cell_type": "code",
   "execution_count": 21,
   "id": "ee665575-5359-44fc-990b-1c89c5c9bdd4",
   "metadata": {},
   "outputs": [
    {
     "data": {
      "text/plain": [
       "['ananas', 'banana', 'ciliegia', 'pesca']"
      ]
     },
     "execution_count": 21,
     "metadata": {},
     "output_type": "execute_result"
    }
   ],
   "source": [
    "frutta"
   ]
  },
  {
   "cell_type": "code",
   "execution_count": 19,
   "id": "975830e5",
   "metadata": {},
   "outputs": [],
   "source": [
    "frutta.append('pesca')"
   ]
  },
  {
   "cell_type": "code",
   "execution_count": 20,
   "id": "4b9dc022",
   "metadata": {},
   "outputs": [
    {
     "data": {
      "text/plain": [
       "['ananas', 'banana', 'ciliegia', 'pesca']"
      ]
     },
     "execution_count": 20,
     "metadata": {},
     "output_type": "execute_result"
    }
   ],
   "source": [
    "frutta"
   ]
  },
  {
   "cell_type": "markdown",
   "id": "f4048473",
   "metadata": {},
   "source": [
    "`list.pop(i)` rimuove l'elemento della lista nella posizione indicata e lo restituisce. Se nessun indice viene indicato, rimuove e restituisce l'ultimo elemento nella lista."
   ]
  },
  {
   "cell_type": "code",
   "execution_count": 24,
   "id": "2579342a",
   "metadata": {},
   "outputs": [
    {
     "data": {
      "text/plain": [
       "'banana'"
      ]
     },
     "execution_count": 24,
     "metadata": {},
     "output_type": "execute_result"
    }
   ],
   "source": [
    "#frutta.pop()\n",
    "frutta.pop(1)"
   ]
  },
  {
   "cell_type": "code",
   "execution_count": 25,
   "id": "522ebd12",
   "metadata": {},
   "outputs": [
    {
     "data": {
      "text/plain": [
       "['ananas', 'ciliegia']"
      ]
     },
     "execution_count": 25,
     "metadata": {},
     "output_type": "execute_result"
    }
   ],
   "source": [
    "frutta"
   ]
  },
  {
   "cell_type": "markdown",
   "id": "1d385688-93f7-41c0-82c9-b03b41642f0c",
   "metadata": {},
   "source": [
    "Mentre `list.append(x)` aggiunge l'elemento ala fine della lista, `list.insert(i, x)` lo aggiunge in posizione i."
   ]
  },
  {
   "cell_type": "code",
   "execution_count": 28,
   "id": "4ac43434",
   "metadata": {},
   "outputs": [],
   "source": [
    "frutta.insert(1, 'banana')"
   ]
  },
  {
   "cell_type": "code",
   "execution_count": 29,
   "id": "4d3fad86",
   "metadata": {},
   "outputs": [
    {
     "data": {
      "text/plain": [
       "['ananas', 'banana', 'banana', 'ciliegia']"
      ]
     },
     "execution_count": 29,
     "metadata": {},
     "output_type": "execute_result"
    }
   ],
   "source": [
    "frutta"
   ]
  },
  {
   "cell_type": "markdown",
   "id": "fe2a6fd1",
   "metadata": {},
   "source": [
    "## Tuple\n",
    "\n",
    "Le **tuple** sono utilizzate per memorizzare più elementi in una singola variabile. Sono definite da parentesi tonde, `(...)`, e i loro elementi sono ordinati, immutabili e consentono duplicati."
   ]
  },
  {
   "cell_type": "code",
   "execution_count": 30,
   "id": "00e48584",
   "metadata": {},
   "outputs": [],
   "source": [
    "medaglie = ('oro', 'argento', 'bronzo')"
   ]
  },
  {
   "cell_type": "code",
   "execution_count": 31,
   "id": "12e77d65",
   "metadata": {},
   "outputs": [
    {
     "data": {
      "text/plain": [
       "('oro', 'argento', 'bronzo')"
      ]
     },
     "execution_count": 31,
     "metadata": {},
     "output_type": "execute_result"
    }
   ],
   "source": [
    "medaglie"
   ]
  },
  {
   "cell_type": "code",
   "execution_count": 32,
   "id": "9ecad6f6",
   "metadata": {},
   "outputs": [
    {
     "data": {
      "text/plain": [
       "tuple"
      ]
     },
     "execution_count": 32,
     "metadata": {},
     "output_type": "execute_result"
    }
   ],
   "source": [
    "type(medaglie)"
   ]
  },
  {
   "cell_type": "code",
   "execution_count": 34,
   "id": "0f0dc9b6",
   "metadata": {},
   "outputs": [],
   "source": [
    "mix = (2, 'ciao', (True, 0.3))"
   ]
  },
  {
   "cell_type": "code",
   "execution_count": 35,
   "id": "843ae753",
   "metadata": {},
   "outputs": [
    {
     "data": {
      "text/plain": [
       "(2, 'ciao', (True, 0.3))"
      ]
     },
     "execution_count": 35,
     "metadata": {},
     "output_type": "execute_result"
    }
   ],
   "source": [
    "mix"
   ]
  },
  {
   "cell_type": "markdown",
   "id": "554cf8fb",
   "metadata": {},
   "source": [
    "È possibile anche utilizzare la funzione `tuple()` per definire una tupla."
   ]
  },
  {
   "cell_type": "code",
   "execution_count": 36,
   "id": "0c8c9b47",
   "metadata": {},
   "outputs": [
    {
     "data": {
      "text/plain": [
       "('oro', 'argento', 'bronzo')"
      ]
     },
     "execution_count": 36,
     "metadata": {},
     "output_type": "execute_result"
    }
   ],
   "source": [
    "tuple(('oro', 'argento', 'bronzo'))"
   ]
  },
  {
   "cell_type": "markdown",
   "id": "a4607988",
   "metadata": {},
   "source": [
    "Anche se le tuple sembrano simili alle liste, in realtà sono utilizzate in modi e per scopi differenti. Le tuple sono immutabili e di solito contengono sequenze eterogenee di elementi a cui si accede tramite operazioni di *unpacking* e *indexing*. Le liste sono mutabili, i loro elementi sono di solito omogenei e vi si accede in maniera iterativa."
   ]
  },
  {
   "cell_type": "code",
   "execution_count": 37,
   "id": "7499ba21",
   "metadata": {},
   "outputs": [
    {
     "data": {
      "text/plain": [
       "'oro'"
      ]
     },
     "execution_count": 37,
     "metadata": {},
     "output_type": "execute_result"
    }
   ],
   "source": [
    "medaglie[0]"
   ]
  },
  {
   "cell_type": "code",
   "execution_count": 38,
   "id": "aeff0da7",
   "metadata": {},
   "outputs": [
    {
     "data": {
      "text/plain": [
       "('argento', 'bronzo')"
      ]
     },
     "execution_count": 38,
     "metadata": {},
     "output_type": "execute_result"
    }
   ],
   "source": [
    "medaglie[1:]"
   ]
  },
  {
   "cell_type": "code",
   "execution_count": 39,
   "id": "b4356e9c-6d2d-42c2-b038-5a66ef7ad967",
   "metadata": {},
   "outputs": [
    {
     "ename": "TypeError",
     "evalue": "'tuple' object does not support item assignment",
     "output_type": "error",
     "traceback": [
      "\u001b[0;31m---------------------------------------------------------------------------\u001b[0m",
      "\u001b[0;31mTypeError\u001b[0m                                 Traceback (most recent call last)",
      "Cell \u001b[0;32mIn[39], line 1\u001b[0m\n\u001b[0;32m----> 1\u001b[0m medaglie[\u001b[38;5;241m0\u001b[39m] \u001b[38;5;241m=\u001b[39m \u001b[38;5;124m\"\u001b[39m\u001b[38;5;124mlegno\u001b[39m\u001b[38;5;124m\"\u001b[39m\n",
      "\u001b[0;31mTypeError\u001b[0m: 'tuple' object does not support item assignment"
     ]
    }
   ],
   "source": [
    "medaglie[0] = \"legno\""
   ]
  },
  {
   "cell_type": "markdown",
   "id": "93b289a7-d74c-4b3c-a4d5-518299ae5edd",
   "metadata": {},
   "source": [
    "Di default se si assegnano pià valori ad una variabile ad essa viene asseganta la tupla contenente i valori specificati."
   ]
  },
  {
   "cell_type": "code",
   "execution_count": 40,
   "id": "29dd8ed8",
   "metadata": {},
   "outputs": [],
   "source": [
    "brand = 'Apple', 'Samsung', 'LG'"
   ]
  },
  {
   "cell_type": "code",
   "execution_count": 41,
   "id": "6c501857",
   "metadata": {},
   "outputs": [
    {
     "data": {
      "text/plain": [
       "('Apple', 'Samsung', 'LG')"
      ]
     },
     "execution_count": 41,
     "metadata": {},
     "output_type": "execute_result"
    }
   ],
   "source": [
    "brand"
   ]
  },
  {
   "cell_type": "markdown",
   "id": "e3f41d74-8e5d-4ea7-a373-9aeffc58cdd7",
   "metadata": {},
   "source": [
    "Al contrario assegnado una tupla a più variabili di possono *spacchettare* i valori che essa contiene."
   ]
  },
  {
   "cell_type": "code",
   "execution_count": 42,
   "id": "d480b82d",
   "metadata": {},
   "outputs": [],
   "source": [
    "apple, samsung, lg = brand"
   ]
  },
  {
   "cell_type": "code",
   "execution_count": 43,
   "id": "b1bd0e57",
   "metadata": {},
   "outputs": [
    {
     "data": {
      "text/plain": [
       "'Apple'"
      ]
     },
     "execution_count": 43,
     "metadata": {},
     "output_type": "execute_result"
    }
   ],
   "source": [
    "apple"
   ]
  },
  {
   "cell_type": "markdown",
   "id": "5af1798b",
   "metadata": {},
   "source": [
    "### `zip(lista_1, ..., lista_n)`\n",
    "\n",
    "La funzione integrata `zip()` itera parallelamente su più liste (che sono oggetti *iterabili*), producendo tuple aventi un elemento preso da ognuna delle liste."
   ]
  },
  {
   "cell_type": "code",
   "execution_count": 44,
   "id": "a47ed5d8",
   "metadata": {},
   "outputs": [],
   "source": [
    "medaglie = ['oro', 'argento', 'bronzo']\n",
    "piazzamenti = [1, 2, 3]"
   ]
  },
  {
   "cell_type": "markdown",
   "id": "b51075ec-c8e5-44ba-aeb0-b1d3ad77b0ff",
   "metadata": {},
   "source": [
    "`zip` non restituisce direttamente una lista ma un oggetto di tipo zip. Per rendere il risultato una lista si può usare la direttiva `list()`."
   ]
  },
  {
   "cell_type": "code",
   "execution_count": 45,
   "id": "2a47125e-4929-4b3a-bb73-fc3f4d9ae0c7",
   "metadata": {},
   "outputs": [
    {
     "data": {
      "text/plain": [
       "<zip at 0x7856d2df5640>"
      ]
     },
     "execution_count": 45,
     "metadata": {},
     "output_type": "execute_result"
    }
   ],
   "source": [
    "zip(medaglie, piazzamenti)"
   ]
  },
  {
   "cell_type": "code",
   "execution_count": 46,
   "id": "2b1560ff-51eb-44cd-8272-263fd575cf40",
   "metadata": {},
   "outputs": [
    {
     "data": {
      "text/plain": [
       "zip"
      ]
     },
     "execution_count": 46,
     "metadata": {},
     "output_type": "execute_result"
    }
   ],
   "source": [
    "type(zip(medaglie, piazzamenti))"
   ]
  },
  {
   "cell_type": "code",
   "execution_count": 47,
   "id": "e35a6ece",
   "metadata": {},
   "outputs": [
    {
     "data": {
      "text/plain": [
       "[('oro', 1), ('argento', 2), ('bronzo', 3)]"
      ]
     },
     "execution_count": 47,
     "metadata": {},
     "output_type": "execute_result"
    }
   ],
   "source": [
    "list(zip(medaglie, piazzamenti))"
   ]
  },
  {
   "cell_type": "code",
   "execution_count": 48,
   "id": "bca039f6",
   "metadata": {},
   "outputs": [
    {
     "data": {
      "text/plain": [
       "[('oro', 1, 1000), ('argento', 2, 500), ('bronzo', 3, 200)]"
      ]
     },
     "execution_count": 48,
     "metadata": {},
     "output_type": "execute_result"
    }
   ],
   "source": [
    "piazzamenti = [1, 2, 3, 4]\n",
    "premio = [1000, 500, 200]\n",
    "list(zip(medaglie, piazzamenti, premio))"
   ]
  },
  {
   "cell_type": "markdown",
   "id": "1b9e41dd",
   "metadata": {},
   "source": [
    "## Insiemi\n",
    "\n",
    "Un **insieme** (*set*) è una struttura dati non-ordinata, non-indicizzata e immutabile che non accetta duplicati. Gli utilizzi più comuni riguardano il cosiddetto test di appartenenza e l'eliminazione di elementi duplicati. Gli insiemi supportano operazioni matematiche, come l'unione, l'intersezione, la differenza e la differenza simmetrica. Gli insiemi si definiscono con le parentesi graffe, `{...}`."
   ]
  },
  {
   "cell_type": "code",
   "execution_count": 49,
   "id": "770dab2c",
   "metadata": {},
   "outputs": [],
   "source": [
    "frutta = {'arancia', 'banana', 'ciliegia', 'arancia'}"
   ]
  },
  {
   "cell_type": "code",
   "execution_count": 50,
   "id": "94d4a0e5",
   "metadata": {},
   "outputs": [
    {
     "data": {
      "text/plain": [
       "{'arancia', 'banana', 'ciliegia'}"
      ]
     },
     "execution_count": 50,
     "metadata": {},
     "output_type": "execute_result"
    }
   ],
   "source": [
    "frutta"
   ]
  },
  {
   "cell_type": "code",
   "execution_count": 51,
   "id": "18c7af29",
   "metadata": {},
   "outputs": [
    {
     "ename": "TypeError",
     "evalue": "'set' object is not subscriptable",
     "output_type": "error",
     "traceback": [
      "\u001b[0;31m---------------------------------------------------------------------------\u001b[0m",
      "\u001b[0;31mTypeError\u001b[0m                                 Traceback (most recent call last)",
      "Cell \u001b[0;32mIn[51], line 1\u001b[0m\n\u001b[0;32m----> 1\u001b[0m frutta[\u001b[38;5;241m0\u001b[39m]\n",
      "\u001b[0;31mTypeError\u001b[0m: 'set' object is not subscriptable"
     ]
    }
   ],
   "source": [
    "frutta[0]"
   ]
  },
  {
   "cell_type": "markdown",
   "id": "3cb3d6ca",
   "metadata": {},
   "source": [
    "È possibile definire un insieme utilizzando la funzione `set()`."
   ]
  },
  {
   "cell_type": "code",
   "execution_count": 52,
   "id": "12f19f9a",
   "metadata": {},
   "outputs": [
    {
     "data": {
      "text/plain": [
       "{'arancia', 'banana', 'ciliegia'}"
      ]
     },
     "execution_count": 52,
     "metadata": {},
     "output_type": "execute_result"
    }
   ],
   "source": [
    "set(('arancia', 'banana', 'ciliegia', 'arancia'))"
   ]
  },
  {
   "cell_type": "code",
   "execution_count": 53,
   "id": "a030965f",
   "metadata": {},
   "outputs": [
    {
     "data": {
      "text/plain": [
       "['arancia', 'banana', 'ciliegia', 'arancia']"
      ]
     },
     "execution_count": 53,
     "metadata": {},
     "output_type": "execute_result"
    }
   ],
   "source": [
    "['arancia', 'banana', 'ciliegia', 'arancia']"
   ]
  },
  {
   "cell_type": "code",
   "execution_count": 54,
   "id": "682b5f00",
   "metadata": {},
   "outputs": [
    {
     "data": {
      "text/plain": [
       "('arancia', 'banana', 'ciliegia', 'arancia')"
      ]
     },
     "execution_count": 54,
     "metadata": {},
     "output_type": "execute_result"
    }
   ],
   "source": [
    "('arancia', 'banana', 'ciliegia', 'arancia')"
   ]
  },
  {
   "cell_type": "markdown",
   "id": "1bf505e2",
   "metadata": {},
   "source": [
    "### Test di Appartenenza\n",
    "\n",
    "Un **test di appartenenza** controlla se uno specifico elemento sia contenuto all'interno di una sequenza, come stringhe, liste, tuple o insiemi. Uno dei principali vantaggi nell'utilizzare gli insiemi in Python è che essi sono ottimizzati per questa tipologia di test.\n",
    "\n",
    "L'operatore `in` funziona con tipi sequenziali: è utilizzato per controllare se un elemento è presente in un oggetto. L'operatore restituisce un valore booleano: `True` se l'elemento viene trovato, `False` in caso contrario."
   ]
  },
  {
   "cell_type": "code",
   "execution_count": 55,
   "id": "93bd88fe",
   "metadata": {},
   "outputs": [
    {
     "data": {
      "text/plain": [
       "True"
      ]
     },
     "execution_count": 55,
     "metadata": {},
     "output_type": "execute_result"
    }
   ],
   "source": [
    "'arancia' in frutta"
   ]
  },
  {
   "cell_type": "code",
   "execution_count": 56,
   "id": "18a82b17",
   "metadata": {},
   "outputs": [
    {
     "data": {
      "text/plain": [
       "False"
      ]
     },
     "execution_count": 56,
     "metadata": {},
     "output_type": "execute_result"
    }
   ],
   "source": [
    "'pesca' in frutta"
   ]
  },
  {
   "cell_type": "code",
   "execution_count": 57,
   "id": "1a18ceb2",
   "metadata": {},
   "outputs": [
    {
     "data": {
      "text/plain": [
       "True"
      ]
     },
     "execution_count": 57,
     "metadata": {},
     "output_type": "execute_result"
    }
   ],
   "source": [
    "'arancia' in ['arancia', 'banana', 'ciliegia', 'arancia']"
   ]
  },
  {
   "cell_type": "code",
   "execution_count": 58,
   "id": "d100d199",
   "metadata": {},
   "outputs": [
    {
     "data": {
      "text/plain": [
       "False"
      ]
     },
     "execution_count": 58,
     "metadata": {},
     "output_type": "execute_result"
    }
   ],
   "source": [
    "'pesca' in ('arancia', 'banana', 'ciliegia', 'arancia')"
   ]
  },
  {
   "cell_type": "code",
   "execution_count": 59,
   "id": "7a8e66d4",
   "metadata": {},
   "outputs": [
    {
     "data": {
      "text/plain": [
       "False"
      ]
     },
     "execution_count": 59,
     "metadata": {},
     "output_type": "execute_result"
    }
   ],
   "source": [
    "'b' in 'ciao'"
   ]
  },
  {
   "cell_type": "markdown",
   "id": "dfd340d9",
   "metadata": {},
   "source": [
    "### Operazioni sugli Insiemi\n",
    "\n",
    "L'*unione* viene eseguita utilizzando l'operatore `|` oppure il metodo `set.union()`."
   ]
  },
  {
   "cell_type": "code",
   "execution_count": 60,
   "id": "9e3e187d",
   "metadata": {},
   "outputs": [],
   "source": [
    "numeri_primi = {1, 2, 3, 5, 7}\n",
    "numeri_dispari = {1, 3, 5, 7, 9}"
   ]
  },
  {
   "cell_type": "code",
   "execution_count": 61,
   "id": "ba52b0bb",
   "metadata": {},
   "outputs": [
    {
     "data": {
      "text/plain": [
       "{1, 2, 3, 5, 7, 9}"
      ]
     },
     "execution_count": 61,
     "metadata": {},
     "output_type": "execute_result"
    }
   ],
   "source": [
    "# Unione\n",
    "numeri_primi | numeri_dispari"
   ]
  },
  {
   "cell_type": "markdown",
   "id": "28bbe2dd-6108-4a32-a5c7-8fec01c385c8",
   "metadata": {},
   "source": [
    "L'unione è un'operazione simmetrica."
   ]
  },
  {
   "cell_type": "code",
   "execution_count": 62,
   "id": "a85913b0",
   "metadata": {},
   "outputs": [
    {
     "data": {
      "text/plain": [
       "{1, 2, 3, 5, 7, 9}"
      ]
     },
     "execution_count": 62,
     "metadata": {},
     "output_type": "execute_result"
    }
   ],
   "source": [
    "numeri_dispari | numeri_primi"
   ]
  },
  {
   "cell_type": "code",
   "execution_count": 63,
   "id": "a24762fc",
   "metadata": {},
   "outputs": [
    {
     "data": {
      "text/plain": [
       "{1, 2, 3, 5, 7, 9}"
      ]
     },
     "execution_count": 63,
     "metadata": {},
     "output_type": "execute_result"
    }
   ],
   "source": [
    "numeri_primi.union(numeri_dispari)"
   ]
  },
  {
   "cell_type": "markdown",
   "id": "7f16d90d",
   "metadata": {},
   "source": [
    "L'*intersezione* viene eseguita utilizzando l'operatore `&` oppure il metodo `set.intersection()`."
   ]
  },
  {
   "cell_type": "code",
   "execution_count": 64,
   "id": "3724933c",
   "metadata": {},
   "outputs": [
    {
     "data": {
      "text/plain": [
       "{1, 3, 5, 7}"
      ]
     },
     "execution_count": 64,
     "metadata": {},
     "output_type": "execute_result"
    }
   ],
   "source": [
    "# Intersezione\n",
    "numeri_primi & numeri_dispari"
   ]
  },
  {
   "cell_type": "code",
   "execution_count": 65,
   "id": "8ca14bea",
   "metadata": {},
   "outputs": [
    {
     "data": {
      "text/plain": [
       "{1, 3, 5, 7}"
      ]
     },
     "execution_count": 65,
     "metadata": {},
     "output_type": "execute_result"
    }
   ],
   "source": [
    "numeri_primi.intersection(numeri_dispari)"
   ]
  },
  {
   "cell_type": "markdown",
   "id": "11a213f5",
   "metadata": {},
   "source": [
    "La *differenza insiemistica* viene eseguita utilizzando l'operatore `-` oppure il metodo `set.difference()`."
   ]
  },
  {
   "cell_type": "code",
   "execution_count": 66,
   "id": "8e111ca9",
   "metadata": {},
   "outputs": [
    {
     "data": {
      "text/plain": [
       "{2}"
      ]
     },
     "execution_count": 66,
     "metadata": {},
     "output_type": "execute_result"
    }
   ],
   "source": [
    "# Differenza insiemistica\n",
    "numeri_primi - numeri_dispari"
   ]
  },
  {
   "cell_type": "code",
   "execution_count": 67,
   "id": "d8c01239",
   "metadata": {},
   "outputs": [
    {
     "data": {
      "text/plain": [
       "{2}"
      ]
     },
     "execution_count": 67,
     "metadata": {},
     "output_type": "execute_result"
    }
   ],
   "source": [
    "numeri_primi.difference(numeri_dispari)"
   ]
  },
  {
   "cell_type": "markdown",
   "id": "8778830b-f151-4b44-87e6-524a1366b685",
   "metadata": {},
   "source": [
    "La differenza insiemistica **non** è simmetrica:"
   ]
  },
  {
   "cell_type": "code",
   "execution_count": 68,
   "id": "49ec2488",
   "metadata": {},
   "outputs": [
    {
     "data": {
      "text/plain": [
       "{9}"
      ]
     },
     "execution_count": 68,
     "metadata": {},
     "output_type": "execute_result"
    }
   ],
   "source": [
    "numeri_dispari - numeri_primi"
   ]
  },
  {
   "cell_type": "markdown",
   "id": "08cd07ec",
   "metadata": {},
   "source": [
    "La *differenza simmetrica* che corrisponde a *unione* - *intersezione* viene eseguita utilizzando l'operatore `^` oppure il metodo `set.symmetric_difference()`."
   ]
  },
  {
   "cell_type": "code",
   "execution_count": 69,
   "id": "22ec3042",
   "metadata": {},
   "outputs": [
    {
     "data": {
      "text/plain": [
       "{2, 9}"
      ]
     },
     "execution_count": 69,
     "metadata": {},
     "output_type": "execute_result"
    }
   ],
   "source": [
    "# Differenza Simmetrica\n",
    "numeri_primi ^ numeri_dispari"
   ]
  },
  {
   "cell_type": "code",
   "execution_count": 70,
   "id": "3bd2c41e",
   "metadata": {},
   "outputs": [
    {
     "data": {
      "text/plain": [
       "{2, 9}"
      ]
     },
     "execution_count": 70,
     "metadata": {},
     "output_type": "execute_result"
    }
   ],
   "source": [
    "numeri_dispari ^ numeri_primi"
   ]
  },
  {
   "cell_type": "code",
   "execution_count": 71,
   "id": "c44f71da",
   "metadata": {},
   "outputs": [
    {
     "data": {
      "text/plain": [
       "{2, 9}"
      ]
     },
     "execution_count": 71,
     "metadata": {},
     "output_type": "execute_result"
    }
   ],
   "source": [
    "numeri_primi.symmetric_difference(numeri_dispari)"
   ]
  },
  {
   "cell_type": "markdown",
   "id": "d205c9be",
   "metadata": {},
   "source": [
    "## Dizionari\n",
    "\n",
    "Un **dizionario** è utilizzato per memorizzare valori in un formato *chiave: valore* ed è definito da parentesi graffe, `{chiave: valore}`. A differenza dalle sequenze come le liste, che sono indicizzate da una serie di numeri, i dizionari sono indicizzati dalle chiavi, che possono essere di qualsiasi tipo immutabile (stringhe, interi o anche tuple) e con il vincolo di dover essere uniche."
   ]
  },
  {
   "cell_type": "code",
   "execution_count": 72,
   "id": "bb8538e2",
   "metadata": {},
   "outputs": [],
   "source": [
    "capitali = {'Italia': 'Roma'}"
   ]
  },
  {
   "cell_type": "code",
   "execution_count": 73,
   "id": "56dec735",
   "metadata": {},
   "outputs": [
    {
     "ename": "KeyError",
     "evalue": "0",
     "output_type": "error",
     "traceback": [
      "\u001b[0;31m---------------------------------------------------------------------------\u001b[0m",
      "\u001b[0;31mKeyError\u001b[0m                                  Traceback (most recent call last)",
      "Cell \u001b[0;32mIn[73], line 1\u001b[0m\n\u001b[0;32m----> 1\u001b[0m capitali[\u001b[38;5;241m0\u001b[39m]\n",
      "\u001b[0;31mKeyError\u001b[0m: 0"
     ]
    }
   ],
   "source": [
    "capitali[0]"
   ]
  },
  {
   "cell_type": "code",
   "execution_count": 74,
   "id": "b8b9e26c",
   "metadata": {},
   "outputs": [
    {
     "data": {
      "text/plain": [
       "'Roma'"
      ]
     },
     "execution_count": 74,
     "metadata": {},
     "output_type": "execute_result"
    }
   ],
   "source": [
    "capitali['Italia']"
   ]
  },
  {
   "cell_type": "code",
   "execution_count": 75,
   "id": "b5074c46",
   "metadata": {},
   "outputs": [],
   "source": [
    "capitali = {'Italia': 'Roma', 'Francia': 'Parigi', 'Spagna': 'Madrid'}"
   ]
  },
  {
   "cell_type": "code",
   "execution_count": 76,
   "id": "4903d6e9",
   "metadata": {},
   "outputs": [
    {
     "data": {
      "text/plain": [
       "'Madrid'"
      ]
     },
     "execution_count": 76,
     "metadata": {},
     "output_type": "execute_result"
    }
   ],
   "source": [
    "capitali['Spagna']"
   ]
  },
  {
   "cell_type": "markdown",
   "id": "4959c96d",
   "metadata": {},
   "source": [
    "È possibile definire un dizionario anche con la funzione `dict()`."
   ]
  },
  {
   "cell_type": "code",
   "execution_count": 77,
   "id": "b4ed9a06",
   "metadata": {},
   "outputs": [],
   "source": [
    "auto = dict([('brand', 'Fiat'), ('modello', 'Panda'), ('anno', 2000)])"
   ]
  },
  {
   "cell_type": "code",
   "execution_count": 78,
   "id": "70dfadfd",
   "metadata": {},
   "outputs": [
    {
     "data": {
      "text/plain": [
       "{'brand': 'Fiat', 'modello': 'Panda', 'anno': 2000}"
      ]
     },
     "execution_count": 78,
     "metadata": {},
     "output_type": "execute_result"
    }
   ],
   "source": [
    "auto"
   ]
  },
  {
   "cell_type": "code",
   "execution_count": 79,
   "id": "b5647d17",
   "metadata": {},
   "outputs": [
    {
     "data": {
      "text/plain": [
       "{'Italia': 'Torino', 'Francia': 'Parigi'}"
      ]
     },
     "execution_count": 79,
     "metadata": {},
     "output_type": "execute_result"
    }
   ],
   "source": [
    "{'Italia': 'Roma', 'Francia': 'Parigi', 'Italia': 'Torino'}"
   ]
  },
  {
   "cell_type": "markdown",
   "id": "0be7b704",
   "metadata": {},
   "source": [
    "È possibile accedere agli elementi di un dizionario utilizzando le chiavi tra parentesi quadre."
   ]
  },
  {
   "cell_type": "code",
   "execution_count": 82,
   "id": "ccbc783c-b4a3-42d5-a0c3-2d5a1051bcbc",
   "metadata": {},
   "outputs": [
    {
     "data": {
      "text/plain": [
       "{'brand': 'Fiat', 'modello': 'Panda', 'anno': 2000, (2, 3): 4}"
      ]
     },
     "execution_count": 82,
     "metadata": {},
     "output_type": "execute_result"
    }
   ],
   "source": [
    "auto[ (2, 3) ] = 4\n",
    "auto"
   ]
  },
  {
   "cell_type": "markdown",
   "id": "bb43556d",
   "metadata": {},
   "source": [
    "### Metodi dei dizionari\n",
    "\n",
    "`dict.keys()` restituisce un oggetto contenente le chiavi del dizionario."
   ]
  },
  {
   "cell_type": "code",
   "execution_count": 83,
   "id": "c6c9e8a3",
   "metadata": {},
   "outputs": [
    {
     "data": {
      "text/plain": [
       "dict_keys(['Italia', 'Francia', 'Spagna'])"
      ]
     },
     "execution_count": 83,
     "metadata": {},
     "output_type": "execute_result"
    }
   ],
   "source": [
    "capitali.keys()"
   ]
  },
  {
   "cell_type": "markdown",
   "id": "44e9742d",
   "metadata": {},
   "source": [
    "`dict.values()` restituisce un oggetto contenente i valori del dizionario."
   ]
  },
  {
   "cell_type": "code",
   "execution_count": 84,
   "id": "3d5093d1",
   "metadata": {},
   "outputs": [
    {
     "data": {
      "text/plain": [
       "dict_values(['Roma', 'Parigi', 'Madrid'])"
      ]
     },
     "execution_count": 84,
     "metadata": {},
     "output_type": "execute_result"
    }
   ],
   "source": [
    "capitali.values()"
   ]
  },
  {
   "cell_type": "markdown",
   "id": "c1199bd2",
   "metadata": {},
   "source": [
    "`dict.items()` restituisce un oggetto contenente le tuple chiave-valore."
   ]
  },
  {
   "cell_type": "code",
   "execution_count": 86,
   "id": "21979315",
   "metadata": {},
   "outputs": [
    {
     "data": {
      "text/plain": [
       "[('Italia', 'Roma'), ('Francia', 'Parigi'), ('Spagna', 'Madrid')]"
      ]
     },
     "execution_count": 86,
     "metadata": {},
     "output_type": "execute_result"
    }
   ],
   "source": [
    "list(capitali.items())"
   ]
  },
  {
   "cell_type": "markdown",
   "id": "07a56768-5f1c-4ff9-a173-87eaaaadb80a",
   "metadata": {},
   "source": [
    "Un metodo rapido per creare un dizionario partendo da due liste della stessa lunghezza è utilizzare `zip`."
   ]
  },
  {
   "cell_type": "code",
   "execution_count": 87,
   "id": "0ec71c70",
   "metadata": {},
   "outputs": [
    {
     "data": {
      "text/plain": [
       "{'Italia': 'Roma', 'Francia': 'Parigi', 'Spagna': 'Madrid'}"
      ]
     },
     "execution_count": 87,
     "metadata": {},
     "output_type": "execute_result"
    }
   ],
   "source": [
    "paesi = ['Italia', 'Francia', 'Spagna']\n",
    "città = ['Roma', 'Parigi', 'Madrid']\n",
    "dict(zip(paesi, città))"
   ]
  },
  {
   "cell_type": "markdown",
   "id": "279e6655",
   "metadata": {},
   "source": [
    "## Moduli\n",
    "\n",
    "Un **modulo** Python contiene un insieme di funzioni raggruppate per utilizzo e significato che possono essere incluse nel nostro programma. Per avere accesso alle funzioni contenute all'interno di un modulo utilizziamo il comando `import module`. Una volta importato le funzioni del modulo possono essere chaimate \n",
    "tramite `module.func()`.\n",
    "\n",
    "## Modulo `os`\n",
    "\n",
    "Il modulo `os` fornisce la possibilità di intereagire con le funzionalità del sistema operativo su cui viene eseguito Python."
   ]
  },
  {
   "cell_type": "code",
   "execution_count": 1,
   "id": "facd74f8",
   "metadata": {},
   "outputs": [],
   "source": [
    "import os"
   ]
  },
  {
   "cell_type": "markdown",
   "id": "ea155c8d",
   "metadata": {},
   "source": [
    "`os.getcwd()` restituisce una stringa rappresentante la cartella di lavoro corrente."
   ]
  },
  {
   "cell_type": "code",
   "execution_count": 89,
   "id": "d364a6c7",
   "metadata": {},
   "outputs": [
    {
     "data": {
      "text/plain": [
       "'/home/giovanni/Documenti/Dottorato/Didattica/2024 - Statistica per Big Data Economico-Aziendali/stat4bigdata/Lezione 2'"
      ]
     },
     "execution_count": 89,
     "metadata": {},
     "output_type": "execute_result"
    }
   ],
   "source": [
    "os.getcwd()"
   ]
  },
  {
   "cell_type": "markdown",
   "id": "9877590e",
   "metadata": {},
   "source": [
    "`os.listdir(path='.')` restituisce una lista contenente i nomi delle voci presenti nel percorso indicato. Dove '.' indica la cartella corrente."
   ]
  },
  {
   "cell_type": "code",
   "execution_count": 90,
   "id": "04921138",
   "metadata": {},
   "outputs": [
    {
     "data": {
      "text/plain": [
       "['02-strutture-dati.ipynb', 'data', '.ipynb_checkpoints']"
      ]
     },
     "execution_count": 90,
     "metadata": {},
     "output_type": "execute_result"
    }
   ],
   "source": [
    "os.listdir('.')"
   ]
  },
  {
   "cell_type": "code",
   "execution_count": 91,
   "id": "09cb3741",
   "metadata": {},
   "outputs": [
    {
     "data": {
      "text/plain": [
       "['02-strutture-dati.ipynb', 'data', '.ipynb_checkpoints']"
      ]
     },
     "execution_count": 91,
     "metadata": {},
     "output_type": "execute_result"
    }
   ],
   "source": [
    "os.listdir(os.getcwd())"
   ]
  },
  {
   "cell_type": "code",
   "execution_count": 92,
   "id": "eafb97b5",
   "metadata": {},
   "outputs": [
    {
     "data": {
      "text/plain": [
       "['levitating.txt', 'billboard.json']"
      ]
     },
     "execution_count": 92,
     "metadata": {},
     "output_type": "execute_result"
    }
   ],
   "source": [
    "os.listdir('data')"
   ]
  },
  {
   "cell_type": "code",
   "execution_count": 3,
   "id": "3c4760db",
   "metadata": {},
   "outputs": [
    {
     "data": {
      "text/plain": [
       "['01-introduzione-a-python.ipynb', '.ipynb_checkpoints']"
      ]
     },
     "execution_count": 3,
     "metadata": {},
     "output_type": "execute_result"
    }
   ],
   "source": [
    "os.listdir('../Lezione 1/')"
   ]
  },
  {
   "cell_type": "markdown",
   "id": "c98c274f-c5f6-4c2c-91fa-92ce608c6c3a",
   "metadata": {},
   "source": [
    "Occorre sempre fornire o il percorso assoluto (dalla directory root) oppure il percorso relativo a partiredalla directory in cui ci si trova. "
   ]
  },
  {
   "cell_type": "code",
   "execution_count": 4,
   "id": "1024fa95",
   "metadata": {},
   "outputs": [
    {
     "ename": "FileNotFoundError",
     "evalue": "[Errno 2] No such file or directory: 'Lezione 1/'",
     "output_type": "error",
     "traceback": [
      "\u001b[0;31m---------------------------------------------------------------------------\u001b[0m",
      "\u001b[0;31mFileNotFoundError\u001b[0m                         Traceback (most recent call last)",
      "Cell \u001b[0;32mIn[4], line 1\u001b[0m\n\u001b[0;32m----> 1\u001b[0m os\u001b[38;5;241m.\u001b[39mlistdir(\u001b[38;5;124m'\u001b[39m\u001b[38;5;124mLezione 1/\u001b[39m\u001b[38;5;124m'\u001b[39m)\n",
      "\u001b[0;31mFileNotFoundError\u001b[0m: [Errno 2] No such file or directory: 'Lezione 1/'"
     ]
    }
   ],
   "source": [
    "os.listdir('Lezione 1/')"
   ]
  },
  {
   "cell_type": "markdown",
   "id": "dc2c757a",
   "metadata": {},
   "source": [
    "## `open(path, mode)`\n",
    "\n",
    "È spesso richiesto di interagire con i file presenti sul proprio computer. Per far ciò in Python possiamo usare la funzione integrata `open()` che apre un file e restituisce il corrispondente oggetto file."
   ]
  },
  {
   "cell_type": "code",
   "execution_count": 96,
   "id": "e57cb2c4",
   "metadata": {},
   "outputs": [],
   "source": [
    "file = open('data/levitating.txt')"
   ]
  },
  {
   "cell_type": "markdown",
   "id": "e32e05e2",
   "metadata": {},
   "source": [
    "Il metodo `read()` legge e restituisce tutto il file. \n",
    "\n",
    "Il metodo `readline()` legge e restituisce una linea del file di testo."
   ]
  },
  {
   "cell_type": "code",
   "execution_count": 97,
   "id": "6028975f",
   "metadata": {},
   "outputs": [
    {
     "data": {
      "text/plain": [
       "'If you wanna run away with me, I know a galaxy\\n'"
      ]
     },
     "execution_count": 97,
     "metadata": {},
     "output_type": "execute_result"
    }
   ],
   "source": [
    "file.readline()"
   ]
  },
  {
   "cell_type": "code",
   "execution_count": 98,
   "id": "cb552cdb",
   "metadata": {},
   "outputs": [
    {
     "data": {
      "text/plain": [
       "'And I can take you for a ride\\n'"
      ]
     },
     "execution_count": 98,
     "metadata": {},
     "output_type": "execute_result"
    }
   ],
   "source": [
    "file.readline()"
   ]
  },
  {
   "cell_type": "code",
   "execution_count": 99,
   "id": "29fbd971",
   "metadata": {},
   "outputs": [
    {
     "data": {
      "text/plain": [
       "\"I had a premonition that we fell into a rhythm\\nWhere the music don't stop for life\\nGlitter in the sky, glitter in my eyes\\nShining just the way I like\\nIf you're feeling like you need a little bit of company\\nYou met me at the perfect time\\nYou want me, I want you, baby\\nMy sugarboo, I'm levitating\\nThe Milky Way, we're renegading\\nYeah, yeah, yeah, yeah, yeah\\nI got you, moonlight, you're my starlight\\nI need you all night, come on, dance with me\\nI'm levitating\\nYou, moonlight, you're my starlight (you're the moonlight)\\nI need you all night, come on, dance with me\\nI'm levitating\\nI believe that you're for me, I feel it in our energy\\nI see us written in the stars\\nWe can go wherever, so let's do it now or never, baby\\nNothing's ever, ever too far\\nGlitter in the sky, glitter in our eyes\\nShining just the way we are\\nI feel like we're forever, every time we get together\\nBut whatever, let's get lost on Mars\\nYou want me, I want you, baby\\nMy sugarboo, I'm levitating\\nThe Milky Way, we're renegading\\nYeah, yeah, yeah, yeah, yeah\\nI got you, moonlight, you're my starlight\\nI need you all night, come on, dance with me\\nI'm levitating\\nYou, moonlight, you're my starlight (you're the moonlight)\\nI need you all night, come on, dance with me\\nI'm levitating (whoo)\\nYou can fly away with me tonight\\nYou can fly away with me tonight\\nBaby, let me take you for a ride\\nYeah, yeah, yeah, yeah, yeah\\nI'm levitating (whoo)\\nYou can fly away with me tonight\\nYou can fly away with me tonight\\nBaby, let me take you for a ride\\nYeah, yeah, yeah, yeah, yeah (whoo)\\nMy love is like a rocket, watch it blast off\\nAnd I'm feeling so electric, dance my arse off\\nAnd even if I wanted to, I can't stop\\nYeah, yeah, yeah, yeah, yeah\\nMy love is like a rocket, watch it blast off\\nAnd I'm feeling so electric, dance my arse off\\nAnd even if I wanted to, I can't stop\\nYeah, yeah, yeah, yeah, yeah\\nYou want me, I want you, baby\\nMy sugarboo, I'm levitating\\nThe Milky Way, we're renegading\\nI got you (yeah), moonlight, you're my starlight\\nI need you all night (all night), come on, dance with me\\nI'm levitating (whoo)\\nYou can fly away with me tonight (tonight)\\nYou can fly away with me tonight\\nBaby, let me take you for a ride\\nYeah, yeah, yeah, yeah, yeah (take you for a ride)\\nI'm levitating (whoo)\\nYou can fly away with me tonight (tonight)\\nYou can fly away with me tonight\\nBaby, let me take you for a ride\\nYeah, yeah, yeah, yeah, yeah (let me take you for a ride)\\nI got you, moonlight, you're my starlight (you are my starlight)\\nI need you all night, come on, dance with me (come on, dance with me, baby)\\nI'm levitating\\nYou, moonlight, you're my starlight (you're the moonlight)\\nI need you all night, come on, dance with me\\nI'm levitating\""
      ]
     },
     "execution_count": 99,
     "metadata": {},
     "output_type": "execute_result"
    }
   ],
   "source": [
    "file.read()"
   ]
  },
  {
   "cell_type": "markdown",
   "id": "f4888cc0-d7e5-42b7-8b7c-7730d8f8a7d0",
   "metadata": {},
   "source": [
    "La funzione `read` esaurisce il file, chiamandola una seconda volta si ottiene una stringa vuota."
   ]
  },
  {
   "cell_type": "code",
   "execution_count": 100,
   "id": "dac7f2a6",
   "metadata": {},
   "outputs": [
    {
     "data": {
      "text/plain": [
       "''"
      ]
     },
     "execution_count": 100,
     "metadata": {},
     "output_type": "execute_result"
    }
   ],
   "source": [
    "file.read()"
   ]
  },
  {
   "cell_type": "markdown",
   "id": "aee321ac",
   "metadata": {},
   "source": [
    "Il metodo `close()` chiude il file."
   ]
  },
  {
   "cell_type": "code",
   "execution_count": 101,
   "id": "8599e2c4",
   "metadata": {},
   "outputs": [],
   "source": [
    "file.close()"
   ]
  },
  {
   "cell_type": "code",
   "execution_count": 102,
   "id": "c6273682",
   "metadata": {},
   "outputs": [
    {
     "ename": "ValueError",
     "evalue": "I/O operation on closed file.",
     "output_type": "error",
     "traceback": [
      "\u001b[0;31m---------------------------------------------------------------------------\u001b[0m",
      "\u001b[0;31mValueError\u001b[0m                                Traceback (most recent call last)",
      "Cell \u001b[0;32mIn[102], line 1\u001b[0m\n\u001b[0;32m----> 1\u001b[0m file\u001b[38;5;241m.\u001b[39mread()\n",
      "\u001b[0;31mValueError\u001b[0m: I/O operation on closed file."
     ]
    }
   ],
   "source": [
    "file.read()"
   ]
  },
  {
   "cell_type": "markdown",
   "id": "16d46e64-eab6-4b1a-a1c0-cb820feb9f81",
   "metadata": {},
   "source": [
    "È importante ricordarsi di chiudere i file una volta finito di usarli. Per ovviare a questo fatto si può usare il comando `with`."
   ]
  },
  {
   "cell_type": "markdown",
   "id": "c828117f",
   "metadata": {},
   "source": [
    "Il comando `with` è utilizzato per racchiudere l'esecuzione di un blocco di codice e si assicura che non vengano lasciate inavvertitamente risorse aperte."
   ]
  },
  {
   "cell_type": "code",
   "execution_count": 103,
   "id": "8d096230",
   "metadata": {},
   "outputs": [
    {
     "name": "stdout",
     "output_type": "stream",
     "text": [
      "If you wanna run away with me, I know a galaxy\n",
      "\n",
      "ciao, sono dentro al with\n",
      "fuori dal blocco with\n"
     ]
    },
    {
     "ename": "ValueError",
     "evalue": "I/O operation on closed file.",
     "output_type": "error",
     "traceback": [
      "\u001b[0;31m---------------------------------------------------------------------------\u001b[0m",
      "\u001b[0;31mValueError\u001b[0m                                Traceback (most recent call last)",
      "Cell \u001b[0;32mIn[103], line 7\u001b[0m\n\u001b[1;32m      4\u001b[0m     \u001b[38;5;28mprint\u001b[39m(\u001b[38;5;124m'\u001b[39m\u001b[38;5;124mciao, sono dentro al with\u001b[39m\u001b[38;5;124m'\u001b[39m)\n\u001b[1;32m      6\u001b[0m \u001b[38;5;28mprint\u001b[39m(\u001b[38;5;124m'\u001b[39m\u001b[38;5;124mfuori dal blocco with\u001b[39m\u001b[38;5;124m'\u001b[39m)\n\u001b[0;32m----> 7\u001b[0m file\u001b[38;5;241m.\u001b[39mreadline()\n",
      "\u001b[0;31mValueError\u001b[0m: I/O operation on closed file."
     ]
    }
   ],
   "source": [
    "with open('data/levitating.txt', 'r') as file:\n",
    "    text = file.readline()\n",
    "    print(text)\n",
    "    print('ciao, sono dentro al with')\n",
    "\n",
    "print('fuori dal blocco with')\n",
    "file.readline()"
   ]
  },
  {
   "cell_type": "markdown",
   "id": "c81fe6a1-4910-4a2e-bdc7-5c322dff7d44",
   "metadata": {},
   "source": [
    "Tuttavia avendo assegnato il valore di una linea alla variabile `text` questa è disponibile anche una volta che il file è stato chiuso."
   ]
  },
  {
   "cell_type": "code",
   "execution_count": 104,
   "id": "ffcc2cd3",
   "metadata": {},
   "outputs": [
    {
     "data": {
      "text/plain": [
       "'If you wanna run away with me, I know a galaxy\\n'"
      ]
     },
     "execution_count": 104,
     "metadata": {},
     "output_type": "execute_result"
    }
   ],
   "source": [
    "text"
   ]
  },
  {
   "cell_type": "code",
   "execution_count": 105,
   "id": "a99e82d1",
   "metadata": {},
   "outputs": [
    {
     "ename": "ValueError",
     "evalue": "I/O operation on closed file.",
     "output_type": "error",
     "traceback": [
      "\u001b[0;31m---------------------------------------------------------------------------\u001b[0m",
      "\u001b[0;31mValueError\u001b[0m                                Traceback (most recent call last)",
      "Cell \u001b[0;32mIn[105], line 1\u001b[0m\n\u001b[0;32m----> 1\u001b[0m file\u001b[38;5;241m.\u001b[39mread()\n",
      "\u001b[0;31mValueError\u001b[0m: I/O operation on closed file."
     ]
    }
   ],
   "source": [
    "file.read()"
   ]
  },
  {
   "cell_type": "markdown",
   "id": "8aaedbe1",
   "metadata": {},
   "source": [
    "Il metodo `write()` si occupa di scrivere gli oggetti forniti come parametri sul file di riferimento. Il metodo `writelines()` scrive, invece, una lista di linee sul file; i separatori di linea (`\\n`) non sono aggiunti automaticamente, dunque è consigliato inserirne uno alla fine di ogni linea."
   ]
  },
  {
   "cell_type": "code",
   "execution_count": 106,
   "id": "ab565763-96ef-4cfc-8751-16e6f314ea28",
   "metadata": {},
   "outputs": [
    {
     "name": "stdout",
     "output_type": "stream",
     "text": [
      "['levitating.txt', 'billboard.json']\n",
      "['esempio.txt', 'levitating.txt', 'billboard.json']\n"
     ]
    }
   ],
   "source": [
    "# w sta per write, se il file non esiste viene creato\n",
    "print(os.listdir('data'))\n",
    "with open('data/esempio.txt', 'w') as file:\n",
    "    file.write(\"Prima riga\\n\")\n",
    "    file.writelines([\"Seconda linea\\n\", \"Terza linea\\n\"])\n",
    "print(os.listdir('data'))"
   ]
  },
  {
   "cell_type": "code",
   "execution_count": 107,
   "id": "d1a47ab9-15f0-4e83-b99a-2f990e3f542c",
   "metadata": {},
   "outputs": [
    {
     "name": "stdout",
     "output_type": "stream",
     "text": [
      "['esempio.txt', 'levitating.txt', '.ipynb_checkpoints', 'billboard.json']\n",
      "\n",
      "Prima riga\n",
      "Seconda linea\n",
      "Terza linea\n",
      "\n"
     ]
    }
   ],
   "source": [
    "# r sta per read, il file deve già esistere\n",
    "print(os.listdir('data'))\n",
    "print()\n",
    "with open('data/esempio.txt', 'r') as file:\n",
    "    print(file.read())"
   ]
  },
  {
   "cell_type": "markdown",
   "id": "2948e457-995b-47c5-b203-b2cd418eca9a",
   "metadata": {},
   "source": [
    "# Esercizi"
   ]
  },
  {
   "cell_type": "markdown",
   "id": "c6b1d96d-e825-405c-8559-7f4e0a2f41a1",
   "metadata": {},
   "source": [
    "Scrivi un programma che esegua le seguenti istruzioni:\n",
    "- Crea una `lista` che contenga i primi dieci numeri interi a partire da `1`.\n",
    "- Copia `lista` in `nuova_lista` ed agggiungi `11` alla fine .\n",
    "- Assegna `-1` al secondo elemento di `nuova_lista`.\n",
    "- Assegna a `selezione` gli elementi di `nuova_lista` dal terzo al settimo.\n",
    "- Aggiunge a `selezione` il numero `13` alla fine.\n",
    "- Stampa `lista`, `nuova_lista` e `selezione` e i loro `id`."
   ]
  },
  {
   "cell_type": "code",
   "execution_count": 109,
   "id": "7fb55af2-b3f6-4be9-aae2-7b4fda45c8d3",
   "metadata": {},
   "outputs": [
    {
     "data": {
      "text/plain": [
       "[1, 2, 3, 4, 5, 6, 7, 8, 9, 10]"
      ]
     },
     "execution_count": 109,
     "metadata": {},
     "output_type": "execute_result"
    }
   ],
   "source": [
    "lista = [1, 2, 3, 4, 5, 6, 7, 8, 9, 10]\n",
    "lista"
   ]
  },
  {
   "cell_type": "code",
   "execution_count": 110,
   "id": "b3ab4253-9f54-43f1-bcf2-5575b5b4da7b",
   "metadata": {},
   "outputs": [
    {
     "data": {
      "text/plain": [
       "[1, 2, 3, 4, 5, 6, 7, 8, 9, 10, 11]"
      ]
     },
     "execution_count": 110,
     "metadata": {},
     "output_type": "execute_result"
    }
   ],
   "source": [
    "nuova_lista = lista\n",
    "nuova_lista.append(11)\n",
    "nuova_lista"
   ]
  },
  {
   "cell_type": "code",
   "execution_count": 111,
   "id": "bd907908-4ce9-46b3-96c3-d5512291985c",
   "metadata": {},
   "outputs": [
    {
     "data": {
      "text/plain": [
       "[1, -1, 3, 4, 5, 6, 7, 8, 9, 10, 11]"
      ]
     },
     "execution_count": 111,
     "metadata": {},
     "output_type": "execute_result"
    }
   ],
   "source": [
    "nuova_lista[1] = -1\n",
    "nuova_lista"
   ]
  },
  {
   "cell_type": "code",
   "execution_count": 114,
   "id": "89f69103-ae4b-4dd8-b090-b5caccc0a336",
   "metadata": {},
   "outputs": [
    {
     "data": {
      "text/plain": [
       "[3, 4, 5, 6, 7]"
      ]
     },
     "execution_count": 114,
     "metadata": {},
     "output_type": "execute_result"
    }
   ],
   "source": [
    "selezione = nuova_lista[2:7]\n",
    "selezione"
   ]
  },
  {
   "cell_type": "code",
   "execution_count": 115,
   "id": "dbe21898-31a3-4344-aa6a-8110ac3be74d",
   "metadata": {},
   "outputs": [
    {
     "data": {
      "text/plain": [
       "[3, 4, 5, 6, 7, 13]"
      ]
     },
     "execution_count": 115,
     "metadata": {},
     "output_type": "execute_result"
    }
   ],
   "source": [
    "selezione.append(13)\n",
    "selezione"
   ]
  },
  {
   "cell_type": "code",
   "execution_count": 116,
   "id": "d509d35b-9525-4a25-abe8-742d6f532ee0",
   "metadata": {},
   "outputs": [
    {
     "name": "stdout",
     "output_type": "stream",
     "text": [
      "[1, -1, 3, 4, 5, 6, 7, 8, 9, 10, 11] 132314298482432\n",
      "[1, -1, 3, 4, 5, 6, 7, 8, 9, 10, 11] 132314298482432\n",
      "[3, 4, 5, 6, 7, 13] 132314299150912\n"
     ]
    }
   ],
   "source": [
    "print(lista, id(lista))\n",
    "print(nuova_lista, id(nuova_lista))\n",
    "print(selezione, id(selezione))"
   ]
  },
  {
   "cell_type": "markdown",
   "id": "7cc15d16-0ba5-48be-95d6-40047fa41f97",
   "metadata": {},
   "source": [
    "Generare una lista contenente soltanto i nomi delle capitali dal seguente dizionario: `{'Italia': 'Roma', 'Francia': 'Parigi', 'Spagna': 'Madrid'}`"
   ]
  },
  {
   "cell_type": "code",
   "execution_count": null,
   "id": "9a3f0444",
   "metadata": {},
   "outputs": [],
   "source": []
  },
  {
   "cell_type": "markdown",
   "id": "dab947d7-7e34-4cad-97fb-8d2bdc391051",
   "metadata": {},
   "source": [
    "Definire due variabili che contengano gli insiemi dati da:\n",
    "- I capoluoghi di Provincia che iniziano per B: (Bari, Belluno, Benevento, Bergamo, Biella, Bologna, Bolzano, Brescia, Brindisi).\n",
    "- I capoluoghi di Regione.\n",
    "\n",
    "Trovare e stampare:\n",
    "- L'intersezione dei due insiemi (Capoluoghi di Regione che iniziano per B)\n",
    "- La differenza del primo meno il secondo (Capoluoghi di Provincia che iniziano per B e non sono Capoluoghi di Regione)\n",
    "- La differenza del secondo meno il primo (Capoluoghi di Regione che non iniziano per B)"
   ]
  },
  {
   "cell_type": "code",
   "execution_count": null,
   "id": "e3622fa6-fa59-49be-b295-05ecc1c5aee6",
   "metadata": {},
   "outputs": [],
   "source": []
  },
  {
   "cell_type": "markdown",
   "id": "0959bc40-779b-4b60-be15-667cb39e2274",
   "metadata": {},
   "source": [
    "Generare:\n",
    "\n",
    "- una lista di tuple ognuna del tipo: `(nome_film, numero_film, numero_libro_tratto)`.\n",
    "- un dizionario con chiavi `numero_film` e valori `nome_film`.\n",
    "\n",
    "Per i film della saga degli Hunger Games."
   ]
  },
  {
   "cell_type": "code",
   "execution_count": null,
   "id": "3af6ae89-5e41-4900-921d-9c59b5f4b456",
   "metadata": {},
   "outputs": [],
   "source": []
  },
  {
   "cell_type": "markdown",
   "id": "b0a453b4-a53f-4b9c-8181-1f1c46bc3713",
   "metadata": {},
   "source": [
    "Scrivere un programma che \n",
    "- crea un file dal nome `incipit.txt`.\n",
    "- scrive sul file le prima terzina dell'Inferno (un verso per riga).\n",
    "- legge le righe del file appena scritto una alla volta e le aggiunge a una lista vuota. "
   ]
  },
  {
   "cell_type": "code",
   "execution_count": null,
   "id": "a5be34cd-ef8c-41fe-9873-91a6c25cb82c",
   "metadata": {},
   "outputs": [],
   "source": []
  }
 ],
 "metadata": {
  "kernelspec": {
   "display_name": "Python 3 (ipykernel)",
   "language": "python",
   "name": "python3"
  },
  "language_info": {
   "codemirror_mode": {
    "name": "ipython",
    "version": 3
   },
   "file_extension": ".py",
   "mimetype": "text/x-python",
   "name": "python",
   "nbconvert_exporter": "python",
   "pygments_lexer": "ipython3",
   "version": "3.12.2"
  }
 },
 "nbformat": 4,
 "nbformat_minor": 5
}
