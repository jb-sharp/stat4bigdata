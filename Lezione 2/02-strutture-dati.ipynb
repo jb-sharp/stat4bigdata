{
 "cells": [
  {
   "cell_type": "markdown",
   "id": "a87e2781",
   "metadata": {},
   "source": [
    "# Strutture Dati\n",
    "\n",
    "Una **struttura dati** è un formato specializzato per organizzare, processare, recuperare e memorizzare i dati. Esistono molteplici strutture dati, sia semplici che complesse, progettate per organizzare i dati in modo tale da soddisfare particolari requisiti. Le strutture dati sono utili per accedere e lavorare con i dati di cui si ha bisogno nella maniera più appropriata.\n",
    "\n",
    "## Liste\n",
    "\n",
    "Le **liste** sono utilizzate per memorizzare contemporanemanete molteplici elementi in una singolare variabile; vengono definite utilizzato le parentesi quadre, `[...]`. Per creare una lista vuota basta usare `[]`."
   ]
  },
  {
   "cell_type": "code",
   "execution_count": null,
   "id": "f3d12130-a1da-48dd-8ae7-67b8a0e4f3f8",
   "metadata": {},
   "outputs": [],
   "source": [
    "vuota = []\n",
    "vuota"
   ]
  },
  {
   "cell_type": "code",
   "execution_count": null,
   "id": "48931d17",
   "metadata": {},
   "outputs": [],
   "source": [
    "a = 'arancia'\n",
    "b = 'banana'\n",
    "c = 'ciliegia'"
   ]
  },
  {
   "cell_type": "code",
   "execution_count": null,
   "id": "dc28d13c",
   "metadata": {},
   "outputs": [],
   "source": [
    "frutta = ['arancia', 'banana', 'ciliegia']"
   ]
  },
  {
   "cell_type": "code",
   "execution_count": null,
   "id": "32a73454",
   "metadata": {},
   "outputs": [],
   "source": [
    "frutta"
   ]
  },
  {
   "cell_type": "code",
   "execution_count": null,
   "id": "5df576c7",
   "metadata": {},
   "outputs": [],
   "source": [
    "type(frutta)"
   ]
  },
  {
   "cell_type": "markdown",
   "id": "181da9a0",
   "metadata": {},
   "source": [
    "Una lista può anche contenere differenti tipi di dato."
   ]
  },
  {
   "cell_type": "code",
   "execution_count": null,
   "id": "3d586f1d",
   "metadata": {},
   "outputs": [],
   "source": [
    "mix = ['ciao', 200, [True, 0.2]]"
   ]
  },
  {
   "cell_type": "code",
   "execution_count": null,
   "id": "46947048",
   "metadata": {},
   "outputs": [],
   "source": [
    "mix"
   ]
  },
  {
   "cell_type": "markdown",
   "id": "21d86e3c",
   "metadata": {},
   "source": [
    "Come gli altri tipi sequenziali, ad esempio le stringhe, anche le liste possono essere soggette ad operazioni di indexing e slicing."
   ]
  },
  {
   "cell_type": "code",
   "execution_count": null,
   "id": "1448680a",
   "metadata": {},
   "outputs": [],
   "source": [
    "frutta[0]"
   ]
  },
  {
   "cell_type": "code",
   "execution_count": null,
   "id": "ea18af70",
   "metadata": {},
   "outputs": [],
   "source": [
    "frutta[1:]"
   ]
  },
  {
   "cell_type": "markdown",
   "id": "a34c9213",
   "metadata": {},
   "source": [
    "A differenza delle stringhe, che sono *immutabili*, le liste sono un tipo *mutabili*, dunque è possibile modificarne il contenuto."
   ]
  },
  {
   "cell_type": "code",
   "execution_count": null,
   "id": "1088f47b",
   "metadata": {},
   "outputs": [],
   "source": [
    "frutta[0] = 'ananas'\n",
    "frutta"
   ]
  },
  {
   "cell_type": "code",
   "execution_count": null,
   "id": "cd6efc1d",
   "metadata": {},
   "outputs": [],
   "source": [
    "'ananas'[0] = 'c'"
   ]
  },
  {
   "cell_type": "code",
   "execution_count": null,
   "id": "f36f7dca",
   "metadata": {},
   "outputs": [],
   "source": [
    "'ananas'.replace('s', 'c')"
   ]
  },
  {
   "cell_type": "markdown",
   "id": "660231dd",
   "metadata": {},
   "source": [
    "È possibile utilizzare anche la direttiva `list()` per definire una lista."
   ]
  },
  {
   "cell_type": "code",
   "execution_count": null,
   "id": "1d481693",
   "metadata": {},
   "outputs": [],
   "source": [
    "list([0, 1, 2, 3])"
   ]
  },
  {
   "cell_type": "markdown",
   "id": "4f033fa5-a361-41e1-92d4-7601751d62c7",
   "metadata": {},
   "source": [
    "Quando usata su una stringa produce la lista dei caratteri della stringa:"
   ]
  },
  {
   "cell_type": "code",
   "execution_count": null,
   "id": "27d92e43",
   "metadata": {},
   "outputs": [],
   "source": [
    "list('ananas')"
   ]
  },
  {
   "cell_type": "markdown",
   "id": "dbe37455",
   "metadata": {},
   "source": [
    "### `len(object)`\n",
    "\n",
    "Il metodo `len()` resituisce la lunghezza (il numero di elementi) di un oggetto. L'argomento può essere una sequenza (ad esempio una stringa o una lista) oppure una collezione (ad esempio un dizionario o un insieme)."
   ]
  },
  {
   "cell_type": "code",
   "execution_count": null,
   "id": "5ed3ef67",
   "metadata": {},
   "outputs": [],
   "source": [
    "len(frutta)"
   ]
  },
  {
   "cell_type": "code",
   "execution_count": null,
   "id": "231ce067",
   "metadata": {},
   "outputs": [],
   "source": [
    "len('ananas')"
   ]
  },
  {
   "cell_type": "code",
   "execution_count": null,
   "id": "682a493d",
   "metadata": {},
   "outputs": [],
   "source": [
    "len(4)"
   ]
  },
  {
   "cell_type": "markdown",
   "id": "b245bde6",
   "metadata": {},
   "source": [
    "### Metodi di `list`\n",
    "\n",
    "Le liste sono ordinate, ovvero gli elementi hanno un ordine definito, e tale ordine non viene cambiato. Nel caso in cui vengano aggiunti nuovi elementi ad una lista, questi verranno piazzati alla fine della lista stessa.\n",
    "\n",
    "`list.append(x)` aggiunge un elemento alla fine della lista."
   ]
  },
  {
   "cell_type": "code",
   "execution_count": null,
   "id": "975830e5",
   "metadata": {},
   "outputs": [],
   "source": [
    "frutta.append('pesca')"
   ]
  },
  {
   "cell_type": "code",
   "execution_count": null,
   "id": "4b9dc022",
   "metadata": {},
   "outputs": [],
   "source": [
    "frutta"
   ]
  },
  {
   "cell_type": "markdown",
   "id": "f4048473",
   "metadata": {},
   "source": [
    "`list.pop(i)` rimuove l'elemento della lista nella posizione indicata e lo restituisce. Se nessun indice viene indicato, rimuove e restituisce l'ultimo elemento nella lista."
   ]
  },
  {
   "cell_type": "code",
   "execution_count": null,
   "id": "2579342a",
   "metadata": {},
   "outputs": [],
   "source": [
    "frutta.pop(1)"
   ]
  },
  {
   "cell_type": "code",
   "execution_count": null,
   "id": "522ebd12",
   "metadata": {},
   "outputs": [],
   "source": [
    "frutta"
   ]
  },
  {
   "cell_type": "markdown",
   "id": "1d385688-93f7-41c0-82c9-b03b41642f0c",
   "metadata": {},
   "source": [
    "Mentre `list.append(x)` aggiunge l'elemento ala fine della lista, `list.insert(i, x)` lo aggiunge in posizione i."
   ]
  },
  {
   "cell_type": "code",
   "execution_count": null,
   "id": "4ac43434",
   "metadata": {},
   "outputs": [],
   "source": [
    "frutta.insert(1, 'banana')"
   ]
  },
  {
   "cell_type": "code",
   "execution_count": null,
   "id": "4d3fad86",
   "metadata": {},
   "outputs": [],
   "source": [
    "frutta"
   ]
  },
  {
   "cell_type": "markdown",
   "id": "fe2a6fd1",
   "metadata": {},
   "source": [
    "## Tuple\n",
    "\n",
    "Le **tuple** sono utilizzate per memorizzare più elementi in una singola variabile. Sono definite da parentesi tonde, `(...)`, e i loro elementi sono ordinati, immutabili e consentono duplicati."
   ]
  },
  {
   "cell_type": "code",
   "execution_count": null,
   "id": "00e48584",
   "metadata": {},
   "outputs": [],
   "source": [
    "medaglie = ('oro', 'argento', 'bronzo')"
   ]
  },
  {
   "cell_type": "code",
   "execution_count": null,
   "id": "12e77d65",
   "metadata": {},
   "outputs": [],
   "source": [
    "medaglie"
   ]
  },
  {
   "cell_type": "code",
   "execution_count": null,
   "id": "9ecad6f6",
   "metadata": {},
   "outputs": [],
   "source": [
    "type(medaglie)"
   ]
  },
  {
   "cell_type": "code",
   "execution_count": null,
   "id": "0f0dc9b6",
   "metadata": {},
   "outputs": [],
   "source": [
    "mix = (2, 'ciao', (True, 0.3))"
   ]
  },
  {
   "cell_type": "code",
   "execution_count": null,
   "id": "843ae753",
   "metadata": {},
   "outputs": [],
   "source": [
    "mix"
   ]
  },
  {
   "cell_type": "markdown",
   "id": "554cf8fb",
   "metadata": {},
   "source": [
    "È possibile anche utilizzare la funzione `tuple()` per definire una tupla."
   ]
  },
  {
   "cell_type": "code",
   "execution_count": null,
   "id": "0c8c9b47",
   "metadata": {},
   "outputs": [],
   "source": [
    "tuple(('oro', 'argento', 'bronzo'))"
   ]
  },
  {
   "cell_type": "markdown",
   "id": "a4607988",
   "metadata": {},
   "source": [
    "Anche se le tuple sembrano simili alle liste, in realtà sono utilizzate in modi e per scopi differenti. Le tuple sono immutabili e di solito contengono sequenze eterogenee di elementi a cui si accede tramite operazioni di *unpacking* e *indexing*. Le liste sono mutabili, i loro elementi sono di solito omogenei e vi si accede in maniera iterativa."
   ]
  },
  {
   "cell_type": "code",
   "execution_count": null,
   "id": "7499ba21",
   "metadata": {},
   "outputs": [],
   "source": [
    "medaglie[0]"
   ]
  },
  {
   "cell_type": "code",
   "execution_count": null,
   "id": "aeff0da7",
   "metadata": {},
   "outputs": [],
   "source": [
    "medaglie[1:]"
   ]
  },
  {
   "cell_type": "code",
   "execution_count": null,
   "id": "b4356e9c-6d2d-42c2-b038-5a66ef7ad967",
   "metadata": {},
   "outputs": [],
   "source": [
    "medaglie[0] = \"legno\""
   ]
  },
  {
   "cell_type": "markdown",
   "id": "93b289a7-d74c-4b3c-a4d5-518299ae5edd",
   "metadata": {},
   "source": [
    "Di default se si assegnano pià valori ad una variabile ad essa viene asseganta la tupla contenente i valori specificati."
   ]
  },
  {
   "cell_type": "code",
   "execution_count": null,
   "id": "29dd8ed8",
   "metadata": {},
   "outputs": [],
   "source": [
    "brand = 'Apple', 'Samsung', 'LG'"
   ]
  },
  {
   "cell_type": "code",
   "execution_count": null,
   "id": "6c501857",
   "metadata": {},
   "outputs": [],
   "source": [
    "brand"
   ]
  },
  {
   "cell_type": "markdown",
   "id": "e3f41d74-8e5d-4ea7-a373-9aeffc58cdd7",
   "metadata": {},
   "source": [
    "Al contrario assegnado una tupla a più variabili di possono *spacchettare* i valori che essa contiene."
   ]
  },
  {
   "cell_type": "code",
   "execution_count": null,
   "id": "d480b82d",
   "metadata": {},
   "outputs": [],
   "source": [
    "apple, samsung, lg = brand"
   ]
  },
  {
   "cell_type": "code",
   "execution_count": null,
   "id": "b1bd0e57",
   "metadata": {},
   "outputs": [],
   "source": [
    "apple"
   ]
  },
  {
   "cell_type": "markdown",
   "id": "5af1798b",
   "metadata": {},
   "source": [
    "### `zip(lista_1, ..., lista_n)`\n",
    "\n",
    "La funzione integrata `zip()` itera parallelamente su più liste (che sono oggetti *iterabili*), producendo tuple aventi un elemento preso da ognuna delle liste."
   ]
  },
  {
   "cell_type": "code",
   "execution_count": null,
   "id": "a47ed5d8",
   "metadata": {},
   "outputs": [],
   "source": [
    "medaglie = ['oro', 'argento', 'bronzo']\n",
    "piazzamenti = [1, 2, 3]"
   ]
  },
  {
   "cell_type": "markdown",
   "id": "b51075ec-c8e5-44ba-aeb0-b1d3ad77b0ff",
   "metadata": {},
   "source": [
    "`zip` non restituisce direttamente una lista ma un oggetto di tipo zip. Per rendere il risultato una lista si può usare la direttiva `list()`."
   ]
  },
  {
   "cell_type": "code",
   "execution_count": null,
   "id": "2b1560ff-51eb-44cd-8272-263fd575cf40",
   "metadata": {},
   "outputs": [],
   "source": [
    "type(zip(medaglie, piazzamenti))"
   ]
  },
  {
   "cell_type": "code",
   "execution_count": null,
   "id": "e35a6ece",
   "metadata": {},
   "outputs": [],
   "source": [
    "list(zip(medaglie, piazzamenti))"
   ]
  },
  {
   "cell_type": "code",
   "execution_count": null,
   "id": "bca039f6",
   "metadata": {},
   "outputs": [],
   "source": [
    "piazzamenti = [1, 2, 3, 4]\n",
    "premio = [1000, 500, 200]\n",
    "list(zip(medaglie, piazzamenti, premio))"
   ]
  },
  {
   "cell_type": "markdown",
   "id": "1b9e41dd",
   "metadata": {},
   "source": [
    "## Insiemi\n",
    "\n",
    "Un **insieme** (*set*) è una struttura dati non-ordinata, non-indicizzata e immutabile che non accetta duplicati. Gli utilizzi più comuni riguardano il cosiddetto test di appartenenza e l'eliminazione di elementi duplicati. Gli insiemi supportano operazioni matematiche, come l'unione, l'intersezione, la differenza e la differenza simmetrica. Gli insiemi si definiscono con le parentesi graffe, `{...}`."
   ]
  },
  {
   "cell_type": "code",
   "execution_count": null,
   "id": "770dab2c",
   "metadata": {},
   "outputs": [],
   "source": [
    "frutta = {'arancia', 'banana', 'ciliegia', 'arancia'}"
   ]
  },
  {
   "cell_type": "code",
   "execution_count": null,
   "id": "94d4a0e5",
   "metadata": {},
   "outputs": [],
   "source": [
    "frutta"
   ]
  },
  {
   "cell_type": "code",
   "execution_count": null,
   "id": "18c7af29",
   "metadata": {},
   "outputs": [],
   "source": [
    "frutta[0]"
   ]
  },
  {
   "cell_type": "markdown",
   "id": "3cb3d6ca",
   "metadata": {},
   "source": [
    "È possibile definire un insieme utilizzando la funzione `set()`."
   ]
  },
  {
   "cell_type": "code",
   "execution_count": null,
   "id": "12f19f9a",
   "metadata": {},
   "outputs": [],
   "source": [
    "set(('arancia', 'banana', 'ciliegia', 'arancia'))"
   ]
  },
  {
   "cell_type": "code",
   "execution_count": null,
   "id": "a030965f",
   "metadata": {},
   "outputs": [],
   "source": [
    "['arancia', 'banana', 'ciliegia', 'arancia']"
   ]
  },
  {
   "cell_type": "code",
   "execution_count": null,
   "id": "682b5f00",
   "metadata": {},
   "outputs": [],
   "source": [
    "('arancia', 'banana', 'ciliegia', 'arancia')"
   ]
  },
  {
   "cell_type": "markdown",
   "id": "1bf505e2",
   "metadata": {},
   "source": [
    "### Test di Appartenenza\n",
    "\n",
    "Un **test di appartenenza** controlla se uno specifico elemento sia contenuto all'interno di una sequenza, come stringhe, liste, tuple o insiemi. Uno dei principali vantaggi nell'utilizzare gli insiemi in Python è che essi sono ottimizzati per questa tipologia di test.\n",
    "\n",
    "L'operatore `in` funziona con tipi sequenziali: è utilizzato per controllare se un elemento è presente in un oggetto. L'operatore restituisce un valore booleano: `True` se l'elemento viene trovato, `False` in caso contrario."
   ]
  },
  {
   "cell_type": "code",
   "execution_count": null,
   "id": "93bd88fe",
   "metadata": {},
   "outputs": [],
   "source": [
    "'arancia' in frutta"
   ]
  },
  {
   "cell_type": "code",
   "execution_count": null,
   "id": "18a82b17",
   "metadata": {},
   "outputs": [],
   "source": [
    "'pesca' in frutta"
   ]
  },
  {
   "cell_type": "code",
   "execution_count": null,
   "id": "1a18ceb2",
   "metadata": {},
   "outputs": [],
   "source": [
    "'arancia' in ['arancia', 'banana', 'ciliegia', 'arancia']"
   ]
  },
  {
   "cell_type": "code",
   "execution_count": null,
   "id": "d100d199",
   "metadata": {},
   "outputs": [],
   "source": [
    "'pesca' in ('arancia', 'banana', 'ciliegia', 'arancia')"
   ]
  },
  {
   "cell_type": "code",
   "execution_count": null,
   "id": "7a8e66d4",
   "metadata": {},
   "outputs": [],
   "source": [
    "'b' in 'ciao'"
   ]
  },
  {
   "cell_type": "markdown",
   "id": "dfd340d9",
   "metadata": {},
   "source": [
    "### Operazioni sugli Insiemi\n",
    "\n",
    "L'*unione* viene eseguita utilizzando l'operatore `|` oppure il metodo `set.union()`."
   ]
  },
  {
   "cell_type": "code",
   "execution_count": null,
   "id": "9e3e187d",
   "metadata": {},
   "outputs": [],
   "source": [
    "numeri_primi = {1, 2, 3, 5, 7}\n",
    "numeri_dispari = {1, 3, 5, 7, 9}"
   ]
  },
  {
   "cell_type": "code",
   "execution_count": null,
   "id": "ba52b0bb",
   "metadata": {},
   "outputs": [],
   "source": [
    "# Unione\n",
    "numeri_primi | numeri_dispari"
   ]
  },
  {
   "cell_type": "markdown",
   "id": "28bbe2dd-6108-4a32-a5c7-8fec01c385c8",
   "metadata": {},
   "source": [
    "L'unione è un'operazione simmetrica."
   ]
  },
  {
   "cell_type": "code",
   "execution_count": null,
   "id": "a85913b0",
   "metadata": {},
   "outputs": [],
   "source": [
    "numeri_dispari | numeri_primi"
   ]
  },
  {
   "cell_type": "code",
   "execution_count": null,
   "id": "a24762fc",
   "metadata": {},
   "outputs": [],
   "source": [
    "numeri_primi.union(numeri_dispari)"
   ]
  },
  {
   "cell_type": "markdown",
   "id": "7f16d90d",
   "metadata": {},
   "source": [
    "L'*intersezione* viene eseguita utilizzando l'operatore `&` oppure il metodo `set.intersection()`."
   ]
  },
  {
   "cell_type": "code",
   "execution_count": null,
   "id": "3724933c",
   "metadata": {},
   "outputs": [],
   "source": [
    "# Intersezione\n",
    "numeri_primi & numeri_dispari"
   ]
  },
  {
   "cell_type": "code",
   "execution_count": null,
   "id": "8ca14bea",
   "metadata": {},
   "outputs": [],
   "source": [
    "numeri_primi.intersection(numeri_dispari)"
   ]
  },
  {
   "cell_type": "markdown",
   "id": "11a213f5",
   "metadata": {},
   "source": [
    "La *differenza insiemistica* viene eseguita utilizzando l'operatore `-` oppure il metodo `set.difference()`."
   ]
  },
  {
   "cell_type": "code",
   "execution_count": null,
   "id": "8e111ca9",
   "metadata": {},
   "outputs": [],
   "source": [
    "# Differenza insiemistica\n",
    "numeri_primi - numeri_dispari"
   ]
  },
  {
   "cell_type": "code",
   "execution_count": null,
   "id": "d8c01239",
   "metadata": {},
   "outputs": [],
   "source": [
    "numeri_primi.difference(numeri_dispari)"
   ]
  },
  {
   "cell_type": "markdown",
   "id": "8778830b-f151-4b44-87e6-524a1366b685",
   "metadata": {},
   "source": [
    "La differenza insiemistica **non** è simmetrica:"
   ]
  },
  {
   "cell_type": "code",
   "execution_count": null,
   "id": "49ec2488",
   "metadata": {},
   "outputs": [],
   "source": [
    "numeri_dispari - numeri_primi"
   ]
  },
  {
   "cell_type": "markdown",
   "id": "08cd07ec",
   "metadata": {},
   "source": [
    "La *differenza simmetrica* che corrisponde a *unione* - *intersezione* viene eseguita utilizzando l'operatore `^` oppure il metodo `set.symmetric_difference()`."
   ]
  },
  {
   "cell_type": "code",
   "execution_count": null,
   "id": "22ec3042",
   "metadata": {},
   "outputs": [],
   "source": [
    "# Differenza Simmetrica\n",
    "numeri_primi ^ numeri_dispari"
   ]
  },
  {
   "cell_type": "code",
   "execution_count": null,
   "id": "3bd2c41e",
   "metadata": {},
   "outputs": [],
   "source": [
    "numeri_dispari ^ numeri_primi"
   ]
  },
  {
   "cell_type": "code",
   "execution_count": null,
   "id": "c44f71da",
   "metadata": {},
   "outputs": [],
   "source": [
    "numeri_primi.symmetric_difference(numeri_dispari)"
   ]
  },
  {
   "cell_type": "markdown",
   "id": "d205c9be",
   "metadata": {},
   "source": [
    "## Dizionari\n",
    "\n",
    "Un **dizionario** è utilizzato per memorizzare valori in un formato *chiave: valore* ed è definito da parentesi graffe, `{chiave: valore}`. A differenza dalle sequenze come le liste, che sono indicizzate da una serie di numeri, i dizionari sono indicizzati dalle chiavi, che possono essere di qualsiasi tipo immutabile e con il vincolo di dover essere uniche."
   ]
  },
  {
   "cell_type": "code",
   "execution_count": null,
   "id": "bb8538e2",
   "metadata": {},
   "outputs": [],
   "source": [
    "capitali = {'Italia': 'Roma'}"
   ]
  },
  {
   "cell_type": "code",
   "execution_count": null,
   "id": "56dec735",
   "metadata": {},
   "outputs": [],
   "source": [
    "capitali[0]"
   ]
  },
  {
   "cell_type": "code",
   "execution_count": null,
   "id": "b8b9e26c",
   "metadata": {},
   "outputs": [],
   "source": [
    "capitali['Italia']"
   ]
  },
  {
   "cell_type": "code",
   "execution_count": null,
   "id": "b5074c46",
   "metadata": {},
   "outputs": [],
   "source": [
    "capitali = {'Italia': 'Roma', 'Francia': 'Parigi', 'Spagna': 'Madrid'}"
   ]
  },
  {
   "cell_type": "code",
   "execution_count": null,
   "id": "4903d6e9",
   "metadata": {},
   "outputs": [],
   "source": [
    "capitali['Spagna']"
   ]
  },
  {
   "cell_type": "markdown",
   "id": "4959c96d",
   "metadata": {},
   "source": [
    "È possibile definire un dizionario anche con la funzione `dict()`."
   ]
  },
  {
   "cell_type": "code",
   "execution_count": null,
   "id": "b4ed9a06",
   "metadata": {},
   "outputs": [],
   "source": [
    "auto = dict([('brand', 'Fiat'), ('modello', 'Panda'), ('anno', 2000)])"
   ]
  },
  {
   "cell_type": "code",
   "execution_count": null,
   "id": "70dfadfd",
   "metadata": {},
   "outputs": [],
   "source": [
    "auto"
   ]
  },
  {
   "cell_type": "code",
   "execution_count": null,
   "id": "b5647d17",
   "metadata": {},
   "outputs": [],
   "source": [
    "{'Italia': 'Roma', 'Francia': 'Parigi', 'Italia': 'Torino'}"
   ]
  },
  {
   "cell_type": "markdown",
   "id": "0be7b704",
   "metadata": {},
   "source": [
    "È possibile accedere agli elementi di un dizionario utilizzando le chiavi tra parentesi quadre."
   ]
  },
  {
   "cell_type": "markdown",
   "id": "bb43556d",
   "metadata": {},
   "source": [
    "### Metodi dei dizionari\n",
    "\n",
    "`dict.keys()` restituisce un oggetto contenente le chiavi del dizionario."
   ]
  },
  {
   "cell_type": "code",
   "execution_count": null,
   "id": "c6c9e8a3",
   "metadata": {},
   "outputs": [],
   "source": [
    "capitali.keys()"
   ]
  },
  {
   "cell_type": "markdown",
   "id": "44e9742d",
   "metadata": {},
   "source": [
    "`dict.values()` restituisce un oggetto contenente i valori del dizionario."
   ]
  },
  {
   "cell_type": "code",
   "execution_count": null,
   "id": "3d5093d1",
   "metadata": {},
   "outputs": [],
   "source": [
    "capitali.values()"
   ]
  },
  {
   "cell_type": "markdown",
   "id": "c1199bd2",
   "metadata": {},
   "source": [
    "`dict.items()` restituisce un oggetto contenente le tuple chiave-valore."
   ]
  },
  {
   "cell_type": "code",
   "execution_count": null,
   "id": "21979315",
   "metadata": {},
   "outputs": [],
   "source": [
    "capitali.items()"
   ]
  },
  {
   "cell_type": "markdown",
   "id": "07a56768-5f1c-4ff9-a173-87eaaaadb80a",
   "metadata": {},
   "source": [
    "Un metodo rapido per creare un dizionario partendo da due liste della stessa lunghezza è utilizzare `zip`."
   ]
  },
  {
   "cell_type": "code",
   "execution_count": null,
   "id": "0ec71c70",
   "metadata": {},
   "outputs": [],
   "source": [
    "paesi = ['Italia', 'Francia', 'Spagna']\n",
    "città  = ['Roma', 'Parigi', 'Madrid']\n",
    "dict(zip(paesi, città))"
   ]
  },
  {
   "cell_type": "markdown",
   "id": "279e6655",
   "metadata": {},
   "source": [
    "## Moduli\n",
    "\n",
    "Un **modulo** Python contiene un insieme di funzioni raggruppate per utilizzo e significato che possono essere incluse nel nostro programma. Per avere accesso alle funzioni contenute all'interno di un modulo utilizziamo il comando `import module`. Una volta importato le funzioni del modulo possono essere chaimate \n",
    "tramite `module.func()`.\n",
    "\n",
    "## Modulo `os`\n",
    "\n",
    "Il modulo `os` fornisce la possibilità di intereagire con le funzionalità del sistema operativo su cui viene eseguito Python."
   ]
  },
  {
   "cell_type": "code",
   "execution_count": null,
   "id": "facd74f8",
   "metadata": {},
   "outputs": [],
   "source": [
    "import os"
   ]
  },
  {
   "cell_type": "markdown",
   "id": "ea155c8d",
   "metadata": {},
   "source": [
    "`os.getcwd()` restituisce una stringa rappresentante la cartella di lavoro corrente."
   ]
  },
  {
   "cell_type": "code",
   "execution_count": null,
   "id": "d364a6c7",
   "metadata": {},
   "outputs": [],
   "source": [
    "os.getcwd()"
   ]
  },
  {
   "cell_type": "markdown",
   "id": "9877590e",
   "metadata": {},
   "source": [
    "`os.listdir(path='.')` restituisce una lista contenente i nomi delle voci presenti nel percorso indicato. Dove '.' indica la cartella corrente."
   ]
  },
  {
   "cell_type": "code",
   "execution_count": null,
   "id": "04921138",
   "metadata": {},
   "outputs": [],
   "source": [
    "os.listdir('.')"
   ]
  },
  {
   "cell_type": "code",
   "execution_count": null,
   "id": "09cb3741",
   "metadata": {},
   "outputs": [],
   "source": [
    "os.listdir(os.getcwd())"
   ]
  },
  {
   "cell_type": "code",
   "execution_count": null,
   "id": "eafb97b5",
   "metadata": {},
   "outputs": [],
   "source": [
    "os.listdir('data')"
   ]
  },
  {
   "cell_type": "code",
   "execution_count": null,
   "id": "3c4760db",
   "metadata": {},
   "outputs": [],
   "source": [
    "os.listdir('../lezione-01/')"
   ]
  },
  {
   "cell_type": "markdown",
   "id": "c98c274f-c5f6-4c2c-91fa-92ce608c6c3a",
   "metadata": {},
   "source": [
    "Occorre sempre fornire o il percorso assoluto (dalla directory root) oppure il percorso relativo a partiredalla directory in cui ci si trova. "
   ]
  },
  {
   "cell_type": "code",
   "execution_count": null,
   "id": "1024fa95",
   "metadata": {},
   "outputs": [],
   "source": [
    "os.listdir('lezione-01/')"
   ]
  },
  {
   "cell_type": "markdown",
   "id": "dc2c757a",
   "metadata": {},
   "source": [
    "## `open(path, mode)`\n",
    "\n",
    "È spesso richiesto di interagire con i file presenti sul proprio computer. Per far ciò in Python possiamo usare la funzione integrata `open()` che apre un file e restituisce il corrispondente oggetto file."
   ]
  },
  {
   "cell_type": "code",
   "execution_count": null,
   "id": "e57cb2c4",
   "metadata": {},
   "outputs": [],
   "source": [
    "file = open('data/levitating.txt')"
   ]
  },
  {
   "cell_type": "markdown",
   "id": "e32e05e2",
   "metadata": {},
   "source": [
    "Il metodo `read()` legge e restituisce tutto il file. \n",
    "\n",
    "Il metodo `readline()` legge e restituisce una linea del file di testo."
   ]
  },
  {
   "cell_type": "code",
   "execution_count": null,
   "id": "6028975f",
   "metadata": {},
   "outputs": [],
   "source": [
    "file.readline()"
   ]
  },
  {
   "cell_type": "code",
   "execution_count": null,
   "id": "cb552cdb",
   "metadata": {},
   "outputs": [],
   "source": [
    "file.readline()"
   ]
  },
  {
   "cell_type": "code",
   "execution_count": null,
   "id": "29fbd971",
   "metadata": {},
   "outputs": [],
   "source": [
    "file.read()"
   ]
  },
  {
   "cell_type": "markdown",
   "id": "f4888cc0-d7e5-42b7-8b7c-7730d8f8a7d0",
   "metadata": {},
   "source": [
    "La funzione `read` esaurisce il file, chiamandola una seconda volta si ottiene una stringa vuota."
   ]
  },
  {
   "cell_type": "code",
   "execution_count": null,
   "id": "dac7f2a6",
   "metadata": {},
   "outputs": [],
   "source": [
    "file.read()"
   ]
  },
  {
   "cell_type": "markdown",
   "id": "aee321ac",
   "metadata": {},
   "source": [
    "Il metodo `close()` chiude il file."
   ]
  },
  {
   "cell_type": "code",
   "execution_count": null,
   "id": "8599e2c4",
   "metadata": {},
   "outputs": [],
   "source": [
    "file.close()"
   ]
  },
  {
   "cell_type": "code",
   "execution_count": null,
   "id": "c6273682",
   "metadata": {},
   "outputs": [],
   "source": [
    "file.read()"
   ]
  },
  {
   "cell_type": "markdown",
   "id": "16d46e64-eab6-4b1a-a1c0-cb820feb9f81",
   "metadata": {},
   "source": [
    "È importante ricordarsi di chiudere i file una volta finito di usarli. Per ovviare a questo fatto si può usare il comando `with`."
   ]
  },
  {
   "cell_type": "markdown",
   "id": "c828117f",
   "metadata": {},
   "source": [
    "Il comando `with` è utilizzato per racchiudere l'esecuzione di un blocco di codice e si assicura che non vengano lasciate inavvertitamente risorse aperte."
   ]
  },
  {
   "cell_type": "code",
   "execution_count": null,
   "id": "8d096230",
   "metadata": {},
   "outputs": [],
   "source": [
    "with open('data/levitating.txt', 'r') as file:\n",
    "    text = file.readline()\n",
    "    print(text)\n",
    "    print('ciao, sono dentro al with')\n",
    "\n",
    "print('fuori dal blocco with')\n",
    "file.readline()"
   ]
  },
  {
   "cell_type": "markdown",
   "id": "c81fe6a1-4910-4a2e-bdc7-5c322dff7d44",
   "metadata": {},
   "source": [
    "Tuttavia avendo assegnato il valore di una linea alla variabile `text` questa è disponibile anche una volta che il file è stato chiuso."
   ]
  },
  {
   "cell_type": "code",
   "execution_count": null,
   "id": "ffcc2cd3",
   "metadata": {},
   "outputs": [],
   "source": [
    "text"
   ]
  },
  {
   "cell_type": "code",
   "execution_count": null,
   "id": "a99e82d1",
   "metadata": {},
   "outputs": [],
   "source": [
    "file.read()"
   ]
  },
  {
   "cell_type": "markdown",
   "id": "8aaedbe1",
   "metadata": {},
   "source": [
    "Il metodo `write()` si occupa di scrivere gli oggetti forniti come parametri sul file di riferimento. Il metodo `writelines()` scrive, invece, una lista di linee sul file; i separatori di linea (`\\n`) non sono aggiunti automaticamente, dunque è consigliato inserirne uno alla fine di ogni linea."
   ]
  },
  {
   "cell_type": "code",
   "execution_count": null,
   "id": "ab565763-96ef-4cfc-8751-16e6f314ea28",
   "metadata": {},
   "outputs": [],
   "source": [
    "# w sta per write, se il file non esiste viene creato\n",
    "print(os.listdir('data'))\n",
    "with open('data/esempio.txt', 'w') as file:\n",
    "    file.write(\"Prima riga\\n\")\n",
    "    file.writelines([\"Seconda linea\\n\", \"Terza linea\\n\"])\n",
    "print(os.listdir('data'))"
   ]
  },
  {
   "cell_type": "code",
   "execution_count": null,
   "id": "d1a47ab9-15f0-4e83-b99a-2f990e3f542c",
   "metadata": {},
   "outputs": [],
   "source": [
    "# r sta per read, il file deve già esistere\n",
    "print(os.listdir('data'))\n",
    "print()\n",
    "with open('data/esempio.txt', 'r') as file:\n",
    "    print(file.read())"
   ]
  },
  {
   "cell_type": "markdown",
   "id": "b282b9af",
   "metadata": {},
   "source": [
    "## Modulo `json`\n",
    "\n",
    "**JSON** (JavaScript Object Notation) è un formato di dati semplice da leggere e scrivere per gli essere umani, ma anche facile da generare e processare per le macchine. Un JSON è costituito da due strutture: \n",
    "- una collezione di coppie nomi/valori\n",
    "- una lista ordinata di valori.\n",
    "\n",
    "In Python, il modulo `json` rende semplice analizzare un file JSON. Per caricare un file con estensione .json, utilizziamo il comando `json.load()`."
   ]
  },
  {
   "cell_type": "code",
   "execution_count": null,
   "id": "5eee8139",
   "metadata": {},
   "outputs": [],
   "source": [
    "import jsoninsiemi"
   ]
  },
  {
   "cell_type": "code",
   "execution_count": null,
   "id": "a9595d16-966a-4849-a1c7-114bec348800",
   "metadata": {},
   "outputs": [],
   "source": [
    "with open('data/billboard.json', 'r') as file:\n",
    "    top10 = json.load(file)"
   ]
  },
  {
   "cell_type": "code",
   "execution_count": null,
   "id": "e5d3f73b",
   "metadata": {},
   "outputs": [],
   "source": [
    "top10"
   ]
  },
  {
   "cell_type": "markdown",
   "id": "2948e457-995b-47c5-b203-b2cd418eca9a",
   "metadata": {},
   "source": [
    "# Esercizi"
   ]
  },
  {
   "cell_type": "markdown",
   "id": "c6b1d96d-e825-405c-8559-7f4e0a2f41a1",
   "metadata": {},
   "source": [
    "Scrivi un programma che esegua le seguenti istruzioni:\n",
    "- Crea una `lista` che contenga i primi dieci numeri interi a partire da `1`.\n",
    "- Copia `lista` in `nuova_lista` ed agggiungi `11` alla fine .\n",
    "- Assegna `-1` al secondo elemento di `nuova_lista`.\n",
    "- Assegna a `selezione` gli elementi di `nuova_lista` dal terzo al settimo.\n",
    "- Aggiunge a `selezione` il numero `13` alla fine.\n",
    "- Stampa `lista`, `nuova_lista` e `selezione` e i loro `id`."
   ]
  },
  {
   "cell_type": "code",
   "execution_count": null,
   "id": "5e4edfed-04a3-4acd-ac23-e373905e7591",
   "metadata": {},
   "outputs": [],
   "source": []
  },
  {
   "cell_type": "markdown",
   "id": "5c9d092c-fc49-4025-9c28-98f781eb168b",
   "metadata": {},
   "source": [
    "Genera una lista contenente soltanto i nomi delle capitali dal seguente dizionario: `{'Italia': 'Roma', 'Francia': 'Parigi', 'Spagna': 'Madrid'}`"
   ]
  },
  {
   "cell_type": "code",
   "execution_count": null,
   "id": "9a3f0444",
   "metadata": {},
   "outputs": [],
   "source": []
  },
  {
   "cell_type": "markdown",
   "id": "dab947d7-7e34-4cad-97fb-8d2bdc391051",
   "metadata": {},
   "source": [
    "Definire due variabili che contengano gli insiemi dati da:\n",
    "- I capoluoghi di Provincia che iniziano per B: (Bari, Belluno, Benevento, Bergamo, Biella, Bologna, Bolzano, Brescia, Brindisi).\n",
    "- I capoluoghi di Regione.\n",
    "\n",
    "Trovare e stampare:\n",
    "- L'intersezione dei due insiemi (Capoluoghi di Regione che iniziano per B)\n",
    "- La differenza del primo meno il secondo (Capoluoghi di Provincia che iniziano per B e non sono Capoluoghi di Regione)\n",
    "- La differenza del secondo meno il primo (Capoluoghi di Regione che non iniziano per B)"
   ]
  },
  {
   "cell_type": "code",
   "execution_count": null,
   "id": "e3622fa6-fa59-49be-b295-05ecc1c5aee6",
   "metadata": {},
   "outputs": [],
   "source": []
  },
  {
   "cell_type": "markdown",
   "id": "0959bc40-779b-4b60-be15-667cb39e2274",
   "metadata": {},
   "source": [
    "Generare:\n",
    "\n",
    "- una lista di tuple ognuna del tipo: `(nome_film, numero_film, numero_libro_tratto)`.\n",
    "- un dizionari con chiavi `numero_film` e valori `nome_film`.\n",
    "\n",
    "Per i film della saga degli Hunger Games."
   ]
  },
  {
   "cell_type": "code",
   "execution_count": null,
   "id": "3af6ae89-5e41-4900-921d-9c59b5f4b456",
   "metadata": {},
   "outputs": [],
   "source": []
  },
  {
   "cell_type": "markdown",
   "id": "b0a453b4-a53f-4b9c-8181-1f1c46bc3713",
   "metadata": {},
   "source": [
    "Scrivere un programma che \n",
    "- crea un file dal nome `incipit.txt`.\n",
    "- scrive sul file le prima terzina dell'Inferno (un verso per riga).\n",
    "- legge le righe del file appena scritto una alla volta e le aggiunge a una lista vuota. "
   ]
  },
  {
   "cell_type": "code",
   "execution_count": null,
   "id": "a5be34cd-ef8c-41fe-9873-91a6c25cb82c",
   "metadata": {},
   "outputs": [],
   "source": []
  },
  {
   "cell_type": "markdown",
   "id": "c44562a2",
   "metadata": {},
   "source": [
    "Creare un file .json contenente i dati riguardanti tre titoli azionari a scelta: per ognuno di questi indicaare nome, simbolo, industria ed ultimo prezzo di chiusura. Salva il file con il nome `stocks.json` usando il metodo `json.dump(json, file)`."
   ]
  },
  {
   "cell_type": "code",
   "execution_count": null,
   "id": "c1d195bf",
   "metadata": {},
   "outputs": [],
   "source": []
  }
 ],
 "metadata": {
  "kernelspec": {
   "display_name": "Python 3 (ipykernel)",
   "language": "python",
   "name": "python3"
  },
  "language_info": {
   "codemirror_mode": {
    "name": "ipython",
    "version": 3
   },
   "file_extension": ".py",
   "mimetype": "text/x-python",
   "name": "python",
   "nbconvert_exporter": "python",
   "pygments_lexer": "ipython3",
   "version": "3.12.2"
  }
 },
 "nbformat": 4,
 "nbformat_minor": 5
}
