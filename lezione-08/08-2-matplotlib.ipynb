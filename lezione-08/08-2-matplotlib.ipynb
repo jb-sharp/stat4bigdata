{
 "cells": [
  {
   "cell_type": "markdown",
   "id": "2e3cced3",
   "metadata": {},
   "source": [
    "# [Matplotlib](https://matplotlib.org)\n",
    "\n",
    "Matplotlib è una libreria utilizzata per creare visualizzazioni statiche, animate ed interagibili in Python."
   ]
  },
  {
   "cell_type": "code",
   "execution_count": null,
   "id": "85c3c373",
   "metadata": {},
   "outputs": [],
   "source": []
  },
  {
   "cell_type": "markdown",
   "id": "384e4c5e",
   "metadata": {},
   "source": [
    "Matplotlib mostra i dati in una `Figure`, la quale a sua volta contiene uno o più `Axes`, ovvero un'area in cui è possibile specificare punti in termini di coordinate x e y. La funzione `pyplot.subplots` permette di creare facilmente questi due oggetti."
   ]
  },
  {
   "cell_type": "code",
   "execution_count": null,
   "id": "f6982099",
   "metadata": {},
   "outputs": [],
   "source": []
  },
  {
   "cell_type": "markdown",
   "id": "9da3a086",
   "metadata": {},
   "source": [
    "`Axes.plot()` permette di disegnare un grafico con linee e punti, impostando le coordinate x e y."
   ]
  },
  {
   "cell_type": "code",
   "execution_count": null,
   "id": "1587dc17",
   "metadata": {},
   "outputs": [],
   "source": []
  }
 ],
 "metadata": {
  "kernelspec": {
   "display_name": "Python 3 (ipykernel)",
   "language": "python",
   "name": "python3"
  },
  "language_info": {
   "codemirror_mode": {
    "name": "ipython",
    "version": 3
   },
   "file_extension": ".py",
   "mimetype": "text/x-python",
   "name": "python",
   "nbconvert_exporter": "python",
   "pygments_lexer": "ipython3",
   "version": "3.8.13"
  }
 },
 "nbformat": 4,
 "nbformat_minor": 5
}
