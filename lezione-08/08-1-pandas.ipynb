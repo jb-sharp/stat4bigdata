{
 "cells": [
  {
   "cell_type": "markdown",
   "id": "5b05f393",
   "metadata": {},
   "source": [
    "# [pandas](https://pandas.pydata.org)\n",
    "\n",
    "**pandas** è uno strumento open source di analisi e manipolazione dei dati veloce, potente, flessibile e facile da usare, costruito sulla base del linguaggio di programmazione Python."
   ]
  },
  {
   "cell_type": "code",
   "execution_count": null,
   "id": "86623343",
   "metadata": {},
   "outputs": [],
   "source": []
  },
  {
   "cell_type": "markdown",
   "id": "144509f9",
   "metadata": {},
   "source": [
    "`pandas.DataFrame` è la principale struttura dati in pandas. Esso contiene dati tabellari bidimensionali, mutabili per dimensione e potenzialmente eterogenei, ordinati su righe e colonne etichettate."
   ]
  },
  {
   "cell_type": "code",
   "execution_count": null,
   "id": "39e1e06a",
   "metadata": {},
   "outputs": [],
   "source": []
  },
  {
   "cell_type": "markdown",
   "id": "c358468f",
   "metadata": {},
   "source": [
    "`pandas.Series` è un ndarray monodimensionale avente assi etichettate. L'oggetto supporta sia l'indicizzazione basata su interi che su etichette e fornisce una serie di metodi per eseguire operazioni sull'indice. I metodi statistici di ndarray sono stati sovrascritti per escludere automaticamente i dati mancanti (attualmente rappresentati come NaN)."
   ]
  },
  {
   "cell_type": "code",
   "execution_count": null,
   "id": "0c69ed54",
   "metadata": {},
   "outputs": [],
   "source": []
  },
  {
   "cell_type": "markdown",
   "id": "9a5e90c4",
   "metadata": {},
   "source": [
    "## titanic dataset\n",
    "\n",
    "I dati sono costituiti dalle informazioni demografiche e di viaggio di 1.309 passeggeri del Titanic; viene spesso utilizzato con l'obiettivo di prevedere la sopravvivenza di questi passeggeri.\n",
    "\n",
    "- *PassengerId*: id univoco di ogni passeggero\n",
    "- *Survived*: valore booleano che indica se il passeggero è sopravvissuto (1) o no (0) \n",
    "- *Pclass*: classe in cui viaggiava il passeggero (1 = prima, 2 = seconda, 3 = terza)\n",
    "- *Name*: nome del passeggero \n",
    "- *Sex*: maschio/femmina \n",
    "- *Age*: età\n",
    "- *SibSp*: numero di fratelli/sorelle e coniugi a bordo \n",
    "- *Parch*: numero di genitori e figli a bordo\n",
    "- *Ticket*: numero del biglietto\n",
    "- *Fare*: costo del biglietto \n",
    "- *Cabin*: numero della cabina\n",
    "- *Embarked*: porto di imbarco (C = Cherbourg; Q = Queenstown; S = Southampton)"
   ]
  },
  {
   "cell_type": "code",
   "execution_count": null,
   "id": "95104066",
   "metadata": {},
   "outputs": [],
   "source": []
  }
 ],
 "metadata": {
  "kernelspec": {
   "display_name": "Python 3 (ipykernel)",
   "language": "python",
   "name": "python3"
  },
  "language_info": {
   "codemirror_mode": {
    "name": "ipython",
    "version": 3
   },
   "file_extension": ".py",
   "mimetype": "text/x-python",
   "name": "python",
   "nbconvert_exporter": "python",
   "pygments_lexer": "ipython3",
   "version": "3.8.13"
  }
 },
 "nbformat": 4,
 "nbformat_minor": 5
}
