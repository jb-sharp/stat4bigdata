{
 "cells": [
  {
   "cell_type": "markdown",
   "id": "5b05f393",
   "metadata": {},
   "source": [
    "# [pandas](https://pandas.pydata.org)\n",
    "\n",
    "**pandas** è una libreria in Python per l'analisi e la manipolazione di dati veloce, potente, flessibile e facile da usare."
   ]
  },
  {
   "cell_type": "code",
   "execution_count": null,
   "id": "f6a23770",
   "metadata": {},
   "outputs": [],
   "source": [
    "# L'opzione -y serve per accettare eventuali prompt del programma\n",
    "# di installazione\n",
    "import sys\n",
    "!conda install pandas -y --prefix {sys.prefix}"
   ]
  },
  {
   "cell_type": "code",
   "execution_count": null,
   "id": "86623343",
   "metadata": {},
   "outputs": [],
   "source": [
    "import pandas as pd"
   ]
  },
  {
   "cell_type": "markdown",
   "id": "144509f9",
   "metadata": {},
   "source": [
    "`pandas.DataFrame` è la principale struttura dati in pandas. Esso contiene dati in forma di tabelle bidimensionali, mutabili per dimensione e potenzialmente eterogenei, ordinati su righe e colonne etichettate."
   ]
  },
  {
   "cell_type": "code",
   "execution_count": null,
   "id": "39e1e06a",
   "metadata": {},
   "outputs": [],
   "source": [
    "df = pd.DataFrame({\n",
    "    'nome': ['Alice', 'Bruno', 'Carlo'],\n",
    "    'età': [21, 20, 17],\n",
    "    'genere': ['f', 'm', 'm']\n",
    "})"
   ]
  },
  {
   "cell_type": "code",
   "execution_count": null,
   "id": "1fe3bb0a",
   "metadata": {},
   "outputs": [],
   "source": [
    "df"
   ]
  },
  {
   "cell_type": "code",
   "execution_count": null,
   "id": "be17ec4c",
   "metadata": {},
   "outputs": [],
   "source": [
    "type(df)"
   ]
  },
  {
   "cell_type": "markdown",
   "id": "c358468f",
   "metadata": {},
   "source": [
    "`pandas.Series` è un ndarray monodimensionale avente assi etichettate. L'oggetto supporta sia l'indicizzazione basata su interi che su etichette e fornisce una serie di metodi per eseguire operazioni sull'indice. I metodi statistici di ndarray sono stati sovrascritti per escludere automaticamente i dati mancanti (attualmente rappresentati come NaN)."
   ]
  },
  {
   "cell_type": "code",
   "execution_count": null,
   "id": "0c69ed54",
   "metadata": {},
   "outputs": [],
   "source": [
    "df['nome']"
   ]
  },
  {
   "cell_type": "code",
   "execution_count": null,
   "id": "3213104f",
   "metadata": {},
   "outputs": [],
   "source": [
    "type(df['nome'])"
   ]
  },
  {
   "cell_type": "code",
   "execution_count": null,
   "id": "d76edbbb",
   "metadata": {},
   "outputs": [],
   "source": [
    "df['età']"
   ]
  },
  {
   "cell_type": "code",
   "execution_count": null,
   "id": "a0340646",
   "metadata": {},
   "outputs": [],
   "source": [
    "df['età'].dtype"
   ]
  },
  {
   "cell_type": "code",
   "execution_count": null,
   "id": "898ac8a2",
   "metadata": {},
   "outputs": [],
   "source": [
    "df['età'].mean()"
   ]
  },
  {
   "cell_type": "markdown",
   "id": "010eb8db-bea4-4333-8472-aa27822e4ae2",
   "metadata": {},
   "source": [
    "`describe` fornisce un sommario delle colonne di tipo numerico calcolando vari indici statistici (analogo al `summary` di `R`)"
   ]
  },
  {
   "cell_type": "code",
   "execution_count": null,
   "id": "7f647c13",
   "metadata": {},
   "outputs": [],
   "source": [
    "df.describe()"
   ]
  },
  {
   "cell_type": "markdown",
   "id": "ddc81b6c-f95e-40b3-b0b2-3eae436a8992",
   "metadata": {},
   "source": [
    "Se si voglio includere anche le colonne non numeriche usare `include='all'`"
   ]
  },
  {
   "cell_type": "code",
   "execution_count": null,
   "id": "08919eeb",
   "metadata": {},
   "outputs": [],
   "source": [
    "df.describe(include = 'all')"
   ]
  },
  {
   "cell_type": "markdown",
   "id": "f2a5989f-c1cd-443c-9145-ffab653fb489",
   "metadata": {},
   "source": [
    "Possiamo indicizzare un `DataFrame`in maniera molto simile a quanto fatto per gli array"
   ]
  },
  {
   "cell_type": "code",
   "execution_count": null,
   "id": "331fa53a",
   "metadata": {},
   "outputs": [],
   "source": [
    "# Confronto elemento per elemento della colonna\n",
    "df['età'] >= 18"
   ]
  },
  {
   "cell_type": "markdown",
   "id": "82780c75-ae76-4ef3-b64d-742df0e06f94",
   "metadata": {},
   "source": [
    "il metodo `loc` permette di indocizzare usando le etichette delle colonne oppure i booleani"
   ]
  },
  {
   "cell_type": "code",
   "execution_count": null,
   "id": "82721793",
   "metadata": {},
   "outputs": [],
   "source": [
    "# Tutte le colonne, solo righe dove età è >= 18\n",
    "df.loc[df['età'] >= 18, :]"
   ]
  },
  {
   "cell_type": "code",
   "execution_count": null,
   "id": "3ef365e6",
   "metadata": {},
   "outputs": [],
   "source": [
    "# Colonna nome, solo righe dove età è >= 18\n",
    "df.loc[df['età'] >= 18, 'nome']"
   ]
  },
  {
   "cell_type": "markdown",
   "id": "c5c31355-04ff-41e3-95aa-7a258da51211",
   "metadata": {},
   "source": [
    "Si possono inserire nuove colonne assegnando come si farebbe per un dizionario"
   ]
  },
  {
   "cell_type": "code",
   "execution_count": null,
   "id": "631fedc2",
   "metadata": {},
   "outputs": [],
   "source": [
    "df['maggiorenne'] = df['età'] >= 18\n",
    "df"
   ]
  },
  {
   "cell_type": "markdown",
   "id": "9a5e90c4",
   "metadata": {},
   "source": [
    "## Dataset Titanic\n",
    "\n",
    "I dati sono costituiti dalle informazioni demografiche e di viaggio di 1.309 passeggeri del Titanic; viene spesso utilizzato con l'obiettivo di prevedere la possibilità di sopravvivenza di questi passeggeri.\n",
    "\n",
    "- *PassengerId*: id univoco di ogni passeggero\n",
    "- *Survived*: valore booleano che indica se il passeggero è sopravvissuto (1) o no (0) \n",
    "- *Pclass*: classe in cui viaggiava il passeggero (1 = prima, 2 = seconda, 3 = terza)\n",
    "- *Name*: nome del passeggero \n",
    "- *Sex*: maschio/femmina \n",
    "- *Age*: età\n",
    "- *SibSp*: numero di fratelli/sorelle e coniugi a bordo \n",
    "- *Parch*: numero di genitori e figli a bordo\n",
    "- *Ticket*: numero del biglietto\n",
    "- *Fare*: costo del biglietto \n",
    "- *Cabin*: numero della cabina\n",
    "- *Embarked*: porto di imbarco (C = Cherbourg; Q = Queenstown; S = Southampton)"
   ]
  },
  {
   "cell_type": "markdown",
   "id": "d785f263-a6f9-424c-85c6-cf07271d8115",
   "metadata": {},
   "source": [
    "pandas fornisce molti metodi per leggere dati in formato diverso, `read_csv` si usa per leggere tabelle salvate in formato `csv`"
   ]
  },
  {
   "cell_type": "code",
   "execution_count": null,
   "id": "95104066",
   "metadata": {},
   "outputs": [],
   "source": [
    "data = pd.read_csv('./data/titanic.csv')"
   ]
  },
  {
   "cell_type": "code",
   "execution_count": null,
   "id": "c3c744df",
   "metadata": {},
   "outputs": [],
   "source": [
    "# Mostra le prime 10 righe \n",
    "data.head()"
   ]
  },
  {
   "cell_type": "code",
   "execution_count": null,
   "id": "1ed55db1",
   "metadata": {},
   "outputs": [],
   "source": [
    "data.head(10)"
   ]
  },
  {
   "cell_type": "markdown",
   "id": "2da017ec-5753-4cca-9ba1-9fe0485ad466",
   "metadata": {},
   "source": [
    "Controlliamo i tipi delle varie colonne"
   ]
  },
  {
   "cell_type": "code",
   "execution_count": null,
   "id": "ff9807dd",
   "metadata": {},
   "outputs": [],
   "source": [
    "data.dtypes"
   ]
  },
  {
   "cell_type": "markdown",
   "id": "cfab460e-caa2-428d-98cf-09dfb236aadc",
   "metadata": {},
   "source": [
    "Le variabili `Survived`, `PassengerId` e `Pclass` sono state importate come interi ma in realtà sono variabili categoriche pertanto è meglio rappresentarle come `object`. Per cambiare il tipo usiamo il metodo `astype`."
   ]
  },
  {
   "cell_type": "code",
   "execution_count": null,
   "id": "6b85d950",
   "metadata": {},
   "outputs": [],
   "source": [
    "data['Survived'] = data['Survived'].astype('object')"
   ]
  },
  {
   "cell_type": "code",
   "execution_count": null,
   "id": "2020da0f",
   "metadata": {},
   "outputs": [],
   "source": [
    "data['Survived'].dtype"
   ]
  },
  {
   "cell_type": "code",
   "execution_count": null,
   "id": "7e171491",
   "metadata": {},
   "outputs": [],
   "source": [
    "data = data.astype({'PassengerId': 'object', 'Pclass': 'object'})"
   ]
  },
  {
   "cell_type": "code",
   "execution_count": null,
   "id": "f1053ab7",
   "metadata": {},
   "outputs": [],
   "source": [
    "data.dtypes"
   ]
  },
  {
   "cell_type": "markdown",
   "id": "9101ad5d-3998-408b-a438-98a9d6d0bb7c",
   "metadata": {},
   "source": [
    "Il metodo `info` restituisce informazioni riguardo il dataset come per esempio il numero di eventuali dati mancanti"
   ]
  },
  {
   "cell_type": "code",
   "execution_count": null,
   "id": "dab7898b",
   "metadata": {},
   "outputs": [],
   "source": [
    "data.info()"
   ]
  },
  {
   "cell_type": "markdown",
   "id": "eec09677-437a-4b51-9f3a-bed3647da580",
   "metadata": {},
   "source": [
    "Vediamo prima il riassunto delle colonne non numeriche"
   ]
  },
  {
   "cell_type": "code",
   "execution_count": null,
   "id": "a742390e",
   "metadata": {},
   "outputs": [],
   "source": [
    "data.describe(include = 'object')"
   ]
  },
  {
   "cell_type": "markdown",
   "id": "cf170066-0c36-4191-ac05-aadb335081f9",
   "metadata": {},
   "source": [
    "Poi di quelle numeriche"
   ]
  },
  {
   "cell_type": "code",
   "execution_count": null,
   "id": "6e2f9677",
   "metadata": {},
   "outputs": [],
   "source": [
    "data.describe()"
   ]
  },
  {
   "cell_type": "markdown",
   "id": "e0d5637c-8010-4852-9577-305df270bfbe",
   "metadata": {},
   "source": [
    "Vediamo ora di analizzare qualche aspetto di questo dataset. Abbiamo detto che la colonna survived rappresenta il fatto che un passeggero sia sopravvissuto oppure no"
   ]
  },
  {
   "cell_type": "code",
   "execution_count": null,
   "id": "dc17627f",
   "metadata": {},
   "outputs": [],
   "source": [
    "data['Survived'].head()"
   ]
  },
  {
   "cell_type": "code",
   "execution_count": null,
   "id": "eaf65f60-7bd5-42a8-bd6d-ec21ba5a8259",
   "metadata": {},
   "outputs": [],
   "source": [
    "data['Survived'].unique()"
   ]
  },
  {
   "cell_type": "markdown",
   "id": "44833bc2-3969-4d86-8288-a80b7e9f391a",
   "metadata": {},
   "source": [
    "Ricaviamo la tabella di frequenze."
   ]
  },
  {
   "cell_type": "code",
   "execution_count": null,
   "id": "5f43e25e-ea6b-45d1-ac75-55d10041c5bb",
   "metadata": {},
   "outputs": [],
   "source": [
    "data['Survived'].value_counts()"
   ]
  },
  {
   "cell_type": "markdown",
   "id": "e57c0bab-be58-4ea4-aef0-b0f97a15dd98",
   "metadata": {},
   "source": [
    "Possiamo anche rappresentarla con un bar plot"
   ]
  },
  {
   "cell_type": "code",
   "execution_count": null,
   "id": "1a355ad9-5063-452d-bef6-285bf7be7991",
   "metadata": {},
   "outputs": [],
   "source": [
    "import matplotlib.pyplot as plt"
   ]
  },
  {
   "cell_type": "code",
   "execution_count": null,
   "id": "dfed641d-ed17-4882-9142-822686090341",
   "metadata": {},
   "outputs": [],
   "source": [
    "plt.bar([\"Deceased\", \"Survived\"],\n",
    "        height = data['Survived'].value_counts())\n",
    "plt.show()"
   ]
  },
  {
   "cell_type": "markdown",
   "id": "246b52b9-a71d-498f-b24d-af306f5df602",
   "metadata": {},
   "source": [
    "Ripetiamo la stessa cosa con la variabile `Pclass` che rappresenta la classe in cui il passeggero viaggiava"
   ]
  },
  {
   "cell_type": "code",
   "execution_count": null,
   "id": "0a5d43ca",
   "metadata": {},
   "outputs": [],
   "source": [
    "data['Pclass'].head()"
   ]
  },
  {
   "cell_type": "code",
   "execution_count": null,
   "id": "b9293f75-32c9-4bc9-b306-a1ebff7a98e4",
   "metadata": {},
   "outputs": [],
   "source": [
    "data['Pclass'].unique()"
   ]
  },
  {
   "cell_type": "code",
   "execution_count": null,
   "id": "81216e65-1124-40ac-9edb-1e37bd64b338",
   "metadata": {},
   "outputs": [],
   "source": [
    "data['Pclass'].value_counts()"
   ]
  },
  {
   "cell_type": "code",
   "execution_count": null,
   "id": "3c199ed3-f951-49df-889b-70725512d15d",
   "metadata": {},
   "outputs": [],
   "source": [
    "tot = data['Pclass'].value_counts().sum()\n",
    "plt.bar([\"Third\", \"First\", \"Second\"],\n",
    "        height = data['Pclass'].value_counts()/tot)\n",
    "plt.show()"
   ]
  },
  {
   "cell_type": "markdown",
   "id": "e05e8f65-22c2-41e0-a460-8d9dd962a8ac",
   "metadata": {},
   "source": [
    "Per esempio se ora volessimo concentrarci sui passeggeri di prima e seconda classe potremmo usare il seguente comando per estrarre le righe opportune."
   ]
  },
  {
   "cell_type": "code",
   "execution_count": null,
   "id": "e13247dd-d267-49c6-b771-efd2e6beadc6",
   "metadata": {},
   "outputs": [],
   "source": [
    "data['Pclass'].isin([1, 2])"
   ]
  },
  {
   "cell_type": "markdown",
   "id": "c20170f1-f2e0-4b43-9979-9f1aedeb485c",
   "metadata": {},
   "source": [
    "`isin` controlla riga per riga se l'elemento sta nella lista passata come argomento e restituisce `True` o `False` a seconda del caso."
   ]
  },
  {
   "cell_type": "code",
   "execution_count": null,
   "id": "5831e255-8f20-4879-ac55-8a7a828bca19",
   "metadata": {},
   "outputs": [],
   "source": [
    "# sottotabella dei passeggeri di prima e seconda classe\n",
    "data.loc[data['Pclass'].isin([1, 2]), :]"
   ]
  },
  {
   "cell_type": "markdown",
   "id": "c29e115f-0cec-455d-ab35-62d4e07aa85b",
   "metadata": {},
   "source": [
    "Ora per esempio vogliamo confrontare le percetuali di sopravvisstuti fra le varie classi"
   ]
  },
  {
   "cell_type": "code",
   "execution_count": null,
   "id": "f7713fbe",
   "metadata": {},
   "outputs": [],
   "source": [
    "p1 = data[data[\"Pclass\"] == 1][\"Survived\"].mean()\n",
    "p2 = data[data[\"Pclass\"] == 2][\"Survived\"].mean()\n",
    "p3 = data[data[\"Pclass\"] == 3][\"Survived\"].mean()\n",
    "\n",
    "print(p1, p2, p3)"
   ]
  },
  {
   "cell_type": "markdown",
   "id": "a7031d10-404f-4832-9163-fc40c679a5c5",
   "metadata": {},
   "source": [
    "Notiamo che le proporzioni di sporavvisuti sono parecchio diverse a seconda della classe."
   ]
  },
  {
   "cell_type": "markdown",
   "id": "9a4d8265-6021-4129-9690-bd8a2fa8dff8",
   "metadata": {},
   "source": [
    "Avremmo potuto accorgergene anche raggruppando i dati per classe prima di calcolare la media."
   ]
  },
  {
   "cell_type": "code",
   "execution_count": null,
   "id": "7b39a0eb-8ff7-4454-b8df-61281daa071d",
   "metadata": {},
   "outputs": [],
   "source": [
    "data.groupby(\"Pclass\")[\"Survived\"].value_counts()"
   ]
  },
  {
   "cell_type": "code",
   "execution_count": null,
   "id": "88cd0825-7ada-4f99-a3a0-faf058d85456",
   "metadata": {},
   "outputs": [],
   "source": [
    "data.groupby(\"Pclass\")[\"Survived\"].mean()"
   ]
  },
  {
   "cell_type": "markdown",
   "id": "ad69e970-b540-4071-a925-507eeb72e9b7",
   "metadata": {},
   "source": [
    "Infine pandas possiede molti metodi per generare grafici. In questo caso potremmo usare dei boxplot per comparare le distribuzioni del costo del biglietto a seconda della classe."
   ]
  },
  {
   "cell_type": "code",
   "execution_count": null,
   "id": "ad3768e6-fd90-4f54-92e2-6f9b16e8e4de",
   "metadata": {},
   "outputs": [],
   "source": [
    "plt.figure()\n",
    "data.boxplot(column = 'Fare', by = 'Pclass')\n",
    "plt.show()"
   ]
  },
  {
   "cell_type": "markdown",
   "id": "eead8a99-7554-4979-9e87-4aaaff404994",
   "metadata": {},
   "source": [
    "Con groupby possiamo anche aggregare le colonne nei gruppi specificando le quantità da calcolare: per esempio media, std, min e max per `Fare` e solo min per `Age`."
   ]
  },
  {
   "cell_type": "code",
   "execution_count": null,
   "id": "fb66fa9f-273b-4ca5-9896-5e5522545ac7",
   "metadata": {},
   "outputs": [],
   "source": [
    "data[['Pclass', 'Fare', 'Age']] \\\n",
    "    .groupby('Pclass') \\\n",
    "    .agg({'Fare': ['mean', 'std', 'min', 'max'], 'Age': 'min'})"
   ]
  },
  {
   "cell_type": "markdown",
   "id": "90b5c512-660e-424c-914a-44cf37175e23",
   "metadata": {},
   "source": [
    "Infine con pandas possiamo anche ottenere bar plot e scatter plot senza passare da matplotlib."
   ]
  },
  {
   "cell_type": "code",
   "execution_count": null,
   "id": "441c6bc1-be18-484f-8f1e-33780d33f777",
   "metadata": {},
   "outputs": [],
   "source": [
    "plt.figure()\n",
    "df = data.groupby(\"Pclass\")[\"Survived\"].mean()\n",
    "df = df.reset_index()\n",
    "df.plot.bar(x = \"Pclass\")\n",
    "plt.show()"
   ]
  },
  {
   "cell_type": "code",
   "execution_count": null,
   "id": "e70566a8",
   "metadata": {},
   "outputs": [],
   "source": [
    "data.plot.scatter(x = 'Age', y = 'Fare')"
   ]
  },
  {
   "cell_type": "markdown",
   "id": "9c9bc784-0504-4d29-9222-98abc9bdd4bb",
   "metadata": {},
   "source": [
    "## Esercizi"
   ]
  },
  {
   "cell_type": "markdown",
   "id": "8fcc022a-5de2-4fae-8286-415692f7cb29",
   "metadata": {},
   "source": [
    "Sempre rigurado il dataset `titanic` calcolare:\n",
    "- l'età media e massima a seconda della classe\n",
    "- l'età media a seconda della sopravvivenza\n",
    "- l'età media a seconda del sesso\n",
    "- il costo medio del biglietto a seconda del sesso\n",
    "\n",
    "Plottare con grafici a barre:\n",
    "- l'età media a seconda del sesso\n",
    "- il costo medio del biglietto a seconda del sesso\n",
    "\n",
    "Plottare con boxplot:\n",
    "- la distribuzione dell'età media a seconda del sesso\n",
    "- la distribuzione del costo del biglietto a seconda del sesso\n",
    "\n",
    "Aggiungere una colonna `AgeClass` che valga \"children\" per i passeggeri con meno di 18 anni e \"adult\" per quelli con più di 18 anni."
   ]
  },
  {
   "cell_type": "code",
   "execution_count": null,
   "id": "fdae6743-4315-49e3-abfc-f4516fe0fd05",
   "metadata": {},
   "outputs": [],
   "source": []
  },
  {
   "cell_type": "markdown",
   "id": "8e45755a-be3d-445f-bdf3-658c48af9df4",
   "metadata": {},
   "source": [
    "Il DataFrame `cars` contiene le seguenti variabili:\n",
    "  1. **symboling:**              -3, -2, -1, 0, 1, 2, 3.\n",
    "  2. **normalized-losses:**        continuous from 65 to 256.\n",
    "  3. **make:**                     alfa-romero, audi, bmw, chevrolet, dodge, honda,\n",
    "                               isuzu, jaguar, mazda, mercedes-benz, mercury,\n",
    "                               mitsubishi, nissan, peugot, plymouth, porsche,\n",
    "                               renault, saab, subaru, toyota, volkswagen, volvo\n",
    "  4. **fuel-type:**                diesel, gas.\n",
    "  5. **aspiration:**               std, turbo.\n",
    "  6. **num-of-doors:**             four, two.\n",
    "  7. **body-style:**               hardtop, wagon, sedan, hatchback, convertible.\n",
    "  8. **drive-wheels:**             4wd, fwd, rwd.\n",
    "  9. **engine-location:**          front, rear.\n",
    " 10. **wheel-base:**               continuous from 86.6 to 120.9.\n",
    " 11. **length:**                   continuous from 141.1 to 208.1.\n",
    " 12. **width:**                    continuous from 60.3 to 72.3.\n",
    " 13. **height:**                   continuous from 47.8 to 59.8.\n",
    " 14. **curb-weight:**              continuous from 1488 to 4066.\n",
    " 15. **engine-type:**              dohc, dohcv, l, ohc, ohcf, ohcv, rotor.\n",
    " 16. **num-of-cylinders:**         eight, five, four, six, three, twelve, two.\n",
    " 17. **engine-size:**              continuous from 61 to 326.\n",
    " 18. **fuel-system:**              1bbl, 2bbl, 4bbl, idi, mfi, mpfi, spdi, spfi.\n",
    " 19. **bore:**                     continuous from 2.54 to 3.94.\n",
    " 20. **stroke:**                   continuous from 2.07 to 4.17.\n",
    " 21. **compression-ratio:**        continuous from 7 to 23.\n",
    " 22. **horsepower:**               continuous from 48 to 288.\n",
    " 23. **peak-rpm:**                 continuous from 4150 to 6600.\n",
    " 24. **city-mpg:**                 continuous from 13 to 49.\n",
    " 25. **highway-mpg:**              continuous from 16 to 54.\n",
    " 26. **price:**                    continuous from 5118 to 45400."
   ]
  },
  {
   "cell_type": "markdown",
   "id": "43871408-67f4-4c36-b363-179e6712e392",
   "metadata": {},
   "source": [
    "Calcolare:\n",
    "- Una nuova colonna `volume` ottenuta come prodotto di `lenght`, `width` e `height`.\n",
    "- il prezzo medio a seconda del produttore\n",
    "- i cavalli (horsepower) medi a seconda del tipo di motore (engine-type)\n",
    "- il prezzo medio delle Volvo sotto i 100 cavalli.\n",
    "- i cavalli massimi delle Porsche sopra i 90 cavalli.\n",
    "\n",
    "Rappresentare:\n",
    "- I cavalli in funzione del volume\n",
    "- Il prezzo in funzione del volume\n",
    "- La distribuzione del prezzo a seconda del produttore\n",
    "- La distribuzione di `lenght` a seconda del `body-style`\n",
    "- La dimensione media del motore a seconda del tipo di motore."
   ]
  },
  {
   "cell_type": "code",
   "execution_count": null,
   "id": "2e3120a7-776c-4bc3-bd78-1aa749be5ddb",
   "metadata": {},
   "outputs": [],
   "source": [
    "cars = pd.read_csv(\"data/cars.csv\")"
   ]
  },
  {
   "cell_type": "code",
   "execution_count": null,
   "id": "809bfc98-0e8a-4874-8235-6d446a3b8c22",
   "metadata": {},
   "outputs": [],
   "source": []
  }
 ],
 "metadata": {
  "kernelspec": {
   "display_name": "Python 3 (ipykernel)",
   "language": "python",
   "name": "python3"
  },
  "language_info": {
   "codemirror_mode": {
    "name": "ipython",
    "version": 3
   },
   "file_extension": ".py",
   "mimetype": "text/x-python",
   "name": "python",
   "nbconvert_exporter": "python",
   "pygments_lexer": "ipython3",
   "version": "3.12.2"
  }
 },
 "nbformat": 4,
 "nbformat_minor": 5
}
