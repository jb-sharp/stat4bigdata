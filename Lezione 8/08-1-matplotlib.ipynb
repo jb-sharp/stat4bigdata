{
 "cells": [
  {
   "cell_type": "markdown",
   "id": "2e3cced3",
   "metadata": {},
   "source": [
    "# [Matplotlib](https://matplotlib.org)\n",
    "\n",
    "Matplotlib è una libreria utilizzata per creare visualizzazioni statiche, animate ed interagibili in Python."
   ]
  },
  {
   "cell_type": "code",
   "execution_count": null,
   "id": "85c3c373",
   "metadata": {},
   "outputs": [],
   "source": [
    "# L'opzione -y serve per accettare eventuali prompt del programma\n",
    "# di installazione\n",
    "import sys\n",
    "!conda install matplotlib -y --prefix {sys.prefix}"
   ]
  },
  {
   "cell_type": "code",
   "execution_count": null,
   "id": "89beab71",
   "metadata": {},
   "outputs": [],
   "source": [
    "import matplotlib.pyplot as plt"
   ]
  },
  {
   "cell_type": "markdown",
   "id": "384e4c5e",
   "metadata": {},
   "source": [
    "Matplotlib mostra i dati in una `Figure`, la quale a sua volta può contenere uno o più `Axes`, ovvero un'area in cui è possibile specificare punti in termini di coordinate `x` e `y`. La funzione `pyplot.subplots` permette di creare facilmente questi due oggetti."
   ]
  },
  {
   "cell_type": "code",
   "execution_count": null,
   "id": "f6982099",
   "metadata": {},
   "outputs": [],
   "source": [
    "fig, ax = plt.subplots()\n",
    "plt.show()"
   ]
  },
  {
   "cell_type": "code",
   "execution_count": null,
   "id": "d9b9de9e",
   "metadata": {},
   "outputs": [],
   "source": [
    "fig, ax = plt.subplots(2, 2)\n",
    "plt.show()"
   ]
  },
  {
   "cell_type": "code",
   "execution_count": null,
   "id": "fcd5a761-b9dc-4174-b11c-490d20798393",
   "metadata": {},
   "outputs": [],
   "source": [
    "ax.shape"
   ]
  },
  {
   "cell_type": "markdown",
   "id": "e409a5c5-85f5-4d6a-9457-e84bd1b8837f",
   "metadata": {},
   "source": [
    "## Un solo `Axes`"
   ]
  },
  {
   "cell_type": "markdown",
   "id": "730814a3-c503-49a0-a469-32d8cd6a6ecd",
   "metadata": {},
   "source": [
    "Nel caso di una figura con un solo `Axes` possiamo anche usare il comando `plt.figure()` che crea una `Figure` con un solo `Axes` su cui tutti i successivi plot verranno disegnati."
   ]
  },
  {
   "cell_type": "markdown",
   "id": "295355ac-18f2-4dd5-8e69-f3a125717fe2",
   "metadata": {},
   "source": [
    "### [`plot`](https://matplotlib.org/stable/api/_as_gen/matplotlib.pyplot.plot.html)"
   ]
  },
  {
   "cell_type": "markdown",
   "id": "9da3a086",
   "metadata": {},
   "source": [
    "`plt.plot()` permette di disegnare un grafico con linee e punti, fornendo  le coordinate x e y dei punti."
   ]
  },
  {
   "cell_type": "markdown",
   "id": "793f7c1c-5018-49e7-875e-9b754a8466f6",
   "metadata": {},
   "source": [
    "Di deafult viene disegnata una linea spezzata che congiunge i punti"
   ]
  },
  {
   "cell_type": "code",
   "execution_count": null,
   "id": "1587dc17",
   "metadata": {},
   "outputs": [],
   "source": [
    "plt.figure()\n",
    "x = [1, 2, 3, 4]\n",
    "y = [1, 4, 2, 3]\n",
    "plt.plot(x, y)\n",
    "plt.show()"
   ]
  },
  {
   "cell_type": "markdown",
   "id": "f163d71e-e82b-41c9-968a-51db63634817",
   "metadata": {},
   "source": [
    "Si può inoltre specificare un simbolo per i punti:"
   ]
  },
  {
   "cell_type": "code",
   "execution_count": null,
   "id": "732ab398",
   "metadata": {},
   "outputs": [],
   "source": [
    "plt.figure()\n",
    "plt.plot(x, y, marker = 'o')\n",
    "plt.show()"
   ]
  },
  {
   "cell_type": "code",
   "execution_count": null,
   "id": "8f4e403d",
   "metadata": {},
   "outputs": [],
   "source": [
    "plt.figure()\n",
    "plt.plot(x, y, marker = 'x')\n",
    "plt.show()"
   ]
  },
  {
   "cell_type": "markdown",
   "id": "8554bf87-166a-45df-8c02-d8bae913ddb7",
   "metadata": {},
   "source": [
    "Come anche lo stile delle linee"
   ]
  },
  {
   "cell_type": "code",
   "execution_count": null,
   "id": "e7927ca9",
   "metadata": {},
   "outputs": [],
   "source": [
    "plt.figure()\n",
    "plt.plot(x, y, marker = 's', linestyle = ':')\n",
    "plt.show()"
   ]
  },
  {
   "cell_type": "markdown",
   "id": "c25a0188-83bf-4f5c-8afc-3882733be899",
   "metadata": {},
   "source": [
    "Le varie funzioni di matplotlib hanno tantissimi parametri per poter personlizzare i grafici secondo le più diverse esigenze. "
   ]
  },
  {
   "cell_type": "code",
   "execution_count": null,
   "id": "9b753c65",
   "metadata": {},
   "outputs": [],
   "source": [
    "plt.figure()\n",
    "plt.plot(x, \n",
    "         y, \n",
    "         marker = 'o',       # Marker punto\n",
    "         linestyle = '-.',   # Linea punto\n",
    "         color = 'green',    # Colore verde\n",
    "         linewidth = 5,      # Spessore linea 5\n",
    "         markersize = 10)    # Dimensione del marker 10\n",
    "plt.show()"
   ]
  },
  {
   "cell_type": "markdown",
   "id": "614219e7-856f-42b1-bf3a-5251367b8a4b",
   "metadata": {},
   "source": [
    "Finché non si crea una nuova `Figure` tutti i plot vengono conferiti a quella precedente"
   ]
  },
  {
   "cell_type": "code",
   "execution_count": null,
   "id": "8fd032b0",
   "metadata": {},
   "outputs": [],
   "source": [
    "plt.figure()\n",
    "plt.plot(x, \n",
    "        y, \n",
    "        marker = 'o', \n",
    "        linestyle = '-.',\n",
    "        color = 'green',\n",
    "        linewidth = 5,\n",
    "        markersize = 10)\n",
    "plt.plot(x,\n",
    "        [2, 3, 3, 4],\n",
    "        marker = '8',\n",
    "        linestyle = '--',\n",
    "        color = 'orange')\n",
    "plt.show()"
   ]
  },
  {
   "cell_type": "markdown",
   "id": "c017baf3-ea45-4e20-ad36-a1b7308165c9",
   "metadata": {},
   "source": [
    "Chiaramente spesso è utile urilizzare matplotlib per visulizzare i risultati ottenuti con dei calcoli di NumPy per esempio."
   ]
  },
  {
   "cell_type": "code",
   "execution_count": null,
   "id": "20cc0791",
   "metadata": {},
   "outputs": [],
   "source": [
    "import numpy as np"
   ]
  },
  {
   "cell_type": "code",
   "execution_count": null,
   "id": "cef8e1d0",
   "metadata": {},
   "outputs": [],
   "source": [
    "n = np.arange(0, 5, 0.2)"
   ]
  },
  {
   "cell_type": "code",
   "execution_count": null,
   "id": "c912ffd4",
   "metadata": {},
   "outputs": [],
   "source": [
    "plt.figure()\n",
    "plt.plot(n, marker = '.')\n",
    "plt.show()"
   ]
  },
  {
   "cell_type": "markdown",
   "id": "69680b9c-95f6-4f6a-8520-1866f3ccd446",
   "metadata": {},
   "source": [
    "Quando aggiungiamo più plot allo stesso `Axes` vengono automaticamente rappresentati con colori diversi"
   ]
  },
  {
   "cell_type": "code",
   "execution_count": null,
   "id": "e98c326e",
   "metadata": {},
   "outputs": [],
   "source": [
    "plt.figure()\n",
    "plt.plot(n, label = \"n\")\n",
    "plt.plot(n**2, label = \"n^2\")\n",
    "plt.plot(n**3, label = \"n^3\")\n",
    "plt.legend()\n",
    "plt.show()"
   ]
  },
  {
   "cell_type": "markdown",
   "id": "7b853013-d2be-4cc7-904b-a19fbd2bfb6b",
   "metadata": {},
   "source": [
    "### [`scatter`](https://matplotlib.org/stable/api/_as_gen/matplotlib.pyplot.scatter.html)"
   ]
  },
  {
   "cell_type": "markdown",
   "id": "b754c424-f82a-4589-bc3d-fc3b59420df0",
   "metadata": {},
   "source": [
    "L'altro tipo di grafico molto usato è lo scatter plot o diagramma a dispersione. È utilizzato per rappresentare punti nel piano."
   ]
  },
  {
   "cell_type": "code",
   "execution_count": null,
   "id": "55bc92da-de0f-4049-8ad2-8f3cb7aa119f",
   "metadata": {},
   "outputs": [],
   "source": [
    "x = np.arange(50)\n",
    "y = x + 10 * np.random.randn(50)"
   ]
  },
  {
   "cell_type": "code",
   "execution_count": null,
   "id": "3a6e63b5-2771-436c-9037-4cd2de37416e",
   "metadata": {},
   "outputs": [],
   "source": [
    "plt.figure()\n",
    "plt.scatter(x, y)\n",
    "plt.show()"
   ]
  },
  {
   "cell_type": "markdown",
   "id": "16966412-3d8e-4894-9b9d-b524598e7538",
   "metadata": {},
   "source": [
    "Anche in questo caso vi sono ifinite possibilità di personalizzazione"
   ]
  },
  {
   "cell_type": "code",
   "execution_count": null,
   "id": "f3b24d23-995d-4ead-b8d3-beda2189c601",
   "metadata": {},
   "outputs": [],
   "source": [
    "plt.figure()\n",
    "plt.scatter(x, y, marker = \"*\", color = \"crimson\")\n",
    "plt.show()"
   ]
  },
  {
   "cell_type": "markdown",
   "id": "6da3cf66-7543-48f0-b457-976d6bf4cbc6",
   "metadata": {},
   "source": [
    "Ad ogni punto si possono anche assegnare proprietà diverse:"
   ]
  },
  {
   "cell_type": "code",
   "execution_count": null,
   "id": "969cf004-e55d-43ae-b9dc-9d220567d7d5",
   "metadata": {},
   "outputs": [],
   "source": [
    "plt.figure()\n",
    "plt.scatter(x, y, marker = \"*\", \n",
    "            alpha = [0.8]*20 + [0.5]*30,\n",
    "            s = [20]*20 + [90]*30,\n",
    "            c = [\"teal\"]*20 + [\"cornflowerblue\"]*30)\n",
    "plt.show()"
   ]
  },
  {
   "cell_type": "code",
   "execution_count": null,
   "id": "bdae6d9e",
   "metadata": {},
   "outputs": [],
   "source": [
    "c = np.random.randint(0, 50, 50)\n",
    "s = np.abs(np.random.randn(50)) * 100"
   ]
  },
  {
   "cell_type": "code",
   "execution_count": null,
   "id": "ad5acace",
   "metadata": {},
   "outputs": [],
   "source": [
    "plt.figure()\n",
    "plt.scatter(x, y, \n",
    "            c = c, # colore random \n",
    "            s = s) # dimensione random\n",
    "plt.show()"
   ]
  },
  {
   "cell_type": "markdown",
   "id": "aa636c25-7d4e-4e20-ac22-db706fb0b770",
   "metadata": {},
   "source": [
    "### [`bar`](https://matplotlib.org/stable/api/_as_gen/matplotlib.pyplot.scatter.html)"
   ]
  },
  {
   "cell_type": "markdown",
   "id": "85145b8e-cef6-44cd-9271-a86521c9161c",
   "metadata": {},
   "source": [
    "L'ultimo tipo di plot che vediamo è il diagramma a barre o bar plot. Per questo occore specificare le barre e le loro altezze."
   ]
  },
  {
   "cell_type": "code",
   "execution_count": null,
   "id": "09e4b932",
   "metadata": {},
   "outputs": [],
   "source": [
    "gruppi = ['gruppo 1', 'gruppo 2', 'gruppo 3']\n",
    "valori = [40, 10, 100]"
   ]
  },
  {
   "cell_type": "code",
   "execution_count": null,
   "id": "63b96824",
   "metadata": {},
   "outputs": [],
   "source": [
    "plt.figure()\n",
    "plt.bar(gruppi, height = valori)\n",
    "plt.show()"
   ]
  },
  {
   "cell_type": "markdown",
   "id": "f27d5f36-f08e-4955-a510-ce0a9cf4586a",
   "metadata": {},
   "source": [
    "Anche in questo caso vi sono moltissime possibilità di personalizzazione."
   ]
  },
  {
   "cell_type": "code",
   "execution_count": null,
   "id": "cd664c37-6b91-4007-a621-a9fceac20864",
   "metadata": {},
   "outputs": [],
   "source": [
    "plt.figure()\n",
    "plt.bar(gruppi, height = valori,\n",
    "        color = [\"crimson\", \"cornflowerblue\", \"teal\"],\n",
    "        edgecolor = \"black\",     # Colore del contorno\n",
    "        yerr = [4, 6, 2],        # Altezze delle barre d'errore\n",
    "        alpha = 0.8,             # Opacità delle barre\n",
    "       )\n",
    "plt.show()"
   ]
  },
  {
   "cell_type": "markdown",
   "id": "4697cb29-f962-4b1a-8d0c-d42fb95fe740",
   "metadata": {},
   "source": [
    "Possiamo poi specificare le etichette degli assi e un titolo per completare la figura"
   ]
  },
  {
   "cell_type": "code",
   "execution_count": null,
   "id": "5b7a1613-6f74-40cd-ae39-2bdcdf2b0892",
   "metadata": {},
   "outputs": [],
   "source": [
    "plt.figure()\n",
    "plt.bar(gruppi, height = valori,\n",
    "        color = [\"crimson\", \"cornflowerblue\", \"teal\"],\n",
    "        edgecolor = \"black\",\n",
    "        yerr = [4, 6, 2],\n",
    "        alpha = 0.8,\n",
    "       )\n",
    "plt.xlabel(\"Gruppi\")\n",
    "plt.ylabel(\"Ricavi €\")\n",
    "plt.title(\"Ricavi in base ai gruppi\")\n",
    "plt.show()"
   ]
  },
  {
   "cell_type": "markdown",
   "id": "2b67753c-055e-4f1a-9008-9468b7637af5",
   "metadata": {},
   "source": [
    "## Multipli `Axes`"
   ]
  },
  {
   "cell_type": "markdown",
   "id": "a0f04e02-858e-4b3f-a5ab-2580e5068d24",
   "metadata": {},
   "source": [
    "Quando vogliamo specificare più grafici in una sola `Figure` dobbiamo unsare `subplots` che ci permette di creare una griglia di `Axes` con un certo numero di righe e colonne."
   ]
  },
  {
   "cell_type": "code",
   "execution_count": null,
   "id": "4b18ffcb-632f-40d6-8142-21711ae1e370",
   "metadata": {},
   "outputs": [],
   "source": [
    "# Una riga e tre colonne\n",
    "fig, ax = plt.subplots(1, 3, figsize = (10, 5))"
   ]
  },
  {
   "cell_type": "markdown",
   "id": "234c4b5b-332d-49d2-8c72-8b777a12cbbb",
   "metadata": {},
   "source": [
    "Per accedere ad ognuno degli assi possiamo usare la variabile `ax` che è un vettore della stessa shape del numero righe e numero colonne del subplot."
   ]
  },
  {
   "cell_type": "code",
   "execution_count": null,
   "id": "64072044-1aaf-4580-b7d7-099e00ccc56a",
   "metadata": {},
   "outputs": [],
   "source": [
    "ax.shape"
   ]
  },
  {
   "cell_type": "code",
   "execution_count": null,
   "id": "3c67e984",
   "metadata": {},
   "outputs": [],
   "source": [
    "fig, ax = plt.subplots(1, 3, figsize = (10, 5))\n",
    "\n",
    "ax[0].plot(gruppi, valori)\n",
    "ax[1].scatter(gruppi, valori)\n",
    "ax[2].bar(gruppi, valori)\n",
    "\n",
    "plt.show()"
   ]
  },
  {
   "cell_type": "markdown",
   "id": "3f872e8f-1ca2-40a8-84b1-71b90a62d7b2",
   "metadata": {},
   "source": [
    "## Esercizi"
   ]
  },
  {
   "cell_type": "markdown",
   "id": "bcdffbd1-b87c-46d2-b84c-f08b443a541e",
   "metadata": {},
   "source": [
    "Generare quattro diversi campioni di dimensione 50 estratti da quattro distribuzioni normali 2d con medie pari a [-1, 4], [2, -2], [3, 6] e [-1, -3] e matrici di varianza covarianza pari all'identità 2x2.\n",
    "\n",
    "Rappresentare i quatto campioni come punti nel piano:\n",
    "- prima in un unica figura\n",
    "- poi in quattro assi di una stessa figura\n",
    "\n",
    "Evidenziare i gruppi con colori diversi, mettendo in evidenza la media campionaria con un simbolo diverso e più grande."
   ]
  },
  {
   "cell_type": "code",
   "execution_count": null,
   "id": "5fd4869e-da8a-48bc-9b4e-2573fd6c1578",
   "metadata": {},
   "outputs": [],
   "source": []
  },
  {
   "cell_type": "markdown",
   "id": "8ffde26d-0129-49f0-aa4f-31ef48b60248",
   "metadata": {},
   "source": [
    "La matrice `X` contiene le misurazioni di 10 titoli azionari misurati ogni ora per 5 settimane (ogni riga è un titolo). \n",
    "\n",
    "Plottare l'andamento di ogni titolo usando uno stesso colore, sovrapporre poi l'andamento medio (ovvero l'andamento che per ogni periodo vale la media dei titoli in quel periodo) con il colore rosso e una linea di spessore 2."
   ]
  },
  {
   "cell_type": "code",
   "execution_count": null,
   "id": "613977ce-e00f-43e2-9097-653ef1a9e20a",
   "metadata": {},
   "outputs": [],
   "source": [
    "with open(\"data/stocks.dat\", \"rb\") as file:\n",
    "    X = pickle.load(file)"
   ]
  },
  {
   "cell_type": "code",
   "execution_count": null,
   "id": "77f4fe2b-5620-4a06-bfc4-49dc058bd616",
   "metadata": {},
   "outputs": [],
   "source": []
  },
  {
   "cell_type": "markdown",
   "id": "fc60a836-b98f-4c78-9974-02f4ecdc8588",
   "metadata": {},
   "source": [
    "Il dizionario `regioni` associa ad ogni regione italiana la sua popolazione.\n",
    "Disegnare un grafico a barre della popolazione per regione colorando le barre a seconda del ragguppamento:\n",
    "- **Nord:** Valle d'aosta, Piemonte, Liguria, Lombardia, Veneto, Trentito-Alto Adige, Friuli Venezia Giulia, Emilia-Romagna\n",
    "- **Centro:** Toscana, Marche, Umbria, Lazio\n",
    "- **Sud:** Abruzzo, Molise, Campania, Basilicata, Calabria, Puglia\n",
    "- **Isole:** Sicilia, Sardegna\n",
    "\n",
    "*Hint:* Usare `barh` al posto di `bar` e l'attributo `width` al posto di `height`."
   ]
  },
  {
   "cell_type": "code",
   "execution_count": null,
   "id": "fa6a29d2-543f-44c3-a77a-820f68fae36c",
   "metadata": {},
   "outputs": [],
   "source": [
    "with open(\"data/regioni.dat\", \"rb\") as file:\n",
    "    regioni = pickle.load(file)"
   ]
  },
  {
   "cell_type": "code",
   "execution_count": null,
   "id": "4a302a40-87f0-4292-b039-d6dc239477c4",
   "metadata": {},
   "outputs": [],
   "source": []
  }
 ],
 "metadata": {
  "kernelspec": {
   "display_name": "Python 3 (ipykernel)",
   "language": "python",
   "name": "python3"
  },
  "language_info": {
   "codemirror_mode": {
    "name": "ipython",
    "version": 3
   },
   "file_extension": ".py",
   "mimetype": "text/x-python",
   "name": "python",
   "nbconvert_exporter": "python",
   "pygments_lexer": "ipython3",
   "version": "3.12.2"
  }
 },
 "nbformat": 4,
 "nbformat_minor": 5
}
