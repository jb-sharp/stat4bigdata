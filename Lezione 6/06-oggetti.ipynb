{
 "cells": [
  {
   "cell_type": "markdown",
   "id": "ff88fee0",
   "metadata": {},
   "source": [
    "# Programmazione Orientata agli Oggetti\n",
    "\n",
    "La **programmazione orientata ad oggetti** è un paradigma di programmazione che si fonda sui concetti di **classe**. Viene utilizzata per strutturare il codice in modelli riutilizzabili, chiamati classi, che vengono usate per creare singole istanze, chiamate oggetti.\n",
    "\n",
    "## Classe\n",
    "Una **classe** è la rappresentazione astratta di come un oggetto. Essa, in realtà, non contiene nessun dato.\n",
    "\n",
    "## Oggetto\n",
    "Un **oggetto** è un'istanza di una classe. Quasi tutto ciò che abbiamo visto fino ad ora in Python è un oggetto, con le sue proprietà e i suoi metodi.\n",
    "\n",
    "### `isinstance(object, class)`\n",
    "\n",
    "La funzione `isinstance()` restituisce `True` se l'oggetto passato come parametro `object` è un'istanza della classe passata come parametro `class`."
   ]
  },
  {
   "cell_type": "code",
   "execution_count": 1,
   "id": "c18bbc09",
   "metadata": {},
   "outputs": [
    {
     "data": {
      "text/plain": [
       "True"
      ]
     },
     "execution_count": 1,
     "metadata": {},
     "output_type": "execute_result"
    }
   ],
   "source": [
    "# l è un oggetto istanza della classe list\n",
    "l = [1, 2, 3]\n",
    "isinstance(l, list)"
   ]
  },
  {
   "cell_type": "markdown",
   "id": "b5f787f8",
   "metadata": {},
   "source": [
    "La sintassi più comune per definire una classe è la seguente:\n",
    "\n",
    "```\n",
    "class nome_classe:\n",
    "    istruzione1\n",
    "    ...\n",
    "    istruzioneN\n",
    "```\n",
    "\n",
    "I nomi delle classi _dovrebbero_ seguire la convenzione CapWords: ovvero l'uso di parole accostate senza spazi ed ognuna con la prima lettera maiuscola."
   ]
  },
  {
   "cell_type": "code",
   "execution_count": 2,
   "id": "df64300d",
   "metadata": {},
   "outputs": [],
   "source": [
    "# Esempio di una classe vuota\n",
    "class Animale:\n",
    "    pass"
   ]
  },
  {
   "cell_type": "code",
   "execution_count": 3,
   "id": "0c425b19-a4be-46a5-bb63-e6a64eaace99",
   "metadata": {},
   "outputs": [
    {
     "ename": "SyntaxError",
     "evalue": "incomplete input (338673969.py, line 1)",
     "output_type": "error",
     "traceback": [
      "\u001b[0;36m  Cell \u001b[0;32mIn[3], line 1\u001b[0;36m\u001b[0m\n\u001b[0;31m    class Animale:\u001b[0m\n\u001b[0m                  ^\u001b[0m\n\u001b[0;31mSyntaxError\u001b[0m\u001b[0;31m:\u001b[0m incomplete input\n"
     ]
    }
   ],
   "source": [
    "class Animale:"
   ]
  },
  {
   "cell_type": "markdown",
   "id": "de9df1c5",
   "metadata": {},
   "source": [
    "Una classe viene *istanziata* chiamando una coppia di metodi speciali che ogni classe deve possedere: prima il metodo **costruttore** `__new__` e poi il metodo **inizializzatore** `__init__`. \n",
    "\n",
    "Quando si vuole istanziare un oggetto di una determinata classe, basta chiamare il nome della classe passando tanti argomenti quanti sono necessari al metodo `__init__`, proprio come se si stesse facendo una chiamata ad una funzione."
   ]
  },
  {
   "cell_type": "code",
   "execution_count": 4,
   "id": "be829c8a",
   "metadata": {},
   "outputs": [
    {
     "data": {
      "text/plain": [
       "<__main__.Animale at 0x76c05a9d72f0>"
      ]
     },
     "execution_count": 4,
     "metadata": {},
     "output_type": "execute_result"
    }
   ],
   "source": [
    "# Esempio di instanziazione della classe animale\n",
    "cane = Animale()\n",
    "cane"
   ]
  },
  {
   "cell_type": "code",
   "execution_count": 5,
   "id": "13550fe2",
   "metadata": {},
   "outputs": [
    {
     "data": {
      "text/plain": [
       "__main__.Animale"
      ]
     },
     "execution_count": 5,
     "metadata": {},
     "output_type": "execute_result"
    }
   ],
   "source": [
    "type(cane)"
   ]
  },
  {
   "cell_type": "code",
   "execution_count": 6,
   "id": "c248f0dd-d51a-40c7-ad12-f1e79e08a7c6",
   "metadata": {},
   "outputs": [
    {
     "data": {
      "text/plain": [
       "True"
      ]
     },
     "execution_count": 6,
     "metadata": {},
     "output_type": "execute_result"
    }
   ],
   "source": [
    "isinstance(cane, Animale)"
   ]
  },
  {
   "cell_type": "markdown",
   "id": "c1720e79-ea3a-422e-af1b-96139c0531bd",
   "metadata": {},
   "source": [
    "Una classe è fatta da variabili e funzioni che nel linguaggio degli oggetti sono chiamati **attibuti** e **metodi**."
   ]
  },
  {
   "cell_type": "markdown",
   "id": "9f643e74",
   "metadata": {},
   "source": [
    "### Attributi\n",
    "\n",
    "Gli *attributi di una classe* sono le variabili definite direttamente nella classe e che avranno lo stesso valore per tutti gli oggetti che ne sono istanza. Gli *attributi di un'istanza* sono attributi relativi ad una signola istanza di una classe. Gli attibuti di una classe sono definiti in cima alla classe, mentre gli attributi di un'istanza sono definiti nell **inizializzatore**.\n",
    "\n",
    "Quando definiamo una classe scriviamo l'inizializzatore in modo che assegni all'instanza i suoi propri valori degli attributi.\n",
    "\n",
    "#### L'inizializzatore `__init__`\n",
    "\n",
    "Per impostare gli attributi di una istanza dobbiamo (ri)definire il metodo `__init__` di una classe. Il parametro `self` si riferisce alla corrente istanza della classe e viene utilizzato per accedere alle variabili appartenenti alla classe. Il parametro `self` deve essere sempre il primo parametro passato a `__init__` e, volendo, può essere l'unico in caso la classe non abbia attributi dell'istanza.\n",
    "\n",
    "Dopo il parametro `self` possiamo definire tutti gli argomenti che vogliamo in `__init__` per impostare gli attributi di un istanza."
   ]
  },
  {
   "cell_type": "code",
   "execution_count": 7,
   "id": "d816d822",
   "metadata": {},
   "outputs": [],
   "source": [
    "class Animale:\n",
    "    # Definiamo un attributo di classe regno\n",
    "    # che assumerà valore \"Animale\" per tutte le istanze \n",
    "    # della classe Animale\n",
    "    regno = \"Animale\"\n",
    "    \n",
    "    def __init__(self, nome):\n",
    "        # Definiamo un attributo di classe nome \n",
    "        # che ogni istanza di Animale potrà inizializzare \n",
    "        # diversamente.\n",
    "        self.nome = nome"
   ]
  },
  {
   "cell_type": "markdown",
   "id": "6f5a9503-1c65-4ca9-a940-49fbecce790d",
   "metadata": {},
   "source": [
    "Se l'inizializzatore possiede altri argomenti oltre a `self` vanno passati quando si vuole creare una nuova istanza (a meno che non gli siano assegnati dei valori di default)."
   ]
  },
  {
   "cell_type": "code",
   "execution_count": 8,
   "id": "85bc653f",
   "metadata": {},
   "outputs": [],
   "source": [
    "charlie = Animale(nome = 'Charlie')"
   ]
  },
  {
   "cell_type": "code",
   "execution_count": 9,
   "id": "1be113e6-4b47-42ad-8289-2687468a2677",
   "metadata": {},
   "outputs": [
    {
     "ename": "TypeError",
     "evalue": "Animale.__init__() missing 1 required positional argument: 'nome'",
     "output_type": "error",
     "traceback": [
      "\u001b[0;31m---------------------------------------------------------------------------\u001b[0m",
      "\u001b[0;31mTypeError\u001b[0m                                 Traceback (most recent call last)",
      "Cell \u001b[0;32mIn[9], line 1\u001b[0m\n\u001b[0;32m----> 1\u001b[0m fuffy \u001b[38;5;241m=\u001b[39m Animale()\n",
      "\u001b[0;31mTypeError\u001b[0m: Animale.__init__() missing 1 required positional argument: 'nome'"
     ]
    }
   ],
   "source": [
    "fuffy = Animale()"
   ]
  },
  {
   "cell_type": "markdown",
   "id": "9fc5feea-4d92-42b6-b60e-484d837fd5d2",
   "metadata": {},
   "source": [
    "Agli attributi di una istanza di una classe, che in Python sono sempre pubblici, sono sempre accessibili da un oggetto con la sintassi \n",
    "\n",
    "```\n",
    "istanza.attributo\n",
    "```"
   ]
  },
  {
   "cell_type": "code",
   "execution_count": 10,
   "id": "09e51051",
   "metadata": {},
   "outputs": [
    {
     "data": {
      "text/plain": [
       "('Charlie', 'Animale')"
      ]
     },
     "execution_count": 10,
     "metadata": {},
     "output_type": "execute_result"
    }
   ],
   "source": [
    "# Accediamo all'attributo di classe e di instanza di charlie\n",
    "charlie.nome, charlie.regno"
   ]
  },
  {
   "cell_type": "code",
   "execution_count": 11,
   "id": "58f10647",
   "metadata": {},
   "outputs": [
    {
     "data": {
      "text/plain": [
       "__main__.Animale"
      ]
     },
     "execution_count": 11,
     "metadata": {},
     "output_type": "execute_result"
    }
   ],
   "source": [
    "type(charlie)"
   ]
  },
  {
   "cell_type": "code",
   "execution_count": 12,
   "id": "f8a67ec0-7700-4abe-b78c-b27513169eff",
   "metadata": {},
   "outputs": [
    {
     "ename": "TypeError",
     "evalue": "Animale.__init__() missing 1 required positional argument: 'nome'",
     "output_type": "error",
     "traceback": [
      "\u001b[0;31m---------------------------------------------------------------------------\u001b[0m",
      "\u001b[0;31mTypeError\u001b[0m                                 Traceback (most recent call last)",
      "Cell \u001b[0;32mIn[12], line 4\u001b[0m\n\u001b[1;32m      1\u001b[0m \u001b[38;5;66;03m# Come per le funzioni non possiamo inizializzare\u001b[39;00m\n\u001b[1;32m      2\u001b[0m \u001b[38;5;66;03m# una classe come meno argomenti di quelli richiesti\u001b[39;00m\n\u001b[1;32m      3\u001b[0m \u001b[38;5;66;03m# dall'inizializzatore (senza contare self)\u001b[39;00m\n\u001b[0;32m----> 4\u001b[0m lucky \u001b[38;5;241m=\u001b[39m Animale()\n",
      "\u001b[0;31mTypeError\u001b[0m: Animale.__init__() missing 1 required positional argument: 'nome'"
     ]
    }
   ],
   "source": [
    "# Come per le funzioni non possiamo inizializzare\n",
    "# una classe come meno argomenti di quelli richiesti\n",
    "# dall'inizializzatore (senza contare self)\n",
    "lucky = Animale()"
   ]
  },
  {
   "cell_type": "code",
   "execution_count": 14,
   "id": "4871e32f",
   "metadata": {},
   "outputs": [],
   "source": [
    "class Animale:\n",
    "    zampe = 4\n",
    "    def __init__(self, nome = \"Charlie\", età = 3):\n",
    "        self.nome = nome\n",
    "        self.età = età"
   ]
  },
  {
   "cell_type": "code",
   "execution_count": 15,
   "id": "dee1a04d",
   "metadata": {},
   "outputs": [],
   "source": [
    "charlie = Animale('Charlie', 2)"
   ]
  },
  {
   "cell_type": "code",
   "execution_count": 16,
   "id": "86ff103d",
   "metadata": {},
   "outputs": [
    {
     "data": {
      "text/plain": [
       "4"
      ]
     },
     "execution_count": 16,
     "metadata": {},
     "output_type": "execute_result"
    }
   ],
   "source": [
    "# Attributo di classe\n",
    "charlie.zampe"
   ]
  },
  {
   "cell_type": "code",
   "execution_count": 17,
   "id": "23c57d4f-059d-450e-acd5-32120b116f60",
   "metadata": {},
   "outputs": [
    {
     "data": {
      "text/plain": [
       "('Charlie', 2)"
      ]
     },
     "execution_count": 17,
     "metadata": {},
     "output_type": "execute_result"
    }
   ],
   "source": [
    "# Attributi dell'istanza\n",
    "charlie.nome, charlie.età"
   ]
  },
  {
   "cell_type": "code",
   "execution_count": 18,
   "id": "59fd155b",
   "metadata": {},
   "outputs": [],
   "source": [
    "# Possiamo passare un solo argomento poiché\n",
    "# età ha un valore di default\n",
    "lucky = Animale('Lucky')"
   ]
  },
  {
   "cell_type": "code",
   "execution_count": 19,
   "id": "5e7e19e9",
   "metadata": {},
   "outputs": [
    {
     "data": {
      "text/plain": [
       "(4, 'Lucky', 3)"
      ]
     },
     "execution_count": 19,
     "metadata": {},
     "output_type": "execute_result"
    }
   ],
   "source": [
    "lucky.zampe, lucky.nome, lucky.età"
   ]
  },
  {
   "cell_type": "code",
   "execution_count": 20,
   "id": "e0a53106-9315-46a2-9ad1-00e72a740f5e",
   "metadata": {},
   "outputs": [
    {
     "data": {
      "text/plain": [
       "True"
      ]
     },
     "execution_count": 20,
     "metadata": {},
     "output_type": "execute_result"
    }
   ],
   "source": [
    "isinstance(charlie, Animale)"
   ]
  },
  {
   "cell_type": "code",
   "execution_count": 21,
   "id": "4b1f8993-53ae-42a0-866c-48e0faf79df3",
   "metadata": {},
   "outputs": [
    {
     "data": {
      "text/plain": [
       "True"
      ]
     },
     "execution_count": 21,
     "metadata": {},
     "output_type": "execute_result"
    }
   ],
   "source": [
    "isinstance(lucky, Animale)"
   ]
  },
  {
   "cell_type": "markdown",
   "id": "9175eb98",
   "metadata": {},
   "source": [
    "### Metodi\n",
    "\n",
    "I metodi di un'istanza (ci sono anche i metodi di classe che non vedremo) sono funzioni definite all'interno di una classe e che possono essere chiamate soltanto da un'istanza di tale classe. Così come per `__init__()`, il primo parametro di ogni metodo di una classe deve essere sempre `self` per poter accedere agli attributi dell'istanza."
   ]
  },
  {
   "cell_type": "code",
   "execution_count": null,
   "id": "ebb3e478",
   "metadata": {},
   "outputs": [],
   "source": [
    "class Animale:\n",
    "    zampe = 4\n",
    "    def __init__(self, nome = \"Charlie\", età = 3):\n",
    "        self.nome = nome\n",
    "        self.età = età   "
   ]
  },
  {
   "cell_type": "markdown",
   "id": "4a1d05a6-323a-4fb5-84fe-e155552a1681",
   "metadata": {},
   "source": [
    "Tutte le classi hanno alcuni metodi predefiniti come ad esempio:\n",
    "- `__init__` (per inizializzare un'istanza)\n",
    "- `__str__` (rappresentazione come stringa)\n",
    "- `__hash__` (hash code per la funzione `id`)\n",
    "- `__eq__` (per testare l'uguaglianza di due istanze)\n",
    "\n",
    "Questi fanno parte dei metodi detti *magic methods* o *dunder* che sono speciali metodi il cui nome inizia e termina con un doppio trattino basso.\n",
    "\n",
    "Questi metodi speciali non dovrebbero essere chiamati direttamente dall'utente, ma internamente alla classe in seguito ad una certa azione."
   ]
  },
  {
   "cell_type": "code",
   "execution_count": 22,
   "id": "bcec52c2-38f6-4d14-9d07-fb9750f36359",
   "metadata": {},
   "outputs": [
    {
     "data": {
      "text/plain": [
       "8160514235718"
      ]
     },
     "execution_count": 22,
     "metadata": {},
     "output_type": "execute_result"
    }
   ],
   "source": [
    "charlie.__hash__()"
   ]
  },
  {
   "cell_type": "code",
   "execution_count": 23,
   "id": "f0673428-1695-409b-a4f9-8e5b47224f91",
   "metadata": {},
   "outputs": [
    {
     "data": {
      "text/plain": [
       "130568227771488"
      ]
     },
     "execution_count": 23,
     "metadata": {},
     "output_type": "execute_result"
    }
   ],
   "source": [
    "id(charlie)"
   ]
  },
  {
   "cell_type": "markdown",
   "id": "145fa8c8-bde7-4fa8-b078-1b6342a20599",
   "metadata": {},
   "source": [
    "Il metodo predefinito `__str__` restituisce una stringa che descrive l'istanza."
   ]
  },
  {
   "cell_type": "code",
   "execution_count": 24,
   "id": "fdcaf51a-0fad-4a95-8d0e-0dfdcfa3043d",
   "metadata": {},
   "outputs": [
    {
     "data": {
      "text/plain": [
       "'<__main__.Animale object at 0x76c048d5d460>'"
      ]
     },
     "execution_count": 24,
     "metadata": {},
     "output_type": "execute_result"
    }
   ],
   "source": [
    "charlie.__str__()"
   ]
  },
  {
   "cell_type": "markdown",
   "id": "0593b951-6249-4fae-af0f-4c6ef26c065d",
   "metadata": {},
   "source": [
    "Questa è la stringa di default usata per descrivere un oggetto, il metodo `__str__` viene chiamato *under the hood* quando chiamiamo `print` su un'istanza di `Animale`."
   ]
  },
  {
   "cell_type": "code",
   "execution_count": 25,
   "id": "cac92d52",
   "metadata": {},
   "outputs": [
    {
     "name": "stdout",
     "output_type": "stream",
     "text": [
      "<__main__.Animale object at 0x76c048d5d460>\n"
     ]
    }
   ],
   "source": [
    "print(charlie)"
   ]
  },
  {
   "cell_type": "markdown",
   "id": "236caa4c-b07c-42e3-9faa-9fa4d03a748c",
   "metadata": {},
   "source": [
    "Tipicamente la descrizione di default è un po' povera. Per questo si può \n",
    "ridefinire il metodo `__str__` per personalizzare la descrizione di un'istanza:"
   ]
  },
  {
   "cell_type": "code",
   "execution_count": 27,
   "id": "4feab3b1",
   "metadata": {},
   "outputs": [],
   "source": [
    "class Animale:\n",
    "    zampe = 4\n",
    "    def __init__(self, nome = \"Charlie\", età = 3):\n",
    "        self.nome = nome\n",
    "        self.età = età   \n",
    "        \n",
    "    def __str__(self):\n",
    "        return f'Questo è il mio animale {self.nome} e ha {self.età} anni.'"
   ]
  },
  {
   "cell_type": "code",
   "execution_count": 28,
   "id": "914314a0",
   "metadata": {},
   "outputs": [],
   "source": [
    "charlie = Animale('Charlie')"
   ]
  },
  {
   "cell_type": "code",
   "execution_count": 29,
   "id": "49931536",
   "metadata": {},
   "outputs": [
    {
     "name": "stdout",
     "output_type": "stream",
     "text": [
      "Questo è il mio animale Charlie e ha 3 anni.\n"
     ]
    }
   ],
   "source": [
    "print(charlie)"
   ]
  },
  {
   "cell_type": "markdown",
   "id": "343a60e0-4d0a-474e-a7f8-c09fd819896e",
   "metadata": {},
   "source": [
    "Oltre a ridefinire i metodi di default possiamo creare metodi totalmente nuovi. Devovono avere come primo argomento `self` per accedere agli attributi di istanza e possono definire quanti argomenti vogliono."
   ]
  },
  {
   "cell_type": "code",
   "execution_count": 30,
   "id": "f9b4cced",
   "metadata": {},
   "outputs": [],
   "source": [
    "class Animale:\n",
    "    zampe = 4\n",
    "    def __init__(self, nome = \"Charlie\", età = 3):\n",
    "        self.nome = nome\n",
    "        self.età = età   \n",
    "        \n",
    "    def __str__(self):\n",
    "        return f'Questo è il mio animale {self.nome} e ha {self.età} anni.'\n",
    "    \n",
    "    def saluta(self, saluto):\n",
    "        print(f'{saluto}!')"
   ]
  },
  {
   "cell_type": "code",
   "execution_count": 31,
   "id": "47fe18d9",
   "metadata": {},
   "outputs": [],
   "source": [
    "charlie = Animale('Charlie', 2)"
   ]
  },
  {
   "cell_type": "code",
   "execution_count": 32,
   "id": "3b879a51-aefa-40de-8d3f-7c324589d5c6",
   "metadata": {},
   "outputs": [
    {
     "name": "stdout",
     "output_type": "stream",
     "text": [
      "Questo è il mio animale Charlie e ha 2 anni.\n"
     ]
    }
   ],
   "source": [
    "print(charlie)"
   ]
  },
  {
   "cell_type": "code",
   "execution_count": 33,
   "id": "306e6863",
   "metadata": {},
   "outputs": [
    {
     "name": "stdout",
     "output_type": "stream",
     "text": [
      "Bau!\n"
     ]
    }
   ],
   "source": [
    "charlie.saluta('Bau')"
   ]
  },
  {
   "cell_type": "code",
   "execution_count": 34,
   "id": "17a2bf07-8f23-45fa-ac60-4edefaa255e5",
   "metadata": {},
   "outputs": [
    {
     "ename": "NameError",
     "evalue": "name 'saluta' is not defined",
     "output_type": "error",
     "traceback": [
      "\u001b[0;31m---------------------------------------------------------------------------\u001b[0m",
      "\u001b[0;31mNameError\u001b[0m                                 Traceback (most recent call last)",
      "Cell \u001b[0;32mIn[34], line 1\u001b[0m\n\u001b[0;32m----> 1\u001b[0m saluta(\u001b[38;5;124m'\u001b[39m\u001b[38;5;124mBau\u001b[39m\u001b[38;5;124m'\u001b[39m)\n",
      "\u001b[0;31mNameError\u001b[0m: name 'saluta' is not defined"
     ]
    }
   ],
   "source": [
    "# saluta è un metodo della classe Animale\n",
    "saluta('Bau')"
   ]
  },
  {
   "cell_type": "markdown",
   "id": "c654033f",
   "metadata": {},
   "source": [
    "## Ereditarietà\n",
    "\n",
    "L'**ereditarietà** permette di definire una classe in modo che erediti tutti i metodi e le proprietà di un'altra classe. La classe *padre* o *base* è la classe da cui si eredita; la classe *figlia* o *derivata* è la classe che eredita.\n",
    "\n",
    "La sintassi per creare una classe derivata è\n",
    "```\n",
    "class ClasseDerivata(ClasseBase):\n",
    "```"
   ]
  },
  {
   "cell_type": "code",
   "execution_count": 35,
   "id": "f92fb611",
   "metadata": {},
   "outputs": [],
   "source": [
    "class Cane(Animale):\n",
    "    pass"
   ]
  },
  {
   "cell_type": "markdown",
   "id": "dad6d289-30fa-47d7-8e4b-873c237386de",
   "metadata": {},
   "source": [
    "La classe `Cane` possiede tutti gli attributi e i metodi di `Animale`, infatti possiamo usare lo stesso inizializzatore per esempio."
   ]
  },
  {
   "cell_type": "code",
   "execution_count": 36,
   "id": "f63c9d5e",
   "metadata": {},
   "outputs": [],
   "source": [
    "charlie = Cane('Charlie', 2)"
   ]
  },
  {
   "cell_type": "code",
   "execution_count": 37,
   "id": "6e6f73c4",
   "metadata": {},
   "outputs": [
    {
     "data": {
      "text/plain": [
       "'Charlie'"
      ]
     },
     "execution_count": 37,
     "metadata": {},
     "output_type": "execute_result"
    }
   ],
   "source": [
    "charlie.nome"
   ]
  },
  {
   "cell_type": "code",
   "execution_count": 38,
   "id": "d5c3a22e",
   "metadata": {},
   "outputs": [
    {
     "data": {
      "text/plain": [
       "__main__.Cane"
      ]
     },
     "execution_count": 38,
     "metadata": {},
     "output_type": "execute_result"
    }
   ],
   "source": [
    "type(charlie)"
   ]
  },
  {
   "cell_type": "markdown",
   "id": "6536b5f7-d35d-4452-8a84-e75b827b2e1a",
   "metadata": {},
   "source": [
    "Poiché `Cane` è una sottoclasse di `Animale` è un'istanza di entrambe."
   ]
  },
  {
   "cell_type": "code",
   "execution_count": 39,
   "id": "44ea190a",
   "metadata": {},
   "outputs": [
    {
     "data": {
      "text/plain": [
       "True"
      ]
     },
     "execution_count": 39,
     "metadata": {},
     "output_type": "execute_result"
    }
   ],
   "source": [
    "isinstance(charlie, Cane)"
   ]
  },
  {
   "cell_type": "code",
   "execution_count": 40,
   "id": "b10fc9a8",
   "metadata": {},
   "outputs": [
    {
     "data": {
      "text/plain": [
       "True"
      ]
     },
     "execution_count": 40,
     "metadata": {},
     "output_type": "execute_result"
    }
   ],
   "source": [
    "isinstance(charlie, Animale)"
   ]
  },
  {
   "cell_type": "code",
   "execution_count": 41,
   "id": "66907506-fd05-4fc3-a505-715db5374b97",
   "metadata": {},
   "outputs": [
    {
     "data": {
      "text/plain": [
       "False"
      ]
     },
     "execution_count": 41,
     "metadata": {},
     "output_type": "execute_result"
    }
   ],
   "source": [
    "isinstance(lucky, Cane)"
   ]
  },
  {
   "cell_type": "markdown",
   "id": "8feb4b0a-06d9-43b2-b1a3-a77ee043a0b0",
   "metadata": {},
   "source": [
    "Le classi derivate possono definire nuovi attributi e metodi ad esse specifici che non derivano dalla classe base."
   ]
  },
  {
   "cell_type": "code",
   "execution_count": 42,
   "id": "b9ce8069",
   "metadata": {},
   "outputs": [],
   "source": [
    "class Cane(Animale):\n",
    "    specie = 'cane'"
   ]
  },
  {
   "cell_type": "code",
   "execution_count": 43,
   "id": "48233633",
   "metadata": {},
   "outputs": [],
   "source": [
    "charlie = Cane('Charlie', 2)"
   ]
  },
  {
   "cell_type": "code",
   "execution_count": 44,
   "id": "dc1c69ba",
   "metadata": {},
   "outputs": [
    {
     "data": {
      "text/plain": [
       "'cane'"
      ]
     },
     "execution_count": 44,
     "metadata": {},
     "output_type": "execute_result"
    }
   ],
   "source": [
    "charlie.specie"
   ]
  },
  {
   "cell_type": "code",
   "execution_count": 45,
   "id": "7596dc19",
   "metadata": {},
   "outputs": [],
   "source": [
    "lucky = Animale('Lucky', 2)"
   ]
  },
  {
   "cell_type": "code",
   "execution_count": 46,
   "id": "f923bc87",
   "metadata": {},
   "outputs": [
    {
     "ename": "AttributeError",
     "evalue": "'Animale' object has no attribute 'specie'",
     "output_type": "error",
     "traceback": [
      "\u001b[0;31m---------------------------------------------------------------------------\u001b[0m",
      "\u001b[0;31mAttributeError\u001b[0m                            Traceback (most recent call last)",
      "Cell \u001b[0;32mIn[46], line 1\u001b[0m\n\u001b[0;32m----> 1\u001b[0m lucky\u001b[38;5;241m.\u001b[39mspecie\n",
      "\u001b[0;31mAttributeError\u001b[0m: 'Animale' object has no attribute 'specie'"
     ]
    }
   ],
   "source": [
    "lucky.specie"
   ]
  },
  {
   "cell_type": "markdown",
   "id": "ef00790b-8e60-4fa3-92cb-874929f668ba",
   "metadata": {},
   "source": [
    "Una classe derivata può anche ridefinire gli attributi o i metodi della classe base."
   ]
  },
  {
   "cell_type": "code",
   "execution_count": 47,
   "id": "a925f171",
   "metadata": {},
   "outputs": [],
   "source": [
    "class Volatile(Animale):\n",
    "    # Ridefiniamo l'attributo di classe zampe\n",
    "    zampe = 2\n",
    "\n",
    "    # Ridefiniamo anche il metdo __str__\n",
    "    def __str__(self):\n",
    "        return f'Questo è il mio volatile {self.nome} e ha {self.età} anni.'"
   ]
  },
  {
   "cell_type": "code",
   "execution_count": 48,
   "id": "9b16ff40",
   "metadata": {},
   "outputs": [],
   "source": [
    "cip = Volatile('Titti', 4)"
   ]
  },
  {
   "cell_type": "code",
   "execution_count": 49,
   "id": "99d960c8",
   "metadata": {},
   "outputs": [
    {
     "data": {
      "text/plain": [
       "(2, 4)"
      ]
     },
     "execution_count": 49,
     "metadata": {},
     "output_type": "execute_result"
    }
   ],
   "source": [
    "cip.zampe, charlie.zampe"
   ]
  },
  {
   "cell_type": "code",
   "execution_count": 50,
   "id": "6adea851",
   "metadata": {},
   "outputs": [
    {
     "name": "stdout",
     "output_type": "stream",
     "text": [
      "Questo è il mio animale Charlie e ha 2 anni.\n",
      "Questo è il mio volatile Titti e ha 4 anni.\n"
     ]
    }
   ],
   "source": [
    "print(charlie)\n",
    "print(cip)"
   ]
  },
  {
   "cell_type": "markdown",
   "id": "ef9b2055-cb8b-4092-be35-f3be5f748a50",
   "metadata": {},
   "source": [
    "#### La classe `object`"
   ]
  },
  {
   "cell_type": "code",
   "execution_count": null,
   "id": "cbc4673d-10dd-402f-9cf6-cc49497179dc",
   "metadata": {},
   "outputs": [],
   "source": [
    "# Esempio di una classe vuota\n",
    "class Animale(object):\n",
    "    pass\n",
    "\n",
    "class Animale:\n",
    "    pass"
   ]
  },
  {
   "cell_type": "markdown",
   "id": "53575d47-83a7-4055-ba60-59a681ad7d24",
   "metadata": {},
   "source": [
    "Quando non specifichiamo una classe base, la nostra nuova classe avra come classe base la classe `object` la classe base per eccellenza in Python.\n",
    "\n",
    "Per questo abbiamo potuto ridefinire il metodo `__str__` della classe `Animale` poiché, non avendo specificato una classe base, `Animale` discende direttamente da object che definisce il metodo `__str__`."
   ]
  },
  {
   "cell_type": "code",
   "execution_count": 51,
   "id": "9886c00a-fa7f-4261-aad7-cef7b52681ac",
   "metadata": {},
   "outputs": [
    {
     "data": {
      "text/plain": [
       "True"
      ]
     },
     "execution_count": 51,
     "metadata": {},
     "output_type": "execute_result"
    }
   ],
   "source": [
    "isinstance(charlie, object)"
   ]
  },
  {
   "cell_type": "code",
   "execution_count": 52,
   "id": "f31ab719-7b19-44a9-8016-354586b580df",
   "metadata": {},
   "outputs": [
    {
     "data": {
      "text/plain": [
       "True"
      ]
     },
     "execution_count": 52,
     "metadata": {},
     "output_type": "execute_result"
    }
   ],
   "source": [
    "isinstance(1, object)"
   ]
  },
  {
   "cell_type": "code",
   "execution_count": 53,
   "id": "2a8b3dcd-6695-4b78-bc35-7a826d61b3b8",
   "metadata": {},
   "outputs": [
    {
     "data": {
      "text/plain": [
       "True"
      ]
     },
     "execution_count": 53,
     "metadata": {},
     "output_type": "execute_result"
    }
   ],
   "source": [
    "isinstance([1,2,3], object)"
   ]
  },
  {
   "cell_type": "code",
   "execution_count": 54,
   "id": "2a601f00-cee1-4ef5-952d-0302f93bfb5b",
   "metadata": {},
   "outputs": [
    {
     "data": {
      "text/plain": [
       "True"
      ]
     },
     "execution_count": 54,
     "metadata": {},
     "output_type": "execute_result"
    }
   ],
   "source": [
    "isinstance(\"Ciao\", object)"
   ]
  },
  {
   "cell_type": "markdown",
   "id": "5b1d32c3-06f5-49e6-aba1-cec6fee07a86",
   "metadata": {},
   "source": [
    "## Esercizi"
   ]
  },
  {
   "cell_type": "markdown",
   "id": "6193a508-1fab-45b1-bd3a-e23be9b84573",
   "metadata": {},
   "source": [
    "Definire una classe `StudenteUnimi` con i seguenti attributi (stabilendo quali sono attributi di classe e quali di istanza)\n",
    "- `ateneo`\n",
    "- `nome`\n",
    "- `cognome`\n",
    "- `dominio` il dominio email.\n",
    "- `tipo` il tipo di laurea (triennale/magistrale).\n",
    "- `matricola`\n",
    "- `corso` il corso di laurea.\n",
    "- `dipartimento`\n",
    "- `incorso` il fatto che uno studente sia in corso."
   ]
  },
  {
   "cell_type": "code",
   "execution_count": 78,
   "id": "55202a05-f112-4053-9d0f-2a6fdc9fc272",
   "metadata": {},
   "outputs": [],
   "source": [
    "class StudenteUnimi:\n",
    "    # Due attributi di classe\n",
    "    ateneo = \"unimi\"\n",
    "    dominio = \"studenti.unimi.it\"\n",
    "\n",
    "    # tipo = True -> Triennale\n",
    "    def __init__(self, nome, cognome, matricola, corso, dipartimento, tipo = True, incorso = True):\n",
    "        self.nome = nome\n",
    "        self.cognome = cognome\n",
    "        self.matricola = matricola\n",
    "        self.tipo = tipo\n",
    "        self.corso = corso\n",
    "        self.dipartimento = dipartimento\n",
    "        self.incorso = incorso\n",
    "\n",
    "    # Stampa la rappresentazione testuale dello studente\n",
    "    def __str__(self):\n",
    "\n",
    "        if self.tipo:\n",
    "            tipostring = \"Triennale\"\n",
    "        else:\n",
    "            tipostring = \"Magistrale\"\n",
    "        \n",
    "        return f\"{self.nome} {self.cognome} con matricola {self.matricola}, studente {tipostring} di {self.corso} al dipartimento {self.dipartimento}.\"\n",
    "\n",
    "    def indirizzo_email(self):\n",
    "\n",
    "        print(f\"{self.nome.lower()}.{self.cognome.lower()}@{self.dominio}\")\n",
    "\n",
    "    def tipo_laurea(self):\n",
    "\n",
    "        return \"Triennale\" if self.tipo else \"Magistrale\"    "
   ]
  },
  {
   "cell_type": "code",
   "execution_count": 79,
   "id": "9c06fdd3-8919-4e22-bddb-901dd925d906",
   "metadata": {},
   "outputs": [],
   "source": [
    "mario = StudenteUnimi(\"Mario\", \"Rossi\", \"V23456\", \"Storia contemporanea\", \"Studi storici\")"
   ]
  },
  {
   "cell_type": "code",
   "execution_count": 80,
   "id": "83b7f842-d7ad-4d2e-b05e-db21db708d8c",
   "metadata": {},
   "outputs": [
    {
     "name": "stdout",
     "output_type": "stream",
     "text": [
      "Mario Rossi con matricola V23456, studente Triennale di Storia contemporanea al dipartimento Studi storici.\n"
     ]
    }
   ],
   "source": [
    "print(mario)"
   ]
  },
  {
   "cell_type": "code",
   "execution_count": 81,
   "id": "eff1c108-55d5-4768-9d78-8c447c971030",
   "metadata": {},
   "outputs": [
    {
     "name": "stdout",
     "output_type": "stream",
     "text": [
      "mario.rossi@studenti.unimi.it\n"
     ]
    }
   ],
   "source": [
    "mario.indirizzo_email()"
   ]
  },
  {
   "cell_type": "code",
   "execution_count": 82,
   "id": "37af735b-3de3-4e89-8f85-20be40cfe96e",
   "metadata": {},
   "outputs": [
    {
     "data": {
      "text/plain": [
       "'Triennale'"
      ]
     },
     "execution_count": 82,
     "metadata": {},
     "output_type": "execute_result"
    }
   ],
   "source": [
    "mario.tipo_laurea()"
   ]
  },
  {
   "cell_type": "code",
   "execution_count": 84,
   "id": "7c72dd24-e1ff-48b5-a892-f719c5098d17",
   "metadata": {},
   "outputs": [],
   "source": [
    "mario.tipo = False"
   ]
  },
  {
   "cell_type": "code",
   "execution_count": 85,
   "id": "68848790-7e28-4648-95e5-d8b3784cce71",
   "metadata": {},
   "outputs": [
    {
     "data": {
      "text/plain": [
       "False"
      ]
     },
     "execution_count": 85,
     "metadata": {},
     "output_type": "execute_result"
    }
   ],
   "source": [
    "mario.tipo"
   ]
  },
  {
   "cell_type": "code",
   "execution_count": 87,
   "id": "6593197d-9acc-412b-bccd-2637f72b6fb8",
   "metadata": {},
   "outputs": [
    {
     "name": "stdout",
     "output_type": "stream",
     "text": [
      "Mario Rossi con matricola V23456, studente Magistrale di Storia contemporanea al dipartimento Studi storici.\n"
     ]
    }
   ],
   "source": [
    "print(mario)"
   ]
  },
  {
   "cell_type": "code",
   "execution_count": 88,
   "id": "84ca1390-d7df-4720-aba9-40435a793ad9",
   "metadata": {},
   "outputs": [
    {
     "data": {
      "text/plain": [
       "'Magistrale'"
      ]
     },
     "execution_count": 88,
     "metadata": {},
     "output_type": "execute_result"
    }
   ],
   "source": [
    "mario.tipo_laurea()"
   ]
  },
  {
   "cell_type": "markdown",
   "id": "29cd0cb7-7f6f-48c8-ba4e-0ec40340f46f",
   "metadata": {},
   "source": [
    "e i seguenti metodi:\n",
    "- `__init__`\n",
    "- `__str__` che ritorni \"{nome} {cognome} con {matricola}, studente {tipo} di {corso} al {dipartimento}.\"\n",
    "- `indirizzo_email` che stampi l'indirizzo email.\n",
    "- `tipo_laurea` che ritorni una stringa \"Triennale\" o \"Magistrale\" a seconda del caso.\n",
    "\n",
    "\n",
    "Definire poi le sottoclassi `StudenteTriennale` e `StudenteMagistrale` ridefinendo gli opportuni attributi e metodi."
   ]
  },
  {
   "cell_type": "code",
   "execution_count": 92,
   "id": "82e1f15f-845a-4a02-aa60-2e2cd3b021fd",
   "metadata": {},
   "outputs": [],
   "source": [
    "class StudenteTriennale(StudenteUnimi):\n",
    "    \n",
    "    tipo = True\n",
    "\n",
    "    def __init__(self, nome, cognome, matricola, corso, dipartimento, incorso = True):\n",
    "        self.nome = nome\n",
    "        self.cognome = cognome\n",
    "        self.matricola = matricola\n",
    "        self.corso = corso\n",
    "        self.dipartimento = dipartimento\n",
    "        self.incorso = incorso\n",
    "\n",
    "    def __str__(self):\n",
    "        \n",
    "        return f\"{self.nome} {self.cognome} con matricola {self.matricola}, studente Triennale di {self.corso} al dipartimento {self.dipartimento}.\"\n",
    "\n",
    "    def tipo_laurea(self):\n",
    "        return \"Triennale\""
   ]
  },
  {
   "cell_type": "code",
   "execution_count": 93,
   "id": "3251bf90-363f-4b07-bc3c-ac1183408525",
   "metadata": {},
   "outputs": [],
   "source": [
    "marta = StudenteTriennale(\"Marta\", \"Bianchi\", \"V23458\", \"Storia contemporanea\", \"Studi storici\")"
   ]
  },
  {
   "cell_type": "code",
   "execution_count": 94,
   "id": "67b35b44-b499-457b-951e-5485303201ec",
   "metadata": {},
   "outputs": [
    {
     "data": {
      "text/plain": [
       "__main__.StudenteTriennale"
      ]
     },
     "execution_count": 94,
     "metadata": {},
     "output_type": "execute_result"
    }
   ],
   "source": [
    "type(marta)"
   ]
  },
  {
   "cell_type": "code",
   "execution_count": 95,
   "id": "823b0adf-a40e-4d71-a2ca-76ff2209361c",
   "metadata": {},
   "outputs": [
    {
     "data": {
      "text/plain": [
       "True"
      ]
     },
     "execution_count": 95,
     "metadata": {},
     "output_type": "execute_result"
    }
   ],
   "source": [
    "isinstance(marta, StudenteUnimi)"
   ]
  },
  {
   "cell_type": "code",
   "execution_count": 97,
   "id": "b0c615d8-441c-4d47-85c1-48dbc4cabd2e",
   "metadata": {},
   "outputs": [
    {
     "name": "stdout",
     "output_type": "stream",
     "text": [
      "Marta Bianchi con matricola V23458, studente Triennale di Storia contemporanea al dipartimento Studi storici.\n"
     ]
    }
   ],
   "source": [
    "print(marta)"
   ]
  },
  {
   "cell_type": "code",
   "execution_count": 98,
   "id": "9e277be6-555c-4e5b-ba72-486e4ff54d85",
   "metadata": {},
   "outputs": [
    {
     "name": "stdout",
     "output_type": "stream",
     "text": [
      "marta.bianchi@studenti.unimi.it\n"
     ]
    }
   ],
   "source": [
    "marta.indirizzo_email()"
   ]
  },
  {
   "cell_type": "markdown",
   "id": "e06be03f-2807-4760-9e09-4862b4582ce8",
   "metadata": {},
   "source": [
    "Definire:\n",
    "- una classe base `Figura` che rappresenti una figura geometrica piana.\n",
    "- una classe `Poligono` che erediti da `Figura` e che abbia come attributi\n",
    "    - `numero_lati`\n",
    "    - `lati` lista delle lunghezze dei lati\n",
    "\n",
    "  e metodo\n",
    "  - `perimetro` che calcoli il perimetro\n",
    "\n",
    "- una classe `Triangolo` che erediti da `Poligono` che ridefinisca metodi e attributi opportuni e aggiunga il metodo\n",
    "    - `area` che calcola l'area del triangolo con la formula di Erone.\n",
    "\n",
    "- una classe `Cerchio` che erediti da `Figura` con attributi\n",
    "    - `raggio`\n",
    "\n",
    "  e metodi\n",
    "    - `circonferenza` calcola la lunghezza della circonferenza\n",
    "    - `area` calcola l'area del cerchio\n",
    "\n",
    "Definire poi una lista di istanze di `Cerchio` e calcolare:\n",
    "- la lista dei raggi \n",
    "- la lista delle aree\n",
    "- il raggio e l'area medi"
   ]
  },
  {
   "cell_type": "code",
   "execution_count": null,
   "id": "66c7d0ca-bba1-42df-b666-f49a3ea7685e",
   "metadata": {},
   "outputs": [],
   "source": []
  },
  {
   "cell_type": "markdown",
   "id": "2d30479a-c312-4f80-ac64-fec239012f68",
   "metadata": {},
   "source": [
    "Definire una classe `Post` usata per rappresentare un post su un social network.\n",
    "\n",
    "La classe dovrà avere i seguenti attributi:\n",
    "- `social network`: string\n",
    "- `giorno`: int\n",
    "- `mese`: int\n",
    "- `anno`: int\n",
    "- `ora`: int\n",
    "- `minuti`: int\n",
    "- `secondi`: int\n",
    "- `messaggio`: string\n",
    "- `media`: bool, True se il post ha media allegati.\n",
    "\n",
    "e i seguenti metodi:\n",
    "- `__lt__(post)` che restituisce `True` se l'istanza è stata pubblicata prima dell'argomento.\n",
    "- `__gt__(post)` che restituisce `True` se l'istanza è stata pubblicata dopo l'argomento.\n",
    "- `__srt__()` che restituisce il messaggio con in cima la data e l'ora.\n",
    "- `__len__()` che restituisce il numero di parole del messaggio.\n",
    "- `in_post(parola)` che restituisce `True` se `parola` sta nel messaggio.\n",
    "\n",
    "Infine creare una lista di istanze di `Post` e calcolare la lunghezza media dei post che non hanno media allegati."
   ]
  },
  {
   "cell_type": "code",
   "execution_count": null,
   "id": "f3213785-a7d4-4288-ac80-9a5ff9217d11",
   "metadata": {},
   "outputs": [],
   "source": []
  }
 ],
 "metadata": {
  "kernelspec": {
   "display_name": "Python 3 (ipykernel)",
   "language": "python",
   "name": "python3"
  },
  "language_info": {
   "codemirror_mode": {
    "name": "ipython",
    "version": 3
   },
   "file_extension": ".py",
   "mimetype": "text/x-python",
   "name": "python",
   "nbconvert_exporter": "python",
   "pygments_lexer": "ipython3",
   "version": "3.12.2"
  }
 },
 "nbformat": 4,
 "nbformat_minor": 5
}
