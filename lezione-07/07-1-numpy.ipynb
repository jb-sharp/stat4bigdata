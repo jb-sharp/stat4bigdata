{
 "cells": [
  {
   "cell_type": "markdown",
   "id": "ec640ab6",
   "metadata": {},
   "source": [
    "# [Numpy](https://numpy.org)\n",
    "\n",
    "NumPy è una libreria fondamentale per eseguire calcoli in Python. Fornisce diversi oggetti, tra cui vettori multidimensionali, e numerose operazioni eseguibili su tali vettori, come calcoli di statistica e algebra lineare.  \n",
    "\n",
    "In Jupyter Notebook, è possibile utilizzare il punto esclamativo `!` per eseguire comandi come se stessimo usando il terminale. Per installare una libreria eseguiremo il comando `pip` (ovvero il package manager che vogliamo invocare) seguito da `install` e dal nome della libreria."
   ]
  },
  {
   "cell_type": "code",
   "execution_count": null,
   "id": "cc6be099",
   "metadata": {},
   "outputs": [],
   "source": []
  },
  {
   "cell_type": "markdown",
   "id": "75f6eac3",
   "metadata": {},
   "source": [
    "Il comando `import` ci permette di utilizzare una libreria all'interno del nostro programma. Utilizzando il comando `as` potremmo riferirci alla libreria che si sta importando con il nome che si sta definendo."
   ]
  },
  {
   "cell_type": "code",
   "execution_count": null,
   "id": "a6e9a982",
   "metadata": {},
   "outputs": [],
   "source": []
  },
  {
   "cell_type": "markdown",
   "id": "3d5a976e",
   "metadata": {},
   "source": [
    "Un vettore N-dimensionale (`ndarray`) è un contenitore di elementi dello stesso tipo."
   ]
  },
  {
   "cell_type": "code",
   "execution_count": null,
   "id": "9291b567",
   "metadata": {},
   "outputs": [],
   "source": []
  },
  {
   "cell_type": "markdown",
   "id": "bb177f6a",
   "metadata": {},
   "source": [
    "Il numero di dimensioni ed elementi in un vettore è definito dalla sua forma (`shape`), la quale è una tupla di N interi non-negativi che specifica la grandezza di ogni dimensione."
   ]
  },
  {
   "cell_type": "code",
   "execution_count": null,
   "id": "ae951ba1",
   "metadata": {},
   "outputs": [],
   "source": []
  },
  {
   "cell_type": "markdown",
   "id": "349b88d0",
   "metadata": {},
   "source": [
    "`numpy.zeros` restituisce un nuovo vettore avente una certa forma e tipo, con tutti gli elementi uguali a zero."
   ]
  },
  {
   "cell_type": "code",
   "execution_count": null,
   "id": "c136a8cd",
   "metadata": {},
   "outputs": [],
   "source": []
  },
  {
   "cell_type": "markdown",
   "id": "f1c4d2c3",
   "metadata": {},
   "source": [
    "`numpy.ones` restituisce un nuovo vettore avente una certa forma e tipo, con tutti gli elementi uguali a uno."
   ]
  },
  {
   "cell_type": "code",
   "execution_count": null,
   "id": "9d2e5f48",
   "metadata": {},
   "outputs": [],
   "source": []
  },
  {
   "cell_type": "markdown",
   "id": "25b14a29",
   "metadata": {},
   "source": [
    "`numpy.empty` restituisce un nuovo vettore avente una certa forma e tipo, senza inizializzare gli elementi."
   ]
  },
  {
   "cell_type": "code",
   "execution_count": null,
   "id": "26f0f844",
   "metadata": {},
   "outputs": [],
   "source": []
  },
  {
   "cell_type": "markdown",
   "id": "812faec8",
   "metadata": {},
   "source": [
    "Gli oggetti di tipo `ndarray` possono essere indicizzati con la sintassi standard di Python, ovvero `x[obj]`."
   ]
  },
  {
   "cell_type": "code",
   "execution_count": null,
   "id": "60723cef",
   "metadata": {},
   "outputs": [],
   "source": []
  },
  {
   "cell_type": "markdown",
   "id": "3fb60402",
   "metadata": {},
   "source": [
    "Si ha un'indicizzazione avanzata quando l'oggetto che seleziona, `obj`, è una sequenza."
   ]
  },
  {
   "cell_type": "code",
   "execution_count": null,
   "id": "7e01ad47",
   "metadata": {},
   "outputs": [],
   "source": []
  },
  {
   "cell_type": "markdown",
   "id": "eb5d216f",
   "metadata": {},
   "source": [
    "È possibile selezionare un sottoinsieme di un vettore ed assegnarlo utilizzando le tecniche di indicizzazione viste prima."
   ]
  },
  {
   "cell_type": "code",
   "execution_count": null,
   "id": "dd4a36dd",
   "metadata": {},
   "outputs": [],
   "source": []
  },
  {
   "cell_type": "markdown",
   "id": "7bfe2705",
   "metadata": {},
   "source": [
    "`numpy.arange` restituisce un vettore avente valori equidistanti."
   ]
  },
  {
   "cell_type": "code",
   "execution_count": null,
   "id": "8c2a419c",
   "metadata": {},
   "outputs": [],
   "source": []
  },
  {
   "cell_type": "markdown",
   "id": "3daf663a",
   "metadata": {},
   "source": [
    "`numpy.linspace` restituisce un vettore avente un specifico numero di elementi equidistanti su un certo intervallo."
   ]
  },
  {
   "cell_type": "code",
   "execution_count": null,
   "id": "0faeeacc",
   "metadata": {},
   "outputs": [],
   "source": []
  },
  {
   "cell_type": "markdown",
   "id": "b287f246",
   "metadata": {},
   "source": [
    "NumPy include diverse costanti, come `Inf` e `pi`."
   ]
  },
  {
   "cell_type": "code",
   "execution_count": null,
   "id": "e952bb08",
   "metadata": {},
   "outputs": [],
   "source": []
  },
  {
   "cell_type": "markdown",
   "id": "9d786903",
   "metadata": {},
   "source": [
    "Il metodo `reshape` cambia la forma del vettore senza cambiare i dati contenuti in esso."
   ]
  },
  {
   "cell_type": "code",
   "execution_count": null,
   "id": "607ce79b",
   "metadata": {},
   "outputs": [],
   "source": []
  },
  {
   "cell_type": "markdown",
   "id": "3dd3ec8e",
   "metadata": {},
   "source": [
    "`numpy.ravel` permette di 'appiattire' un vettore."
   ]
  },
  {
   "cell_type": "code",
   "execution_count": null,
   "id": "66c3d0f6",
   "metadata": {},
   "outputs": [],
   "source": []
  },
  {
   "cell_type": "markdown",
   "id": "e1e53050",
   "metadata": {},
   "source": [
    "`numpy.random.normal` genera esempi da una distribuzione Gaussiana normale."
   ]
  },
  {
   "cell_type": "code",
   "execution_count": null,
   "id": "fd545166",
   "metadata": {},
   "outputs": [],
   "source": []
  }
 ],
 "metadata": {
  "kernelspec": {
   "display_name": "Python 3 (ipykernel)",
   "language": "python",
   "name": "python3"
  },
  "language_info": {
   "codemirror_mode": {
    "name": "ipython",
    "version": 3
   },
   "file_extension": ".py",
   "mimetype": "text/x-python",
   "name": "python",
   "nbconvert_exporter": "python",
   "pygments_lexer": "ipython3",
   "version": "3.8.13"
  }
 },
 "nbformat": 4,
 "nbformat_minor": 5
}
