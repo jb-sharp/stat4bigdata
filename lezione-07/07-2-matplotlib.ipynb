{
 "cells": [
  {
   "cell_type": "markdown",
   "id": "2e3cced3",
   "metadata": {},
   "source": [
    "# [Matplotlib](https://matplotlib.org)\n",
    "\n",
    "Matplotlib è una libreria utilizzata per creare visualizzazioni statiche, animate ed interagibili in Python."
   ]
  },
  {
   "cell_type": "code",
   "execution_count": null,
   "id": "55ec5dae",
   "metadata": {},
   "outputs": [],
   "source": []
  }
 ],
 "metadata": {
  "kernelspec": {
   "display_name": "Python 3 (ipykernel)",
   "language": "python",
   "name": "python3"
  },
  "language_info": {
   "codemirror_mode": {
    "name": "ipython",
    "version": 3
   },
   "file_extension": ".py",
   "mimetype": "text/x-python",
   "name": "python",
   "nbconvert_exporter": "python",
   "pygments_lexer": "ipython3",
   "version": "3.8.13"
  }
 },
 "nbformat": 4,
 "nbformat_minor": 5
}
