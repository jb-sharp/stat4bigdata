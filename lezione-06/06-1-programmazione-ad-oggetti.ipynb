{
 "cells": [
  {
   "cell_type": "markdown",
   "id": "ff88fee0",
   "metadata": {},
   "source": [
    "# Programmazione Orientata agli Oggetti\n",
    "\n",
    "La **programmazione orientata ad oggetti** è un paradigma di programmazione che si fonda sui concetti di classe ed oggetti. Viene utilizzata per strutturare il codice in modelli riutilizzabili, chiamati classi, che vengono usate per creare singole istanze, chiamate oggetti.\n",
    "\n",
    "## Classe\n",
    "Una **classe** rappresenta il modello di come un oggetto dovrebbe essere definito. Essa, in realtà, non contiene nessun dato.\n",
    "\n",
    "## Oggetto\n",
    "Un **oggetto** è un'istanza di una classe. Quasi tutto in Python è un oggetto, con le sue proprietà e i suoi metodi.\n",
    "\n",
    "### `isinstance(object, classinfo)`\n",
    "\n",
    "La funzione `isinstance()` restituisce `True` se l'oggetto passato come parametro `object` è un'istanza della classe passata come parametro `classinfo`."
   ]
  },
  {
   "cell_type": "code",
   "execution_count": null,
   "id": "c18bbc09",
   "metadata": {},
   "outputs": [],
   "source": []
  },
  {
   "cell_type": "markdown",
   "id": "b5f787f8",
   "metadata": {},
   "source": [
    "La maniera più comune per definire una classe è la seguente:\n",
    "\n",
    "```\n",
    "class ClassName:\n",
    "    <statement1>\n",
    "    ...\n",
    "    <statementN>\n",
    "```\n",
    "\n",
    "I nomi delle classi dovrebbero seguire la convenzione CapWords."
   ]
  },
  {
   "cell_type": "code",
   "execution_count": null,
   "id": "df64300d",
   "metadata": {},
   "outputs": [],
   "source": []
  },
  {
   "cell_type": "markdown",
   "id": "de9df1c5",
   "metadata": {},
   "source": [
    "Una classe viene istanziata utilizzando la stessa notazione usata per le funzioni. Basta far finta che l'oggetto classe sia una funzione senza parametri che ritorna una nuova istanza di tale classe."
   ]
  },
  {
   "cell_type": "code",
   "execution_count": null,
   "id": "be829c8a",
   "metadata": {},
   "outputs": [],
   "source": []
  },
  {
   "cell_type": "markdown",
   "id": "9f643e74",
   "metadata": {},
   "source": [
    "### Attributi\n",
    "\n",
    "Gli *attributi di una classe* sono le variabili definite direttamente nella classe e che devono essere condivise da tutti gli oggetti. Gli *attributi di un'istanza* sono attributi relativi ad una signola istanza di una classe. Gli attributi di un'istanza sono definiti nel **costruttore**.\n",
    "\n",
    "Il costruttore di una classe è una speciale funzione che viene eseguita al momento della creazione di un nuovo oggetto.\n",
    "\n",
    "Il parametro `self` si riferisce alla corrente istanza della classe e viene utilizzato per accedere a variabili appartenenti alla classe."
   ]
  },
  {
   "cell_type": "code",
   "execution_count": null,
   "id": "d816d822",
   "metadata": {},
   "outputs": [],
   "source": []
  },
  {
   "cell_type": "markdown",
   "id": "9175eb98",
   "metadata": {},
   "source": [
    "### Metodi\n",
    "\n",
    "I metodi sono funzioni definite all'interno di una classe e che possono essere chiamati soltanto da un'istanza di tale classe. Così come per `.__init__()`, il primo parametro di un metodo è sempre `self`."
   ]
  },
  {
   "cell_type": "code",
   "execution_count": null,
   "id": "ebb3e478",
   "metadata": {},
   "outputs": [],
   "source": []
  },
  {
   "cell_type": "markdown",
   "id": "7df40e72",
   "metadata": {},
   "source": [
    "I *magic methods* in Python sono speciali metodi il cui nome inizia e termina con un doppio trattino basso. Vengono anche chiamati metodi *dunder*. Questi metodi speciali non dovrebbero essere chiamati direttamente dall'utente, ma internamente alla classe in seguito ad una certa azione."
   ]
  },
  {
   "cell_type": "markdown",
   "id": "c654033f",
   "metadata": {},
   "source": [
    "## Ereditarietà\n",
    "\n",
    "L'**ereditarietà** permette di definire una classe che erediti tutti i metodi e le proprietà di un'altra classe. La classe *padre* o *base* è la classe da cui si eredita; la classe *figlia* o *derivata* è la classe che eredita."
   ]
  },
  {
   "cell_type": "code",
   "execution_count": null,
   "id": "f92fb611",
   "metadata": {},
   "outputs": [],
   "source": []
  },
  {
   "cell_type": "code",
   "execution_count": null,
   "id": "f63c9d5e",
   "metadata": {},
   "outputs": [],
   "source": []
  }
 ],
 "metadata": {
  "kernelspec": {
   "display_name": "Python 3 (ipykernel)",
   "language": "python",
   "name": "python3"
  },
  "language_info": {
   "codemirror_mode": {
    "name": "ipython",
    "version": 3
   },
   "file_extension": ".py",
   "mimetype": "text/x-python",
   "name": "python",
   "nbconvert_exporter": "python",
   "pygments_lexer": "ipython3",
   "version": "3.8.13"
  }
 },
 "nbformat": 4,
 "nbformat_minor": 5
}
