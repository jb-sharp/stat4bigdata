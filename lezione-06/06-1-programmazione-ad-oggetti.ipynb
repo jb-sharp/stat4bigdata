{
 "cells": [
  {
   "cell_type": "code",
   "execution_count": 1,
   "id": "de8b1ea9",
   "metadata": {},
   "outputs": [
    {
     "data": {
      "text/plain": [
       "[1, 2, [3, True]]"
      ]
     },
     "execution_count": 1,
     "metadata": {},
     "output_type": "execute_result"
    }
   ],
   "source": [
    "# Oggetti\n",
    "'ciao'\n",
    "1\n",
    "[1, 2, [3, True]]"
   ]
  },
  {
   "cell_type": "code",
   "execution_count": 2,
   "id": "93ee7246",
   "metadata": {},
   "outputs": [
    {
     "data": {
      "text/plain": [
       "'CIAO'"
      ]
     },
     "execution_count": 2,
     "metadata": {},
     "output_type": "execute_result"
    }
   ],
   "source": [
    "'ciao'.upper()"
   ]
  },
  {
   "cell_type": "code",
   "execution_count": 4,
   "id": "8d66a1dd",
   "metadata": {},
   "outputs": [
    {
     "data": {
      "text/plain": [
       "[1, 2, [3, True], 'a']"
      ]
     },
     "execution_count": 4,
     "metadata": {},
     "output_type": "execute_result"
    }
   ],
   "source": [
    "l = [1, 2, [3, True]]\n",
    "l.append('a')\n",
    "l"
   ]
  },
  {
   "cell_type": "code",
   "execution_count": 5,
   "id": "986b658a",
   "metadata": {},
   "outputs": [
    {
     "name": "stdout",
     "output_type": "stream",
     "text": [
      "2\n",
      "11\n"
     ]
    }
   ],
   "source": [
    "print(1 + 1)\n",
    "print('1' + '1')"
   ]
  },
  {
   "cell_type": "code",
   "execution_count": null,
   "id": "9eb9ba44",
   "metadata": {},
   "outputs": [],
   "source": [
    "1"
   ]
  },
  {
   "cell_type": "markdown",
   "id": "ff88fee0",
   "metadata": {},
   "source": [
    "# Programmazione Orientata agli Oggetti\n",
    "\n",
    "La **programmazione orientata ad oggetti** è un paradigma di programmazione che si fonda sui concetti di classe ed oggetti. Viene utilizzata per strutturare il codice in modelli riutilizzabili, chiamati classi, che vengono usate per creare singole istanze, chiamate oggetti.\n",
    "\n",
    "## Classe\n",
    "Una **classe** rappresenta il modello di come un oggetto dovrebbe essere definito. Essa, in realtà, non contiene nessun dato.\n",
    "\n",
    "## Oggetto\n",
    "Un **oggetto** è un'istanza di una classe. Quasi tutto in Python è un oggetto, con le sue proprietà e i suoi metodi.\n",
    "\n",
    "### `isinstance(object, classinfo)`\n",
    "\n",
    "La funzione `isinstance()` restituisce `True` se l'oggetto passato come parametro `object` è un'istanza della classe passata come parametro `classinfo`."
   ]
  },
  {
   "cell_type": "code",
   "execution_count": 6,
   "id": "c18bbc09",
   "metadata": {},
   "outputs": [
    {
     "data": {
      "text/plain": [
       "True"
      ]
     },
     "execution_count": 6,
     "metadata": {},
     "output_type": "execute_result"
    }
   ],
   "source": [
    "l = [1, 2, 3]\n",
    "isinstance(l, list)"
   ]
  },
  {
   "cell_type": "markdown",
   "id": "b5f787f8",
   "metadata": {},
   "source": [
    "La maniera più comune per definire una classe è la seguente:\n",
    "\n",
    "```\n",
    "class ClassName:\n",
    "    <statement1>\n",
    "    ...\n",
    "    <statementN>\n",
    "```\n",
    "\n",
    "I nomi delle classi dovrebbero seguire la convenzione CapWords."
   ]
  },
  {
   "cell_type": "code",
   "execution_count": 7,
   "id": "df64300d",
   "metadata": {},
   "outputs": [],
   "source": [
    "class Animale:\n",
    "    pass"
   ]
  },
  {
   "cell_type": "markdown",
   "id": "de9df1c5",
   "metadata": {},
   "source": [
    "Una classe viene istanziata utilizzando la stessa notazione usata per le funzioni. Basta far finta che l'oggetto classe sia una funzione senza parametri che ritorna una nuova istanza di tale classe."
   ]
  },
  {
   "cell_type": "code",
   "execution_count": 11,
   "id": "be829c8a",
   "metadata": {},
   "outputs": [
    {
     "data": {
      "text/plain": [
       "<__main__.Animale at 0x7fe327c8d700>"
      ]
     },
     "execution_count": 11,
     "metadata": {},
     "output_type": "execute_result"
    }
   ],
   "source": [
    "cane = Animale()\n",
    "cane"
   ]
  },
  {
   "cell_type": "code",
   "execution_count": 10,
   "id": "13550fe2",
   "metadata": {},
   "outputs": [
    {
     "data": {
      "text/plain": [
       "__main__.Animale"
      ]
     },
     "execution_count": 10,
     "metadata": {},
     "output_type": "execute_result"
    }
   ],
   "source": [
    "type(cane)"
   ]
  },
  {
   "cell_type": "markdown",
   "id": "9f643e74",
   "metadata": {},
   "source": [
    "### Attributi\n",
    "\n",
    "Gli *attributi di una classe* sono le variabili definite direttamente nella classe e che devono essere condivise da tutti gli oggetti. Gli *attributi di un'istanza* sono attributi relativi ad una signola istanza di una classe. Gli attributi di un'istanza sono definiti nel **costruttore**.\n",
    "\n",
    "Il costruttore di una classe è una speciale funzione che viene eseguita al momento della creazione di un nuovo oggetto.\n",
    "\n",
    "Il parametro `self` si riferisce alla corrente istanza della classe e viene utilizzato per accedere a variabili appartenenti alla classe."
   ]
  },
  {
   "cell_type": "code",
   "execution_count": 18,
   "id": "d816d822",
   "metadata": {},
   "outputs": [],
   "source": [
    "class Animale:\n",
    "    def __init__(self, nome): #(self=charlie, nome='Charlie')\n",
    "        self.nome = nome"
   ]
  },
  {
   "cell_type": "code",
   "execution_count": 19,
   "id": "85bc653f",
   "metadata": {},
   "outputs": [],
   "source": [
    "charlie = Animale('Charlie')"
   ]
  },
  {
   "cell_type": "code",
   "execution_count": 20,
   "id": "09e51051",
   "metadata": {},
   "outputs": [
    {
     "data": {
      "text/plain": [
       "'Charlie'"
      ]
     },
     "execution_count": 20,
     "metadata": {},
     "output_type": "execute_result"
    }
   ],
   "source": [
    "charlie.nome"
   ]
  },
  {
   "cell_type": "code",
   "execution_count": 21,
   "id": "58f10647",
   "metadata": {},
   "outputs": [
    {
     "data": {
      "text/plain": [
       "__main__.Animale"
      ]
     },
     "execution_count": 21,
     "metadata": {},
     "output_type": "execute_result"
    }
   ],
   "source": [
    "type(charlie)"
   ]
  },
  {
   "cell_type": "code",
   "execution_count": 23,
   "id": "4871e32f",
   "metadata": {},
   "outputs": [],
   "source": [
    "class Animale:\n",
    "    def __init__(self, nome, età):\n",
    "        self.nome = nome\n",
    "        self.età = età\n",
    "        \n",
    "        self.zampe = 4"
   ]
  },
  {
   "cell_type": "code",
   "execution_count": 24,
   "id": "dee1a04d",
   "metadata": {},
   "outputs": [],
   "source": [
    "charlie = Animale('Charlie', 2)"
   ]
  },
  {
   "cell_type": "code",
   "execution_count": 27,
   "id": "86ff103d",
   "metadata": {},
   "outputs": [
    {
     "data": {
      "text/plain": [
       "4"
      ]
     },
     "execution_count": 27,
     "metadata": {},
     "output_type": "execute_result"
    }
   ],
   "source": [
    "charlie.zampe"
   ]
  },
  {
   "cell_type": "code",
   "execution_count": 28,
   "id": "59fd155b",
   "metadata": {},
   "outputs": [],
   "source": [
    "lucky = Animale('Lucky', 10)"
   ]
  },
  {
   "cell_type": "code",
   "execution_count": 29,
   "id": "5e7e19e9",
   "metadata": {},
   "outputs": [
    {
     "data": {
      "text/plain": [
       "'Lucky'"
      ]
     },
     "execution_count": 29,
     "metadata": {},
     "output_type": "execute_result"
    }
   ],
   "source": [
    "lucky.nome"
   ]
  },
  {
   "cell_type": "code",
   "execution_count": 30,
   "id": "5f38f68b",
   "metadata": {},
   "outputs": [
    {
     "data": {
      "text/plain": [
       "4"
      ]
     },
     "execution_count": 30,
     "metadata": {},
     "output_type": "execute_result"
    }
   ],
   "source": [
    "lucky.zampe"
   ]
  },
  {
   "cell_type": "markdown",
   "id": "9175eb98",
   "metadata": {},
   "source": [
    "### Metodi\n",
    "\n",
    "I metodi sono funzioni definite all'interno di una classe e che possono essere chiamati soltanto da un'istanza di tale classe. Così come per `.__init__()`, il primo parametro di un metodo è sempre `self`."
   ]
  },
  {
   "cell_type": "code",
   "execution_count": null,
   "id": "ebb3e478",
   "metadata": {},
   "outputs": [],
   "source": [
    "class Animale:\n",
    "    def __init__(self, nome, età):\n",
    "        self.nome = nome\n",
    "        self.età = età\n",
    "        \n",
    "        self.zampe = 4"
   ]
  },
  {
   "cell_type": "code",
   "execution_count": 31,
   "id": "cac92d52",
   "metadata": {},
   "outputs": [
    {
     "name": "stdout",
     "output_type": "stream",
     "text": [
      "<__main__.Animale object at 0x7fe32786ca30>\n"
     ]
    }
   ],
   "source": [
    "print(charlie)"
   ]
  },
  {
   "cell_type": "code",
   "execution_count": 32,
   "id": "6e172c85",
   "metadata": {},
   "outputs": [
    {
     "name": "stdout",
     "output_type": "stream",
     "text": [
      "[1, 2, 3]\n"
     ]
    }
   ],
   "source": [
    "print(l)"
   ]
  },
  {
   "cell_type": "code",
   "execution_count": 33,
   "id": "4feab3b1",
   "metadata": {},
   "outputs": [],
   "source": [
    "class Animale:\n",
    "    def __init__(self, nome, età):\n",
    "        self.nome = nome\n",
    "        self.età = età\n",
    "        \n",
    "        self.zampe = 4\n",
    "        \n",
    "    def __str__(self):\n",
    "        return f'Questo è il mio animale {self.nome} e ha {self.età} anni.'"
   ]
  },
  {
   "cell_type": "code",
   "execution_count": null,
   "id": "e325b0c0",
   "metadata": {},
   "outputs": [],
   "source": []
  },
  {
   "cell_type": "code",
   "execution_count": 34,
   "id": "914314a0",
   "metadata": {},
   "outputs": [],
   "source": [
    "charlie = Animale('Charlie', 2)"
   ]
  },
  {
   "cell_type": "code",
   "execution_count": 35,
   "id": "49931536",
   "metadata": {},
   "outputs": [
    {
     "name": "stdout",
     "output_type": "stream",
     "text": [
      "Questo è il mio animale Charlie e ha 2 anni.\n"
     ]
    }
   ],
   "source": [
    "print(charlie)"
   ]
  },
  {
   "cell_type": "code",
   "execution_count": 36,
   "id": "f9b4cced",
   "metadata": {},
   "outputs": [],
   "source": [
    "class Animale:\n",
    "    def __init__(self, nome, età):\n",
    "        self.nome = nome\n",
    "        self.età = età\n",
    "        \n",
    "        self.zampe = 4\n",
    "        \n",
    "    def __str__(self):\n",
    "        return f'Questo è il mio animale {self.nome} e ha {self.età} anni.'\n",
    "    \n",
    "    def saluta(self, saluto):\n",
    "        print(f'{saluto}!')"
   ]
  },
  {
   "cell_type": "code",
   "execution_count": 37,
   "id": "47fe18d9",
   "metadata": {},
   "outputs": [],
   "source": [
    "charlie = Animale('Charlie', 2)"
   ]
  },
  {
   "cell_type": "code",
   "execution_count": 39,
   "id": "306e6863",
   "metadata": {},
   "outputs": [
    {
     "name": "stdout",
     "output_type": "stream",
     "text": [
      "Bau!\n"
     ]
    }
   ],
   "source": [
    "charlie.saluta('Bau')"
   ]
  },
  {
   "cell_type": "markdown",
   "id": "7df40e72",
   "metadata": {},
   "source": [
    "I *magic methods* in Python sono speciali metodi il cui nome inizia e termina con un doppio trattino basso. Vengono anche chiamati metodi *dunder*. Questi metodi speciali non dovrebbero essere chiamati direttamente dall'utente, ma internamente alla classe in seguito ad una certa azione."
   ]
  },
  {
   "cell_type": "markdown",
   "id": "c654033f",
   "metadata": {},
   "source": [
    "## Ereditarietà\n",
    "\n",
    "L'**ereditarietà** permette di definire una classe che erediti tutti i metodi e le proprietà di un'altra classe. La classe *padre* o *base* è la classe da cui si eredita; la classe *figlia* o *derivata* è la classe che eredita."
   ]
  },
  {
   "cell_type": "code",
   "execution_count": 40,
   "id": "f92fb611",
   "metadata": {},
   "outputs": [],
   "source": [
    "class Cane(Animale):\n",
    "    pass"
   ]
  },
  {
   "cell_type": "code",
   "execution_count": 42,
   "id": "f63c9d5e",
   "metadata": {},
   "outputs": [],
   "source": [
    "charlie = Cane('Charlie', 2)"
   ]
  },
  {
   "cell_type": "code",
   "execution_count": 43,
   "id": "6e6f73c4",
   "metadata": {},
   "outputs": [
    {
     "data": {
      "text/plain": [
       "'Charlie'"
      ]
     },
     "execution_count": 43,
     "metadata": {},
     "output_type": "execute_result"
    }
   ],
   "source": [
    "charlie.nome"
   ]
  },
  {
   "cell_type": "code",
   "execution_count": 44,
   "id": "d5c3a22e",
   "metadata": {},
   "outputs": [
    {
     "data": {
      "text/plain": [
       "__main__.Cane"
      ]
     },
     "execution_count": 44,
     "metadata": {},
     "output_type": "execute_result"
    }
   ],
   "source": [
    "type(charlie)"
   ]
  },
  {
   "cell_type": "code",
   "execution_count": 45,
   "id": "44ea190a",
   "metadata": {},
   "outputs": [
    {
     "data": {
      "text/plain": [
       "True"
      ]
     },
     "execution_count": 45,
     "metadata": {},
     "output_type": "execute_result"
    }
   ],
   "source": [
    "isinstance(charlie, Cane)"
   ]
  },
  {
   "cell_type": "code",
   "execution_count": 46,
   "id": "b10fc9a8",
   "metadata": {},
   "outputs": [
    {
     "data": {
      "text/plain": [
       "True"
      ]
     },
     "execution_count": 46,
     "metadata": {},
     "output_type": "execute_result"
    }
   ],
   "source": [
    "isinstance(charlie, Animale)"
   ]
  },
  {
   "cell_type": "code",
   "execution_count": 47,
   "id": "b9ce8069",
   "metadata": {},
   "outputs": [],
   "source": [
    "class Cane(Animale):\n",
    "    specie = 'cane'"
   ]
  },
  {
   "cell_type": "code",
   "execution_count": 48,
   "id": "48233633",
   "metadata": {},
   "outputs": [],
   "source": [
    "charlie = Cane('Charlie', 2)"
   ]
  },
  {
   "cell_type": "code",
   "execution_count": 49,
   "id": "dc1c69ba",
   "metadata": {},
   "outputs": [
    {
     "data": {
      "text/plain": [
       "'cane'"
      ]
     },
     "execution_count": 49,
     "metadata": {},
     "output_type": "execute_result"
    }
   ],
   "source": [
    "charlie.specie"
   ]
  },
  {
   "cell_type": "code",
   "execution_count": 50,
   "id": "7596dc19",
   "metadata": {},
   "outputs": [],
   "source": [
    "lucky = Animale('Lucky', 2)"
   ]
  },
  {
   "cell_type": "code",
   "execution_count": 51,
   "id": "f923bc87",
   "metadata": {},
   "outputs": [
    {
     "ename": "AttributeError",
     "evalue": "'Animale' object has no attribute 'specie'",
     "output_type": "error",
     "traceback": [
      "\u001b[0;31m---------------------------------------------------------------------------\u001b[0m",
      "\u001b[0;31mAttributeError\u001b[0m                            Traceback (most recent call last)",
      "Input \u001b[0;32mIn [51]\u001b[0m, in \u001b[0;36m<cell line: 1>\u001b[0;34m()\u001b[0m\n\u001b[0;32m----> 1\u001b[0m \u001b[43mlucky\u001b[49m\u001b[38;5;241;43m.\u001b[39;49m\u001b[43mspecie\u001b[49m\n",
      "\u001b[0;31mAttributeError\u001b[0m: 'Animale' object has no attribute 'specie'"
     ]
    }
   ],
   "source": [
    "lucky.specie"
   ]
  },
  {
   "cell_type": "code",
   "execution_count": 54,
   "id": "a925f171",
   "metadata": {},
   "outputs": [],
   "source": [
    "class Uccello(Animale):\n",
    "    def __init__(self, nome, età):\n",
    "        super().__init__(nome, età)\n",
    "        self.zampe = 2"
   ]
  },
  {
   "cell_type": "code",
   "execution_count": 56,
   "id": "9b16ff40",
   "metadata": {},
   "outputs": [],
   "source": [
    "cip = Uccello('cip', 4)"
   ]
  },
  {
   "cell_type": "code",
   "execution_count": 57,
   "id": "99d960c8",
   "metadata": {},
   "outputs": [
    {
     "data": {
      "text/plain": [
       "2"
      ]
     },
     "execution_count": 57,
     "metadata": {},
     "output_type": "execute_result"
    }
   ],
   "source": [
    "cip.zampe"
   ]
  },
  {
   "cell_type": "code",
   "execution_count": 58,
   "id": "6adea851",
   "metadata": {},
   "outputs": [
    {
     "data": {
      "text/plain": [
       "4"
      ]
     },
     "execution_count": 58,
     "metadata": {},
     "output_type": "execute_result"
    }
   ],
   "source": [
    "charlie.zampe"
   ]
  },
  {
   "cell_type": "code",
   "execution_count": null,
   "id": "8172853f",
   "metadata": {},
   "outputs": [],
   "source": []
  }
 ],
 "metadata": {
  "kernelspec": {
   "display_name": "Python 3 (ipykernel)",
   "language": "python",
   "name": "python3"
  },
  "language_info": {
   "codemirror_mode": {
    "name": "ipython",
    "version": 3
   },
   "file_extension": ".py",
   "mimetype": "text/x-python",
   "name": "python",
   "nbconvert_exporter": "python",
   "pygments_lexer": "ipython3",
   "version": "3.8.13"
  }
 },
 "nbformat": 4,
 "nbformat_minor": 5
}
