{
 "cells": [
  {
   "cell_type": "markdown",
   "id": "dc30e662",
   "metadata": {},
   "source": [
    "# Errori\n",
    "\n",
    "In Python distinguiamo due categorie di errori: di sintassi ed eccezioni.\n",
    "\n",
    "Gli **errori di sintassi** sono causati da una sintassi sbagliata del codice e portano alla terminazione del programma. Il parser stampa la linea errata e mostra una freccia nel primo punto della linea in cui è stato individuato l'errore."
   ]
  },
  {
   "cell_type": "code",
   "execution_count": null,
   "id": "9d285997",
   "metadata": {},
   "outputs": [],
   "source": []
  },
  {
   "cell_type": "markdown",
   "id": "1e5895d8",
   "metadata": {},
   "source": [
    "Anche se un comando o un'espressione è corretto dal punto di vista sintattico, potrebbe comunque causare un errore al momento dell'esecuzione. In tal caso parleremmo di **eccezione**, la quale non è necessariamente fatale per il programma. La maggior parte delle eccezioni non sono gestite dai programmi e dunque restituiscono un messaggio d'errore."
   ]
  },
  {
   "cell_type": "code",
   "execution_count": null,
   "id": "d01a701b",
   "metadata": {},
   "outputs": [],
   "source": []
  },
  {
   "cell_type": "markdown",
   "id": "8a339a77",
   "metadata": {},
   "source": [
    "## Gestire le Eccezioni\n",
    "\n",
    "### `try ... except`\n",
    "\n",
    "Con tale comando siamo in grado di gestire le eccezioni. Quando nessuna eccezione avviene nel comando `try`, il codice viene eseguito normalmente; quando ciò non accade, dunque un'eccezione ha luogo nel `try`, viene eseguito il codice nell'`except` che si occupa di tale eccezione."
   ]
  },
  {
   "cell_type": "code",
   "execution_count": null,
   "id": "181fd6cf",
   "metadata": {},
   "outputs": [],
   "source": []
  }
 ],
 "metadata": {
  "kernelspec": {
   "display_name": "Python 3 (ipykernel)",
   "language": "python",
   "name": "python3"
  },
  "language_info": {
   "codemirror_mode": {
    "name": "ipython",
    "version": 3
   },
   "file_extension": ".py",
   "mimetype": "text/x-python",
   "name": "python",
   "nbconvert_exporter": "python",
   "pygments_lexer": "ipython3",
   "version": "3.8.13"
  }
 },
 "nbformat": 4,
 "nbformat_minor": 5
}
