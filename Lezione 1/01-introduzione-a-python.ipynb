{
 "cells": [
  {
   "cell_type": "markdown",
   "id": "1e64f320",
   "metadata": {},
   "source": [
    "# Statistica per i Big Data Economico-Aziendali - Esercitazioni in Python\n",
    "\n",
    "*Contatti*: giovanni.bocchi1@unimi.it\n",
    "\n",
    "*Materiale*: https://github.com/jb-sharp/stat4bigdata.\n",
    "\n",
    "**GitHub** è una piattaforma utilizzata per lo sviluppo collaborativo di software basata sul controllo di versione.\n",
    "- [Guida a GitHub](https://docs.github.com/en/get-started/quickstart/hello-world)\n",
    "- [Guida a Git](https://github.com/git-guides)"
   ]
  },
  {
   "cell_type": "markdown",
   "id": "3882c1fb",
   "metadata": {},
   "source": [
    "## Introduzione a Python\n",
    "\n",
    "**Python** è un linguaggio di programmazione ad alto livello, utilizzato nelle applicazioni web, nello sviluppo di software, nella data science e nel machine learning. Può essere eseguito su tutti i principali sistemi operativi informatici ed è estremamente semplice da comprendere grazie ad una sintassi simile a quella della lingua inglese. Data la sua vasta diffusione ed adozione tra gli sviluppatori, è possibile reperire con facilità tutorial e documentazione, oltre a migliaia di pacchetti sviluppati per numerose attività.\n",
    "- [Documentazione](https://docs.python.org/3/)\n",
    "\n",
    "Esistono diverse opzioni per scrivere codice in Python. \n",
    "\n",
    "- Gli *script* sono file di testo con estensione *.py*. Possono essere creati e modificati con semplici editor di testo, oppure tramite ambienti di sviluppo integrato (IDE); questi ultimi sono software che assistono lo sviluppatore nella scrittura del codice tramite l'utilizzo di diversi strumenti, come il debugger o l'evidenziatore di sintassi. Gli script vengono eseguiti linearmente, dall'alto verso il basso, riga per riga, fino al raggiungimento della fine del file; nel caso in cui bisognasse modificare anche solo una linea di codice, sarà necessario rieseguire lo script per attuare le modifiche.\n",
    "    - Text Editors: [Sublime](https://www.sublimetext.com), [Notepad++](https://notepad-plus-plus.org)\n",
    "    - IDEs: [Visual Studio Code](https://code.visualstudio.com), [PyCharm](https://www.jetbrains.com/pycharm/), [Spyder](https://www.spyder-ide.org/), [Atom](https://atom-editor.cc/)\n",
    "\n",
    "- I *notebook* sono composti da celle: in ogni cella è possibile scrivere sia del codice in Python, sia del semplice testo. È dunque possibile affiancare a delle sezioni di codice, delle altre contenenti spiegazioni, link o immagini. I notebook vengono eseguiti in maniera non lineare, ovvero è possibile eseguire le celle in qualsiasi ordine; ciò rende possibile modificare parte del codice presente in una cella, senza dover necessariamente rieseguire l'intero notebook.\n",
    "    - [Jupyter Notebook](https://jupyter.org),\n",
    "    - [Google Colab](https://colab.research.google.com/notebooks/)"
   ]
  },
  {
   "cell_type": "code",
   "execution_count": 1,
   "id": "9f4949db",
   "metadata": {},
   "outputs": [
    {
     "name": "stdout",
     "output_type": "stream",
     "text": [
      "Hello, world!\n"
     ]
    }
   ],
   "source": [
    "# Il primo programma in Python\n",
    "print('Hello, world!')"
   ]
  },
  {
   "cell_type": "markdown",
   "id": "a8e55c52",
   "metadata": {},
   "source": [
    "## Commenti\n",
    "\n",
    "Un commento è introdotto da un asterisco (`#`) e termina alla fine di una linea di codice. I commenti vengono ignorati in fase di esecuzione del codice."
   ]
  },
  {
   "cell_type": "code",
   "execution_count": 2,
   "id": "5738fbb0",
   "metadata": {},
   "outputs": [],
   "source": [
    "# Questo è un commento\n",
    "# Anche questo è un commento"
   ]
  },
  {
   "cell_type": "markdown",
   "id": "76ce0ede",
   "metadata": {},
   "source": [
    "## Tipi di Dato\n",
    "\n",
    "Un **tipo di dato** restringe l'insieme di possibili valori che un'espressione può avere e definisce l'insieme di operazioni consentite su di essa. Python supporta tipi di dato basilari, come *interi* e *booleani*, e sequenziali, come *stringhe* e *liste*.\n",
    "\n",
    "#### `type(object)`\n",
    "La funzione `type()` restituisce il tipo di un dato. "
   ]
  },
  {
   "cell_type": "markdown",
   "id": "4153db7b-5022-4c77-996e-e29a347a4327",
   "metadata": {},
   "source": [
    "Vediamo ora un esempio di un tipo numerico intero:"
   ]
  },
  {
   "cell_type": "code",
   "execution_count": 3,
   "id": "b0a7c726",
   "metadata": {},
   "outputs": [
    {
     "data": {
      "text/plain": [
       "int"
      ]
     },
     "execution_count": 3,
     "metadata": {},
     "output_type": "execute_result"
    }
   ],
   "source": [
    "type(12)"
   ]
  },
  {
   "cell_type": "markdown",
   "id": "64217a4b-3d2d-4f05-a3c9-21e0d23c9a9c",
   "metadata": {},
   "source": [
    "e di un tipo stringa:"
   ]
  },
  {
   "cell_type": "code",
   "execution_count": 4,
   "id": "99964f99-4553-4cdb-a4d9-5606bd4ccf8e",
   "metadata": {},
   "outputs": [
    {
     "data": {
      "text/plain": [
       "str"
      ]
     },
     "execution_count": 4,
     "metadata": {},
     "output_type": "execute_result"
    }
   ],
   "source": [
    "type('ciao')"
   ]
  },
  {
   "cell_type": "markdown",
   "id": "d0159c4a",
   "metadata": {},
   "source": [
    "## Tipi Numerici\n",
    "\n",
    "Esistono tre tipi numerici: gli interi (*int*), i decimali (*float*) e i numeri complessi (*complex*).\n",
    "\n",
    "- `int`: gli interi comprendo lo zero ed i numeri positivi e negativi, numeri dunque privi di parte decimale.\n",
    "- `float`: chiamati *floating point numbers*, i decimali sono rappresentano i numeri reali positivi e negativi con una componente decimale indicata dal simbolo `.` o tramite la notazione scientifica `E` o `e`.\n",
    "- `complex`: un numero complesso è un numero avente una componente reale ed una immaginaria; la componente immaginaria è indicata dalla lettera `J` o `j`."
   ]
  },
  {
   "cell_type": "code",
   "execution_count": 5,
   "id": "f7dd42c9",
   "metadata": {},
   "outputs": [
    {
     "name": "stdout",
     "output_type": "stream",
     "text": [
      "10\n"
     ]
    },
    {
     "data": {
      "text/plain": [
       "int"
      ]
     },
     "execution_count": 5,
     "metadata": {},
     "output_type": "execute_result"
    }
   ],
   "source": [
    "# Interi\n",
    "print(10)\n",
    "type(10)"
   ]
  },
  {
   "cell_type": "code",
   "execution_count": 6,
   "id": "fd130c92",
   "metadata": {},
   "outputs": [
    {
     "name": "stdout",
     "output_type": "stream",
     "text": [
      "12312432152314123414\n"
     ]
    }
   ],
   "source": [
    "print(12312432152314123414)"
   ]
  },
  {
   "cell_type": "code",
   "execution_count": 7,
   "id": "7c383d0e",
   "metadata": {},
   "outputs": [
    {
     "name": "stdout",
     "output_type": "stream",
     "text": [
      "10.0\n"
     ]
    },
    {
     "data": {
      "text/plain": [
       "float"
      ]
     },
     "execution_count": 7,
     "metadata": {},
     "output_type": "execute_result"
    }
   ],
   "source": [
    "# Decimali\n",
    "print(10.0)\n",
    "type(10.0)"
   ]
  },
  {
   "cell_type": "code",
   "execution_count": 8,
   "id": "5e271790",
   "metadata": {},
   "outputs": [
    {
     "data": {
      "text/plain": [
       "2.3e-16"
      ]
     },
     "execution_count": 8,
     "metadata": {},
     "output_type": "execute_result"
    }
   ],
   "source": [
    "0.00000000000000023"
   ]
  },
  {
   "cell_type": "code",
   "execution_count": 9,
   "id": "a7acfd8e",
   "metadata": {},
   "outputs": [
    {
     "name": "stdout",
     "output_type": "stream",
     "text": [
      "2.3e-16\n"
     ]
    }
   ],
   "source": [
    "print(2.3e-16)"
   ]
  },
  {
   "cell_type": "code",
   "execution_count": 10,
   "id": "12d654af",
   "metadata": {},
   "outputs": [
    {
     "name": "stdout",
     "output_type": "stream",
     "text": [
      "(2+3j)\n"
     ]
    },
    {
     "data": {
      "text/plain": [
       "complex"
      ]
     },
     "execution_count": 10,
     "metadata": {},
     "output_type": "execute_result"
    }
   ],
   "source": [
    "# Complessi\n",
    "print(2 + 3j)\n",
    "type(2 + 3j)"
   ]
  },
  {
   "cell_type": "code",
   "execution_count": 11,
   "id": "9869fc26-55e9-4085-a97d-0be76f409f92",
   "metadata": {},
   "outputs": [
    {
     "name": "stdout",
     "output_type": "stream",
     "text": [
      "(2.2+3.5j)\n"
     ]
    },
    {
     "data": {
      "text/plain": [
       "complex"
      ]
     },
     "execution_count": 11,
     "metadata": {},
     "output_type": "execute_result"
    }
   ],
   "source": [
    "print(2.2 + 3.5j)\n",
    "type(2.2 + 3.5j)"
   ]
  },
  {
   "cell_type": "markdown",
   "id": "444e10f3",
   "metadata": {},
   "source": [
    "### Operatori Aritmetici\n",
    "\n",
    "In Python, gli **operatori** sono speciali simboli che indicano ad alto livello l'esecuzione di una cera opearazione. I dati che vengono coinvolti nell'operazione da un operatore, vengono detti *operandi*.\n",
    "\n",
    "Gli **operatori aritmetici** vengono utilizzati per eseguire operazioni matematiche, come l'addizione, la sottrazione, la moltiplicazione e la divisione tra dati numerici.\n",
    "\n",
    "L'operatore *addizione* è indicato dal simbolo `+` ed è utilizzato per sommare due valori."
   ]
  },
  {
   "cell_type": "code",
   "execution_count": 12,
   "id": "51bd3510-54e2-4234-a392-9d93f950e835",
   "metadata": {},
   "outputs": [
    {
     "name": "stdout",
     "output_type": "stream",
     "text": [
      "14\n"
     ]
    },
    {
     "data": {
      "text/plain": [
       "int"
      ]
     },
     "execution_count": 12,
     "metadata": {},
     "output_type": "execute_result"
    }
   ],
   "source": [
    "# Addizione\n",
    "print(2 + 12)\n",
    "type(2 + 12)"
   ]
  },
  {
   "cell_type": "code",
   "execution_count": 13,
   "id": "72379d6b-160f-4417-a981-41591b8faf3a",
   "metadata": {},
   "outputs": [
    {
     "name": "stdout",
     "output_type": "stream",
     "text": [
      "14.5\n"
     ]
    },
    {
     "data": {
      "text/plain": [
       "float"
      ]
     },
     "execution_count": 13,
     "metadata": {},
     "output_type": "execute_result"
    }
   ],
   "source": [
    "print(2 + 12.5)\n",
    "type(2 + 12.5)"
   ]
  },
  {
   "cell_type": "code",
   "execution_count": 14,
   "id": "92f7bebe-e40d-4712-8e0e-761734d032ce",
   "metadata": {},
   "outputs": [
    {
     "name": "stdout",
     "output_type": "stream",
     "text": [
      "(2+12j)\n"
     ]
    },
    {
     "data": {
      "text/plain": [
       "complex"
      ]
     },
     "execution_count": 14,
     "metadata": {},
     "output_type": "execute_result"
    }
   ],
   "source": [
    "print(2 + 12j)\n",
    "type(2 + 12j)"
   ]
  },
  {
   "cell_type": "markdown",
   "id": "a9821299",
   "metadata": {},
   "source": [
    "L'operatore *sottrazione* è indicato dal simbolo `-` ed è utilizzato per sottrarre il secondo valore dal primo."
   ]
  },
  {
   "cell_type": "code",
   "execution_count": 15,
   "id": "ad5cb1c1",
   "metadata": {},
   "outputs": [
    {
     "name": "stdout",
     "output_type": "stream",
     "text": [
      "6\n"
     ]
    },
    {
     "data": {
      "text/plain": [
       "int"
      ]
     },
     "execution_count": 15,
     "metadata": {},
     "output_type": "execute_result"
    }
   ],
   "source": [
    "# Sottrazione\n",
    "print(12 - 6)\n",
    "type(12 - 6)"
   ]
  },
  {
   "cell_type": "markdown",
   "id": "73262955",
   "metadata": {},
   "source": [
    "L'operatore *moltiplicazione* è indicato dal simbolo `*` ed è utilizzato per calcolare il prodotto di due valori."
   ]
  },
  {
   "cell_type": "code",
   "execution_count": 16,
   "id": "aca4aa55",
   "metadata": {},
   "outputs": [
    {
     "name": "stdout",
     "output_type": "stream",
     "text": [
      "25.2\n"
     ]
    },
    {
     "data": {
      "text/plain": [
       "float"
      ]
     },
     "execution_count": 16,
     "metadata": {},
     "output_type": "execute_result"
    }
   ],
   "source": [
    "# Moltiplicazione\n",
    "print(12.6 * 2)\n",
    "type(12.6 * 2)"
   ]
  },
  {
   "cell_type": "markdown",
   "id": "5a4e12e0",
   "metadata": {},
   "source": [
    "L'operatore *divisione* è indicato dal simbolo `/` ed è utilizzato per calcolare il quoziente quando il primo valore è diviso per il secondo."
   ]
  },
  {
   "cell_type": "code",
   "execution_count": 17,
   "id": "7ec2a8bf",
   "metadata": {},
   "outputs": [
    {
     "name": "stdout",
     "output_type": "stream",
     "text": [
      "2.857142857142857\n"
     ]
    },
    {
     "data": {
      "text/plain": [
       "float"
      ]
     },
     "execution_count": 17,
     "metadata": {},
     "output_type": "execute_result"
    }
   ],
   "source": [
    "# Divisione (float)\n",
    "print(20 / 7)\n",
    "type(20 / 7)"
   ]
  },
  {
   "cell_type": "markdown",
   "id": "45b15d35",
   "metadata": {},
   "source": [
    "L'operatore *divisione floor* è indicato dal simbolo `//` ed è utilizzato per calcolare la parte intera del quoziente quando il primo valore è diviso per il secondo."
   ]
  },
  {
   "cell_type": "code",
   "execution_count": 18,
   "id": "31da0088",
   "metadata": {},
   "outputs": [
    {
     "name": "stdout",
     "output_type": "stream",
     "text": [
      "2\n"
     ]
    },
    {
     "data": {
      "text/plain": [
       "int"
      ]
     },
     "execution_count": 18,
     "metadata": {},
     "output_type": "execute_result"
    }
   ],
   "source": [
    "# Divisione (int)\n",
    "print(20 // 7)\n",
    "type(20 // 7)"
   ]
  },
  {
   "cell_type": "markdown",
   "id": "b98185f0-e04b-4da5-8c20-393cb2e93f76",
   "metadata": {},
   "source": [
    "Nel caso si tenti di dividere un numero per 0, il codice non viene eseguito e si ottiene un errore:"
   ]
  },
  {
   "cell_type": "code",
   "execution_count": 19,
   "id": "3c00c2c0-38c7-4ddf-ab89-e83dfc8da0b6",
   "metadata": {},
   "outputs": [
    {
     "ename": "ZeroDivisionError",
     "evalue": "float division by zero",
     "output_type": "error",
     "traceback": [
      "\u001b[0;31m---------------------------------------------------------------------------\u001b[0m",
      "\u001b[0;31mZeroDivisionError\u001b[0m                         Traceback (most recent call last)",
      "Cell \u001b[0;32mIn[19], line 1\u001b[0m\n\u001b[0;32m----> 1\u001b[0m \u001b[38;5;241m20\u001b[39m \u001b[38;5;241m/\u001b[39m \u001b[38;5;241m0.0\u001b[39m\n",
      "\u001b[0;31mZeroDivisionError\u001b[0m: float division by zero"
     ]
    }
   ],
   "source": [
    "20 / 0.0"
   ]
  },
  {
   "cell_type": "markdown",
   "id": "58a5eba6",
   "metadata": {},
   "source": [
    "L'operatore *resto della divisione intera* è indicato dal simbolo `%` ed è utilizzato per calcolare il resto quando il primo valore è diviso per il secondo."
   ]
  },
  {
   "cell_type": "code",
   "execution_count": 20,
   "id": "1b91ec17",
   "metadata": {},
   "outputs": [
    {
     "name": "stdout",
     "output_type": "stream",
     "text": [
      "6\n"
     ]
    },
    {
     "data": {
      "text/plain": [
       "int"
      ]
     },
     "execution_count": 20,
     "metadata": {},
     "output_type": "execute_result"
    }
   ],
   "source": [
    "# Resto\n",
    "print(20 % 7)\n",
    "type(20 % 7)"
   ]
  },
  {
   "cell_type": "markdown",
   "id": "059fffd2",
   "metadata": {},
   "source": [
    "L'operatore *elevamento a potenza* è indicato dal simbolo `**` ed è utilizzato per elevare il primo valore alla potenza del secondo.\n",
    "\n",
    "Attenzione a non confondersi: in Python l'elevamento a potenza è `**` e non `^` come in altri linguaggi."
   ]
  },
  {
   "cell_type": "code",
   "execution_count": 21,
   "id": "f73af4fa",
   "metadata": {},
   "outputs": [
    {
     "data": {
      "text/plain": [
       "16"
      ]
     },
     "execution_count": 21,
     "metadata": {},
     "output_type": "execute_result"
    }
   ],
   "source": [
    "# Elevamento a potenza\n",
    "2 ** 4"
   ]
  },
  {
   "cell_type": "markdown",
   "id": "82ff092c-0cd0-4bdd-b7d1-2714b2ea8027",
   "metadata": {},
   "source": [
    "È possibile usare anche numeri floating point come esponente ricordando che per l'elevamento a potenza con esponente frazionario vale la formula\n",
    "$$\n",
    "x^\\frac{a}{b} = \\sqrt[b]{x^a}\n",
    "$$"
   ]
  },
  {
   "cell_type": "markdown",
   "id": "5355418e-32f1-40b0-ad11-b38a697d59e3",
   "metadata": {},
   "source": [
    "Per esempio per calcolare la radice quadrata $\\sqrt[]{}$ di un numero:"
   ]
  },
  {
   "cell_type": "code",
   "execution_count": 22,
   "id": "c2694b0d-bf5a-447a-9200-6d8f4e27cc55",
   "metadata": {},
   "outputs": [
    {
     "name": "stdout",
     "output_type": "stream",
     "text": [
      "2.0\n"
     ]
    },
    {
     "data": {
      "text/plain": [
       "float"
      ]
     },
     "execution_count": 22,
     "metadata": {},
     "output_type": "execute_result"
    }
   ],
   "source": [
    "# Radice quadrata\n",
    "print(4 ** 0.5)\n",
    "type(4 ** 0.5)"
   ]
  },
  {
   "cell_type": "markdown",
   "id": "2ed89e19-d07d-44dd-9376-9d6155c6eaa6",
   "metadata": {},
   "source": [
    "In generale il risultato di un elevamento a potenza con esponente `float` produce un `float`."
   ]
  },
  {
   "cell_type": "markdown",
   "id": "07ee7cb2",
   "metadata": {},
   "source": [
    "## Tipo Stringa\n",
    "\n",
    "In Python, i dati testuali sono gestiti con gli oggetti `str`, o *stringhe*. Una stringa può essere definita in tre diversi modi:\n",
    "- Apici (`'...'`): possono contenere virgolette.\n",
    "- Virgolette (`\"...\"`): possono contenere apici.\n",
    "- Tripli apici/virgolette (`'''...'''`, `\"\"\"...\"\"\"`): possono essere definite su più linee."
   ]
  },
  {
   "cell_type": "code",
   "execution_count": 23,
   "id": "4691f04c",
   "metadata": {},
   "outputs": [
    {
     "data": {
      "text/plain": [
       "'in una stringa definita da apici, posso inserire \"virgolette\"'"
      ]
     },
     "execution_count": 23,
     "metadata": {},
     "output_type": "execute_result"
    }
   ],
   "source": [
    "# Apici\n",
    "\n",
    "'in una stringa definita da apici, posso inserire \"virgolette\"'"
   ]
  },
  {
   "cell_type": "code",
   "execution_count": 24,
   "id": "a4c9a415",
   "metadata": {},
   "outputs": [
    {
     "data": {
      "text/plain": [
       "\"in una stringa definita da virgolette, posso inserire 'apici'\""
      ]
     },
     "execution_count": 24,
     "metadata": {},
     "output_type": "execute_result"
    }
   ],
   "source": [
    "# Virgolette\n",
    "\n",
    "\"in una stringa definita da virgolette, posso inserire 'apici'\""
   ]
  },
  {
   "cell_type": "markdown",
   "id": "2e610335-d30f-4dbc-87d1-5932e7979cbd",
   "metadata": {},
   "source": [
    "Usando apici/virgolette la stringa deve essere definita su una sola riga (niente a capo), in caso contrario si ottiene un errore."
   ]
  },
  {
   "cell_type": "code",
   "execution_count": 25,
   "id": "0e30b31a",
   "metadata": {},
   "outputs": [
    {
     "ename": "SyntaxError",
     "evalue": "unterminated string literal (detected at line 1) (1005411363.py, line 1)",
     "output_type": "error",
     "traceback": [
      "\u001b[0;36m  Cell \u001b[0;32mIn[25], line 1\u001b[0;36m\u001b[0m\n\u001b[0;31m    \"Questa\u001b[0m\n\u001b[0m    ^\u001b[0m\n\u001b[0;31mSyntaxError\u001b[0m\u001b[0;31m:\u001b[0m unterminated string literal (detected at line 1)\n"
     ]
    }
   ],
   "source": [
    "\"Questa\n",
    "è \n",
    "una stringa su\n",
    "linee multiple\""
   ]
  },
  {
   "cell_type": "code",
   "execution_count": 26,
   "id": "8b478115",
   "metadata": {},
   "outputs": [
    {
     "name": "stdout",
     "output_type": "stream",
     "text": [
      "\n",
      "Questa stringa\n",
      "è definita su\n",
      "diverse linee \n",
      "\n"
     ]
    }
   ],
   "source": [
    "# Triple Virgolette\n",
    "\n",
    "print(\"\"\"\n",
    "Questa stringa\n",
    "è definita su\n",
    "diverse linee \n",
    "\"\"\")"
   ]
  },
  {
   "cell_type": "code",
   "execution_count": 27,
   "id": "228af831",
   "metadata": {},
   "outputs": [
    {
     "data": {
      "text/plain": [
       "'\\nQuesta stringa\\nè definita su\\ndiverse linee \\n'"
      ]
     },
     "execution_count": 27,
     "metadata": {},
     "output_type": "execute_result"
    }
   ],
   "source": [
    "\"\"\"\n",
    "Questa stringa\n",
    "è definita su\n",
    "diverse linee \n",
    "\"\"\""
   ]
  },
  {
   "cell_type": "markdown",
   "id": "09858580-a6a8-4ae1-9e68-54d0782398be",
   "metadata": {},
   "source": [
    "Per definire su una sola linea una stringa con degli 'a capo' occorre usare la sequenza di escape `\\n` che produce un a capo."
   ]
  },
  {
   "cell_type": "markdown",
   "id": "1ea70d80",
   "metadata": {},
   "source": [
    "### Concatenazione\n",
    "È possibile concatenare due stringhe diverse oppure ripetere la stessa stringa più volte utilizzando rispettivamente gli operatori aritmetici `+` e `*`. Gli operatori arimetici che abbiamo visto per i tipi numerici possono essere ustati anche su altri dati spesso e volentieri ottenedo altri risultati. Questo fenomeno si chiama **Overloading** ovvero la possibilità di usare uno stesso operatore su più tipi di dato con risultati diversi. "
   ]
  },
  {
   "cell_type": "code",
   "execution_count": 28,
   "id": "1eb619dd",
   "metadata": {},
   "outputs": [
    {
     "name": "stdout",
     "output_type": "stream",
     "text": [
      "Ciao\n"
     ]
    }
   ],
   "source": [
    "# Concatenazione di due stringhe\n",
    "print('Ci' + 'ao')"
   ]
  },
  {
   "cell_type": "code",
   "execution_count": 29,
   "id": "db5c9951",
   "metadata": {},
   "outputs": [
    {
     "name": "stdout",
     "output_type": "stream",
     "text": [
      "Ciao Ciao Ciao Ciao Ciao \n"
     ]
    }
   ],
   "source": [
    "# Ripetizione della stessa stringa\n",
    "print('Ciao ' * 5)"
   ]
  },
  {
   "cell_type": "markdown",
   "id": "faae8c14-dbc0-450a-8fc1-4f3164c84013",
   "metadata": {},
   "source": [
    "Se si cerca di sommare due tipi non compatibili come una stringa e un intero, invece, si ottiene un errore."
   ]
  },
  {
   "cell_type": "code",
   "execution_count": 30,
   "id": "eef46c00",
   "metadata": {},
   "outputs": [
    {
     "ename": "TypeError",
     "evalue": "can only concatenate str (not \"int\") to str",
     "output_type": "error",
     "traceback": [
      "\u001b[0;31m---------------------------------------------------------------------------\u001b[0m",
      "\u001b[0;31mTypeError\u001b[0m                                 Traceback (most recent call last)",
      "Cell \u001b[0;32mIn[30], line 1\u001b[0m\n\u001b[0;32m----> 1\u001b[0m \u001b[38;5;28mprint\u001b[39m(\u001b[38;5;124m'\u001b[39m\u001b[38;5;124mCiao\u001b[39m\u001b[38;5;124m'\u001b[39m \u001b[38;5;241m+\u001b[39m \u001b[38;5;241m1\u001b[39m)\n",
      "\u001b[0;31mTypeError\u001b[0m: can only concatenate str (not \"int\") to str"
     ]
    }
   ],
   "source": [
    "print('Ciao' + 1)"
   ]
  },
  {
   "cell_type": "markdown",
   "id": "08255fdb",
   "metadata": {},
   "source": [
    "### Carattere Escape\n",
    "Nelle stringhe, la barra rovesciata (*backslash*) `\\` è un carattere speciale, chiamato **escape**. È utilizzato per definire alcune sequenze di caratteri come `\\t` e `\\n` (come abbiamo già visto)."
   ]
  },
  {
   "cell_type": "code",
   "execution_count": 31,
   "id": "1c6abf84",
   "metadata": {},
   "outputs": [
    {
     "name": "stdout",
     "output_type": "stream",
     "text": [
      "Questo è un carattere tabulazione \t mentre questa \n",
      " è una nuova linea\n"
     ]
    }
   ],
   "source": [
    "print('Questo è un carattere tabulazione \\t mentre questa \\n è una nuova linea')"
   ]
  },
  {
   "cell_type": "markdown",
   "id": "69a112ed",
   "metadata": {},
   "source": [
    "Utilizzare `\\` prima di un carattere speciale trasforma quest'ultimo in un carattere ordinario. "
   ]
  },
  {
   "cell_type": "code",
   "execution_count": 32,
   "id": "a41840f6",
   "metadata": {},
   "outputs": [
    {
     "name": "stdout",
     "output_type": "stream",
     "text": [
      "I'm a python coder.\n"
     ]
    }
   ],
   "source": [
    "print('I\\'m a python coder.')"
   ]
  },
  {
   "cell_type": "markdown",
   "id": "20c95d22",
   "metadata": {},
   "source": [
    "### Slicing e Indexing\n",
    "Poiché la stringa in Python viene trattata come una sequenza di caratteri, come vedremo per le Liste, è possibile selezionare un sottoinsiemi di caratteri da una stringa utilizzando l'operazione di *slicing*. \n",
    "\n",
    "All'interno di parentesi quadre, si specifica l'indice del carattere di inizio (compreso) e l'indice di fine (escluso), separati da `:`."
   ]
  },
  {
   "cell_type": "code",
   "execution_count": 33,
   "id": "e48f0595",
   "metadata": {},
   "outputs": [
    {
     "data": {
      "text/plain": [
       "'Statistica'"
      ]
     },
     "execution_count": 33,
     "metadata": {},
     "output_type": "execute_result"
    }
   ],
   "source": [
    "'Statistica per i Big Data Economico-Aziendali'[0:10]"
   ]
  },
  {
   "cell_type": "markdown",
   "id": "96d6bcef-831c-4c29-8e26-24226f07fbe6",
   "metadata": {},
   "source": [
    "In Python, a differenza di altri linguaggi, gli indici partono da zero. Per esempio gli indici degli *n* caratteri all'interno di una stringa vanno da *0* a *n-1*. "
   ]
  },
  {
   "cell_type": "markdown",
   "id": "50ba978b-02bc-44ab-af19-c7fd0638e6c1",
   "metadata": {},
   "source": [
    "Indicando soltanto un numero all'interno delle parentesi quadre si seleziona soltanto l'elemento che occupa la posizione data da quell'indice."
   ]
  },
  {
   "cell_type": "code",
   "execution_count": 34,
   "id": "210beb87",
   "metadata": {},
   "outputs": [
    {
     "data": {
      "text/plain": [
       "'S'"
      ]
     },
     "execution_count": 34,
     "metadata": {},
     "output_type": "execute_result"
    }
   ],
   "source": [
    "'Statistica per i Big Data Economico-Aziendali'[0]"
   ]
  },
  {
   "cell_type": "markdown",
   "id": "d1eacf5e-0a5a-4ee3-b030-1333724aa49d",
   "metadata": {},
   "source": [
    "Uno dei due indici può essere omesso durante lo *slincig*."
   ]
  },
  {
   "cell_type": "markdown",
   "id": "2e09a81f-4ce8-4f4b-a64c-ed4a56524830",
   "metadata": {},
   "source": [
    "Se si omette l'indice di inizio si selezionano tutti i caratteri dal primo fino all'indice di fine (escluso)."
   ]
  },
  {
   "cell_type": "code",
   "execution_count": 35,
   "id": "b47487ce",
   "metadata": {},
   "outputs": [
    {
     "data": {
      "text/plain": [
       "'Statistica'"
      ]
     },
     "execution_count": 35,
     "metadata": {},
     "output_type": "execute_result"
    }
   ],
   "source": [
    "'Statistica per i Big Data Economico-Aziendali'[:10]"
   ]
  },
  {
   "cell_type": "markdown",
   "id": "1b0079e2-db79-4e31-af80-8b729150dbae",
   "metadata": {},
   "source": [
    "Se si omette l'indice di fine si selezionano tutti i caratteri dall'indice di inizio (compreso) fino alla fine della stringa."
   ]
  },
  {
   "cell_type": "code",
   "execution_count": 36,
   "id": "6b4f1eae",
   "metadata": {},
   "outputs": [
    {
     "data": {
      "text/plain": [
       "'per i Big Data Economico-Aziendali'"
      ]
     },
     "execution_count": 36,
     "metadata": {},
     "output_type": "execute_result"
    }
   ],
   "source": [
    "'Statistica per i Big Data Economico-Aziendali'[11:]"
   ]
  },
  {
   "cell_type": "markdown",
   "id": "3106a67e",
   "metadata": {},
   "source": [
    "### Metodi\n",
    "\n",
    "Le stringhe, come vederemo per molti altri oggetti in Python, posseggono una serie di *metodi integrati (built-in)* che possono essere utilizzati. Un metodo è una funzione che agisce sulla stringa su cui viene *chiamato* e che tipicamente restituisce un risultato.\n",
    "\n",
    "Per esempio `str.capitalize()` restituisce una copia della stringa con la prima lettera in maiuscolo e tutto il resto in minuscolo."
   ]
  },
  {
   "cell_type": "code",
   "execution_count": 37,
   "id": "5e1ef211",
   "metadata": {},
   "outputs": [
    {
     "data": {
      "text/plain": [
       "'Ciao'"
      ]
     },
     "execution_count": 37,
     "metadata": {},
     "output_type": "execute_result"
    }
   ],
   "source": [
    "'ciao'.capitalize()"
   ]
  },
  {
   "cell_type": "markdown",
   "id": "b107de6f-0277-49dc-b576-194e330dd296",
   "metadata": {},
   "source": [
    "I metodi delle stringhe sono propri di questo tipo di dato e non possono essere usati (a differenza degli operatori aritmetici) su altri tipi."
   ]
  },
  {
   "cell_type": "code",
   "execution_count": 38,
   "id": "78560ca6",
   "metadata": {},
   "outputs": [
    {
     "ename": "SyntaxError",
     "evalue": "invalid decimal literal (2147238821.py, line 1)",
     "output_type": "error",
     "traceback": [
      "\u001b[0;36m  Cell \u001b[0;32mIn[38], line 1\u001b[0;36m\u001b[0m\n\u001b[0;31m    123.capitalize()\u001b[0m\n\u001b[0m       ^\u001b[0m\n\u001b[0;31mSyntaxError\u001b[0m\u001b[0;31m:\u001b[0m invalid decimal literal\n"
     ]
    }
   ],
   "source": [
    "123.capitalize()"
   ]
  },
  {
   "cell_type": "markdown",
   "id": "3f774487",
   "metadata": {},
   "source": [
    "`str.lower()` restituisce una copia della stringa con tutte le lettere minuscole."
   ]
  },
  {
   "cell_type": "code",
   "execution_count": 39,
   "id": "6e85ee49",
   "metadata": {},
   "outputs": [
    {
     "data": {
      "text/plain": [
       "'ciao'"
      ]
     },
     "execution_count": 39,
     "metadata": {},
     "output_type": "execute_result"
    }
   ],
   "source": [
    "'CIAO'.lower()"
   ]
  },
  {
   "cell_type": "code",
   "execution_count": 40,
   "id": "27c5a0d4",
   "metadata": {},
   "outputs": [
    {
     "data": {
      "text/plain": [
       "'c\\\\iao'"
      ]
     },
     "execution_count": 40,
     "metadata": {},
     "output_type": "execute_result"
    }
   ],
   "source": [
    "'C\\\\IAO'.lower()"
   ]
  },
  {
   "cell_type": "markdown",
   "id": "9c9351bc",
   "metadata": {},
   "source": [
    "`str.upper()` restituisce una copia della stringa con tutte le lettere maiuscole."
   ]
  },
  {
   "cell_type": "code",
   "execution_count": 41,
   "id": "240f673a",
   "metadata": {},
   "outputs": [
    {
     "data": {
      "text/plain": [
       "'CIAO'"
      ]
     },
     "execution_count": 41,
     "metadata": {},
     "output_type": "execute_result"
    }
   ],
   "source": [
    "'ciao'.upper()"
   ]
  },
  {
   "cell_type": "markdown",
   "id": "45b65bdf",
   "metadata": {},
   "source": [
    "`str.strip()` restituisce una copia della stringa eliminando eventuali spazi all'inizio e alla fine di essa."
   ]
  },
  {
   "cell_type": "code",
   "execution_count": 42,
   "id": "a850402f",
   "metadata": {},
   "outputs": [
    {
     "data": {
      "text/plain": [
       "'ciao'"
      ]
     },
     "execution_count": 42,
     "metadata": {},
     "output_type": "execute_result"
    }
   ],
   "source": [
    "'  ciao  '.strip()"
   ]
  },
  {
   "cell_type": "code",
   "execution_count": 43,
   "id": "9c430899",
   "metadata": {},
   "outputs": [
    {
     "data": {
      "text/plain": [
       "'ci ao'"
      ]
     },
     "execution_count": 43,
     "metadata": {},
     "output_type": "execute_result"
    }
   ],
   "source": [
    "'  ci ao  '.strip()"
   ]
  },
  {
   "cell_type": "markdown",
   "id": "66b36975",
   "metadata": {},
   "source": [
    "I metodi possono anche accettare degli *argomenti*: per esempio `str.find(sub)` restituisce il primo indice della stringa in cui viene trovata la sottostringa `sub`."
   ]
  },
  {
   "cell_type": "code",
   "execution_count": 44,
   "id": "d9c74e2e",
   "metadata": {},
   "outputs": [
    {
     "ename": "TypeError",
     "evalue": "find() takes at least 1 argument (0 given)",
     "output_type": "error",
     "traceback": [
      "\u001b[0;31m---------------------------------------------------------------------------\u001b[0m",
      "\u001b[0;31mTypeError\u001b[0m                                 Traceback (most recent call last)",
      "Cell \u001b[0;32mIn[44], line 1\u001b[0m\n\u001b[0;32m----> 1\u001b[0m \u001b[38;5;124m'\u001b[39m\u001b[38;5;124mciao\u001b[39m\u001b[38;5;124m'\u001b[39m\u001b[38;5;241m.\u001b[39mfind()\n",
      "\u001b[0;31mTypeError\u001b[0m: find() takes at least 1 argument (0 given)"
     ]
    }
   ],
   "source": [
    "'ciao'.find()"
   ]
  },
  {
   "cell_type": "code",
   "execution_count": 45,
   "id": "cf3f2165",
   "metadata": {},
   "outputs": [
    {
     "data": {
      "text/plain": [
       "1"
      ]
     },
     "execution_count": 45,
     "metadata": {},
     "output_type": "execute_result"
    }
   ],
   "source": [
    "'ciao'.find('i')"
   ]
  },
  {
   "cell_type": "code",
   "execution_count": 46,
   "id": "b7b41763",
   "metadata": {},
   "outputs": [
    {
     "data": {
      "text/plain": [
       "2"
      ]
     },
     "execution_count": 46,
     "metadata": {},
     "output_type": "execute_result"
    }
   ],
   "source": [
    "'hello'.find('l')"
   ]
  },
  {
   "cell_type": "markdown",
   "id": "78ce9f1a-bcb1-4f72-8b14-9db7db3e6a2c",
   "metadata": {},
   "source": [
    "Si può limitare la ricerca di `find` fra due indici."
   ]
  },
  {
   "cell_type": "code",
   "execution_count": 47,
   "id": "0015b53d",
   "metadata": {},
   "outputs": [
    {
     "data": {
      "text/plain": [
       "22"
      ]
     },
     "execution_count": 47,
     "metadata": {},
     "output_type": "execute_result"
    }
   ],
   "source": [
    "'Statistica per i Big Data Economico-Aziendali'.find('a', 11, 30)"
   ]
  },
  {
   "cell_type": "code",
   "execution_count": 48,
   "id": "3d6e550b",
   "metadata": {},
   "outputs": [
    {
     "data": {
      "text/plain": [
       "22"
      ]
     },
     "execution_count": 48,
     "metadata": {},
     "output_type": "execute_result"
    }
   ],
   "source": [
    "'Statistica per i Big Data Economico-Aziendali'.find('a', 11)"
   ]
  },
  {
   "cell_type": "markdown",
   "id": "e35820e7",
   "metadata": {},
   "source": [
    "`str.replace(old, new)` restituisce una copia della stringa con tutte le occorrenze di `old` sostituite da `new`."
   ]
  },
  {
   "cell_type": "code",
   "execution_count": 49,
   "id": "cb90f36e",
   "metadata": {},
   "outputs": [
    {
     "data": {
      "text/plain": [
       "'ciap'"
      ]
     },
     "execution_count": 49,
     "metadata": {},
     "output_type": "execute_result"
    }
   ],
   "source": [
    "'ciao'.replace('o', 'p')"
   ]
  },
  {
   "cell_type": "markdown",
   "id": "079b6c36",
   "metadata": {},
   "source": [
    "`str.format(string)` esegue un'operazione di formattazione sulla stringa."
   ]
  },
  {
   "cell_type": "code",
   "execution_count": 50,
   "id": "12ab005d",
   "metadata": {},
   "outputs": [
    {
     "data": {
      "text/plain": [
       "'ciao, come stai ?'"
      ]
     },
     "execution_count": 50,
     "metadata": {},
     "output_type": "execute_result"
    }
   ],
   "source": [
    "'ciao, {}'.format('come stai ?')"
   ]
  },
  {
   "cell_type": "markdown",
   "id": "3aeb7eb6-98d2-41d8-9526-75fe16b28186",
   "metadata": {},
   "source": [
    "## Booleani"
   ]
  },
  {
   "cell_type": "markdown",
   "id": "42a40562-62d7-4537-9286-a716ea7385d2",
   "metadata": {},
   "source": [
    "L'ultimo tipo di dato che vediamo sono i booleani: esistono sono due valori possibili per un dato booleano:"
   ]
  },
  {
   "cell_type": "code",
   "execution_count": 51,
   "id": "aa57a786-c327-46e6-a36c-2731c0dd9f47",
   "metadata": {},
   "outputs": [
    {
     "data": {
      "text/plain": [
       "bool"
      ]
     },
     "execution_count": 51,
     "metadata": {},
     "output_type": "execute_result"
    }
   ],
   "source": [
    "True\n",
    "type(True)"
   ]
  },
  {
   "cell_type": "code",
   "execution_count": 52,
   "id": "1b4ffd48-2580-4bca-b2c1-940edbfefe04",
   "metadata": {},
   "outputs": [
    {
     "data": {
      "text/plain": [
       "bool"
      ]
     },
     "execution_count": 52,
     "metadata": {},
     "output_type": "execute_result"
    }
   ],
   "source": [
    "False\n",
    "type(False)"
   ]
  },
  {
   "cell_type": "markdown",
   "id": "6508c455-f19a-4d79-b792-9559b3aae6d9",
   "metadata": {},
   "source": [
    "I Booleani vengono usati per indicare il valore di verità di determinate condizioni che possono essere solo vere o false."
   ]
  },
  {
   "cell_type": "markdown",
   "id": "c8e75c3a",
   "metadata": {},
   "source": [
    "## Conversione di Tipo\n",
    "\n",
    "Il processo di convertire un valore da un tipo di datio ad un altro è chiamato **conversione**. In Python esistono due tipologie di conversione:\n",
    "- *implicita*: Python converte automaticamente un tipo di dato in un altro senza che venga specificato dall'utente.\n",
    "- *esplicita*: l'utente converte l'oggetto da un tipo di dato all'altro utilizzando delle funzioni integrate, ad es. `int()`, `float()`, `str()`."
   ]
  },
  {
   "cell_type": "code",
   "execution_count": 53,
   "id": "c130d989",
   "metadata": {},
   "outputs": [
    {
     "name": "stdout",
     "output_type": "stream",
     "text": [
      "<class 'int'>\n",
      "<class 'float'>\n",
      "<class 'float'>\n"
     ]
    }
   ],
   "source": [
    "# Conversione implicita\n",
    "print(type(2))\n",
    "print(type(12.5))\n",
    "print(type(2 + 12.5))"
   ]
  },
  {
   "cell_type": "code",
   "execution_count": 54,
   "id": "53658756",
   "metadata": {},
   "outputs": [
    {
     "name": "stdout",
     "output_type": "stream",
     "text": [
      "123\n",
      "<class 'int'>\n",
      "123\n",
      "<class 'str'>\n"
     ]
    }
   ],
   "source": [
    "# Conversione esplicita\n",
    "print(123)\n",
    "print(type(123))\n",
    "print(str(123))\n",
    "print(type(str(123)))"
   ]
  },
  {
   "cell_type": "markdown",
   "id": "f52c748c-ef4a-40fa-b0c0-46da00274bd4",
   "metadata": {},
   "source": [
    "## Variabili"
   ]
  },
  {
   "cell_type": "markdown",
   "id": "329dd153-64c3-48a8-928d-68a0ffb9148d",
   "metadata": {},
   "source": [
    "Finora abbiamo lavorato solo usando tipi di dato costanti, ovvero che non possono essere cambiati durante l'esecuzione di un programma."
   ]
  },
  {
   "cell_type": "code",
   "execution_count": 55,
   "id": "a11692a2-19aa-4920-aa63-604c6c03677e",
   "metadata": {},
   "outputs": [
    {
     "data": {
      "text/plain": [
       "12"
      ]
     },
     "execution_count": 55,
     "metadata": {},
     "output_type": "execute_result"
    }
   ],
   "source": [
    "# Costante numerica intera\n",
    "12"
   ]
  },
  {
   "cell_type": "markdown",
   "id": "c0aa0347-bfac-4c42-a907-fff660560a60",
   "metadata": {},
   "source": [
    "Una variabile, invece, permette di memorizzare delle informazioni e può essere poi recuperata e modificata durante l'esecuzione di un programma. È anche un modo per descrivere in maniera più significativa i nostri dati, in modo da rendere più leggibile e comprensibile il nostro codice.\n",
    "\n",
    "Per creare una variabile è necessario *dichiararla*. In Python ciò avviene definendo il nome della variabile, seguita dall'operatore *assegnamento* `=` e dal valore che le vogliamo assegnare."
   ]
  },
  {
   "cell_type": "code",
   "execution_count": 56,
   "id": "f493d8a9",
   "metadata": {},
   "outputs": [],
   "source": [
    "# Dichiarazione ed assegnamento di una variabile numerica\n",
    "x = 5\n",
    "y = 3"
   ]
  },
  {
   "cell_type": "code",
   "execution_count": 57,
   "id": "be9181f1",
   "metadata": {},
   "outputs": [
    {
     "data": {
      "text/plain": [
       "5"
      ]
     },
     "execution_count": 57,
     "metadata": {},
     "output_type": "execute_result"
    }
   ],
   "source": [
    "x"
   ]
  },
  {
   "cell_type": "markdown",
   "id": "31489926-6f47-42be-afee-2621754a6a7f",
   "metadata": {},
   "source": [
    "Come con le costanti possiamo eseguire operazioni fra variabili:"
   ]
  },
  {
   "cell_type": "code",
   "execution_count": 58,
   "id": "d5da602e",
   "metadata": {},
   "outputs": [],
   "source": [
    "z = x + y"
   ]
  },
  {
   "cell_type": "code",
   "execution_count": 59,
   "id": "eb3b7e3f",
   "metadata": {},
   "outputs": [
    {
     "data": {
      "text/plain": [
       "8"
      ]
     },
     "execution_count": 59,
     "metadata": {},
     "output_type": "execute_result"
    }
   ],
   "source": [
    "z"
   ]
  },
  {
   "cell_type": "markdown",
   "id": "0c0c2926-3f1d-4470-8a5d-86906c13afed",
   "metadata": {},
   "source": [
    "Ma, a differenza delle costanti, possiamo cambiare il valore di una variabile:"
   ]
  },
  {
   "cell_type": "code",
   "execution_count": 60,
   "id": "6fe357c7",
   "metadata": {},
   "outputs": [
    {
     "data": {
      "text/plain": [
       "10"
      ]
     },
     "execution_count": 60,
     "metadata": {},
     "output_type": "execute_result"
    }
   ],
   "source": [
    "# Aggiornamento ddel valore di una variabile\n",
    "x = 10\n",
    "x"
   ]
  },
  {
   "cell_type": "code",
   "execution_count": 61,
   "id": "ebce5744",
   "metadata": {},
   "outputs": [
    {
     "data": {
      "text/plain": [
       "13"
      ]
     },
     "execution_count": 61,
     "metadata": {},
     "output_type": "execute_result"
    }
   ],
   "source": [
    "z = x + y\n",
    "z"
   ]
  },
  {
   "cell_type": "markdown",
   "id": "73c5685e",
   "metadata": {},
   "source": [
    "### Altri Operatori di Assegnazione\n",
    "\n",
    "`+=` (*somma e assegna*): aggiungi l'operando a destra con quello a sinistra e assegna il risultato all'operando a sinistra."
   ]
  },
  {
   "cell_type": "code",
   "execution_count": 62,
   "id": "6063cbd5",
   "metadata": {},
   "outputs": [
    {
     "data": {
      "text/plain": [
       "10"
      ]
     },
     "execution_count": 62,
     "metadata": {},
     "output_type": "execute_result"
    }
   ],
   "source": [
    "x"
   ]
  },
  {
   "cell_type": "code",
   "execution_count": 63,
   "id": "ad097d69",
   "metadata": {},
   "outputs": [
    {
     "data": {
      "text/plain": [
       "11"
      ]
     },
     "execution_count": 63,
     "metadata": {},
     "output_type": "execute_result"
    }
   ],
   "source": [
    "x += 1 # Equivalente a x = x + 1\n",
    "x"
   ]
  },
  {
   "cell_type": "markdown",
   "id": "48041ecf",
   "metadata": {},
   "source": [
    "`-=` (*sottrai e assegna*): sottrai l'operando a destra da quello a sinistra e assegna il risultato all'operando a sinistra."
   ]
  },
  {
   "cell_type": "code",
   "execution_count": 64,
   "id": "5c978734",
   "metadata": {},
   "outputs": [
    {
     "data": {
      "text/plain": [
       "9"
      ]
     },
     "execution_count": 64,
     "metadata": {},
     "output_type": "execute_result"
    }
   ],
   "source": [
    "x -= 2 # Equivalente a x = x - 2\n",
    "x"
   ]
  },
  {
   "cell_type": "markdown",
   "id": "2b3120e8",
   "metadata": {},
   "source": [
    "`*=` (moltiplica e assegna): moltiplica l'operando a destra con quello a sinistra e assegna il risultato all'operando a sinistra."
   ]
  },
  {
   "cell_type": "code",
   "execution_count": 65,
   "id": "e5079026",
   "metadata": {},
   "outputs": [
    {
     "data": {
      "text/plain": [
       "18"
      ]
     },
     "execution_count": 65,
     "metadata": {},
     "output_type": "execute_result"
    }
   ],
   "source": [
    "x *= 2 # Equivalente a x = x * 2\n",
    "x"
   ]
  },
  {
   "cell_type": "markdown",
   "id": "ae2b1cbc",
   "metadata": {},
   "source": [
    "## Riferimento agli Oggetti\n",
    "\n",
    "Una variabile in Python è un valore simbolico che crea un riferimento ad un dato. Una volta che un dato viene assegnato ad una variabile, è possibile riferirsi ad esso utilizzando il nome della variabile; l'informazione è comunque contenuta all'interno del dato e non della variabile. "
   ]
  },
  {
   "cell_type": "code",
   "execution_count": 66,
   "id": "c48b2f0c",
   "metadata": {},
   "outputs": [
    {
     "data": {
      "text/plain": [
       "3"
      ]
     },
     "execution_count": 66,
     "metadata": {},
     "output_type": "execute_result"
    }
   ],
   "source": [
    "y"
   ]
  },
  {
   "cell_type": "code",
   "execution_count": 67,
   "id": "5e53069a",
   "metadata": {},
   "outputs": [],
   "source": [
    "y = x"
   ]
  },
  {
   "cell_type": "code",
   "execution_count": 68,
   "id": "21acfbab",
   "metadata": {},
   "outputs": [
    {
     "data": {
      "text/plain": [
       "18"
      ]
     },
     "execution_count": 68,
     "metadata": {},
     "output_type": "execute_result"
    }
   ],
   "source": [
    "y"
   ]
  },
  {
   "cell_type": "markdown",
   "id": "ec05506c",
   "metadata": {},
   "source": [
    "Ad ogni oggetto creato viene assegnato un codice che lo identifica. È garantito che due oggetti diversi non possano avere lo stesso identificatore. La funzione integrata `id(object)` restituisce l'identificatore di un oggetto."
   ]
  },
  {
   "cell_type": "code",
   "execution_count": 69,
   "id": "017e468d",
   "metadata": {},
   "outputs": [
    {
     "data": {
      "text/plain": [
       "8908424"
      ]
     },
     "execution_count": 69,
     "metadata": {},
     "output_type": "execute_result"
    }
   ],
   "source": [
    "id(y)"
   ]
  },
  {
   "cell_type": "code",
   "execution_count": 70,
   "id": "83e2f72c",
   "metadata": {},
   "outputs": [
    {
     "data": {
      "text/plain": [
       "8908424"
      ]
     },
     "execution_count": 70,
     "metadata": {},
     "output_type": "execute_result"
    }
   ],
   "source": [
    "id(x)"
   ]
  },
  {
   "cell_type": "code",
   "execution_count": 71,
   "id": "0a8b156e",
   "metadata": {},
   "outputs": [
    {
     "data": {
      "text/plain": [
       "8908424"
      ]
     },
     "execution_count": 71,
     "metadata": {},
     "output_type": "execute_result"
    }
   ],
   "source": [
    "id(18)"
   ]
  },
  {
   "cell_type": "code",
   "execution_count": 72,
   "id": "cfafcb53",
   "metadata": {},
   "outputs": [
    {
     "data": {
      "text/plain": [
       "8908168"
      ]
     },
     "execution_count": 72,
     "metadata": {},
     "output_type": "execute_result"
    }
   ],
   "source": [
    "x = 10\n",
    "id(x)"
   ]
  },
  {
   "cell_type": "markdown",
   "id": "0ea07710",
   "metadata": {},
   "source": [
    "## Convenzioni\n",
    "\n",
    "I nomi delle variabili dovrebbero essere formati da soli caratteri minuscoli, con parole separate da trattini bassi `_` per migliorarne la leggibilità.\n",
    "\n",
    "In Python, un ridotto insieme di parole chiave sono riservate per particolari funzionalità del linguaggio. Alle variabili non possono essere assegnati nomi uguali a parole chiave. È possibile controllare la lista di parole chiave in ogni momento utilizzando il comando `help('keywords')`."
   ]
  },
  {
   "cell_type": "code",
   "execution_count": 73,
   "id": "16b56ef1",
   "metadata": {},
   "outputs": [],
   "source": [
    "popolazione_italiana = 60000000"
   ]
  },
  {
   "cell_type": "code",
   "execution_count": 74,
   "id": "81c85cd0",
   "metadata": {},
   "outputs": [
    {
     "ename": "SyntaxError",
     "evalue": "invalid syntax (3594483855.py, line 1)",
     "output_type": "error",
     "traceback": [
      "\u001b[0;36m  Cell \u001b[0;32mIn[74], line 1\u001b[0;36m\u001b[0m\n\u001b[0;31m    def = 10\u001b[0m\n\u001b[0m        ^\u001b[0m\n\u001b[0;31mSyntaxError\u001b[0m\u001b[0;31m:\u001b[0m invalid syntax\n"
     ]
    }
   ],
   "source": [
    "def = 10"
   ]
  },
  {
   "cell_type": "code",
   "execution_count": 75,
   "id": "760a9e01",
   "metadata": {},
   "outputs": [
    {
     "name": "stdout",
     "output_type": "stream",
     "text": [
      "\n",
      "Here is a list of the Python keywords.  Enter any keyword to get more help.\n",
      "\n",
      "False               class               from                or\n",
      "None                continue            global              pass\n",
      "True                def                 if                  raise\n",
      "and                 del                 import              return\n",
      "as                  elif                in                  try\n",
      "assert              else                is                  while\n",
      "async               except              lambda              with\n",
      "await               finally             nonlocal            yield\n",
      "break               for                 not                 \n",
      "\n"
     ]
    }
   ],
   "source": [
    "help('keywords')"
   ]
  },
  {
   "cell_type": "markdown",
   "id": "6b19c315-c83a-4fa5-b4fb-90e58fd1571d",
   "metadata": {},
   "source": [
    "## Esercizi"
   ]
  },
  {
   "cell_type": "markdown",
   "id": "a7a2edad-6c8c-46dd-8df9-80918367e53b",
   "metadata": {},
   "source": [
    "Scrivi un programma che dati due numeri interi `a` e `b` calcoli il valore della divisione intera fra `a` e `b` e il resto e che stampi `{} diviso {} fa {} con resto di {}.`, sostituendo le graffe con i risultati."
   ]
  },
  {
   "cell_type": "code",
   "execution_count": null,
   "id": "3fe98377-4522-4423-a40d-e239e9b4e0bd",
   "metadata": {},
   "outputs": [],
   "source": []
  },
  {
   "cell_type": "markdown",
   "id": "d2c7c53a-1c24-4346-84d2-4d073e99f769",
   "metadata": {},
   "source": [
    "Scrivi un programma che dato il raggio del cerchio calcola l'area e stampa `L'area del cerchio con raggio {} è uguale a {}.`, sostituendo le graffe con i risultati."
   ]
  },
  {
   "cell_type": "code",
   "execution_count": null,
   "id": "2ca9f06b-04a7-487d-9fd6-fe8fbbfe62d6",
   "metadata": {},
   "outputs": [],
   "source": []
  },
  {
   "cell_type": "markdown",
   "id": "221e1a10-5b92-45da-bace-7ef6df8217da",
   "metadata": {},
   "source": [
    "Scrivi un programma che sposti l'ultimo careattere di una stringa all'inizio della stessa. Ad esempio `fragola` -> `afragol`"
   ]
  },
  {
   "cell_type": "code",
   "execution_count": null,
   "id": "8ee55337-b8d8-4812-976c-be83f2a5bf23",
   "metadata": {},
   "outputs": [],
   "source": []
  },
  {
   "cell_type": "markdown",
   "id": "4d78f7c3-1513-4d9b-aa70-47fd8cb4030e",
   "metadata": {},
   "source": [
    "Scrivi un programma che sostituisce tutte le occorrenze del primo carattere di una stringa con `?`, eccetto per il primo carattere. Ad esempio `ananas` -> `an?n?s`."
   ]
  },
  {
   "cell_type": "code",
   "execution_count": null,
   "id": "9b37cf48-a710-47a7-8d30-6b34a8b217be",
   "metadata": {},
   "outputs": [],
   "source": []
  },
  {
   "cell_type": "markdown",
   "id": "53a4664d-2167-455a-b45c-55b751ff22af",
   "metadata": {},
   "source": [
    "Scrivi un programma che dato il volume di una sfera ne calcoli il raggio.\n",
    "Il volume della sfera si calcola con la formula:\n",
    "$$\n",
    "V = \\frac{4\\pi}{3}r^3\n",
    "$$"
   ]
  },
  {
   "cell_type": "code",
   "execution_count": null,
   "id": "99bff369-187b-49f3-81c7-a17e1913c171",
   "metadata": {},
   "outputs": [],
   "source": []
  }
 ],
 "metadata": {
  "kernelspec": {
   "display_name": "Python 3 (ipykernel)",
   "language": "python",
   "name": "python3"
  },
  "language_info": {
   "codemirror_mode": {
    "name": "ipython",
    "version": 3
   },
   "file_extension": ".py",
   "mimetype": "text/x-python",
   "name": "python",
   "nbconvert_exporter": "python",
   "pygments_lexer": "ipython3",
   "version": "3.11.7"
  }
 },
 "nbformat": 4,
 "nbformat_minor": 5
}
