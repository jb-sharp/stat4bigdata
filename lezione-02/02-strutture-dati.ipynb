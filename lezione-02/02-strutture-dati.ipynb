{
 "cells": [
  {
   "cell_type": "markdown",
   "id": "a87e2781",
   "metadata": {},
   "source": [
    "# Strutture Dati\n",
    "\n",
    "Una **struttura dati** è un formato specializzato per organizzare, processare, recuperare e memorizzare i dati. Esistono molteplici strutture dati, sia semplici che complesse, progettate per organizzare i dati in modo tale da soddisfare particolari requisiti. Le strutture dati sono utili agli utenti per accedere e lavorare con i dati di cui hanno bisogno nella maniera più appropriata.\n",
    "\n",
    "## Liste\n",
    "\n",
    "Le **liste** sono utilizzate per memorizzare molteplici elementi in una singolare variabile; vengono definite utilizzato le parentesi quadre, `[...]`."
   ]
  },
  {
   "cell_type": "code",
   "execution_count": null,
   "id": "48931d17",
   "metadata": {},
   "outputs": [],
   "source": [
    "a = 'arancia'\n",
    "b = 'banana'\n",
    "c = 'ciliegia'"
   ]
  },
  {
   "cell_type": "code",
   "execution_count": 1,
   "id": "dc28d13c",
   "metadata": {},
   "outputs": [],
   "source": [
    "frutta = ['arancia', 'banana', 'ciliegia']"
   ]
  },
  {
   "cell_type": "code",
   "execution_count": 2,
   "id": "32a73454",
   "metadata": {},
   "outputs": [
    {
     "data": {
      "text/plain": [
       "['arancia', 'banana', 'ciliegia']"
      ]
     },
     "execution_count": 2,
     "metadata": {},
     "output_type": "execute_result"
    }
   ],
   "source": [
    "frutta"
   ]
  },
  {
   "cell_type": "code",
   "execution_count": 26,
   "id": "5df576c7",
   "metadata": {},
   "outputs": [
    {
     "data": {
      "text/plain": [
       "list"
      ]
     },
     "execution_count": 26,
     "metadata": {},
     "output_type": "execute_result"
    }
   ],
   "source": [
    "type(frutta)"
   ]
  },
  {
   "cell_type": "markdown",
   "id": "181da9a0",
   "metadata": {},
   "source": [
    "Una lista può contenere differenti tipi di dato."
   ]
  },
  {
   "cell_type": "code",
   "execution_count": 3,
   "id": "3d586f1d",
   "metadata": {},
   "outputs": [],
   "source": [
    "mix = ['ciao', 200, [True, 0.2]]"
   ]
  },
  {
   "cell_type": "code",
   "execution_count": 4,
   "id": "46947048",
   "metadata": {},
   "outputs": [
    {
     "data": {
      "text/plain": [
       "['ciao', 200, [True, 0.2]]"
      ]
     },
     "execution_count": 4,
     "metadata": {},
     "output_type": "execute_result"
    }
   ],
   "source": [
    "mix"
   ]
  },
  {
   "cell_type": "markdown",
   "id": "21d86e3c",
   "metadata": {},
   "source": [
    "Come gli altri tipi sequenziali, ad esempio le stringhe, anche le liste possono essere soggette ad operazioni di indexing e slicing."
   ]
  },
  {
   "cell_type": "code",
   "execution_count": 5,
   "id": "1448680a",
   "metadata": {},
   "outputs": [
    {
     "data": {
      "text/plain": [
       "'arancia'"
      ]
     },
     "execution_count": 5,
     "metadata": {},
     "output_type": "execute_result"
    }
   ],
   "source": [
    "frutta[0]"
   ]
  },
  {
   "cell_type": "code",
   "execution_count": 6,
   "id": "ea18af70",
   "metadata": {},
   "outputs": [
    {
     "data": {
      "text/plain": [
       "['banana', 'ciliegia']"
      ]
     },
     "execution_count": 6,
     "metadata": {},
     "output_type": "execute_result"
    }
   ],
   "source": [
    "frutta[1:]"
   ]
  },
  {
   "cell_type": "markdown",
   "id": "a34c9213",
   "metadata": {},
   "source": [
    "A differenza delle stringhe, che sono *immutabili*, le liste sono un tipo *mutabile*, dunque è possibile cambiarne il contenuto."
   ]
  },
  {
   "cell_type": "code",
   "execution_count": 7,
   "id": "1088f47b",
   "metadata": {},
   "outputs": [
    {
     "data": {
      "text/plain": [
       "['ananas', 'banana', 'ciliegia']"
      ]
     },
     "execution_count": 7,
     "metadata": {},
     "output_type": "execute_result"
    }
   ],
   "source": [
    "frutta[0] = 'ananas'\n",
    "frutta"
   ]
  },
  {
   "cell_type": "code",
   "execution_count": 9,
   "id": "cd6efc1d",
   "metadata": {},
   "outputs": [
    {
     "ename": "TypeError",
     "evalue": "'str' object does not support item assignment",
     "output_type": "error",
     "traceback": [
      "\u001b[0;31m---------------------------------------------------------------------------\u001b[0m",
      "\u001b[0;31mTypeError\u001b[0m                                 Traceback (most recent call last)",
      "Input \u001b[0;32mIn [9]\u001b[0m, in \u001b[0;36m<cell line: 1>\u001b[0;34m()\u001b[0m\n\u001b[0;32m----> 1\u001b[0m \u001b[38;5;124m'\u001b[39m\u001b[38;5;124mananas\u001b[39m\u001b[38;5;124m'\u001b[39m[\u001b[38;5;241m0\u001b[39m] \u001b[38;5;241m=\u001b[39m \u001b[38;5;124m'\u001b[39m\u001b[38;5;124mc\u001b[39m\u001b[38;5;124m'\u001b[39m\n",
      "\u001b[0;31mTypeError\u001b[0m: 'str' object does not support item assignment"
     ]
    }
   ],
   "source": [
    "'ananas'[0] = 'c'"
   ]
  },
  {
   "cell_type": "code",
   "execution_count": 10,
   "id": "f36f7dca",
   "metadata": {},
   "outputs": [
    {
     "data": {
      "text/plain": [
       "'ananac'"
      ]
     },
     "execution_count": 10,
     "metadata": {},
     "output_type": "execute_result"
    }
   ],
   "source": [
    "'ananas'.replace('s', 'c')"
   ]
  },
  {
   "cell_type": "markdown",
   "id": "660231dd",
   "metadata": {},
   "source": [
    "È possibile utilizzare anche la funzione `list()` per definire una lista."
   ]
  },
  {
   "cell_type": "code",
   "execution_count": 11,
   "id": "1d481693",
   "metadata": {},
   "outputs": [
    {
     "data": {
      "text/plain": [
       "[0, 1, 2, 3]"
      ]
     },
     "execution_count": 11,
     "metadata": {},
     "output_type": "execute_result"
    }
   ],
   "source": [
    "list([0, 1, 2, 3])"
   ]
  },
  {
   "cell_type": "code",
   "execution_count": 12,
   "id": "59b477af",
   "metadata": {},
   "outputs": [
    {
     "data": {
      "text/plain": [
       "0.4"
      ]
     },
     "execution_count": 12,
     "metadata": {},
     "output_type": "execute_result"
    }
   ],
   "source": [
    "float('0.4')"
   ]
  },
  {
   "cell_type": "code",
   "execution_count": 13,
   "id": "27d92e43",
   "metadata": {},
   "outputs": [
    {
     "data": {
      "text/plain": [
       "['a', 'n', 'a', 'n', 'a', 's']"
      ]
     },
     "execution_count": 13,
     "metadata": {},
     "output_type": "execute_result"
    }
   ],
   "source": [
    "list('ananas')"
   ]
  },
  {
   "cell_type": "markdown",
   "id": "dbe37455",
   "metadata": {},
   "source": [
    "### `len(object)`\n",
    "\n",
    "La funzione `len()` resituisce la lunghezza (il numero di elementi) di un oggetto. L'argomento può essere una sequenza (ad esempio una stringa o una lista) oppure una collezione (ad esempio un dizionario o un insieme)."
   ]
  },
  {
   "cell_type": "code",
   "execution_count": 14,
   "id": "5ed3ef67",
   "metadata": {},
   "outputs": [
    {
     "data": {
      "text/plain": [
       "3"
      ]
     },
     "execution_count": 14,
     "metadata": {},
     "output_type": "execute_result"
    }
   ],
   "source": [
    "len(frutta)"
   ]
  },
  {
   "cell_type": "code",
   "execution_count": 15,
   "id": "231ce067",
   "metadata": {},
   "outputs": [
    {
     "data": {
      "text/plain": [
       "6"
      ]
     },
     "execution_count": 15,
     "metadata": {},
     "output_type": "execute_result"
    }
   ],
   "source": [
    "len('ananas')"
   ]
  },
  {
   "cell_type": "code",
   "execution_count": 16,
   "id": "682a493d",
   "metadata": {},
   "outputs": [
    {
     "ename": "TypeError",
     "evalue": "object of type 'int' has no len()",
     "output_type": "error",
     "traceback": [
      "\u001b[0;31m---------------------------------------------------------------------------\u001b[0m",
      "\u001b[0;31mTypeError\u001b[0m                                 Traceback (most recent call last)",
      "Input \u001b[0;32mIn [16]\u001b[0m, in \u001b[0;36m<cell line: 1>\u001b[0;34m()\u001b[0m\n\u001b[0;32m----> 1\u001b[0m \u001b[38;5;28;43mlen\u001b[39;49m\u001b[43m(\u001b[49m\u001b[38;5;241;43m4\u001b[39;49m\u001b[43m)\u001b[49m\n",
      "\u001b[0;31mTypeError\u001b[0m: object of type 'int' has no len()"
     ]
    }
   ],
   "source": [
    "len(4)"
   ]
  },
  {
   "cell_type": "markdown",
   "id": "b245bde6",
   "metadata": {},
   "source": [
    "### Metodi di `list`\n",
    "\n",
    "Le liste sono ordinate, ovvero gli elementi hanno un ordine definito, e tale ordine non viene cambiato. Nel caso in cui vengano aggiunti nuovi elementi ad una lista, questi verranno piazzati alla fine della lista stessa.\n",
    "\n",
    "`list.append(x)` aggiunge un elemento alla fine della lista."
   ]
  },
  {
   "cell_type": "code",
   "execution_count": 17,
   "id": "975830e5",
   "metadata": {},
   "outputs": [],
   "source": [
    "frutta.append('pesca')"
   ]
  },
  {
   "cell_type": "code",
   "execution_count": 18,
   "id": "4b9dc022",
   "metadata": {},
   "outputs": [
    {
     "data": {
      "text/plain": [
       "['ananas', 'banana', 'ciliegia', 'pesca']"
      ]
     },
     "execution_count": 18,
     "metadata": {},
     "output_type": "execute_result"
    }
   ],
   "source": [
    "frutta"
   ]
  },
  {
   "cell_type": "markdown",
   "id": "f4048473",
   "metadata": {},
   "source": [
    "`list.pop([i])` rimuove l'elemento della lista nella posizione indicata e lo restituisce. Se nessun indice viene indicato, rimuove e restituisce l'ultimo elemento nella lista."
   ]
  },
  {
   "cell_type": "code",
   "execution_count": 19,
   "id": "2579342a",
   "metadata": {},
   "outputs": [
    {
     "data": {
      "text/plain": [
       "'banana'"
      ]
     },
     "execution_count": 19,
     "metadata": {},
     "output_type": "execute_result"
    }
   ],
   "source": [
    "frutta.pop(1)"
   ]
  },
  {
   "cell_type": "code",
   "execution_count": 20,
   "id": "522ebd12",
   "metadata": {},
   "outputs": [
    {
     "data": {
      "text/plain": [
       "['ananas', 'ciliegia', 'pesca']"
      ]
     },
     "execution_count": 20,
     "metadata": {},
     "output_type": "execute_result"
    }
   ],
   "source": [
    "frutta"
   ]
  },
  {
   "cell_type": "code",
   "execution_count": 21,
   "id": "4ac43434",
   "metadata": {},
   "outputs": [],
   "source": [
    "frutta.insert(1, 'banana')"
   ]
  },
  {
   "cell_type": "code",
   "execution_count": 22,
   "id": "4d3fad86",
   "metadata": {},
   "outputs": [
    {
     "data": {
      "text/plain": [
       "['ananas', 'banana', 'ciliegia', 'pesca']"
      ]
     },
     "execution_count": 22,
     "metadata": {},
     "output_type": "execute_result"
    }
   ],
   "source": [
    "frutta"
   ]
  },
  {
   "cell_type": "markdown",
   "id": "fe2a6fd1",
   "metadata": {},
   "source": [
    "## Tuple\n",
    "\n",
    "Le **tuple** sono utilizzate per memorizzare più elementi in una singola variabile. Sono definite da parentesi tonde, `(...)`, e i loro elementi sono ordinati, immutabili e consentono duplicati."
   ]
  },
  {
   "cell_type": "code",
   "execution_count": 23,
   "id": "00e48584",
   "metadata": {},
   "outputs": [],
   "source": [
    "medaglie = ('oro', 'argento', 'bronzo')"
   ]
  },
  {
   "cell_type": "code",
   "execution_count": 24,
   "id": "12e77d65",
   "metadata": {},
   "outputs": [
    {
     "data": {
      "text/plain": [
       "('oro', 'argento', 'bronzo')"
      ]
     },
     "execution_count": 24,
     "metadata": {},
     "output_type": "execute_result"
    }
   ],
   "source": [
    "medaglie"
   ]
  },
  {
   "cell_type": "code",
   "execution_count": 25,
   "id": "9ecad6f6",
   "metadata": {},
   "outputs": [
    {
     "data": {
      "text/plain": [
       "tuple"
      ]
     },
     "execution_count": 25,
     "metadata": {},
     "output_type": "execute_result"
    }
   ],
   "source": [
    "type(medaglie)"
   ]
  },
  {
   "cell_type": "code",
   "execution_count": 27,
   "id": "0f0dc9b6",
   "metadata": {},
   "outputs": [],
   "source": [
    "mix = (2, 'ciao', (True, 0.3))"
   ]
  },
  {
   "cell_type": "code",
   "execution_count": 28,
   "id": "843ae753",
   "metadata": {},
   "outputs": [
    {
     "data": {
      "text/plain": [
       "(2, 'ciao', (True, 0.3))"
      ]
     },
     "execution_count": 28,
     "metadata": {},
     "output_type": "execute_result"
    }
   ],
   "source": [
    "mix"
   ]
  },
  {
   "cell_type": "markdown",
   "id": "554cf8fb",
   "metadata": {},
   "source": [
    "È possibile anche utilizzare la funzione `tuple()` per definire una tupla."
   ]
  },
  {
   "cell_type": "code",
   "execution_count": 29,
   "id": "0c8c9b47",
   "metadata": {},
   "outputs": [
    {
     "data": {
      "text/plain": [
       "('oro', 'argento', 'bronzo')"
      ]
     },
     "execution_count": 29,
     "metadata": {},
     "output_type": "execute_result"
    }
   ],
   "source": [
    "tuple(('oro', 'argento', 'bronzo'))"
   ]
  },
  {
   "cell_type": "markdown",
   "id": "a4607988",
   "metadata": {},
   "source": [
    "Anche se le tuple sembrano simili alle liste, in realtà sono utilizzate in modi e per scopi differenti. Le tuple sono immutabili e di solito contengono sequenze eterogenee di elementi a cui si accede tramite operazioni di *unpacking* e *indexing*. Le liste sono mutabili, i loro elementi sono di solito omogenei e vi si accede in maniera iterativa."
   ]
  },
  {
   "cell_type": "code",
   "execution_count": 30,
   "id": "7499ba21",
   "metadata": {},
   "outputs": [
    {
     "data": {
      "text/plain": [
       "'oro'"
      ]
     },
     "execution_count": 30,
     "metadata": {},
     "output_type": "execute_result"
    }
   ],
   "source": [
    "medaglie[0]"
   ]
  },
  {
   "cell_type": "code",
   "execution_count": 31,
   "id": "aeff0da7",
   "metadata": {},
   "outputs": [
    {
     "data": {
      "text/plain": [
       "('argento', 'bronzo')"
      ]
     },
     "execution_count": 31,
     "metadata": {},
     "output_type": "execute_result"
    }
   ],
   "source": [
    "medaglie[1:]"
   ]
  },
  {
   "cell_type": "code",
   "execution_count": 32,
   "id": "29dd8ed8",
   "metadata": {},
   "outputs": [],
   "source": [
    "brand = 'Apple', 'Samsung', 'LG'"
   ]
  },
  {
   "cell_type": "code",
   "execution_count": 33,
   "id": "6c501857",
   "metadata": {},
   "outputs": [
    {
     "data": {
      "text/plain": [
       "('Apple', 'Samsung', 'LG')"
      ]
     },
     "execution_count": 33,
     "metadata": {},
     "output_type": "execute_result"
    }
   ],
   "source": [
    "brand"
   ]
  },
  {
   "cell_type": "code",
   "execution_count": 34,
   "id": "d480b82d",
   "metadata": {},
   "outputs": [],
   "source": [
    "apple, samsung, lg = brand"
   ]
  },
  {
   "cell_type": "code",
   "execution_count": 35,
   "id": "b1bd0e57",
   "metadata": {},
   "outputs": [
    {
     "data": {
      "text/plain": [
       "'Apple'"
      ]
     },
     "execution_count": 35,
     "metadata": {},
     "output_type": "execute_result"
    }
   ],
   "source": [
    "apple"
   ]
  },
  {
   "cell_type": "markdown",
   "id": "5af1798b",
   "metadata": {},
   "source": [
    "### `zip(*iterable)`\n",
    "\n",
    "La funzione integrata `zip()` itera su molteplici oggetti *iterabili* in parallelo, producendo tuple aventi un elemento da ciascuno degli iterabili."
   ]
  },
  {
   "cell_type": "code",
   "execution_count": 38,
   "id": "a47ed5d8",
   "metadata": {},
   "outputs": [],
   "source": [
    "medaglie = ['oro', 'argento', 'bronzo']\n",
    "piazzamenti = [1, 2, 3]"
   ]
  },
  {
   "cell_type": "code",
   "execution_count": 40,
   "id": "e35a6ece",
   "metadata": {},
   "outputs": [
    {
     "data": {
      "text/plain": [
       "[('oro', 1), ('argento', 2), ('bronzo', 3)]"
      ]
     },
     "execution_count": 40,
     "metadata": {},
     "output_type": "execute_result"
    }
   ],
   "source": [
    "list(zip(medaglie, piazzamenti))"
   ]
  },
  {
   "cell_type": "code",
   "execution_count": 42,
   "id": "bca039f6",
   "metadata": {},
   "outputs": [
    {
     "data": {
      "text/plain": [
       "[('oro', 1, 1000), ('argento', 2, 500), ('bronzo', 3, 200)]"
      ]
     },
     "execution_count": 42,
     "metadata": {},
     "output_type": "execute_result"
    }
   ],
   "source": [
    "piazzamenti = [1, 2, 3, 4]\n",
    "premio = [1000, 500, 200]\n",
    "list(zip(medaglie, piazzamenti, premio))"
   ]
  },
  {
   "cell_type": "markdown",
   "id": "1b9e41dd",
   "metadata": {},
   "source": [
    "## Insiemi\n",
    "\n",
    "Un **insieme** (*set*) è una struttura dati non-ordinata, non-indicizzata e immutabile che non accetta duplicati. Gli utilizzi più comuni riguardano il cosiddetto test di appartenenza e l'eliminazione di elementi duplicati. Gli insiemi supportano operazioni matematiche, come l'unione, l'intersezione, la differenza e la differenza simmetrica. Gli insiemi si definiscono con le parentesi graffe, `{...}`."
   ]
  },
  {
   "cell_type": "code",
   "execution_count": 43,
   "id": "770dab2c",
   "metadata": {},
   "outputs": [],
   "source": [
    "frutta = {'arancia', 'banana', 'ciliegia', 'arancia'}"
   ]
  },
  {
   "cell_type": "code",
   "execution_count": 44,
   "id": "94d4a0e5",
   "metadata": {},
   "outputs": [
    {
     "data": {
      "text/plain": [
       "{'arancia', 'banana', 'ciliegia'}"
      ]
     },
     "execution_count": 44,
     "metadata": {},
     "output_type": "execute_result"
    }
   ],
   "source": [
    "frutta"
   ]
  },
  {
   "cell_type": "code",
   "execution_count": 65,
   "id": "18c7af29",
   "metadata": {},
   "outputs": [
    {
     "ename": "TypeError",
     "evalue": "'set' object is not subscriptable",
     "output_type": "error",
     "traceback": [
      "\u001b[0;31m---------------------------------------------------------------------------\u001b[0m",
      "\u001b[0;31mTypeError\u001b[0m                                 Traceback (most recent call last)",
      "Input \u001b[0;32mIn [65]\u001b[0m, in \u001b[0;36m<cell line: 1>\u001b[0;34m()\u001b[0m\n\u001b[0;32m----> 1\u001b[0m \u001b[43mfrutta\u001b[49m\u001b[43m[\u001b[49m\u001b[38;5;241;43m0\u001b[39;49m\u001b[43m]\u001b[49m\n",
      "\u001b[0;31mTypeError\u001b[0m: 'set' object is not subscriptable"
     ]
    }
   ],
   "source": [
    "frutta[0]"
   ]
  },
  {
   "cell_type": "markdown",
   "id": "3cb3d6ca",
   "metadata": {},
   "source": [
    "È possibile definire un insieme utilizzando la funzione `set()`."
   ]
  },
  {
   "cell_type": "code",
   "execution_count": 45,
   "id": "12f19f9a",
   "metadata": {},
   "outputs": [
    {
     "data": {
      "text/plain": [
       "{'arancia', 'banana', 'ciliegia'}"
      ]
     },
     "execution_count": 45,
     "metadata": {},
     "output_type": "execute_result"
    }
   ],
   "source": [
    "set(('arancia', 'banana', 'ciliegia', 'arancia'))"
   ]
  },
  {
   "cell_type": "code",
   "execution_count": 46,
   "id": "a030965f",
   "metadata": {},
   "outputs": [
    {
     "data": {
      "text/plain": [
       "['arancia', 'banana', 'ciliegia', 'arancia']"
      ]
     },
     "execution_count": 46,
     "metadata": {},
     "output_type": "execute_result"
    }
   ],
   "source": [
    "['arancia', 'banana', 'ciliegia', 'arancia']"
   ]
  },
  {
   "cell_type": "code",
   "execution_count": 47,
   "id": "682b5f00",
   "metadata": {},
   "outputs": [
    {
     "data": {
      "text/plain": [
       "('arancia', 'banana', 'ciliegia', 'arancia')"
      ]
     },
     "execution_count": 47,
     "metadata": {},
     "output_type": "execute_result"
    }
   ],
   "source": [
    "('arancia', 'banana', 'ciliegia', 'arancia')"
   ]
  },
  {
   "cell_type": "markdown",
   "id": "1bf505e2",
   "metadata": {},
   "source": [
    "### Test di Appartenenza\n",
    "\n",
    "Un **test di appartenenza** controlla se uno specifico elemento sia contenuto all'interno di una sequenza, come stringhe, liste, tuple o insiemi. Uno dei principali vantaggi nell'utilizzare gli insiemi in Python è che essi sono ottimizzati per questa tipologia di test.\n",
    "\n",
    "L'operatore `in` funziona con tipi sequenziali: è utilizzato per controllare se un elemento è presente in un oggetto. L'operatore restituisce `True` se l'elemento viene trovato, `False` in caso contrario."
   ]
  },
  {
   "cell_type": "code",
   "execution_count": 48,
   "id": "93bd88fe",
   "metadata": {},
   "outputs": [
    {
     "data": {
      "text/plain": [
       "True"
      ]
     },
     "execution_count": 48,
     "metadata": {},
     "output_type": "execute_result"
    }
   ],
   "source": [
    "'arancia' in frutta"
   ]
  },
  {
   "cell_type": "code",
   "execution_count": 49,
   "id": "18a82b17",
   "metadata": {},
   "outputs": [
    {
     "data": {
      "text/plain": [
       "False"
      ]
     },
     "execution_count": 49,
     "metadata": {},
     "output_type": "execute_result"
    }
   ],
   "source": [
    "'pesca' in frutta"
   ]
  },
  {
   "cell_type": "code",
   "execution_count": 50,
   "id": "1a18ceb2",
   "metadata": {},
   "outputs": [
    {
     "data": {
      "text/plain": [
       "True"
      ]
     },
     "execution_count": 50,
     "metadata": {},
     "output_type": "execute_result"
    }
   ],
   "source": [
    "'arancia' in ['arancia', 'banana', 'ciliegia', 'arancia']"
   ]
  },
  {
   "cell_type": "code",
   "execution_count": 51,
   "id": "d100d199",
   "metadata": {
    "scrolled": true
   },
   "outputs": [
    {
     "data": {
      "text/plain": [
       "False"
      ]
     },
     "execution_count": 51,
     "metadata": {},
     "output_type": "execute_result"
    }
   ],
   "source": [
    "'pesca' in ('arancia', 'banana', 'ciliegia', 'arancia')"
   ]
  },
  {
   "cell_type": "code",
   "execution_count": 52,
   "id": "7a8e66d4",
   "metadata": {},
   "outputs": [
    {
     "data": {
      "text/plain": [
       "False"
      ]
     },
     "execution_count": 52,
     "metadata": {},
     "output_type": "execute_result"
    }
   ],
   "source": [
    "'b' in 'ciao'"
   ]
  },
  {
   "cell_type": "code",
   "execution_count": 53,
   "id": "9e3e187d",
   "metadata": {},
   "outputs": [],
   "source": [
    "numeri_primi = {1, 2, 3, 5, 7}\n",
    "numeri_dispari = {1, 3, 5, 7, 9}"
   ]
  },
  {
   "cell_type": "markdown",
   "id": "dfd340d9",
   "metadata": {},
   "source": [
    "### Operazioni sugli Insiemi\n",
    "\n",
    "L'*unione* viene eseguita utilizzando l'operatore `|` oppure il metodo `set.union()`."
   ]
  },
  {
   "cell_type": "code",
   "execution_count": 54,
   "id": "ba52b0bb",
   "metadata": {},
   "outputs": [
    {
     "data": {
      "text/plain": [
       "{1, 2, 3, 5, 7, 9}"
      ]
     },
     "execution_count": 54,
     "metadata": {},
     "output_type": "execute_result"
    }
   ],
   "source": [
    "# Unione\n",
    "numeri_primi | numeri_dispari"
   ]
  },
  {
   "cell_type": "code",
   "execution_count": 60,
   "id": "a85913b0",
   "metadata": {},
   "outputs": [
    {
     "data": {
      "text/plain": [
       "{1, 2, 3, 5, 7, 9}"
      ]
     },
     "execution_count": 60,
     "metadata": {},
     "output_type": "execute_result"
    }
   ],
   "source": [
    "numeri_dispari | numeri_primi"
   ]
  },
  {
   "cell_type": "code",
   "execution_count": 55,
   "id": "a24762fc",
   "metadata": {},
   "outputs": [
    {
     "data": {
      "text/plain": [
       "{1, 2, 3, 5, 7, 9}"
      ]
     },
     "execution_count": 55,
     "metadata": {},
     "output_type": "execute_result"
    }
   ],
   "source": [
    "numeri_primi.union(numeri_dispari)"
   ]
  },
  {
   "cell_type": "markdown",
   "id": "7f16d90d",
   "metadata": {},
   "source": [
    "L'*intersezione* viene eseguita utilizzando l'operatore `&` oppure il metodo `set.intersection()`."
   ]
  },
  {
   "cell_type": "code",
   "execution_count": 56,
   "id": "3724933c",
   "metadata": {},
   "outputs": [
    {
     "data": {
      "text/plain": [
       "{1, 3, 5, 7}"
      ]
     },
     "execution_count": 56,
     "metadata": {},
     "output_type": "execute_result"
    }
   ],
   "source": [
    "# Intersezione\n",
    "numeri_primi & numeri_dispari"
   ]
  },
  {
   "cell_type": "code",
   "execution_count": 57,
   "id": "8ca14bea",
   "metadata": {},
   "outputs": [
    {
     "data": {
      "text/plain": [
       "{1, 3, 5, 7}"
      ]
     },
     "execution_count": 57,
     "metadata": {},
     "output_type": "execute_result"
    }
   ],
   "source": [
    "numeri_primi.intersection(numeri_dispari)"
   ]
  },
  {
   "cell_type": "markdown",
   "id": "11a213f5",
   "metadata": {},
   "source": [
    "La *differenza* viene eseguita utilizzando l'operatore `-` oppure il metodo `set.difference()`."
   ]
  },
  {
   "cell_type": "code",
   "execution_count": 58,
   "id": "8e111ca9",
   "metadata": {},
   "outputs": [
    {
     "data": {
      "text/plain": [
       "{2}"
      ]
     },
     "execution_count": 58,
     "metadata": {},
     "output_type": "execute_result"
    }
   ],
   "source": [
    "# Differenza\n",
    "numeri_primi - numeri_dispari"
   ]
  },
  {
   "cell_type": "code",
   "execution_count": 59,
   "id": "d8c01239",
   "metadata": {},
   "outputs": [
    {
     "data": {
      "text/plain": [
       "{2}"
      ]
     },
     "execution_count": 59,
     "metadata": {},
     "output_type": "execute_result"
    }
   ],
   "source": [
    "numeri_primi.difference(numeri_dispari)"
   ]
  },
  {
   "cell_type": "code",
   "execution_count": 61,
   "id": "49ec2488",
   "metadata": {},
   "outputs": [
    {
     "data": {
      "text/plain": [
       "{9}"
      ]
     },
     "execution_count": 61,
     "metadata": {},
     "output_type": "execute_result"
    }
   ],
   "source": [
    "numeri_dispari - numeri_primi"
   ]
  },
  {
   "cell_type": "markdown",
   "id": "08cd07ec",
   "metadata": {},
   "source": [
    "La *differenza simmetrica* viene eseguita utilizzando l'operatore `^` oppure il metodo `set.symmetric_difference()`."
   ]
  },
  {
   "cell_type": "code",
   "execution_count": 62,
   "id": "22ec3042",
   "metadata": {},
   "outputs": [
    {
     "data": {
      "text/plain": [
       "{2, 9}"
      ]
     },
     "execution_count": 62,
     "metadata": {},
     "output_type": "execute_result"
    }
   ],
   "source": [
    "# Differenza Simmetrica\n",
    "numeri_primi ^ numeri_dispari"
   ]
  },
  {
   "cell_type": "code",
   "execution_count": 63,
   "id": "3bd2c41e",
   "metadata": {},
   "outputs": [
    {
     "data": {
      "text/plain": [
       "{2, 9}"
      ]
     },
     "execution_count": 63,
     "metadata": {},
     "output_type": "execute_result"
    }
   ],
   "source": [
    "numeri_dispari ^ numeri_primi"
   ]
  },
  {
   "cell_type": "code",
   "execution_count": 64,
   "id": "c44f71da",
   "metadata": {},
   "outputs": [
    {
     "data": {
      "text/plain": [
       "{2, 9}"
      ]
     },
     "execution_count": 64,
     "metadata": {},
     "output_type": "execute_result"
    }
   ],
   "source": [
    "numeri_primi.symmetric_difference(numeri_dispari)"
   ]
  },
  {
   "cell_type": "markdown",
   "id": "d205c9be",
   "metadata": {},
   "source": [
    "## Dizionari\n",
    "\n",
    "Un **dizionario** è utilizzato per memorizzare valori in un formato *chiave: valore* ed è definito da parentesi graffe, `{chiave: valore}`. Differentemente dalle sequenze, le quali sono indicizzate da una serie di numeri, i dizionari sono indicizzati dalle chiavi, le quali possono essere di qualsiasi tipo immutabile e con il vincolo di dover essere uniche."
   ]
  },
  {
   "cell_type": "code",
   "execution_count": 66,
   "id": "bb8538e2",
   "metadata": {},
   "outputs": [],
   "source": [
    "capitali = {'Italia': 'Roma'}"
   ]
  },
  {
   "cell_type": "code",
   "execution_count": 67,
   "id": "56dec735",
   "metadata": {},
   "outputs": [
    {
     "ename": "KeyError",
     "evalue": "0",
     "output_type": "error",
     "traceback": [
      "\u001b[0;31m---------------------------------------------------------------------------\u001b[0m",
      "\u001b[0;31mKeyError\u001b[0m                                  Traceback (most recent call last)",
      "Input \u001b[0;32mIn [67]\u001b[0m, in \u001b[0;36m<cell line: 1>\u001b[0;34m()\u001b[0m\n\u001b[0;32m----> 1\u001b[0m \u001b[43mcapitali\u001b[49m\u001b[43m[\u001b[49m\u001b[38;5;241;43m0\u001b[39;49m\u001b[43m]\u001b[49m\n",
      "\u001b[0;31mKeyError\u001b[0m: 0"
     ]
    }
   ],
   "source": [
    "capitali[0]"
   ]
  },
  {
   "cell_type": "code",
   "execution_count": 68,
   "id": "b8b9e26c",
   "metadata": {},
   "outputs": [
    {
     "data": {
      "text/plain": [
       "'Roma'"
      ]
     },
     "execution_count": 68,
     "metadata": {},
     "output_type": "execute_result"
    }
   ],
   "source": [
    "capitali['Italia']"
   ]
  },
  {
   "cell_type": "code",
   "execution_count": 69,
   "id": "b5074c46",
   "metadata": {},
   "outputs": [],
   "source": [
    "capitali = {'Italia': 'Roma', 'Francia': 'Parigi', 'Spagna': 'Madrid'}"
   ]
  },
  {
   "cell_type": "code",
   "execution_count": 70,
   "id": "4903d6e9",
   "metadata": {},
   "outputs": [
    {
     "data": {
      "text/plain": [
       "'Madrid'"
      ]
     },
     "execution_count": 70,
     "metadata": {},
     "output_type": "execute_result"
    }
   ],
   "source": [
    "capitali['Spagna']"
   ]
  },
  {
   "cell_type": "markdown",
   "id": "4959c96d",
   "metadata": {},
   "source": [
    "È possibile definire un dizionario anche con la funzione `dict()`."
   ]
  },
  {
   "cell_type": "code",
   "execution_count": 71,
   "id": "b4ed9a06",
   "metadata": {},
   "outputs": [],
   "source": [
    "auto = dict([('brand', 'Fiat'), ('modello', 'Panda'), ('anno', 2000)])"
   ]
  },
  {
   "cell_type": "code",
   "execution_count": 72,
   "id": "70dfadfd",
   "metadata": {},
   "outputs": [
    {
     "data": {
      "text/plain": [
       "{'brand': 'Fiat', 'modello': 'Panda', 'anno': 2000}"
      ]
     },
     "execution_count": 72,
     "metadata": {},
     "output_type": "execute_result"
    }
   ],
   "source": [
    "auto"
   ]
  },
  {
   "cell_type": "code",
   "execution_count": 74,
   "id": "b5647d17",
   "metadata": {},
   "outputs": [
    {
     "data": {
      "text/plain": [
       "{'Italia': 'Torino', 'Francia': 'Parigi'}"
      ]
     },
     "execution_count": 74,
     "metadata": {},
     "output_type": "execute_result"
    }
   ],
   "source": [
    "{'Italia': 'Roma', 'Francia': 'Parigi', 'Italia': 'Torino'}"
   ]
  },
  {
   "cell_type": "markdown",
   "id": "0be7b704",
   "metadata": {},
   "source": [
    "È possibile accedere agli elementi di un dizionario utilizzando le chiavi tra parentesi quadre."
   ]
  },
  {
   "cell_type": "code",
   "execution_count": null,
   "id": "5ce24db0",
   "metadata": {},
   "outputs": [],
   "source": []
  },
  {
   "cell_type": "markdown",
   "id": "bb43556d",
   "metadata": {},
   "source": [
    "### Metodi dei dizionari\n",
    "\n",
    "`dict.keys()` restituisce una lista contenente le chiavi del dizionario."
   ]
  },
  {
   "cell_type": "code",
   "execution_count": 75,
   "id": "c6c9e8a3",
   "metadata": {},
   "outputs": [
    {
     "data": {
      "text/plain": [
       "dict_keys(['Italia', 'Francia', 'Spagna'])"
      ]
     },
     "execution_count": 75,
     "metadata": {},
     "output_type": "execute_result"
    }
   ],
   "source": [
    "capitali.keys()"
   ]
  },
  {
   "cell_type": "markdown",
   "id": "44e9742d",
   "metadata": {},
   "source": [
    "`dict.values()` restituisce una lista contenente i valori del dizionario."
   ]
  },
  {
   "cell_type": "code",
   "execution_count": 76,
   "id": "3d5093d1",
   "metadata": {},
   "outputs": [
    {
     "data": {
      "text/plain": [
       "dict_values(['Roma', 'Parigi', 'Madrid'])"
      ]
     },
     "execution_count": 76,
     "metadata": {},
     "output_type": "execute_result"
    }
   ],
   "source": [
    "capitali.values()"
   ]
  },
  {
   "cell_type": "markdown",
   "id": "c1199bd2",
   "metadata": {},
   "source": [
    "`dict.items()` restituisce una lista contenente una tupla per ogni coppia chiave-valore."
   ]
  },
  {
   "cell_type": "code",
   "execution_count": 77,
   "id": "21979315",
   "metadata": {},
   "outputs": [
    {
     "data": {
      "text/plain": [
       "dict_items([('Italia', 'Roma'), ('Francia', 'Parigi'), ('Spagna', 'Madrid')])"
      ]
     },
     "execution_count": 77,
     "metadata": {},
     "output_type": "execute_result"
    }
   ],
   "source": [
    "capitali.items()"
   ]
  },
  {
   "cell_type": "code",
   "execution_count": 79,
   "id": "0ec71c70",
   "metadata": {},
   "outputs": [
    {
     "data": {
      "text/plain": [
       "{'Italia': 'Roma', 'Francia': 'Parigi', 'Spagna': 'Madrid'}"
      ]
     },
     "execution_count": 79,
     "metadata": {},
     "output_type": "execute_result"
    }
   ],
   "source": [
    "paesi = ['Italia', 'Francia', 'Spagna']\n",
    "città  = ['Roma', 'Parigi', 'Madrid']\n",
    "dict(zip(paesi, città))"
   ]
  },
  {
   "cell_type": "markdown",
   "id": "279e6655",
   "metadata": {},
   "source": [
    "# Leggere e Scrivere File\n",
    "\n",
    "Un **modulo** è un file contenente un insieme di funzioni che vogliamo includere nella nostra applicazione. Per avere accesso al codice all'interno di un modulo utilizziamo il comando `import`.\n",
    "\n",
    "## Modulo `os`\n",
    "\n",
    "Il modulo `os` fornisce la possibilità di utilizzare le funzionalità del sistema operativo utilizzato."
   ]
  },
  {
   "cell_type": "code",
   "execution_count": 80,
   "id": "facd74f8",
   "metadata": {},
   "outputs": [],
   "source": [
    "import os"
   ]
  },
  {
   "cell_type": "markdown",
   "id": "ea155c8d",
   "metadata": {},
   "source": [
    "`os.getcwd()` restituisce una stringa rappresentante la cartella di lavoro corrente."
   ]
  },
  {
   "cell_type": "code",
   "execution_count": 81,
   "id": "d364a6c7",
   "metadata": {},
   "outputs": [
    {
     "data": {
      "text/plain": [
       "'/Users/sergiopicascia/Documents/GitHub/stat4bigdata/lezione-02'"
      ]
     },
     "execution_count": 81,
     "metadata": {},
     "output_type": "execute_result"
    }
   ],
   "source": [
    "os.getcwd()"
   ]
  },
  {
   "cell_type": "markdown",
   "id": "9877590e",
   "metadata": {},
   "source": [
    "`os.listdir(path='.')` restituisce una lista contenente i nomi delle voci presenti nel percorso indicato."
   ]
  },
  {
   "cell_type": "code",
   "execution_count": 82,
   "id": "04921138",
   "metadata": {},
   "outputs": [
    {
     "data": {
      "text/plain": [
       "['.DS_Store', '02-strutture-dati.ipynb', '.ipynb_checkpoints', 'data']"
      ]
     },
     "execution_count": 82,
     "metadata": {},
     "output_type": "execute_result"
    }
   ],
   "source": [
    "os.listdir('.')"
   ]
  },
  {
   "cell_type": "code",
   "execution_count": 83,
   "id": "09cb3741",
   "metadata": {},
   "outputs": [
    {
     "data": {
      "text/plain": [
       "['.DS_Store', '02-strutture-dati.ipynb', '.ipynb_checkpoints', 'data']"
      ]
     },
     "execution_count": 83,
     "metadata": {},
     "output_type": "execute_result"
    }
   ],
   "source": [
    "os.listdir(os.getcwd())"
   ]
  },
  {
   "cell_type": "code",
   "execution_count": 85,
   "id": "eafb97b5",
   "metadata": {},
   "outputs": [
    {
     "data": {
      "text/plain": [
       "['levitating.txt', 'top10.json']"
      ]
     },
     "execution_count": 85,
     "metadata": {},
     "output_type": "execute_result"
    }
   ],
   "source": [
    "os.listdir('data')"
   ]
  },
  {
   "cell_type": "code",
   "execution_count": 86,
   "id": "3c4760db",
   "metadata": {},
   "outputs": [
    {
     "data": {
      "text/plain": [
       "['01-introduzione-a-python.ipynb', '.ipynb_checkpoints']"
      ]
     },
     "execution_count": 86,
     "metadata": {},
     "output_type": "execute_result"
    }
   ],
   "source": [
    "os.listdir('../lezione-01/')"
   ]
  },
  {
   "cell_type": "code",
   "execution_count": 87,
   "id": "1024fa95",
   "metadata": {},
   "outputs": [
    {
     "ename": "FileNotFoundError",
     "evalue": "[Errno 2] No such file or directory: 'lezione-01/'",
     "output_type": "error",
     "traceback": [
      "\u001b[0;31m---------------------------------------------------------------------------\u001b[0m",
      "\u001b[0;31mFileNotFoundError\u001b[0m                         Traceback (most recent call last)",
      "Input \u001b[0;32mIn [87]\u001b[0m, in \u001b[0;36m<cell line: 1>\u001b[0;34m()\u001b[0m\n\u001b[0;32m----> 1\u001b[0m \u001b[43mos\u001b[49m\u001b[38;5;241;43m.\u001b[39;49m\u001b[43mlistdir\u001b[49m\u001b[43m(\u001b[49m\u001b[38;5;124;43m'\u001b[39;49m\u001b[38;5;124;43mlezione-01/\u001b[39;49m\u001b[38;5;124;43m'\u001b[39;49m\u001b[43m)\u001b[49m\n",
      "\u001b[0;31mFileNotFoundError\u001b[0m: [Errno 2] No such file or directory: 'lezione-01/'"
     ]
    }
   ],
   "source": [
    "os.listdir('lezione-01/')"
   ]
  },
  {
   "cell_type": "markdown",
   "id": "dc2c757a",
   "metadata": {},
   "source": [
    "## `open(file, mode)`\n",
    "\n",
    "La funzione integrata `open()` apre un file e restituisce il corrispondente oggetto file."
   ]
  },
  {
   "cell_type": "code",
   "execution_count": 88,
   "id": "e57cb2c4",
   "metadata": {},
   "outputs": [],
   "source": [
    "file = open('data/levitating.txt')"
   ]
  },
  {
   "cell_type": "markdown",
   "id": "e32e05e2",
   "metadata": {},
   "source": [
    "Il metodo `read()` legge le informazioni dall'oggetto e le restituisce. Il metodo `readline()` legge e restituisce una linea dallo stream."
   ]
  },
  {
   "cell_type": "code",
   "execution_count": 89,
   "id": "6028975f",
   "metadata": {},
   "outputs": [
    {
     "data": {
      "text/plain": [
       "'If you wanna run away with me, I know a galaxy\\n'"
      ]
     },
     "execution_count": 89,
     "metadata": {},
     "output_type": "execute_result"
    }
   ],
   "source": [
    "file.readline()"
   ]
  },
  {
   "cell_type": "code",
   "execution_count": 90,
   "id": "cb552cdb",
   "metadata": {},
   "outputs": [
    {
     "data": {
      "text/plain": [
       "'And I can take you for a ride\\n'"
      ]
     },
     "execution_count": 90,
     "metadata": {},
     "output_type": "execute_result"
    }
   ],
   "source": [
    "file.readline()"
   ]
  },
  {
   "cell_type": "code",
   "execution_count": 91,
   "id": "29fbd971",
   "metadata": {
    "scrolled": true
   },
   "outputs": [
    {
     "data": {
      "text/plain": [
       "\"I had a premonition that we fell into a rhythm\\nWhere the music don't stop for life\\nGlitter in the sky, glitter in my eyes\\nShining just the way I like\\nIf you're feeling like you need a little bit of company\\nYou met me at the perfect time\\nYou want me, I want you, baby\\nMy sugarboo, I'm levitating\\nThe Milky Way, we're renegading\\nYeah, yeah, yeah, yeah, yeah\\nI got you, moonlight, you're my starlight\\nI need you all night, come on, dance with me\\nI'm levitating\\nYou, moonlight, you're my starlight (you're the moonlight)\\nI need you all night, come on, dance with me\\nI'm levitating\\nI believe that you're for me, I feel it in our energy\\nI see us written in the stars\\nWe can go wherever, so let's do it now or never, baby\\nNothing's ever, ever too far\\nGlitter in the sky, glitter in our eyes\\nShining just the way we are\\nI feel like we're forever, every time we get together\\nBut whatever, let's get lost on Mars\\nYou want me, I want you, baby\\nMy sugarboo, I'm levitating\\nThe Milky Way, we're renegading\\nYeah, yeah, yeah, yeah, yeah\\nI got you, moonlight, you're my starlight\\nI need you all night, come on, dance with me\\nI'm levitating\\nYou, moonlight, you're my starlight (you're the moonlight)\\nI need you all night, come on, dance with me\\nI'm levitating (whoo)\\nYou can fly away with me tonight\\nYou can fly away with me tonight\\nBaby, let me take you for a ride\\nYeah, yeah, yeah, yeah, yeah\\nI'm levitating (whoo)\\nYou can fly away with me tonight\\nYou can fly away with me tonight\\nBaby, let me take you for a ride\\nYeah, yeah, yeah, yeah, yeah (whoo)\\nMy love is like a rocket, watch it blast off\\nAnd I'm feeling so electric, dance my arse off\\nAnd even if I wanted to, I can't stop\\nYeah, yeah, yeah, yeah, yeah\\nMy love is like a rocket, watch it blast off\\nAnd I'm feeling so electric, dance my arse off\\nAnd even if I wanted to, I can't stop\\nYeah, yeah, yeah, yeah, yeah\\nYou want me, I want you, baby\\nMy sugarboo, I'm levitating\\nThe Milky Way, we're renegading\\nI got you (yeah), moonlight, you're my starlight\\nI need you all night (all night), come on, dance with me\\nI'm levitating (whoo)\\nYou can fly away with me tonight (tonight)\\nYou can fly away with me tonight\\nBaby, let me take you for a ride\\nYeah, yeah, yeah, yeah, yeah (take you for a ride)\\nI'm levitating (whoo)\\nYou can fly away with me tonight (tonight)\\nYou can fly away with me tonight\\nBaby, let me take you for a ride\\nYeah, yeah, yeah, yeah, yeah (let me take you for a ride)\\nI got you, moonlight, you're my starlight (you are my starlight)\\nI need you all night, come on, dance with me (come on, dance with me, baby)\\nI'm levitating\\nYou, moonlight, you're my starlight (you're the moonlight)\\nI need you all night, come on, dance with me\\nI'm levitating\""
      ]
     },
     "execution_count": 91,
     "metadata": {},
     "output_type": "execute_result"
    }
   ],
   "source": [
    "file.read()"
   ]
  },
  {
   "cell_type": "code",
   "execution_count": 92,
   "id": "dac7f2a6",
   "metadata": {},
   "outputs": [
    {
     "data": {
      "text/plain": [
       "''"
      ]
     },
     "execution_count": 92,
     "metadata": {},
     "output_type": "execute_result"
    }
   ],
   "source": [
    "file.read()"
   ]
  },
  {
   "cell_type": "markdown",
   "id": "aee321ac",
   "metadata": {},
   "source": [
    "Il metodo `close()` chiude lo stream."
   ]
  },
  {
   "cell_type": "code",
   "execution_count": 93,
   "id": "8599e2c4",
   "metadata": {},
   "outputs": [],
   "source": [
    "file.close()"
   ]
  },
  {
   "cell_type": "code",
   "execution_count": 95,
   "id": "c6273682",
   "metadata": {},
   "outputs": [
    {
     "ename": "ValueError",
     "evalue": "I/O operation on closed file.",
     "output_type": "error",
     "traceback": [
      "\u001b[0;31m---------------------------------------------------------------------------\u001b[0m",
      "\u001b[0;31mValueError\u001b[0m                                Traceback (most recent call last)",
      "Input \u001b[0;32mIn [95]\u001b[0m, in \u001b[0;36m<cell line: 1>\u001b[0;34m()\u001b[0m\n\u001b[0;32m----> 1\u001b[0m \u001b[43mfile\u001b[49m\u001b[38;5;241;43m.\u001b[39;49m\u001b[43mread\u001b[49m\u001b[43m(\u001b[49m\u001b[43m)\u001b[49m\n",
      "\u001b[0;31mValueError\u001b[0m: I/O operation on closed file."
     ]
    }
   ],
   "source": [
    "file.read()"
   ]
  },
  {
   "cell_type": "markdown",
   "id": "c828117f",
   "metadata": {},
   "source": [
    "Il comando `with` è utilizzato per racchiudere l'esecuzione di un blocco di codice con metodi definiti da un context manager. Questo si assicura che non vengano lasciate inavvertitamente risorse aperte."
   ]
  },
  {
   "cell_type": "code",
   "execution_count": 105,
   "id": "8d096230",
   "metadata": {},
   "outputs": [
    {
     "name": "stdout",
     "output_type": "stream",
     "text": [
      "ciao\n",
      "fuori dal blocco with\n"
     ]
    },
    {
     "ename": "ValueError",
     "evalue": "I/O operation on closed file.",
     "output_type": "error",
     "traceback": [
      "\u001b[0;31m---------------------------------------------------------------------------\u001b[0m",
      "\u001b[0;31mValueError\u001b[0m                                Traceback (most recent call last)",
      "Input \u001b[0;32mIn [105]\u001b[0m, in \u001b[0;36m<cell line: 6>\u001b[0;34m()\u001b[0m\n\u001b[1;32m      3\u001b[0m     \u001b[38;5;28mprint\u001b[39m(\u001b[38;5;124m'\u001b[39m\u001b[38;5;124mciao\u001b[39m\u001b[38;5;124m'\u001b[39m)\n\u001b[1;32m      5\u001b[0m \u001b[38;5;28mprint\u001b[39m(\u001b[38;5;124m'\u001b[39m\u001b[38;5;124mfuori dal blocco with\u001b[39m\u001b[38;5;124m'\u001b[39m)\n\u001b[0;32m----> 6\u001b[0m \u001b[43mfile_2\u001b[49m\u001b[38;5;241;43m.\u001b[39;49m\u001b[43mreadline\u001b[49m\u001b[43m(\u001b[49m\u001b[43m)\u001b[49m\n",
      "\u001b[0;31mValueError\u001b[0m: I/O operation on closed file."
     ]
    }
   ],
   "source": [
    "with open('data/levitating.txt', 'r') as file_2:\n",
    "    text = file_2.readline()\n",
    "    print('ciao')\n",
    "\n",
    "print('fuori dal blocco with')\n",
    "file_2.readline()"
   ]
  },
  {
   "cell_type": "code",
   "execution_count": 101,
   "id": "ffcc2cd3",
   "metadata": {},
   "outputs": [
    {
     "data": {
      "text/plain": [
       "'If you wanna run away with me, I know a galaxy\\n'"
      ]
     },
     "execution_count": 101,
     "metadata": {},
     "output_type": "execute_result"
    }
   ],
   "source": [
    "text"
   ]
  },
  {
   "cell_type": "code",
   "execution_count": 103,
   "id": "a99e82d1",
   "metadata": {},
   "outputs": [
    {
     "ename": "ValueError",
     "evalue": "I/O operation on closed file.",
     "output_type": "error",
     "traceback": [
      "\u001b[0;31m---------------------------------------------------------------------------\u001b[0m",
      "\u001b[0;31mValueError\u001b[0m                                Traceback (most recent call last)",
      "Input \u001b[0;32mIn [103]\u001b[0m, in \u001b[0;36m<cell line: 1>\u001b[0;34m()\u001b[0m\n\u001b[0;32m----> 1\u001b[0m \u001b[43mfile_2\u001b[49m\u001b[38;5;241;43m.\u001b[39;49m\u001b[43mread\u001b[49m\u001b[43m(\u001b[49m\u001b[43m)\u001b[49m\n",
      "\u001b[0;31mValueError\u001b[0m: I/O operation on closed file."
     ]
    }
   ],
   "source": [
    "file_2.read()"
   ]
  },
  {
   "cell_type": "markdown",
   "id": "8aaedbe1",
   "metadata": {},
   "source": [
    "Il metodo `write()` scrive gli oggetti forniti come parametri sullo stream di riferimento. Il metodo `writelines()` scrive una lista di linee sullo stream; i separatori di linea non sono aggiunti automaticamente, dunque è consigliato inserirne uno alla fine di ogni linea."
   ]
  },
  {
   "cell_type": "markdown",
   "id": "b282b9af",
   "metadata": {},
   "source": [
    "## Modulo `json`\n",
    "\n",
    "**JSON** (JavaScript Object Notation) è un formato di dati semplice da leggere e scrivere per gli essere umani, ma anche facile da generare e processare per le macchine. Un JSON è costituito da due strutture: una collezione di coppie nomi/valori e una lista ordinata di valori.\n",
    "\n",
    "In Python, il modulo `json` rende semplice analizzare un file JSON. Per caricare un file con estensione .json, utilizziamo il comando `json.load()`."
   ]
  },
  {
   "cell_type": "code",
   "execution_count": 106,
   "id": "5eee8139",
   "metadata": {},
   "outputs": [],
   "source": [
    "import json"
   ]
  },
  {
   "cell_type": "code",
   "execution_count": 107,
   "id": "b46b4b95",
   "metadata": {},
   "outputs": [],
   "source": [
    "with open('data/top10.json', 'r') as file:\n",
    "    top10 = json.load(file)"
   ]
  },
  {
   "cell_type": "code",
   "execution_count": 108,
   "id": "e5d3f73b",
   "metadata": {},
   "outputs": [
    {
     "data": {
      "text/plain": [
       "[{'artist': 'Olivia Rodrigo', 'title': 'drivers license', 'duration': 4.02},\n",
       " {'artist': 'Lil Nas X',\n",
       "  'title': 'MONTERO (Call Me By Your Name)',\n",
       "  'duration': 2.17},\n",
       " {'artist': 'The Kid LAROI', 'title': 'STAY', 'duration': 2.21},\n",
       " {'artist': 'Olivia Rodrigo', 'title': 'good 4 u', 'duration': 2.58},\n",
       " {'artist': 'Dua Lipa', 'title': 'Levitating', 'duration': 3.23},\n",
       " {'artist': 'Justin Bieber', 'title': 'Peaches', 'duration': 3.18},\n",
       " {'artist': 'Doja Cat', 'title': 'Kiss Me More', 'duration': 3.28},\n",
       " {'artist': 'The Weeknd', 'title': 'Blinding Lights', 'duration': 3.2},\n",
       " {'artist': 'Glass Animals', 'title': 'Heat Waves', 'duration': 3.58},\n",
       " {'artist': 'Maneskin', 'title': \"Beggin'\", 'duration': 3.31}]"
      ]
     },
     "execution_count": 108,
     "metadata": {},
     "output_type": "execute_result"
    }
   ],
   "source": [
    "top10"
   ]
  },
  {
   "cell_type": "markdown",
   "id": "007491e0",
   "metadata": {},
   "source": [
    "# Esercizi\n",
    "\n",
    "1. Genera una lista contenente soltanto i nomi delle capitali dal seguente dizionario: `{'Italia': 'Roma', 'Francia': 'Parigi', 'Spagna': 'Madrid'}`"
   ]
  },
  {
   "cell_type": "code",
   "execution_count": 2,
   "id": "9a3f0444",
   "metadata": {},
   "outputs": [],
   "source": [
    "capitali = {'Italia': 'Roma', 'Francia': 'Parigi', 'Spagna': 'Madrid'}"
   ]
  },
  {
   "cell_type": "code",
   "execution_count": null,
   "id": "1f8c5a90",
   "metadata": {},
   "outputs": [],
   "source": [
    "capitali = {\n",
    "    'Italia': 'Roma', \n",
    "    'Francia': 'Parigi', \n",
    "    'Spagna': 'Madrid'\n",
    "}"
   ]
  },
  {
   "cell_type": "code",
   "execution_count": 3,
   "id": "cdc6528b",
   "metadata": {},
   "outputs": [
    {
     "data": {
      "text/plain": [
       "dict_values(['Roma', 'Parigi', 'Madrid'])"
      ]
     },
     "execution_count": 3,
     "metadata": {},
     "output_type": "execute_result"
    }
   ],
   "source": [
    "capitali.values()"
   ]
  },
  {
   "cell_type": "code",
   "execution_count": 4,
   "id": "d3f947e4",
   "metadata": {},
   "outputs": [
    {
     "data": {
      "text/plain": [
       "dict_keys(['Italia', 'Francia', 'Spagna'])"
      ]
     },
     "execution_count": 4,
     "metadata": {},
     "output_type": "execute_result"
    }
   ],
   "source": [
    "capitali.keys()"
   ]
  },
  {
   "cell_type": "code",
   "execution_count": 5,
   "id": "14ef7a38",
   "metadata": {},
   "outputs": [
    {
     "data": {
      "text/plain": [
       "dict_items([('Italia', 'Roma'), ('Francia', 'Parigi'), ('Spagna', 'Madrid')])"
      ]
     },
     "execution_count": 5,
     "metadata": {},
     "output_type": "execute_result"
    }
   ],
   "source": [
    "capitali.items()"
   ]
  },
  {
   "cell_type": "code",
   "execution_count": 6,
   "id": "19c29655",
   "metadata": {},
   "outputs": [
    {
     "data": {
      "text/plain": [
       "dict_values"
      ]
     },
     "execution_count": 6,
     "metadata": {},
     "output_type": "execute_result"
    }
   ],
   "source": [
    "type(capitali.values())"
   ]
  },
  {
   "cell_type": "code",
   "execution_count": 7,
   "id": "fad642f5",
   "metadata": {},
   "outputs": [
    {
     "data": {
      "text/plain": [
       "['Roma', 'Parigi', 'Madrid']"
      ]
     },
     "execution_count": 7,
     "metadata": {},
     "output_type": "execute_result"
    }
   ],
   "source": [
    "list(capitali.values())"
   ]
  },
  {
   "cell_type": "code",
   "execution_count": 8,
   "id": "16b8ad29",
   "metadata": {},
   "outputs": [
    {
     "data": {
      "text/plain": [
       "list"
      ]
     },
     "execution_count": 8,
     "metadata": {},
     "output_type": "execute_result"
    }
   ],
   "source": [
    "type(list(capitali.values()))"
   ]
  },
  {
   "cell_type": "code",
   "execution_count": 9,
   "id": "b64f4bc1",
   "metadata": {},
   "outputs": [
    {
     "data": {
      "text/plain": [
       "'Roma'"
      ]
     },
     "execution_count": 9,
     "metadata": {},
     "output_type": "execute_result"
    }
   ],
   "source": [
    "list(capitali.values())[0]"
   ]
  },
  {
   "cell_type": "code",
   "execution_count": 10,
   "id": "942bd19f",
   "metadata": {},
   "outputs": [
    {
     "ename": "TypeError",
     "evalue": "'dict_items' object is not subscriptable",
     "output_type": "error",
     "traceback": [
      "\u001b[0;31m---------------------------------------------------------------------------\u001b[0m",
      "\u001b[0;31mTypeError\u001b[0m                                 Traceback (most recent call last)",
      "Input \u001b[0;32mIn [10]\u001b[0m, in \u001b[0;36m<cell line: 1>\u001b[0;34m()\u001b[0m\n\u001b[0;32m----> 1\u001b[0m \u001b[43mcapitali\u001b[49m\u001b[38;5;241;43m.\u001b[39;49m\u001b[43mitems\u001b[49m\u001b[43m(\u001b[49m\u001b[43m)\u001b[49m\u001b[43m[\u001b[49m\u001b[38;5;241;43m0\u001b[39;49m\u001b[43m]\u001b[49m\n",
      "\u001b[0;31mTypeError\u001b[0m: 'dict_items' object is not subscriptable"
     ]
    }
   ],
   "source": [
    "capitali.items()[0]"
   ]
  },
  {
   "cell_type": "markdown",
   "id": "c44562a2",
   "metadata": {},
   "source": [
    "2. Crea un file .json contenente i dati riguardanti tre titoli azionari a tua scelta: per ognuno di questi indica nome, simbolo, industria ed ultimo prezzo di chiusura."
   ]
  },
  {
   "cell_type": "code",
   "execution_count": 11,
   "id": "5898e26c",
   "metadata": {},
   "outputs": [],
   "source": [
    "stock = [\n",
    "    {\n",
    "        'nome': 'Alphabet Inc.',\n",
    "        'simbolo': 'GOOGL',\n",
    "        'industria': 'Internet Content & Information',\n",
    "        'prezzo': 111.75,\n",
    "        'ultime_chiusure': [\n",
    "            107.77, 107.35, 111.75\n",
    "        ]\n",
    "    },\n",
    "    {\n",
    "        'nome': 'Apple Inc.',\n",
    "        'simbolo': 'AAPL',\n",
    "        'industria': 'Consumer Electronics',\n",
    "        'prezzo': 173.55,\n",
    "        'ultime_chiusure': [\n",
    "            171.77, 173.56\n",
    "        ]\n",
    "    }\n",
    "]"
   ]
  },
  {
   "cell_type": "code",
   "execution_count": 12,
   "id": "c1d195bf",
   "metadata": {},
   "outputs": [
    {
     "data": {
      "text/plain": [
       "[{'nome': 'Alphabet Inc.',\n",
       "  'simbolo': 'GOOGL',\n",
       "  'industria': 'Internet Content & Information',\n",
       "  'prezzo': 111.75,\n",
       "  'ultime_chiusure': [107.77, 107.35, 111.75]},\n",
       " {'nome': 'Apple Inc.',\n",
       "  'simbolo': 'AAPL',\n",
       "  'industria': 'Consumer Electronics',\n",
       "  'prezzo': 173.55,\n",
       "  'ultime_chiusure': [171.77, 173.56]}]"
      ]
     },
     "execution_count": 12,
     "metadata": {},
     "output_type": "execute_result"
    }
   ],
   "source": [
    "stock"
   ]
  },
  {
   "cell_type": "code",
   "execution_count": 13,
   "id": "0c41089c",
   "metadata": {},
   "outputs": [
    {
     "data": {
      "text/plain": [
       "list"
      ]
     },
     "execution_count": 13,
     "metadata": {},
     "output_type": "execute_result"
    }
   ],
   "source": [
    "type(stock)"
   ]
  },
  {
   "cell_type": "code",
   "execution_count": 14,
   "id": "b59b5689",
   "metadata": {},
   "outputs": [
    {
     "data": {
      "text/plain": [
       "dict"
      ]
     },
     "execution_count": 14,
     "metadata": {},
     "output_type": "execute_result"
    }
   ],
   "source": [
    "type(stock[0])"
   ]
  },
  {
   "cell_type": "code",
   "execution_count": 18,
   "id": "7ebb2d8b",
   "metadata": {},
   "outputs": [
    {
     "data": {
      "text/plain": [
       "{'nome': 'Alphabet Inc.',\n",
       " 'simbolo': 'GOOGL',\n",
       " 'industria': 'Internet Content & Information',\n",
       " 'prezzo': 111.75,\n",
       " 'ultime_chiusure': [107.77, 107.35, 111.75]}"
      ]
     },
     "execution_count": 18,
     "metadata": {},
     "output_type": "execute_result"
    }
   ],
   "source": [
    "stock[0]"
   ]
  },
  {
   "cell_type": "code",
   "execution_count": 17,
   "id": "1cdf4044",
   "metadata": {},
   "outputs": [
    {
     "data": {
      "text/plain": [
       "'Alphabet Inc.'"
      ]
     },
     "execution_count": 17,
     "metadata": {},
     "output_type": "execute_result"
    }
   ],
   "source": [
    "stock[0]['nome']"
   ]
  },
  {
   "cell_type": "code",
   "execution_count": 20,
   "id": "ecd1e7f3",
   "metadata": {},
   "outputs": [
    {
     "data": {
      "text/plain": [
       "{'nome': 'Apple Inc.',\n",
       " 'simbolo': 'AAPL',\n",
       " 'industria': 'Consumer Electronics',\n",
       " 'prezzo': 173.55,\n",
       " 'ultime_chiusure': [171.77, 173.56]}"
      ]
     },
     "execution_count": 20,
     "metadata": {},
     "output_type": "execute_result"
    }
   ],
   "source": [
    "stock[1]"
   ]
  },
  {
   "cell_type": "code",
   "execution_count": 21,
   "id": "eea386fd",
   "metadata": {},
   "outputs": [
    {
     "data": {
      "text/plain": [
       "[171.77, 173.56]"
      ]
     },
     "execution_count": 21,
     "metadata": {},
     "output_type": "execute_result"
    }
   ],
   "source": [
    "stock[1]['ultime_chiusure']"
   ]
  },
  {
   "cell_type": "code",
   "execution_count": 19,
   "id": "8813cfe7",
   "metadata": {},
   "outputs": [
    {
     "data": {
      "text/plain": [
       "171.77"
      ]
     },
     "execution_count": 19,
     "metadata": {},
     "output_type": "execute_result"
    }
   ],
   "source": [
    "stock[1]['ultime_chiusure'][0]"
   ]
  },
  {
   "cell_type": "code",
   "execution_count": 22,
   "id": "e4ad3572",
   "metadata": {},
   "outputs": [],
   "source": [
    "import json"
   ]
  },
  {
   "cell_type": "code",
   "execution_count": 23,
   "id": "8a47327d",
   "metadata": {},
   "outputs": [
    {
     "data": {
      "text/plain": [
       "'/Users/sergiopicascia/Documents/GitHub/stat4bigdata/lezione-02'"
      ]
     },
     "execution_count": 23,
     "metadata": {},
     "output_type": "execute_result"
    }
   ],
   "source": [
    "import os\n",
    "\n",
    "os.getcwd()"
   ]
  },
  {
   "cell_type": "code",
   "execution_count": 26,
   "id": "1850a7b2",
   "metadata": {},
   "outputs": [],
   "source": [
    "with open('./data/stock.json', 'w') as file:\n",
    "    json.dump(stock, file, indent=4)"
   ]
  },
  {
   "cell_type": "code",
   "execution_count": 27,
   "id": "c903edba",
   "metadata": {},
   "outputs": [],
   "source": [
    "with open('./data/esempio.txt', 'w') as file:\n",
    "    file.write('questo è un file di esempio')"
   ]
  },
  {
   "cell_type": "code",
   "execution_count": null,
   "id": "1713a3e9",
   "metadata": {},
   "outputs": [],
   "source": []
  }
 ],
 "metadata": {
  "kernelspec": {
   "display_name": "Python 3 (ipykernel)",
   "language": "python",
   "name": "python3"
  },
  "language_info": {
   "codemirror_mode": {
    "name": "ipython",
    "version": 3
   },
   "file_extension": ".py",
   "mimetype": "text/x-python",
   "name": "python",
   "nbconvert_exporter": "python",
   "pygments_lexer": "ipython3",
   "version": "3.8.13"
  }
 },
 "nbformat": 4,
 "nbformat_minor": 5
}
