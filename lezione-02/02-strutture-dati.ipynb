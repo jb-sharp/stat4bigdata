{
 "cells": [
  {
   "cell_type": "markdown",
   "id": "a87e2781",
   "metadata": {},
   "source": [
    "# Strutture Dati\n",
    "\n",
    "Una **struttura dati** è un formato specializzato per organizzare, processare, recuperare e memorizzare i dati. Esistono molteplici strutture dati, sia semplici che complesse, progettate per organizzare i dati in modo tale da soddisfare particolari requisiti. Le strutture dati sono utili agli utenti per accedere e lavorare con i dati di cui hanno bisogno nella maniera più appropriata.\n",
    "\n",
    "## Liste\n",
    "\n",
    "Le **liste** sono utilizzate per memorizzare molteplici elementi in una singolare variabile; vengono definite utilizzato le parentesi quadre, `[...]`."
   ]
  },
  {
   "cell_type": "code",
   "execution_count": null,
   "id": "48931d17",
   "metadata": {},
   "outputs": [],
   "source": []
  },
  {
   "cell_type": "markdown",
   "id": "181da9a0",
   "metadata": {},
   "source": [
    "Una lista può contenere differenti tipi di dato."
   ]
  },
  {
   "cell_type": "code",
   "execution_count": null,
   "id": "3d586f1d",
   "metadata": {},
   "outputs": [],
   "source": []
  },
  {
   "cell_type": "markdown",
   "id": "21d86e3c",
   "metadata": {},
   "source": [
    "Come gli altri tipi sequenziali, ad esempio le stringhe, anche le liste possono essere soggette ad operazioni di indexing e slicing."
   ]
  },
  {
   "cell_type": "code",
   "execution_count": null,
   "id": "1448680a",
   "metadata": {},
   "outputs": [],
   "source": []
  },
  {
   "cell_type": "markdown",
   "id": "a34c9213",
   "metadata": {},
   "source": [
    "A differenza delle stringhe, che sono *immutabili*, le liste sono un tipo *mutabile*, dunque è possibile cambiarne il contenuto."
   ]
  },
  {
   "cell_type": "code",
   "execution_count": null,
   "id": "1088f47b",
   "metadata": {},
   "outputs": [],
   "source": []
  },
  {
   "cell_type": "markdown",
   "id": "660231dd",
   "metadata": {},
   "source": [
    "È possibile utilizzare anche la funzione `list()` per definire una lista."
   ]
  },
  {
   "cell_type": "code",
   "execution_count": null,
   "id": "1d481693",
   "metadata": {},
   "outputs": [],
   "source": []
  },
  {
   "cell_type": "markdown",
   "id": "dbe37455",
   "metadata": {},
   "source": [
    "### `len(object)`\n",
    "\n",
    "La funzione `len()` resituisce la lunghezza (il numero di elementi) di un oggetto. L'argomento può essere una sequenza (ad esempio una stringa o una lista) oppure una collezione (ad esempio un dizionario o un insieme)."
   ]
  },
  {
   "cell_type": "code",
   "execution_count": null,
   "id": "5ed3ef67",
   "metadata": {},
   "outputs": [],
   "source": []
  },
  {
   "cell_type": "markdown",
   "id": "b245bde6",
   "metadata": {},
   "source": [
    "### Metodi di `list`\n",
    "\n",
    "Le liste sono ordinate, ovvero gli elementi hanno un ordine definito, e tale ordine non viene cambiato. Nel caso in cui vengano aggiunti nuovi elementi ad una lista, questi verranno piazzati alla fine della lista stessa.\n",
    "\n",
    "`list.append(x)` aggiunge un elemento alla fine della lista."
   ]
  },
  {
   "cell_type": "code",
   "execution_count": null,
   "id": "975830e5",
   "metadata": {},
   "outputs": [],
   "source": []
  },
  {
   "cell_type": "markdown",
   "id": "f4048473",
   "metadata": {},
   "source": [
    "`list.pop([i])` rimuove l'elemento della lista nella posizione indicata e lo restituisce. Se nessun indice viene indicato, rimuove e restituisce l'ultimo elemento nella lista."
   ]
  },
  {
   "cell_type": "code",
   "execution_count": null,
   "id": "2579342a",
   "metadata": {},
   "outputs": [],
   "source": []
  },
  {
   "cell_type": "markdown",
   "id": "fe2a6fd1",
   "metadata": {},
   "source": [
    "## Tuple\n",
    "\n",
    "Le **tuple** sono utilizzate per memorizzare più elementi in una singola variabile. Sono definite da parentesi tonde, `(...)`, e i loro elementi sono ordinati, immutabili e consentono duplicati."
   ]
  },
  {
   "cell_type": "code",
   "execution_count": null,
   "id": "00e48584",
   "metadata": {},
   "outputs": [],
   "source": []
  },
  {
   "cell_type": "markdown",
   "id": "06df624b",
   "metadata": {},
   "source": [
    "Per creare una tupla avente un solo elemento, bisogna aggiungere una virgola alla fine, altrimenti Python non la riconoscerà come tupla."
   ]
  },
  {
   "cell_type": "code",
   "execution_count": null,
   "id": "6080ec64",
   "metadata": {},
   "outputs": [],
   "source": []
  },
  {
   "cell_type": "markdown",
   "id": "554cf8fb",
   "metadata": {},
   "source": [
    "È possibile anche utilizzare la funzione `tuple()` per definire una tupla."
   ]
  },
  {
   "cell_type": "code",
   "execution_count": null,
   "id": "0c8c9b47",
   "metadata": {},
   "outputs": [],
   "source": []
  },
  {
   "cell_type": "markdown",
   "id": "a4607988",
   "metadata": {},
   "source": [
    "Anche se le tuple sembrano simili alle liste, in realtà sono utilizzate in modi e per scopi differenti. Le tuple sono immutabili e di solito contengono sequenze eterogenee di elementi a cui si accede tramite operazioni di *unpacking* e *indexing*. Le liste sono mutabili, i loro elementi sono di solito omogenei e vi si accede in maniera iterativa."
   ]
  },
  {
   "cell_type": "code",
   "execution_count": null,
   "id": "7499ba21",
   "metadata": {},
   "outputs": [],
   "source": []
  },
  {
   "cell_type": "code",
   "execution_count": null,
   "id": "29dd8ed8",
   "metadata": {},
   "outputs": [],
   "source": []
  },
  {
   "cell_type": "markdown",
   "id": "5af1798b",
   "metadata": {},
   "source": [
    "### `zip(*iterable)`\n",
    "\n",
    "La funzione integrata `zip()` itera su molteplici oggetti *iterabili* in parallelo, producendo tuple aventi un elemento da ciascuno degli iterabili."
   ]
  },
  {
   "cell_type": "code",
   "execution_count": null,
   "id": "a47ed5d8",
   "metadata": {},
   "outputs": [],
   "source": []
  },
  {
   "cell_type": "code",
   "execution_count": null,
   "id": "e35a6ece",
   "metadata": {},
   "outputs": [],
   "source": []
  },
  {
   "cell_type": "markdown",
   "id": "1b9e41dd",
   "metadata": {},
   "source": [
    "## Insiemi\n",
    "\n",
    "Un **insieme** (*set*) è una struttura dati non-ordinata, non-indicizzata e immutabile che non accetta duplicati. Gli utilizzi più comuni riguardano il cosiddetto test di appartenenza e l'eliminazione di elementi duplicati. Gli insiemi supportano operazioni matematiche, come l'unione, l'intersezione, la differenza e la differenza simmetrica. Gli insiemi si definiscono con le parentesi graffe, `{...}`."
   ]
  },
  {
   "cell_type": "code",
   "execution_count": null,
   "id": "770dab2c",
   "metadata": {},
   "outputs": [],
   "source": []
  },
  {
   "cell_type": "markdown",
   "id": "3cb3d6ca",
   "metadata": {},
   "source": [
    "È possibile definire un insieme utilizzando la funzione `set()`."
   ]
  },
  {
   "cell_type": "code",
   "execution_count": null,
   "id": "12f19f9a",
   "metadata": {},
   "outputs": [],
   "source": []
  },
  {
   "cell_type": "markdown",
   "id": "dfd340d9",
   "metadata": {},
   "source": [
    "### Operazioni sugli Insiemi\n",
    "\n",
    "L'*unione* viene eseguita utilizzando l'operatore `|` oppure il metodo `set.union()`."
   ]
  },
  {
   "cell_type": "code",
   "execution_count": 2,
   "id": "ba52b0bb",
   "metadata": {},
   "outputs": [],
   "source": [
    "# Unione\n"
   ]
  },
  {
   "cell_type": "markdown",
   "id": "7f16d90d",
   "metadata": {},
   "source": [
    "L'*intersezione* viene eseguita utilizzando l'operatore `&` oppure il metodo `set.intersection()`."
   ]
  },
  {
   "cell_type": "code",
   "execution_count": 3,
   "id": "3724933c",
   "metadata": {},
   "outputs": [],
   "source": [
    "# Intersezione\n"
   ]
  },
  {
   "cell_type": "markdown",
   "id": "11a213f5",
   "metadata": {},
   "source": [
    "La *differenza* viene eseguita utilizzando l'operatore `-` oppure il metodo `set.difference()`."
   ]
  },
  {
   "cell_type": "code",
   "execution_count": 4,
   "id": "8e111ca9",
   "metadata": {},
   "outputs": [],
   "source": [
    "# Differenza\n"
   ]
  },
  {
   "cell_type": "code",
   "execution_count": null,
   "id": "d8c01239",
   "metadata": {},
   "outputs": [],
   "source": []
  },
  {
   "cell_type": "markdown",
   "id": "08cd07ec",
   "metadata": {},
   "source": [
    "La *differenza simmetrica* viene eseguita utilizzando l'operatore `^` oppure il metodo `set.symmetric_difference()`."
   ]
  },
  {
   "cell_type": "code",
   "execution_count": 5,
   "id": "22ec3042",
   "metadata": {},
   "outputs": [],
   "source": [
    "# Differenza Simmetrica\n"
   ]
  },
  {
   "cell_type": "markdown",
   "id": "1bf505e2",
   "metadata": {},
   "source": [
    "### Test di Appartenenza\n",
    "\n",
    "Un **test di appartenenza** controlla se uno specifico elemento sia contenuto all'interno di una sequenza, come stringhe, liste, tuple o insiemi. Uno dei principali vantaggi nell'utilizzare gli insiemi in Python è che essi sono ottimizzati per questa tipologia di test.\n",
    "\n",
    "L'operatore `in` funziona con tipi sequenziali: è utilizzato per controllare se un elemento è presente in un oggetto. L'operatore restituisce `True` se l'elemento viene trovato, `False` in caso contrario."
   ]
  },
  {
   "cell_type": "code",
   "execution_count": null,
   "id": "93bd88fe",
   "metadata": {},
   "outputs": [],
   "source": []
  },
  {
   "cell_type": "markdown",
   "id": "d205c9be",
   "metadata": {},
   "source": [
    "## Dizionari\n",
    "\n",
    "Un **dizionario** è utilizzato per memorizzare valori in un formato *chiave: valore* ed è definito da parentesi graffe, `{chiave: valore}`. Differentemente dalle sequenze, le quali sono indicizzate da una serie di numeri, i dizionari sono indicizzati dalle chiavi, le quali possono essere di qualsiasi tipo immutabile e con il vincolo di dover essere uniche."
   ]
  },
  {
   "cell_type": "code",
   "execution_count": null,
   "id": "bb8538e2",
   "metadata": {},
   "outputs": [],
   "source": []
  },
  {
   "cell_type": "markdown",
   "id": "4959c96d",
   "metadata": {},
   "source": [
    "È possibile definire un dizionario anche con la funzione `dict()`."
   ]
  },
  {
   "cell_type": "code",
   "execution_count": null,
   "id": "b4ed9a06",
   "metadata": {},
   "outputs": [],
   "source": []
  },
  {
   "cell_type": "markdown",
   "id": "0be7b704",
   "metadata": {},
   "source": [
    "È possibile accedere agli elementi di un dizionario utilizzando le chiavi tra parentesi quadre."
   ]
  },
  {
   "cell_type": "code",
   "execution_count": null,
   "id": "5ce24db0",
   "metadata": {},
   "outputs": [],
   "source": []
  },
  {
   "cell_type": "markdown",
   "id": "bb43556d",
   "metadata": {},
   "source": [
    "### Metodi dei dizionari\n",
    "\n",
    "`dict.keys()` restituisce una lista contenente le chiavi del dizionario."
   ]
  },
  {
   "cell_type": "code",
   "execution_count": null,
   "id": "c6c9e8a3",
   "metadata": {},
   "outputs": [],
   "source": []
  },
  {
   "cell_type": "markdown",
   "id": "44e9742d",
   "metadata": {},
   "source": [
    "`dict.values()` restituisce una lista contenente i valori del dizionario."
   ]
  },
  {
   "cell_type": "code",
   "execution_count": null,
   "id": "3d5093d1",
   "metadata": {},
   "outputs": [],
   "source": []
  },
  {
   "cell_type": "markdown",
   "id": "c1199bd2",
   "metadata": {},
   "source": [
    "`dict.items()` restituisce una lista contenente una tupla per ogni coppia chiave-valore."
   ]
  },
  {
   "cell_type": "code",
   "execution_count": null,
   "id": "21979315",
   "metadata": {},
   "outputs": [],
   "source": []
  },
  {
   "cell_type": "markdown",
   "id": "279e6655",
   "metadata": {},
   "source": [
    "# Leggere e Scrivere File\n",
    "\n",
    "Un **modulo** è un file contenente un insieme di funzioni che vogliamo includere nella nostra applicazione. Per avere accesso al codice all'interno di un modulo utilizziamo il comando `import`.\n",
    "\n",
    "## Modulo `os`\n",
    "\n",
    "Il modulo `os` fornisce la possibilità di utilizzare le funzionalità del sistema operativo utilizzato."
   ]
  },
  {
   "cell_type": "code",
   "execution_count": null,
   "id": "facd74f8",
   "metadata": {},
   "outputs": [],
   "source": []
  },
  {
   "cell_type": "markdown",
   "id": "ea155c8d",
   "metadata": {},
   "source": [
    "`os.getcwd()` restituisce una stringa rappresentante la cartella di lavoro corrente."
   ]
  },
  {
   "cell_type": "code",
   "execution_count": null,
   "id": "d364a6c7",
   "metadata": {},
   "outputs": [],
   "source": []
  },
  {
   "cell_type": "markdown",
   "id": "9877590e",
   "metadata": {},
   "source": [
    "`os.listdir(path='.')` restituisce una lista contenente i nomi delle voci presenti nel percorso indicato."
   ]
  },
  {
   "cell_type": "code",
   "execution_count": null,
   "id": "04921138",
   "metadata": {},
   "outputs": [],
   "source": []
  },
  {
   "cell_type": "markdown",
   "id": "dc2c757a",
   "metadata": {},
   "source": [
    "## `open(file, mode)`\n",
    "\n",
    "La funzione integrata `open()` apre un file e restituisce il corrispondente oggetto file."
   ]
  },
  {
   "cell_type": "code",
   "execution_count": null,
   "id": "e57cb2c4",
   "metadata": {},
   "outputs": [],
   "source": []
  },
  {
   "cell_type": "markdown",
   "id": "e32e05e2",
   "metadata": {},
   "source": [
    "Il metodo `read()` legge le informazioni dall'oggetto e le restituisce. Il metodo `readline()` legge e restituisce una linea dallo stream."
   ]
  },
  {
   "cell_type": "code",
   "execution_count": null,
   "id": "6028975f",
   "metadata": {},
   "outputs": [],
   "source": []
  },
  {
   "cell_type": "code",
   "execution_count": null,
   "id": "29fbd971",
   "metadata": {
    "scrolled": true
   },
   "outputs": [],
   "source": []
  },
  {
   "cell_type": "markdown",
   "id": "aee321ac",
   "metadata": {},
   "source": [
    "Il metodo `close()` chiude lo stream."
   ]
  },
  {
   "cell_type": "code",
   "execution_count": null,
   "id": "8599e2c4",
   "metadata": {},
   "outputs": [],
   "source": []
  },
  {
   "cell_type": "markdown",
   "id": "c828117f",
   "metadata": {},
   "source": [
    "Il comando `with` è utilizzato per racchiudere l'esecuzione di un blocco di codice con metodi definiti da un context manager. Questo si assicura che non vengano lasciate inavvertitamente risorse aperte."
   ]
  },
  {
   "cell_type": "code",
   "execution_count": null,
   "id": "8d096230",
   "metadata": {},
   "outputs": [],
   "source": []
  },
  {
   "cell_type": "code",
   "execution_count": null,
   "id": "ffcc2cd3",
   "metadata": {},
   "outputs": [],
   "source": []
  },
  {
   "cell_type": "markdown",
   "id": "8aaedbe1",
   "metadata": {},
   "source": [
    "Il metodo `write()` scrive gli oggetti forniti come parametri sullo stream di riferimento. Il metodo `writelines()` scrive una lista di linee sullo stream; i separatori di linea non sono aggiunti automaticamente, dunque è consigliato inserirne uno alla fine di ogni linea."
   ]
  },
  {
   "cell_type": "markdown",
   "id": "b282b9af",
   "metadata": {},
   "source": [
    "## Modulo `json`\n",
    "\n",
    "**JSON** (JavaScript Object Notation) è un formato di dati semplice da leggere e scrivere per gli essere umani, ma anche facile da generare e processare per le macchine. Un JSON è costituito da due strutture: una collezione di coppie nomi/valori e una lista ordinata di valori.\n",
    "\n",
    "In Python, il modulo `json` rende semplice analizzare un file JSON. Per caricare un file con estensione .json, utilizziamo il comando `json.load()`."
   ]
  },
  {
   "cell_type": "code",
   "execution_count": null,
   "id": "5eee8139",
   "metadata": {},
   "outputs": [],
   "source": []
  },
  {
   "cell_type": "code",
   "execution_count": null,
   "id": "b46b4b95",
   "metadata": {},
   "outputs": [],
   "source": []
  },
  {
   "cell_type": "markdown",
   "id": "007491e0",
   "metadata": {},
   "source": [
    "# Esercizi\n",
    "\n",
    "1. Genera una lista contenente soltanto i nomi delle capitali dal seguente dizionario: `{'Italia': 'Roma', 'Francia': 'Parigi', 'Spagna': 'Madrid'}`"
   ]
  },
  {
   "cell_type": "code",
   "execution_count": null,
   "id": "9a3f0444",
   "metadata": {},
   "outputs": [],
   "source": []
  },
  {
   "cell_type": "markdown",
   "id": "c44562a2",
   "metadata": {},
   "source": [
    "2. Crea un file .json contenente i dati riguardanti tre titoli azionari a tua scelta: per ognuno di questi indica nome, simbolo, industria ed ultimo prezzo di chiusura."
   ]
  },
  {
   "cell_type": "code",
   "execution_count": null,
   "id": "5898e26c",
   "metadata": {},
   "outputs": [],
   "source": []
  },
  {
   "cell_type": "code",
   "execution_count": null,
   "id": "4f12c53f",
   "metadata": {},
   "outputs": [],
   "source": []
  }
 ],
 "metadata": {
  "kernelspec": {
   "display_name": "Python 3 (ipykernel)",
   "language": "python",
   "name": "python3"
  },
  "language_info": {
   "codemirror_mode": {
    "name": "ipython",
    "version": 3
   },
   "file_extension": ".py",
   "mimetype": "text/x-python",
   "name": "python",
   "nbconvert_exporter": "python",
   "pygments_lexer": "ipython3",
   "version": "3.8.13"
  }
 },
 "nbformat": 4,
 "nbformat_minor": 5
}
