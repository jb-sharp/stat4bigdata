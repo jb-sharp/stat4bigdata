{
 "cells": [
  {
   "cell_type": "code",
   "execution_count": 13,
   "id": "b56e42c0",
   "metadata": {},
   "outputs": [],
   "source": [
    "import numpy as np\n",
    "import matplotlib.pyplot as plt\n",
    "import pandas as pd"
   ]
  },
  {
   "cell_type": "code",
   "execution_count": 2,
   "id": "8e39e23e",
   "metadata": {},
   "outputs": [],
   "source": [
    "a_x = np.random.normal(2, .5, 50)\n",
    "a_y = np.random.normal(3, 1.2, 50)"
   ]
  },
  {
   "cell_type": "code",
   "execution_count": 5,
   "id": "3ac45dd3",
   "metadata": {},
   "outputs": [],
   "source": [
    "b_x = np.random.normal(1, .3, 50)\n",
    "b_y = np.random.normal(10, .8, 50)"
   ]
  },
  {
   "cell_type": "code",
   "execution_count": 7,
   "id": "e0305ef6",
   "metadata": {},
   "outputs": [
    {
     "data": {
      "image/png": "[encoded data removed]",
      "text/plain": [
       "<Figure size 432x288 with 1 Axes>"
      ]
     },
     "metadata": {
      "needs_background": "light"
     },
     "output_type": "display_data"
    }
   ],
   "source": [
    "fig, ax = plt.subplots()\n",
    "ax.scatter(a_x, a_y)\n",
    "ax.scatter(b_x, b_y)\n",
    "plt.show()"
   ]
  },
  {
   "cell_type": "code",
   "execution_count": 11,
   "id": "1e745dbe",
   "metadata": {},
   "outputs": [],
   "source": [
    "x = np.concatenate([a_x, b_x])\n",
    "y = np.concatenate([a_y, b_y])"
   ]
  },
  {
   "cell_type": "code",
   "execution_count": 12,
   "id": "5e9ebafa",
   "metadata": {},
   "outputs": [
    {
     "data": {
      "image/png": "[encoded data removed]",
      "text/plain": [
       "<Figure size 432x288 with 1 Axes>"
      ]
     },
     "metadata": {
      "needs_background": "light"
     },
     "output_type": "display_data"
    }
   ],
   "source": [
    "fig, ax = plt.subplots()\n",
    "ax.scatter(x, y)\n",
    "plt.show()"
   ]
  },
  {
   "cell_type": "code",
   "execution_count": 14,
   "id": "6f4d8014",
   "metadata": {},
   "outputs": [],
   "source": [
    "data = pd.DataFrame({'x': x, 'y': y})"
   ]
  },
  {
   "cell_type": "code",
   "execution_count": 15,
   "id": "dacd30f3",
   "metadata": {},
   "outputs": [
    {
     "data": {
      "text/html": [
       "<div>\n",
       "<style scoped>\n",
       "    .dataframe tbody tr th:only-of-type {\n",
       "        vertical-align: middle;\n",
       "    }\n",
       "\n",
       "    .dataframe tbody tr th {\n",
       "        vertical-align: top;\n",
       "    }\n",
       "\n",
       "    .dataframe thead th {\n",
       "        text-align: right;\n",
       "    }\n",
       "</style>\n",
       "<table border=\"1\" class=\"dataframe\">\n",
       "  <thead>\n",
       "    <tr style=\"text-align: right;\">\n",
       "      <th></th>\n",
       "      <th>x</th>\n",
       "      <th>y</th>\n",
       "    </tr>\n",
       "  </thead>\n",
       "  <tbody>\n",
       "    <tr>\n",
       "      <th>0</th>\n",
       "      <td>2.556267</td>\n",
       "      <td>3.940992</td>\n",
       "    </tr>\n",
       "    <tr>\n",
       "      <th>1</th>\n",
       "      <td>2.379543</td>\n",
       "      <td>0.373727</td>\n",
       "    </tr>\n",
       "    <tr>\n",
       "      <th>2</th>\n",
       "      <td>2.113837</td>\n",
       "      <td>4.023238</td>\n",
       "    </tr>\n",
       "    <tr>\n",
       "      <th>3</th>\n",
       "      <td>1.580128</td>\n",
       "      <td>5.777491</td>\n",
       "    </tr>\n",
       "    <tr>\n",
       "      <th>4</th>\n",
       "      <td>1.747986</td>\n",
       "      <td>4.766675</td>\n",
       "    </tr>\n",
       "    <tr>\n",
       "      <th>...</th>\n",
       "      <td>...</td>\n",
       "      <td>...</td>\n",
       "    </tr>\n",
       "    <tr>\n",
       "      <th>95</th>\n",
       "      <td>0.862175</td>\n",
       "      <td>9.484939</td>\n",
       "    </tr>\n",
       "    <tr>\n",
       "      <th>96</th>\n",
       "      <td>1.239636</td>\n",
       "      <td>9.434065</td>\n",
       "    </tr>\n",
       "    <tr>\n",
       "      <th>97</th>\n",
       "      <td>0.970234</td>\n",
       "      <td>10.959552</td>\n",
       "    </tr>\n",
       "    <tr>\n",
       "      <th>98</th>\n",
       "      <td>0.360344</td>\n",
       "      <td>9.787708</td>\n",
       "    </tr>\n",
       "    <tr>\n",
       "      <th>99</th>\n",
       "      <td>1.302772</td>\n",
       "      <td>10.416645</td>\n",
       "    </tr>\n",
       "  </tbody>\n",
       "</table>\n",
       "<p>100 rows × 2 columns</p>\n",
       "</div>"
      ],
      "text/plain": [
       "           x          y\n",
       "0   2.556267   3.940992\n",
       "1   2.379543   0.373727\n",
       "2   2.113837   4.023238\n",
       "3   1.580128   5.777491\n",
       "4   1.747986   4.766675\n",
       "..       ...        ...\n",
       "95  0.862175   9.484939\n",
       "96  1.239636   9.434065\n",
       "97  0.970234  10.959552\n",
       "98  0.360344   9.787708\n",
       "99  1.302772  10.416645\n",
       "\n",
       "[100 rows x 2 columns]"
      ]
     },
     "execution_count": 15,
     "metadata": {},
     "output_type": "execute_result"
    }
   ],
   "source": [
    "data"
   ]
  },
  {
   "cell_type": "code",
   "execution_count": 20,
   "id": "9772b29e",
   "metadata": {},
   "outputs": [],
   "source": [
    "k = 2\n",
    "\n",
    "minimum = data.min().values\n",
    "maximum = data.max().values"
   ]
  },
  {
   "cell_type": "code",
   "execution_count": 26,
   "id": "5b0cc2a9",
   "metadata": {},
   "outputs": [],
   "source": [
    "centroidi = np.random.uniform(minimum, maximum, (k, minimum.shape[0]))"
   ]
  },
  {
   "cell_type": "code",
   "execution_count": 27,
   "id": "60552cfc",
   "metadata": {},
   "outputs": [
    {
     "data": {
      "text/plain": [
       "array([[2.53779909, 8.94835412],\n",
       "       [2.0794133 , 5.86597783]])"
      ]
     },
     "execution_count": 27,
     "metadata": {},
     "output_type": "execute_result"
    }
   ],
   "source": [
    "centroidi"
   ]
  },
  {
   "cell_type": "code",
   "execution_count": 33,
   "id": "1f23a531",
   "metadata": {},
   "outputs": [
    {
     "data": {
      "text/plain": [
       "array([8.94835412, 5.86597783])"
      ]
     },
     "execution_count": 33,
     "metadata": {},
     "output_type": "execute_result"
    }
   ],
   "source": [
    "centroidi.T[0]"
   ]
  },
  {
   "cell_type": "code",
   "execution_count": 34,
   "id": "acbaa141",
   "metadata": {},
   "outputs": [
    {
     "data": {
      "image/png": "[encoded data removed]",
      "text/plain": [
       "<Figure size 432x288 with 1 Axes>"
      ]
     },
     "metadata": {
      "needs_background": "light"
     },
     "output_type": "display_data"
    }
   ],
   "source": [
    "fig, ax = plt.subplots()\n",
    "ax.scatter(x, y)\n",
    "ax.scatter(centroidi.T[0], centroidi.T[1])\n",
    "plt.show()"
   ]
  },
  {
   "cell_type": "code",
   "execution_count": 43,
   "id": "14cc6589",
   "metadata": {},
   "outputs": [
    {
     "data": {
      "text/plain": [
       "array([2.55626672, 3.94099245])"
      ]
     },
     "execution_count": 43,
     "metadata": {},
     "output_type": "execute_result"
    }
   ],
   "source": [
    "data.loc[0,].values"
   ]
  },
  {
   "cell_type": "code",
   "execution_count": 41,
   "id": "4241810c",
   "metadata": {},
   "outputs": [
    {
     "data": {
      "text/plain": [
       "array([2.53779909, 8.94835412])"
      ]
     },
     "execution_count": 41,
     "metadata": {},
     "output_type": "execute_result"
    }
   ],
   "source": [
    "centroidi[0]"
   ]
  },
  {
   "cell_type": "code",
   "execution_count": 47,
   "id": "530d49a8",
   "metadata": {},
   "outputs": [
    {
     "data": {
      "text/plain": [
       "5.0073957277828915"
      ]
     },
     "execution_count": 47,
     "metadata": {},
     "output_type": "execute_result"
    }
   ],
   "source": [
    "np.sqrt(np.sum((data.loc[0,].values - centroidi[0])**2))"
   ]
  },
  {
   "cell_type": "code",
   "execution_count": 48,
   "id": "7463e7eb",
   "metadata": {},
   "outputs": [
    {
     "data": {
      "text/plain": [
       "1.9831686502397587"
      ]
     },
     "execution_count": 48,
     "metadata": {},
     "output_type": "execute_result"
    }
   ],
   "source": [
    "np.sqrt(np.sum((data.loc[0,].values - centroidi[1])**2))"
   ]
  },
  {
   "cell_type": "code",
   "execution_count": 51,
   "id": "34800075",
   "metadata": {},
   "outputs": [
    {
     "name": "stdout",
     "output_type": "stream",
     "text": [
      "5.0073957277828915\n",
      "1.9831686502397587\n"
     ]
    }
   ],
   "source": [
    "for j in range(k):\n",
    "    dist = np.sqrt(np.sum((data.loc[0,].values - centroidi[j])**2))\n",
    "    print(dist)"
   ]
  },
  {
   "cell_type": "code",
   "execution_count": 56,
   "id": "bc1ef985",
   "metadata": {},
   "outputs": [],
   "source": [
    "dists = []\n",
    "for j in range(k):\n",
    "    dists.append(np.sqrt(np.sum((data.loc[0,].values - centroidi[j])**2)))\n",
    "    \n",
    "c = np.argmin(dists)"
   ]
  },
  {
   "cell_type": "code",
   "execution_count": 65,
   "id": "465cab81",
   "metadata": {},
   "outputs": [],
   "source": [
    "label = []\n",
    "for i, row in data.iterrows():\n",
    "    dists = []\n",
    "    for j in range(k):\n",
    "        dists.append(np.sqrt(np.sum((row.values - centroidi[j])**2)))\n",
    "\n",
    "    label.append(np.argmin(dists))"
   ]
  },
  {
   "cell_type": "code",
   "execution_count": 68,
   "id": "efe4a805",
   "metadata": {
    "scrolled": false
   },
   "outputs": [
    {
     "data": {
      "image/png": "[encoded data removed]",
      "text/plain": [
       "<Figure size 432x288 with 1 Axes>"
      ]
     },
     "metadata": {
      "needs_background": "light"
     },
     "output_type": "display_data"
    }
   ],
   "source": [
    "fig, ax = plt.subplots()\n",
    "ax.scatter(x, y, c=label)\n",
    "ax.scatter(centroidi.T[0], centroidi.T[1])\n",
    "plt.show()"
   ]
  },
  {
   "cell_type": "code",
   "execution_count": 80,
   "id": "00d29105",
   "metadata": {},
   "outputs": [],
   "source": [
    "for i in range(k):\n",
    "    centroidi[i] = data.loc[np.where(np.array(label) == i)].mean().values"
   ]
  },
  {
   "cell_type": "code",
   "execution_count": 82,
   "id": "97258977",
   "metadata": {},
   "outputs": [
    {
     "data": {
      "text/plain": [
       "array([[0.99382837, 9.87300973],\n",
       "       [2.03456377, 3.30571164]])"
      ]
     },
     "execution_count": 82,
     "metadata": {},
     "output_type": "execute_result"
    }
   ],
   "source": [
    "centroidi"
   ]
  },
  {
   "cell_type": "code",
   "execution_count": 83,
   "id": "9501488e",
   "metadata": {},
   "outputs": [
    {
     "data": {
      "image/png": "[encoded data removed]",
      "text/plain": [
       "<Figure size 432x288 with 1 Axes>"
      ]
     },
     "metadata": {
      "needs_background": "light"
     },
     "output_type": "display_data"
    }
   ],
   "source": [
    "fig, ax = plt.subplots()\n",
    "ax.scatter(x, y, c=label)\n",
    "ax.scatter(centroidi.T[0], centroidi.T[1])\n",
    "plt.show()"
   ]
  },
  {
   "cell_type": "code",
   "execution_count": 86,
   "id": "68062653",
   "metadata": {},
   "outputs": [],
   "source": [
    "label = []\n",
    "for i, row in data.iterrows():\n",
    "    dists = []\n",
    "    for j in range(k):\n",
    "        dists.append(np.sqrt(np.sum((row.values - centroidi[j])**2)))\n",
    "\n",
    "    label.append(np.argmin(dists))"
   ]
  },
  {
   "cell_type": "code",
   "execution_count": 87,
   "id": "c73b7a18",
   "metadata": {},
   "outputs": [
    {
     "data": {
      "image/png": "[encoded data removed]",
      "text/plain": [
       "<Figure size 432x288 with 1 Axes>"
      ]
     },
     "metadata": {
      "needs_background": "light"
     },
     "output_type": "display_data"
    }
   ],
   "source": [
    "fig, ax = plt.subplots()\n",
    "ax.scatter(x, y, c=label)\n",
    "ax.scatter(centroidi.T[0], centroidi.T[1])\n",
    "plt.show()"
   ]
  },
  {
   "cell_type": "code",
   "execution_count": 93,
   "id": "62c1ca07",
   "metadata": {},
   "outputs": [],
   "source": [
    "k = 2\n",
    "max_iter = 10\n",
    "\n",
    "centroidi = np.random.uniform(minimum, maximum, (k, minimum.shape[0]))\n",
    "\n",
    "iteration = 0\n",
    "centroidi_precedenti = None\n",
    "\n",
    "while iteration < max_iter and np.not_equal(centroidi, centroidi_precedenti).any():\n",
    "    label = []\n",
    "    for i, row in data.iterrows():\n",
    "        dists = []\n",
    "        for j in range(k):\n",
    "            dists.append(np.sqrt(np.sum((row.values - centroidi[j])**2)))\n",
    "\n",
    "        label.append(np.argmin(dists))\n",
    "        \n",
    "    centroidi_precedenti = centroidi.copy()\n",
    "    \n",
    "    for i in range(k):\n",
    "        centroidi[i] = data.loc[np.where(np.array(label) == i)].mean().values\n",
    "    \n",
    "    iteration += 1"
   ]
  },
  {
   "cell_type": "code",
   "execution_count": 97,
   "id": "6ee59e92",
   "metadata": {
    "scrolled": true
   },
   "outputs": [
    {
     "data": {
      "image/png": "[encoded data removed]",
      "text/plain": [
       "<Figure size 432x288 with 1 Axes>"
      ]
     },
     "metadata": {
      "needs_background": "light"
     },
     "output_type": "display_data"
    }
   ],
   "source": [
    "fig, ax = plt.subplots()\n",
    "ax.scatter(x, y, c=label)\n",
    "ax.scatter(centroidi.T[0], centroidi.T[1])\n",
    "plt.show()"
   ]
  },
  {
   "cell_type": "code",
   "execution_count": 98,
   "id": "4cb12c3e",
   "metadata": {},
   "outputs": [
    {
     "data": {
      "text/plain": [
       "3"
      ]
     },
     "execution_count": 98,
     "metadata": {},
     "output_type": "execute_result"
    }
   ],
   "source": [
    "iteration"
   ]
  },
  {
   "cell_type": "code",
   "execution_count": 103,
   "id": "4f7a5bd8",
   "metadata": {},
   "outputs": [],
   "source": [
    "k = 5\n",
    "max_iter = 10\n",
    "\n",
    "centroidi = np.random.uniform(minimum, maximum, (k, minimum.shape[0]))\n",
    "\n",
    "iteration = 0\n",
    "centroidi_precedenti = None\n",
    "\n",
    "while iteration < max_iter and np.not_equal(centroidi, centroidi_precedenti).any():\n",
    "    label = []\n",
    "    for i, row in data.iterrows():\n",
    "        dists = []\n",
    "        for j in range(k):\n",
    "            dists.append(np.sqrt(np.sum((row.values - centroidi[j])**2)))\n",
    "\n",
    "        label.append(np.argmin(dists))\n",
    "        \n",
    "    centroidi_precedenti = centroidi.copy()\n",
    "    \n",
    "    for i in range(k):\n",
    "        centroidi[i] = data.loc[np.where(np.array(label) == i)].mean().values\n",
    "    \n",
    "    iteration += 1"
   ]
  },
  {
   "cell_type": "code",
   "execution_count": 104,
   "id": "1ab6736d",
   "metadata": {},
   "outputs": [
    {
     "data": {
      "image/png": "[encoded data removed]",
      "text/plain": [
       "<Figure size 432x288 with 1 Axes>"
      ]
     },
     "metadata": {
      "needs_background": "light"
     },
     "output_type": "display_data"
    }
   ],
   "source": [
    "fig, ax = plt.subplots()\n",
    "ax.scatter(x, y, c=label)\n",
    "ax.scatter(centroidi.T[0], centroidi.T[1])\n",
    "plt.show()"
   ]
  },
  {
   "cell_type": "code",
   "execution_count": 118,
   "id": "bd5e5a5e",
   "metadata": {},
   "outputs": [],
   "source": [
    "class KMedie:\n",
    "    \n",
    "    def __init__(self, k=2, max_iter=100):\n",
    "        self.k = k\n",
    "        self.max_iter = max_iter\n",
    "        \n",
    "    def fit(self, X):\n",
    "        minimum, maximum = np.min(X, axis=0), np.max(X, axis=0)\n",
    "        self.centroidi = np.random.uniform(minimum, maximum, (self.k, X.shape[1]))\n",
    "        \n",
    "        iteration = 0\n",
    "        centroidi_precedenti = None\n",
    "        \n",
    "        while iteration < self.max_iter and np.not_equal(self.centroidi, centroidi_precedenti).any():\n",
    "            label = []\n",
    "            for row in X:\n",
    "                dists = []\n",
    "                for j in range(self.k):\n",
    "                    dists.append(np.sqrt(np.sum((row - self.centroidi[j])**2)))\n",
    "\n",
    "                label.append(np.argmin(dists))\n",
    "\n",
    "            centroidi_precedenti = self.centroidi.copy()\n",
    "\n",
    "            for i in range(self.k):\n",
    "                self.centroidi[i] = X[np.where(np.array(label) == i)].mean(axis=0)\n",
    "\n",
    "            iteration += 1\n",
    "        \n",
    "        self.labels = label"
   ]
  },
  {
   "cell_type": "code",
   "execution_count": 119,
   "id": "820467d4",
   "metadata": {},
   "outputs": [],
   "source": [
    "data = np.stack([x, y], axis=1)"
   ]
  },
  {
   "cell_type": "code",
   "execution_count": 120,
   "id": "685aa5fb",
   "metadata": {},
   "outputs": [],
   "source": [
    "model = KMedie(k=2, max_iter=10)"
   ]
  },
  {
   "cell_type": "code",
   "execution_count": 121,
   "id": "ae9380fc",
   "metadata": {},
   "outputs": [],
   "source": [
    "model.fit(data)"
   ]
  },
  {
   "cell_type": "code",
   "execution_count": 122,
   "id": "ac9b9655",
   "metadata": {},
   "outputs": [
    {
     "data": {
      "text/plain": [
       "array([[2.05306716, 3.22046261],\n",
       "       [0.99613968, 9.8269128 ]])"
      ]
     },
     "execution_count": 122,
     "metadata": {},
     "output_type": "execute_result"
    }
   ],
   "source": [
    "model.centroidi"
   ]
  },
  {
   "cell_type": "code",
   "execution_count": 124,
   "id": "89a31c89",
   "metadata": {
    "scrolled": true
   },
   "outputs": [
    {
     "data": {
      "image/png": "[encoded data removed]",
      "text/plain": [
       "<Figure size 432x288 with 1 Axes>"
      ]
     },
     "metadata": {
      "needs_background": "light"
     },
     "output_type": "display_data"
    }
   ],
   "source": [
    "fig, ax = plt.subplots()\n",
    "ax.scatter(x, y, c=model.labels)\n",
    "ax.scatter(model.centroidi.T[0], model.centroidi.T[1])\n",
    "plt.show()"
   ]
  },
  {
   "cell_type": "code",
   "execution_count": null,
   "id": "274f56a5",
   "metadata": {},
   "outputs": [],
   "source": []
  }
 ],
 "metadata": {
  "kernelspec": {
   "display_name": "Python 3 (ipykernel)",
   "language": "python",
   "name": "python3"
  },
  "language_info": {
   "codemirror_mode": {
    "name": "ipython",
    "version": 3
   },
   "file_extension": ".py",
   "mimetype": "text/x-python",
   "name": "python",
   "nbconvert_exporter": "python",
   "pygments_lexer": "ipython3",
   "version": "3.8.13"
  }
 },
 "nbformat": 4,
 "nbformat_minor": 5
}
