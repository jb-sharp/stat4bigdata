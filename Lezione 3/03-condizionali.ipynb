{
 "cells": [
  {
   "cell_type": "markdown",
   "id": "a07719bc",
   "metadata": {},
   "source": [
    "# Tipo Booleano\n",
    "\n",
    "I **valori booleani** come abbiamo visto, possono assumere i valori `False` o `True`. Sono utilizzati per rappresentare valori di verità di condizioni. Altri tipi possono essere utilizzati con funzioni simili: ad esempio, nel caso degli interi, `0` e `1` possono essere utilizzati rispettivamente come se fossero `False` e `True`."
   ]
  },
  {
   "cell_type": "code",
   "execution_count": null,
   "id": "dcb98fab",
   "metadata": {},
   "outputs": [],
   "source": [
    "True"
   ]
  },
  {
   "cell_type": "code",
   "execution_count": null,
   "id": "d19d6704",
   "metadata": {},
   "outputs": [],
   "source": [
    "False"
   ]
  },
  {
   "cell_type": "code",
   "execution_count": null,
   "id": "06b0e175",
   "metadata": {},
   "outputs": [],
   "source": [
    "type(True)"
   ]
  },
  {
   "cell_type": "code",
   "execution_count": null,
   "id": "c915411e",
   "metadata": {},
   "outputs": [],
   "source": [
    "10 > 5"
   ]
  },
  {
   "cell_type": "code",
   "execution_count": null,
   "id": "854a559e",
   "metadata": {},
   "outputs": [],
   "source": [
    "10 < 5"
   ]
  },
  {
   "cell_type": "markdown",
   "id": "5a042000",
   "metadata": {},
   "source": [
    "La funzione integrata `bool()` può essere utilizzata per convertire qualsiasi valore in un booleano, nel caso in cui tale valore può essere interpretato come un valore di verità. Spesso però, quando occorre, la conversione è fatta implicitamente."
   ]
  },
  {
   "cell_type": "code",
   "execution_count": null,
   "id": "56a68a26",
   "metadata": {},
   "outputs": [],
   "source": [
    "bool(1)"
   ]
  },
  {
   "cell_type": "code",
   "execution_count": null,
   "id": "684f24ec",
   "metadata": {},
   "outputs": [],
   "source": [
    "bool(0)"
   ]
  },
  {
   "cell_type": "code",
   "execution_count": null,
   "id": "cebc9860",
   "metadata": {},
   "outputs": [],
   "source": [
    "bool('')"
   ]
  },
  {
   "cell_type": "code",
   "execution_count": null,
   "id": "879bd319",
   "metadata": {},
   "outputs": [],
   "source": [
    "bool('ciao')"
   ]
  },
  {
   "cell_type": "code",
   "execution_count": null,
   "id": "1f396da1",
   "metadata": {},
   "outputs": [],
   "source": [
    "bool('False')"
   ]
  },
  {
   "cell_type": "code",
   "execution_count": null,
   "id": "16668f01",
   "metadata": {},
   "outputs": [],
   "source": [
    "bool([])"
   ]
  },
  {
   "cell_type": "code",
   "execution_count": null,
   "id": "69155497",
   "metadata": {},
   "outputs": [],
   "source": [
    "bool([1, 2, 3])"
   ]
  },
  {
   "cell_type": "markdown",
   "id": "ed1df369",
   "metadata": {},
   "source": [
    "## Operatori Logici\n",
    "\n",
    "In Python, gli **operatori logici** sono quelli che prendono in input valori booleani e restituiscono risultati booleani.\n",
    "\n",
    "L'operatore logico `and` restituisce `True` se e solo se i due operandi hanno entrambi valore *true*."
   ]
  },
  {
   "cell_type": "code",
   "execution_count": null,
   "id": "f8ba85b7",
   "metadata": {},
   "outputs": [],
   "source": [
    "True and True"
   ]
  },
  {
   "cell_type": "code",
   "execution_count": null,
   "id": "5bcdaa41",
   "metadata": {},
   "outputs": [],
   "source": [
    "True and False"
   ]
  },
  {
   "cell_type": "code",
   "execution_count": null,
   "id": "945f2391",
   "metadata": {},
   "outputs": [],
   "source": [
    "4 > 2 and 2 < 10"
   ]
  },
  {
   "cell_type": "code",
   "execution_count": null,
   "id": "a17a06f9",
   "metadata": {},
   "outputs": [],
   "source": [
    "4 > 2 and bool(0)"
   ]
  },
  {
   "cell_type": "code",
   "execution_count": null,
   "id": "6f0bf886",
   "metadata": {},
   "outputs": [],
   "source": [
    "print(True and True)\n",
    "print(True and False)\n",
    "print(False and True)\n",
    "print(False and False)"
   ]
  },
  {
   "cell_type": "code",
   "execution_count": null,
   "id": "00d278d4",
   "metadata": {},
   "outputs": [],
   "source": [
    "print(True and True and True)"
   ]
  },
  {
   "cell_type": "code",
   "execution_count": null,
   "id": "0df9d165",
   "metadata": {},
   "outputs": [],
   "source": [
    "print(True and False and True)"
   ]
  },
  {
   "cell_type": "markdown",
   "id": "85ed6e4c",
   "metadata": {},
   "source": [
    "L'operatore logico `or` restituisce `True` se almeno uno degli operandi ha valore *true*."
   ]
  },
  {
   "cell_type": "code",
   "execution_count": null,
   "id": "fd6ec4c0",
   "metadata": {},
   "outputs": [],
   "source": [
    "True or False"
   ]
  },
  {
   "cell_type": "code",
   "execution_count": null,
   "id": "6c4a2a37",
   "metadata": {},
   "outputs": [],
   "source": [
    "4 > 2 or bool(0)"
   ]
  },
  {
   "cell_type": "code",
   "execution_count": null,
   "id": "16b64321",
   "metadata": {},
   "outputs": [],
   "source": [
    "print(True or True)\n",
    "print(True or False)\n",
    "print(False or True)\n",
    "print(False or False)"
   ]
  },
  {
   "cell_type": "markdown",
   "id": "56909127",
   "metadata": {},
   "source": [
    "L'operatore logico `not` (che ha un solo operando come input) inverte il risultato dell'operando, restituendo `False` quando ha valore `True`."
   ]
  },
  {
   "cell_type": "code",
   "execution_count": null,
   "id": "a037b1cd",
   "metadata": {},
   "outputs": [],
   "source": [
    "not False"
   ]
  },
  {
   "cell_type": "code",
   "execution_count": null,
   "id": "2a7274ee",
   "metadata": {},
   "outputs": [],
   "source": [
    "not True"
   ]
  },
  {
   "cell_type": "code",
   "execution_count": null,
   "id": "ce7ee1a1",
   "metadata": {},
   "outputs": [],
   "source": [
    "not True and not False or True"
   ]
  },
  {
   "cell_type": "markdown",
   "id": "4437f840",
   "metadata": {},
   "source": [
    "## Operatori Confronto\n",
    "\n",
    "Gli **operatori confronto** comparano tipi di dato confrontando i valori da entrambi i lati.\n",
    "\n",
    "L'operatore confronto `==` controlla se i valori dei due operandi sono uguali. Tale operatore può essere usato sia con tipi numerici che anche con altri tipi."
   ]
  },
  {
   "cell_type": "code",
   "execution_count": null,
   "id": "a6fed260",
   "metadata": {},
   "outputs": [],
   "source": [
    "x = 5\n",
    "y = 10"
   ]
  },
  {
   "cell_type": "code",
   "execution_count": null,
   "id": "5b9381b6",
   "metadata": {},
   "outputs": [],
   "source": [
    "x == y"
   ]
  },
  {
   "cell_type": "code",
   "execution_count": null,
   "id": "1ff93948",
   "metadata": {},
   "outputs": [],
   "source": [
    "x == 5"
   ]
  },
  {
   "cell_type": "code",
   "execution_count": null,
   "id": "f59073f3",
   "metadata": {},
   "outputs": [],
   "source": [
    "5 == 2 + 3"
   ]
  },
  {
   "cell_type": "code",
   "execution_count": null,
   "id": "56ade6da-f8ca-4c9a-b2ec-11285eb6acbc",
   "metadata": {},
   "outputs": [],
   "source": [
    "\"ciao\" == \"ciao\""
   ]
  },
  {
   "cell_type": "code",
   "execution_count": null,
   "id": "7b84f064-f609-4f11-b9c7-db1991c795a5",
   "metadata": {},
   "outputs": [],
   "source": [
    "\"Ciao\" == \"ciao\""
   ]
  },
  {
   "cell_type": "code",
   "execution_count": null,
   "id": "308627e2-f39f-4fe8-b953-cef66a8bd0a1",
   "metadata": {},
   "outputs": [],
   "source": [
    "[1,2,3] == [1,2,3]"
   ]
  },
  {
   "cell_type": "markdown",
   "id": "0e1d7801",
   "metadata": {},
   "source": [
    "L'operatore confronto `!=` controlla se i valori dei due operandi non sono uguali."
   ]
  },
  {
   "cell_type": "code",
   "execution_count": null,
   "id": "037392b0",
   "metadata": {},
   "outputs": [],
   "source": [
    "x != y"
   ]
  },
  {
   "cell_type": "code",
   "execution_count": null,
   "id": "6998f0e4",
   "metadata": {},
   "outputs": [],
   "source": [
    "x != 5"
   ]
  },
  {
   "cell_type": "code",
   "execution_count": null,
   "id": "bdc78873-413d-4f74-8475-828433426911",
   "metadata": {},
   "outputs": [],
   "source": [
    "\"Ciao\" != \"ciao\""
   ]
  },
  {
   "cell_type": "code",
   "execution_count": null,
   "id": "d0544725-1701-4f03-bad3-cefd9462fbc1",
   "metadata": {},
   "outputs": [],
   "source": [
    "[1,2,3] != []"
   ]
  },
  {
   "cell_type": "markdown",
   "id": "465db31d",
   "metadata": {},
   "source": [
    "L'operatore confronto `>` controlla se il valore a sinistra dell'operando è maggiore del valore dell'operando a destra, mentre `>=` controlla se il valore dell'operando a sinistra è maggiore o uguale del valore dell'operando a destra."
   ]
  },
  {
   "cell_type": "code",
   "execution_count": null,
   "id": "be3d0ffe",
   "metadata": {},
   "outputs": [],
   "source": [
    "10 >= 5"
   ]
  },
  {
   "cell_type": "markdown",
   "id": "6e1d8e57",
   "metadata": {},
   "source": [
    "L'operatore confronto `<` controlla se il valore a sinistra dell'operando è minore del valore dell'operando a destra, mentre `<=` controlla se il valore dell'operando a sinistra è minore o uguale del valore dell'operando a destra."
   ]
  },
  {
   "cell_type": "code",
   "execution_count": null,
   "id": "f7de23d8",
   "metadata": {},
   "outputs": [],
   "source": [
    "20 <= 10"
   ]
  },
  {
   "cell_type": "markdown",
   "id": "ef327c7c-407e-4e06-950e-2760ed4081d7",
   "metadata": {},
   "source": [
    "Gli operatori di confronto `<`, `>` possono essere usati anche per confrontare tipi di dato non numerici, nel caso di tipi di dato sequenziali (stringhe, liste, tuple...) viene usato l'ordine **lessicografico** (ovvero quello del dizionario).\n",
    "\n",
    "Se il primo elemento della sequenza è maggiore (`d` viene dopo `c`) allora la prima sequenza sarà maggiore della sequenza, se invece sono uguali si continua."
   ]
  },
  {
   "cell_type": "code",
   "execution_count": null,
   "id": "bf76305b-f4f5-4d74-8b7c-6fe44687f63d",
   "metadata": {},
   "outputs": [],
   "source": [
    "# d > c\n",
    "\"dado\" > \"cima\""
   ]
  },
  {
   "cell_type": "code",
   "execution_count": null,
   "id": "0285c9e2-1320-4601-9856-3c83b98b6aef",
   "metadata": {},
   "outputs": [],
   "source": [
    "# 1 < 6\n",
    "[1,2,3] > [6,2]"
   ]
  },
  {
   "cell_type": "markdown",
   "id": "df7b2c7f",
   "metadata": {},
   "source": [
    "## Altri Operatori\n",
    "\n",
    "Gli **operatori appartenenza** di Python testano l'appartenenza di un elemento ad una sequenza, come una stringa, lista o tupla. L'operatore `in` restituisce `True` se l'elemento è presente all'interno della specifica sequenza; l'operatore `not in` restituisce `True` se invece l'elemento non compare nella sequenza."
   ]
  },
  {
   "cell_type": "code",
   "execution_count": null,
   "id": "e4f66d3b",
   "metadata": {},
   "outputs": [],
   "source": [
    "'a' in 'mela'"
   ]
  },
  {
   "cell_type": "code",
   "execution_count": null,
   "id": "a223a66f",
   "metadata": {},
   "outputs": [],
   "source": [
    "5 in [1, 2, 3]"
   ]
  },
  {
   "cell_type": "code",
   "execution_count": null,
   "id": "a947ad85",
   "metadata": {},
   "outputs": [],
   "source": [
    "5 not in [1, 2, 3]"
   ]
  },
  {
   "cell_type": "markdown",
   "id": "4e34c4c4",
   "metadata": {},
   "source": [
    "L'**operatore identità** compara i valori contenuti all'interno di variabili. L'operatore `is` restituisce `True` se entrambe le variabili contengono lo stesso valore; l'operatore `is not` restituisce `True` se le variabili non contengono lo stesso valore."
   ]
  },
  {
   "cell_type": "code",
   "execution_count": null,
   "id": "b473cb75",
   "metadata": {},
   "outputs": [],
   "source": [
    "x is y"
   ]
  },
  {
   "cell_type": "code",
   "execution_count": null,
   "id": "012ee323",
   "metadata": {},
   "outputs": [],
   "source": [
    "x = y\n",
    "\n",
    "x is y"
   ]
  },
  {
   "cell_type": "code",
   "execution_count": null,
   "id": "5298c12e",
   "metadata": {},
   "outputs": [],
   "source": [
    "x"
   ]
  },
  {
   "cell_type": "code",
   "execution_count": null,
   "id": "a1f21120",
   "metadata": {},
   "outputs": [],
   "source": [
    "x is not y"
   ]
  },
  {
   "cell_type": "markdown",
   "id": "c22bb81d",
   "metadata": {},
   "source": [
    "# Indentazione\n",
    "\n",
    "L'**indentazione** si riferisce agli spazi all'inizio di una linea di codice. Mentre in altri linguaggi di programmazione l'indentazione del codice è utilizzata soltanto per leggibilità, essa è molto importante in Python dato che è utilizzata per indicare un blocco di codice. Un livello di indentazione corrisponde a 4 spazi bianchi o una tabulazione."
   ]
  },
  {
   "cell_type": "code",
   "execution_count": null,
   "id": "8248ab69",
   "metadata": {},
   "outputs": [],
   "source": [
    "with open('file.txt', 'w') as file:\n",
    "   file.write(x)"
   ]
  },
  {
   "cell_type": "markdown",
   "id": "ec6239a7",
   "metadata": {},
   "source": [
    "# Comandi Condizionali\n",
    "\n",
    "Il flusso di esecuzione di un programma (solitmante lineare) può essere alterato usando i comandi**condizionali** che regolano il flusso in base ai valori di verità di terminate condizioni. Le condizioni sono valutate e processate usando i valori booleani."
   ]
  },
  {
   "cell_type": "markdown",
   "id": "4094138c",
   "metadata": {},
   "source": [
    "## `if`\n",
    "\n",
    "Il comando `if` è il principale comando relativo alla gestione del flusso. Con il comando `if` il blocco di codice viene eseguito solo nel caso in cui venga soddisfatta una specifica condizione.\n",
    "\n",
    "```\n",
    "if coondizione:\n",
    "    blocco\n",
    "```"
   ]
  },
  {
   "cell_type": "code",
   "execution_count": null,
   "id": "ab0ee14d",
   "metadata": {},
   "outputs": [],
   "source": [
    "voto = 25\n",
    "\n",
    "if voto >= 18:\n",
    "    print('Esame superato.')"
   ]
  },
  {
   "cell_type": "code",
   "execution_count": null,
   "id": "0d0c0ec2",
   "metadata": {},
   "outputs": [],
   "source": [
    "voto = 17\n",
    "\n",
    "if voto >= 18:\n",
    "    print('Esame superato.')"
   ]
  },
  {
   "cell_type": "code",
   "execution_count": null,
   "id": "39a2ab0e",
   "metadata": {},
   "outputs": [],
   "source": [
    "if voto >= 18:\n",
    "    print('Esame superato.')\n",
    "\n",
    "print('Torna a studiare.')"
   ]
  },
  {
   "cell_type": "code",
   "execution_count": null,
   "id": "0c894aa5",
   "metadata": {},
   "outputs": [],
   "source": [
    "voto = 25\n",
    "\n",
    "if voto >= 18:\n",
    "    print('Esame superato.')\n",
    "\n",
    "print('Torna a studiare.')"
   ]
  },
  {
   "cell_type": "markdown",
   "id": "2a2d600e",
   "metadata": {},
   "source": [
    "## `if-else`\n",
    "\n",
    "Il comando `if-else` viene utilizzato quando vogliamo avere un blocco di codice da eseguire sia nel caso in cui la condizione sia vera, sia quando essa sia falsa. Nel primo caso, verrà eseguito il codice nel blocco `if`, nel secondo verrà eseguito il codice nel blocco `else`.\n",
    "\n",
    "```\n",
    "if condizione:\n",
    "    blocco1\n",
    "else:\n",
    "    blocco2\n",
    "```"
   ]
  },
  {
   "cell_type": "code",
   "execution_count": null,
   "id": "992edf71",
   "metadata": {},
   "outputs": [],
   "source": [
    "voto = 17\n",
    "\n",
    "if voto >= 18:\n",
    "    print('Esame superato.')\n",
    "\n",
    "if voto < 18:\n",
    "    print('Esame fallito.')"
   ]
  },
  {
   "cell_type": "code",
   "execution_count": null,
   "id": "07281ed8",
   "metadata": {},
   "outputs": [],
   "source": [
    "if voto >= 18:\n",
    "    print('Esame superato.')\n",
    "else:\n",
    "    print('Esame fallito.')"
   ]
  },
  {
   "cell_type": "code",
   "execution_count": null,
   "id": "2273e654",
   "metadata": {},
   "outputs": [],
   "source": [
    "voto = 24\n",
    "\n",
    "if voto >= 18:\n",
    "    print('Esame superato.')\n",
    "else:\n",
    "    print('Esame fallito.')"
   ]
  },
  {
   "cell_type": "markdown",
   "id": "efaa8cfa",
   "metadata": {},
   "source": [
    "## `if-elif-else`\n",
    "\n",
    "Con questo comando, si controlla prima la condizione dell'`if`. Se è falsa, si controllano le sottocondizioni dei comandi `elif`; se anch'esse risultano false, verrà eseguito il codice nel blocco `else`.\n",
    "\n",
    "```\n",
    "if condizione1:\n",
    "    blocco1\n",
    "elif condizione2:\n",
    "    blocco2\n",
    "else:\n",
    "    blocco3\n",
    "```"
   ]
  },
  {
   "cell_type": "code",
   "execution_count": null,
   "id": "4868860e",
   "metadata": {},
   "outputs": [],
   "source": [
    "voto = 23"
   ]
  },
  {
   "cell_type": "code",
   "execution_count": null,
   "id": "047bdb5d",
   "metadata": {},
   "outputs": [],
   "source": [
    "if voto >= 24:\n",
    "    print('Esame superato.')\n",
    "    print('Complimenti.')\n",
    "elif (voto > 18) and (voto < 24):\n",
    "    print('Esame superato.')\n",
    "elif voto == 18:\n",
    "    print('Esame superato col minimo voto.')\n",
    "else:\n",
    "    print('Esame fallito.')"
   ]
  },
  {
   "cell_type": "code",
   "execution_count": null,
   "id": "6c5fdd21",
   "metadata": {},
   "outputs": [],
   "source": [
    "voto = 25"
   ]
  },
  {
   "cell_type": "code",
   "execution_count": null,
   "id": "9c295ce5",
   "metadata": {},
   "outputs": [],
   "source": [
    "if voto >= 24:\n",
    "    print('Esame superato.')\n",
    "    print('Complimenti.')\n",
    "elif voto > 18:\n",
    "    print('Esame superato.')\n",
    "elif voto == 18:\n",
    "    print('Esame superato col minimo voto.')\n",
    "else:\n",
    "    print('Esame fallito.')"
   ]
  },
  {
   "cell_type": "markdown",
   "id": "694f0ea9",
   "metadata": {},
   "source": [
    "## Comandi `if` Annidati\n",
    "\n",
    "Un comando `if` annidato è un comando in cui un `if` è presente all'interno di un altro `if`. Tipicamente comandi di questo tipo si possono riscrivere in modo più leggibile con `if-elif-else`.\n",
    "\n",
    "```\n",
    "if condizione1:\n",
    "    if condizione2:\n",
    "        blocco1\n",
    "    else:\n",
    "        blocco2\n",
    "else:\n",
    "    blocco3\n",
    "```"
   ]
  },
  {
   "cell_type": "code",
   "execution_count": null,
   "id": "906f0f6e",
   "metadata": {},
   "outputs": [],
   "source": [
    "v1 = 15\n",
    "v2 = 23"
   ]
  },
  {
   "cell_type": "code",
   "execution_count": null,
   "id": "a16b5188",
   "metadata": {},
   "outputs": [],
   "source": [
    "if v1 >= 18:\n",
    "    print('Hai superato la prima prova.')\n",
    "    \n",
    "    if v2 >= 18:\n",
    "        voto = (v1+v2)/2\n",
    "        print(f'Hai superato l\"esame con un voto di {voto}.')\n",
    "    else:\n",
    "        print('Non hai superato la seconda prova.')\n",
    "else:\n",
    "    print('Non hai superato la prima prova.')"
   ]
  },
  {
   "cell_type": "markdown",
   "id": "6a588948",
   "metadata": {},
   "source": [
    "## Comando `if` su Singola Linea\n",
    "\n",
    "Un comando `if` può essere espresso su una singola linea di codice se bisogna controllare una sola condizione.\n",
    "\n",
    "```\n",
    "if condizione: espressione\n",
    "```"
   ]
  },
  {
   "cell_type": "code",
   "execution_count": null,
   "id": "c6d7d23f",
   "metadata": {},
   "outputs": [],
   "source": [
    "nomi = ['Alice', 'Bruno', 'Carlo']"
   ]
  },
  {
   "cell_type": "code",
   "execution_count": null,
   "id": "05fb75b8",
   "metadata": {},
   "outputs": [],
   "source": [
    "if 'Bruno' in nomi:\n",
    "    print('Ciao Bruno!')"
   ]
  },
  {
   "cell_type": "code",
   "execution_count": null,
   "id": "21595200",
   "metadata": {},
   "outputs": [],
   "source": [
    "if 'Bruno' in nomi: print('Ciao Bruno!')"
   ]
  },
  {
   "cell_type": "markdown",
   "id": "7e7675da",
   "metadata": {},
   "source": [
    "## Operatore Ternario\n",
    "\n",
    "Un operatore ternario è utilizzato per esprimere sulla stessa linea un comando `if-else` con una singola condizione da controllare.\n",
    "\n",
    "```\n",
    "espressione1 if condizione else espressione2\n",
    "```"
   ]
  },
  {
   "cell_type": "code",
   "execution_count": null,
   "id": "7cd53a3c",
   "metadata": {},
   "outputs": [],
   "source": [
    "nome = 'Daniele'"
   ]
  },
  {
   "cell_type": "code",
   "execution_count": null,
   "id": "2ea0d905",
   "metadata": {},
   "outputs": [],
   "source": [
    "print(f'Ciao {nome}') if nome in nomi else nomi.append(nome)"
   ]
  },
  {
   "cell_type": "code",
   "execution_count": null,
   "id": "ac57a37e",
   "metadata": {},
   "outputs": [],
   "source": [
    "nomi"
   ]
  },
  {
   "cell_type": "code",
   "execution_count": null,
   "id": "01d1734a",
   "metadata": {},
   "outputs": [],
   "source": [
    "print(f'Ciao {nome}') if nome in nomi else nomi.append(nome)"
   ]
  },
  {
   "cell_type": "markdown",
   "id": "8d233ad2-af97-441a-94e0-822662f88a0a",
   "metadata": {},
   "source": [
    "# Esercizi"
   ]
  },
  {
   "cell_type": "markdown",
   "id": "340769a7-1c64-49a8-920a-33684fa5e56c",
   "metadata": {},
   "source": [
    "Scrivere un programma che converta una temperatura in base alla sua unità di misura, ad esempio da Celsius a Fahrenheit o viceversa. Temperatura ed unità di misura sono specificate da una tupla `(temperatura, unità)`"
   ]
  },
  {
   "cell_type": "code",
   "execution_count": null,
   "id": "d06b617d-2d3d-4eaf-bee7-cdcac736e92c",
   "metadata": {},
   "outputs": [],
   "source": []
  },
  {
   "cell_type": "markdown",
   "id": "9c51738f",
   "metadata": {},
   "source": [
    "Scrivere un programma che stampi il numero di giorni in uno specifico mese e, nel caso di febbraio, controlli anche se l'anno è bisestile."
   ]
  },
  {
   "cell_type": "code",
   "execution_count": null,
   "id": "16916b50-9f25-4184-8d2a-415c58bd64c2",
   "metadata": {},
   "outputs": [],
   "source": []
  },
  {
   "cell_type": "markdown",
   "id": "0fb5acac-10af-4690-81ce-febe7340b76d",
   "metadata": {},
   "source": [
    "In un corso di laurea, al punteggio derivante dalla media dei voti si può aggiungere un punto extra qualora:\n",
    "\n",
    "- Non si ha mai passato un esame con 18 ad esclusione dei primi due\n",
    "- Non si ha mai passato un esame con meno di 22\n",
    "- Si ha passato almeno un esame con 30 e lode\n",
    "- La media degli ultimi due esami è maggiore o uguale alla media dei primi due.\n",
    "\n",
    "Scrivere un programma che calcoli i punti bonus a partire dalla lista dei voti di uno studente (indicare 30 e lode con 31)."
   ]
  },
  {
   "cell_type": "code",
   "execution_count": null,
   "id": "263108a3-e28f-40ce-97c4-7e753536684b",
   "metadata": {},
   "outputs": [],
   "source": []
  },
  {
   "cell_type": "markdown",
   "id": "27fbde99-c7e5-4b73-b962-ac1fa79de99e",
   "metadata": {},
   "source": [
    "Scrivere un programma che dato il valore di input `x` calcoli il valore della seguente fuzione definita a tratti:\n",
    "$$\n",
    "f(x)=\n",
    "\\begin{cases}\n",
    "2x+1\\quad x > 2\\\\\n",
    "x^2 + 1\\quad 1 \\le x \\le 2\\\\\n",
    "2 - x\\quad x < 1\n",
    "\\end{cases}\n",
    "$$"
   ]
  },
  {
   "cell_type": "code",
   "execution_count": null,
   "id": "b1f7abd5-3813-478a-a504-d4a03df1bb8d",
   "metadata": {},
   "outputs": [],
   "source": []
  },
  {
   "cell_type": "markdown",
   "id": "89debf4e-792e-4710-a342-a01f14ed149a",
   "metadata": {},
   "source": [
    "Srivere un programma che calcoli la divisione fra due numeri preoccupandosi che il denominatore non sia zero e, nel caso lo sia, stampi una stringa di errore. "
   ]
  },
  {
   "cell_type": "code",
   "execution_count": null,
   "id": "7b78b813-52ae-42f6-a0ad-462902a4aaf5",
   "metadata": {},
   "outputs": [],
   "source": []
  },
  {
   "cell_type": "markdown",
   "id": "31e1c363-4849-4208-b51c-508419af38a2",
   "metadata": {},
   "source": [
    "Scrivere un programma per classificare in fasce fiscali in base all'importo del reddito e calcolare la tassazione. Si usino le sequenti fasce ed aliquote:\n",
    "- Se il reddito è inferiore a 30.000 €, viene classificato come “Reddito Basso” con un'aliquota fiscale del 10%.\n",
    "- Se il reddito è compreso tra 30.000 e 60.000 €, classificarlo come “Reddito Medio” con un'aliquota fiscale del 15%.\n",
    "- Se il reddito è compreso tra i 60.000 e i 120.000 € si classifica come “Reddito Medio Alto” con un'aliquota fiscale del 20%.\n",
    "- Se il reddito è superiore a 120.000 €, viene classificato come “Reddito Alto” con un'aliquota fiscale del 25%.\n",
    "\n",
    "Stampare una stringa nel formato `Il reddito {} € appartiene alla fascia {}\\nLe tasse dovute ammontano a {} €.`"
   ]
  },
  {
   "cell_type": "code",
   "execution_count": null,
   "id": "24f0ee24-8d70-4bf6-9816-d0dbfe1bd656",
   "metadata": {},
   "outputs": [],
   "source": []
  },
  {
   "cell_type": "markdown",
   "id": "21d7f247-6c1b-4826-b503-6dfda3ec2540",
   "metadata": {},
   "source": [
    "Scrivere un programma che data una tripla di stringhe `(stringa1, stringa2, stringa3)` sostituisca tutte le occorrenze di quella più corta all'interno di quella più lunga con quella intermedia."
   ]
  },
  {
   "cell_type": "code",
   "execution_count": null,
   "id": "a753afb7-4e10-488b-aee9-e5e3df2e3555",
   "metadata": {},
   "outputs": [],
   "source": []
  }
 ],
 "metadata": {
  "kernelspec": {
   "display_name": "Python 3 (ipykernel)",
   "language": "python",
   "name": "python3"
  },
  "language_info": {
   "codemirror_mode": {
    "name": "ipython",
    "version": 3
   },
   "file_extension": ".py",
   "mimetype": "text/x-python",
   "name": "python",
   "nbconvert_exporter": "python",
   "pygments_lexer": "ipython3",
   "version": "3.12.2"
  }
 },
 "nbformat": 4,
 "nbformat_minor": 5
}
