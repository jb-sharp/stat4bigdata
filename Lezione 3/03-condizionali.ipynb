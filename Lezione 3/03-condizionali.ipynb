{
 "cells": [
  {
   "cell_type": "markdown",
   "id": "a07719bc",
   "metadata": {},
   "source": [
    "# Tipo Booleano\n",
    "\n",
    "I **valori booleani** come abbiamo visto, possono assumere i valori `False` o `True`. Sono utilizzati per rappresentare valori di verità di condizioni. Altri tipi possono essere utilizzati con funzioni simili: ad esempio, nel caso degli interi, `0` e `1` possono essere utilizzati rispettivamente come se fossero `False` e `True`."
   ]
  },
  {
   "cell_type": "code",
   "execution_count": 1,
   "id": "dcb98fab",
   "metadata": {},
   "outputs": [
    {
     "data": {
      "text/plain": [
       "True"
      ]
     },
     "execution_count": 1,
     "metadata": {},
     "output_type": "execute_result"
    }
   ],
   "source": [
    "True"
   ]
  },
  {
   "cell_type": "code",
   "execution_count": 2,
   "id": "d19d6704",
   "metadata": {},
   "outputs": [
    {
     "data": {
      "text/plain": [
       "False"
      ]
     },
     "execution_count": 2,
     "metadata": {},
     "output_type": "execute_result"
    }
   ],
   "source": [
    "False"
   ]
  },
  {
   "cell_type": "code",
   "execution_count": 3,
   "id": "06b0e175",
   "metadata": {},
   "outputs": [
    {
     "data": {
      "text/plain": [
       "bool"
      ]
     },
     "execution_count": 3,
     "metadata": {},
     "output_type": "execute_result"
    }
   ],
   "source": [
    "type(True)"
   ]
  },
  {
   "cell_type": "markdown",
   "id": "5a042000",
   "metadata": {},
   "source": [
    "La funzione integrata `bool()` può essere utilizzata per convertire qualsiasi valore in un booleano, nel caso in cui tale valore può essere interpretato come un valore di verità. Spesso però, quando occorre, la conversione è fatta implicitamente."
   ]
  },
  {
   "cell_type": "code",
   "execution_count": 6,
   "id": "56a68a26",
   "metadata": {},
   "outputs": [
    {
     "data": {
      "text/plain": [
       "True"
      ]
     },
     "execution_count": 6,
     "metadata": {},
     "output_type": "execute_result"
    }
   ],
   "source": [
    "bool(1)"
   ]
  },
  {
   "cell_type": "code",
   "execution_count": 7,
   "id": "684f24ec",
   "metadata": {},
   "outputs": [
    {
     "data": {
      "text/plain": [
       "False"
      ]
     },
     "execution_count": 7,
     "metadata": {},
     "output_type": "execute_result"
    }
   ],
   "source": [
    "bool(0)"
   ]
  },
  {
   "cell_type": "code",
   "execution_count": 8,
   "id": "cebc9860",
   "metadata": {},
   "outputs": [
    {
     "data": {
      "text/plain": [
       "False"
      ]
     },
     "execution_count": 8,
     "metadata": {},
     "output_type": "execute_result"
    }
   ],
   "source": [
    "bool('')"
   ]
  },
  {
   "cell_type": "code",
   "execution_count": 9,
   "id": "879bd319",
   "metadata": {},
   "outputs": [
    {
     "data": {
      "text/plain": [
       "True"
      ]
     },
     "execution_count": 9,
     "metadata": {},
     "output_type": "execute_result"
    }
   ],
   "source": [
    "bool('ciao')"
   ]
  },
  {
   "cell_type": "code",
   "execution_count": 10,
   "id": "1f396da1",
   "metadata": {},
   "outputs": [
    {
     "data": {
      "text/plain": [
       "True"
      ]
     },
     "execution_count": 10,
     "metadata": {},
     "output_type": "execute_result"
    }
   ],
   "source": [
    "bool('False')"
   ]
  },
  {
   "cell_type": "code",
   "execution_count": 11,
   "id": "16668f01",
   "metadata": {},
   "outputs": [
    {
     "data": {
      "text/plain": [
       "False"
      ]
     },
     "execution_count": 11,
     "metadata": {},
     "output_type": "execute_result"
    }
   ],
   "source": [
    "bool([])"
   ]
  },
  {
   "cell_type": "code",
   "execution_count": 12,
   "id": "69155497",
   "metadata": {},
   "outputs": [
    {
     "data": {
      "text/plain": [
       "True"
      ]
     },
     "execution_count": 12,
     "metadata": {},
     "output_type": "execute_result"
    }
   ],
   "source": [
    "bool([1, 2, 3])"
   ]
  },
  {
   "cell_type": "markdown",
   "id": "ed1df369",
   "metadata": {},
   "source": [
    "## Operatori Logici\n",
    "\n",
    "In Python, gli **operatori logici** sono quelli che prendono in input valori booleani e restituiscono risultati booleani.\n",
    "\n",
    "L'operatore logico `and` restituisce `True` se e solo se i due operandi hanno entrambi valore *true*."
   ]
  },
  {
   "cell_type": "code",
   "execution_count": 13,
   "id": "f8ba85b7",
   "metadata": {},
   "outputs": [
    {
     "data": {
      "text/plain": [
       "True"
      ]
     },
     "execution_count": 13,
     "metadata": {},
     "output_type": "execute_result"
    }
   ],
   "source": [
    "True and True"
   ]
  },
  {
   "cell_type": "code",
   "execution_count": 14,
   "id": "5bcdaa41",
   "metadata": {},
   "outputs": [
    {
     "data": {
      "text/plain": [
       "False"
      ]
     },
     "execution_count": 14,
     "metadata": {},
     "output_type": "execute_result"
    }
   ],
   "source": [
    "True and False"
   ]
  },
  {
   "cell_type": "code",
   "execution_count": 15,
   "id": "945f2391",
   "metadata": {},
   "outputs": [
    {
     "data": {
      "text/plain": [
       "True"
      ]
     },
     "execution_count": 15,
     "metadata": {},
     "output_type": "execute_result"
    }
   ],
   "source": [
    "4 > 2 and 2 < 10"
   ]
  },
  {
   "cell_type": "code",
   "execution_count": 16,
   "id": "a17a06f9",
   "metadata": {},
   "outputs": [
    {
     "data": {
      "text/plain": [
       "False"
      ]
     },
     "execution_count": 16,
     "metadata": {},
     "output_type": "execute_result"
    }
   ],
   "source": [
    "4 > 2 and bool(0)"
   ]
  },
  {
   "cell_type": "code",
   "execution_count": 17,
   "id": "6f0bf886",
   "metadata": {},
   "outputs": [
    {
     "name": "stdout",
     "output_type": "stream",
     "text": [
      "True\n",
      "False\n",
      "False\n",
      "False\n"
     ]
    }
   ],
   "source": [
    "print(True and True)\n",
    "print(True and False)\n",
    "print(False and True)\n",
    "print(False and False)"
   ]
  },
  {
   "cell_type": "code",
   "execution_count": 19,
   "id": "00d278d4",
   "metadata": {},
   "outputs": [
    {
     "name": "stdout",
     "output_type": "stream",
     "text": [
      "True\n"
     ]
    }
   ],
   "source": [
    "print((True and True) and True)"
   ]
  },
  {
   "cell_type": "code",
   "execution_count": 20,
   "id": "0df9d165",
   "metadata": {},
   "outputs": [
    {
     "name": "stdout",
     "output_type": "stream",
     "text": [
      "False\n"
     ]
    }
   ],
   "source": [
    "print((True and False) and True)"
   ]
  },
  {
   "cell_type": "markdown",
   "id": "85ed6e4c",
   "metadata": {},
   "source": [
    "L'operatore logico `or` restituisce `True` se almeno uno degli operandi ha valore *true*."
   ]
  },
  {
   "cell_type": "code",
   "execution_count": 21,
   "id": "fd6ec4c0",
   "metadata": {},
   "outputs": [
    {
     "data": {
      "text/plain": [
       "True"
      ]
     },
     "execution_count": 21,
     "metadata": {},
     "output_type": "execute_result"
    }
   ],
   "source": [
    "True or False"
   ]
  },
  {
   "cell_type": "code",
   "execution_count": 22,
   "id": "6c4a2a37",
   "metadata": {},
   "outputs": [
    {
     "data": {
      "text/plain": [
       "True"
      ]
     },
     "execution_count": 22,
     "metadata": {},
     "output_type": "execute_result"
    }
   ],
   "source": [
    "4 > 2 or bool(0)"
   ]
  },
  {
   "cell_type": "code",
   "execution_count": 23,
   "id": "16b64321",
   "metadata": {},
   "outputs": [
    {
     "name": "stdout",
     "output_type": "stream",
     "text": [
      "True\n",
      "True\n",
      "True\n",
      "False\n"
     ]
    }
   ],
   "source": [
    "print(True or True)\n",
    "print(True or False)\n",
    "print(False or True)\n",
    "print(False or False)"
   ]
  },
  {
   "cell_type": "markdown",
   "id": "56909127",
   "metadata": {},
   "source": [
    "L'operatore logico `not` (che ha un solo operando come input) inverte il risultato dell'operando, restituendo `False` quando ha valore `True` e viceversa."
   ]
  },
  {
   "cell_type": "code",
   "execution_count": 24,
   "id": "a037b1cd",
   "metadata": {},
   "outputs": [
    {
     "data": {
      "text/plain": [
       "True"
      ]
     },
     "execution_count": 24,
     "metadata": {},
     "output_type": "execute_result"
    }
   ],
   "source": [
    "not False"
   ]
  },
  {
   "cell_type": "code",
   "execution_count": 25,
   "id": "2a7274ee",
   "metadata": {},
   "outputs": [
    {
     "data": {
      "text/plain": [
       "False"
      ]
     },
     "execution_count": 25,
     "metadata": {},
     "output_type": "execute_result"
    }
   ],
   "source": [
    "not True"
   ]
  },
  {
   "cell_type": "code",
   "execution_count": 26,
   "id": "ce7ee1a1",
   "metadata": {},
   "outputs": [
    {
     "data": {
      "text/plain": [
       "True"
      ]
     },
     "execution_count": 26,
     "metadata": {},
     "output_type": "execute_result"
    }
   ],
   "source": [
    "(not True and not False) or True"
   ]
  },
  {
   "cell_type": "markdown",
   "id": "4437f840",
   "metadata": {},
   "source": [
    "## Operatori di Confronto\n",
    "\n",
    "Gli **operatori di confronto** sono usati per confrontare diversi valori di un tipo di fato.\n",
    "\n",
    "L'operatore confronto `==` controlla se i valori dei due operandi sono uguali. Tale operatore può essere usato sia con tipi numerici che anche con altri tipi."
   ]
  },
  {
   "cell_type": "code",
   "execution_count": 27,
   "id": "a6fed260",
   "metadata": {},
   "outputs": [],
   "source": [
    "# Assegnamento\n",
    "x = 5\n",
    "y = 10"
   ]
  },
  {
   "cell_type": "code",
   "execution_count": 28,
   "id": "5b9381b6",
   "metadata": {},
   "outputs": [
    {
     "data": {
      "text/plain": [
       "False"
      ]
     },
     "execution_count": 28,
     "metadata": {},
     "output_type": "execute_result"
    }
   ],
   "source": [
    "# Uguaglianza\n",
    "x == y"
   ]
  },
  {
   "cell_type": "code",
   "execution_count": 29,
   "id": "1ff93948",
   "metadata": {},
   "outputs": [
    {
     "data": {
      "text/plain": [
       "True"
      ]
     },
     "execution_count": 29,
     "metadata": {},
     "output_type": "execute_result"
    }
   ],
   "source": [
    "x == 5"
   ]
  },
  {
   "cell_type": "code",
   "execution_count": 30,
   "id": "f59073f3",
   "metadata": {},
   "outputs": [
    {
     "data": {
      "text/plain": [
       "True"
      ]
     },
     "execution_count": 30,
     "metadata": {},
     "output_type": "execute_result"
    }
   ],
   "source": [
    "5 == 2 + 3"
   ]
  },
  {
   "cell_type": "code",
   "execution_count": 31,
   "id": "56ade6da-f8ca-4c9a-b2ec-11285eb6acbc",
   "metadata": {},
   "outputs": [
    {
     "data": {
      "text/plain": [
       "True"
      ]
     },
     "execution_count": 31,
     "metadata": {},
     "output_type": "execute_result"
    }
   ],
   "source": [
    "\"ciao\" == \"ciao\""
   ]
  },
  {
   "cell_type": "code",
   "execution_count": 32,
   "id": "7b84f064-f609-4f11-b9c7-db1991c795a5",
   "metadata": {},
   "outputs": [
    {
     "data": {
      "text/plain": [
       "False"
      ]
     },
     "execution_count": 32,
     "metadata": {},
     "output_type": "execute_result"
    }
   ],
   "source": [
    "\"Ciao\" == \"ciao\""
   ]
  },
  {
   "cell_type": "code",
   "execution_count": 33,
   "id": "308627e2-f39f-4fe8-b953-cef66a8bd0a1",
   "metadata": {},
   "outputs": [
    {
     "data": {
      "text/plain": [
       "True"
      ]
     },
     "execution_count": 33,
     "metadata": {},
     "output_type": "execute_result"
    }
   ],
   "source": [
    "[1,2,3] == [1,2,3]"
   ]
  },
  {
   "cell_type": "markdown",
   "id": "0e1d7801",
   "metadata": {},
   "source": [
    "L'operatore confronto `!=` controlla se i valori dei due operandi sono diversi."
   ]
  },
  {
   "cell_type": "code",
   "execution_count": 34,
   "id": "037392b0",
   "metadata": {},
   "outputs": [
    {
     "data": {
      "text/plain": [
       "True"
      ]
     },
     "execution_count": 34,
     "metadata": {},
     "output_type": "execute_result"
    }
   ],
   "source": [
    "x != y"
   ]
  },
  {
   "cell_type": "code",
   "execution_count": 35,
   "id": "6998f0e4",
   "metadata": {},
   "outputs": [
    {
     "data": {
      "text/plain": [
       "False"
      ]
     },
     "execution_count": 35,
     "metadata": {},
     "output_type": "execute_result"
    }
   ],
   "source": [
    "x != 5"
   ]
  },
  {
   "cell_type": "code",
   "execution_count": 36,
   "id": "bdc78873-413d-4f74-8475-828433426911",
   "metadata": {},
   "outputs": [
    {
     "data": {
      "text/plain": [
       "True"
      ]
     },
     "execution_count": 36,
     "metadata": {},
     "output_type": "execute_result"
    }
   ],
   "source": [
    "\"Ciao\" != \"ciao\""
   ]
  },
  {
   "cell_type": "code",
   "execution_count": 37,
   "id": "d0544725-1701-4f03-bad3-cefd9462fbc1",
   "metadata": {},
   "outputs": [
    {
     "data": {
      "text/plain": [
       "True"
      ]
     },
     "execution_count": 37,
     "metadata": {},
     "output_type": "execute_result"
    }
   ],
   "source": [
    "[1,2,3] != []"
   ]
  },
  {
   "cell_type": "markdown",
   "id": "465db31d",
   "metadata": {},
   "source": [
    "L'operatore confronto `>` controlla se il valore a sinistra dell'operando è maggiore del valore dell'operando a destra, mentre `>=` controlla se il valore dell'operando a sinistra è maggiore o uguale del valore dell'operando a destra."
   ]
  },
  {
   "cell_type": "code",
   "execution_count": 39,
   "id": "be3d0ffe",
   "metadata": {},
   "outputs": [
    {
     "data": {
      "text/plain": [
       "False"
      ]
     },
     "execution_count": 39,
     "metadata": {},
     "output_type": "execute_result"
    }
   ],
   "source": [
    "10 >= 5\n",
    "x >= y"
   ]
  },
  {
   "cell_type": "markdown",
   "id": "6e1d8e57",
   "metadata": {},
   "source": [
    "L'operatore confronto `<` controlla se il valore a sinistra dell'operando è minore del valore dell'operando a destra, mentre `<=` controlla se il valore dell'operando a sinistra è minore o uguale del valore dell'operando a destra."
   ]
  },
  {
   "cell_type": "code",
   "execution_count": 41,
   "id": "f7de23d8",
   "metadata": {},
   "outputs": [
    {
     "data": {
      "text/plain": [
       "True"
      ]
     },
     "execution_count": 41,
     "metadata": {},
     "output_type": "execute_result"
    }
   ],
   "source": [
    "20 <= 10\n",
    "x <= y"
   ]
  },
  {
   "cell_type": "markdown",
   "id": "ef327c7c-407e-4e06-950e-2760ed4081d7",
   "metadata": {},
   "source": [
    "Gli operatori di confronto `<`, `>` possono essere usati anche per confrontare tipi di dato non numerici, nel caso di tipi di dato sequenziali (stringhe, liste, tuple...) viene usato l'ordine **lessicografico** (ovvero quello del dizionario).\n",
    "\n",
    "Se il primo elemento della sequenza è maggiore (`d` viene dopo `c`) allora la prima sequenza sarà maggiore della sequenza, se invece sono uguali si continua a confrontare i successivi elementi."
   ]
  },
  {
   "cell_type": "code",
   "execution_count": 42,
   "id": "bf76305b-f4f5-4d74-8b7c-6fe44687f63d",
   "metadata": {},
   "outputs": [
    {
     "data": {
      "text/plain": [
       "True"
      ]
     },
     "execution_count": 42,
     "metadata": {},
     "output_type": "execute_result"
    }
   ],
   "source": [
    "# d > c\n",
    "\"dado\" > \"cima\""
   ]
  },
  {
   "cell_type": "code",
   "execution_count": 43,
   "id": "0285c9e2-1320-4601-9856-3c83b98b6aef",
   "metadata": {},
   "outputs": [
    {
     "data": {
      "text/plain": [
       "False"
      ]
     },
     "execution_count": 43,
     "metadata": {},
     "output_type": "execute_result"
    }
   ],
   "source": [
    "# 1 < 6\n",
    "[1,2,3] > [6,2]"
   ]
  },
  {
   "cell_type": "markdown",
   "id": "df7b2c7f",
   "metadata": {},
   "source": [
    "## Altri Operatori\n",
    "\n",
    "Gli **operatori di appartenenza** in Python testano l'appartenenza di un elemento ad una sequenza, come una stringa, lista o tupla. L'operatore `in` restituisce `True` se l'elemento è presente all'interno della specifica sequenza; l'operatore `not in` restituisce `True` se invece l'elemento non compare nella sequenza."
   ]
  },
  {
   "cell_type": "code",
   "execution_count": 44,
   "id": "e4f66d3b",
   "metadata": {},
   "outputs": [
    {
     "data": {
      "text/plain": [
       "True"
      ]
     },
     "execution_count": 44,
     "metadata": {},
     "output_type": "execute_result"
    }
   ],
   "source": [
    "'a' in 'mela'"
   ]
  },
  {
   "cell_type": "code",
   "execution_count": 45,
   "id": "a223a66f",
   "metadata": {},
   "outputs": [
    {
     "data": {
      "text/plain": [
       "False"
      ]
     },
     "execution_count": 45,
     "metadata": {},
     "output_type": "execute_result"
    }
   ],
   "source": [
    "5 in [1, 2, 3]"
   ]
  },
  {
   "cell_type": "code",
   "execution_count": 46,
   "id": "a947ad85",
   "metadata": {},
   "outputs": [
    {
     "data": {
      "text/plain": [
       "True"
      ]
     },
     "execution_count": 46,
     "metadata": {},
     "output_type": "execute_result"
    }
   ],
   "source": [
    "5 not in [1, 2, 3]"
   ]
  },
  {
   "cell_type": "markdown",
   "id": "4e34c4c4",
   "metadata": {},
   "source": [
    "L'**operatore identità** compara i valori contenuti all'interno di variabili. L'operatore `is` restituisce `True` se entrambe le variabili contengono lo stesso valore; l'operatore `is not` restituisce `True` se le variabili non contengono lo stesso valore."
   ]
  },
  {
   "cell_type": "code",
   "execution_count": 47,
   "id": "b473cb75",
   "metadata": {},
   "outputs": [
    {
     "data": {
      "text/plain": [
       "False"
      ]
     },
     "execution_count": 47,
     "metadata": {},
     "output_type": "execute_result"
    }
   ],
   "source": [
    "x is y"
   ]
  },
  {
   "cell_type": "code",
   "execution_count": 48,
   "id": "012ee323",
   "metadata": {},
   "outputs": [
    {
     "data": {
      "text/plain": [
       "True"
      ]
     },
     "execution_count": 48,
     "metadata": {},
     "output_type": "execute_result"
    }
   ],
   "source": [
    "x = y\n",
    "\n",
    "x is y"
   ]
  },
  {
   "cell_type": "code",
   "execution_count": 49,
   "id": "5298c12e",
   "metadata": {},
   "outputs": [
    {
     "data": {
      "text/plain": [
       "10"
      ]
     },
     "execution_count": 49,
     "metadata": {},
     "output_type": "execute_result"
    }
   ],
   "source": [
    "x"
   ]
  },
  {
   "cell_type": "code",
   "execution_count": 50,
   "id": "a1f21120",
   "metadata": {},
   "outputs": [
    {
     "data": {
      "text/plain": [
       "False"
      ]
     },
     "execution_count": 50,
     "metadata": {},
     "output_type": "execute_result"
    }
   ],
   "source": [
    "x is not y"
   ]
  },
  {
   "cell_type": "markdown",
   "id": "c22bb81d",
   "metadata": {},
   "source": [
    "# Indentazione\n",
    "\n",
    "L'**indentazione** si riferisce agli spazi all'inizio di una linea di codice. Mentre in altri linguaggi di programmazione l'indentazione del codice è utilizzata soltanto per leggibilità, essa è molto importante in Python dato che è utilizzata per indicare un blocco di codice. Un livello di indentazione corrisponde a 4 spazi bianchi o una tabulazione."
   ]
  },
  {
   "cell_type": "code",
   "execution_count": 52,
   "id": "8248ab69",
   "metadata": {},
   "outputs": [
    {
     "name": "stdout",
     "output_type": "stream",
     "text": [
      "Fuori dal with\n"
     ]
    }
   ],
   "source": [
    "with open('file.txt', 'w') as file:\n",
    "    file.write(str(x))\n",
    "print(\"Fuori dal with\")"
   ]
  },
  {
   "cell_type": "markdown",
   "id": "ec6239a7",
   "metadata": {},
   "source": [
    "# Comandi Condizionali\n",
    "\n",
    "Il flusso di esecuzione di un programma (solitamente lineare) può essere alterato usando i comandi **condizionali** che regolano il flusso in base ai valori di verità di determinate condizioni. Le condizioni sono valutate e processate usando dei tipi booleani."
   ]
  },
  {
   "cell_type": "markdown",
   "id": "4094138c",
   "metadata": {},
   "source": [
    "## `if`\n",
    "\n",
    "Il comando `if` è il principale comando relativo alla gestione del flusso. Con il comando `if` il successivo blocco di codice (per cui è importante l'indentazione) viene eseguito solo nel caso in cui venga soddisfatta una specifica condizione.\n",
    "\n",
    "```\n",
    "if condizione:\n",
    "    blocco\n",
    "```"
   ]
  },
  {
   "cell_type": "code",
   "execution_count": 53,
   "id": "ab0ee14d",
   "metadata": {},
   "outputs": [
    {
     "name": "stdout",
     "output_type": "stream",
     "text": [
      "Esame superato.\n"
     ]
    }
   ],
   "source": [
    "voto = 25\n",
    "\n",
    "if voto >= 18:\n",
    "    print('Esame superato.')"
   ]
  },
  {
   "cell_type": "code",
   "execution_count": 54,
   "id": "0d0c0ec2",
   "metadata": {},
   "outputs": [],
   "source": [
    "voto = 17\n",
    "\n",
    "if voto >= 18:\n",
    "    print('Esame superato.')"
   ]
  },
  {
   "cell_type": "code",
   "execution_count": 55,
   "id": "39a2ab0e",
   "metadata": {},
   "outputs": [
    {
     "name": "stdout",
     "output_type": "stream",
     "text": [
      "Torna a studiare.\n"
     ]
    }
   ],
   "source": [
    "if voto >= 18:\n",
    "    print('Esame superato.')\n",
    "\n",
    "# Questa linea, essendo fuori dal blocco if,\n",
    "# viene eseguita in ogni caso.\n",
    "print('Torna a studiare.')"
   ]
  },
  {
   "cell_type": "code",
   "execution_count": 56,
   "id": "0c894aa5",
   "metadata": {},
   "outputs": [
    {
     "name": "stdout",
     "output_type": "stream",
     "text": [
      "Esame superato.\n",
      "Torna a studiare.\n"
     ]
    }
   ],
   "source": [
    "voto = 25\n",
    "\n",
    "if voto >= 18:\n",
    "    print('Esame superato.')"
   ]
  },
  {
   "cell_type": "markdown",
   "id": "2a2d600e",
   "metadata": {},
   "source": [
    "## `if-else`\n",
    "\n",
    "Il comando `if-else` viene utilizzato quando vogliamo avere un blocco di codice da eseguire sia nel caso in cui la condizione è vera, sia quando essa è falsa. Nel primo caso, verrà eseguito il codice nel blocco `if`, nel secondo verrà eseguito il codice nel blocco `else`.\n",
    "\n",
    "```\n",
    "if condizione:\n",
    "    blocco1\n",
    "else:\n",
    "    blocco2\n",
    "```"
   ]
  },
  {
   "cell_type": "code",
   "execution_count": 57,
   "id": "992edf71",
   "metadata": {},
   "outputs": [
    {
     "name": "stdout",
     "output_type": "stream",
     "text": [
      "Esame fallito.\n"
     ]
    }
   ],
   "source": [
    "voto = 17\n",
    "\n",
    "if voto >= 18:\n",
    "    print('Esame superato.')\n",
    "\n",
    "if voto < 18:\n",
    "    print('Esame fallito.')"
   ]
  },
  {
   "cell_type": "code",
   "execution_count": 58,
   "id": "07281ed8",
   "metadata": {},
   "outputs": [
    {
     "name": "stdout",
     "output_type": "stream",
     "text": [
      "Esame fallito.\n"
     ]
    }
   ],
   "source": [
    "if voto >= 18:\n",
    "    print('Esame superato.')\n",
    "else:\n",
    "    print('Esame fallito.')"
   ]
  },
  {
   "cell_type": "code",
   "execution_count": 60,
   "id": "2273e654",
   "metadata": {},
   "outputs": [
    {
     "name": "stdout",
     "output_type": "stream",
     "text": [
      "Esame superato.\n",
      "Completato\n"
     ]
    }
   ],
   "source": [
    "voto = 24\n",
    "\n",
    "if voto >= 18:\n",
    "    print('Esame superato.')\n",
    "else:\n",
    "    print('Esame fallito.')\n",
    "\n",
    "print(\"Completato\")"
   ]
  },
  {
   "cell_type": "markdown",
   "id": "efaa8cfa",
   "metadata": {},
   "source": [
    "## `if-elif-else`\n",
    "\n",
    "Con questo comando, si controlla prima la condizione dell'`if`, se è falsa, si controllano le sottocondizioni dei comandi `elif`; se anch'esse risultano false, verrà eseguito il codice nel blocco `else` altrimenti il blocco dell'`if` o `elif` opportuno.\n",
    "\n",
    "```\n",
    "if condizione1:\n",
    "    blocco1\n",
    "elif condizione2:\n",
    "    blocco2\n",
    "else:\n",
    "    blocco3\n",
    "```"
   ]
  },
  {
   "cell_type": "code",
   "execution_count": 65,
   "id": "4868860e",
   "metadata": {},
   "outputs": [],
   "source": [
    "voto = 15"
   ]
  },
  {
   "cell_type": "code",
   "execution_count": 66,
   "id": "047bdb5d",
   "metadata": {},
   "outputs": [
    {
     "name": "stdout",
     "output_type": "stream",
     "text": [
      "Esame fallito.\n"
     ]
    }
   ],
   "source": [
    "if voto >= 24:\n",
    "    print('Esame superato.')\n",
    "    print('Complimenti.')\n",
    "elif (voto > 18) and (voto < 24):\n",
    "    print('Esame superato.')\n",
    "elif voto == 18:\n",
    "    print('Esame superato col minimo voto.')\n",
    "else:\n",
    "    print('Esame fallito.')"
   ]
  },
  {
   "cell_type": "code",
   "execution_count": 71,
   "id": "6c5fdd21",
   "metadata": {},
   "outputs": [],
   "source": [
    "voto = 23"
   ]
  },
  {
   "cell_type": "code",
   "execution_count": 72,
   "id": "9c295ce5",
   "metadata": {},
   "outputs": [
    {
     "name": "stdout",
     "output_type": "stream",
     "text": [
      "Esame superato.\n"
     ]
    }
   ],
   "source": [
    "if voto >= 24:\n",
    "    print('Esame superato.')\n",
    "    print('Complimenti.')\n",
    "elif voto > 18:\n",
    "    print('Esame superato.')\n",
    "elif voto == 18:\n",
    "    print('Esame superato col minimo voto.')\n",
    "else:\n",
    "    print('Esame fallito.')"
   ]
  },
  {
   "cell_type": "markdown",
   "id": "694f0ea9",
   "metadata": {},
   "source": [
    "## Comandi `if` annidati\n",
    "\n",
    "Un comando `if` annidato è un comando in cui un `if` è presente all'interno di un altro `if`. Tipicamente comandi di questo tipo si possono riscrivere in modo più leggibile con `if-elif-else`.\n",
    "\n",
    "```\n",
    "if condizione1:\n",
    "    if condizione2:\n",
    "        blocco1\n",
    "    else:\n",
    "        blocco2\n",
    "else:\n",
    "    blocco3\n",
    "```"
   ]
  },
  {
   "cell_type": "code",
   "execution_count": 88,
   "id": "906f0f6e",
   "metadata": {},
   "outputs": [],
   "source": [
    "v1 = 22\n",
    "v2 = 20"
   ]
  },
  {
   "cell_type": "code",
   "execution_count": 79,
   "id": "a16b5188",
   "metadata": {},
   "outputs": [
    {
     "name": "stdout",
     "output_type": "stream",
     "text": [
      "Hai superato la prima prova.\n",
      "Non hai superato la seconda prova.\n"
     ]
    }
   ],
   "source": [
    "if v1 >= 18:\n",
    "    print('Hai superato la prima prova.')\n",
    "    \n",
    "    if v2 >= 18:\n",
    "        voto = (v1 + v2)/2\n",
    "        # Vedi sotto paragrafo sulle f-string\n",
    "        print(f\"Hai superato l'esame con un voto di {voto}.\")\n",
    "    else:\n",
    "        print('Non hai superato la seconda prova.')\n",
    "else:\n",
    "    print('Non hai superato la prima prova.')"
   ]
  },
  {
   "cell_type": "code",
   "execution_count": 98,
   "id": "a4060d4c-f95e-413c-b62f-8f1a6f21b66f",
   "metadata": {},
   "outputs": [],
   "source": [
    "v1 = 22\n",
    "v2 = 28"
   ]
  },
  {
   "cell_type": "code",
   "execution_count": 99,
   "id": "36ec6301-4052-4fd7-9016-41c69ddb4023",
   "metadata": {},
   "outputs": [
    {
     "name": "stdout",
     "output_type": "stream",
     "text": [
      "Hai superato l'esame con un voto di 25.0.\n"
     ]
    }
   ],
   "source": [
    "if v1 >= 18 and v2 < 18:\n",
    "    print('Hai superato la prima prova.')\n",
    "elif v1 >= 18 and v2 >= 18:\n",
    "    voto = (v1 + v2) / 2\n",
    "    print(f\"Hai superato l'esame con un voto di {voto}.\")\n",
    "else:\n",
    "    print(\"Non si è superata la prima prova\")"
   ]
  },
  {
   "cell_type": "markdown",
   "id": "6a588948",
   "metadata": {},
   "source": [
    "## Comando `if` su singola linea\n",
    "\n",
    "Un comando `if` può essere espresso su una singola linea di codice se bisogna controllare una sola condizione.\n",
    "\n",
    "```\n",
    "if condizione: espressione\n",
    "```"
   ]
  },
  {
   "cell_type": "code",
   "execution_count": 80,
   "id": "c6d7d23f",
   "metadata": {},
   "outputs": [],
   "source": [
    "nomi = ['Alice', 'Bruno', 'Carlo']"
   ]
  },
  {
   "cell_type": "code",
   "execution_count": 81,
   "id": "05fb75b8",
   "metadata": {},
   "outputs": [
    {
     "name": "stdout",
     "output_type": "stream",
     "text": [
      "Ciao Bruno!\n"
     ]
    }
   ],
   "source": [
    "if 'Bruno' in nomi:\n",
    "    print('Ciao Bruno!')"
   ]
  },
  {
   "cell_type": "code",
   "execution_count": 82,
   "id": "21595200",
   "metadata": {},
   "outputs": [
    {
     "name": "stdout",
     "output_type": "stream",
     "text": [
      "Ciao Bruno!\n"
     ]
    }
   ],
   "source": [
    "if 'Bruno' in nomi: print('Ciao Bruno!')"
   ]
  },
  {
   "cell_type": "markdown",
   "id": "7e7675da",
   "metadata": {},
   "source": [
    "## Operatore Ternario\n",
    "\n",
    "Un operatore ternario è utilizzato per esprimere sulla stessa linea un comando `if-else` con una singola condizione da controllare.\n",
    "\n",
    "```\n",
    "espressione1 if condizione else espressione2\n",
    "```"
   ]
  },
  {
   "cell_type": "code",
   "execution_count": 83,
   "id": "7cd53a3c",
   "metadata": {},
   "outputs": [],
   "source": [
    "nome = 'Daniele'"
   ]
  },
  {
   "cell_type": "code",
   "execution_count": 84,
   "id": "2ea0d905",
   "metadata": {},
   "outputs": [],
   "source": [
    "print(f'Ciao {nome}') if nome in nomi else nomi.append(nome)"
   ]
  },
  {
   "cell_type": "code",
   "execution_count": 85,
   "id": "ac57a37e",
   "metadata": {},
   "outputs": [
    {
     "data": {
      "text/plain": [
       "['Alice', 'Bruno', 'Carlo', 'Daniele']"
      ]
     },
     "execution_count": 85,
     "metadata": {},
     "output_type": "execute_result"
    }
   ],
   "source": [
    "nomi"
   ]
  },
  {
   "cell_type": "code",
   "execution_count": 86,
   "id": "01d1734a",
   "metadata": {},
   "outputs": [
    {
     "name": "stdout",
     "output_type": "stream",
     "text": [
      "Ciao Daniele\n"
     ]
    }
   ],
   "source": [
    "print(f'Ciao {nome}') if nome in nomi else nomi.append(nome)"
   ]
  },
  {
   "cell_type": "markdown",
   "id": "6be75951-43c0-4522-89e9-d41143cd9c66",
   "metadata": {},
   "source": [
    "## f-string"
   ]
  },
  {
   "cell_type": "markdown",
   "id": "0255cd90-d7ab-4f6b-8b72-1c8b21445210",
   "metadata": {},
   "source": [
    "Le stringhe oltre che con il metodo `format` possono essere formattate anche usando le cossiddette f-string. Le f-string sono stringhe alle cui virgolette (o apici) si fa precedere una f, in questo modo è possibile sostituire alle parentesi graffe che si inseriscono nella stringa i valori assunti dalle variabili che si mettono all'interno delle parentesi.\n",
    "\n",
    "```\n",
    "f\"Questa è una f-string {variabile}\"\n",
    "```"
   ]
  },
  {
   "cell_type": "code",
   "execution_count": 3,
   "id": "edffa4d9-1a6a-4360-9477-a8897f212332",
   "metadata": {},
   "outputs": [
    {
     "data": {
      "text/plain": [
       "'Questa stringa è una f-string'"
      ]
     },
     "execution_count": 3,
     "metadata": {},
     "output_type": "execute_result"
    }
   ],
   "source": [
    "nome = \"stringa\"\n",
    "f\"Questa {nome} è una f-string\""
   ]
  },
  {
   "cell_type": "code",
   "execution_count": 4,
   "id": "1a3805ed-7817-4aea-9bf7-c0ea316cc9cd",
   "metadata": {},
   "outputs": [
    {
     "data": {
      "text/plain": [
       "\"Il voto dell'esame di Diritto è 28.\""
      ]
     },
     "execution_count": 4,
     "metadata": {},
     "output_type": "execute_result"
    }
   ],
   "source": [
    "materia = \"Diritto\"\n",
    "voto = 28\n",
    "f\"Il voto dell'esame di {materia} è {voto}.\""
   ]
  },
  {
   "cell_type": "markdown",
   "id": "8d233ad2-af97-441a-94e0-822662f88a0a",
   "metadata": {},
   "source": [
    "# Esercizi"
   ]
  },
  {
   "cell_type": "markdown",
   "id": "340769a7-1c64-49a8-920a-33684fa5e56c",
   "metadata": {},
   "source": [
    "Scrivere un programma che converta una temperatura in base alla sua unità di misura, ad esempio da Celsius a Fahrenheit o viceversa. Temperatura ed unità di misura sono specificate da una tupla `(temperatura, unità)`"
   ]
  },
  {
   "cell_type": "code",
   "execution_count": 110,
   "id": "057dcc59-e68a-409b-8c6b-72e13c4caa8a",
   "metadata": {},
   "outputs": [],
   "source": [
    "dato = (32, \"K\")"
   ]
  },
  {
   "cell_type": "code",
   "execution_count": 111,
   "id": "c0e14d0a-684e-4dd9-b296-547158a8aaed",
   "metadata": {},
   "outputs": [
    {
     "name": "stdout",
     "output_type": "stream",
     "text": [
      "Unità di temperatura non riconosciuta.\n"
     ]
    }
   ],
   "source": [
    "if dato[1] == \"F\":\n",
    "    risultato = (dato[0] - 32) / 1.8\n",
    "    print(f\"La temperatura convertita è {risultato} C\")\n",
    "elif dato[1] == \"C\":\n",
    "    risultato = 1.8 * dato[0] + 32\n",
    "    print(f\"La temperatura convertita è {risultato} F\")\n",
    "else:\n",
    "    print(\"Unità di temperatura non riconosciuta.\")"
   ]
  },
  {
   "cell_type": "markdown",
   "id": "9c51738f",
   "metadata": {},
   "source": [
    "Scrivere un programma che stampi il numero di giorni in uno specifico mese e, nel caso di febbraio, controlli anche se l'anno è bisestile."
   ]
  },
  {
   "cell_type": "code",
   "execution_count": 118,
   "id": "16916b50-9f25-4184-8d2a-415c58bd64c2",
   "metadata": {},
   "outputs": [],
   "source": [
    "mese = \"Febbraio\"\n",
    "anno = 2025 # anno = 2024"
   ]
  },
  {
   "cell_type": "code",
   "execution_count": 119,
   "id": "cfc8ed3f-b9ea-49f4-904f-ec39493a1028",
   "metadata": {},
   "outputs": [
    {
     "name": "stdout",
     "output_type": "stream",
     "text": [
      "Febbraio ha 28 giorni.\n"
     ]
    }
   ],
   "source": [
    "if mese in [\"Novembre\", \"Aprile\", \"Giugno\", \"Settembre\"]:\n",
    "    print(f\"{mese} ha 30 giorni.\")\n",
    "elif (mese == \"Febbraio\") and (anno % 4 == 0):\n",
    "    print(f\"{mese} ha 29 giorni.\")\n",
    "#elif (mese == \"Febbraio\") and (anno % 4 != 0):\n",
    "elif (mese == \"Febbraio\") and not (anno % 4 != 0):\n",
    "    print(f\"{mese} ha 28 giorni.\")\n",
    "else: \n",
    "    print(f\"{mese} ha 31 giorni.\")"
   ]
  },
  {
   "cell_type": "markdown",
   "id": "0fb5acac-10af-4690-81ce-febe7340b76d",
   "metadata": {},
   "source": [
    "In un corso di laurea, al punteggio derivante dalla media dei voti si può aggiungere un punto extra qualora:\n",
    "\n",
    "- Non si ha mai passato un esame con 18 ad esclusione dei primi due\n",
    "- Non si ha mai passato un esame con meno di 22\n",
    "- Si ha passato almeno un esame con 30 e lode\n",
    "- La media degli ultimi due esami è maggiore o uguale alla media dei primi due.\n",
    "\n",
    "Scrivere un programma che calcoli i punti bonus a partire dalla lista dei voti di uno studente (indicare 30 e lode con 31)."
   ]
  },
  {
   "cell_type": "code",
   "execution_count": null,
   "id": "263108a3-e28f-40ce-97c4-7e753536684b",
   "metadata": {},
   "outputs": [],
   "source": []
  },
  {
   "cell_type": "markdown",
   "id": "27fbde99-c7e5-4b73-b962-ac1fa79de99e",
   "metadata": {},
   "source": [
    "Scrivere un programma che dato il valore di input `x` calcoli il valore della seguente fuzione definita a tratti:\n",
    "$$\n",
    "f(x)=\n",
    "\\begin{cases}\n",
    "2x+1\\quad x > 2\\\\\n",
    "x^2 + 1\\quad 1 \\le x \\le 2\\\\\n",
    "2 - x\\quad x < 1\n",
    "\\end{cases}\n",
    "$$"
   ]
  },
  {
   "cell_type": "code",
   "execution_count": 128,
   "id": "b1f7abd5-3813-478a-a504-d4a03df1bb8d",
   "metadata": {},
   "outputs": [],
   "source": [
    "x = 2"
   ]
  },
  {
   "cell_type": "code",
   "execution_count": 129,
   "id": "ae6b3b85-ad54-422b-b0a7-6028c117f40b",
   "metadata": {},
   "outputs": [
    {
     "name": "stdout",
     "output_type": "stream",
     "text": [
      "Il risultato è 5.\n"
     ]
    }
   ],
   "source": [
    "if x > 2:\n",
    "    risultato = 2*x + 1\n",
    "# elif 1 <= x <= 2: \n",
    "# fa la stessa cosa della riga sotto\n",
    "elif x >= 1 and x <= 2:\n",
    "    risultato = x**2 + 1\n",
    "elif x < 1:\n",
    "    risultato = 2 - x\n",
    "\n",
    "print(f\"Il risultato è {risultato}.\")"
   ]
  },
  {
   "cell_type": "markdown",
   "id": "89debf4e-792e-4710-a342-a01f14ed149a",
   "metadata": {},
   "source": [
    "Srivere un programma che calcoli la divisione fra due numeri preoccupandosi che il denominatore non sia zero e, nel caso lo sia, stampi una stringa di errore. "
   ]
  },
  {
   "cell_type": "code",
   "execution_count": null,
   "id": "7b78b813-52ae-42f6-a0ad-462902a4aaf5",
   "metadata": {},
   "outputs": [],
   "source": []
  },
  {
   "cell_type": "markdown",
   "id": "31e1c363-4849-4208-b51c-508419af38a2",
   "metadata": {},
   "source": [
    "Scrivere un programma per classificare in fasce fiscali in base all'importo del reddito e calcolare la tassazione. Si usino le sequenti fasce ed aliquote:\n",
    "- Se il reddito è inferiore a 30.000 €, viene classificato come “Reddito Basso” con un'aliquota fiscale del 10%.\n",
    "- Se il reddito è compreso tra 30.000 e 60.000 €, classificarlo come “Reddito Medio” con un'aliquota fiscale del 15%.\n",
    "- Se il reddito è compreso tra i 60.000 e i 120.000 € si classifica come “Reddito Medio Alto” con un'aliquota fiscale del 20%.\n",
    "- Se il reddito è superiore a 120.000 €, viene classificato come “Reddito Alto” con un'aliquota fiscale del 25%.\n",
    "\n",
    "Stampare una stringa nel formato `Il reddito {} € appartiene alla fascia {}\\nLe tasse dovute ammontano a {} €.`"
   ]
  },
  {
   "cell_type": "code",
   "execution_count": null,
   "id": "24f0ee24-8d70-4bf6-9816-d0dbfe1bd656",
   "metadata": {},
   "outputs": [],
   "source": []
  },
  {
   "cell_type": "markdown",
   "id": "21d7f247-6c1b-4826-b503-6dfda3ec2540",
   "metadata": {},
   "source": [
    "Scrivere un programma che data una tripla di stringhe `(stringa1, stringa2, stringa3)` sostituisca tutte le occorrenze di quella più corta all'interno di quella più lunga con quella intermedia."
   ]
  },
  {
   "cell_type": "code",
   "execution_count": null,
   "id": "a753afb7-4e10-488b-aee9-e5e3df2e3555",
   "metadata": {},
   "outputs": [],
   "source": []
  }
 ],
 "metadata": {
  "kernelspec": {
   "display_name": "Python 3 (ipykernel)",
   "language": "python",
   "name": "python3"
  },
  "language_info": {
   "codemirror_mode": {
    "name": "ipython",
    "version": 3
   },
   "file_extension": ".py",
   "mimetype": "text/x-python",
   "name": "python",
   "nbconvert_exporter": "python",
   "pygments_lexer": "ipython3",
   "version": "3.12.2"
  }
 },
 "nbformat": 4,
 "nbformat_minor": 5
}
