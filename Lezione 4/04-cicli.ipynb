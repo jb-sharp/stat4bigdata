{
 "cells": [
  {
   "cell_type": "markdown",
   "id": "ad762ad6",
   "metadata": {},
   "source": [
    "# Ciclo\n",
    "\n",
    "Un **ciclo** all'interno di un programma permette di ripetere una certa porzione di codice o per un determinato numero di volte o finché una certa condizione non è\n",
    "soddisfatta.\n",
    "\n",
    "## `for`\n",
    "\n",
    "Il ciclo `for` è utilizzato per scorrere gli elementi di una sequenza, ad esempio liste, tuple o stringhe, ed eseguire una serie di comandi (blocco di codice) per ognuno degli elementi della sequenza.\n",
    "\n",
    "```\n",
    "for variable in iterable:\n",
    "    blocco\n",
    "```\n",
    "\n",
    "Un **iterabile** è un oggetto capace di restituire i suoi elementi uno alla volta, come appunto liste, tuple e stringhe."
   ]
  },
  {
   "cell_type": "code",
   "execution_count": 1,
   "id": "d7b602b3",
   "metadata": {},
   "outputs": [],
   "source": [
    "nomi = ['Alice', 'Bruno', 'Carlo', 'Daniele']"
   ]
  },
  {
   "cell_type": "code",
   "execution_count": 2,
   "id": "46206c05",
   "metadata": {},
   "outputs": [
    {
     "data": {
      "text/plain": [
       "'ALICE'"
      ]
     },
     "execution_count": 2,
     "metadata": {},
     "output_type": "execute_result"
    }
   ],
   "source": [
    "nomi[0].upper()"
   ]
  },
  {
   "cell_type": "code",
   "execution_count": 3,
   "id": "3d372efb",
   "metadata": {},
   "outputs": [
    {
     "name": "stdout",
     "output_type": "stream",
     "text": [
      "Alice ALICE\n",
      "Bruno BRUNO\n",
      "Carlo CARLO\n",
      "Daniele DANIELE\n"
     ]
    }
   ],
   "source": [
    "for nome in nomi:\n",
    "    print(nome, nome.upper())"
   ]
  },
  {
   "cell_type": "code",
   "execution_count": 4,
   "id": "173bf275",
   "metadata": {},
   "outputs": [
    {
     "data": {
      "text/plain": [
       "'Daniele'"
      ]
     },
     "execution_count": 4,
     "metadata": {},
     "output_type": "execute_result"
    }
   ],
   "source": [
    "# La variabile che viene usate per iterare\n",
    "# alla fine del ciclo mantiene l'ultimo valore della \n",
    "# sequenza\n",
    "nome"
   ]
  },
  {
   "cell_type": "code",
   "execution_count": 5,
   "id": "d55ce47b",
   "metadata": {},
   "outputs": [
    {
     "name": "stdout",
     "output_type": "stream",
     "text": [
      "{'c': 1}\n",
      "{'c': 1, 'i': 1}\n",
      "{'c': 1, 'i': 1, 'a': 1}\n",
      "{'c': 1, 'i': 1, 'a': 1, 'o': 1}\n",
      "{'c': 1, 'i': 1, 'a': 1, 'o': 1}\n",
      "{'c': 1, 'i': 1, 'a': 1, 'o': 1}\n",
      "{'c': 2, 'i': 1, 'a': 1, 'o': 1}\n",
      "{'c': 2, 'i': 1, 'a': 1, 'o': 2}\n",
      "{'c': 2, 'i': 1, 'a': 1, 'o': 2, 'm': 1}\n",
      "{'c': 2, 'i': 1, 'a': 1, 'o': 2, 'm': 1, 'e': 1}\n",
      "{'c': 2, 'i': 1, 'a': 1, 'o': 2, 'm': 1, 'e': 1}\n",
      "{'c': 2, 'i': 1, 'a': 1, 'o': 2, 'm': 1, 'e': 1, 's': 1}\n",
      "{'c': 2, 'i': 1, 'a': 1, 'o': 2, 'm': 1, 'e': 1, 's': 1, 't': 1}\n",
      "{'c': 2, 'i': 1, 'a': 2, 'o': 2, 'm': 1, 'e': 1, 's': 1, 't': 1}\n",
      "{'c': 2, 'i': 2, 'a': 2, 'o': 2, 'm': 1, 'e': 1, 's': 1, 't': 1}\n",
      "{'c': 2, 'i': 2, 'a': 2, 'o': 2, 'm': 1, 'e': 1, 's': 1, 't': 1}\n"
     ]
    }
   ],
   "source": [
    "testo = 'ciao, come stai?'\n",
    "count = {}\n",
    "\n",
    "for car in testo:\n",
    "    # isalpha resituisce True\n",
    "    # se il carattere è una lettera o una cifra\n",
    "    if car.isalpha():\n",
    "        if car in count:\n",
    "            count[car] += 1\n",
    "        else:\n",
    "            count[car] = 1\n",
    "    print(count)"
   ]
  },
  {
   "cell_type": "code",
   "execution_count": 8,
   "id": "b0ea7603",
   "metadata": {},
   "outputs": [
    {
     "name": "stdout",
     "output_type": "stream",
     "text": [
      "{'c': 1}\n",
      "{'c': 1, 'i': 1}\n",
      "{'c': 1, 'i': 1, 'a': 1}\n",
      "{'c': 1, 'i': 1, 'a': 1, 'o': 1}\n",
      "{'c': 1, 'i': 1, 'a': 1, 'o': 1}\n",
      "{'c': 1, 'i': 1, 'a': 1, 'o': 1}\n",
      "{'c': 1, 'i': 1, 'a': 1, 'o': 1, 'm': 1}\n",
      "{'c': 1, 'i': 2, 'a': 1, 'o': 1, 'm': 1}\n",
      "{'c': 1, 'i': 2, 'a': 1, 'o': 1, 'm': 1}\n",
      "{'c': 2, 'i': 2, 'a': 1, 'o': 1, 'm': 1}\n",
      "{'c': 2, 'i': 2, 'a': 1, 'o': 1, 'm': 1, 'h': 1}\n",
      "{'c': 2, 'i': 3, 'a': 1, 'o': 1, 'm': 1, 'h': 1}\n",
      "{'c': 2, 'i': 3, 'a': 2, 'o': 1, 'm': 1, 'h': 1}\n",
      "{'c': 2, 'i': 3, 'a': 2, 'o': 1, 'm': 2, 'h': 1}\n",
      "{'c': 2, 'i': 3, 'a': 2, 'o': 2, 'm': 2, 'h': 1}\n",
      "{'c': 2, 'i': 3, 'a': 2, 'o': 2, 'm': 2, 'h': 1}\n",
      "{'c': 2, 'i': 3, 'a': 2, 'o': 2, 'm': 2, 'h': 1, 's': 1}\n",
      "{'c': 2, 'i': 3, 'a': 2, 'o': 2, 'm': 2, 'h': 1, 's': 1, 'e': 1}\n",
      "{'c': 2, 'i': 3, 'a': 2, 'o': 2, 'm': 2, 'h': 1, 's': 1, 'e': 1, 'r': 1}\n",
      "{'c': 2, 'i': 3, 'a': 2, 'o': 2, 'm': 2, 'h': 1, 's': 1, 'e': 1, 'r': 1, 'g': 1}\n",
      "{'c': 2, 'i': 4, 'a': 2, 'o': 2, 'm': 2, 'h': 1, 's': 1, 'e': 1, 'r': 1, 'g': 1}\n",
      "{'c': 2, 'i': 4, 'a': 2, 'o': 3, 'm': 2, 'h': 1, 's': 1, 'e': 1, 'r': 1, 'g': 1}\n",
      "{'c': 2, 'i': 4, 'a': 2, 'o': 3, 'm': 2, 'h': 1, 's': 1, 'e': 1, 'r': 1, 'g': 1}\n",
      "{'c': 2, 'i': 4, 'a': 2, 'o': 3, 'm': 2, 'h': 1, 's': 1, 'e': 1, 'r': 1, 'g': 1}\n",
      "{'c': 2, 'i': 4, 'a': 2, 'o': 3, 'm': 2, 'h': 1, 's': 1, 'e': 1, 'r': 1, 'g': 1, 'p': 1}\n",
      "{'c': 2, 'i': 5, 'a': 2, 'o': 3, 'm': 2, 'h': 1, 's': 1, 'e': 1, 'r': 1, 'g': 1, 'p': 1}\n",
      "{'c': 2, 'i': 5, 'a': 3, 'o': 3, 'm': 2, 'h': 1, 's': 1, 'e': 1, 'r': 1, 'g': 1, 'p': 1}\n",
      "{'c': 3, 'i': 5, 'a': 3, 'o': 3, 'm': 2, 'h': 1, 's': 1, 'e': 1, 'r': 1, 'g': 1, 'p': 1}\n",
      "{'c': 3, 'i': 5, 'a': 3, 'o': 3, 'm': 2, 'h': 1, 's': 1, 'e': 2, 'r': 1, 'g': 1, 'p': 1}\n",
      "{'c': 3, 'i': 5, 'a': 3, 'o': 3, 'm': 2, 'h': 1, 's': 1, 'e': 2, 'r': 2, 'g': 1, 'p': 1}\n",
      "{'c': 3, 'i': 5, 'a': 3, 'o': 3, 'm': 2, 'h': 1, 's': 1, 'e': 3, 'r': 2, 'g': 1, 'p': 1}\n",
      "{'c': 3, 'i': 5, 'a': 3, 'o': 3, 'm': 2, 'h': 1, 's': 1, 'e': 3, 'r': 2, 'g': 1, 'p': 1}\n",
      "{'c': 3, 'i': 5, 'a': 3, 'o': 3, 'm': 2, 'h': 1, 's': 1, 'e': 3, 'r': 2, 'g': 1, 'p': 1, 'd': 1}\n",
      "{'c': 3, 'i': 6, 'a': 3, 'o': 3, 'm': 2, 'h': 1, 's': 1, 'e': 3, 'r': 2, 'g': 1, 'p': 1, 'd': 1}\n",
      "{'c': 3, 'i': 6, 'a': 3, 'o': 3, 'm': 2, 'h': 1, 's': 1, 'e': 3, 'r': 2, 'g': 1, 'p': 1, 'd': 1}\n",
      "{'c': 4, 'i': 6, 'a': 3, 'o': 3, 'm': 2, 'h': 1, 's': 1, 'e': 3, 'r': 2, 'g': 1, 'p': 1, 'd': 1}\n",
      "{'c': 4, 'i': 6, 'a': 3, 'o': 4, 'm': 2, 'h': 1, 's': 1, 'e': 3, 'r': 2, 'g': 1, 'p': 1, 'd': 1}\n",
      "{'c': 4, 'i': 6, 'a': 3, 'o': 4, 'm': 2, 'h': 1, 's': 1, 'e': 3, 'r': 2, 'g': 1, 'p': 1, 'd': 1, 'n': 1}\n",
      "{'c': 4, 'i': 6, 'a': 3, 'o': 5, 'm': 2, 'h': 1, 's': 1, 'e': 3, 'r': 2, 'g': 1, 'p': 1, 'd': 1, 'n': 1}\n",
      "{'c': 4, 'i': 6, 'a': 3, 'o': 5, 'm': 2, 'h': 1, 's': 2, 'e': 3, 'r': 2, 'g': 1, 'p': 1, 'd': 1, 'n': 1}\n",
      "{'c': 5, 'i': 6, 'a': 3, 'o': 5, 'm': 2, 'h': 1, 's': 2, 'e': 3, 'r': 2, 'g': 1, 'p': 1, 'd': 1, 'n': 1}\n",
      "{'c': 5, 'i': 6, 'a': 3, 'o': 5, 'm': 2, 'h': 1, 's': 2, 'e': 4, 'r': 2, 'g': 1, 'p': 1, 'd': 1, 'n': 1}\n",
      "{'c': 5, 'i': 6, 'a': 3, 'o': 5, 'm': 2, 'h': 1, 's': 2, 'e': 4, 'r': 3, 'g': 1, 'p': 1, 'd': 1, 'n': 1}\n",
      "{'c': 5, 'i': 6, 'a': 3, 'o': 5, 'm': 2, 'h': 1, 's': 2, 'e': 4, 'r': 3, 'g': 1, 'p': 1, 'd': 1, 'n': 1, 't': 1}\n",
      "{'c': 5, 'i': 7, 'a': 3, 'o': 5, 'm': 2, 'h': 1, 's': 2, 'e': 4, 'r': 3, 'g': 1, 'p': 1, 'd': 1, 'n': 1, 't': 1}\n",
      "{'c': 5, 'i': 7, 'a': 3, 'o': 5, 'm': 2, 'h': 1, 's': 2, 'e': 4, 'r': 3, 'g': 1, 'p': 1, 'd': 1, 'n': 1, 't': 1}\n"
     ]
    }
   ],
   "source": [
    "testo = 'Ciao, mi chiamo Sergio. Piacere di conoscerti.'\n",
    "count = {}\n",
    "\n",
    "for car in testo:\n",
    "    if car.isalpha():\n",
    "        car = car.lower()\n",
    "        if car in count:\n",
    "            count[car] += 1\n",
    "        else:\n",
    "            count[car] = 1\n",
    "    print(count)"
   ]
  },
  {
   "cell_type": "code",
   "execution_count": 9,
   "id": "d1eb563b",
   "metadata": {},
   "outputs": [
    {
     "data": {
      "text/plain": [
       "{'c': 5,\n",
       " 'i': 7,\n",
       " 'a': 3,\n",
       " 'o': 5,\n",
       " 'm': 2,\n",
       " 'h': 1,\n",
       " 's': 2,\n",
       " 'e': 4,\n",
       " 'r': 3,\n",
       " 'g': 1,\n",
       " 'p': 1,\n",
       " 'd': 1,\n",
       " 'n': 1,\n",
       " 't': 1}"
      ]
     },
     "execution_count": 9,
     "metadata": {},
     "output_type": "execute_result"
    }
   ],
   "source": [
    "count"
   ]
  },
  {
   "cell_type": "code",
   "execution_count": 10,
   "id": "610acd53",
   "metadata": {},
   "outputs": [
    {
     "data": {
      "text/plain": [
       "True"
      ]
     },
     "execution_count": 10,
     "metadata": {},
     "output_type": "execute_result"
    }
   ],
   "source": [
    "'c'.isalpha()"
   ]
  },
  {
   "cell_type": "code",
   "execution_count": 11,
   "id": "44b15e36",
   "metadata": {},
   "outputs": [
    {
     "data": {
      "text/plain": [
       "False"
      ]
     },
     "execution_count": 11,
     "metadata": {},
     "output_type": "execute_result"
    }
   ],
   "source": [
    "'1223'.isalpha()"
   ]
  },
  {
   "cell_type": "code",
   "execution_count": 12,
   "id": "bbf49e78",
   "metadata": {},
   "outputs": [
    {
     "data": {
      "text/plain": [
       "False"
      ]
     },
     "execution_count": 12,
     "metadata": {},
     "output_type": "execute_result"
    }
   ],
   "source": [
    "'a1223'.isalpha()"
   ]
  },
  {
   "cell_type": "markdown",
   "id": "db5f2c45",
   "metadata": {},
   "source": [
    "## List Comprehension\n",
    "\n",
    "L'oprazione di **list comprehension** permette di creare una nuova lista eseguendo operazioni sugli elementi di una lista già esistente con una sintassi più breve (e più efficiente) del corrispettivo ciclo for.\n",
    "\n",
    "```\n",
    "[espressione for variabile in iterable]\n",
    "```"
   ]
  },
  {
   "cell_type": "code",
   "execution_count": 13,
   "id": "0fbc5725",
   "metadata": {},
   "outputs": [
    {
     "data": {
      "text/plain": [
       "['Alice', 'Bruno', 'Carlo', 'Daniele']"
      ]
     },
     "execution_count": 13,
     "metadata": {},
     "output_type": "execute_result"
    }
   ],
   "source": [
    "nomi"
   ]
  },
  {
   "cell_type": "code",
   "execution_count": 14,
   "id": "504308fe",
   "metadata": {},
   "outputs": [],
   "source": [
    "# Come creare la lista dei nomi in \n",
    "# maiuscolo con un ciclo for\n",
    "\n",
    "nomi_upper = []\n",
    "for nome in nomi:\n",
    "    nomi_upper.append(nome.upper())"
   ]
  },
  {
   "cell_type": "code",
   "execution_count": 15,
   "id": "e7dc66ab",
   "metadata": {},
   "outputs": [
    {
     "data": {
      "text/plain": [
       "['ALICE', 'BRUNO', 'CARLO', 'DANIELE']"
      ]
     },
     "execution_count": 15,
     "metadata": {},
     "output_type": "execute_result"
    }
   ],
   "source": [
    "nomi_upper"
   ]
  },
  {
   "cell_type": "code",
   "execution_count": 16,
   "id": "6b7d4651",
   "metadata": {},
   "outputs": [],
   "source": [
    "# Come fare la stessa cosa con una list comprehension\n",
    "nomi_upper2 = [ nome.upper() for nome in nomi ]"
   ]
  },
  {
   "cell_type": "code",
   "execution_count": 17,
   "id": "60d494fe",
   "metadata": {},
   "outputs": [
    {
     "data": {
      "text/plain": [
       "(['ALICE', 'BRUNO', 'CARLO', 'DANIELE'],\n",
       " ['ALICE', 'BRUNO', 'CARLO', 'DANIELE'])"
      ]
     },
     "execution_count": 17,
     "metadata": {},
     "output_type": "execute_result"
    }
   ],
   "source": [
    "nomi_upper, nomi_upper2"
   ]
  },
  {
   "cell_type": "markdown",
   "id": "8a2bdf75-af36-4ad3-9a15-340c88a6b199",
   "metadata": {},
   "source": [
    "La stessa cosa può essere fatta anche con i dizionari:\n",
    "\n",
    "```\n",
    "{key:value for (key, value) in iterable}\n",
    "```"
   ]
  },
  {
   "cell_type": "code",
   "execution_count": 18,
   "id": "96be5f1a",
   "metadata": {},
   "outputs": [
    {
     "name": "stdout",
     "output_type": "stream",
     "text": [
      "{'Alice': 'ALICE', 'Bruno': 'BRUNO', 'Carlo': 'CARLO', 'Daniele': 'DANIELE'}\n"
     ]
    }
   ],
   "source": [
    "dict_upper ={ n : n.upper() for n in nomi }\n",
    "print(dict_upper)"
   ]
  },
  {
   "cell_type": "markdown",
   "id": "a77ebc22-42fd-4cab-b33c-f3bf9d00712d",
   "metadata": {},
   "source": [
    "Vediamo un esempio di un ciclo `for` con annidato un comando `if`"
   ]
  },
  {
   "cell_type": "code",
   "execution_count": 19,
   "id": "03e799c3",
   "metadata": {},
   "outputs": [
    {
     "name": "stdout",
     "output_type": "stream",
     "text": [
      "['Alic_']\n",
      "['Alic_']\n",
      "['Alic_']\n",
      "['Alic_', 'Dani_l_']\n",
      "Il risultato è ['Alic_', 'Dani_l_']\n"
     ]
    }
   ],
   "source": [
    "nomi_con_e = []\n",
    "for n in nomi:\n",
    "    if 'e' in n:\n",
    "        nomi_con_e.append(n.replace('e', '_'))\n",
    "\n",
    "    print(nomi_con_e)\n",
    "\n",
    "print(f\"Il risultato è {nomi_con_e}\")"
   ]
  },
  {
   "cell_type": "markdown",
   "id": "a03b31f1-f189-4652-9e08-f1217945f695",
   "metadata": {},
   "source": [
    "Anche nella list comprehension si possono integrare i comandi `if-else`, si ottiene così un codice molto compatto ma non necessariamente molto leggibile.\n",
    "\n",
    "```\n",
    "[espressione for variabile in iterable if condizione]\n",
    "```"
   ]
  },
  {
   "cell_type": "code",
   "execution_count": 20,
   "id": "7f1f99e3",
   "metadata": {},
   "outputs": [
    {
     "data": {
      "text/plain": [
       "['Alic_', 'Dani_l_']"
      ]
     },
     "execution_count": 20,
     "metadata": {},
     "output_type": "execute_result"
    }
   ],
   "source": [
    "# Equivalente al precedente ciclo for\n",
    "[ nome.replace('e', '_') for nome in nomi if 'e' in nome ]"
   ]
  },
  {
   "cell_type": "markdown",
   "id": "f71c6f30-e78a-4a38-8b63-46a7d62bee5e",
   "metadata": {},
   "source": [
    "```\n",
    "[espressione1 if condizione else espressione2 for variabile in iterable ]\n",
    "```"
   ]
  },
  {
   "cell_type": "code",
   "execution_count": 21,
   "id": "39d1772d-a00f-4345-9b97-4f9ca659de9a",
   "metadata": {},
   "outputs": [
    {
     "data": {
      "text/plain": [
       "['Alic_', 'BRUNO', 'CARLO', 'Dani_l_']"
      ]
     },
     "execution_count": 21,
     "metadata": {},
     "output_type": "execute_result"
    }
   ],
   "source": [
    "[ nome.replace('e', '_') if 'e' in nome else nome.upper() for nome in nomi ]"
   ]
  },
  {
   "cell_type": "markdown",
   "id": "ea50225b",
   "metadata": {},
   "source": [
    "## `while`\n",
    "\n",
    "Il ciclo `while` è utilizzato per iterare su un blocco di codice fintanto che una certa condizione è vera.\n",
    "\n",
    "```\n",
    "while condizione:\n",
    "    blocco\n",
    "```"
   ]
  },
  {
   "cell_type": "code",
   "execution_count": 22,
   "id": "f8f0353e",
   "metadata": {},
   "outputs": [
    {
     "name": "stdout",
     "output_type": "stream",
     "text": [
      "0\n",
      "1\n",
      "2\n",
      "3\n",
      "4\n"
     ]
    }
   ],
   "source": [
    "i = 0\n",
    "while i < 5:\n",
    "    print(i)\n",
    "    i += 1"
   ]
  },
  {
   "cell_type": "markdown",
   "id": "240902fe",
   "metadata": {},
   "source": [
    "## `break`\n",
    "\n",
    "Il comando `break` termina il ciclo all'interno del quale è eseguito e continua l'esecuzione dal comando successivo."
   ]
  },
  {
   "cell_type": "code",
   "execution_count": 23,
   "id": "062ea024",
   "metadata": {},
   "outputs": [
    {
     "data": {
      "text/plain": [
       "['Alice', 'Bruno', 'Carlo', 'Daniele']"
      ]
     },
     "execution_count": 23,
     "metadata": {},
     "output_type": "execute_result"
    }
   ],
   "source": [
    "nomi"
   ]
  },
  {
   "cell_type": "code",
   "execution_count": 24,
   "id": "e827b6be",
   "metadata": {},
   "outputs": [
    {
     "name": "stdout",
     "output_type": "stream",
     "text": [
      "Alice\n",
      "Esecuzione interrotta\n"
     ]
    }
   ],
   "source": [
    "for nome in nomi:\n",
    "    if 'r' in nome:\n",
    "        break\n",
    "    print(nome)\n",
    "    \n",
    "print(\"Esecuzione interrotta\")"
   ]
  },
  {
   "cell_type": "markdown",
   "id": "78aa1f1c",
   "metadata": {},
   "source": [
    "## `continue`\n",
    "\n",
    "Il comando `continue` ignora l'iterazione corrente del ciclo passando dunque all'iterazione successiva."
   ]
  },
  {
   "cell_type": "code",
   "execution_count": 25,
   "id": "88cc48da",
   "metadata": {},
   "outputs": [
    {
     "name": "stdout",
     "output_type": "stream",
     "text": [
      "Alice\n",
      "Daniele\n"
     ]
    }
   ],
   "source": [
    "for nome in nomi:\n",
    "    if 'r' in nome:\n",
    "        continue\n",
    "    print(nome)"
   ]
  },
  {
   "cell_type": "markdown",
   "id": "79300cdb",
   "metadata": {},
   "source": [
    "## `pass`\n",
    "\n",
    "Il comando `pass` non produce nessun cambiamento nell'esecuzione dell'attuale iterazione."
   ]
  },
  {
   "cell_type": "code",
   "execution_count": 27,
   "id": "b8043bb4",
   "metadata": {},
   "outputs": [
    {
     "name": "stdout",
     "output_type": "stream",
     "text": [
      "Alice\n",
      "Bruno\n",
      "Carlo\n",
      "Daniele\n"
     ]
    }
   ],
   "source": [
    "for nome in nomi:\n",
    "    if 'r' in nome:\n",
    "        pass\n",
    "    print(nome)"
   ]
  },
  {
   "cell_type": "code",
   "execution_count": 29,
   "id": "d439ad37-3391-4f46-8e69-2642734a7c6c",
   "metadata": {},
   "outputs": [
    {
     "name": "stdout",
     "output_type": "stream",
     "text": [
      "['Alice', 'Bruno', 'Carlo', 'Daniele']\n"
     ]
    }
   ],
   "source": [
    "# Un ciclo for non può essere vuoto -> pass\n",
    "for nome in nomi:\n",
    "    pass\n",
    "\n",
    "print(nomi)"
   ]
  },
  {
   "cell_type": "markdown",
   "id": "e23091af",
   "metadata": {},
   "source": [
    "## `else`\n",
    "\n",
    "Un ciclo `for` oppure `while` può essere seguito da un blocco `else` per eseguire una condizione terminale. Il blocco dell'`else` viene eseguito se il ciclo termina normalmente, dunque se non terminato da un comando `break`."
   ]
  },
  {
   "cell_type": "code",
   "execution_count": 30,
   "id": "6156b96a",
   "metadata": {},
   "outputs": [
    {
     "name": "stdout",
     "output_type": "stream",
     "text": [
      "Alice\n",
      "Bruno\n",
      "Carlo\n",
      "Daniele\n",
      "Nessun nome contiene la s\n"
     ]
    }
   ],
   "source": [
    "for nome in nomi:\n",
    "    if 's' in nome:\n",
    "        break\n",
    "    print(nome)\n",
    "else:\n",
    "    print('Nessun nome contiene la s')"
   ]
  },
  {
   "cell_type": "code",
   "execution_count": 31,
   "id": "fea6482b",
   "metadata": {},
   "outputs": [
    {
     "name": "stdout",
     "output_type": "stream",
     "text": [
      "Alice\n"
     ]
    }
   ],
   "source": [
    "for nome in nomi:\n",
    "    if 'r' in nome:\n",
    "        break\n",
    "    print(nome)\n",
    "else:\n",
    "    print('Nessun nome con la r')"
   ]
  },
  {
   "cell_type": "markdown",
   "id": "98864818",
   "metadata": {},
   "source": [
    "# Funzioni integrate\n",
    "\n",
    "Le **funzioni integrate** sono predefinite nella libreria del linguaggio di programmazione e possono essere utilizzate ogni volta che se ne ha bisogno senza essere esplicitamente definite o importate da qualche modulo.\n",
    "\n",
    "Abbiamo già visto ad esempio le funzioni `list(), dict(), bool(), int()`...\n",
    "\n",
    "## `range(start, stop, step)`\n",
    "\n",
    "La funzione `range()` restituisce una oggetto di tipo range che contiene una sequenza di numeri che inizia da `start` (compreso) ad ogni passo di incrementa `step` e si ferma a `stop` (escluso)."
   ]
  },
  {
   "cell_type": "code",
   "execution_count": 32,
   "id": "4d91b27c",
   "metadata": {},
   "outputs": [
    {
     "data": {
      "text/plain": [
       "range"
      ]
     },
     "execution_count": 32,
     "metadata": {},
     "output_type": "execute_result"
    }
   ],
   "source": [
    "type(range(0, 20, 1))"
   ]
  },
  {
   "cell_type": "markdown",
   "id": "c511938c-57bc-4b9b-9f83-7dad98005678",
   "metadata": {},
   "source": [
    "Un tipo `range` **non** è una lista."
   ]
  },
  {
   "cell_type": "code",
   "execution_count": 33,
   "id": "a4d4eaea-d03a-4a6f-84e7-bd61d6c414db",
   "metadata": {},
   "outputs": [
    {
     "ename": "AttributeError",
     "evalue": "'range' object has no attribute 'append'",
     "output_type": "error",
     "traceback": [
      "\u001b[0;31m---------------------------------------------------------------------------\u001b[0m",
      "\u001b[0;31mAttributeError\u001b[0m                            Traceback (most recent call last)",
      "Cell \u001b[0;32mIn[33], line 1\u001b[0m\n\u001b[0;32m----> 1\u001b[0m \u001b[38;5;28mrange\u001b[39m(\u001b[38;5;241m0\u001b[39m, \u001b[38;5;241m20\u001b[39m, \u001b[38;5;241m1\u001b[39m)\u001b[38;5;241m.\u001b[39mappend(\u001b[38;5;241m20\u001b[39m)\n",
      "\u001b[0;31mAttributeError\u001b[0m: 'range' object has no attribute 'append'"
     ]
    }
   ],
   "source": [
    "range(0, 20, 1).append(20)"
   ]
  },
  {
   "cell_type": "code",
   "execution_count": 34,
   "id": "6261b893-9934-4716-9d24-c7cce968d2c4",
   "metadata": {},
   "outputs": [
    {
     "data": {
      "text/plain": [
       "range(0, 20)"
      ]
     },
     "execution_count": 34,
     "metadata": {},
     "output_type": "execute_result"
    }
   ],
   "source": [
    "range(0, 20, 1)"
   ]
  },
  {
   "cell_type": "markdown",
   "id": "b74fc09f-0f75-4c8f-8e94-6f273c75cdd4",
   "metadata": {},
   "source": [
    "Se vogliamo ottenere una lista dobbiamo convertire il `range` con `list()`."
   ]
  },
  {
   "cell_type": "code",
   "execution_count": 35,
   "id": "37bc16c7-d9ea-45e3-a9e5-6489785237cd",
   "metadata": {},
   "outputs": [
    {
     "data": {
      "text/plain": [
       "[0, 1, 2, 3, 4, 5, 6, 7, 8, 9, 10, 11, 12, 13, 14, 15, 16, 17, 18, 19]"
      ]
     },
     "execution_count": 35,
     "metadata": {},
     "output_type": "execute_result"
    }
   ],
   "source": [
    "list(range(0, 20, 1))"
   ]
  },
  {
   "cell_type": "code",
   "execution_count": 36,
   "id": "1d897cd4-3897-4165-8670-7259fe21ff64",
   "metadata": {},
   "outputs": [
    {
     "data": {
      "text/plain": [
       "19"
      ]
     },
     "execution_count": 36,
     "metadata": {},
     "output_type": "execute_result"
    }
   ],
   "source": [
    "list(range(0, 20, 1)).pop()"
   ]
  },
  {
   "cell_type": "markdown",
   "id": "ef9fec25-db6c-4a81-aa3b-c70b06a9e3b8",
   "metadata": {},
   "source": [
    "Se:\n",
    "- `range` è chiamato con un solo argomento allora l'argomento viene asseganto a `end` e `start = 0`, `step = 1`.\n",
    "- `range` è chiamato con due argomenti allora gli argomenti sono assegnati a `start` e `end`, `step = 1`."
   ]
  },
  {
   "cell_type": "code",
   "execution_count": 37,
   "id": "25c4f6d8-b678-4a0e-aa69-dea7e0f8cfb6",
   "metadata": {},
   "outputs": [
    {
     "data": {
      "text/plain": [
       "[0, 1, 2, 3, 4, 5, 6, 7, 8, 9]"
      ]
     },
     "execution_count": 37,
     "metadata": {},
     "output_type": "execute_result"
    }
   ],
   "source": [
    "# equivalente a list(range(10))\n",
    "[i for i in range(10)]"
   ]
  },
  {
   "cell_type": "code",
   "execution_count": 38,
   "id": "3761250c-3871-4fce-a11e-cda774530bd3",
   "metadata": {},
   "outputs": [
    {
     "data": {
      "text/plain": [
       "[3, 4, 5, 6, 7, 8, 9]"
      ]
     },
     "execution_count": 38,
     "metadata": {},
     "output_type": "execute_result"
    }
   ],
   "source": [
    "# equivalente a list(range(3, 10))\n",
    "[i for i in range(3, 10)]"
   ]
  },
  {
   "cell_type": "code",
   "execution_count": 39,
   "id": "a4129e45-6d7f-4b2a-b00e-8f335559a72d",
   "metadata": {},
   "outputs": [
    {
     "data": {
      "text/plain": [
       "[1, 3, 5, 7, 9]"
      ]
     },
     "execution_count": 39,
     "metadata": {},
     "output_type": "execute_result"
    }
   ],
   "source": [
    "# equivalente a list(range(1, 10, 2))\n",
    "[i for i in range(1, 10, 2)]"
   ]
  },
  {
   "cell_type": "code",
   "execution_count": 40,
   "id": "90cdac8a-ac9f-4719-872e-1da0c8ea65d9",
   "metadata": {},
   "outputs": [
    {
     "data": {
      "text/plain": [
       "[1, 9, 25, 49, 81]"
      ]
     },
     "execution_count": 40,
     "metadata": {},
     "output_type": "execute_result"
    }
   ],
   "source": [
    "[i**2 for i in range(1, 10, 2)]"
   ]
  },
  {
   "cell_type": "markdown",
   "id": "b42c8a16-7c80-4d23-b5fb-74e0c428f4a6",
   "metadata": {},
   "source": [
    "iterando su una lista non si ha direttamente a disposizione l'indice dell'elemento, per questo a volte a \n",
    "```\n",
    "for elemento in lista:\n",
    "    print(elemento)\n",
    "```\n",
    "si preferisce l'analogo\n",
    "```\n",
    "for i in range(len(lista)):\n",
    "    print(lista[i])\n",
    "```"
   ]
  },
  {
   "cell_type": "code",
   "execution_count": 41,
   "id": "53ee0b52",
   "metadata": {},
   "outputs": [
    {
     "name": "stdout",
     "output_type": "stream",
     "text": [
      "Il nome in posizione 0 è Alice\n",
      "Il nome in posizione 1 è Bruno\n",
      "Il nome in posizione 2 è Carlo\n",
      "Il nome in posizione 3 è Daniele\n"
     ]
    }
   ],
   "source": [
    "for i in range(len(nomi)):\n",
    "    print(f'Il nome in posizione {i} è {nomi[i]}')"
   ]
  },
  {
   "cell_type": "markdown",
   "id": "37940859-8998-48dd-a62b-591e5530e32a",
   "metadata": {},
   "source": [
    "Altrimenti si può usare il comando `enumerate`."
   ]
  },
  {
   "cell_type": "markdown",
   "id": "9eca5ace",
   "metadata": {},
   "source": [
    "## `enumerate(iterable)`\n",
    "\n",
    "La funzione `enumerate()` aggiunge un contatore all'iterabile e lo restituisce."
   ]
  },
  {
   "cell_type": "code",
   "execution_count": 44,
   "id": "f920d2b2-93c1-45ff-acf8-f08dedf0daaf",
   "metadata": {},
   "outputs": [
    {
     "data": {
      "text/plain": [
       "enumerate"
      ]
     },
     "execution_count": 44,
     "metadata": {},
     "output_type": "execute_result"
    }
   ],
   "source": [
    "type(enumerate(nomi))"
   ]
  },
  {
   "cell_type": "code",
   "execution_count": 45,
   "id": "9f5bf961",
   "metadata": {},
   "outputs": [
    {
     "data": {
      "text/plain": [
       "[(0, 'Alice'), (1, 'Bruno'), (2, 'Carlo'), (3, 'Daniele')]"
      ]
     },
     "execution_count": 45,
     "metadata": {},
     "output_type": "execute_result"
    }
   ],
   "source": [
    "list(enumerate(nomi))"
   ]
  },
  {
   "cell_type": "code",
   "execution_count": 46,
   "id": "3e11e360",
   "metadata": {},
   "outputs": [
    {
     "name": "stdout",
     "output_type": "stream",
     "text": [
      "(0, 'Alice')\n",
      "(1, 'Bruno')\n",
      "(2, 'Carlo')\n",
      "(3, 'Daniele')\n"
     ]
    }
   ],
   "source": [
    "for n in enumerate(nomi):\n",
    "    print(n)"
   ]
  },
  {
   "cell_type": "code",
   "execution_count": 47,
   "id": "f6602cde",
   "metadata": {},
   "outputs": [
    {
     "name": "stdout",
     "output_type": "stream",
     "text": [
      "0 Alice\n",
      "1 Bruno\n",
      "2 Carlo\n",
      "3 Daniele\n"
     ]
    }
   ],
   "source": [
    "for i, n in enumerate(nomi):\n",
    "    print(i, n)"
   ]
  },
  {
   "cell_type": "code",
   "execution_count": null,
   "id": "6208c21c-9f7f-4ee2-a817-613ef222ff00",
   "metadata": {},
   "outputs": [],
   "source": [
    "# for(i = 0; i < N; i++)\n",
    "for i in range(N):\n",
    "    "
   ]
  },
  {
   "cell_type": "markdown",
   "id": "57c20ff5-b57e-4461-966f-f3c8c1f7fe35",
   "metadata": {},
   "source": [
    "Vediamo ora un piccolo esempio riepilogativo:"
   ]
  },
  {
   "cell_type": "markdown",
   "id": "adb18256",
   "metadata": {},
   "source": [
    "# Indovina il Numero!"
   ]
  },
  {
   "cell_type": "markdown",
   "id": "32cdf184-5dca-4449-9d89-3d8d488dcc3f",
   "metadata": {},
   "source": [
    "Vogliamo scrivere un programma che generi un numero casuale fra uno e dieci che permetta all'utente di tentare di indovinarlo dando indizzi se il numero è più o meno grande del valore fornito. "
   ]
  },
  {
   "cell_type": "code",
   "execution_count": 48,
   "id": "e89a3c78-cdf1-4a97-9ad5-e5c57733711c",
   "metadata": {},
   "outputs": [],
   "source": [
    "# Importiamo il modulo random \n",
    "# che contiene funzioni per generare numeri casuali\n",
    "import random"
   ]
  },
  {
   "cell_type": "code",
   "execution_count": 49,
   "id": "abe592b0-311f-4592-bc78-38f10ef42639",
   "metadata": {},
   "outputs": [],
   "source": [
    "# La funzione randint(low, high) del modulo random\n",
    "# resituisce un numero intero uniformemente distribuito\n",
    "# fra low (compreso) e high (escluso)\n",
    "numero = random.randint(1, 11)"
   ]
  },
  {
   "cell_type": "code",
   "execution_count": 50,
   "id": "1cd80449-4006-4a33-8a32-7cd38ec6c36f",
   "metadata": {},
   "outputs": [],
   "source": [
    "# Impostiamo un contatore dei tentativi \n",
    "tentativi = 0"
   ]
  },
  {
   "cell_type": "markdown",
   "id": "cf9ab39b-c15d-4c53-8255-a761a3e5a5f9",
   "metadata": {},
   "source": [
    "Per per permettere l'input di una stringa da tastiera si usa la funzione integrata `input(messaggio)` che stampa `messaggio` e memorizza ciò che viene scritto fino a che non si preme Invio."
   ]
  },
  {
   "cell_type": "code",
   "execution_count": 54,
   "id": "2013b43a-4b91-4a61-9efe-86bf842853d2",
   "metadata": {},
   "outputs": [
    {
     "name": "stdin",
     "output_type": "stream",
     "text": [
      "Inserisci la tua risposta:  5\n"
     ]
    },
    {
     "name": "stdout",
     "output_type": "stream",
     "text": [
      "5 è corretto. Hai vinto!\n",
      "Ti ci sono voluti 1 tentativi.\n"
     ]
    }
   ],
   "source": [
    "numero = random.randint(1, 11)\n",
    "tentativi = 0\n",
    "\n",
    "# ATTENZIONE: while True è un ciclo infinito che non\n",
    "# termina a meno che non interrotto in qualche modo\n",
    "while True:\n",
    "    # Incrementiamo il numero di tentativi \n",
    "    tentativi += 1\n",
    "    # Salviamo il tentativo corrente\n",
    "    # La funzione input fa inserire una stringa da tastiera\n",
    "    risposta = int(input('Inserisci la tua risposta: '))\n",
    "    # Se il tentativo è corretto stampa congratulazioni e termina il\n",
    "    # ciclo\n",
    "    if numero == risposta:\n",
    "        print(f'{risposta} è corretto. Hai vinto!')\n",
    "        print(f'Ti ci sono voluti {tentativi} tentativi.')\n",
    "        break\n",
    "    # Altrimenti dai un indizio sul numero.\n",
    "    else:\n",
    "        print(f'{risposta} non è corretto. Riprova.')\n",
    "        if risposta > numero:\n",
    "            print('Il numero da indovinare è più basso.\\n')\n",
    "        else:\n",
    "            print('Il numero da indovinare è più alto.\\n')"
   ]
  },
  {
   "cell_type": "markdown",
   "id": "ff955dc3-be4b-4414-bf08-2e65a4dbbffb",
   "metadata": {},
   "source": [
    "# Esercizi"
   ]
  },
  {
   "cell_type": "markdown",
   "id": "85dfac09-50a5-46d6-9f6f-751ae6c5f870",
   "metadata": {},
   "source": [
    "Scrivere un programma che funzioni come \"Indovina il Numero!\" ma che conceda solamente tre tentativi e che stampi un messaggio di incoraggiamento se non si riesce ad indovinare."
   ]
  },
  {
   "cell_type": "code",
   "execution_count": 55,
   "id": "28413a32-4fa2-4d1a-93c7-ed56877930ee",
   "metadata": {},
   "outputs": [
    {
     "name": "stdin",
     "output_type": "stream",
     "text": [
      "Inserisci la tua risposta:  5\n"
     ]
    },
    {
     "name": "stdout",
     "output_type": "stream",
     "text": [
      "5 non è corretto. Riprova.\n",
      "Il numero da indovinare è più basso.\n",
      "\n"
     ]
    },
    {
     "name": "stdin",
     "output_type": "stream",
     "text": [
      "Inserisci la tua risposta:  8\n"
     ]
    },
    {
     "name": "stdout",
     "output_type": "stream",
     "text": [
      "8 non è corretto. Riprova.\n",
      "Il numero da indovinare è più basso.\n",
      "\n"
     ]
    },
    {
     "name": "stdin",
     "output_type": "stream",
     "text": [
      "Inserisci la tua risposta:  9\n"
     ]
    },
    {
     "name": "stdout",
     "output_type": "stream",
     "text": [
      "9 non è corretto. Riprova.\n",
      "Il numero da indovinare è più basso.\n",
      "\n",
      "Hai superato il numero massimo di tentativi. Ritenta sarai più fortunato.\n"
     ]
    }
   ],
   "source": [
    "import random\n",
    "numero = random.randint(1, 11)\n",
    "tentativi = 0\n",
    "\n",
    "#while True:\n",
    "while tentativi < 3:\n",
    "    \n",
    "    tentativi += 1\n",
    " \n",
    "    risposta = int(input('Inserisci la tua risposta: '))\n",
    "\n",
    "    if numero == risposta:\n",
    "        print(f'{risposta} è corretto. Hai vinto!')\n",
    "        print(f'Ti ci sono voluti {tentativi} tentativi.')\n",
    "        break\n",
    "    else:\n",
    "        print(f'{risposta} non è corretto. Riprova.')\n",
    "        if risposta > numero:\n",
    "            print('Il numero da indovinare è più basso.\\n')\n",
    "        else:\n",
    "            print('Il numero da indovinare è più alto.\\n')\n",
    "            \n",
    "else:\n",
    "    print(\"Hai superato il numero massimo di tentativi. Ritenta sarai più fortunato.\")"
   ]
  },
  {
   "cell_type": "markdown",
   "id": "2a9a3087-538e-4447-ad22-2ee699513e11",
   "metadata": {},
   "source": [
    "Scrivere un programma che iteri sui primi dieci numeri interi e che:\n",
    "\n",
    "- calcoli la loro somma\n",
    "- calcoli il loro prodotto\n",
    "\n",
    "oppure che:\n",
    "\n",
    "- stampi ogni numero solo se divisibile per 3\n",
    "- stampi ogni numero se pari o meno il numero se dispari\n",
    "- cacoli la percentuale di numeri divisivili per 3"
   ]
  },
  {
   "cell_type": "code",
   "execution_count": 57,
   "id": "a8d5a9bb-2ce8-4cc3-b3f9-0340d1d16a7e",
   "metadata": {},
   "outputs": [
    {
     "name": "stdout",
     "output_type": "stream",
     "text": [
      "1\n",
      "3\n",
      "6\n",
      "10\n",
      "15\n",
      "21\n",
      "28\n",
      "36\n",
      "45\n",
      "55\n",
      "La somma dei primi 10 numeri è 55\n"
     ]
    }
   ],
   "source": [
    "somma = 0\n",
    "for i in range(1, 11):\n",
    "    somma = somma + i\n",
    "    print(somma)\n",
    "print(f\"La somma dei primi 10 numeri è {somma}\")"
   ]
  },
  {
   "cell_type": "code",
   "execution_count": 58,
   "id": "295b6a05-66da-44d8-9cae-415efa36a9cf",
   "metadata": {},
   "outputs": [
    {
     "data": {
      "text/plain": [
       "[1, 2, 3, 4, 5, 6, 7, 8, 9, 10]"
      ]
     },
     "execution_count": 58,
     "metadata": {},
     "output_type": "execute_result"
    }
   ],
   "source": [
    "[ i  for i in range(1, 11)]"
   ]
  },
  {
   "cell_type": "code",
   "execution_count": 59,
   "id": "d7b06c40-f3b7-46ec-9e05-87f75fc64c32",
   "metadata": {},
   "outputs": [
    {
     "data": {
      "text/plain": [
       "55"
      ]
     },
     "execution_count": 59,
     "metadata": {},
     "output_type": "execute_result"
    }
   ],
   "source": [
    "sum([ i for i in range(1, 11) ])"
   ]
  },
  {
   "cell_type": "code",
   "execution_count": 60,
   "id": "3477979c-e7f4-403c-8f08-05386e6fcb33",
   "metadata": {},
   "outputs": [
    {
     "name": "stdout",
     "output_type": "stream",
     "text": [
      "1\n",
      "2\n",
      "6\n",
      "24\n",
      "120\n",
      "720\n",
      "5040\n",
      "40320\n",
      "362880\n",
      "3628800\n"
     ]
    }
   ],
   "source": [
    "prodotto = 1\n",
    "for i in range(1, 11):\n",
    "    #prodotto = prodotto * i\n",
    "    prodotto *= i\n",
    "    print(prodotto)"
   ]
  },
  {
   "cell_type": "code",
   "execution_count": 63,
   "id": "18ba042e-d0e0-4627-ad9f-39eb420373ba",
   "metadata": {},
   "outputs": [
    {
     "name": "stdout",
     "output_type": "stream",
     "text": [
      "4\n",
      "8\n"
     ]
    }
   ],
   "source": [
    "for i in range(1, 11):\n",
    "    if i % 3 == 0:\n",
    "        print(i)"
   ]
  },
  {
   "cell_type": "code",
   "execution_count": 64,
   "id": "36a96809-a732-49d5-a38c-a68e4af8d433",
   "metadata": {},
   "outputs": [
    {
     "name": "stdout",
     "output_type": "stream",
     "text": [
      "-1\n",
      "2\n",
      "-3\n",
      "4\n",
      "-5\n",
      "6\n",
      "-7\n",
      "8\n",
      "-9\n",
      "10\n"
     ]
    }
   ],
   "source": [
    "for i in range(1, 11):\n",
    "    if i % 2 == 0:\n",
    "        print(i)\n",
    "    else:\n",
    "        print(-i)"
   ]
  },
  {
   "cell_type": "code",
   "execution_count": 67,
   "id": "15610c26-6e40-4bfc-9f32-46aaf715fea5",
   "metadata": {},
   "outputs": [
    {
     "name": "stdout",
     "output_type": "stream",
     "text": [
      "La percentuale è 33.0 %\n"
     ]
    }
   ],
   "source": [
    "count = 0\n",
    "n = 100\n",
    "\n",
    "for i in range(1, n):\n",
    "    if i % 3 == 0:\n",
    "        count += 1\n",
    "percentuale = count / n * 100\n",
    "print(f\"La percentuale è {percentuale} %\")"
   ]
  },
  {
   "cell_type": "markdown",
   "id": "0b5bc516-bdb3-4ea5-9d3e-6a0fa50d830b",
   "metadata": {},
   "source": [
    "Scrivere un programma che legga il contenuto del file `canto1.txt`, contenente il primo canto dell'inferno di Dante, e che stampi il dizionario contente il conteggio di paraole che iniziano con ognuna delle lettere dell'alfabeto. Non cosiderare parole la cui iniziale non è una lettera.\n",
    "\n",
    "Dopodiché creare la lista delle lettere che sono l'iniziale di meno di 30 parole nel canto."
   ]
  },
  {
   "cell_type": "code",
   "execution_count": null,
   "id": "d7b337cd-986e-419f-beb1-822db6a6c869",
   "metadata": {},
   "outputs": [],
   "source": []
  },
  {
   "cell_type": "markdown",
   "id": "23a4b2c6-0a7a-4378-9c13-5290a9817946",
   "metadata": {},
   "source": [
    "Scrivere un programma che calcoli il numero di occorrenze di ogni parola  all'interno del file `inferno.txt` contente la prima cantica della Divina Commedia. Qual è la parola più frequente fra spiriti, sangue, giorno e amore ?"
   ]
  },
  {
   "cell_type": "code",
   "execution_count": null,
   "id": "f9385577-475c-496a-8d10-37bc4a3c1fd3",
   "metadata": {},
   "outputs": [],
   "source": []
  },
  {
   "cell_type": "markdown",
   "id": "304cb42f-40e6-43c4-b0dd-bf8ca6bbdb5a",
   "metadata": {},
   "source": [
    "Scrivere un programma che calcoli il fattoriale di un numero intero \n",
    "$$\n",
    "n! = 1 \\cdot 2 \\cdots (n-1) \\cdot n\n",
    "$$\n",
    "assicurandosi che il numero inserito sia effettivamente un intero e che stampa un errore in caso contrario."
   ]
  },
  {
   "cell_type": "code",
   "execution_count": null,
   "id": "9398ae99-ea72-4ca3-9a5e-ca1b8546d8c7",
   "metadata": {},
   "outputs": [],
   "source": []
  },
  {
   "cell_type": "markdown",
   "id": "56462535-2711-49a4-bcb7-8e64f5c546f8",
   "metadata": {},
   "source": [
    "Scrivere un programma in cui giochi a 'Sasso, Carta, Forbici' contro il computer che sceglie le mosse casualment. Impostare la partita alla meglio di tre, tenendo traccia del risultato. Per scegliere casualmente un elemento in una lista si può usare la funzione `choice` del modulo `random`."
   ]
  },
  {
   "cell_type": "code",
   "execution_count": null,
   "id": "b8ff9b68",
   "metadata": {},
   "outputs": [],
   "source": []
  }
 ],
 "metadata": {
  "kernelspec": {
   "display_name": "Python 3 (ipykernel)",
   "language": "python",
   "name": "python3"
  },
  "language_info": {
   "codemirror_mode": {
    "name": "ipython",
    "version": 3
   },
   "file_extension": ".py",
   "mimetype": "text/x-python",
   "name": "python",
   "nbconvert_exporter": "python",
   "pygments_lexer": "ipython3",
   "version": "3.12.2"
  }
 },
 "nbformat": 4,
 "nbformat_minor": 5
}
