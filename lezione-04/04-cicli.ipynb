{
 "cells": [
  {
   "cell_type": "markdown",
   "id": "ad762ad6",
   "metadata": {},
   "source": [
    "# Ciclo\n",
    "\n",
    "Un **ciclo** è un'istruzione all'interno di un programma che viene ripetuta sino a quando una condizione non viene raggiunta.\n",
    "\n",
    "## `for`\n",
    "\n",
    "Un ciclo `for` è utilizzato per iterare su una sequenza, ad esempio liste, tuple o stringhe, ed eseguire una serie di comandi per ognuno degli elementi della sequenza.\n",
    "\n",
    "```\n",
    "for <var> in <iterable>:\n",
    "    <statement>\n",
    "```\n",
    "\n",
    "Un **iterabile** è un oggetto capace di restituire i suoi elementi uno alla volta, potendo dunque essere utilizzato in un ciclo for."
   ]
  },
  {
   "cell_type": "code",
   "execution_count": null,
   "id": "d7b602b3",
   "metadata": {},
   "outputs": [],
   "source": []
  },
  {
   "cell_type": "code",
   "execution_count": null,
   "id": "46206c05",
   "metadata": {},
   "outputs": [],
   "source": []
  },
  {
   "cell_type": "markdown",
   "id": "db5f2c45",
   "metadata": {},
   "source": [
    "## List Comprehension\n",
    "\n",
    "Una **list comprehension** permette di creare una nuova lista iterando sugli elementi di una lista già esistente utilizzando una sintassi più breve.\n",
    "\n",
    "```\n",
    "[<statement> for <var> in <iterable>]\n",
    "```"
   ]
  },
  {
   "cell_type": "code",
   "execution_count": null,
   "id": "0fbc5725",
   "metadata": {},
   "outputs": [],
   "source": []
  },
  {
   "cell_type": "code",
   "execution_count": null,
   "id": "504308fe",
   "metadata": {},
   "outputs": [],
   "source": []
  },
  {
   "cell_type": "code",
   "execution_count": null,
   "id": "6b7d4651",
   "metadata": {},
   "outputs": [],
   "source": []
  },
  {
   "cell_type": "code",
   "execution_count": null,
   "id": "60d494fe",
   "metadata": {},
   "outputs": [],
   "source": []
  },
  {
   "cell_type": "code",
   "execution_count": null,
   "id": "96be5f1a",
   "metadata": {},
   "outputs": [],
   "source": []
  },
  {
   "cell_type": "markdown",
   "id": "ea50225b",
   "metadata": {},
   "source": [
    "## `while`\n",
    "\n",
    "Il ciclo `while` è utilizzato per iterare su un blocco di codice fin quando una condizione è vera.\n",
    "\n",
    "```\n",
    "while <expr>:\n",
    "    <statement>\n",
    "```"
   ]
  },
  {
   "cell_type": "code",
   "execution_count": null,
   "id": "f8f0353e",
   "metadata": {
    "scrolled": true
   },
   "outputs": [],
   "source": []
  },
  {
   "cell_type": "markdown",
   "id": "240902fe",
   "metadata": {},
   "source": [
    "## `break`\n",
    "\n",
    "Il comando `break` termina il ciclo corrente e continua l'esecuzione dal comando successivo."
   ]
  },
  {
   "cell_type": "code",
   "execution_count": null,
   "id": "062ea024",
   "metadata": {},
   "outputs": [],
   "source": []
  },
  {
   "cell_type": "markdown",
   "id": "78aa1f1c",
   "metadata": {},
   "source": [
    "## `continue`\n",
    "\n",
    "Il comando `continue` ignora tutti i comandi rimanenti nell'iterazione attuale del ciclo, passando dunque all'iterazione successiva."
   ]
  },
  {
   "cell_type": "code",
   "execution_count": null,
   "id": "88cc48da",
   "metadata": {},
   "outputs": [],
   "source": []
  },
  {
   "cell_type": "markdown",
   "id": "79300cdb",
   "metadata": {},
   "source": [
    "## `pass`\n",
    "\n",
    "Il comando `pass` non comporta nessun cambiamento nell'esecuzione dell'attuale iterazione."
   ]
  },
  {
   "cell_type": "code",
   "execution_count": null,
   "id": "b8043bb4",
   "metadata": {},
   "outputs": [],
   "source": []
  },
  {
   "cell_type": "markdown",
   "id": "e23091af",
   "metadata": {},
   "source": [
    "## `else`\n",
    "\n",
    "Il comando `else` viene eseguito se il ciclo termina normalmente, dunque se non innesca un comando `break`."
   ]
  },
  {
   "cell_type": "code",
   "execution_count": null,
   "id": "6156b96a",
   "metadata": {},
   "outputs": [],
   "source": []
  },
  {
   "cell_type": "markdown",
   "id": "98864818",
   "metadata": {},
   "source": [
    "# Funzioni Integrate\n",
    "\n",
    "Le **funzioni integrate** sono predefinite nella libreria del linguaggio di programmazione e possono essere utilizzate ogni volta che se ne ha bisogno senza essere esplicitamente definite.\n",
    "\n",
    "## `range(start, stop, step)`\n",
    "\n",
    "La funzione `range()` restituisce una sequenza di numeri, iniziando di default a 0, incrementando di 1 di default, e fermandosi al numero specificato."
   ]
  },
  {
   "cell_type": "code",
   "execution_count": null,
   "id": "7995e1c0",
   "metadata": {},
   "outputs": [],
   "source": []
  },
  {
   "cell_type": "code",
   "execution_count": null,
   "id": "4d91b27c",
   "metadata": {},
   "outputs": [],
   "source": []
  },
  {
   "cell_type": "markdown",
   "id": "9eca5ace",
   "metadata": {},
   "source": [
    "## `enumerate(iterable)`\n",
    "\n",
    "La funzione `enumerate()` aggiunge un contatore all'iterabile e lo restituisce."
   ]
  },
  {
   "cell_type": "code",
   "execution_count": null,
   "id": "f6602cde",
   "metadata": {},
   "outputs": [],
   "source": []
  },
  {
   "cell_type": "markdown",
   "id": "adb18256",
   "metadata": {},
   "source": [
    "# Indovina il Numero!"
   ]
  },
  {
   "cell_type": "code",
   "execution_count": null,
   "id": "56f35aeb",
   "metadata": {},
   "outputs": [],
   "source": []
  },
  {
   "cell_type": "markdown",
   "id": "5ce72696",
   "metadata": {},
   "source": [
    "# Esercizio\n",
    "\n",
    "Scrivi un programma in cui giochi a 'Sasso, Carta, Forbici' contro il computer. Fa sì che sia alla meglio di tre, mantenento consecutive le lezioni."
   ]
  },
  {
   "cell_type": "code",
   "execution_count": null,
   "id": "f66dba85",
   "metadata": {},
   "outputs": [],
   "source": []
  },
  {
   "cell_type": "code",
   "execution_count": null,
   "id": "9e3f650b",
   "metadata": {},
   "outputs": [],
   "source": []
  }
 ],
 "metadata": {
  "kernelspec": {
   "display_name": "Python 3 (ipykernel)",
   "language": "python",
   "name": "python3"
  },
  "language_info": {
   "codemirror_mode": {
    "name": "ipython",
    "version": 3
   },
   "file_extension": ".py",
   "mimetype": "text/x-python",
   "name": "python",
   "nbconvert_exporter": "python",
   "pygments_lexer": "ipython3",
   "version": "3.8.13"
  }
 },
 "nbformat": 4,
 "nbformat_minor": 5
}
