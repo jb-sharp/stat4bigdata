{
 "cells": [
  {
   "cell_type": "markdown",
   "id": "ad762ad6",
   "metadata": {},
   "source": [
    "# Ciclo\n",
    "\n",
    "Un **ciclo** è un'istruzione all'interno di un programma che viene ripetuta sino a quando una condizione non viene raggiunta.\n",
    "\n",
    "## `for`\n",
    "\n",
    "Un ciclo `for` è utilizzato per iterare su una sequenza, ad esempio liste, tuple o stringhe, ed eseguire una serie di comandi per ognuno degli elementi della sequenza.\n",
    "\n",
    "```\n",
    "for <var> in <iterable>:\n",
    "    <statement>\n",
    "```\n",
    "\n",
    "Un **iterabile** è un oggetto capace di restituire i suoi elementi uno alla volta, potendo dunque essere utilizzato in un ciclo for."
   ]
  },
  {
   "cell_type": "code",
   "execution_count": 2,
   "id": "d7b602b3",
   "metadata": {},
   "outputs": [],
   "source": [
    "nomi = ['Alice', 'Bruno', 'Carlo', 'Daniele']"
   ]
  },
  {
   "cell_type": "code",
   "execution_count": 3,
   "id": "46206c05",
   "metadata": {},
   "outputs": [
    {
     "data": {
      "text/plain": [
       "'ALICE'"
      ]
     },
     "execution_count": 3,
     "metadata": {},
     "output_type": "execute_result"
    }
   ],
   "source": [
    "nomi[0].upper()"
   ]
  },
  {
   "cell_type": "code",
   "execution_count": 4,
   "id": "9f1b3026",
   "metadata": {},
   "outputs": [
    {
     "data": {
      "text/plain": [
       "'BRUNO'"
      ]
     },
     "execution_count": 4,
     "metadata": {},
     "output_type": "execute_result"
    }
   ],
   "source": [
    "nomi[1].upper()"
   ]
  },
  {
   "cell_type": "code",
   "execution_count": 5,
   "id": "3d372efb",
   "metadata": {},
   "outputs": [
    {
     "name": "stdout",
     "output_type": "stream",
     "text": [
      "Alice\n",
      "ALICE\n",
      "Bruno\n",
      "BRUNO\n",
      "Carlo\n",
      "CARLO\n",
      "Daniele\n",
      "DANIELE\n"
     ]
    }
   ],
   "source": [
    "for nome in nomi:\n",
    "    print(nome)\n",
    "    print(nome.upper())"
   ]
  },
  {
   "cell_type": "code",
   "execution_count": 6,
   "id": "173bf275",
   "metadata": {},
   "outputs": [
    {
     "data": {
      "text/plain": [
       "'Daniele'"
      ]
     },
     "execution_count": 6,
     "metadata": {},
     "output_type": "execute_result"
    }
   ],
   "source": [
    "nome"
   ]
  },
  {
   "cell_type": "code",
   "execution_count": 9,
   "id": "c7032589",
   "metadata": {},
   "outputs": [
    {
     "data": {
      "text/plain": [
       "{'c': 1, 'i': 1, 'a': 1, 'o': 1}"
      ]
     },
     "execution_count": 9,
     "metadata": {},
     "output_type": "execute_result"
    }
   ],
   "source": [
    "'ciao'\n",
    "\n",
    "{'c': 1, 'i': 1, 'a': 1, 'o': 1}"
   ]
  },
  {
   "cell_type": "code",
   "execution_count": 10,
   "id": "f1422d84",
   "metadata": {},
   "outputs": [
    {
     "data": {
      "text/plain": [
       "[]"
      ]
     },
     "execution_count": 10,
     "metadata": {},
     "output_type": "execute_result"
    }
   ],
   "source": [
    "[] # lista vuota"
   ]
  },
  {
   "cell_type": "code",
   "execution_count": 11,
   "id": "d3bd9b48",
   "metadata": {},
   "outputs": [
    {
     "data": {
      "text/plain": [
       "()"
      ]
     },
     "execution_count": 11,
     "metadata": {},
     "output_type": "execute_result"
    }
   ],
   "source": [
    "() # tupla vuota"
   ]
  },
  {
   "cell_type": "code",
   "execution_count": 12,
   "id": "c60949e9",
   "metadata": {},
   "outputs": [
    {
     "data": {
      "text/plain": [
       "{}"
      ]
     },
     "execution_count": 12,
     "metadata": {},
     "output_type": "execute_result"
    }
   ],
   "source": [
    "{} # dizionario vuoto"
   ]
  },
  {
   "cell_type": "code",
   "execution_count": 15,
   "id": "a0263933",
   "metadata": {},
   "outputs": [],
   "source": [
    "count['C'] = 1"
   ]
  },
  {
   "cell_type": "code",
   "execution_count": 16,
   "id": "6eac55ee",
   "metadata": {},
   "outputs": [
    {
     "data": {
      "text/plain": [
       "{'C': 1}"
      ]
     },
     "execution_count": 16,
     "metadata": {},
     "output_type": "execute_result"
    }
   ],
   "source": [
    "count"
   ]
  },
  {
   "cell_type": "code",
   "execution_count": 32,
   "id": "d55ce47b",
   "metadata": {},
   "outputs": [
    {
     "name": "stdout",
     "output_type": "stream",
     "text": [
      "{'c': 1}\n",
      "{'c': 1, 'i': 1}\n",
      "{'c': 1, 'i': 1, 'a': 1}\n",
      "{'c': 1, 'i': 1, 'a': 1, 'o': 1}\n",
      "{'c': 1, 'i': 1, 'a': 1, 'o': 1}\n",
      "{'c': 1, 'i': 1, 'a': 1, 'o': 1}\n",
      "{'c': 2, 'i': 1, 'a': 1, 'o': 1}\n",
      "{'c': 2, 'i': 1, 'a': 1, 'o': 2}\n",
      "{'c': 2, 'i': 1, 'a': 1, 'o': 2, 'm': 1}\n",
      "{'c': 2, 'i': 1, 'a': 1, 'o': 2, 'm': 1, 'e': 1}\n",
      "{'c': 2, 'i': 1, 'a': 1, 'o': 2, 'm': 1, 'e': 1}\n",
      "{'c': 2, 'i': 1, 'a': 1, 'o': 2, 'm': 1, 'e': 1, 's': 1}\n",
      "{'c': 2, 'i': 1, 'a': 1, 'o': 2, 'm': 1, 'e': 1, 's': 1, 't': 1}\n",
      "{'c': 2, 'i': 1, 'a': 2, 'o': 2, 'm': 1, 'e': 1, 's': 1, 't': 1}\n",
      "{'c': 2, 'i': 2, 'a': 2, 'o': 2, 'm': 1, 'e': 1, 's': 1, 't': 1}\n",
      "{'c': 2, 'i': 2, 'a': 2, 'o': 2, 'm': 1, 'e': 1, 's': 1, 't': 1}\n"
     ]
    }
   ],
   "source": [
    "testo = 'ciao, come stai?'\n",
    "count = {}\n",
    "\n",
    "for car in testo:\n",
    "    if car.isalpha():\n",
    "        if car in count:\n",
    "            count[car] += 1\n",
    "        else:\n",
    "            count[car] = 1\n",
    "    print(count)"
   ]
  },
  {
   "cell_type": "code",
   "execution_count": 33,
   "id": "b0ea7603",
   "metadata": {},
   "outputs": [],
   "source": [
    "testo = 'Ciao, mi chiamo Sergio. Piacere di conoscerti.'\n",
    "count = {}\n",
    "\n",
    "for car in testo:\n",
    "    if car.isalpha():\n",
    "        car = car.lower()\n",
    "        if car in count:\n",
    "            count[car] += 1\n",
    "        else:\n",
    "            count[car] = 1"
   ]
  },
  {
   "cell_type": "code",
   "execution_count": 34,
   "id": "d1eb563b",
   "metadata": {},
   "outputs": [
    {
     "data": {
      "text/plain": [
       "{'c': 5,\n",
       " 'i': 7,\n",
       " 'a': 3,\n",
       " 'o': 5,\n",
       " 'm': 2,\n",
       " 'h': 1,\n",
       " 's': 2,\n",
       " 'e': 4,\n",
       " 'r': 3,\n",
       " 'g': 1,\n",
       " 'p': 1,\n",
       " 'd': 1,\n",
       " 'n': 1,\n",
       " 't': 1}"
      ]
     },
     "execution_count": 34,
     "metadata": {},
     "output_type": "execute_result"
    }
   ],
   "source": [
    "count"
   ]
  },
  {
   "cell_type": "code",
   "execution_count": 26,
   "id": "610acd53",
   "metadata": {},
   "outputs": [
    {
     "data": {
      "text/plain": [
       "True"
      ]
     },
     "execution_count": 26,
     "metadata": {},
     "output_type": "execute_result"
    }
   ],
   "source": [
    "'c'.isalpha()"
   ]
  },
  {
   "cell_type": "code",
   "execution_count": 27,
   "id": "44b15e36",
   "metadata": {},
   "outputs": [
    {
     "data": {
      "text/plain": [
       "False"
      ]
     },
     "execution_count": 27,
     "metadata": {},
     "output_type": "execute_result"
    }
   ],
   "source": [
    "'1223'.isalpha()"
   ]
  },
  {
   "cell_type": "code",
   "execution_count": 28,
   "id": "bbf49e78",
   "metadata": {},
   "outputs": [
    {
     "data": {
      "text/plain": [
       "False"
      ]
     },
     "execution_count": 28,
     "metadata": {},
     "output_type": "execute_result"
    }
   ],
   "source": [
    "'a1223'.isalpha()"
   ]
  },
  {
   "cell_type": "markdown",
   "id": "db5f2c45",
   "metadata": {},
   "source": [
    "## List Comprehension\n",
    "\n",
    "Una **list comprehension** permette di creare una nuova lista iterando sugli elementi di una lista già esistente utilizzando una sintassi più breve.\n",
    "\n",
    "```\n",
    "[<statement> for <var> in <iterable>]\n",
    "```"
   ]
  },
  {
   "cell_type": "code",
   "execution_count": 35,
   "id": "0fbc5725",
   "metadata": {},
   "outputs": [
    {
     "data": {
      "text/plain": [
       "['Alice', 'Bruno', 'Carlo', 'Daniele']"
      ]
     },
     "execution_count": 35,
     "metadata": {},
     "output_type": "execute_result"
    }
   ],
   "source": [
    "nomi"
   ]
  },
  {
   "cell_type": "code",
   "execution_count": 36,
   "id": "504308fe",
   "metadata": {},
   "outputs": [],
   "source": [
    "nomi_upper = []\n",
    "\n",
    "for n in nomi:\n",
    "    nomi_upper.append(n.upper())"
   ]
  },
  {
   "cell_type": "code",
   "execution_count": 38,
   "id": "e7dc66ab",
   "metadata": {},
   "outputs": [
    {
     "data": {
      "text/plain": [
       "['ALICE', 'BRUNO', 'CARLO', 'DANIELE']"
      ]
     },
     "execution_count": 38,
     "metadata": {},
     "output_type": "execute_result"
    }
   ],
   "source": [
    "nomi_upper"
   ]
  },
  {
   "cell_type": "code",
   "execution_count": 39,
   "id": "6b7d4651",
   "metadata": {},
   "outputs": [],
   "source": [
    "nomi_upper = [n.upper() for n in nomi]"
   ]
  },
  {
   "cell_type": "code",
   "execution_count": 40,
   "id": "60d494fe",
   "metadata": {},
   "outputs": [
    {
     "data": {
      "text/plain": [
       "['ALICE', 'BRUNO', 'CARLO', 'DANIELE']"
      ]
     },
     "execution_count": 40,
     "metadata": {},
     "output_type": "execute_result"
    }
   ],
   "source": [
    "nomi_upper"
   ]
  },
  {
   "cell_type": "code",
   "execution_count": 41,
   "id": "96be5f1a",
   "metadata": {},
   "outputs": [
    {
     "data": {
      "text/plain": [
       "{'Alice': 'ALICE', 'Bruno': 'BRUNO', 'Carlo': 'CARLO', 'Daniele': 'DANIELE'}"
      ]
     },
     "execution_count": 41,
     "metadata": {},
     "output_type": "execute_result"
    }
   ],
   "source": [
    "{n: n.upper() for n in nomi}"
   ]
  },
  {
   "cell_type": "code",
   "execution_count": 42,
   "id": "03e799c3",
   "metadata": {},
   "outputs": [],
   "source": [
    "nomi_con_e = []\n",
    "for n in nomi:\n",
    "    if 'e' in n:\n",
    "        nomi_con_e.append(n.replace('e', '_'))"
   ]
  },
  {
   "cell_type": "code",
   "execution_count": 44,
   "id": "b60df1fd",
   "metadata": {},
   "outputs": [
    {
     "data": {
      "text/plain": [
       "['Alic_', 'Dani_l_']"
      ]
     },
     "execution_count": 44,
     "metadata": {},
     "output_type": "execute_result"
    }
   ],
   "source": [
    "nomi_con_e"
   ]
  },
  {
   "cell_type": "code",
   "execution_count": 45,
   "id": "7f1f99e3",
   "metadata": {},
   "outputs": [
    {
     "data": {
      "text/plain": [
       "['Alic_', 'Dani_l_']"
      ]
     },
     "execution_count": 45,
     "metadata": {},
     "output_type": "execute_result"
    }
   ],
   "source": [
    "[n.replace('e', '_') for n in nomi if 'e' in n]"
   ]
  },
  {
   "cell_type": "markdown",
   "id": "ea50225b",
   "metadata": {},
   "source": [
    "## `while`\n",
    "\n",
    "Il ciclo `while` è utilizzato per iterare su un blocco di codice fin quando una condizione è vera.\n",
    "\n",
    "```\n",
    "while <expr>:\n",
    "    <statement>\n",
    "```"
   ]
  },
  {
   "cell_type": "code",
   "execution_count": 48,
   "id": "f8f0353e",
   "metadata": {
    "scrolled": true
   },
   "outputs": [
    {
     "name": "stdout",
     "output_type": "stream",
     "text": [
      "0\n",
      "1\n",
      "2\n",
      "3\n",
      "4\n"
     ]
    }
   ],
   "source": [
    "i = 0\n",
    "while i < 5:\n",
    "    print(i)\n",
    "    i += 1"
   ]
  },
  {
   "cell_type": "markdown",
   "id": "240902fe",
   "metadata": {},
   "source": [
    "## `break`\n",
    "\n",
    "Il comando `break` termina il ciclo corrente e continua l'esecuzione dal comando successivo."
   ]
  },
  {
   "cell_type": "code",
   "execution_count": 49,
   "id": "062ea024",
   "metadata": {},
   "outputs": [
    {
     "data": {
      "text/plain": [
       "['Alice', 'Bruno', 'Carlo', 'Daniele']"
      ]
     },
     "execution_count": 49,
     "metadata": {},
     "output_type": "execute_result"
    }
   ],
   "source": [
    "nomi"
   ]
  },
  {
   "cell_type": "code",
   "execution_count": 51,
   "id": "e827b6be",
   "metadata": {},
   "outputs": [
    {
     "name": "stdout",
     "output_type": "stream",
     "text": [
      "Alice\n"
     ]
    }
   ],
   "source": [
    "for n in nomi:\n",
    "    if 'r' in n:\n",
    "        break\n",
    "    print(n)"
   ]
  },
  {
   "cell_type": "markdown",
   "id": "78aa1f1c",
   "metadata": {},
   "source": [
    "## `continue`\n",
    "\n",
    "Il comando `continue` ignora tutti i comandi rimanenti nell'iterazione attuale del ciclo, passando dunque all'iterazione successiva."
   ]
  },
  {
   "cell_type": "code",
   "execution_count": 52,
   "id": "88cc48da",
   "metadata": {},
   "outputs": [
    {
     "name": "stdout",
     "output_type": "stream",
     "text": [
      "Alice\n",
      "Daniele\n"
     ]
    }
   ],
   "source": [
    "for n in nomi:\n",
    "    if 'r' in n:\n",
    "        continue\n",
    "    print(n)"
   ]
  },
  {
   "cell_type": "markdown",
   "id": "79300cdb",
   "metadata": {},
   "source": [
    "## `pass`\n",
    "\n",
    "Il comando `pass` non comporta nessun cambiamento nell'esecuzione dell'attuale iterazione."
   ]
  },
  {
   "cell_type": "code",
   "execution_count": 53,
   "id": "b8043bb4",
   "metadata": {},
   "outputs": [
    {
     "name": "stdout",
     "output_type": "stream",
     "text": [
      "Alice\n",
      "Bruno\n",
      "Carlo\n",
      "Daniele\n"
     ]
    }
   ],
   "source": [
    "for n in nomi:\n",
    "    if 'r' in n:\n",
    "        pass\n",
    "    print(n)"
   ]
  },
  {
   "cell_type": "markdown",
   "id": "e23091af",
   "metadata": {},
   "source": [
    "## `else`\n",
    "\n",
    "Il comando `else` viene eseguito se il ciclo termina normalmente, dunque se non innesca un comando `break`."
   ]
  },
  {
   "cell_type": "code",
   "execution_count": 54,
   "id": "6156b96a",
   "metadata": {},
   "outputs": [
    {
     "name": "stdout",
     "output_type": "stream",
     "text": [
      "Alice\n",
      "Bruno\n",
      "Carlo\n",
      "Daniele\n",
      "Nessun nome con la s\n"
     ]
    }
   ],
   "source": [
    "for n in nomi:\n",
    "    if 's' in n:\n",
    "        break\n",
    "    print(n)\n",
    "else:\n",
    "    print('Nessun nome con la s')"
   ]
  },
  {
   "cell_type": "code",
   "execution_count": 55,
   "id": "fea6482b",
   "metadata": {},
   "outputs": [
    {
     "name": "stdout",
     "output_type": "stream",
     "text": [
      "Alice\n"
     ]
    }
   ],
   "source": [
    "for n in nomi:\n",
    "    if 'r' in n:\n",
    "        break\n",
    "    print(n)\n",
    "else:\n",
    "    print('Nessun nome con la r')"
   ]
  },
  {
   "cell_type": "markdown",
   "id": "98864818",
   "metadata": {},
   "source": [
    "# Funzioni Integrate\n",
    "\n",
    "Le **funzioni integrate** sono predefinite nella libreria del linguaggio di programmazione e possono essere utilizzate ogni volta che se ne ha bisogno senza essere esplicitamente definite.\n",
    "\n",
    "## `range(start, stop, step)`\n",
    "\n",
    "La funzione `range()` restituisce una sequenza di numeri, iniziando di default a 0, incrementando di 1 di default, e fermandosi al numero specificato."
   ]
  },
  {
   "cell_type": "code",
   "execution_count": 56,
   "id": "7995e1c0",
   "metadata": {},
   "outputs": [
    {
     "data": {
      "text/plain": [
       "int"
      ]
     },
     "execution_count": 56,
     "metadata": {},
     "output_type": "execute_result"
    }
   ],
   "source": [
    "type(1)"
   ]
  },
  {
   "cell_type": "code",
   "execution_count": 57,
   "id": "5d5c35a6",
   "metadata": {},
   "outputs": [
    {
     "data": {
      "text/plain": [
       "3"
      ]
     },
     "execution_count": 57,
     "metadata": {},
     "output_type": "execute_result"
    }
   ],
   "source": [
    "len('abc')"
   ]
  },
  {
   "cell_type": "code",
   "execution_count": 59,
   "id": "4d91b27c",
   "metadata": {},
   "outputs": [
    {
     "data": {
      "text/plain": [
       "range"
      ]
     },
     "execution_count": 59,
     "metadata": {},
     "output_type": "execute_result"
    }
   ],
   "source": [
    "type(range(0, 20))"
   ]
  },
  {
   "cell_type": "code",
   "execution_count": 60,
   "id": "7a62e902",
   "metadata": {},
   "outputs": [
    {
     "data": {
      "text/plain": [
       "[0, 1, 2, 3, 4, 5, 6, 7, 8, 9, 10, 11, 12, 13, 14, 15, 16, 17, 18, 19]"
      ]
     },
     "execution_count": 60,
     "metadata": {},
     "output_type": "execute_result"
    }
   ],
   "source": [
    "list(range(0, 20))"
   ]
  },
  {
   "cell_type": "code",
   "execution_count": 62,
   "id": "0f47108c",
   "metadata": {
    "scrolled": true
   },
   "outputs": [
    {
     "name": "stdout",
     "output_type": "stream",
     "text": [
      "1\n",
      "9\n",
      "25\n",
      "49\n",
      "81\n"
     ]
    }
   ],
   "source": [
    "for i in range(1, 10, 2):\n",
    "    print(i**2)"
   ]
  },
  {
   "cell_type": "code",
   "execution_count": 65,
   "id": "53ee0b52",
   "metadata": {},
   "outputs": [
    {
     "name": "stdout",
     "output_type": "stream",
     "text": [
      "Il nome in posizione 0 è Alice\n",
      "Il nome in posizione 1 è Bruno\n",
      "Il nome in posizione 2 è Carlo\n",
      "Il nome in posizione 3 è Daniele\n"
     ]
    }
   ],
   "source": [
    "for i in range(len(nomi)):\n",
    "    print(f'Il nome in posizione {i} è {nomi[i]}')"
   ]
  },
  {
   "cell_type": "code",
   "execution_count": 66,
   "id": "bd3ba641",
   "metadata": {},
   "outputs": [
    {
     "data": {
      "text/plain": [
       "'Alice'"
      ]
     },
     "execution_count": 66,
     "metadata": {},
     "output_type": "execute_result"
    }
   ],
   "source": [
    "nomi[0]"
   ]
  },
  {
   "cell_type": "markdown",
   "id": "9eca5ace",
   "metadata": {},
   "source": [
    "## `enumerate(iterable)`\n",
    "\n",
    "La funzione `enumerate()` aggiunge un contatore all'iterabile e lo restituisce."
   ]
  },
  {
   "cell_type": "code",
   "execution_count": 69,
   "id": "9f5bf961",
   "metadata": {},
   "outputs": [
    {
     "data": {
      "text/plain": [
       "[(0, 'Alice'), (1, 'Bruno'), (2, 'Carlo'), (3, 'Daniele')]"
      ]
     },
     "execution_count": 69,
     "metadata": {},
     "output_type": "execute_result"
    }
   ],
   "source": [
    "list(enumerate(nomi))"
   ]
  },
  {
   "cell_type": "code",
   "execution_count": 70,
   "id": "3e11e360",
   "metadata": {},
   "outputs": [
    {
     "name": "stdout",
     "output_type": "stream",
     "text": [
      "(0, 'Alice')\n",
      "(1, 'Bruno')\n",
      "(2, 'Carlo')\n",
      "(3, 'Daniele')\n"
     ]
    }
   ],
   "source": [
    "for n in enumerate(nomi):\n",
    "    print(n)"
   ]
  },
  {
   "cell_type": "code",
   "execution_count": 67,
   "id": "f6602cde",
   "metadata": {},
   "outputs": [
    {
     "name": "stdout",
     "output_type": "stream",
     "text": [
      "0 Alice\n",
      "1 Bruno\n",
      "2 Carlo\n",
      "3 Daniele\n"
     ]
    }
   ],
   "source": [
    "for i, n in enumerate(nomi):\n",
    "    print(i, n)"
   ]
  },
  {
   "cell_type": "markdown",
   "id": "adb18256",
   "metadata": {},
   "source": [
    "# Indovina il Numero!"
   ]
  },
  {
   "cell_type": "code",
   "execution_count": 97,
   "id": "2f556118",
   "metadata": {
    "scrolled": true
   },
   "outputs": [
    {
     "name": "stdout",
     "output_type": "stream",
     "text": [
      "Inserisci la tua risposta: 5\n",
      "5 non è corretto. Riprova.\n",
      "Il numero da indovinare è più alto.\n",
      "Inserisci la tua risposta: 7\n",
      "7 non è corretto. Riprova.\n",
      "Il numero da indovinare è più basso.\n",
      "Inserisci la tua risposta: 6\n",
      "6 è corretto. Hai vinto!\n",
      "Ti ci sono voluti 3 tentativi.\n"
     ]
    }
   ],
   "source": [
    "import random\n",
    "\n",
    "n = random.randint(1, 10)\n",
    "tentativi = 0\n",
    "\n",
    "while True:\n",
    "    tentativi += 1\n",
    "    risposta = int(input('Inserisci la tua risposta: '))\n",
    "    if n == risposta:\n",
    "        print(f'{risposta} è corretto. Hai vinto!')\n",
    "        print(f'Ti ci sono voluti {tentativi} tentativi.')\n",
    "        break\n",
    "    else:\n",
    "        print(f'{risposta} non è corretto. Riprova.')\n",
    "        if risposta > n:\n",
    "            print('Il numero da indovinare è più basso.')\n",
    "        else:\n",
    "            print('Il numero da indovinare è più alto.')"
   ]
  },
  {
   "cell_type": "markdown",
   "id": "5ce72696",
   "metadata": {},
   "source": [
    "# Esercizio\n",
    "\n",
    "Scrivi un programma in cui giochi a 'Sasso, Carta, Forbici' contro il computer. Fa sì che sia alla meglio di tre, tenendo traccia del risultato."
   ]
  },
  {
   "cell_type": "code",
   "execution_count": 33,
   "id": "f66dba85",
   "metadata": {
    "scrolled": true
   },
   "outputs": [
    {
     "name": "stdout",
     "output_type": "stream",
     "text": [
      "Scegli tra sasso, carta e forbici: carta\n",
      "Il computer gioca carta.\n",
      "Il giocatore gioca carta.\n",
      "Pareggio.\n",
      "Scegli tra sasso, carta e forbici: forbici\n",
      "Il computer gioca sasso.\n",
      "Il giocatore gioca forbici.\n",
      "Hai perso.\n",
      "Scegli tra sasso, carta e forbici: sasso\n",
      "Il computer gioca carta.\n",
      "Il giocatore gioca sasso.\n",
      "Hai perso.\n",
      "Il punteggio del computer è 2.\n",
      "Il punteggio del giocatore è 0.\n",
      "Il computer vince la partita.\n"
     ]
    }
   ],
   "source": [
    "import random\n",
    "\n",
    "mosse = ['sasso', 'carta', 'forbici']\n",
    "punteggio_giocatore = 0\n",
    "punteggio_computer = 0\n",
    "\n",
    "for _ in range(3):\n",
    "    mossa_computer = random.choice(mosse)\n",
    "    mossa_giocatore = input('Scegli tra sasso, carta e forbici: ')\n",
    "\n",
    "    if mossa_giocatore in mosse:\n",
    "        print(f'Il computer gioca {mossa_computer}.')\n",
    "        print(f'Il giocatore gioca {mossa_giocatore}.')\n",
    "\n",
    "        if mossa_computer == mossa_giocatore:\n",
    "            print('Pareggio.')\n",
    "        elif mossa_computer == 'sasso':\n",
    "            if mossa_giocatore == 'carta':\n",
    "                print('Hai vinto!')\n",
    "                punteggio_giocatore += 1\n",
    "            else:\n",
    "                print('Hai perso.')\n",
    "                punteggio_computer += 1\n",
    "        elif mossa_computer == 'carta':\n",
    "            if mossa_giocatore == 'forbici':\n",
    "                print('Hai vinto!')\n",
    "                punteggio_giocatore += 1\n",
    "            else:\n",
    "                print('Hai perso.')\n",
    "                punteggio_computer += 1\n",
    "        else:\n",
    "            if mossa_giocatore == 'sasso':\n",
    "                print('Hai vinto!')\n",
    "                punteggio_giocatore += 1\n",
    "            else:\n",
    "                print('Hai perso.')\n",
    "                punteggio_computer += 1\n",
    "    else:\n",
    "        print('Mossa non valida.')\n",
    "    \n",
    "print(f'Il punteggio del computer è {punteggio_computer}.')\n",
    "print(f'Il punteggio del giocatore è {punteggio_giocatore}.')\n",
    "\n",
    "if punteggio_computer == punteggio_giocatore:\n",
    "    print('La partita termina in pareggio.')\n",
    "elif punteggio_computer > punteggio_giocatore:\n",
    "    print('Il computer vince la partita.')\n",
    "else:\n",
    "    print('Il giocatore vince la partita.')"
   ]
  },
  {
   "cell_type": "code",
   "execution_count": 18,
   "id": "9e3f650b",
   "metadata": {},
   "outputs": [
    {
     "data": {
      "text/plain": [
       "'sasso'"
      ]
     },
     "execution_count": 18,
     "metadata": {},
     "output_type": "execute_result"
    }
   ],
   "source": [
    "mossa_computer"
   ]
  },
  {
   "cell_type": "code",
   "execution_count": 19,
   "id": "7773a6e5",
   "metadata": {},
   "outputs": [
    {
     "data": {
      "text/plain": [
       "'sasso'"
      ]
     },
     "execution_count": 19,
     "metadata": {},
     "output_type": "execute_result"
    }
   ],
   "source": [
    "mossa_giocatore"
   ]
  },
  {
   "cell_type": "code",
   "execution_count": null,
   "id": "b8ff9b68",
   "metadata": {},
   "outputs": [],
   "source": []
  }
 ],
 "metadata": {
  "kernelspec": {
   "display_name": "Python 3 (ipykernel)",
   "language": "python",
   "name": "python3"
  },
  "language_info": {
   "codemirror_mode": {
    "name": "ipython",
    "version": 3
   },
   "file_extension": ".py",
   "mimetype": "text/x-python",
   "name": "python",
   "nbconvert_exporter": "python",
   "pygments_lexer": "ipython3",
   "version": "3.8.13"
  }
 },
 "nbformat": 4,
 "nbformat_minor": 5
}
