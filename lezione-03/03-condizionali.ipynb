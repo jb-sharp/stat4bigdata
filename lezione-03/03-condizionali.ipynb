{
 "cells": [
  {
   "cell_type": "markdown",
   "id": "a07719bc",
   "metadata": {},
   "source": [
    "# Tipo Booleano\n",
    "\n",
    "I **valori booleani** sono i due oggetti `False` e `True`. Sono utilizzati per rappresentare valori di verità. Altri oggetti possono essere utilizzati con funzioni simili: ad esempio, nel caso dei numeri, `0` e `1` possono essere utilizzati rispettivamente come se fossero `False` e `True`."
   ]
  },
  {
   "cell_type": "code",
   "execution_count": null,
   "id": "dcb98fab",
   "metadata": {},
   "outputs": [],
   "source": []
  },
  {
   "cell_type": "markdown",
   "id": "5a042000",
   "metadata": {},
   "source": [
    "La funzione integrata `bool()` può essere utilizzata per convertire qualsiasi valore in un booleano, nel caso in cui tale valore può essere interpretato come un valore di verità."
   ]
  },
  {
   "cell_type": "code",
   "execution_count": null,
   "id": "56a68a26",
   "metadata": {},
   "outputs": [],
   "source": []
  },
  {
   "cell_type": "markdown",
   "id": "ed1df369",
   "metadata": {},
   "source": [
    "## Algebra Booleana\n",
    "\n",
    "L'**algebra booleana** è una branca dell'algebra in cui i valori delle variabili sono *true* e *false*, denotati rispettivamente da *1* e *0*. Al contrario della classica algebra, dove i valori delle variabili sono numeri e le operazioni fondamentali sono l'addizione e la moltiplicazione, le operazioni principali in algebra booleana sono la *congiunzione* (AND) indicata con ∧, la *disgiunzione* (OR) indicata con ∨, e la *negazione* (NOT) indicata con ¬.\n",
    "\n",
    "## Operatori Logici\n",
    "\n",
    "In Python, gli **operatori logici** sono quelli che prendono in input valori booleani e restituiscono risultati booleani.\n",
    "\n",
    "L'operatore logico `and` restituisce `True` se e solo se tutti gli elementi hanno valore *true*."
   ]
  },
  {
   "cell_type": "code",
   "execution_count": null,
   "id": "f8ba85b7",
   "metadata": {},
   "outputs": [],
   "source": []
  },
  {
   "cell_type": "markdown",
   "id": "85ed6e4c",
   "metadata": {},
   "source": [
    "L'operatore logico `or` restituisce `True` se almeno uno degli elementi ha valore *true*."
   ]
  },
  {
   "cell_type": "code",
   "execution_count": null,
   "id": "fd6ec4c0",
   "metadata": {},
   "outputs": [],
   "source": []
  },
  {
   "cell_type": "markdown",
   "id": "56909127",
   "metadata": {},
   "source": [
    "L'operatore logico `not` inverte il risultato, restituendo `False` quando l'elemento ha valore *true*."
   ]
  },
  {
   "cell_type": "code",
   "execution_count": null,
   "id": "a037b1cd",
   "metadata": {},
   "outputs": [],
   "source": []
  },
  {
   "cell_type": "markdown",
   "id": "4437f840",
   "metadata": {},
   "source": [
    "## Operatori Confronto\n",
    "\n",
    "Gli **operatori confronto** comparano i valori su entrambi i lati e ne valutano la loro relazione.\n",
    "\n",
    "L'operatore confronto `==` controlla se i valori dei due operandi sono uguali."
   ]
  },
  {
   "cell_type": "code",
   "execution_count": null,
   "id": "a6fed260",
   "metadata": {},
   "outputs": [],
   "source": []
  },
  {
   "cell_type": "markdown",
   "id": "0e1d7801",
   "metadata": {},
   "source": [
    "L'operatore confronto `!=` controlla se i valori dei due operandi non sono uguali."
   ]
  },
  {
   "cell_type": "code",
   "execution_count": null,
   "id": "037392b0",
   "metadata": {},
   "outputs": [],
   "source": []
  },
  {
   "cell_type": "markdown",
   "id": "465db31d",
   "metadata": {},
   "source": [
    "L'operatore confronto `>` controlla se il valore a sinistra dell'operando è maggiore del valore dell'operando a destra, mentre `>=` controlla se il valore dell'operando a sinistra è maggiore o uguale del valore dell'operando a destra."
   ]
  },
  {
   "cell_type": "code",
   "execution_count": null,
   "id": "be3d0ffe",
   "metadata": {},
   "outputs": [],
   "source": []
  },
  {
   "cell_type": "markdown",
   "id": "6e1d8e57",
   "metadata": {},
   "source": [
    "L'operatore confronto `<` controlla se il valore a sinistra dell'operando è minore del valore dell'operando a destra, mentre `<=` controlla se il valore dell'operando a sinistra è minore o uguale del valore dell'operando a destra."
   ]
  },
  {
   "cell_type": "markdown",
   "id": "df7b2c7f",
   "metadata": {},
   "source": [
    "## Altri Operatori\n",
    "\n",
    "Gli **operatori appartenenza** di Python testano l'appartenenza di un elemento ad una sequenza, come una stringa, lista o tupla. L'operatore `in` restituisce `True` se l'elemento è presente all'interno della specifica sequenza; l'operatore `not in` restituisce `True` se invece l'elemento non compare nella sequenza."
   ]
  },
  {
   "cell_type": "code",
   "execution_count": null,
   "id": "e4f66d3b",
   "metadata": {},
   "outputs": [],
   "source": []
  },
  {
   "cell_type": "markdown",
   "id": "4e34c4c4",
   "metadata": {},
   "source": [
    "L'**operatore identità** compara l'allocazione in memoria di due oggetti. L'operatore `is` restituisce `True` se entrambe le variabili puntano allo stesso oggetto; l'operatore `is not` restituisce `True` se le variabili non puntano allo stesso oggetto."
   ]
  },
  {
   "cell_type": "code",
   "execution_count": null,
   "id": "b473cb75",
   "metadata": {},
   "outputs": [],
   "source": []
  },
  {
   "cell_type": "markdown",
   "id": "c22bb81d",
   "metadata": {},
   "source": [
    "# Indentazione\n",
    "\n",
    "L'**indentazione** si riferisce agli spazi all'inizio di una linea di codice. Mentre in altri linguaggi di programmazione l'indentazione del codice è utilizzata soltanto per leggibilità, essa è molto importante in Python dato che è utilizzata per indicare un blocco di codice. Un livello di indentazione corrisponde a 4 spazi bianchi o una tabulazione."
   ]
  },
  {
   "cell_type": "code",
   "execution_count": null,
   "id": "8248ab69",
   "metadata": {},
   "outputs": [],
   "source": []
  },
  {
   "cell_type": "markdown",
   "id": "ec6239a7",
   "metadata": {},
   "source": [
    "# Comandi Condizionali\n",
    "\n",
    "Il decision-making nei linguaggi di programmazione è automatizzato utilizzando i **condizionali**, con i quali la macchina controlla che il codice soddisfi una determinata condizione. Le condizioni sono valutate e processate con valori *true* e *false*. Se viene restituito `True`, verrà eseguito il codice nel blocco, altrimenti verrà eseguito il codice dopo il blocco."
   ]
  },
  {
   "cell_type": "code",
   "execution_count": null,
   "id": "764f1b9c",
   "metadata": {},
   "outputs": [],
   "source": []
  },
  {
   "cell_type": "code",
   "execution_count": null,
   "id": "4608f5ca",
   "metadata": {},
   "outputs": [],
   "source": []
  },
  {
   "cell_type": "markdown",
   "id": "4094138c",
   "metadata": {},
   "source": [
    "## `if`\n",
    "\n",
    "Il comando `if` è il più importante comando relativo al decision-making, con il quale il codice viene eseguito nel caso in cui venga soddisfatta una specifica condizione.\n",
    "\n",
    "```\n",
    "if <expr>:\n",
    "    <statement>\n",
    "```"
   ]
  },
  {
   "cell_type": "code",
   "execution_count": null,
   "id": "ab0ee14d",
   "metadata": {},
   "outputs": [],
   "source": []
  },
  {
   "cell_type": "code",
   "execution_count": null,
   "id": "0d0c0ec2",
   "metadata": {},
   "outputs": [],
   "source": []
  },
  {
   "cell_type": "markdown",
   "id": "2a2d600e",
   "metadata": {},
   "source": [
    "## `if-else`\n",
    "\n",
    "Il comando `if-else` viene utilizzato quando vogliamo definire un blocco di codice da eseguire sia nel caso in cui la condizione sia vera, sia quando essa sia falsa. Nel primo caso, verrà eseguito il codice nel blocco `if`, nel secondo verrà eseguito il codice nel blocco `else`.\n",
    "\n",
    "```\n",
    "if <expr>:\n",
    "    <statement>\n",
    "else:\n",
    "    <statement>\n",
    "```"
   ]
  },
  {
   "cell_type": "code",
   "execution_count": null,
   "id": "07281ed8",
   "metadata": {},
   "outputs": [],
   "source": []
  },
  {
   "cell_type": "markdown",
   "id": "efaa8cfa",
   "metadata": {},
   "source": [
    "## `if-elif-else`\n",
    "\n",
    "Con questo comando, si controlla prima la condizione dell'`if`. Se è falsa, si controllano i comandi `elif`; se anch'essi risultano falsi, verrà eseguito il codice nel blocco `else`.\n",
    "\n",
    "```\n",
    "if <expr>:\n",
    "    <statement>\n",
    "elif <expr>:\n",
    "    <statement>\n",
    "else:\n",
    "    <statement>\n",
    "```"
   ]
  },
  {
   "cell_type": "code",
   "execution_count": null,
   "id": "047bdb5d",
   "metadata": {},
   "outputs": [],
   "source": []
  },
  {
   "cell_type": "markdown",
   "id": "694f0ea9",
   "metadata": {},
   "source": [
    "## Comandi `if` Annidati\n",
    "\n",
    "Un comando `if` annidato è un comando in cui un `if` è presente all'interno di un altro `if`.\n",
    "\n",
    "```\n",
    "if <expr>:\n",
    "    if <expr>:\n",
    "        <statement>\n",
    "    else:\n",
    "        <statement>\n",
    "else:\n",
    "    <statement>\n",
    "```"
   ]
  },
  {
   "cell_type": "code",
   "execution_count": null,
   "id": "906f0f6e",
   "metadata": {},
   "outputs": [],
   "source": []
  },
  {
   "cell_type": "markdown",
   "id": "6a588948",
   "metadata": {},
   "source": [
    "## Comando `if` su Singola Linea\n",
    "\n",
    "Un comando `if` può essere espresso su una singola linea di codice se bisogna controllare una sola condizione.\n",
    "\n",
    "```\n",
    "if <expr>: <statement>\n",
    "```"
   ]
  },
  {
   "cell_type": "code",
   "execution_count": null,
   "id": "c6d7d23f",
   "metadata": {},
   "outputs": [],
   "source": []
  },
  {
   "cell_type": "markdown",
   "id": "7e7675da",
   "metadata": {},
   "source": [
    "## Operatore Ternario\n",
    "\n",
    "Un operatore ternario è utilizzato per esprimere sulla stessa linea un comando `if-else` con una singola condizione da controllare.\n",
    "\n",
    "```\n",
    "<statement> if <expr> else <statement>\n",
    "```"
   ]
  },
  {
   "cell_type": "code",
   "execution_count": null,
   "id": "7cd53a3c",
   "metadata": {},
   "outputs": [],
   "source": []
  },
  {
   "cell_type": "code",
   "execution_count": null,
   "id": "2ea0d905",
   "metadata": {},
   "outputs": [],
   "source": []
  },
  {
   "cell_type": "markdown",
   "id": "c7fe5ed2",
   "metadata": {},
   "source": [
    "# Esercizi\n",
    "\n",
    "1. Scrivi un programma che converta una temperatura in base alla sua unità di misura, ad esempio da Celsius a Fahrenheit o viceversa."
   ]
  },
  {
   "cell_type": "code",
   "execution_count": null,
   "id": "72e2aa84",
   "metadata": {},
   "outputs": [],
   "source": []
  },
  {
   "cell_type": "markdown",
   "id": "9c51738f",
   "metadata": {},
   "source": [
    "2. Scrivi un programma che stampi il numero di giorni in uno specifico mese e, nel caso di febbraio, controlli anche se l'anno è bisestile."
   ]
  },
  {
   "cell_type": "code",
   "execution_count": null,
   "id": "ed6ce8f4",
   "metadata": {},
   "outputs": [],
   "source": []
  }
 ],
 "metadata": {
  "kernelspec": {
   "display_name": "Python 3 (ipykernel)",
   "language": "python",
   "name": "python3"
  },
  "language_info": {
   "codemirror_mode": {
    "name": "ipython",
    "version": 3
   },
   "file_extension": ".py",
   "mimetype": "text/x-python",
   "name": "python",
   "nbconvert_exporter": "python",
   "pygments_lexer": "ipython3",
   "version": "3.8.13"
  }
 },
 "nbformat": 4,
 "nbformat_minor": 5
}
