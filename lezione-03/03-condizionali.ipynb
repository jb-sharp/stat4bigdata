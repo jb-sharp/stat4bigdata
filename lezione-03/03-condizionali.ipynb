{
 "cells": [
  {
   "cell_type": "markdown",
   "id": "a07719bc",
   "metadata": {},
   "source": [
    "# Tipo Booleano\n",
    "\n",
    "I **valori booleani** sono i due oggetti `False` e `True`. Sono utilizzati per rappresentare valori di verità. Altri oggetti possono essere utilizzati con funzioni simili: ad esempio, nel caso dei numeri, `0` e `1` possono essere utilizzati rispettivamente come se fossero `False` e `True`."
   ]
  },
  {
   "cell_type": "code",
   "execution_count": 1,
   "id": "dcb98fab",
   "metadata": {},
   "outputs": [
    {
     "data": {
      "text/plain": [
       "True"
      ]
     },
     "execution_count": 1,
     "metadata": {},
     "output_type": "execute_result"
    }
   ],
   "source": [
    "True"
   ]
  },
  {
   "cell_type": "code",
   "execution_count": 2,
   "id": "d19d6704",
   "metadata": {},
   "outputs": [
    {
     "data": {
      "text/plain": [
       "False"
      ]
     },
     "execution_count": 2,
     "metadata": {},
     "output_type": "execute_result"
    }
   ],
   "source": [
    "False"
   ]
  },
  {
   "cell_type": "code",
   "execution_count": 3,
   "id": "06b0e175",
   "metadata": {},
   "outputs": [
    {
     "data": {
      "text/plain": [
       "bool"
      ]
     },
     "execution_count": 3,
     "metadata": {},
     "output_type": "execute_result"
    }
   ],
   "source": [
    "type(True)"
   ]
  },
  {
   "cell_type": "code",
   "execution_count": 4,
   "id": "c915411e",
   "metadata": {},
   "outputs": [
    {
     "data": {
      "text/plain": [
       "True"
      ]
     },
     "execution_count": 4,
     "metadata": {},
     "output_type": "execute_result"
    }
   ],
   "source": [
    "10 > 5"
   ]
  },
  {
   "cell_type": "code",
   "execution_count": 5,
   "id": "854a559e",
   "metadata": {},
   "outputs": [
    {
     "data": {
      "text/plain": [
       "False"
      ]
     },
     "execution_count": 5,
     "metadata": {},
     "output_type": "execute_result"
    }
   ],
   "source": [
    "10 < 5"
   ]
  },
  {
   "cell_type": "markdown",
   "id": "5a042000",
   "metadata": {},
   "source": [
    "La funzione integrata `bool()` può essere utilizzata per convertire qualsiasi valore in un booleano, nel caso in cui tale valore può essere interpretato come un valore di verità."
   ]
  },
  {
   "cell_type": "code",
   "execution_count": 6,
   "id": "56a68a26",
   "metadata": {},
   "outputs": [
    {
     "data": {
      "text/plain": [
       "True"
      ]
     },
     "execution_count": 6,
     "metadata": {},
     "output_type": "execute_result"
    }
   ],
   "source": [
    "bool(1)"
   ]
  },
  {
   "cell_type": "code",
   "execution_count": 7,
   "id": "684f24ec",
   "metadata": {},
   "outputs": [
    {
     "data": {
      "text/plain": [
       "False"
      ]
     },
     "execution_count": 7,
     "metadata": {},
     "output_type": "execute_result"
    }
   ],
   "source": [
    "bool(0)"
   ]
  },
  {
   "cell_type": "code",
   "execution_count": 8,
   "id": "cebc9860",
   "metadata": {},
   "outputs": [
    {
     "data": {
      "text/plain": [
       "False"
      ]
     },
     "execution_count": 8,
     "metadata": {},
     "output_type": "execute_result"
    }
   ],
   "source": [
    "bool('')"
   ]
  },
  {
   "cell_type": "code",
   "execution_count": 9,
   "id": "879bd319",
   "metadata": {},
   "outputs": [
    {
     "data": {
      "text/plain": [
       "True"
      ]
     },
     "execution_count": 9,
     "metadata": {},
     "output_type": "execute_result"
    }
   ],
   "source": [
    "bool('ciao')"
   ]
  },
  {
   "cell_type": "code",
   "execution_count": 10,
   "id": "1f396da1",
   "metadata": {},
   "outputs": [
    {
     "data": {
      "text/plain": [
       "True"
      ]
     },
     "execution_count": 10,
     "metadata": {},
     "output_type": "execute_result"
    }
   ],
   "source": [
    "bool('False')"
   ]
  },
  {
   "cell_type": "code",
   "execution_count": 11,
   "id": "16668f01",
   "metadata": {},
   "outputs": [
    {
     "data": {
      "text/plain": [
       "False"
      ]
     },
     "execution_count": 11,
     "metadata": {},
     "output_type": "execute_result"
    }
   ],
   "source": [
    "bool([])"
   ]
  },
  {
   "cell_type": "code",
   "execution_count": 12,
   "id": "69155497",
   "metadata": {},
   "outputs": [
    {
     "data": {
      "text/plain": [
       "True"
      ]
     },
     "execution_count": 12,
     "metadata": {},
     "output_type": "execute_result"
    }
   ],
   "source": [
    "bool([1, 2, 3])"
   ]
  },
  {
   "cell_type": "markdown",
   "id": "ed1df369",
   "metadata": {},
   "source": [
    "## Algebra Booleana\n",
    "\n",
    "L'**algebra booleana** è una branca dell'algebra in cui i valori delle variabili sono *true* e *false*, denotati rispettivamente da *1* e *0*. Al contrario della classica algebra, dove i valori delle variabili sono numeri e le operazioni fondamentali sono l'addizione e la moltiplicazione, le operazioni principali in algebra booleana sono la *congiunzione* (AND) indicata con ∧, la *disgiunzione* (OR) indicata con ∨, e la *negazione* (NOT) indicata con ¬.\n",
    "\n",
    "## Operatori Logici\n",
    "\n",
    "In Python, gli **operatori logici** sono quelli che prendono in input valori booleani e restituiscono risultati booleani.\n",
    "\n",
    "L'operatore logico `and` restituisce `True` se e solo se tutti gli elementi hanno valore *true*."
   ]
  },
  {
   "cell_type": "code",
   "execution_count": 13,
   "id": "f8ba85b7",
   "metadata": {},
   "outputs": [
    {
     "data": {
      "text/plain": [
       "True"
      ]
     },
     "execution_count": 13,
     "metadata": {},
     "output_type": "execute_result"
    }
   ],
   "source": [
    "True and True"
   ]
  },
  {
   "cell_type": "code",
   "execution_count": 14,
   "id": "5bcdaa41",
   "metadata": {},
   "outputs": [
    {
     "data": {
      "text/plain": [
       "False"
      ]
     },
     "execution_count": 14,
     "metadata": {},
     "output_type": "execute_result"
    }
   ],
   "source": [
    "True and False"
   ]
  },
  {
   "cell_type": "code",
   "execution_count": 15,
   "id": "945f2391",
   "metadata": {},
   "outputs": [
    {
     "data": {
      "text/plain": [
       "True"
      ]
     },
     "execution_count": 15,
     "metadata": {},
     "output_type": "execute_result"
    }
   ],
   "source": [
    "4 > 2 and 2 < 10"
   ]
  },
  {
   "cell_type": "code",
   "execution_count": 17,
   "id": "a17a06f9",
   "metadata": {},
   "outputs": [
    {
     "data": {
      "text/plain": [
       "False"
      ]
     },
     "execution_count": 17,
     "metadata": {},
     "output_type": "execute_result"
    }
   ],
   "source": [
    "4 > 2 and bool(0)"
   ]
  },
  {
   "cell_type": "code",
   "execution_count": 18,
   "id": "6f0bf886",
   "metadata": {},
   "outputs": [
    {
     "name": "stdout",
     "output_type": "stream",
     "text": [
      "True\n",
      "False\n",
      "False\n",
      "False\n"
     ]
    }
   ],
   "source": [
    "print(True and True)\n",
    "print(True and False)\n",
    "print(False and True)\n",
    "print(False and False)"
   ]
  },
  {
   "cell_type": "code",
   "execution_count": 19,
   "id": "00d278d4",
   "metadata": {},
   "outputs": [
    {
     "name": "stdout",
     "output_type": "stream",
     "text": [
      "True\n"
     ]
    }
   ],
   "source": [
    "print(True and True and True)"
   ]
  },
  {
   "cell_type": "code",
   "execution_count": 20,
   "id": "0df9d165",
   "metadata": {},
   "outputs": [
    {
     "name": "stdout",
     "output_type": "stream",
     "text": [
      "False\n"
     ]
    }
   ],
   "source": [
    "print(True and False and True)"
   ]
  },
  {
   "cell_type": "markdown",
   "id": "85ed6e4c",
   "metadata": {},
   "source": [
    "L'operatore logico `or` restituisce `True` se almeno uno degli elementi ha valore *true*."
   ]
  },
  {
   "cell_type": "code",
   "execution_count": 21,
   "id": "fd6ec4c0",
   "metadata": {},
   "outputs": [
    {
     "data": {
      "text/plain": [
       "True"
      ]
     },
     "execution_count": 21,
     "metadata": {},
     "output_type": "execute_result"
    }
   ],
   "source": [
    "True or False"
   ]
  },
  {
   "cell_type": "code",
   "execution_count": 22,
   "id": "6c4a2a37",
   "metadata": {},
   "outputs": [
    {
     "data": {
      "text/plain": [
       "True"
      ]
     },
     "execution_count": 22,
     "metadata": {},
     "output_type": "execute_result"
    }
   ],
   "source": [
    "4 > 2 or bool(0)"
   ]
  },
  {
   "cell_type": "code",
   "execution_count": 23,
   "id": "16b64321",
   "metadata": {},
   "outputs": [
    {
     "name": "stdout",
     "output_type": "stream",
     "text": [
      "True\n",
      "True\n",
      "True\n",
      "False\n"
     ]
    }
   ],
   "source": [
    "print(True or True)\n",
    "print(True or False)\n",
    "print(False or True)\n",
    "print(False or False)"
   ]
  },
  {
   "cell_type": "markdown",
   "id": "56909127",
   "metadata": {},
   "source": [
    "L'operatore logico `not` inverte il risultato, restituendo `False` quando l'elemento ha valore *true*."
   ]
  },
  {
   "cell_type": "code",
   "execution_count": 24,
   "id": "a037b1cd",
   "metadata": {},
   "outputs": [
    {
     "data": {
      "text/plain": [
       "True"
      ]
     },
     "execution_count": 24,
     "metadata": {},
     "output_type": "execute_result"
    }
   ],
   "source": [
    "not False"
   ]
  },
  {
   "cell_type": "code",
   "execution_count": 25,
   "id": "2a7274ee",
   "metadata": {},
   "outputs": [
    {
     "data": {
      "text/plain": [
       "False"
      ]
     },
     "execution_count": 25,
     "metadata": {},
     "output_type": "execute_result"
    }
   ],
   "source": [
    "not True"
   ]
  },
  {
   "cell_type": "code",
   "execution_count": 26,
   "id": "ce7ee1a1",
   "metadata": {},
   "outputs": [
    {
     "data": {
      "text/plain": [
       "True"
      ]
     },
     "execution_count": 26,
     "metadata": {},
     "output_type": "execute_result"
    }
   ],
   "source": [
    "not True and not False or True"
   ]
  },
  {
   "cell_type": "markdown",
   "id": "4437f840",
   "metadata": {},
   "source": [
    "## Operatori Confronto\n",
    "\n",
    "Gli **operatori confronto** comparano i valori su entrambi i lati e ne valutano la loro relazione.\n",
    "\n",
    "L'operatore confronto `==` controlla se i valori dei due operandi sono uguali."
   ]
  },
  {
   "cell_type": "code",
   "execution_count": 27,
   "id": "a6fed260",
   "metadata": {},
   "outputs": [],
   "source": [
    "x = 5\n",
    "y = 10"
   ]
  },
  {
   "cell_type": "code",
   "execution_count": 28,
   "id": "5b9381b6",
   "metadata": {},
   "outputs": [
    {
     "data": {
      "text/plain": [
       "False"
      ]
     },
     "execution_count": 28,
     "metadata": {},
     "output_type": "execute_result"
    }
   ],
   "source": [
    "x == y"
   ]
  },
  {
   "cell_type": "code",
   "execution_count": 29,
   "id": "1ff93948",
   "metadata": {},
   "outputs": [
    {
     "data": {
      "text/plain": [
       "True"
      ]
     },
     "execution_count": 29,
     "metadata": {},
     "output_type": "execute_result"
    }
   ],
   "source": [
    "x == 5"
   ]
  },
  {
   "cell_type": "code",
   "execution_count": 30,
   "id": "f59073f3",
   "metadata": {},
   "outputs": [
    {
     "data": {
      "text/plain": [
       "True"
      ]
     },
     "execution_count": 30,
     "metadata": {},
     "output_type": "execute_result"
    }
   ],
   "source": [
    "5 == 2+3"
   ]
  },
  {
   "cell_type": "markdown",
   "id": "0e1d7801",
   "metadata": {},
   "source": [
    "L'operatore confronto `!=` controlla se i valori dei due operandi non sono uguali."
   ]
  },
  {
   "cell_type": "code",
   "execution_count": 31,
   "id": "037392b0",
   "metadata": {},
   "outputs": [
    {
     "data": {
      "text/plain": [
       "True"
      ]
     },
     "execution_count": 31,
     "metadata": {},
     "output_type": "execute_result"
    }
   ],
   "source": [
    "x != y"
   ]
  },
  {
   "cell_type": "code",
   "execution_count": 32,
   "id": "6998f0e4",
   "metadata": {},
   "outputs": [
    {
     "data": {
      "text/plain": [
       "False"
      ]
     },
     "execution_count": 32,
     "metadata": {},
     "output_type": "execute_result"
    }
   ],
   "source": [
    "x != 5"
   ]
  },
  {
   "cell_type": "markdown",
   "id": "465db31d",
   "metadata": {},
   "source": [
    "L'operatore confronto `>` controlla se il valore a sinistra dell'operando è maggiore del valore dell'operando a destra, mentre `>=` controlla se il valore dell'operando a sinistra è maggiore o uguale del valore dell'operando a destra."
   ]
  },
  {
   "cell_type": "code",
   "execution_count": 33,
   "id": "be3d0ffe",
   "metadata": {},
   "outputs": [
    {
     "data": {
      "text/plain": [
       "True"
      ]
     },
     "execution_count": 33,
     "metadata": {},
     "output_type": "execute_result"
    }
   ],
   "source": [
    "10 >= 5"
   ]
  },
  {
   "cell_type": "markdown",
   "id": "6e1d8e57",
   "metadata": {},
   "source": [
    "L'operatore confronto `<` controlla se il valore a sinistra dell'operando è minore del valore dell'operando a destra, mentre `<=` controlla se il valore dell'operando a sinistra è minore o uguale del valore dell'operando a destra."
   ]
  },
  {
   "cell_type": "code",
   "execution_count": 34,
   "id": "f7de23d8",
   "metadata": {},
   "outputs": [
    {
     "data": {
      "text/plain": [
       "False"
      ]
     },
     "execution_count": 34,
     "metadata": {},
     "output_type": "execute_result"
    }
   ],
   "source": [
    "20 <= 10"
   ]
  },
  {
   "cell_type": "markdown",
   "id": "df7b2c7f",
   "metadata": {},
   "source": [
    "## Altri Operatori\n",
    "\n",
    "Gli **operatori appartenenza** di Python testano l'appartenenza di un elemento ad una sequenza, come una stringa, lista o tupla. L'operatore `in` restituisce `True` se l'elemento è presente all'interno della specifica sequenza; l'operatore `not in` restituisce `True` se invece l'elemento non compare nella sequenza."
   ]
  },
  {
   "cell_type": "code",
   "execution_count": 35,
   "id": "e4f66d3b",
   "metadata": {},
   "outputs": [
    {
     "data": {
      "text/plain": [
       "True"
      ]
     },
     "execution_count": 35,
     "metadata": {},
     "output_type": "execute_result"
    }
   ],
   "source": [
    "'a' in 'mela'"
   ]
  },
  {
   "cell_type": "code",
   "execution_count": 36,
   "id": "a223a66f",
   "metadata": {},
   "outputs": [
    {
     "data": {
      "text/plain": [
       "False"
      ]
     },
     "execution_count": 36,
     "metadata": {},
     "output_type": "execute_result"
    }
   ],
   "source": [
    "5 in [1, 2, 3]"
   ]
  },
  {
   "cell_type": "code",
   "execution_count": 37,
   "id": "a947ad85",
   "metadata": {},
   "outputs": [
    {
     "data": {
      "text/plain": [
       "True"
      ]
     },
     "execution_count": 37,
     "metadata": {},
     "output_type": "execute_result"
    }
   ],
   "source": [
    "5 not in [1, 2, 3]"
   ]
  },
  {
   "cell_type": "markdown",
   "id": "4e34c4c4",
   "metadata": {},
   "source": [
    "L'**operatore identità** compara l'allocazione in memoria di due oggetti. L'operatore `is` restituisce `True` se entrambe le variabili puntano allo stesso oggetto; l'operatore `is not` restituisce `True` se le variabili non puntano allo stesso oggetto."
   ]
  },
  {
   "cell_type": "code",
   "execution_count": 38,
   "id": "b473cb75",
   "metadata": {},
   "outputs": [
    {
     "data": {
      "text/plain": [
       "False"
      ]
     },
     "execution_count": 38,
     "metadata": {},
     "output_type": "execute_result"
    }
   ],
   "source": [
    "x is y"
   ]
  },
  {
   "cell_type": "code",
   "execution_count": 39,
   "id": "012ee323",
   "metadata": {},
   "outputs": [
    {
     "data": {
      "text/plain": [
       "True"
      ]
     },
     "execution_count": 39,
     "metadata": {},
     "output_type": "execute_result"
    }
   ],
   "source": [
    "x = y\n",
    "\n",
    "x is y"
   ]
  },
  {
   "cell_type": "code",
   "execution_count": 40,
   "id": "5298c12e",
   "metadata": {},
   "outputs": [
    {
     "data": {
      "text/plain": [
       "10"
      ]
     },
     "execution_count": 40,
     "metadata": {},
     "output_type": "execute_result"
    }
   ],
   "source": [
    "x"
   ]
  },
  {
   "cell_type": "code",
   "execution_count": 42,
   "id": "a1f21120",
   "metadata": {},
   "outputs": [
    {
     "data": {
      "text/plain": [
       "False"
      ]
     },
     "execution_count": 42,
     "metadata": {},
     "output_type": "execute_result"
    }
   ],
   "source": [
    "x is not y"
   ]
  },
  {
   "cell_type": "markdown",
   "id": "c22bb81d",
   "metadata": {},
   "source": [
    "# Indentazione\n",
    "\n",
    "L'**indentazione** si riferisce agli spazi all'inizio di una linea di codice. Mentre in altri linguaggi di programmazione l'indentazione del codice è utilizzata soltanto per leggibilità, essa è molto importante in Python dato che è utilizzata per indicare un blocco di codice. Un livello di indentazione corrisponde a 4 spazi bianchi o una tabulazione."
   ]
  },
  {
   "cell_type": "code",
   "execution_count": 46,
   "id": "8248ab69",
   "metadata": {},
   "outputs": [
    {
     "name": "stdout",
     "output_type": "stream",
     "text": [
      "<_io.TextIOWrapper name='file.txt' mode='w' encoding='UTF-8'>\n"
     ]
    }
   ],
   "source": [
    "with open('file.txt', 'w') as file:\n",
    "   file.write(x)"
   ]
  },
  {
   "cell_type": "markdown",
   "id": "ec6239a7",
   "metadata": {},
   "source": [
    "# Comandi Condizionali\n",
    "\n",
    "Il decision-making nei linguaggi di programmazione è automatizzato utilizzando i **condizionali**, con i quali la macchina controlla che il codice soddisfi una determinata condizione. Le condizioni sono valutate e processate con valori *true* e *false*. Se viene restituito `True`, verrà eseguito il codice nel blocco, altrimenti verrà eseguito il codice dopo il blocco."
   ]
  },
  {
   "cell_type": "code",
   "execution_count": 48,
   "id": "764f1b9c",
   "metadata": {},
   "outputs": [],
   "source": [
    "v1 = 24\n",
    "v2 = 28\n",
    "v3 = 20"
   ]
  },
  {
   "cell_type": "code",
   "execution_count": 49,
   "id": "4608f5ca",
   "metadata": {},
   "outputs": [],
   "source": [
    "voto = (v1 + v2 + v3)/3"
   ]
  },
  {
   "cell_type": "code",
   "execution_count": 50,
   "id": "16a78b6f",
   "metadata": {},
   "outputs": [
    {
     "data": {
      "text/plain": [
       "24.0"
      ]
     },
     "execution_count": 50,
     "metadata": {},
     "output_type": "execute_result"
    }
   ],
   "source": [
    "voto"
   ]
  },
  {
   "cell_type": "code",
   "execution_count": 51,
   "id": "3615b6e8",
   "metadata": {},
   "outputs": [
    {
     "data": {
      "text/plain": [
       "True"
      ]
     },
     "execution_count": 51,
     "metadata": {},
     "output_type": "execute_result"
    }
   ],
   "source": [
    "voto >= 18"
   ]
  },
  {
   "cell_type": "markdown",
   "id": "4094138c",
   "metadata": {},
   "source": [
    "## `if`\n",
    "\n",
    "Il comando `if` è il più importante comando relativo al decision-making, con il quale il codice viene eseguito nel caso in cui venga soddisfatta una specifica condizione.\n",
    "\n",
    "```\n",
    "if <expr>:\n",
    "    <statement>\n",
    "```"
   ]
  },
  {
   "cell_type": "code",
   "execution_count": 52,
   "id": "ab0ee14d",
   "metadata": {},
   "outputs": [
    {
     "name": "stdout",
     "output_type": "stream",
     "text": [
      "Esame superato.\n"
     ]
    }
   ],
   "source": [
    "if voto >= 18:\n",
    "    print('Esame superato.')"
   ]
  },
  {
   "cell_type": "code",
   "execution_count": 53,
   "id": "0d0c0ec2",
   "metadata": {},
   "outputs": [],
   "source": [
    "voto = 17\n",
    "\n",
    "if voto >= 18:\n",
    "    print('Esame superato.')"
   ]
  },
  {
   "cell_type": "code",
   "execution_count": 54,
   "id": "39a2ab0e",
   "metadata": {},
   "outputs": [
    {
     "name": "stdout",
     "output_type": "stream",
     "text": [
      "Torna a studiare.\n"
     ]
    }
   ],
   "source": [
    "voto = 17\n",
    "\n",
    "if voto >= 18:\n",
    "    print('Esame superato.')\n",
    "\n",
    "print('Torna a studiare.')"
   ]
  },
  {
   "cell_type": "code",
   "execution_count": 55,
   "id": "0c894aa5",
   "metadata": {},
   "outputs": [
    {
     "name": "stdout",
     "output_type": "stream",
     "text": [
      "Esame superato.\n",
      "Torna a studiare.\n"
     ]
    }
   ],
   "source": [
    "voto = 24\n",
    "\n",
    "if voto >= 18:\n",
    "    print('Esame superato.')\n",
    "\n",
    "print('Torna a studiare.')"
   ]
  },
  {
   "cell_type": "markdown",
   "id": "2a2d600e",
   "metadata": {},
   "source": [
    "## `if-else`\n",
    "\n",
    "Il comando `if-else` viene utilizzato quando vogliamo definire un blocco di codice da eseguire sia nel caso in cui la condizione sia vera, sia quando essa sia falsa. Nel primo caso, verrà eseguito il codice nel blocco `if`, nel secondo verrà eseguito il codice nel blocco `else`.\n",
    "\n",
    "```\n",
    "if <expr>:\n",
    "    <statement>\n",
    "else:\n",
    "    <statement>\n",
    "```"
   ]
  },
  {
   "cell_type": "code",
   "execution_count": 57,
   "id": "992edf71",
   "metadata": {},
   "outputs": [
    {
     "name": "stdout",
     "output_type": "stream",
     "text": [
      "Esame fallito.\n",
      "Torna a studiare.\n"
     ]
    }
   ],
   "source": [
    "voto = 17\n",
    "\n",
    "if voto >= 18:\n",
    "    print('Esame superato.')\n",
    "\n",
    "if voto < 18:\n",
    "    print('Esame fallito.')\n",
    "\n",
    "print('Torna a studiare.')"
   ]
  },
  {
   "cell_type": "code",
   "execution_count": 58,
   "id": "07281ed8",
   "metadata": {},
   "outputs": [
    {
     "name": "stdout",
     "output_type": "stream",
     "text": [
      "Esame fallito.\n"
     ]
    }
   ],
   "source": [
    "if voto >= 18:\n",
    "    print('Esame superato.')\n",
    "else:\n",
    "    print('Esame fallito.')"
   ]
  },
  {
   "cell_type": "code",
   "execution_count": 59,
   "id": "2273e654",
   "metadata": {},
   "outputs": [
    {
     "name": "stdout",
     "output_type": "stream",
     "text": [
      "Esame superato.\n"
     ]
    }
   ],
   "source": [
    "voto = 24\n",
    "\n",
    "if voto >= 18:\n",
    "    print('Esame superato.')\n",
    "else:\n",
    "    print('Esame fallito.')"
   ]
  },
  {
   "cell_type": "markdown",
   "id": "efaa8cfa",
   "metadata": {},
   "source": [
    "## `if-elif-else`\n",
    "\n",
    "Con questo comando, si controlla prima la condizione dell'`if`. Se è falsa, si controllano i comandi `elif`; se anch'essi risultano falsi, verrà eseguito il codice nel blocco `else`.\n",
    "\n",
    "```\n",
    "if <expr>:\n",
    "    <statement>\n",
    "elif <expr>:\n",
    "    <statement>\n",
    "else:\n",
    "    <statement>\n",
    "```"
   ]
  },
  {
   "cell_type": "code",
   "execution_count": 68,
   "id": "4868860e",
   "metadata": {},
   "outputs": [],
   "source": [
    "voto = 23"
   ]
  },
  {
   "cell_type": "code",
   "execution_count": 69,
   "id": "047bdb5d",
   "metadata": {},
   "outputs": [
    {
     "name": "stdout",
     "output_type": "stream",
     "text": [
      "Esame superato.\n"
     ]
    }
   ],
   "source": [
    "if voto >= 24:\n",
    "    print('Esame superato.')\n",
    "    print('Complimenti.')\n",
    "elif (voto > 18) and (voto < 24):\n",
    "    print('Esame superato.')\n",
    "elif voto == 18:\n",
    "    print('Esame superato col minimo voto.')\n",
    "else:\n",
    "    print('Esame fallito.')"
   ]
  },
  {
   "cell_type": "code",
   "execution_count": 71,
   "id": "6c5fdd21",
   "metadata": {},
   "outputs": [],
   "source": [
    "voto = 25"
   ]
  },
  {
   "cell_type": "code",
   "execution_count": 72,
   "id": "9c295ce5",
   "metadata": {},
   "outputs": [
    {
     "name": "stdout",
     "output_type": "stream",
     "text": [
      "Esame superato.\n",
      "Complimenti.\n"
     ]
    }
   ],
   "source": [
    "if voto >= 24:\n",
    "    print('Esame superato.')\n",
    "    print('Complimenti.')\n",
    "elif voto > 18:\n",
    "    print('Esame superato.')\n",
    "elif voto == 18:\n",
    "    print('Esame superato col minimo voto.')\n",
    "else:\n",
    "    print('Esame fallito.')"
   ]
  },
  {
   "cell_type": "markdown",
   "id": "694f0ea9",
   "metadata": {},
   "source": [
    "## Comandi `if` Annidati\n",
    "\n",
    "Un comando `if` annidato è un comando in cui un `if` è presente all'interno di un altro `if`.\n",
    "\n",
    "```\n",
    "if <expr>:\n",
    "    if <expr>:\n",
    "        <statement>\n",
    "    else:\n",
    "        <statement>\n",
    "else:\n",
    "    <statement>\n",
    "```"
   ]
  },
  {
   "cell_type": "code",
   "execution_count": 77,
   "id": "906f0f6e",
   "metadata": {},
   "outputs": [],
   "source": [
    "v1 = 15\n",
    "v2 = 23"
   ]
  },
  {
   "cell_type": "code",
   "execution_count": 78,
   "id": "a16b5188",
   "metadata": {},
   "outputs": [
    {
     "name": "stdout",
     "output_type": "stream",
     "text": [
      "Non hai superato la prima prova.\n"
     ]
    }
   ],
   "source": [
    "if v1 >= 18:\n",
    "    print('Hai superato la prima prova.')\n",
    "    \n",
    "    if v2 >= 18:\n",
    "        voto = (v1+v2)/2\n",
    "        print(f'Hai superato l\"esame con un voto di {voto}.')\n",
    "    else:\n",
    "        print('Non hai superato la seconda prova.')\n",
    "else:\n",
    "    print('Non hai superato la prima prova.')"
   ]
  },
  {
   "cell_type": "markdown",
   "id": "6a588948",
   "metadata": {},
   "source": [
    "## Comando `if` su Singola Linea\n",
    "\n",
    "Un comando `if` può essere espresso su una singola linea di codice se bisogna controllare una sola condizione.\n",
    "\n",
    "```\n",
    "if <expr>: <statement>\n",
    "```"
   ]
  },
  {
   "cell_type": "code",
   "execution_count": 79,
   "id": "c6d7d23f",
   "metadata": {},
   "outputs": [],
   "source": [
    "nomi = ['Alice', 'Bruno', 'Carlo']"
   ]
  },
  {
   "cell_type": "code",
   "execution_count": 82,
   "id": "05fb75b8",
   "metadata": {
    "scrolled": true
   },
   "outputs": [
    {
     "name": "stdout",
     "output_type": "stream",
     "text": [
      "Ciao Bruno!\n",
      "Come stai?\n"
     ]
    }
   ],
   "source": [
    "if 'Bruno' in nomi:\n",
    "    print('Ciao Bruno!')\n",
    "\n",
    "print('Come stai?')"
   ]
  },
  {
   "cell_type": "code",
   "execution_count": 83,
   "id": "21595200",
   "metadata": {},
   "outputs": [
    {
     "name": "stdout",
     "output_type": "stream",
     "text": [
      "Ciao Bruno!\n",
      "Come stai?\n"
     ]
    }
   ],
   "source": [
    "if 'Bruno' in nomi: print('Ciao Bruno!'); print('Come stai?')"
   ]
  },
  {
   "cell_type": "markdown",
   "id": "7e7675da",
   "metadata": {},
   "source": [
    "## Operatore Ternario\n",
    "\n",
    "Un operatore ternario è utilizzato per esprimere sulla stessa linea un comando `if-else` con una singola condizione da controllare.\n",
    "\n",
    "```\n",
    "<statement> if <expr> else <statement>\n",
    "```"
   ]
  },
  {
   "cell_type": "code",
   "execution_count": 84,
   "id": "7cd53a3c",
   "metadata": {},
   "outputs": [],
   "source": [
    "n = 'Daniele'"
   ]
  },
  {
   "cell_type": "code",
   "execution_count": 85,
   "id": "2ea0d905",
   "metadata": {},
   "outputs": [],
   "source": [
    "print(f'Ciao {n}') if n in nomi else nomi.append(n)"
   ]
  },
  {
   "cell_type": "code",
   "execution_count": 86,
   "id": "ac57a37e",
   "metadata": {},
   "outputs": [
    {
     "data": {
      "text/plain": [
       "['Alice', 'Bruno', 'Carlo', 'Daniele']"
      ]
     },
     "execution_count": 86,
     "metadata": {},
     "output_type": "execute_result"
    }
   ],
   "source": [
    "nomi"
   ]
  },
  {
   "cell_type": "code",
   "execution_count": 87,
   "id": "01d1734a",
   "metadata": {},
   "outputs": [
    {
     "name": "stdout",
     "output_type": "stream",
     "text": [
      "Ciao Daniele\n"
     ]
    }
   ],
   "source": [
    "print(f'Ciao {n}') if n in nomi else nomi.append(n)"
   ]
  },
  {
   "cell_type": "markdown",
   "id": "c7fe5ed2",
   "metadata": {},
   "source": [
    "# Esercizi\n",
    "\n",
    "1. Scrivi un programma che converta una temperatura in base alla sua unità di misura, ad esempio da Celsius a Fahrenheit o viceversa."
   ]
  },
  {
   "cell_type": "code",
   "execution_count": 12,
   "id": "72e2aa84",
   "metadata": {},
   "outputs": [],
   "source": [
    "unità = 'F'\n",
    "temp = 32"
   ]
  },
  {
   "cell_type": "code",
   "execution_count": 13,
   "id": "338e5d70",
   "metadata": {},
   "outputs": [
    {
     "data": {
      "text/plain": [
       "89.6"
      ]
     },
     "execution_count": 13,
     "metadata": {},
     "output_type": "execute_result"
    }
   ],
   "source": [
    "(temp * 9/5) + 32"
   ]
  },
  {
   "cell_type": "code",
   "execution_count": 14,
   "id": "92c0fd1a",
   "metadata": {},
   "outputs": [
    {
     "name": "stdout",
     "output_type": "stream",
     "text": [
      "La temperatura in Celsius è 0.0.\n"
     ]
    }
   ],
   "source": [
    "if unità == 'C':\n",
    "    temp_far = (temp * 9/5) + 32\n",
    "    print(f'La temperatura in Fahrenheit è {temp_far}.')\n",
    "elif unità == 'F':\n",
    "    temp_cel = (temp - 32) * 5/9\n",
    "    print(f'La temperatura in Celsius è {temp_cel}.')\n",
    "else:\n",
    "    print('Unità di misura non valida.')"
   ]
  },
  {
   "cell_type": "markdown",
   "id": "9c51738f",
   "metadata": {},
   "source": [
    "2. Scrivi un programma che stampi il numero di giorni in uno specifico mese e, nel caso di febbraio, controlli anche se l'anno è bisestile."
   ]
  },
  {
   "cell_type": "code",
   "execution_count": 28,
   "id": "ed6ce8f4",
   "metadata": {},
   "outputs": [],
   "source": [
    "mese = 'Febbraio'\n",
    "anno = 2024"
   ]
  },
  {
   "cell_type": "code",
   "execution_count": 29,
   "id": "3a4a6286",
   "metadata": {},
   "outputs": [
    {
     "name": "stdout",
     "output_type": "stream",
     "text": [
      "Febbraio ha 29 giorni.\n"
     ]
    }
   ],
   "source": [
    "if mese in ['Settembre', 'Novembre', 'Aprile', 'Giugno']:\n",
    "    print(f'{mese} ha 30 giorni.')\n",
    "elif mese == 'Febbraio':\n",
    "    if anno % 4 == 0:\n",
    "        print(f'{mese} ha 29 giorni.')\n",
    "    else:\n",
    "        print(f'{mese} ha 28 giorni.')\n",
    "else:\n",
    "    print(f'{mese} ha 31 giorni.')"
   ]
  },
  {
   "cell_type": "code",
   "execution_count": 32,
   "id": "1963b8c9",
   "metadata": {},
   "outputs": [
    {
     "data": {
      "text/plain": [
       "'Il mese di Febbraio nell\"anno 2024 ha 29 giorni'"
      ]
     },
     "execution_count": 32,
     "metadata": {},
     "output_type": "execute_result"
    }
   ],
   "source": [
    "f'Il mese di {mese} nell\"anno {anno} ha 29 giorni'"
   ]
  },
  {
   "cell_type": "code",
   "execution_count": 33,
   "id": "b94a9598",
   "metadata": {},
   "outputs": [
    {
     "data": {
      "text/plain": [
       "'Il mese di {mese} nell\"anno {anno} ha 29 giorni'"
      ]
     },
     "execution_count": 33,
     "metadata": {},
     "output_type": "execute_result"
    }
   ],
   "source": [
    "'Il mese di {mese} nell\"anno {anno} ha 29 giorni'"
   ]
  },
  {
   "cell_type": "code",
   "execution_count": null,
   "id": "0946714d",
   "metadata": {},
   "outputs": [],
   "source": []
  }
 ],
 "metadata": {
  "kernelspec": {
   "display_name": "Python 3 (ipykernel)",
   "language": "python",
   "name": "python3"
  },
  "language_info": {
   "codemirror_mode": {
    "name": "ipython",
    "version": 3
   },
   "file_extension": ".py",
   "mimetype": "text/x-python",
   "name": "python",
   "nbconvert_exporter": "python",
   "pygments_lexer": "ipython3",
   "version": "3.8.13"
  }
 },
 "nbformat": 4,
 "nbformat_minor": 5
}
