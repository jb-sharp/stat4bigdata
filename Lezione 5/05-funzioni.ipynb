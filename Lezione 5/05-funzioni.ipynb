{
 "cells": [
  {
   "cell_type": "markdown",
   "id": "33918036",
   "metadata": {},
   "source": [
    "# Funzioni\n",
    "\n",
    "Una **funzione** racchiude un blocco di codice che esegue un determinato compito: l'utilizzo delle funzioni serve ad evitare ripetizioni e rendere il codice riutilizzabile. Una funzione viene definita in Python utilizzando la seguente sintassi:\n",
    "\n",
    "```\n",
    "def function(arguments):\n",
    "    blocco\n",
    "```"
   ]
  },
  {
   "cell_type": "code",
   "execution_count": 1,
   "id": "164e81bd",
   "metadata": {},
   "outputs": [],
   "source": [
    "# Una funzione senza argomenti\n",
    "def saluta():\n",
    "    print('Ciao!')"
   ]
  },
  {
   "cell_type": "markdown",
   "id": "e10e0c5d",
   "metadata": {},
   "source": [
    "Per chiamare una funzione, come abbiamo già visto per le funzioni integrate, basta semplicemente scrivere il nome seguito dagli eventuali argomenti tra parentesi."
   ]
  },
  {
   "cell_type": "code",
   "execution_count": 2,
   "id": "2db46119",
   "metadata": {},
   "outputs": [
    {
     "name": "stdout",
     "output_type": "stream",
     "text": [
      "Ciao!\n"
     ]
    }
   ],
   "source": [
    "saluta()"
   ]
  },
  {
   "cell_type": "markdown",
   "id": "77ce250a",
   "metadata": {},
   "source": [
    "Ad ogni funzione possono essere passate delle informazioni come **argomenti**. Gli argomenti sono specificati dopo il nome della funzione, all'interno delle parentesi. Possono essere aggiunti quanti argomenti si vuole, separati da virgole."
   ]
  },
  {
   "cell_type": "code",
   "execution_count": 3,
   "id": "7799311e",
   "metadata": {},
   "outputs": [],
   "source": [
    "# Funzione con un argomento nome\n",
    "def saluta_personalizzato(nome):\n",
    "    nome = nome.capitalize()\n",
    "    print(f'Ciao {nome}!')"
   ]
  },
  {
   "cell_type": "code",
   "execution_count": 4,
   "id": "4053d6b4",
   "metadata": {},
   "outputs": [
    {
     "ename": "TypeError",
     "evalue": "saluta_personalizzato() missing 1 required positional argument: 'nome'",
     "output_type": "error",
     "traceback": [
      "\u001b[0;31m---------------------------------------------------------------------------\u001b[0m",
      "\u001b[0;31mTypeError\u001b[0m                                 Traceback (most recent call last)",
      "Cell \u001b[0;32mIn[4], line 1\u001b[0m\n\u001b[0;32m----> 1\u001b[0m saluta_personalizzato()\n",
      "\u001b[0;31mTypeError\u001b[0m: saluta_personalizzato() missing 1 required positional argument: 'nome'"
     ]
    }
   ],
   "source": [
    "saluta_personalizzato()"
   ]
  },
  {
   "cell_type": "code",
   "execution_count": 6,
   "id": "f3e9e1b1",
   "metadata": {},
   "outputs": [
    {
     "name": "stdout",
     "output_type": "stream",
     "text": [
      "Ciao Alice!\n"
     ]
    }
   ],
   "source": [
    "saluta_personalizzato('alice')"
   ]
  },
  {
   "cell_type": "markdown",
   "id": "977f193a",
   "metadata": {},
   "source": [
    "Agli argomenti possono essere attribuiti dei *valori di default* che vengono assunti solo nel caso in cui nessun valore venga specificato in fase di chiamata. I valori di default degli argomenti si specificano utilizzando l'operatore di assegnazione `=` nella forma `chiave = valore`."
   ]
  },
  {
   "cell_type": "code",
   "execution_count": 8,
   "id": "d4b064fb",
   "metadata": {},
   "outputs": [],
   "source": [
    "def saluta_personalizzato(nome = 'Alice'):\n",
    "    nome = nome.capitalize()\n",
    "    print(f'Ciao {nome}!')"
   ]
  },
  {
   "cell_type": "code",
   "execution_count": 9,
   "id": "a72dacc3",
   "metadata": {},
   "outputs": [
    {
     "name": "stdout",
     "output_type": "stream",
     "text": [
      "Ciao Bruno!\n"
     ]
    }
   ],
   "source": [
    "# Ignorando il valore di default\n",
    "saluta_personalizzato(nome = 'Bruno')"
   ]
  },
  {
   "cell_type": "code",
   "execution_count": 10,
   "id": "75a603f1",
   "metadata": {},
   "outputs": [
    {
     "name": "stdout",
     "output_type": "stream",
     "text": [
      "Ciao Alice!\n"
     ]
    }
   ],
   "source": [
    "# Usando il valore di default\n",
    "saluta_personalizzato()"
   ]
  },
  {
   "cell_type": "code",
   "execution_count": 12,
   "id": "0ce829f7",
   "metadata": {},
   "outputs": [],
   "source": [
    "# Funzione con due argomenti\n",
    "def saluti_multipli(nome1, nome2):\n",
    "    print(f'Ciao {nome1}!')\n",
    "    print(f'Ciao {nome2}!')"
   ]
  },
  {
   "cell_type": "code",
   "execution_count": 14,
   "id": "3dd14c2e",
   "metadata": {},
   "outputs": [
    {
     "name": "stdout",
     "output_type": "stream",
     "text": [
      "Ciao Alice!\n",
      "Ciao Bruno!\n"
     ]
    }
   ],
   "source": [
    "saluti_multipli(nome1 = 'Alice', nome2 = 'Bruno')"
   ]
  },
  {
   "cell_type": "markdown",
   "id": "593457ea-4e0a-4452-8044-f54de2229c24",
   "metadata": {},
   "source": [
    "Se una funzione viene definita in modo da accettare un certo numero di argomenti non sarà consentito chiamarla con più argomenti. È possibile chiamarla con meno argomenti solo se sono stati asseganti dei valori di default."
   ]
  },
  {
   "cell_type": "code",
   "execution_count": 17,
   "id": "ef8a7ee9",
   "metadata": {},
   "outputs": [
    {
     "ename": "TypeError",
     "evalue": "saluti_multipli() takes 2 positional arguments but 3 were given",
     "output_type": "error",
     "traceback": [
      "\u001b[0;31m---------------------------------------------------------------------------\u001b[0m",
      "\u001b[0;31mTypeError\u001b[0m                                 Traceback (most recent call last)",
      "Cell \u001b[0;32mIn[17], line 1\u001b[0m\n\u001b[0;32m----> 1\u001b[0m saluti_multipli(\u001b[38;5;124m'\u001b[39m\u001b[38;5;124mAlice\u001b[39m\u001b[38;5;124m'\u001b[39m, \u001b[38;5;124m'\u001b[39m\u001b[38;5;124mBruno\u001b[39m\u001b[38;5;124m'\u001b[39m, \u001b[38;5;124m'\u001b[39m\u001b[38;5;124mCarlo\u001b[39m\u001b[38;5;124m'\u001b[39m)\n",
      "\u001b[0;31mTypeError\u001b[0m: saluti_multipli() takes 2 positional arguments but 3 were given"
     ]
    }
   ],
   "source": [
    "saluti_multipli('Alice', 'Bruno', 'Carlo')"
   ]
  },
  {
   "cell_type": "markdown",
   "id": "70ad7ce4-9825-4b9c-9452-c03a485186e2",
   "metadata": {},
   "source": [
    "L'uso di dell'argomento `*args` permette di passare un numero variabile di argomenti alla funzione."
   ]
  },
  {
   "cell_type": "code",
   "execution_count": 18,
   "id": "3e6dbc0c",
   "metadata": {},
   "outputs": [],
   "source": [
    "def saluti_multipli(*args):\n",
    "    for nome in args:\n",
    "        print(f'Ciao {nome}!')"
   ]
  },
  {
   "cell_type": "code",
   "execution_count": 19,
   "id": "106ab131",
   "metadata": {},
   "outputs": [
    {
     "name": "stdout",
     "output_type": "stream",
     "text": [
      "Ciao Alice!\n",
      "Ciao Bruno!\n",
      "Ciao Carlo!\n",
      "Ciao Daniele!\n"
     ]
    }
   ],
   "source": [
    "saluti_multipli('Alice', 'Bruno', 'Carlo', 'Daniele')"
   ]
  },
  {
   "cell_type": "markdown",
   "id": "5649a463",
   "metadata": {},
   "source": [
    "## `return`\n",
    "\n",
    "Il comando `return` è utilizzato all'interno di una funzione per restituire un valore a conclusione dell'esecuzione della funzione."
   ]
  },
  {
   "cell_type": "code",
   "execution_count": 21,
   "id": "ab00a05b",
   "metadata": {},
   "outputs": [
    {
     "name": "stdout",
     "output_type": "stream",
     "text": [
      "Ciao!\n"
     ]
    }
   ],
   "source": [
    "x = saluta()"
   ]
  },
  {
   "cell_type": "markdown",
   "id": "f26a9f51-36ff-4d9a-b1dc-4bd66fae5166",
   "metadata": {},
   "source": [
    "Una funzione che non contiene un'instruzione `return` ritorna di default un oggetto di tipo `None`. "
   ]
  },
  {
   "cell_type": "code",
   "execution_count": 23,
   "id": "12d2a24d",
   "metadata": {},
   "outputs": [
    {
     "name": "stdout",
     "output_type": "stream",
     "text": [
      "None <class 'NoneType'>\n"
     ]
    }
   ],
   "source": [
    "print(x, type(x))"
   ]
  },
  {
   "cell_type": "code",
   "execution_count": 30,
   "id": "bc3fb8dc",
   "metadata": {},
   "outputs": [],
   "source": [
    "# Questa funzione ritorna None\n",
    "def quadrato(numero):\n",
    "    print(numero ** 2)"
   ]
  },
  {
   "cell_type": "code",
   "execution_count": 31,
   "id": "84ab2ce4",
   "metadata": {},
   "outputs": [
    {
     "name": "stdout",
     "output_type": "stream",
     "text": [
      "4\n"
     ]
    }
   ],
   "source": [
    "x = quadrato(2)"
   ]
  },
  {
   "cell_type": "code",
   "execution_count": 32,
   "id": "54d4eeaa",
   "metadata": {},
   "outputs": [
    {
     "name": "stdout",
     "output_type": "stream",
     "text": [
      "None\n"
     ]
    }
   ],
   "source": [
    "print(x)"
   ]
  },
  {
   "cell_type": "code",
   "execution_count": 33,
   "id": "5a1b0fc2",
   "metadata": {},
   "outputs": [],
   "source": [
    "# Questa funzione ritorna il risultato\n",
    "def quadrato(numero):\n",
    "    return numero ** 2"
   ]
  },
  {
   "cell_type": "code",
   "execution_count": 34,
   "id": "a3e8da46",
   "metadata": {},
   "outputs": [],
   "source": [
    "x = quadrato(2)"
   ]
  },
  {
   "cell_type": "code",
   "execution_count": 35,
   "id": "473db2e7",
   "metadata": {},
   "outputs": [
    {
     "data": {
      "text/plain": [
       "4"
      ]
     },
     "execution_count": 35,
     "metadata": {},
     "output_type": "execute_result"
    }
   ],
   "source": [
    "x"
   ]
  },
  {
   "cell_type": "code",
   "execution_count": 36,
   "id": "010debf1",
   "metadata": {},
   "outputs": [],
   "source": [
    "# Una funzione per generare l'indirizzo \n",
    "# email unimi dato nome e cognome \n",
    "def email_generator(nome, cognome, ruolo='Studente'):\n",
    "    nome = nome.lower()\n",
    "    cognome = cognome.lower()\n",
    "    \n",
    "    if ruolo == 'Studente':\n",
    "        dominio = 'studenti.unimi.it'\n",
    "    else:\n",
    "        dominio = 'unimi.it'\n",
    "    \n",
    "    # indirizzo = nome + '.' + cognome + '@' + dominio\n",
    "    indirizzo = f'{nome}.{cognome}@{dominio}'\n",
    "    \n",
    "    return indirizzo"
   ]
  },
  {
   "cell_type": "code",
   "execution_count": 37,
   "id": "187a5cc7",
   "metadata": {},
   "outputs": [
    {
     "data": {
      "text/plain": [
       "'mario.rossi@studenti.unimi.it'"
      ]
     },
     "execution_count": 37,
     "metadata": {},
     "output_type": "execute_result"
    }
   ],
   "source": [
    "email_generator('Mario', 'Rossi')"
   ]
  },
  {
   "cell_type": "code",
   "execution_count": 38,
   "id": "cc13308b",
   "metadata": {},
   "outputs": [
    {
     "data": {
      "text/plain": [
       "'mario.rossi@unimi.it'"
      ]
     },
     "execution_count": 38,
     "metadata": {},
     "output_type": "execute_result"
    }
   ],
   "source": [
    "email_generator('Mario', 'Rossi', ruolo='Docente')"
   ]
  },
  {
   "cell_type": "code",
   "execution_count": 46,
   "id": "920256ef",
   "metadata": {},
   "outputs": [
    {
     "data": {
      "text/plain": [
       "'mario.rossi@studentiunimi.it'"
      ]
     },
     "execution_count": 46,
     "metadata": {},
     "output_type": "execute_result"
    }
   ],
   "source": [
    "email_generator('Mario', 'Rossi')"
   ]
  },
  {
   "cell_type": "code",
   "execution_count": 39,
   "id": "7f02f624",
   "metadata": {},
   "outputs": [],
   "source": [
    "# Versione più compatta della funzione precente\n",
    "def email_generator(nome, cognome, ruolo='Studente'):\n",
    "    dominio = 'studenti.unimi.it' if ruolo == 'Studente' else 'unimi.it'\n",
    "    return f'{nome.lower()}.{cognome.lower()}@{dominio}'"
   ]
  },
  {
   "cell_type": "code",
   "execution_count": 40,
   "id": "6ebe60c6",
   "metadata": {},
   "outputs": [
    {
     "data": {
      "text/plain": [
       "'mario.rossi@studenti.unimi.it'"
      ]
     },
     "execution_count": 40,
     "metadata": {},
     "output_type": "execute_result"
    }
   ],
   "source": [
    "email_generator('Mario', 'Rossi')"
   ]
  },
  {
   "cell_type": "code",
   "execution_count": 41,
   "id": "fb5511a7-bb52-4bb4-98de-b6246a7a60ca",
   "metadata": {},
   "outputs": [
    {
     "ename": "TypeError",
     "evalue": "email_generator() missing 1 required positional argument: 'cognome'",
     "output_type": "error",
     "traceback": [
      "\u001b[0;31m---------------------------------------------------------------------------\u001b[0m",
      "\u001b[0;31mTypeError\u001b[0m                                 Traceback (most recent call last)",
      "Cell \u001b[0;32mIn[41], line 1\u001b[0m\n\u001b[0;32m----> 1\u001b[0m email_generator(\u001b[38;5;124m'\u001b[39m\u001b[38;5;124mMario\u001b[39m\u001b[38;5;124m'\u001b[39m)\n",
      "\u001b[0;31mTypeError\u001b[0m: email_generator() missing 1 required positional argument: 'cognome'"
     ]
    }
   ],
   "source": [
    "email_generator('Mario')"
   ]
  },
  {
   "cell_type": "markdown",
   "id": "4371e116",
   "metadata": {},
   "source": [
    "# Visibilità delle variabili\n",
    "\n",
    "Non in tutti i punti di un programma è possibile accedere a tutte le variabili. La parte di un programma dalla quale una variabile è accessibile è definita dalla sua **visibilità** (scope in inglese). Ci sono quattro diversi livelli di visibilità in Python che seguono la regola *LEGB*: Local, Enclosing, Global, Built-in."
   ]
  },
  {
   "cell_type": "code",
   "execution_count": 42,
   "id": "52a9a88a",
   "metadata": {},
   "outputs": [],
   "source": [
    "def num():\n",
    "    # n è una variabile locale alla funzione num\n",
    "    n = 10\n",
    "    print(n)"
   ]
  },
  {
   "cell_type": "code",
   "execution_count": 43,
   "id": "8472a627",
   "metadata": {},
   "outputs": [
    {
     "name": "stdout",
     "output_type": "stream",
     "text": [
      "10\n"
     ]
    }
   ],
   "source": [
    "num()"
   ]
  },
  {
   "cell_type": "code",
   "execution_count": 44,
   "id": "005fdd88",
   "metadata": {},
   "outputs": [
    {
     "ename": "NameError",
     "evalue": "name 'n' is not defined",
     "output_type": "error",
     "traceback": [
      "\u001b[0;31m---------------------------------------------------------------------------\u001b[0m",
      "\u001b[0;31mNameError\u001b[0m                                 Traceback (most recent call last)",
      "Cell \u001b[0;32mIn[44], line 2\u001b[0m\n\u001b[1;32m      1\u001b[0m \u001b[38;5;66;03m# n non è visibile al diffuori della funzione\u001b[39;00m\n\u001b[0;32m----> 2\u001b[0m n\n",
      "\u001b[0;31mNameError\u001b[0m: name 'n' is not defined"
     ]
    }
   ],
   "source": [
    "# n non è visibile al diffuori della funzione\n",
    "n"
   ]
  },
  {
   "cell_type": "code",
   "execution_count": 45,
   "id": "53008fb5-2852-4e4c-8a14-d72bc91f0262",
   "metadata": {},
   "outputs": [],
   "source": [
    "def num(n):\n",
    "    print(n)"
   ]
  },
  {
   "cell_type": "code",
   "execution_count": 46,
   "id": "249ee038-f8ef-4eab-a437-726efc970f70",
   "metadata": {},
   "outputs": [
    {
     "name": "stdout",
     "output_type": "stream",
     "text": [
      "10\n"
     ]
    }
   ],
   "source": [
    "# Qui invece n è una variabile globale \n",
    "# visibile in ogni punto del programma \n",
    "n = 10\n",
    "num(n)"
   ]
  },
  {
   "cell_type": "code",
   "execution_count": 47,
   "id": "239b0867",
   "metadata": {},
   "outputs": [
    {
     "data": {
      "text/plain": [
       "10"
      ]
     },
     "execution_count": 47,
     "metadata": {},
     "output_type": "execute_result"
    }
   ],
   "source": [
    "n"
   ]
  },
  {
   "cell_type": "markdown",
   "id": "9f635a1c-0042-4591-8040-78b6ab00098c",
   "metadata": {},
   "source": [
    "Gli argomenti di una funzione vengono sempre creati come variabili locali alla funzione pertanto non sono visibili al diffuori della funzione."
   ]
  },
  {
   "cell_type": "code",
   "execution_count": 48,
   "id": "14e118a4-4522-443e-8b86-041c63750fdc",
   "metadata": {},
   "outputs": [],
   "source": [
    "x = 10\n",
    "\n",
    "def num(a):\n",
    "    # a è un argomento della funzione\n",
    "    # ed è una variabile locale non visibile\n",
    "    # fuori da num\n",
    "    print(a)"
   ]
  },
  {
   "cell_type": "code",
   "execution_count": 53,
   "id": "107084f5-cfc2-4474-bac2-9047b6a0df82",
   "metadata": {},
   "outputs": [
    {
     "name": "stdout",
     "output_type": "stream",
     "text": [
      "10\n"
     ]
    }
   ],
   "source": [
    "num(x)"
   ]
  },
  {
   "cell_type": "code",
   "execution_count": 54,
   "id": "32202b90",
   "metadata": {},
   "outputs": [
    {
     "ename": "NameError",
     "evalue": "name 'a' is not defined",
     "output_type": "error",
     "traceback": [
      "\u001b[0;31m---------------------------------------------------------------------------\u001b[0m",
      "\u001b[0;31mNameError\u001b[0m                                 Traceback (most recent call last)",
      "Cell \u001b[0;32mIn[54], line 1\u001b[0m\n\u001b[0;32m----> 1\u001b[0m a\n",
      "\u001b[0;31mNameError\u001b[0m: name 'a' is not defined"
     ]
    }
   ],
   "source": [
    "a"
   ]
  },
  {
   "cell_type": "code",
   "execution_count": 55,
   "id": "e9853370",
   "metadata": {},
   "outputs": [
    {
     "name": "stdout",
     "output_type": "stream",
     "text": [
      "50\n"
     ]
    }
   ],
   "source": [
    "# variabili globali\n",
    "x = 10\n",
    "y = 5\n",
    "\n",
    "def num(a):\n",
    "    # a di nuovo è una variabile locale\n",
    "    # y invece è una variabile globale \n",
    "    # visibile anche all'interno della funzione num\n",
    "    print(a*y)\n",
    "\n",
    "num(x)"
   ]
  },
  {
   "cell_type": "code",
   "execution_count": 56,
   "id": "3d39b007",
   "metadata": {},
   "outputs": [
    {
     "ename": "NameError",
     "evalue": "name 'a' is not defined",
     "output_type": "error",
     "traceback": [
      "\u001b[0;31m---------------------------------------------------------------------------\u001b[0m",
      "\u001b[0;31mNameError\u001b[0m                                 Traceback (most recent call last)",
      "Cell \u001b[0;32mIn[56], line 1\u001b[0m\n\u001b[0;32m----> 1\u001b[0m a\n",
      "\u001b[0;31mNameError\u001b[0m: name 'a' is not defined"
     ]
    }
   ],
   "source": [
    "a"
   ]
  },
  {
   "cell_type": "markdown",
   "id": "410025cc-3532-4c96-8a46-aa63decf5c9e",
   "metadata": {},
   "source": [
    "È possibile definire funzioni all'interno di altre funzioni. In questo le variabile definite in una funzione esterna sono visibili anche in quella interna ma il viceversa non è vero."
   ]
  },
  {
   "cell_type": "code",
   "execution_count": 58,
   "id": "3a6537a7",
   "metadata": {},
   "outputs": [],
   "source": [
    "def esterna():\n",
    "    # variabile locale alla funzione\n",
    "    # esterna visibile nella funzione interna\n",
    "    valore_esterno = 5\n",
    "    \n",
    "    def interna():\n",
    "        # variabile locale alla funzione interna\n",
    "        # non visible nella funzione esterna \n",
    "        valore_interno = 4\n",
    "        print(valore_esterno)\n",
    "        print(valore_interno)"
   ]
  },
  {
   "cell_type": "code",
   "execution_count": 68,
   "id": "bce5c284",
   "metadata": {},
   "outputs": [
    {
     "ename": "NameError",
     "evalue": "name 'valore_esterno' is not defined",
     "output_type": "error",
     "traceback": [
      "\u001b[0;31m---------------------------------------------------------------------------\u001b[0m",
      "\u001b[0;31mNameError\u001b[0m                                 Traceback (most recent call last)",
      "Input \u001b[0;32mIn [68]\u001b[0m, in \u001b[0;36m<cell line: 1>\u001b[0;34m()\u001b[0m\n\u001b[0;32m----> 1\u001b[0m \u001b[43mvalore_esterno\u001b[49m\n",
      "\u001b[0;31mNameError\u001b[0m: name 'valore_esterno' is not defined"
     ]
    }
   ],
   "source": [
    "# variabile locale alla funzione esterna non visibile fuori\n",
    "valore_esterno"
   ]
  },
  {
   "cell_type": "code",
   "execution_count": 59,
   "id": "7372a3a5",
   "metadata": {},
   "outputs": [
    {
     "ename": "NameError",
     "evalue": "name 'interna' is not defined",
     "output_type": "error",
     "traceback": [
      "\u001b[0;31m---------------------------------------------------------------------------\u001b[0m",
      "\u001b[0;31mNameError\u001b[0m                                 Traceback (most recent call last)",
      "Cell \u001b[0;32mIn[59], line 3\u001b[0m\n\u001b[1;32m      1\u001b[0m \u001b[38;5;66;03m# La stess funzione interna non è visibile fuori dalla\u001b[39;00m\n\u001b[1;32m      2\u001b[0m \u001b[38;5;66;03m# funzione interna\u001b[39;00m\n\u001b[0;32m----> 3\u001b[0m interna()\n",
      "\u001b[0;31mNameError\u001b[0m: name 'interna' is not defined"
     ]
    }
   ],
   "source": [
    "# La stess funzione interna non è visibile fuori dalla\n",
    "# funzione interna\n",
    "interna()"
   ]
  },
  {
   "cell_type": "code",
   "execution_count": 60,
   "id": "ec66fe85",
   "metadata": {},
   "outputs": [],
   "source": [
    "# Variabile globale\n",
    "valore_globale = 2\n",
    "\n",
    "def esterna():\n",
    "    # Variabile enclosing\n",
    "    valore_esterno = 5\n",
    "    \n",
    "    def interna():\n",
    "        # Variabile locale\n",
    "        valore_interno = 4\n",
    "        print(valore_globale)\n",
    "        print(valore_esterno)\n",
    "        print(valore_interno)\n",
    "    \n",
    "    interna()\n",
    "    print(valore_globale)\n",
    "    print(valore_esterno)\n",
    "    print(valore_interno)"
   ]
  },
  {
   "cell_type": "code",
   "execution_count": 61,
   "id": "aa36896c",
   "metadata": {},
   "outputs": [
    {
     "name": "stdout",
     "output_type": "stream",
     "text": [
      "2\n",
      "5\n",
      "4\n",
      "2\n",
      "5\n"
     ]
    },
    {
     "ename": "NameError",
     "evalue": "name 'valore_interno' is not defined",
     "output_type": "error",
     "traceback": [
      "\u001b[0;31m---------------------------------------------------------------------------\u001b[0m",
      "\u001b[0;31mNameError\u001b[0m                                 Traceback (most recent call last)",
      "Cell \u001b[0;32mIn[61], line 1\u001b[0m\n\u001b[0;32m----> 1\u001b[0m esterna()\n",
      "Cell \u001b[0;32mIn[60], line 18\u001b[0m, in \u001b[0;36mesterna\u001b[0;34m()\u001b[0m\n\u001b[1;32m     16\u001b[0m \u001b[38;5;28mprint\u001b[39m(valore_globale)\n\u001b[1;32m     17\u001b[0m \u001b[38;5;28mprint\u001b[39m(valore_esterno)\n\u001b[0;32m---> 18\u001b[0m \u001b[38;5;28mprint\u001b[39m(valore_interno)\n",
      "\u001b[0;31mNameError\u001b[0m: name 'valore_interno' is not defined"
     ]
    }
   ],
   "source": [
    "esterna()"
   ]
  },
  {
   "cell_type": "markdown",
   "id": "66948481-603e-4b71-a30e-a1979cac81e1",
   "metadata": {},
   "source": [
    "All'inizializzazione della sessione interattiva viene creato anche uno scope built-in che contine parole chiave e funzioni proprie del linguaggio."
   ]
  },
  {
   "cell_type": "code",
   "execution_count": 62,
   "id": "13dbfab1-2379-4205-b818-6467acd3670a",
   "metadata": {},
   "outputs": [
    {
     "data": {
      "text/plain": [
       "[]"
      ]
     },
     "execution_count": 62,
     "metadata": {},
     "output_type": "execute_result"
    }
   ],
   "source": [
    "# Funzioni built-in\n",
    "list()"
   ]
  },
  {
   "cell_type": "markdown",
   "id": "4fc85f54-9418-4e67-b435-f1f28b226672",
   "metadata": {},
   "source": [
    "Quando si passa una variabile come argomento ad una funzione, la funzione crea la propria copia locale della variabile. Se la variabile viene modificata all'interno della funzione queste modifiche **non** non si riflettono sulla variabile originale:"
   ]
  },
  {
   "cell_type": "code",
   "execution_count": 71,
   "id": "0b24bcd7-071e-4f66-bda3-9afe612146bc",
   "metadata": {},
   "outputs": [],
   "source": [
    "intero = 5\n",
    "\n",
    "def crea_nuovo_intero(intero):\n",
    "    # La variabile intero è una copia locale\n",
    "    # della variabile intero\n",
    "    intero += 1\n",
    "    return intero\n",
    "\n",
    "nuovo_intero = crea_nuovo_intero(intero)"
   ]
  },
  {
   "cell_type": "code",
   "execution_count": 70,
   "id": "5085b1c1-851f-4a20-a7b3-708b35a50d10",
   "metadata": {},
   "outputs": [
    {
     "name": "stdout",
     "output_type": "stream",
     "text": [
      "5 105674382757288\n",
      "6 105674382757320\n"
     ]
    }
   ],
   "source": [
    "print(intero, id(intero))\n",
    "print(nuovo_intero, id(nuovo_intero))"
   ]
  },
  {
   "cell_type": "markdown",
   "id": "690e537d-f50d-4df0-a0fd-8daf9439bce0",
   "metadata": {},
   "source": [
    "Questo fatto non è più vero quando si passano come argomenti certi tipi di oggetti come ad esempio le liste. Quando una lista è passata come argomento la funzione ne crea una copia locale, ma poiché le liste memorizzano un riferimento all'oggetto invece che l'oggetto stesso, modificando la copia locale si modifica l'oggetto a cui fa riferimento anche la variabile originale."
   ]
  },
  {
   "cell_type": "code",
   "execution_count": 74,
   "id": "e7fb6f60-0cf7-4b74-b14d-58d67fc8aed4",
   "metadata": {},
   "outputs": [],
   "source": [
    "lista = [1, 2, 3]\n",
    "\n",
    "def crea_nuova_lista(lista):\n",
    "    # lista è una copia locale della variabile globale lista\n",
    "    # ma poiché le liste vengono memorizzate per riferimento\n",
    "    # modificando la copia locale si modifica lo stesso oggetto\n",
    "    # a cui fa riferimento la variabile globale di partenza\n",
    "    lista.append(4)\n",
    "    return lista\n",
    "\n",
    "nuova_lista = crea_nuova_lista(lista)"
   ]
  },
  {
   "cell_type": "code",
   "execution_count": 76,
   "id": "fdcb2dbb-f261-4e94-aac2-97cb53bef608",
   "metadata": {},
   "outputs": [
    {
     "name": "stdout",
     "output_type": "stream",
     "text": [
      "[1, 2, 3, 4] 128775523542592\n",
      "[1, 2, 3, 4] 128775523542592\n",
      "\n",
      "lista e nuova_lista fanno riferimento allo stesso oggetto.\n"
     ]
    }
   ],
   "source": [
    "print(lista, id(lista))\n",
    "print(nuova_lista, id(nuova_lista))\n",
    "\n",
    "if id(lista) == id(nuova_lista):\n",
    "    print(\"\\nlista e nuova_lista fanno riferimento allo stesso oggetto.\")\n",
    "else:\n",
    "    print(\"\\nlista e nuova_lista non fanno riferimento allo stesso oggetto.\")"
   ]
  },
  {
   "cell_type": "markdown",
   "id": "2549dcc8",
   "metadata": {},
   "source": [
    "## Ricorsione\n",
    "\n",
    "Il processo per il quale una funzione chiama se stessa direttamente o indirettamente è chiamato **ricorsione** e la corrispondente funzione è chiamata *funzione ricorsiva*."
   ]
  },
  {
   "cell_type": "code",
   "execution_count": 77,
   "id": "a73f1310",
   "metadata": {},
   "outputs": [],
   "source": [
    "# Esempio di funzione ricorsiva\n",
    "def countdown(n):\n",
    "    if n > 0:\n",
    "        print(n)\n",
    "        countdown(n-1)\n",
    "    else:\n",
    "        print(n)"
   ]
  },
  {
   "cell_type": "code",
   "execution_count": 78,
   "id": "373c4379",
   "metadata": {},
   "outputs": [
    {
     "name": "stdout",
     "output_type": "stream",
     "text": [
      "5\n",
      "4\n",
      "3\n",
      "2\n",
      "1\n",
      "0\n"
     ]
    }
   ],
   "source": [
    "countdown(5)"
   ]
  },
  {
   "cell_type": "markdown",
   "id": "00825206-56d9-4c96-804f-9bb35d23b7e4",
   "metadata": {},
   "source": [
    "In alcuni casi alcune quantità ammettono una definizione ricorsiva naturale come ad esempio il fattoriale:\n",
    "$$\n",
    "\\begin{aligned}\n",
    "0! &= 1\\\\\n",
    "n! &= n \\cdot (n-1)!\n",
    "\\end{aligned}\n",
    "$$"
   ]
  },
  {
   "cell_type": "code",
   "execution_count": 79,
   "id": "d3b450f9",
   "metadata": {
    "scrolled": true
   },
   "outputs": [],
   "source": [
    "def fattoriale(n):\n",
    "    if n > 0:\n",
    "        return n * fattoriale(n-1)\n",
    "    else:\n",
    "        return 1"
   ]
  },
  {
   "cell_type": "code",
   "execution_count": 81,
   "id": "ed9d498b-1bc5-4885-88ab-f8bd4edb4ef9",
   "metadata": {},
   "outputs": [
    {
     "data": {
      "text/plain": [
       "True"
      ]
     },
     "execution_count": 81,
     "metadata": {},
     "output_type": "execute_result"
    }
   ],
   "source": [
    "fattoriale(3) == 3 * fattoriale(2)"
   ]
  },
  {
   "cell_type": "code",
   "execution_count": 82,
   "id": "147f155b-25f8-47bb-a4d0-94cd045924c2",
   "metadata": {},
   "outputs": [
    {
     "data": {
      "text/plain": [
       "True"
      ]
     },
     "execution_count": 82,
     "metadata": {},
     "output_type": "execute_result"
    }
   ],
   "source": [
    "fattoriale(2) == 2 * fattoriale(1)"
   ]
  },
  {
   "cell_type": "code",
   "execution_count": 83,
   "id": "f4ecf109-477b-497e-b879-11a43c04b711",
   "metadata": {},
   "outputs": [
    {
     "data": {
      "text/plain": [
       "True"
      ]
     },
     "execution_count": 83,
     "metadata": {},
     "output_type": "execute_result"
    }
   ],
   "source": [
    "fattoriale(1) == 1 * fattoriale(0)"
   ]
  },
  {
   "cell_type": "code",
   "execution_count": 84,
   "id": "afab7777-1812-4b3c-bd60-8f279f0ab17a",
   "metadata": {},
   "outputs": [
    {
     "data": {
      "text/plain": [
       "True"
      ]
     },
     "execution_count": 84,
     "metadata": {},
     "output_type": "execute_result"
    }
   ],
   "source": [
    "fattoriale(0) == 1 "
   ]
  },
  {
   "cell_type": "code",
   "execution_count": 85,
   "id": "36339a2a",
   "metadata": {},
   "outputs": [
    {
     "data": {
      "text/plain": [
       "120"
      ]
     },
     "execution_count": 85,
     "metadata": {},
     "output_type": "execute_result"
    }
   ],
   "source": [
    "fattoriale(5)"
   ]
  },
  {
   "cell_type": "markdown",
   "id": "7f5faced-c184-4629-b6b9-047686792f90",
   "metadata": {},
   "source": [
    "Un altro classico esempio di ricorsione è la successione di Fibonacci"
   ]
  },
  {
   "cell_type": "markdown",
   "id": "3d4ed8e6",
   "metadata": {},
   "source": [
    "$$\n",
    "\\begin{aligned}\n",
    "x_n &= x_{n-2} + x_{n-1}\\\\\n",
    "x_0 &= 0\\\\\n",
    "x_1 &= 1\\\\\n",
    "\\end{aligned}\n",
    "$$"
   ]
  },
  {
   "cell_type": "code",
   "execution_count": 86,
   "id": "edf2d6ec",
   "metadata": {},
   "outputs": [],
   "source": [
    "def fibonacci(n):\n",
    "    if n >= 2:\n",
    "        return fibonacci(n - 1) + fibonacci(n - 2)\n",
    "    else:\n",
    "        return(n)"
   ]
  },
  {
   "cell_type": "code",
   "execution_count": 87,
   "id": "0ed08946-b906-4d9a-9df3-75346e1b4544",
   "metadata": {},
   "outputs": [
    {
     "data": {
      "text/plain": [
       "True"
      ]
     },
     "execution_count": 87,
     "metadata": {},
     "output_type": "execute_result"
    }
   ],
   "source": [
    "fibonacci(4) == fibonacci(3) + fibonacci(2)"
   ]
  },
  {
   "cell_type": "code",
   "execution_count": 88,
   "id": "910d23b7-cecd-4c81-936f-0396c4041e19",
   "metadata": {},
   "outputs": [
    {
     "data": {
      "text/plain": [
       "True"
      ]
     },
     "execution_count": 88,
     "metadata": {},
     "output_type": "execute_result"
    }
   ],
   "source": [
    "fibonacci(3) == fibonacci(2) + fibonacci(1)"
   ]
  },
  {
   "cell_type": "code",
   "execution_count": 89,
   "id": "1cd468fd",
   "metadata": {},
   "outputs": [
    {
     "data": {
      "text/plain": [
       "8"
      ]
     },
     "execution_count": 89,
     "metadata": {},
     "output_type": "execute_result"
    }
   ],
   "source": [
    "fibonacci(6)"
   ]
  },
  {
   "cell_type": "code",
   "execution_count": 90,
   "id": "e9923759-19b8-4995-a0cd-2a992986ae93",
   "metadata": {},
   "outputs": [
    {
     "name": "stdout",
     "output_type": "stream",
     "text": [
      "0 1 1 2 3 5 8 13 21 34 "
     ]
    }
   ],
   "source": [
    "for n in range(10):\n",
    "    print(fibonacci(n), end = \" \")"
   ]
  },
  {
   "cell_type": "markdown",
   "id": "d80238e1-0030-40d1-b449-e14f34446eac",
   "metadata": {},
   "source": [
    "Le funzioni ricorsive spesso offrono soluzioni molto elegnati e compatte ma diventano presto difficili da comprendere all'aumento della complessità pertanto speso è preferibile usare le loro versioni iterative che non coinvolgono ricorsioni."
   ]
  },
  {
   "cell_type": "code",
   "execution_count": 92,
   "id": "c37ca183",
   "metadata": {},
   "outputs": [],
   "source": [
    "def countdown_iter(n):\n",
    "    while n > 0:\n",
    "        print(n)\n",
    "        n = n - 1\n",
    "    else:\n",
    "        print(n)"
   ]
  },
  {
   "cell_type": "code",
   "execution_count": 93,
   "id": "d0500d82-74e9-4fc4-bf2b-a50e194d7951",
   "metadata": {},
   "outputs": [
    {
     "name": "stdout",
     "output_type": "stream",
     "text": [
      "5\n",
      "4\n",
      "3\n",
      "2\n",
      "1\n",
      "0\n"
     ]
    }
   ],
   "source": [
    "countdown_iter(5)"
   ]
  },
  {
   "cell_type": "code",
   "execution_count": 134,
   "id": "87eebe2f-711a-411e-9687-054b27a3cfd2",
   "metadata": {},
   "outputs": [],
   "source": [
    "def fibonacci_iter(n):\n",
    "    a = 0\n",
    "    b = 1\n",
    "    for i in range(n + 1):\n",
    "        t = b \n",
    "        b += a\n",
    "        a = t\n",
    "    return b - a"
   ]
  },
  {
   "cell_type": "code",
   "execution_count": 135,
   "id": "2466b344-2293-4d8c-b54d-50e9491e38e5",
   "metadata": {},
   "outputs": [
    {
     "name": "stdout",
     "output_type": "stream",
     "text": [
      "0 1 1 2 3 5 8 13 21 34 "
     ]
    }
   ],
   "source": [
    "for n in range(10):\n",
    "    print(fibonacci_iter(n), end = \" \")"
   ]
  },
  {
   "cell_type": "markdown",
   "id": "bae4a416-ceb8-4ac9-8d8f-42e5c2457d4c",
   "metadata": {},
   "source": [
    "# Esercizi"
   ]
  },
  {
   "cell_type": "markdown",
   "id": "b1857c4f-cd09-4d54-8908-3ee93ff883ef",
   "metadata": {},
   "source": [
    "Scrivere una funzione che ritorni i una lista contenente solo i numeri pari a partire da una lista di numeri."
   ]
  },
  {
   "cell_type": "code",
   "execution_count": 137,
   "id": "552e08bd",
   "metadata": {},
   "outputs": [
    {
     "data": {
      "text/plain": [
       "[2, 4, 6]"
      ]
     },
     "execution_count": 137,
     "metadata": {},
     "output_type": "execute_result"
    }
   ],
   "source": []
  },
  {
   "cell_type": "markdown",
   "id": "16560107",
   "metadata": {},
   "source": [
    "Scrivere una funzione che conti il numero di occorrenze di ogni vocale in una data stringa."
   ]
  },
  {
   "cell_type": "code",
   "execution_count": 156,
   "id": "9a4d87df",
   "metadata": {},
   "outputs": [],
   "source": []
  },
  {
   "cell_type": "markdown",
   "id": "d6ac551c-3378-4fe2-9ca0-b86e314f37f1",
   "metadata": {},
   "source": [
    "Scrivere una funzione che calcoli la similarità di Jaccard di due insiemi $A$ e $B$ definita come:\n",
    "$$\n",
    "J(A, B) = \\frac{|A \\cap B|}{|A \\cup B|}\n",
    "$$\n",
    "$|\\cdot|$ indica la cardinalità dell'insieme (numero di elementi)."
   ]
  },
  {
   "cell_type": "code",
   "execution_count": null,
   "id": "2642e478-d703-45aa-9681-e4e51b792c29",
   "metadata": {},
   "outputs": [],
   "source": []
  },
  {
   "cell_type": "markdown",
   "id": "66f7a9b4-3ff4-4f08-88f9-4e690ce52913",
   "metadata": {},
   "source": [
    "Srivere una funzione che dato un certo numero di stringhe restituisca la lista delle strighe a cui vengono applicati i seguenti step di preprocessing:\n",
    "- conversione in minuscolo\n",
    "- rimozione dei segni di punteggiatura\n",
    "- conversione delle lettere accentate converite in lettere non accentate\n",
    "- rimozione di eventuali spazi bianchi all'inizio o alla fine della stringa (_hint_ cercare la funzione `strip`)"
   ]
  },
  {
   "cell_type": "code",
   "execution_count": null,
   "id": "7603cf8a-ff0d-4305-94b0-affe427fbd00",
   "metadata": {},
   "outputs": [],
   "source": []
  },
  {
   "cell_type": "markdown",
   "id": "41063195-e705-440d-a408-eb3030fd47e1",
   "metadata": {},
   "source": [
    "Scrivere una funzione che data una lista ne ritorna una che contiene gli stessi elementi ma in ordine inverso."
   ]
  },
  {
   "cell_type": "code",
   "execution_count": 168,
   "id": "10b15561-8e0a-4f15-8d0b-bf5edd59435b",
   "metadata": {},
   "outputs": [],
   "source": []
  },
  {
   "cell_type": "markdown",
   "id": "e08a036b-946f-44df-a198-ac8f78ea92dc",
   "metadata": {},
   "source": [
    "Scrivere una funzione che:\n",
    "- Prende in ingresso un dizionario contentenente dati nella forma:\n",
    "  ```\n",
    "  film : (cast, anno, voto)\n",
    "  ```\n",
    "  e un numero intero `soglia`.\n",
    "- Filtra i film girati a partire dopo l'anno 2008.\n",
    "- Per questi, calcola l'insieme di attori che compaiono in almeno un film.\n",
    "- Per ognuno di essi calcola il numero di film in cui hanno recitato con voto maggiore o uguale a 7.\n",
    "- Filtra solo gli attori che ne hanno almeno `soglia`.\n",
    "- Restituisce un dizionario del tipo:\n",
    "  ```\n",
    "  attore : numero\n",
    "  ```"
   ]
  },
  {
   "cell_type": "code",
   "execution_count": 83,
   "id": "0f8d6f83-5be9-4d8f-b5d2-df644167d070",
   "metadata": {},
   "outputs": [],
   "source": [
    "# Carica il dizionario per testare la funzione\n",
    "import pickle\n",
    "import numpy as np\n",
    "with open(\"movies.dat\", \"rb\") as database:\n",
    "    data = pickle.load(database)"
   ]
  },
  {
   "cell_type": "code",
   "execution_count": 101,
   "id": "a0440ac1-dd41-4a0f-aa7d-8bf272beb04c",
   "metadata": {},
   "outputs": [],
   "source": []
  },
  {
   "cell_type": "code",
   "execution_count": 104,
   "id": "46afeb85-0d52-490a-ba31-afebfc158a24",
   "metadata": {},
   "outputs": [
    {
     "data": {
      "text/plain": [
       "{'Bill Murray': 5,\n",
       " 'Chris Evans': 5,\n",
       " 'Alec Baldwin': 5,\n",
       " 'Steve Carell': 6,\n",
       " 'Michael Gambon': 5,\n",
       " 'Zoe Saldana': 5,\n",
       " 'Anne Hathaway': 5,\n",
       " 'Jeremy Renner': 5,\n",
       " 'Kristen Wiig': 6,\n",
       " 'Hugh Jackman': 5,\n",
       " 'Paul Giamatti': 5,\n",
       " 'Michael Peña': 5,\n",
       " 'Benedict Cumberbatch': 5,\n",
       " 'Domhnall Gleeson': 6,\n",
       " 'Jim Broadbent': 7,\n",
       " 'Matthew McConaughey': 5,\n",
       " 'Mark Ruffalo': 6,\n",
       " 'Jake Gyllenhaal': 5,\n",
       " 'Scarlett Johansson': 5,\n",
       " 'Matt Damon': 5,\n",
       " 'Robert Downey Jr.': 6,\n",
       " 'Jonah Hill': 5,\n",
       " 'Brad Pitt': 5,\n",
       " 'Chloë Grace Moretz': 5,\n",
       " 'Tom Hardy': 5,\n",
       " 'Rachel McAdams': 7,\n",
       " 'Michael Fassbender': 5,\n",
       " 'Leonardo DiCaprio': 6}"
      ]
     },
     "execution_count": 104,
     "metadata": {},
     "output_type": "execute_result"
    }
   ],
   "source": [
    "# Il risultato chiamando funzione(data, 5) deve essere\n",
    "#\n",
    "# {'Bill Murray': 5,\n",
    "#  'Chris Evans': 5,\n",
    "#  'Alec Baldwin': 5,\n",
    "#  'Steve Carell': 6,\n",
    "#  'Michael Gambon': 5,\n",
    "#  'Zoe Saldana': 5,\n",
    "#  'Anne Hathaway': 5,\n",
    "#  'Jeremy Renner': 5,\n",
    "#  'Kristen Wiig': 6,\n",
    "#  'Hugh Jackman': 5,\n",
    "#  'Paul Giamatti': 5,\n",
    "#  'Michael Peña': 5,\n",
    "#  'Benedict Cumberbatch': 5,\n",
    "#  'Domhnall Gleeson': 6,\n",
    "#  'Jim Broadbent': 7,\n",
    "#  'Matthew McConaughey': 5,\n",
    "#  'Mark Ruffalo': 6,\n",
    "#  'Jake Gyllenhaal': 5,\n",
    "#  'Scarlett Johansson': 5,\n",
    "#  'Matt Damon': 5,\n",
    "#  'Robert Downey Jr.': 6,\n",
    "#  'Jonah Hill': 5,\n",
    "#  'Brad Pitt': 5,\n",
    "#  'Chloë Grace Moretz': 5,\n",
    "#  'Tom Hardy': 5,\n",
    "#  'Rachel McAdams': 7,\n",
    "#  'Michael Fassbender': 5,\n",
    "#  'Leonardo DiCaprio': 6}"
   ]
  },
  {
   "cell_type": "code",
   "execution_count": null,
   "id": "346cfd53-380e-4ae7-bcfe-7eea1ee80858",
   "metadata": {},
   "outputs": [],
   "source": []
  }
 ],
 "metadata": {
  "kernelspec": {
   "display_name": "Python 3 (ipykernel)",
   "language": "python",
   "name": "python3"
  },
  "language_info": {
   "codemirror_mode": {
    "name": "ipython",
    "version": 3
   },
   "file_extension": ".py",
   "mimetype": "text/x-python",
   "name": "python",
   "nbconvert_exporter": "python",
   "pygments_lexer": "ipython3",
   "version": "3.12.2"
  }
 },
 "nbformat": 4,
 "nbformat_minor": 5
}
