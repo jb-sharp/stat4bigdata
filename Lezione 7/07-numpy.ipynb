{
 "cells": [
  {
   "cell_type": "markdown",
   "id": "d6906378-3205-4a25-a438-ac5472b8dddf",
   "metadata": {},
   "source": [
    "# [NumPy](https://numpy.org)"
   ]
  },
  {
   "cell_type": "markdown",
   "id": "4b86d249-03fc-40a9-913c-28fa92ab60aa",
   "metadata": {},
   "source": [
    "NumPy è una libreria fondamentale per eseguire calcoli vettoriali e matriciali in Python. Fornisce diversi oggetti, tra cui vettori multidimensionali, e numerose operazioni di algebra lineare eseguibili su tali vettori.  \n",
    "\n",
    "NumPy non è un modulo predefinito di Python pertanto va installato separatamente.\n",
    "\n",
    "Il package manager per la distribuzione Anaconda python è il comando `conda`. \n",
    "Con il comando `conda install pacchetto` si può installare un nuovo pacchetto nel proprio ambiente base.\n",
    "\n",
    "Il comando `conda` non va eseguito nel notebook poiché non è un comando di python ma va eseguito in un terminale. In Jupyter Notebook, è possibile utilizzare il punto esclamativo `!` per eseguire comandi come se stessimo usando il terminale."
   ]
  },
  {
   "cell_type": "code",
   "execution_count": 1,
   "id": "cc6be099",
   "metadata": {},
   "outputs": [
    {
     "name": "stdout",
     "output_type": "stream",
     "text": [
      "Channels:\n",
      " - defaults\n",
      " - conda-forge\n",
      "Platform: linux-64\n",
      "Collecting package metadata (repodata.json): done\n",
      "Solving environment: done\n",
      "\n",
      "# All requested packages already installed.\n",
      "\n"
     ]
    }
   ],
   "source": [
    "# L'opzione -y serve per accettare eventuali prompt del programma\n",
    "# di installazione\n",
    "import sys\n",
    "!conda install numpy -y --prefix {sys.prefix}"
   ]
  },
  {
   "cell_type": "markdown",
   "id": "75f6eac3",
   "metadata": {},
   "source": [
    "Come abbiamo già visto il comando `import` ci permette di importare un modulo all'interno del nostro programma. Inoltre utilizzando il comando `as` possiamo  riferirci al modulo che si sta importando con il nome che definiamo."
   ]
  },
  {
   "cell_type": "code",
   "execution_count": 2,
   "id": "9b3f1d9e",
   "metadata": {},
   "outputs": [],
   "source": [
    "import numpy"
   ]
  },
  {
   "cell_type": "code",
   "execution_count": 3,
   "id": "6be2345f",
   "metadata": {},
   "outputs": [
    {
     "data": {
      "text/plain": [
       "array([0, 1])"
      ]
     },
     "execution_count": 3,
     "metadata": {},
     "output_type": "execute_result"
    }
   ],
   "source": [
    "numpy.array([0, 1])"
   ]
  },
  {
   "cell_type": "code",
   "execution_count": 5,
   "id": "a6e9a982",
   "metadata": {},
   "outputs": [],
   "source": [
    "import numpy as np"
   ]
  },
  {
   "cell_type": "code",
   "execution_count": 6,
   "id": "c72b1e51",
   "metadata": {},
   "outputs": [
    {
     "data": {
      "text/plain": [
       "array([0, 1])"
      ]
     },
     "execution_count": 6,
     "metadata": {},
     "output_type": "execute_result"
    }
   ],
   "source": [
    "np.array([0, 1])"
   ]
  },
  {
   "cell_type": "markdown",
   "id": "3d5a976e",
   "metadata": {},
   "source": [
    "Un vettore $n$-dimensionale (`ndarray`) è usato per contenere $n$ elementi ordinati tutti dello stesso tipo."
   ]
  },
  {
   "cell_type": "code",
   "execution_count": 7,
   "id": "9291b567",
   "metadata": {},
   "outputs": [
    {
     "data": {
      "text/plain": [
       "array([1, 2, 3])"
      ]
     },
     "execution_count": 7,
     "metadata": {},
     "output_type": "execute_result"
    }
   ],
   "source": [
    "vettore = np.array([1, 2, 3])\n",
    "vettore"
   ]
  },
  {
   "cell_type": "code",
   "execution_count": 8,
   "id": "190192c3",
   "metadata": {},
   "outputs": [
    {
     "data": {
      "text/plain": [
       "(numpy.ndarray, True)"
      ]
     },
     "execution_count": 8,
     "metadata": {},
     "output_type": "execute_result"
    }
   ],
   "source": [
    "type(vettore), isinstance(vettore, np.ndarray)"
   ]
  },
  {
   "cell_type": "markdown",
   "id": "bb177f6a",
   "metadata": {},
   "source": [
    "La dimensione di un vettore è definito dalla suo attributo `shape`, il quale è una tupla di $n$ interi non-negativi che specifica il numero di elementi in ogni dimensione."
   ]
  },
  {
   "cell_type": "code",
   "execution_count": 9,
   "id": "ae951ba1",
   "metadata": {},
   "outputs": [
    {
     "data": {
      "text/plain": [
       "(3,)"
      ]
     },
     "execution_count": 9,
     "metadata": {},
     "output_type": "execute_result"
    }
   ],
   "source": [
    "# a è un vettore 1-dimensionale con 3 elementi\n",
    "vettore.shape"
   ]
  },
  {
   "cell_type": "code",
   "execution_count": 10,
   "id": "d9a40626",
   "metadata": {},
   "outputs": [
    {
     "data": {
      "text/plain": [
       "array([[1, 2, 3],\n",
       "       [4, 5, 6]])"
      ]
     },
     "execution_count": 10,
     "metadata": {},
     "output_type": "execute_result"
    }
   ],
   "source": [
    "# b è un vettore 2-dimensionale (matrice) con 2 righe e 3 colonne\n",
    "matrice = np.array([(1, 2, 3), (4, 5, 6)])\n",
    "matrice"
   ]
  },
  {
   "cell_type": "code",
   "execution_count": 11,
   "id": "3a5185c1",
   "metadata": {},
   "outputs": [
    {
     "data": {
      "text/plain": [
       "numpy.ndarray"
      ]
     },
     "execution_count": 11,
     "metadata": {},
     "output_type": "execute_result"
    }
   ],
   "source": [
    "type(matrice)"
   ]
  },
  {
   "cell_type": "code",
   "execution_count": 12,
   "id": "2c4a6d1c",
   "metadata": {},
   "outputs": [
    {
     "data": {
      "text/plain": [
       "(2, 3)"
      ]
     },
     "execution_count": 12,
     "metadata": {},
     "output_type": "execute_result"
    }
   ],
   "source": [
    "matrice.shape"
   ]
  },
  {
   "cell_type": "markdown",
   "id": "a1b7b65e-68c1-4586-9140-d68b9d53c345",
   "metadata": {},
   "source": [
    "L'attributo `dtype` contiene il tipo degli oggetti contenuti nel vettore."
   ]
  },
  {
   "cell_type": "code",
   "execution_count": 13,
   "id": "20515747",
   "metadata": {},
   "outputs": [
    {
     "data": {
      "text/plain": [
       "dtype('int64')"
      ]
     },
     "execution_count": 13,
     "metadata": {},
     "output_type": "execute_result"
    }
   ],
   "source": [
    "# Vettore contiene interi in base 64\n",
    "vettore.dtype"
   ]
  },
  {
   "cell_type": "code",
   "execution_count": 14,
   "id": "1450a3e6",
   "metadata": {},
   "outputs": [
    {
     "data": {
      "text/plain": [
       "array([1.2, 2.5, 7.8])"
      ]
     },
     "execution_count": 14,
     "metadata": {},
     "output_type": "execute_result"
    }
   ],
   "source": [
    "vettore_float = np.array([1.2, 2.5, 7.8])\n",
    "vettore_float"
   ]
  },
  {
   "cell_type": "code",
   "execution_count": 15,
   "id": "6557f745",
   "metadata": {},
   "outputs": [
    {
     "data": {
      "text/plain": [
       "numpy.ndarray"
      ]
     },
     "execution_count": 15,
     "metadata": {},
     "output_type": "execute_result"
    }
   ],
   "source": [
    "# È sempre un'istanze di ndarray\n",
    "type(vettore_float)"
   ]
  },
  {
   "cell_type": "code",
   "execution_count": 16,
   "id": "36883d22",
   "metadata": {},
   "outputs": [
    {
     "data": {
      "text/plain": [
       "dtype('float64')"
      ]
     },
     "execution_count": 16,
     "metadata": {},
     "output_type": "execute_result"
    }
   ],
   "source": [
    "# Ma il suo dtype è float64 \n",
    "vettore_float.dtype"
   ]
  },
  {
   "cell_type": "markdown",
   "id": "0945bc15-7c5e-48ae-a2f6-d0e1bcd17fce",
   "metadata": {},
   "source": [
    "Il `dtype` può essere specificato quando si inizializza un oggetto di tipo `ndarray`"
   ]
  },
  {
   "cell_type": "code",
   "execution_count": 17,
   "id": "425e5ce2",
   "metadata": {},
   "outputs": [],
   "source": [
    "# Senza specificare il dtype sarebbe int \n",
    "# ma forziamo la conversione a float\n",
    "vettore_float = np.array([0, 1, 2], dtype = float)"
   ]
  },
  {
   "cell_type": "code",
   "execution_count": 18,
   "id": "350a6086",
   "metadata": {},
   "outputs": [
    {
     "data": {
      "text/plain": [
       "array([0., 1., 2.])"
      ]
     },
     "execution_count": 18,
     "metadata": {},
     "output_type": "execute_result"
    }
   ],
   "source": [
    "vettore_float"
   ]
  },
  {
   "cell_type": "code",
   "execution_count": 19,
   "id": "ec042e53",
   "metadata": {},
   "outputs": [
    {
     "data": {
      "text/plain": [
       "dtype('float64')"
      ]
     },
     "execution_count": 19,
     "metadata": {},
     "output_type": "execute_result"
    }
   ],
   "source": [
    "vettore_float.dtype"
   ]
  },
  {
   "cell_type": "markdown",
   "id": "38738446-17fb-4d65-b6ee-3de57f3d8b75",
   "metadata": {},
   "source": [
    "NumPy mette a disposizone parecchie funzioni per creare vettori speciali."
   ]
  },
  {
   "cell_type": "markdown",
   "id": "349b88d0",
   "metadata": {},
   "source": [
    "`numpy.zeros(shape, dtype)` restituisce un nuovo vettore avente una certa shape e dtype, con tutti gli elementi uguali a zero."
   ]
  },
  {
   "cell_type": "code",
   "execution_count": 21,
   "id": "49b10540-980b-4d6e-82e8-506cd562c14c",
   "metadata": {},
   "outputs": [
    {
     "ename": "TypeError",
     "evalue": "Cannot interpret '2' as a data type",
     "output_type": "error",
     "traceback": [
      "\u001b[0;31m---------------------------------------------------------------------------\u001b[0m",
      "\u001b[0;31mTypeError\u001b[0m                                 Traceback (most recent call last)",
      "Cell \u001b[0;32mIn[21], line 1\u001b[0m\n\u001b[0;32m----> 1\u001b[0m mat \u001b[38;5;241m=\u001b[39m np\u001b[38;5;241m.\u001b[39mzeros(\u001b[38;5;241m2\u001b[39m, \u001b[38;5;241m2\u001b[39m)\n",
      "\u001b[0;31mTypeError\u001b[0m: Cannot interpret '2' as a data type"
     ]
    }
   ],
   "source": [
    "mat = np.zeros(2, 2)"
   ]
  },
  {
   "cell_type": "code",
   "execution_count": 22,
   "id": "c136a8cd",
   "metadata": {},
   "outputs": [
    {
     "name": "stdout",
     "output_type": "stream",
     "text": [
      "[[0. 0.]\n",
      " [0. 0.]] (2, 2) float64\n"
     ]
    }
   ],
   "source": [
    "# Una matrice 2x2 di zeri con dtype float \n",
    "mat = np.zeros((2, 2))\n",
    "print(mat, mat.shape, mat.dtype)"
   ]
  },
  {
   "cell_type": "markdown",
   "id": "f1c4d2c3",
   "metadata": {},
   "source": [
    "`numpy.ones(shape, dtype)` restituisce un nuovo vettore avente una certa shape e dtype, con tutti gli elementi uguali a uno."
   ]
  },
  {
   "cell_type": "code",
   "execution_count": 23,
   "id": "9d2e5f48",
   "metadata": {},
   "outputs": [
    {
     "name": "stdout",
     "output_type": "stream",
     "text": [
      "[[1 1 1 1]\n",
      " [1 1 1 1]\n",
      " [1 1 1 1]] (3, 4) int64\n"
     ]
    }
   ],
   "source": [
    "# Una matrice 3x4 di zeri con dtype int \n",
    "mat = np.ones((3, 4), dtype = int)\n",
    "print(mat, mat.shape, mat.dtype)"
   ]
  },
  {
   "cell_type": "markdown",
   "id": "25b14a29",
   "metadata": {},
   "source": [
    "`numpy.empty(shape, dtype)` restituisce un nuovo vettore avente una certa shape e dtype, senza inizializzare gli elementi."
   ]
  },
  {
   "cell_type": "code",
   "execution_count": 26,
   "id": "26f0f844",
   "metadata": {},
   "outputs": [
    {
     "data": {
      "text/plain": [
       "array([4.79405002e-310])"
      ]
     },
     "execution_count": 26,
     "metadata": {},
     "output_type": "execute_result"
    }
   ],
   "source": [
    "# Una matrice 3x4 di elementi non inizializzati con dtype float \n",
    "e = np.empty((4, 1))\n",
    "e[0]"
   ]
  },
  {
   "attachments": {},
   "cell_type": "markdown",
   "id": "2146c362-959c-48ff-b44d-7746f0cac92e",
   "metadata": {},
   "source": [
    "Comunemente anche se la classe `ndarray` permette di istanziare vettori di \n",
    "ogni dimensione tipicamente ci si riferisce alle diverse dimensioni in modo diverso:\n",
    "\n",
    "- 0D: scalare\n",
    "- 1D: vettore\n",
    "- 2D: matrice\n",
    "- 3D+: tensore"
   ]
  },
  {
   "cell_type": "code",
   "execution_count": 27,
   "id": "2826c35a",
   "metadata": {},
   "outputs": [
    {
     "data": {
      "text/plain": [
       "array([[[1., 1., 1., 1.],\n",
       "        [1., 1., 1., 1.],\n",
       "        [1., 1., 1., 1.]],\n",
       "\n",
       "       [[1., 1., 1., 1.],\n",
       "        [1., 1., 1., 1.],\n",
       "        [1., 1., 1., 1.]]])"
      ]
     },
     "execution_count": 27,
     "metadata": {},
     "output_type": "execute_result"
    }
   ],
   "source": [
    "# Un tensore 2x3x4 con tutti gli elementi a 1\n",
    "tensore = np.ones((2, 3, 4))\n",
    "tensore"
   ]
  },
  {
   "cell_type": "markdown",
   "id": "812faec8",
   "metadata": {},
   "source": [
    "Gli oggetti di tipo `ndarray` possono essere indicizzati con la sintassi standard di Python, ovvero `array[index]` come nel caso delle liste."
   ]
  },
  {
   "cell_type": "code",
   "execution_count": 28,
   "id": "5037afc6",
   "metadata": {},
   "outputs": [
    {
     "data": {
      "text/plain": [
       "array([1, 2, 3])"
      ]
     },
     "execution_count": 28,
     "metadata": {},
     "output_type": "execute_result"
    }
   ],
   "source": [
    "vettore"
   ]
  },
  {
   "cell_type": "code",
   "execution_count": 29,
   "id": "60723cef",
   "metadata": {},
   "outputs": [
    {
     "data": {
      "text/plain": [
       "1"
      ]
     },
     "execution_count": 29,
     "metadata": {},
     "output_type": "execute_result"
    }
   ],
   "source": [
    "# L'elemento di posto 0\n",
    "vettore[0]"
   ]
  },
  {
   "cell_type": "code",
   "execution_count": 30,
   "id": "b5b5c8b2",
   "metadata": {},
   "outputs": [
    {
     "data": {
      "text/plain": [
       "array([2, 3])"
      ]
     },
     "execution_count": 30,
     "metadata": {},
     "output_type": "execute_result"
    }
   ],
   "source": [
    "# Gli elementi dal secondo in poi\n",
    "vettore[1:]"
   ]
  },
  {
   "cell_type": "code",
   "execution_count": 31,
   "id": "e07c47e8",
   "metadata": {},
   "outputs": [
    {
     "data": {
      "text/plain": [
       "array([[1, 2, 3],\n",
       "       [4, 5, 6]])"
      ]
     },
     "execution_count": 31,
     "metadata": {},
     "output_type": "execute_result"
    }
   ],
   "source": [
    "matrice"
   ]
  },
  {
   "cell_type": "code",
   "execution_count": 32,
   "id": "f50a66ce",
   "metadata": {},
   "outputs": [
    {
     "data": {
      "text/plain": [
       "array([1, 2, 3])"
      ]
     },
     "execution_count": 32,
     "metadata": {},
     "output_type": "execute_result"
    }
   ],
   "source": [
    "# L'elemento di posto 0 è la prima riga\n",
    "matrice[0]"
   ]
  },
  {
   "cell_type": "code",
   "execution_count": 33,
   "id": "8adedb05",
   "metadata": {},
   "outputs": [
    {
     "data": {
      "text/plain": [
       "array([4, 5, 6])"
      ]
     },
     "execution_count": 33,
     "metadata": {},
     "output_type": "execute_result"
    }
   ],
   "source": [
    "# L'elemento di posto 1 è la seconda riga\n",
    "matrice[1]"
   ]
  },
  {
   "cell_type": "code",
   "execution_count": 34,
   "id": "ea199726",
   "metadata": {},
   "outputs": [
    {
     "data": {
      "text/plain": [
       "2"
      ]
     },
     "execution_count": 34,
     "metadata": {},
     "output_type": "execute_result"
    }
   ],
   "source": [
    "# Per estrarre un solo elemento dobbiamo usare due indici \n",
    "# uno per ogni dimensione\n",
    "matrice[0][1]"
   ]
  },
  {
   "cell_type": "code",
   "execution_count": 35,
   "id": "98e26f53",
   "metadata": {},
   "outputs": [
    {
     "data": {
      "text/plain": [
       "2"
      ]
     },
     "execution_count": 35,
     "metadata": {},
     "output_type": "execute_result"
    }
   ],
   "source": [
    "# Equivalentemente in una sola parentesi\n",
    "matrice[0, 1]"
   ]
  },
  {
   "cell_type": "code",
   "execution_count": 36,
   "id": "54dc915a-1598-42b3-81ee-a7433d50d218",
   "metadata": {},
   "outputs": [
    {
     "data": {
      "text/plain": [
       "array([2, 5])"
      ]
     },
     "execution_count": 36,
     "metadata": {},
     "output_type": "execute_result"
    }
   ],
   "source": [
    "# Estrae la seconda colonna della matrice\n",
    "matrice[:, 1]"
   ]
  },
  {
   "cell_type": "code",
   "execution_count": 39,
   "id": "dc769a4e-ceb6-4c98-881d-e6ed7d7c3420",
   "metadata": {},
   "outputs": [
    {
     "data": {
      "text/plain": [
       "array([1, 2, 3])"
      ]
     },
     "execution_count": 39,
     "metadata": {},
     "output_type": "execute_result"
    }
   ],
   "source": [
    "# Estrae la prima riga della matrice\n",
    "matrice[0, :]"
   ]
  },
  {
   "cell_type": "code",
   "execution_count": 41,
   "id": "0e664c88-5832-478b-bb1c-0765d39a468f",
   "metadata": {},
   "outputs": [
    {
     "data": {
      "text/plain": [
       "array([[2, 3],\n",
       "       [5, 6]])"
      ]
     },
     "execution_count": 41,
     "metadata": {},
     "output_type": "execute_result"
    }
   ],
   "source": [
    "# Estrae la sottomatrice data dalla seconda e terza colonna\n",
    "matrice[:, 1:3]"
   ]
  },
  {
   "cell_type": "code",
   "execution_count": 42,
   "id": "f2d27a8a-f81b-4f49-9ea0-3bd2a1395218",
   "metadata": {},
   "outputs": [
    {
     "data": {
      "text/plain": [
       "array([[2, 3],\n",
       "       [5, 6]])"
      ]
     },
     "execution_count": 42,
     "metadata": {},
     "output_type": "execute_result"
    }
   ],
   "source": [
    "# Estrae la sottomatrice data dalla seconda e terza colonna\n",
    "matrice[:, 1:]"
   ]
  },
  {
   "cell_type": "markdown",
   "id": "3fb60402",
   "metadata": {},
   "source": [
    "Con gli `ndarrray` si possono eseguire anche indicizzazioni più complesse per esempio usando le liste."
   ]
  },
  {
   "cell_type": "code",
   "execution_count": 43,
   "id": "7e01ad47",
   "metadata": {},
   "outputs": [
    {
     "data": {
      "text/plain": [
       "array([1, 2, 3])"
      ]
     },
     "execution_count": 43,
     "metadata": {},
     "output_type": "execute_result"
    }
   ],
   "source": [
    "vettore"
   ]
  },
  {
   "cell_type": "code",
   "execution_count": 44,
   "id": "b23b742c",
   "metadata": {},
   "outputs": [
    {
     "data": {
      "text/plain": [
       "array([1, 1, 2, 1])"
      ]
     },
     "execution_count": 44,
     "metadata": {},
     "output_type": "execute_result"
    }
   ],
   "source": [
    "# Nuovo vettore che contiene gli elementi estratti \n",
    "# da vettore usando gli indici della lista\n",
    "vettore[[0, 0, 1, 0]]"
   ]
  },
  {
   "cell_type": "code",
   "execution_count": 45,
   "id": "a5083b4c",
   "metadata": {},
   "outputs": [],
   "source": [
    "l = [1, 2, 3]"
   ]
  },
  {
   "cell_type": "code",
   "execution_count": 46,
   "id": "917e696e",
   "metadata": {},
   "outputs": [
    {
     "data": {
      "text/plain": [
       "[2, 3]"
      ]
     },
     "execution_count": 46,
     "metadata": {},
     "output_type": "execute_result"
    }
   ],
   "source": [
    "l[1:]"
   ]
  },
  {
   "cell_type": "code",
   "execution_count": 47,
   "id": "8a14cdeb",
   "metadata": {},
   "outputs": [
    {
     "data": {
      "text/plain": [
       "1"
      ]
     },
     "execution_count": 47,
     "metadata": {},
     "output_type": "execute_result"
    }
   ],
   "source": [
    "l[0]"
   ]
  },
  {
   "cell_type": "code",
   "execution_count": 48,
   "id": "1ef6ceaa",
   "metadata": {},
   "outputs": [
    {
     "ename": "TypeError",
     "evalue": "list indices must be integers or slices, not list",
     "output_type": "error",
     "traceback": [
      "\u001b[0;31m---------------------------------------------------------------------------\u001b[0m",
      "\u001b[0;31mTypeError\u001b[0m                                 Traceback (most recent call last)",
      "Cell \u001b[0;32mIn[48], line 2\u001b[0m\n\u001b[1;32m      1\u001b[0m \u001b[38;5;66;03m# La stessa cosa non si può fare con le liste\u001b[39;00m\n\u001b[0;32m----> 2\u001b[0m l[[\u001b[38;5;241m0\u001b[39m, \u001b[38;5;241m0\u001b[39m, \u001b[38;5;241m1\u001b[39m, \u001b[38;5;241m0\u001b[39m]]\n",
      "\u001b[0;31mTypeError\u001b[0m: list indices must be integers or slices, not list"
     ]
    }
   ],
   "source": [
    "# La stessa cosa non si può fare con le liste\n",
    "l[[0, 0, 1, 0]]"
   ]
  },
  {
   "cell_type": "code",
   "execution_count": 51,
   "id": "917cbf7d-2f17-47a3-859f-62901d690843",
   "metadata": {},
   "outputs": [
    {
     "data": {
      "text/plain": [
       "array([False,  True,  True])"
      ]
     },
     "execution_count": 51,
     "metadata": {},
     "output_type": "execute_result"
    }
   ],
   "source": [
    "vettore >= 2"
   ]
  },
  {
   "cell_type": "code",
   "execution_count": 52,
   "id": "f4188287-7ca5-4cb3-934b-a07297ed3669",
   "metadata": {},
   "outputs": [
    {
     "data": {
      "text/plain": [
       "array([2, 3])"
      ]
     },
     "execution_count": 52,
     "metadata": {},
     "output_type": "execute_result"
    }
   ],
   "source": [
    "vettore[vettore >= 2]"
   ]
  },
  {
   "cell_type": "markdown",
   "id": "02860ca0-5764-47a4-a9cf-8ad924ca466f",
   "metadata": {},
   "source": [
    "Ai vettori si possono applicare gli operaratori di confronto: se si confronta un vettore con uno scalare si ottiene un vettore contenente i confronti elemento per elemento."
   ]
  },
  {
   "cell_type": "code",
   "execution_count": 53,
   "id": "a5085846",
   "metadata": {},
   "outputs": [
    {
     "data": {
      "text/plain": [
       "array([20, 30, 40, 50])"
      ]
     },
     "execution_count": 53,
     "metadata": {},
     "output_type": "execute_result"
    }
   ],
   "source": [
    "x = np.array([20, 30, 40, 50])\n",
    "x"
   ]
  },
  {
   "cell_type": "code",
   "execution_count": 54,
   "id": "c592a476",
   "metadata": {},
   "outputs": [
    {
     "data": {
      "text/plain": [
       "array([False, False,  True,  True])"
      ]
     },
     "execution_count": 54,
     "metadata": {},
     "output_type": "execute_result"
    }
   ],
   "source": [
    "x > 35"
   ]
  },
  {
   "cell_type": "markdown",
   "id": "7a5e0dc2-d42f-4ce8-a960-fb49ebaf35a5",
   "metadata": {},
   "source": [
    "Vettori boolenni come quello appena ottenuto possono a loro volta essere usati per indicizzare un vettore della medesima dimesione."
   ]
  },
  {
   "cell_type": "code",
   "execution_count": 55,
   "id": "dd4a36dd",
   "metadata": {},
   "outputs": [
    {
     "data": {
      "text/plain": [
       "array([40, 50])"
      ]
     },
     "execution_count": 55,
     "metadata": {},
     "output_type": "execute_result"
    }
   ],
   "source": [
    "# Estraiamo il sottovettore degli elementi maggiori di 35\n",
    "x[x > 35]"
   ]
  },
  {
   "cell_type": "code",
   "execution_count": 56,
   "id": "1b9f65f9",
   "metadata": {},
   "outputs": [
    {
     "data": {
      "text/plain": [
       "array([40, 50])"
      ]
     },
     "execution_count": 56,
     "metadata": {},
     "output_type": "execute_result"
    }
   ],
   "source": [
    "# Stessa cosa con una lista di booleani\n",
    "x[[False, False,  True,  True]]"
   ]
  },
  {
   "cell_type": "markdown",
   "id": "eb5d216f",
   "metadata": {},
   "source": [
    "È possibile assegare un valore ad un sottoinsieme di un `ndarray`"
   ]
  },
  {
   "cell_type": "code",
   "execution_count": 57,
   "id": "3b3ad10f",
   "metadata": {},
   "outputs": [
    {
     "data": {
      "text/plain": [
       "array([[[1., 1., 1., 1.],\n",
       "        [1., 1., 1., 1.],\n",
       "        [1., 1., 1., 1.]],\n",
       "\n",
       "       [[1., 1., 1., 1.],\n",
       "        [1., 1., 1., 1.],\n",
       "        [1., 1., 1., 1.]]])"
      ]
     },
     "execution_count": 57,
     "metadata": {},
     "output_type": "execute_result"
    }
   ],
   "source": [
    "tensore"
   ]
  },
  {
   "cell_type": "code",
   "execution_count": 58,
   "id": "6407e92d",
   "metadata": {},
   "outputs": [
    {
     "data": {
      "text/plain": [
       "array([[[1., 1., 5., 1.],\n",
       "        [1., 1., 1., 1.],\n",
       "        [1., 1., 1., 1.]],\n",
       "\n",
       "       [[1., 1., 1., 1.],\n",
       "        [1., 1., 1., 1.],\n",
       "        [1., 1., 1., 1.]]])"
      ]
     },
     "execution_count": 58,
     "metadata": {},
     "output_type": "execute_result"
    }
   ],
   "source": [
    "tensore[0, 0, 2] = 5\n",
    "tensore"
   ]
  },
  {
   "cell_type": "code",
   "execution_count": 59,
   "id": "691c46c9-a033-4f9d-aeb3-4d048f03e3bf",
   "metadata": {},
   "outputs": [
    {
     "data": {
      "text/plain": [
       "array([[[1., 1., 5., 5.],\n",
       "        [1., 1., 1., 1.],\n",
       "        [1., 1., 1., 1.]],\n",
       "\n",
       "       [[1., 1., 1., 1.],\n",
       "        [1., 1., 1., 1.],\n",
       "        [1., 1., 1., 1.]]])"
      ]
     },
     "execution_count": 59,
     "metadata": {},
     "output_type": "execute_result"
    }
   ],
   "source": [
    "tensore[0, 0, 2:] = 5\n",
    "tensore"
   ]
  },
  {
   "cell_type": "code",
   "execution_count": 60,
   "id": "91e643ea-d813-4241-afb1-03e01c35b03a",
   "metadata": {},
   "outputs": [
    {
     "data": {
      "text/plain": [
       "array([[[1., 1., 5., 5.],\n",
       "        [1., 1., 5., 5.],\n",
       "        [1., 1., 1., 1.]],\n",
       "\n",
       "       [[1., 1., 1., 1.],\n",
       "        [1., 1., 1., 1.],\n",
       "        [1., 1., 1., 1.]]])"
      ]
     },
     "execution_count": 60,
     "metadata": {},
     "output_type": "execute_result"
    }
   ],
   "source": [
    "tensore[0, 0:2, 2:] = 5\n",
    "tensore"
   ]
  },
  {
   "cell_type": "markdown",
   "id": "7bfe2705",
   "metadata": {},
   "source": [
    "[`numpy.arange`](https://numpy.org/doc/stable/reference/generated/numpy.arange.html) è l'analogo in Numpy di `range`."
   ]
  },
  {
   "cell_type": "code",
   "execution_count": 61,
   "id": "8c2a419c",
   "metadata": {},
   "outputs": [
    {
     "data": {
      "text/plain": [
       "[0, 1, 2, 3, 4, 5, 6, 7, 8, 9]"
      ]
     },
     "execution_count": 61,
     "metadata": {},
     "output_type": "execute_result"
    }
   ],
   "source": [
    "list(range(0, 10))"
   ]
  },
  {
   "cell_type": "code",
   "execution_count": 62,
   "id": "a9f5422c",
   "metadata": {},
   "outputs": [
    {
     "data": {
      "text/plain": [
       "array([0, 1, 2, 3, 4, 5, 6, 7, 8, 9])"
      ]
     },
     "execution_count": 62,
     "metadata": {},
     "output_type": "execute_result"
    }
   ],
   "source": [
    "np.arange(0, 10)"
   ]
  },
  {
   "cell_type": "code",
   "execution_count": 63,
   "id": "195f7e7d",
   "metadata": {},
   "outputs": [
    {
     "data": {
      "text/plain": [
       "[0, 2, 4, 6, 8]"
      ]
     },
     "execution_count": 63,
     "metadata": {},
     "output_type": "execute_result"
    }
   ],
   "source": [
    "list(range(0, 10, 2))"
   ]
  },
  {
   "cell_type": "code",
   "execution_count": 64,
   "id": "cd2cb889",
   "metadata": {},
   "outputs": [
    {
     "data": {
      "text/plain": [
       "array([0, 2, 4, 6, 8])"
      ]
     },
     "execution_count": 64,
     "metadata": {},
     "output_type": "execute_result"
    }
   ],
   "source": [
    "np.arange(0, 10, 2)"
   ]
  },
  {
   "cell_type": "markdown",
   "id": "3daf663a",
   "metadata": {},
   "source": [
    "`numpy.linspace(a, b, n)` restituisce un vettore avente un specifico numero di elementi `n` equispaziati su un certo intervallo [`a`,`b`]."
   ]
  },
  {
   "cell_type": "code",
   "execution_count": 65,
   "id": "0faeeacc",
   "metadata": {},
   "outputs": [
    {
     "data": {
      "text/plain": [
       "array([ 0., 10.])"
      ]
     },
     "execution_count": 65,
     "metadata": {},
     "output_type": "execute_result"
    }
   ],
   "source": [
    "np.linspace(0, 10, 2)"
   ]
  },
  {
   "cell_type": "code",
   "execution_count": 66,
   "id": "ec89b093",
   "metadata": {},
   "outputs": [
    {
     "data": {
      "text/plain": [
       "array([0., 2., 4., 6., 8.])"
      ]
     },
     "execution_count": 66,
     "metadata": {},
     "output_type": "execute_result"
    }
   ],
   "source": [
    "np.linspace(0, 8, 5)"
   ]
  },
  {
   "cell_type": "markdown",
   "id": "df8d35fe-5945-4a0b-8a7e-051e885d2155",
   "metadata": {},
   "source": [
    "Di deafult il valore di `b` è incluso con `endpoint=False` si ottiene il seguente risultato."
   ]
  },
  {
   "cell_type": "code",
   "execution_count": 67,
   "id": "78bfde81",
   "metadata": {},
   "outputs": [
    {
     "data": {
      "text/plain": [
       "array([0. , 1.6, 3.2, 4.8, 6.4])"
      ]
     },
     "execution_count": 67,
     "metadata": {},
     "output_type": "execute_result"
    }
   ],
   "source": [
    "np.linspace(0, 8, 5, endpoint = False)"
   ]
  },
  {
   "cell_type": "code",
   "execution_count": 68,
   "id": "be594aa5-9c40-41e3-ae34-06483f18c30c",
   "metadata": {},
   "outputs": [
    {
     "data": {
      "text/plain": [
       "array([0.        , 1.33333333, 2.66666667, 4.        , 5.33333333,\n",
       "       6.66666667, 8.        ])"
      ]
     },
     "execution_count": 68,
     "metadata": {},
     "output_type": "execute_result"
    }
   ],
   "source": [
    "np.linspace(0, 8, 7)"
   ]
  },
  {
   "cell_type": "markdown",
   "id": "12664f07-eac8-4fc6-a9e2-76dfe93f0b9e",
   "metadata": {},
   "source": [
    "### Operazioni fra vettori"
   ]
  },
  {
   "cell_type": "markdown",
   "id": "83bc1998-f786-451d-b5da-bb76752c12e9",
   "metadata": {},
   "source": [
    "Con gli `ndarray` si possono eseguire tutte le operazioni dell'algebra vettoriale."
   ]
  },
  {
   "cell_type": "code",
   "execution_count": 69,
   "id": "052edb3f",
   "metadata": {},
   "outputs": [],
   "source": [
    "v1 = np.array([1, 2, 3])\n",
    "v2 = np.array([1.2, 2.5, 7.8])"
   ]
  },
  {
   "cell_type": "markdown",
   "id": "3bfb1954-642f-45eb-9ab6-3c36d5f5b26b",
   "metadata": {},
   "source": [
    "Sommando due vettori si ottiene la somma vettoriale fra i due che differeisce da quanto visto per le liste"
   ]
  },
  {
   "cell_type": "code",
   "execution_count": 73,
   "id": "a9d6bb24",
   "metadata": {},
   "outputs": [
    {
     "data": {
      "text/plain": [
       "array([ 2.2,  4.5, 10.8])"
      ]
     },
     "execution_count": 73,
     "metadata": {},
     "output_type": "execute_result"
    }
   ],
   "source": [
    "v1 + v2"
   ]
  },
  {
   "cell_type": "code",
   "execution_count": 71,
   "id": "73a3265a",
   "metadata": {},
   "outputs": [
    {
     "data": {
      "text/plain": [
       "[1, 2, 3, 1.2, 2.5, 7.8]"
      ]
     },
     "execution_count": 71,
     "metadata": {},
     "output_type": "execute_result"
    }
   ],
   "source": [
    "list(v1) + list(v2)"
   ]
  },
  {
   "cell_type": "markdown",
   "id": "36653059-b25a-48f0-aae0-8de6892a515f",
   "metadata": {},
   "source": [
    "Per sommare due liste come se fossero vettori dovremmo usare un ciclo for o una list comprehension"
   ]
  },
  {
   "cell_type": "code",
   "execution_count": null,
   "id": "dedb8b95",
   "metadata": {},
   "outputs": [],
   "source": [
    "somma = []\n",
    "for i in range(len(v1)):\n",
    "    somma.append(v1[i] + v2[i])\n",
    "somma"
   ]
  },
  {
   "cell_type": "code",
   "execution_count": 72,
   "id": "1fa0f0a4",
   "metadata": {},
   "outputs": [
    {
     "data": {
      "text/plain": [
       "[2.2, 4.5, 10.8]"
      ]
     },
     "execution_count": 72,
     "metadata": {},
     "output_type": "execute_result"
    }
   ],
   "source": [
    "[v1[i] + v2[i] for i in range(len(v1))]"
   ]
  },
  {
   "cell_type": "markdown",
   "id": "743cbde4-be6c-4b19-b28a-a82f8a843626",
   "metadata": {},
   "source": [
    "Come la somma tutte le altre opeazioni aritmetiche vengono eseguite elemento per elemento"
   ]
  },
  {
   "cell_type": "code",
   "execution_count": 74,
   "id": "dcbaaf78",
   "metadata": {},
   "outputs": [
    {
     "data": {
      "text/plain": [
       "array([ 1.2,  5. , 23.4])"
      ]
     },
     "execution_count": 74,
     "metadata": {},
     "output_type": "execute_result"
    }
   ],
   "source": [
    "v1 * v2"
   ]
  },
  {
   "cell_type": "code",
   "execution_count": 75,
   "id": "7073d3e6",
   "metadata": {},
   "outputs": [
    {
     "data": {
      "text/plain": [
       "array([-0.2, -0.5, -4.8])"
      ]
     },
     "execution_count": 75,
     "metadata": {},
     "output_type": "execute_result"
    }
   ],
   "source": [
    "v1 - v2"
   ]
  },
  {
   "cell_type": "code",
   "execution_count": 76,
   "id": "34361dea",
   "metadata": {},
   "outputs": [
    {
     "data": {
      "text/plain": [
       "array([0.83333333, 0.8       , 0.38461538])"
      ]
     },
     "execution_count": 76,
     "metadata": {},
     "output_type": "execute_result"
    }
   ],
   "source": [
    "v1 / v2"
   ]
  },
  {
   "cell_type": "code",
   "execution_count": 77,
   "id": "d7a1bd95",
   "metadata": {},
   "outputs": [
    {
     "data": {
      "text/plain": [
       "array([1, 2, 3])"
      ]
     },
     "execution_count": 77,
     "metadata": {},
     "output_type": "execute_result"
    }
   ],
   "source": [
    "vettore"
   ]
  },
  {
   "cell_type": "code",
   "execution_count": 78,
   "id": "3cf59085",
   "metadata": {},
   "outputs": [
    {
     "data": {
      "text/plain": [
       "array([[1, 2, 3],\n",
       "       [4, 5, 6]])"
      ]
     },
     "execution_count": 78,
     "metadata": {},
     "output_type": "execute_result"
    }
   ],
   "source": [
    "matrice"
   ]
  },
  {
   "cell_type": "markdown",
   "id": "900b186c-7da2-4f6a-ae31-ad18279cfc7f",
   "metadata": {},
   "source": [
    "Fintanto che le shape di due vettori sono compatibili anche se non uguali gli operatori aritmetici continuano ad essere utilizzabili con risultati spesso utili"
   ]
  },
  {
   "cell_type": "code",
   "execution_count": 79,
   "id": "fc060c67-44a2-45de-9b3f-9092e87e3558",
   "metadata": {},
   "outputs": [
    {
     "name": "stdout",
     "output_type": "stream",
     "text": [
      "(2, 3) (3,)\n"
     ]
    }
   ],
   "source": [
    "print(matrice.shape, vettore.shape)"
   ]
  },
  {
   "cell_type": "markdown",
   "id": "19f0c417-dabc-46c9-b03f-70a41f8d624c",
   "metadata": {},
   "source": [
    "Qui vettore viene considerato come vettore riga (shape = (1, 3)) e quindi la sottrazzione funziona per righe poiché le dimensioni di colonna coincidono."
   ]
  },
  {
   "cell_type": "code",
   "execution_count": 80,
   "id": "adc94aa9-e84b-45b7-9462-22ac1c1d52e1",
   "metadata": {},
   "outputs": [
    {
     "data": {
      "text/plain": [
       "array([[0, 0, 0],\n",
       "       [3, 3, 3]])"
      ]
     },
     "execution_count": 80,
     "metadata": {},
     "output_type": "execute_result"
    }
   ],
   "source": [
    "# sottraiamo (2, 3) con (1, 3)\n",
    "matrice - vettore"
   ]
  },
  {
   "cell_type": "code",
   "execution_count": 81,
   "id": "fd75d90d-b294-4ef5-a7ee-ab9756a9a35a",
   "metadata": {},
   "outputs": [
    {
     "ename": "ValueError",
     "evalue": "operands could not be broadcast together with shapes (3,3) (2,3) ",
     "output_type": "error",
     "traceback": [
      "\u001b[0;31m---------------------------------------------------------------------------\u001b[0m",
      "\u001b[0;31mValueError\u001b[0m                                Traceback (most recent call last)",
      "Cell \u001b[0;32mIn[81], line 2\u001b[0m\n\u001b[1;32m      1\u001b[0m \u001b[38;5;66;03m# Invece le shape (3, 3) e (2, 3) non sono compatibili\u001b[39;00m\n\u001b[0;32m----> 2\u001b[0m np\u001b[38;5;241m.\u001b[39mzeros((\u001b[38;5;241m3\u001b[39m, \u001b[38;5;241m3\u001b[39m)) \u001b[38;5;241m-\u001b[39m np\u001b[38;5;241m.\u001b[39mzeros((\u001b[38;5;241m2\u001b[39m, \u001b[38;5;241m3\u001b[39m))\n",
      "\u001b[0;31mValueError\u001b[0m: operands could not be broadcast together with shapes (3,3) (2,3) "
     ]
    }
   ],
   "source": [
    "# Invece le shape (3, 3) e (2, 3) non sono compatibili\n",
    "np.zeros((3, 3)) - np.zeros((2, 3))"
   ]
  },
  {
   "cell_type": "markdown",
   "id": "b287f246",
   "metadata": {},
   "source": [
    "NumPy include al suo interno diverse costanti predefinite, come `Inf` e `pi`."
   ]
  },
  {
   "cell_type": "code",
   "execution_count": 82,
   "id": "e952bb08",
   "metadata": {},
   "outputs": [
    {
     "data": {
      "text/plain": [
       "3.141592653589793"
      ]
     },
     "execution_count": 82,
     "metadata": {},
     "output_type": "execute_result"
    }
   ],
   "source": [
    "np.pi"
   ]
  },
  {
   "cell_type": "code",
   "execution_count": 84,
   "id": "5dae0062",
   "metadata": {},
   "outputs": [
    {
     "data": {
      "text/plain": [
       "inf"
      ]
     },
     "execution_count": 84,
     "metadata": {},
     "output_type": "execute_result"
    }
   ],
   "source": [
    "np.Inf"
   ]
  },
  {
   "cell_type": "code",
   "execution_count": 85,
   "id": "fb3ad776",
   "metadata": {},
   "outputs": [
    {
     "data": {
      "text/plain": [
       "float"
      ]
     },
     "execution_count": 85,
     "metadata": {},
     "output_type": "execute_result"
    }
   ],
   "source": [
    "type(np.Inf)"
   ]
  },
  {
   "cell_type": "code",
   "execution_count": 83,
   "id": "d0748efd",
   "metadata": {},
   "outputs": [
    {
     "data": {
      "text/plain": [
       "2.718281828459045"
      ]
     },
     "execution_count": 83,
     "metadata": {},
     "output_type": "execute_result"
    }
   ],
   "source": [
    "np.e"
   ]
  },
  {
   "cell_type": "markdown",
   "id": "499ce386-b44d-479e-a344-cf5f4bbbcf39",
   "metadata": {},
   "source": [
    "Al suo interno poi troviamo le funzioni matematematiche per esempio quelle trigonometriche quali $\\sin(x)$ e $\\cos(x)$."
   ]
  },
  {
   "cell_type": "code",
   "execution_count": 86,
   "id": "607689d1",
   "metadata": {},
   "outputs": [
    {
     "data": {
      "text/plain": [
       "1.0"
      ]
     },
     "execution_count": 86,
     "metadata": {},
     "output_type": "execute_result"
    }
   ],
   "source": [
    "np.cos(0)"
   ]
  },
  {
   "cell_type": "code",
   "execution_count": 87,
   "id": "bb10b913",
   "metadata": {},
   "outputs": [
    {
     "data": {
      "text/plain": [
       "0.0"
      ]
     },
     "execution_count": 87,
     "metadata": {},
     "output_type": "execute_result"
    }
   ],
   "source": [
    "np.sin(0)"
   ]
  },
  {
   "cell_type": "markdown",
   "id": "491c3bbb-2a12-4b81-9410-b868a5ed9834",
   "metadata": {},
   "source": [
    "Come abbiamo detto le operazioni aritmetiche lavorano elemento per elemento. \n",
    "Ma nel caso delle matrici il prodotto matriciale non è quello elemento per elemento.\n",
    "\n",
    "In algebra lineare se due matrici $A$ di dimensioni $n\\times m$ e $B$ di dimensioni \n",
    "$m \\times p$ vengono moltiplicate la matrice prodotto di dimensioni $n\\times p$ si calcola con\n",
    "$$\n",
    "(A \\cdot B)_{ij} = \\biggl(\\sum_{k=1}^m a_{ik} b_{kj}\\biggr) \n",
    "$$"
   ]
  },
  {
   "cell_type": "code",
   "execution_count": 88,
   "id": "349dc086-de26-44bb-8ac9-dd191f6e76b5",
   "metadata": {},
   "outputs": [],
   "source": [
    "# Definiamo due matrici 2x2\n",
    "A = np.array([[1, 1], [0, 1]])\n",
    "B = np.array([[2, 0], [3, 4]])"
   ]
  },
  {
   "cell_type": "code",
   "execution_count": 89,
   "id": "761bd4be",
   "metadata": {},
   "outputs": [
    {
     "data": {
      "text/plain": [
       "(array([[1, 1],\n",
       "        [0, 1]]),\n",
       " array([[2, 0],\n",
       "        [3, 4]]))"
      ]
     },
     "execution_count": 89,
     "metadata": {},
     "output_type": "execute_result"
    }
   ],
   "source": [
    "A, B"
   ]
  },
  {
   "cell_type": "code",
   "execution_count": 90,
   "id": "b6e83ce6",
   "metadata": {},
   "outputs": [
    {
     "data": {
      "text/plain": [
       "array([[3, 1],\n",
       "       [3, 5]])"
      ]
     },
     "execution_count": 90,
     "metadata": {},
     "output_type": "execute_result"
    }
   ],
   "source": [
    "A + B"
   ]
  },
  {
   "cell_type": "markdown",
   "id": "05027df5-1f0e-4833-a601-ded006e8da1d",
   "metadata": {},
   "source": [
    "\\* produce il prodotto elemento per elemento (se le shape sono compatibili)"
   ]
  },
  {
   "cell_type": "code",
   "execution_count": 91,
   "id": "2dfa024f",
   "metadata": {},
   "outputs": [
    {
     "data": {
      "text/plain": [
       "array([[2, 0],\n",
       "       [0, 4]])"
      ]
     },
     "execution_count": 91,
     "metadata": {},
     "output_type": "execute_result"
    }
   ],
   "source": [
    "A * B"
   ]
  },
  {
   "cell_type": "markdown",
   "id": "addb7597-e11f-44eb-a552-c781f97ba0ce",
   "metadata": {},
   "source": [
    "@ produce il prodotto matriciale (se le matrici sono moltiplicabili)"
   ]
  },
  {
   "cell_type": "code",
   "execution_count": 92,
   "id": "96921c74",
   "metadata": {},
   "outputs": [
    {
     "data": {
      "text/plain": [
       "array([[5, 4],\n",
       "       [3, 4]])"
      ]
     },
     "execution_count": 92,
     "metadata": {},
     "output_type": "execute_result"
    }
   ],
   "source": [
    "A @ B"
   ]
  },
  {
   "cell_type": "markdown",
   "id": "9a0ffd3d-6497-4dd1-82f0-b5c408e13c3d",
   "metadata": {},
   "source": [
    "La stessa cosa si può ottenere anche con le funzioni `matmul` o `dot` del modulo NumPy"
   ]
  },
  {
   "cell_type": "code",
   "execution_count": 93,
   "id": "edf1768c",
   "metadata": {},
   "outputs": [
    {
     "data": {
      "text/plain": [
       "array([[5, 4],\n",
       "       [3, 4]])"
      ]
     },
     "execution_count": 93,
     "metadata": {},
     "output_type": "execute_result"
    }
   ],
   "source": [
    "np.matmul(A, B)"
   ]
  },
  {
   "cell_type": "code",
   "execution_count": 94,
   "id": "87262d5e",
   "metadata": {},
   "outputs": [
    {
     "data": {
      "text/plain": [
       "array([[5, 4],\n",
       "       [3, 4]])"
      ]
     },
     "execution_count": 94,
     "metadata": {},
     "output_type": "execute_result"
    }
   ],
   "source": [
    "np.dot(A, B)"
   ]
  },
  {
   "cell_type": "markdown",
   "id": "2ccb6db7-e319-400f-8e49-9c7ba1a3f210",
   "metadata": {},
   "source": [
    "Nel caso di vettori dimensionali con $n$ elementi invece `dot` restituisce il prodotto scalare\n",
    "$$\n",
    "<a, b> = \\sum_{i=1}^n a_i b_i\n",
    "$$"
   ]
  },
  {
   "cell_type": "code",
   "execution_count": 95,
   "id": "a58d5aeb",
   "metadata": {},
   "outputs": [
    {
     "data": {
      "text/plain": [
       "29.599999999999998"
      ]
     },
     "execution_count": 95,
     "metadata": {},
     "output_type": "execute_result"
    }
   ],
   "source": [
    "np.dot(v1, v2)"
   ]
  },
  {
   "cell_type": "markdown",
   "id": "36bef282-e796-4e92-8e0d-4516a93c4eab",
   "metadata": {},
   "source": [
    "Nella libreria sono poi definite molte funzioni (che possono essere chiamate anche come metodi delle istaze di `ndarray`) per il calcolo di funzioni di natura statistica."
   ]
  },
  {
   "cell_type": "code",
   "execution_count": 96,
   "id": "4507e150",
   "metadata": {},
   "outputs": [
    {
     "data": {
      "text/plain": [
       "(1, 1)"
      ]
     },
     "execution_count": 96,
     "metadata": {},
     "output_type": "execute_result"
    }
   ],
   "source": [
    "# Minimo\n",
    "np.min(vettore), vettore.min()"
   ]
  },
  {
   "cell_type": "code",
   "execution_count": 97,
   "id": "00820e84",
   "metadata": {},
   "outputs": [
    {
     "data": {
      "text/plain": [
       "(3, 3)"
      ]
     },
     "execution_count": 97,
     "metadata": {},
     "output_type": "execute_result"
    }
   ],
   "source": [
    "# Massimo\n",
    "np.max(vettore), vettore.max()"
   ]
  },
  {
   "cell_type": "code",
   "execution_count": 98,
   "id": "29d31caf",
   "metadata": {},
   "outputs": [
    {
     "data": {
      "text/plain": [
       "(2.0, 2.0)"
      ]
     },
     "execution_count": 98,
     "metadata": {},
     "output_type": "execute_result"
    }
   ],
   "source": [
    "# Media aritmetica\n",
    "np.mean(vettore), vettore.mean()"
   ]
  },
  {
   "cell_type": "code",
   "execution_count": 99,
   "id": "07b09ea2",
   "metadata": {},
   "outputs": [
    {
     "data": {
      "text/plain": [
       "(0.816496580927726, 0.816496580927726)"
      ]
     },
     "execution_count": 99,
     "metadata": {},
     "output_type": "execute_result"
    }
   ],
   "source": [
    "# Deviazione standard\n",
    "np.std(vettore), vettore.std()"
   ]
  },
  {
   "cell_type": "code",
   "execution_count": 100,
   "id": "b221e564",
   "metadata": {},
   "outputs": [
    {
     "data": {
      "text/plain": [
       "(0.6666666666666666, 0.6666666666666666)"
      ]
     },
     "execution_count": 100,
     "metadata": {},
     "output_type": "execute_result"
    }
   ],
   "source": [
    "# Varianza\n",
    "np.var(vettore), vettore.var()"
   ]
  },
  {
   "cell_type": "markdown",
   "id": "75af9cc9-4de7-4588-be4e-e0737713815e",
   "metadata": {},
   "source": [
    "Per esempio la funzione che calcola la mediana invece non è disponibile come metodo di classe poiché in generale non è definita per i vettori multidimensionali."
   ]
  },
  {
   "cell_type": "code",
   "execution_count": 103,
   "id": "16d9d76f-165b-4461-8d1e-5c0117237d43",
   "metadata": {},
   "outputs": [
    {
     "ename": "AttributeError",
     "evalue": "'numpy.ndarray' object has no attribute 'median'",
     "output_type": "error",
     "traceback": [
      "\u001b[0;31m---------------------------------------------------------------------------\u001b[0m",
      "\u001b[0;31mAttributeError\u001b[0m                            Traceback (most recent call last)",
      "Cell \u001b[0;32mIn[103], line 1\u001b[0m\n\u001b[0;32m----> 1\u001b[0m vettore\u001b[38;5;241m.\u001b[39mmedian()\n",
      "\u001b[0;31mAttributeError\u001b[0m: 'numpy.ndarray' object has no attribute 'median'"
     ]
    }
   ],
   "source": [
    "vettore.median()"
   ]
  },
  {
   "cell_type": "code",
   "execution_count": 101,
   "id": "5eb0ca7b-e242-4c7f-8bb4-5b9747e87980",
   "metadata": {},
   "outputs": [
    {
     "data": {
      "text/plain": [
       "2.0"
      ]
     },
     "execution_count": 101,
     "metadata": {},
     "output_type": "execute_result"
    }
   ],
   "source": [
    "np.median(vettore)"
   ]
  },
  {
   "cell_type": "markdown",
   "id": "9d786903",
   "metadata": {},
   "source": [
    "Il metodo `reshape` cambia la shape del vettore senza cambiare i dati contenuti in esso."
   ]
  },
  {
   "cell_type": "code",
   "execution_count": 104,
   "id": "607ce79b",
   "metadata": {},
   "outputs": [
    {
     "data": {
      "text/plain": [
       "array([ 0,  1,  2,  3,  4,  5,  6,  7,  8,  9, 10, 11])"
      ]
     },
     "execution_count": 104,
     "metadata": {},
     "output_type": "execute_result"
    }
   ],
   "source": [
    "vec = np.arange(12)\n",
    "vec"
   ]
  },
  {
   "cell_type": "code",
   "execution_count": 105,
   "id": "be4097ad",
   "metadata": {},
   "outputs": [
    {
     "data": {
      "text/plain": [
       "(12,)"
      ]
     },
     "execution_count": 105,
     "metadata": {},
     "output_type": "execute_result"
    }
   ],
   "source": [
    "vec.shape"
   ]
  },
  {
   "cell_type": "code",
   "execution_count": 106,
   "id": "6c538ad7",
   "metadata": {},
   "outputs": [
    {
     "data": {
      "text/plain": [
       "array([[ 0,  1,  2,  3],\n",
       "       [ 4,  5,  6,  7],\n",
       "       [ 8,  9, 10, 11]])"
      ]
     },
     "execution_count": 106,
     "metadata": {},
     "output_type": "execute_result"
    }
   ],
   "source": [
    "# Cambiamo la shape di vec da (12, 1) a (3, 4)\n",
    "mat = vec.reshape(3, 4)\n",
    "mat"
   ]
  },
  {
   "cell_type": "code",
   "execution_count": 107,
   "id": "b8b8bc6a",
   "metadata": {},
   "outputs": [
    {
     "data": {
      "text/plain": [
       "(3, 4)"
      ]
     },
     "execution_count": 107,
     "metadata": {},
     "output_type": "execute_result"
    }
   ],
   "source": [
    "mat.shape"
   ]
  },
  {
   "cell_type": "code",
   "execution_count": 109,
   "id": "0c9f8246",
   "metadata": {},
   "outputs": [
    {
     "data": {
      "text/plain": [
       "66"
      ]
     },
     "execution_count": 109,
     "metadata": {},
     "output_type": "execute_result"
    }
   ],
   "source": [
    "mat.sum()"
   ]
  },
  {
   "cell_type": "markdown",
   "id": "d50887f8-7f0d-4feb-be32-7149b84c2098",
   "metadata": {},
   "source": [
    "I metodi `min`, `max`, `sum`... possono essere calcolati solo su alcune dimensioni di un `ndarray`."
   ]
  },
  {
   "cell_type": "code",
   "execution_count": 110,
   "id": "598cbb7e",
   "metadata": {},
   "outputs": [
    {
     "data": {
      "text/plain": [
       "array([12, 15, 18, 21])"
      ]
     },
     "execution_count": 110,
     "metadata": {},
     "output_type": "execute_result"
    }
   ],
   "source": [
    "# Somma per colonne ovvero lungo la prima dimensione\n",
    "mat.sum(axis = 0)"
   ]
  },
  {
   "cell_type": "code",
   "execution_count": 111,
   "id": "4b4d58a0",
   "metadata": {},
   "outputs": [
    {
     "data": {
      "text/plain": [
       "array([ 6, 22, 38])"
      ]
     },
     "execution_count": 111,
     "metadata": {},
     "output_type": "execute_result"
    }
   ],
   "source": [
    "# Somma per righe ovvero lungo la seconda dimensione\n",
    "mat.sum(axis = 1)"
   ]
  },
  {
   "cell_type": "markdown",
   "id": "d831a188-9d7e-4300-925a-e3c821674fbf",
   "metadata": {},
   "source": [
    "Si può passare -1 al metodo reshape per far calcolare a NumPy il numero di elementi in quella dimensione"
   ]
  },
  {
   "cell_type": "code",
   "execution_count": 112,
   "id": "b9f0b420",
   "metadata": {},
   "outputs": [
    {
     "data": {
      "text/plain": [
       "array([ 0,  1,  2,  3,  4,  5,  6,  7,  8,  9, 10, 11])"
      ]
     },
     "execution_count": 112,
     "metadata": {},
     "output_type": "execute_result"
    }
   ],
   "source": [
    "# Vogliamo mat con una shape di una sola dimensione quindi di 12 elementi\n",
    "vec2 = mat.reshape(-1)\n",
    "vec2"
   ]
  },
  {
   "cell_type": "code",
   "execution_count": 113,
   "id": "e4875c33",
   "metadata": {},
   "outputs": [
    {
     "data": {
      "text/plain": [
       "array([[ 0,  1,  2,  3],\n",
       "       [ 4,  5,  6,  7],\n",
       "       [ 8,  9, 10, 11]])"
      ]
     },
     "execution_count": 113,
     "metadata": {},
     "output_type": "execute_result"
    }
   ],
   "source": [
    "mat.reshape(3, -1)"
   ]
  },
  {
   "cell_type": "markdown",
   "id": "3dd3ec8e",
   "metadata": {},
   "source": [
    "`numpy.ravel` permette di 'appiattire' un array ad una sola dimansione."
   ]
  },
  {
   "cell_type": "code",
   "execution_count": 114,
   "id": "66c3d0f6",
   "metadata": {},
   "outputs": [
    {
     "data": {
      "text/plain": [
       "array([ 0,  1,  2,  3,  4,  5,  6,  7,  8,  9, 10, 11])"
      ]
     },
     "execution_count": 114,
     "metadata": {},
     "output_type": "execute_result"
    }
   ],
   "source": [
    "# Equivalente a mat.reshape(-1)\n",
    "np.ravel(mat)"
   ]
  },
  {
   "cell_type": "markdown",
   "id": "4c8083b6-980e-41cc-aff8-44832bd2cc18",
   "metadata": {},
   "source": [
    "Il modulo `random` che abbiamo già introdotto è usatro per la generazione di numeri pseudo casuali."
   ]
  },
  {
   "cell_type": "code",
   "execution_count": 115,
   "id": "97fe7b69",
   "metadata": {},
   "outputs": [],
   "source": [
    "import random"
   ]
  },
  {
   "cell_type": "code",
   "execution_count": 116,
   "id": "239991ca",
   "metadata": {},
   "outputs": [
    {
     "data": {
      "text/plain": [
       "5"
      ]
     },
     "execution_count": 116,
     "metadata": {},
     "output_type": "execute_result"
    }
   ],
   "source": [
    "random.randint(0, 10)"
   ]
  },
  {
   "cell_type": "markdown",
   "id": "e67c7ecf-7e86-409e-8ba5-409392eb4817",
   "metadata": {},
   "source": [
    "Anche NumPy ha un sottomodulo random che permette di generare vettori i cui elementi sono numeri pseuso casuali."
   ]
  },
  {
   "cell_type": "markdown",
   "id": "e1e53050",
   "metadata": {},
   "source": [
    "`numpy.random.normal(mean=0.0, std=1.0, shape)` genera vettori estratti da una distribuzione Gaussiana.\n",
    "$$\n",
    "\\mathcal{N}(\\mu, \\sigma^2)\n",
    "$$"
   ]
  },
  {
   "cell_type": "code",
   "execution_count": 119,
   "id": "fd545166",
   "metadata": {},
   "outputs": [
    {
     "data": {
      "text/plain": [
       "array([-0.11951946, -0.14909092, -1.71429527, -0.67664993,  0.77747579,\n",
       "        0.02863424,  0.77896594,  1.85927286, -0.85176017, -0.33821884])"
      ]
     },
     "execution_count": 119,
     "metadata": {},
     "output_type": "execute_result"
    }
   ],
   "source": [
    "# Vettore di dimensione 10 estratto da N(0,1) normale standard\n",
    "np.random.normal(0, 1, 10)"
   ]
  },
  {
   "cell_type": "code",
   "execution_count": 122,
   "id": "08b804ac",
   "metadata": {},
   "outputs": [
    {
     "data": {
      "text/plain": [
       "array([4.87523785, 6.49698273, 4.43243578, 4.46267761, 5.19250087,\n",
       "       2.67850656, 4.45313579, 4.71725096, 5.50107519, 5.18535288,\n",
       "       3.55750989, 4.06918764, 2.31702939, 2.76723574, 3.91480947,\n",
       "       5.05919824, 5.10448261, 2.06052367, 3.44351573, 3.93312789,\n",
       "       4.14993238, 4.95063339, 3.11260371, 5.72565251, 4.24963207,\n",
       "       3.60453277, 4.32396624, 3.95255208, 5.7430622 , 5.64121993,\n",
       "       4.36695807, 4.62974467, 4.36919094, 4.20871388, 4.28805129,\n",
       "       5.0311449 , 2.3889092 , 0.91720551, 3.62633049, 1.17488808,\n",
       "       3.36542054, 3.84091751, 4.36424869, 3.71984661, 3.77305853,\n",
       "       4.65616227, 4.71274426, 5.01935087, 2.7006224 , 4.53144153,\n",
       "       3.84901753, 4.53214696, 3.39161711, 3.74170807, 5.29506584,\n",
       "       5.37739506, 4.57517471, 3.49598665, 4.79353573, 4.20775646,\n",
       "       4.69595277, 4.55626226, 4.3579982 , 5.2845496 , 3.54589155,\n",
       "       4.69395759, 3.02887843, 5.19841367, 4.43770976, 2.30749472,\n",
       "       5.41144501, 4.27672328, 4.06527134, 3.62143396, 3.94712948,\n",
       "       4.00615694, 3.99743287, 4.67334146, 3.2007553 , 3.12812352,\n",
       "       2.81043401, 5.29193584, 4.21932853, 4.0782177 , 4.45053892,\n",
       "       4.78940263, 3.46472027, 3.01599037, 3.48578549, 3.53417278,\n",
       "       2.5241406 , 4.32758416, 3.21666763, 4.21438872, 4.4189943 ,\n",
       "       4.73519608, 3.78417553, 3.83865554, 3.30801621, 4.14570727])"
      ]
     },
     "execution_count": 122,
     "metadata": {},
     "output_type": "execute_result"
    }
   ],
   "source": [
    "mu = 4\n",
    "sigma = 1\n",
    "\n",
    "sample = np.random.normal(mu, sigma, 100)\n",
    "sample"
   ]
  },
  {
   "cell_type": "markdown",
   "id": "11b1a116-b685-4819-8c5a-33a95d20aa3c",
   "metadata": {},
   "source": [
    "Se calcoliamo le stime campionarie di media e deviazione standard otteniamo i risultati attesi"
   ]
  },
  {
   "cell_type": "code",
   "execution_count": 123,
   "id": "69a13ed4",
   "metadata": {},
   "outputs": [
    {
     "data": {
      "text/plain": [
       "(4.087088924666481, 0.953465340218444)"
      ]
     },
     "execution_count": 123,
     "metadata": {},
     "output_type": "execute_result"
    }
   ],
   "source": [
    "sample.mean(), sample.std()"
   ]
  },
  {
   "cell_type": "markdown",
   "id": "de6f59b4-a126-4a76-9d7e-febb2d3c1a83",
   "metadata": {},
   "source": [
    "La stima diventa più precisa all'aumentare della dimensione del campione"
   ]
  },
  {
   "cell_type": "code",
   "execution_count": 124,
   "id": "703b1ffd",
   "metadata": {},
   "outputs": [
    {
     "data": {
      "text/plain": [
       "(3.993165331124216, 1.0003522729345204)"
      ]
     },
     "execution_count": 124,
     "metadata": {},
     "output_type": "execute_result"
    }
   ],
   "source": [
    "sample = np.random.normal(mu, sigma, 10000)\n",
    "sample.mean(), sample.std()"
   ]
  },
  {
   "cell_type": "markdown",
   "id": "e9266354-5585-49f6-abb6-1af6216b2b1c",
   "metadata": {},
   "source": [
    "`random.uniform(low=0.0, high=1.0, size=None)` genera vettori estratti da una distribuzione Uniforme.\n",
    "$$\n",
    "\\mathcal{U}([low, high))\n",
    "$$"
   ]
  },
  {
   "cell_type": "code",
   "execution_count": 125,
   "id": "8f440449-6748-476a-920c-d8fce9339768",
   "metadata": {},
   "outputs": [
    {
     "data": {
      "text/plain": [
       "array([0.57878137, 0.01500172, 0.70567847, 0.77540232, 0.45984344,\n",
       "       0.60471023, 0.05264572, 0.79566683, 0.44009633, 0.63001017])"
      ]
     },
     "execution_count": 125,
     "metadata": {},
     "output_type": "execute_result"
    }
   ],
   "source": [
    "# Vettore di dimensione 10 estratto da U(0,1) normale standard\n",
    "np.random.uniform(0, 1, 10)"
   ]
  },
  {
   "cell_type": "code",
   "execution_count": 126,
   "id": "27467b36-2584-43fd-86e2-ba0fd1cc10bb",
   "metadata": {},
   "outputs": [
    {
     "data": {
      "text/plain": [
       "array([[0.90419426, 0.48378047, 0.25172385, 0.73856033, 0.62205505],\n",
       "       [0.06662797, 0.39933849, 0.31788905, 0.96035531, 0.04675475],\n",
       "       [0.61244636, 0.43753161, 0.92668383, 0.21999017, 0.19250672],\n",
       "       [0.84048844, 0.63760507, 0.8334327 , 0.1726377 , 0.46228819],\n",
       "       [0.6728987 , 0.76269434, 0.11356128, 0.67019977, 0.9790657 ]])"
      ]
     },
     "execution_count": 126,
     "metadata": {},
     "output_type": "execute_result"
    }
   ],
   "source": [
    "np.random.uniform(0, 1, (5, 5))"
   ]
  },
  {
   "cell_type": "markdown",
   "id": "2a142fed-0e01-49d4-b7e1-e2868b3cb013",
   "metadata": {},
   "source": [
    "## Esercizi"
   ]
  },
  {
   "cell_type": "markdown",
   "id": "73603c05-5235-4319-a4a7-ce7ebe117c3a",
   "metadata": {},
   "source": [
    "Definire la funzione `inversa`. Tale funzione prende in ingresso una matrice e \n",
    "- per prima cosa controlla che sia una matrice e che sia quadrata, altrimenti restituisce un errore e termina la funzione restituendo `None`. \n",
    "- calcola il determinante della matrice con la funzione `numpy.linalg.det(matrice)`\n",
    "- se il determinante è maggiore di 0.0001 calcola la matrice inversa con la funzione `numpy.linalg.inv(matrice)` e la restituisce come output."
   ]
  },
  {
   "cell_type": "code",
   "execution_count": 127,
   "id": "2c94a67b-4c90-4868-a9c1-5774fa3ea83c",
   "metadata": {},
   "outputs": [],
   "source": [
    "def inversa(matrice):\n",
    "    # Controlliamo che matrice sia un ndarray\n",
    "    if isinstance(matrice, np.ndarray):\n",
    "        pass\n",
    "    else:\n",
    "        print(\"L'input deve essere un ndarray\")\n",
    "        return None\n",
    "    # Controllare che sia una matrice e che sia quadrata\n",
    "    if len(matrice.shape) == 2:\n",
    "        if matrice.shape[0] == matrice.shape[1]:\n",
    "            pass\n",
    "        else:\n",
    "            print(\"L'input deve essere una matrice quadrata (righe == colonne)\")\n",
    "            return None\n",
    "    else:\n",
    "        print(\"L'input deve essere una matrice (2 dimensioni)\")\n",
    "        return None\n",
    "\n",
    "    determinante = np.linalg.det(matrice)\n",
    "\n",
    "    if determinante > 0.0001:\n",
    "        inv = np.linalg.inv(matrice)\n",
    "        return inv\n",
    "    else:\n",
    "        print(\"La matrice non è invertibile (det < 0.0001)\")\n",
    "        return None"
   ]
  },
  {
   "cell_type": "code",
   "execution_count": 129,
   "id": "8823cc54-c549-420c-b1f3-6330ced3f6b9",
   "metadata": {},
   "outputs": [
    {
     "name": "stdout",
     "output_type": "stream",
     "text": [
      "L'input deve essere un ndarray\n",
      "None\n"
     ]
    }
   ],
   "source": [
    "risultato = inversa(\"matrice\")\n",
    "print(risultato)"
   ]
  },
  {
   "cell_type": "code",
   "execution_count": 130,
   "id": "3699a973-8149-4a47-8b0d-e41f8331ff2b",
   "metadata": {},
   "outputs": [
    {
     "name": "stdout",
     "output_type": "stream",
     "text": [
      "L'input deve essere una matrice (2 dimensioni)\n",
      "None\n"
     ]
    }
   ],
   "source": [
    "risultato = inversa(np.array([1,2,3,4,5]))\n",
    "print(risultato)"
   ]
  },
  {
   "cell_type": "code",
   "execution_count": 131,
   "id": "b6a479c7-2480-484c-971a-28ce903aedb9",
   "metadata": {},
   "outputs": [
    {
     "name": "stdout",
     "output_type": "stream",
     "text": [
      "L'input deve essere una matrice quadrata (righe == colonne)\n",
      "None\n"
     ]
    }
   ],
   "source": [
    "risultato = inversa(np.array([1,2,3,4,5,6]).reshape(2, -1))\n",
    "print(risultato)"
   ]
  },
  {
   "cell_type": "code",
   "execution_count": 132,
   "id": "a2a2e8fe-ce30-494f-872e-259c32e086ca",
   "metadata": {},
   "outputs": [
    {
     "name": "stdout",
     "output_type": "stream",
     "text": [
      "La matrice non è invertibile (det < 0.0001)\n",
      "None\n"
     ]
    }
   ],
   "source": [
    "risultato = inversa(np.array([1,2,3,4,5,6,7,8,9]).reshape(3, -1))\n",
    "print(risultato)"
   ]
  },
  {
   "cell_type": "code",
   "execution_count": 137,
   "id": "63fab5d8-e25d-4973-b83d-f3f27b726b21",
   "metadata": {},
   "outputs": [
    {
     "name": "stdout",
     "output_type": "stream",
     "text": [
      "[[ 0.33333333  0.16666667  0.        ]\n",
      " [-2.          0.5        -1.        ]\n",
      " [-0.22222222  0.05555556 -0.        ]]\n",
      "[[ 1.  0.  0.]\n",
      " [ 0.  1.  0.]\n",
      " [ 0. -0.  1.]]\n",
      "[[ 0.33  0.   -0.  ]\n",
      " [-8.    0.   -6.  ]\n",
      " [-0.   -0.06 -0.  ]]\n"
     ]
    }
   ],
   "source": [
    "matrice = np.array([1,0,-3,4,0,6,0,-1,9]).reshape(3, -1)\n",
    "risultato = inversa(matrice)\n",
    "print(risultato)\n",
    "# Prova che sia l'inversa\n",
    "print((matrice @ risultato).round(2))\n",
    "# Il prodotto elemento per elemento non da lo stesso risultato\n",
    "print((matrice * risultato).round(2))"
   ]
  },
  {
   "cell_type": "markdown",
   "id": "cb16714f-f0c8-4b2d-a2e0-28f4032c7d33",
   "metadata": {},
   "source": [
    "Definite le matrici e i vettori\n",
    "$$\n",
    "A = \\begin{pmatrix}\n",
    "    0 & 1 & 2\\\\\n",
    "    -1 & 2 & 1\\\\\n",
    "    1 & 0 & -2\\\\\n",
    "    \\end{pmatrix}\\quad\n",
    "B = \\begin{pmatrix}\n",
    "3 & 2\\\\\n",
    "0 & -1\\\\\n",
    "1 & 1 \\\\\n",
    "\\end{pmatrix}\\quad\n",
    "v = \\begin{pmatrix}\n",
    "1\\\\\n",
    "-1\\\\\n",
    "1 \\\\\n",
    "\\end{pmatrix}\\quad\n",
    "w = \\begin{pmatrix}\n",
    "0\\\\\n",
    "-1\\\\\n",
    "2 \\\\\n",
    "\\end{pmatrix}\n",
    "$$\n",
    "calcolare $AB$, $Av$, $Av + w$ e $<Av, Aw>$"
   ]
  },
  {
   "cell_type": "code",
   "execution_count": 144,
   "id": "1d52eb76-fbef-4c4c-8f00-f48a7ed10fa4",
   "metadata": {},
   "outputs": [],
   "source": [
    "A = np.array([[0, 1, 2], [-1, 2, 1], [1, 0, -2]])\n",
    "B = np.array([[3, 2], [0, -1], [1, 1]])\n",
    "v = np.array([1, -1, 1]).reshape(-1, 1)\n",
    "#v = np.array([[1], [-1], [1]])\n",
    "w = np.array([0, -1, 2]).reshape(-1, 1)"
   ]
  },
  {
   "cell_type": "code",
   "execution_count": 148,
   "id": "a38a1a20-9a0c-4a60-91ee-24b6d1c7ae1a",
   "metadata": {},
   "outputs": [
    {
     "data": {
      "text/plain": [
       "array([[ 2,  1],\n",
       "       [-2, -3],\n",
       "       [ 1,  0]])"
      ]
     },
     "execution_count": 148,
     "metadata": {},
     "output_type": "execute_result"
    }
   ],
   "source": [
    "# AB\n",
    "A @ B\n",
    "np.matmul(A, B)"
   ]
  },
  {
   "cell_type": "code",
   "execution_count": 150,
   "id": "6237e10e-76ac-4757-86d4-b1edf4367636",
   "metadata": {},
   "outputs": [
    {
     "data": {
      "text/plain": [
       "array([[ 1],\n",
       "       [-2],\n",
       "       [-1]])"
      ]
     },
     "execution_count": 150,
     "metadata": {},
     "output_type": "execute_result"
    }
   ],
   "source": [
    "# Av\n",
    "A @ v"
   ]
  },
  {
   "cell_type": "code",
   "execution_count": 151,
   "id": "be46cbba-8cb9-41df-92d3-87cd439bbfc6",
   "metadata": {},
   "outputs": [
    {
     "data": {
      "text/plain": [
       "array([[ 1],\n",
       "       [-3],\n",
       "       [ 1]])"
      ]
     },
     "execution_count": 151,
     "metadata": {},
     "output_type": "execute_result"
    }
   ],
   "source": [
    "# Av + w\n",
    "A @ v + w"
   ]
  },
  {
   "cell_type": "code",
   "execution_count": 156,
   "id": "8f1ba1a7-cc7e-4734-8bdd-4fde15f1781c",
   "metadata": {},
   "outputs": [
    {
     "name": "stdout",
     "output_type": "stream",
     "text": [
      "[[ 1]\n",
      " [-2]\n",
      " [-1]] [[ 3]\n",
      " [ 0]\n",
      " [-4]]\n"
     ]
    },
    {
     "data": {
      "text/plain": [
       "7"
      ]
     },
     "execution_count": 156,
     "metadata": {},
     "output_type": "execute_result"
    }
   ],
   "source": [
    "print(A @ v,  A @ w)\n",
    "np.dot((A @ v).reshape(-1), (A @ w).reshape(-1))"
   ]
  },
  {
   "cell_type": "markdown",
   "id": "dc6c34cd-0eec-452e-8eb7-b37e63c95951",
   "metadata": {},
   "source": [
    "Istanziare un tensore di dimensioni (5, 3, 3) le cui entrate sono estratte da una distribuzione normale standard.\n",
    "\n",
    "Dopodiché sostituire tutti e soli i valori negativi con 0.\n",
    "\n",
    "Calcolare media, varianza e mediana del tensore ottenuto."
   ]
  },
  {
   "cell_type": "code",
   "execution_count": null,
   "id": "0cc21d18-7543-4b78-bd42-d9171712debf",
   "metadata": {},
   "outputs": [],
   "source": []
  },
  {
   "cell_type": "markdown",
   "id": "d9832ebe-64c0-4515-a8f6-4a74872326b7",
   "metadata": {},
   "source": [
    "Scrivere una funzione che:\n",
    "- prende in ingresso una matrice $X$ di dimensione ($n$, $m$)\n",
    "- restituisce una matrice $Y$ di dimensione ($n$, 2) contenente le medie e le varianza per riga di $X$."
   ]
  },
  {
   "cell_type": "code",
   "execution_count": null,
   "id": "45b7e31b-e7d0-4f16-95be-368595824771",
   "metadata": {},
   "outputs": [],
   "source": []
  },
  {
   "cell_type": "markdown",
   "id": "ffeb4c11-8336-4c01-900f-83115c11a4c4",
   "metadata": {},
   "source": [
    "Creare una classe `Titolo` che rappresenta un titolo misurato anno per anno. La classe dovrà avere i seguenti attributi:\n",
    "- `nome`: string, nome del titolo\n",
    "- `titolo`: numpy.array, vettore contenente le rilevazioni del titolo\n",
    "- `periodo`: numpy.array, vettore contenente i periodi corrispondenti alle rilevazioni\n",
    "\n",
    "e i seguenti metodi:\n",
    "- `__len__` calcola la lunghezza del titolo.\n",
    "- `indice_base_fissa(base)` che restituisce l'indice a base fissa calcolato con base il periodo `base`.\n",
    "- `indice_base_mobile()` che restituisce l'indice a base mobile del titolo.\n",
    "- `variazione_media(t1, t2)` che restituisce la variazione media del titolo fra il periodo `t1` e il periodo `t2`. \n",
    "\n",
    "Definire poi una funzione che, preso in ingresso un `Titolo` resituisca la matrice $M$ di dimensione ($n$, 4) con $n$ la lunghezza del titolo. La matrice $M$ contiene nella prima colonna il periodo, nella seconda il titolo, nella terza l'indice a base fissa (con base il primo periodo) e nella quarta l'indice a base mobile. "
   ]
  },
  {
   "cell_type": "code",
   "execution_count": null,
   "id": "e0d5ff93-36e7-42ee-95a7-724eec90915b",
   "metadata": {},
   "outputs": [],
   "source": []
  }
 ],
 "metadata": {
  "kernelspec": {
   "display_name": "Python 3 (ipykernel)",
   "language": "python",
   "name": "python3"
  },
  "language_info": {
   "codemirror_mode": {
    "name": "ipython",
    "version": 3
   },
   "file_extension": ".py",
   "mimetype": "text/x-python",
   "name": "python",
   "nbconvert_exporter": "python",
   "pygments_lexer": "ipython3",
   "version": "3.12.2"
  }
 },
 "nbformat": 4,
 "nbformat_minor": 5
}
