{
 "cells": [
  {
   "cell_type": "markdown",
   "id": "ec640ab6",
   "metadata": {},
   "source": [
    "# [Numpy](https://numpy.org)\n",
    "\n",
    "NumPy è una libreria fondamentale per eseguire calcoli vettoriali e matriciali in Python. Fornisce diversi oggetti, tra cui vettori multidimensionali, e numerose operazioni di algebra lineare eseguibili su tali vettori.  \n",
    "\n",
    "NumPy non è un modulo predefinito di Python pertanto va installato separatamente.\n",
    "\n",
    "Il package manager per la distribuzione Anaconda python è il comando `conda`. \n",
    "Con il comando `conda install pacchetto` si può installare un nuovo pacchetto nel proprio ambiente base.\n",
    "\n",
    "Il comando `conda` non va eseguito nel notebook poiché non è un comando di python ma va eseguito in un terminale. In Jupyter Notebook, è possibile utilizzare il punto esclamativo `!` per eseguire comandi come se stessimo usando il terminale."
   ]
  },
  {
   "cell_type": "code",
   "execution_count": null,
   "id": "cc6be099",
   "metadata": {},
   "outputs": [],
   "source": [
    "# L'opzione -y serve per accettare eventuali prompt del programma\n",
    "# di installazione\n",
    "import sys\n",
    "!conda install numpy -y --prefix {sys.prefix}"
   ]
  },
  {
   "cell_type": "markdown",
   "id": "75f6eac3",
   "metadata": {},
   "source": [
    "Come abbiamo già visto il comando `import` ci permette di importare un modulo all'interno del nostro programma. Inoltre utilizzando il comando `as` possiamo  riferirci al modulo che si sta importando con il nome che definiamo."
   ]
  },
  {
   "cell_type": "code",
   "execution_count": null,
   "id": "9b3f1d9e",
   "metadata": {},
   "outputs": [],
   "source": [
    "import numpy"
   ]
  },
  {
   "cell_type": "code",
   "execution_count": null,
   "id": "6be2345f",
   "metadata": {},
   "outputs": [],
   "source": [
    "numpy.array([0, 1])"
   ]
  },
  {
   "cell_type": "code",
   "execution_count": null,
   "id": "a6e9a982",
   "metadata": {},
   "outputs": [],
   "source": [
    "import numpy as np"
   ]
  },
  {
   "cell_type": "code",
   "execution_count": null,
   "id": "c72b1e51",
   "metadata": {},
   "outputs": [],
   "source": [
    "np.array([0, 1])"
   ]
  },
  {
   "cell_type": "markdown",
   "id": "3d5a976e",
   "metadata": {},
   "source": [
    "Un vettore $n$-dimensionale (`ndarray`) è usato per contenere $n$ elementi ordinati tutti dello stesso tipo."
   ]
  },
  {
   "cell_type": "code",
   "execution_count": null,
   "id": "9291b567",
   "metadata": {},
   "outputs": [],
   "source": [
    "vettore = np.array([1, 2, 3])\n",
    "vettore"
   ]
  },
  {
   "cell_type": "code",
   "execution_count": null,
   "id": "190192c3",
   "metadata": {},
   "outputs": [],
   "source": [
    "type(vettore), isinstance(vettore, np.ndarray)"
   ]
  },
  {
   "cell_type": "markdown",
   "id": "bb177f6a",
   "metadata": {},
   "source": [
    "La dimensione di un vettore è definito dalla suo attributo `shape`, il quale è una tupla di $n$ interi non-negativi che specifica il numero di elementi in ogni dimensione."
   ]
  },
  {
   "cell_type": "code",
   "execution_count": null,
   "id": "ae951ba1",
   "metadata": {},
   "outputs": [],
   "source": [
    "# a è un vettore 1-dimensionale con 3 elementi\n",
    "vettore.shape"
   ]
  },
  {
   "cell_type": "code",
   "execution_count": null,
   "id": "d9a40626",
   "metadata": {},
   "outputs": [],
   "source": [
    "# b è un vettore 2-dimensionale (matrice) con 2 righe e 3 colonne\n",
    "matrice = np.array([(1, 2, 3), (4, 5, 6)])\n",
    "matrice"
   ]
  },
  {
   "cell_type": "code",
   "execution_count": null,
   "id": "3a5185c1",
   "metadata": {},
   "outputs": [],
   "source": [
    "type(matrice)"
   ]
  },
  {
   "cell_type": "code",
   "execution_count": null,
   "id": "2c4a6d1c",
   "metadata": {},
   "outputs": [],
   "source": [
    "matrice.shape"
   ]
  },
  {
   "cell_type": "markdown",
   "id": "a1b7b65e-68c1-4586-9140-d68b9d53c345",
   "metadata": {},
   "source": [
    "L'attributo `dtype` contiene il tipo degli oggetti contenuti nel vettore."
   ]
  },
  {
   "cell_type": "code",
   "execution_count": null,
   "id": "20515747",
   "metadata": {},
   "outputs": [],
   "source": [
    "# Vettore contiene interi in base 64\n",
    "vettore.dtype"
   ]
  },
  {
   "cell_type": "code",
   "execution_count": null,
   "id": "1450a3e6",
   "metadata": {},
   "outputs": [],
   "source": [
    "vettore_float = np.array([1.2, 2.5, 7.8])\n",
    "vettore_float"
   ]
  },
  {
   "cell_type": "code",
   "execution_count": null,
   "id": "6557f745",
   "metadata": {},
   "outputs": [],
   "source": [
    "# È sempre un'istanze di ndarray\n",
    "type(vettore_float)"
   ]
  },
  {
   "cell_type": "code",
   "execution_count": null,
   "id": "36883d22",
   "metadata": {},
   "outputs": [],
   "source": [
    "# Ma il suo dtype è float64 \n",
    "vettore_float.dtype"
   ]
  },
  {
   "cell_type": "markdown",
   "id": "0945bc15-7c5e-48ae-a2f6-d0e1bcd17fce",
   "metadata": {},
   "source": [
    "Il `dtype` può essere specificato quando si inizializza un oggetto di tipo `ndarray`"
   ]
  },
  {
   "cell_type": "code",
   "execution_count": null,
   "id": "425e5ce2",
   "metadata": {},
   "outputs": [],
   "source": [
    "# Senza specificare il dtype sarebbe int \n",
    "# ma forziamo la conversione a float\n",
    "vettore_float = np.array([0, 1, 2], dtype = float)"
   ]
  },
  {
   "cell_type": "code",
   "execution_count": null,
   "id": "350a6086",
   "metadata": {},
   "outputs": [],
   "source": [
    "vettore_float"
   ]
  },
  {
   "cell_type": "code",
   "execution_count": null,
   "id": "ec042e53",
   "metadata": {},
   "outputs": [],
   "source": [
    "vettore_float.dtype"
   ]
  },
  {
   "cell_type": "markdown",
   "id": "38738446-17fb-4d65-b6ee-3de57f3d8b75",
   "metadata": {},
   "source": [
    "NumPy mette a disposizone parecchie funzioni per creare vettori speciali."
   ]
  },
  {
   "cell_type": "markdown",
   "id": "349b88d0",
   "metadata": {},
   "source": [
    "`numpy.zeros(shape, dtype)` restituisce un nuovo vettore avente una certa shape e dtype, con tutti gli elementi uguali a zero."
   ]
  },
  {
   "cell_type": "code",
   "execution_count": null,
   "id": "c136a8cd",
   "metadata": {},
   "outputs": [],
   "source": [
    "# Una matrice 2x2 di zeri con dtype float \n",
    "mat = np.zeros((2, 2))\n",
    "print(mat, mat.shape, mat.dtype)"
   ]
  },
  {
   "cell_type": "markdown",
   "id": "f1c4d2c3",
   "metadata": {},
   "source": [
    "`numpy.ones(shape, dtype)` restituisce un nuovo vettore avente una certa shape e dtype, con tutti gli elementi uguali a uno."
   ]
  },
  {
   "cell_type": "code",
   "execution_count": null,
   "id": "9d2e5f48",
   "metadata": {},
   "outputs": [],
   "source": [
    "# Una matrice 3x4 di zeri con dtype int \n",
    "mat = np.ones((3, 4), dtype = int)\n",
    "print(mat, mat.shape, mat.dtype)"
   ]
  },
  {
   "cell_type": "markdown",
   "id": "25b14a29",
   "metadata": {},
   "source": [
    "`numpy.empty(shape, dtype)` restituisce un nuovo vettore avente una certa shape e dtype, senza inizializzare gli elementi."
   ]
  },
  {
   "cell_type": "code",
   "execution_count": null,
   "id": "26f0f844",
   "metadata": {},
   "outputs": [],
   "source": [
    "# Una matrice 3x4 di elementi non inizializzati con dtype float \n",
    "np.empty((4, 1))"
   ]
  },
  {
   "attachments": {},
   "cell_type": "markdown",
   "id": "2146c362-959c-48ff-b44d-7746f0cac92e",
   "metadata": {},
   "source": [
    "Comunemente anche se la classe `ndarray` permette di istanziare vettori di \n",
    "ogni dimensione tipicamente ci si riferisce alle diverse dimensioni in modo diverso:\n",
    "\n",
    "- 0D: scalare\n",
    "- 1D: vettore\n",
    "- 2D: matrice\n",
    "- 3D+: tensore"
   ]
  },
  {
   "cell_type": "code",
   "execution_count": null,
   "id": "2826c35a",
   "metadata": {},
   "outputs": [],
   "source": [
    "# Un tensore 2x3x4 con tutti gli elementi a 1\n",
    "tensore = np.ones((2, 3, 4))\n",
    "tensore"
   ]
  },
  {
   "cell_type": "markdown",
   "id": "812faec8",
   "metadata": {},
   "source": [
    "Gli oggetti di tipo `ndarray` possono essere indicizzati con la sintassi standard di Python, ovvero `array[index]` come nel caso delle liste."
   ]
  },
  {
   "cell_type": "code",
   "execution_count": null,
   "id": "5037afc6",
   "metadata": {},
   "outputs": [],
   "source": [
    "vettore"
   ]
  },
  {
   "cell_type": "code",
   "execution_count": null,
   "id": "60723cef",
   "metadata": {},
   "outputs": [],
   "source": [
    "# L'elemento di posto 0\n",
    "vettore[0]"
   ]
  },
  {
   "cell_type": "code",
   "execution_count": null,
   "id": "b5b5c8b2",
   "metadata": {},
   "outputs": [],
   "source": [
    "# Gli elementi dal secondo in poi\n",
    "vettore[1:]"
   ]
  },
  {
   "cell_type": "code",
   "execution_count": null,
   "id": "e07c47e8",
   "metadata": {},
   "outputs": [],
   "source": [
    "matrice"
   ]
  },
  {
   "cell_type": "code",
   "execution_count": null,
   "id": "f50a66ce",
   "metadata": {},
   "outputs": [],
   "source": [
    "# L'elemento di posto 0 è la prima riga\n",
    "matrice[0]"
   ]
  },
  {
   "cell_type": "code",
   "execution_count": null,
   "id": "8adedb05",
   "metadata": {},
   "outputs": [],
   "source": [
    "# L'elemento di posto 1 è la seconda riga\n",
    "matrice[1]"
   ]
  },
  {
   "cell_type": "code",
   "execution_count": null,
   "id": "ea199726",
   "metadata": {},
   "outputs": [],
   "source": [
    "# Per estrarre un solo elemento dobbiamo usare due indici \n",
    "# uno per ogni dimensione\n",
    "matrice[0][1]"
   ]
  },
  {
   "cell_type": "code",
   "execution_count": null,
   "id": "98e26f53",
   "metadata": {},
   "outputs": [],
   "source": [
    "# Equivalentemente in una sola parentesi\n",
    "matrice[0, 1]"
   ]
  },
  {
   "cell_type": "markdown",
   "id": "3fb60402",
   "metadata": {},
   "source": [
    "Con gli `ndarrray` si possono eseguire anche indicizzazioni più complesse per esempio usando le liste."
   ]
  },
  {
   "cell_type": "code",
   "execution_count": null,
   "id": "7e01ad47",
   "metadata": {},
   "outputs": [],
   "source": [
    "vettore"
   ]
  },
  {
   "cell_type": "code",
   "execution_count": null,
   "id": "b23b742c",
   "metadata": {},
   "outputs": [],
   "source": [
    "# Nuovo vettore che contiene gli elementi estratti \n",
    "# da vettore usando gli indici della lista\n",
    "vettore[[0, 0, 1, 0]]"
   ]
  },
  {
   "cell_type": "code",
   "execution_count": null,
   "id": "a5083b4c",
   "metadata": {},
   "outputs": [],
   "source": [
    "l = [1, 2, 3]"
   ]
  },
  {
   "cell_type": "code",
   "execution_count": null,
   "id": "917e696e",
   "metadata": {},
   "outputs": [],
   "source": [
    "l[1:]"
   ]
  },
  {
   "cell_type": "code",
   "execution_count": null,
   "id": "8a14cdeb",
   "metadata": {},
   "outputs": [],
   "source": [
    "l[0]"
   ]
  },
  {
   "cell_type": "code",
   "execution_count": null,
   "id": "1ef6ceaa",
   "metadata": {},
   "outputs": [],
   "source": [
    "# La stessa cosa non si può fare con le liste\n",
    "l[[0, 0, 1, 0]]"
   ]
  },
  {
   "cell_type": "markdown",
   "id": "02860ca0-5764-47a4-a9cf-8ad924ca466f",
   "metadata": {},
   "source": [
    "Ai vettori si possono applicare gli operaratori di confronto: se si confronta un vettore con uno scalare si ottiene un vettore contenente i confronti elemento per elemento."
   ]
  },
  {
   "cell_type": "code",
   "execution_count": null,
   "id": "a5085846",
   "metadata": {},
   "outputs": [],
   "source": [
    "x = np.array([20, 30, 40, 50])\n",
    "x"
   ]
  },
  {
   "cell_type": "code",
   "execution_count": null,
   "id": "c592a476",
   "metadata": {},
   "outputs": [],
   "source": [
    "x > 35"
   ]
  },
  {
   "cell_type": "markdown",
   "id": "7a5e0dc2-d42f-4ce8-a960-fb49ebaf35a5",
   "metadata": {},
   "source": [
    "Vettori boolenni come quello appena ottenuto possono a loro volta essere usati per indicizzare un vettore della medesima dimesione."
   ]
  },
  {
   "cell_type": "code",
   "execution_count": null,
   "id": "dd4a36dd",
   "metadata": {},
   "outputs": [],
   "source": [
    "# Estraiamo il sottovettore degli elementi maggiori di 35\n",
    "x[x > 35]"
   ]
  },
  {
   "cell_type": "code",
   "execution_count": null,
   "id": "1b9f65f9",
   "metadata": {},
   "outputs": [],
   "source": [
    "# Stessa cosa con una lista di booleani\n",
    "x[[False, False,  True,  True]]"
   ]
  },
  {
   "cell_type": "markdown",
   "id": "eb5d216f",
   "metadata": {},
   "source": [
    "È possibile assegare un valore ad un sottoinsieme di un `ndarray`"
   ]
  },
  {
   "cell_type": "code",
   "execution_count": null,
   "id": "3b3ad10f",
   "metadata": {},
   "outputs": [],
   "source": [
    "tensore"
   ]
  },
  {
   "cell_type": "code",
   "execution_count": null,
   "id": "6407e92d",
   "metadata": {},
   "outputs": [],
   "source": [
    "tensore[0, 0, 2] = 5\n",
    "tensore"
   ]
  },
  {
   "cell_type": "code",
   "execution_count": null,
   "id": "691c46c9-a033-4f9d-aeb3-4d048f03e3bf",
   "metadata": {},
   "outputs": [],
   "source": [
    "tensore[0, 0, 2:] = 5\n",
    "tensore"
   ]
  },
  {
   "cell_type": "markdown",
   "id": "7bfe2705",
   "metadata": {},
   "source": [
    "`numpy.arange` è l'analogo in Numpy di `range`."
   ]
  },
  {
   "cell_type": "code",
   "execution_count": null,
   "id": "8c2a419c",
   "metadata": {},
   "outputs": [],
   "source": [
    "list(range(0, 10))"
   ]
  },
  {
   "cell_type": "code",
   "execution_count": null,
   "id": "a9f5422c",
   "metadata": {},
   "outputs": [],
   "source": [
    "np.arange(0, 10)"
   ]
  },
  {
   "cell_type": "code",
   "execution_count": null,
   "id": "195f7e7d",
   "metadata": {},
   "outputs": [],
   "source": [
    "list(range(0, 10, 2))"
   ]
  },
  {
   "cell_type": "code",
   "execution_count": null,
   "id": "cd2cb889",
   "metadata": {},
   "outputs": [],
   "source": [
    "np.arange(0, 10, 2)"
   ]
  },
  {
   "cell_type": "markdown",
   "id": "3daf663a",
   "metadata": {},
   "source": [
    "`numpy.linspace(a, b, n)` restituisce un vettore avente un specifico numero di elementi `n` equispaziati su un certo intervallo [`a`,`b`]."
   ]
  },
  {
   "cell_type": "code",
   "execution_count": null,
   "id": "0faeeacc",
   "metadata": {},
   "outputs": [],
   "source": [
    "np.linspace(0, 10, 2)"
   ]
  },
  {
   "cell_type": "code",
   "execution_count": null,
   "id": "ec89b093",
   "metadata": {},
   "outputs": [],
   "source": [
    "np.linspace(0, 8, 5)"
   ]
  },
  {
   "cell_type": "markdown",
   "id": "df8d35fe-5945-4a0b-8a7e-051e885d2155",
   "metadata": {},
   "source": [
    "Di deafult il valore di `b` è incluso con `endpoint=False` si ottiene il seguente risultato."
   ]
  },
  {
   "cell_type": "code",
   "execution_count": null,
   "id": "78bfde81",
   "metadata": {},
   "outputs": [],
   "source": [
    "np.linspace(0, 8, 5, endpoint = False)"
   ]
  },
  {
   "cell_type": "code",
   "execution_count": null,
   "id": "be594aa5-9c40-41e3-ae34-06483f18c30c",
   "metadata": {},
   "outputs": [],
   "source": [
    "np.linspace(0, 8, 7)"
   ]
  },
  {
   "cell_type": "markdown",
   "id": "12664f07-eac8-4fc6-a9e2-76dfe93f0b9e",
   "metadata": {},
   "source": [
    "### Operazioni fra vettori"
   ]
  },
  {
   "cell_type": "markdown",
   "id": "83bc1998-f786-451d-b5da-bb76752c12e9",
   "metadata": {},
   "source": [
    "Con gli `ndarray` si possono eseguire tutte le operazioni dell'algebra vettoriale."
   ]
  },
  {
   "cell_type": "code",
   "execution_count": null,
   "id": "052edb3f",
   "metadata": {},
   "outputs": [],
   "source": [
    "v1 = np.array([1, 2, 3])\n",
    "v2 = np.array([1.2, 2.5, 7.8])"
   ]
  },
  {
   "cell_type": "markdown",
   "id": "3bfb1954-642f-45eb-9ab6-3c36d5f5b26b",
   "metadata": {},
   "source": [
    "Sommando due vettori si ottiene la somma vettoriale fra i due che differeisce da quanto visto per le liste"
   ]
  },
  {
   "cell_type": "code",
   "execution_count": null,
   "id": "a9d6bb24",
   "metadata": {},
   "outputs": [],
   "source": [
    "v1 + v2"
   ]
  },
  {
   "cell_type": "code",
   "execution_count": null,
   "id": "73a3265a",
   "metadata": {},
   "outputs": [],
   "source": [
    "list(v1) + list(v2)"
   ]
  },
  {
   "cell_type": "markdown",
   "id": "36653059-b25a-48f0-aae0-8de6892a515f",
   "metadata": {},
   "source": [
    "Per sommare due liste come se fossero vettori dovremmo usare un ciclo for o una list comprehension"
   ]
  },
  {
   "cell_type": "code",
   "execution_count": null,
   "id": "dedb8b95",
   "metadata": {},
   "outputs": [],
   "source": [
    "somma = []\n",
    "for i in range(len(v1)):\n",
    "    somma.append(v1[i] + v2[i])\n",
    "somma"
   ]
  },
  {
   "cell_type": "code",
   "execution_count": null,
   "id": "1fa0f0a4",
   "metadata": {},
   "outputs": [],
   "source": [
    "[v1[i] + v2[i] for i in range(len(v1))]"
   ]
  },
  {
   "cell_type": "markdown",
   "id": "743cbde4-be6c-4b19-b28a-a82f8a843626",
   "metadata": {},
   "source": [
    "Come la somma tutte le altre opeazioni aritmetiche vengono eseguite elemento per elemento"
   ]
  },
  {
   "cell_type": "code",
   "execution_count": null,
   "id": "dcbaaf78",
   "metadata": {},
   "outputs": [],
   "source": [
    "v1 * v2"
   ]
  },
  {
   "cell_type": "code",
   "execution_count": null,
   "id": "7073d3e6",
   "metadata": {},
   "outputs": [],
   "source": [
    "v1 - v2"
   ]
  },
  {
   "cell_type": "code",
   "execution_count": null,
   "id": "34361dea",
   "metadata": {},
   "outputs": [],
   "source": [
    "v1 / v2"
   ]
  },
  {
   "cell_type": "code",
   "execution_count": null,
   "id": "d7a1bd95",
   "metadata": {},
   "outputs": [],
   "source": [
    "vettore"
   ]
  },
  {
   "cell_type": "code",
   "execution_count": null,
   "id": "3cf59085",
   "metadata": {},
   "outputs": [],
   "source": [
    "matrice"
   ]
  },
  {
   "cell_type": "markdown",
   "id": "900b186c-7da2-4f6a-ae31-ad18279cfc7f",
   "metadata": {},
   "source": [
    "Fintanto che le shape di due vettori sono compatibili anche se non uguali gli operatori aritmetici continuano ad essere utilizzabili con risultati spesso utili"
   ]
  },
  {
   "cell_type": "code",
   "execution_count": null,
   "id": "fc060c67-44a2-45de-9b3f-9092e87e3558",
   "metadata": {},
   "outputs": [],
   "source": [
    "print(matrice.shape, vettore.shape)"
   ]
  },
  {
   "cell_type": "markdown",
   "id": "19f0c417-dabc-46c9-b03f-70a41f8d624c",
   "metadata": {},
   "source": [
    "Qui vettore viene considerato come vettore riga (shape = (1, 3)) e quindi la sottrazzione funziona per righe poiché le dimensioni di colonna coincidono."
   ]
  },
  {
   "cell_type": "code",
   "execution_count": null,
   "id": "adc94aa9-e84b-45b7-9462-22ac1c1d52e1",
   "metadata": {},
   "outputs": [],
   "source": [
    "matrice - vettore"
   ]
  },
  {
   "cell_type": "code",
   "execution_count": null,
   "id": "fd75d90d-b294-4ef5-a7ee-ab9756a9a35a",
   "metadata": {},
   "outputs": [],
   "source": [
    "# Invece le shape (3, 3) e (2, 3) non sono compatibili\n",
    "np.zeros((3, 3)) - np.zeros((2, 3))"
   ]
  },
  {
   "cell_type": "markdown",
   "id": "b287f246",
   "metadata": {},
   "source": [
    "NumPy include al suo interno diverse costanti predefinite, come `Inf` e `pi`."
   ]
  },
  {
   "cell_type": "code",
   "execution_count": null,
   "id": "e952bb08",
   "metadata": {},
   "outputs": [],
   "source": [
    "np.pi"
   ]
  },
  {
   "cell_type": "code",
   "execution_count": null,
   "id": "5dae0062",
   "metadata": {},
   "outputs": [],
   "source": [
    "np.Inf"
   ]
  },
  {
   "cell_type": "code",
   "execution_count": null,
   "id": "fb3ad776",
   "metadata": {},
   "outputs": [],
   "source": [
    "type(np.Inf)"
   ]
  },
  {
   "cell_type": "code",
   "execution_count": null,
   "id": "d0748efd",
   "metadata": {},
   "outputs": [],
   "source": [
    "np.e"
   ]
  },
  {
   "cell_type": "markdown",
   "id": "499ce386-b44d-479e-a344-cf5f4bbbcf39",
   "metadata": {},
   "source": [
    "Al suo interno poi troviamo le funzioni matematematiche per esempio quelle trigonometriche quali $\\sin(x)$ e $\\cos(x)$."
   ]
  },
  {
   "cell_type": "code",
   "execution_count": null,
   "id": "607689d1",
   "metadata": {},
   "outputs": [],
   "source": [
    "np.cos(0)"
   ]
  },
  {
   "cell_type": "code",
   "execution_count": null,
   "id": "bb10b913",
   "metadata": {},
   "outputs": [],
   "source": [
    "np.sin(0)"
   ]
  },
  {
   "cell_type": "markdown",
   "id": "491c3bbb-2a12-4b81-9410-b868a5ed9834",
   "metadata": {},
   "source": [
    "Come abbiamo detto le operazioni aritmetiche lavorano elemento per elemento. \n",
    "Ma nel caso delle matrici il prodotto matriciale non è quello elemento per elemento.\n",
    "\n",
    "In algebra lineare se due matrici $A$ di dimensioni $n\\times m$ e $B$ di dimensioni \n",
    "$m \\times p$ vengono moltiplicate la matrice prodotto di dimensioni $n\\times p$ si calcola con\n",
    "$$\n",
    "(A \\cdot B)_{ij} = \\biggl(\\sum_{k=1}^m a_{ik} b_{kj}\\biggr) \n",
    "$$"
   ]
  },
  {
   "cell_type": "code",
   "execution_count": null,
   "id": "349dc086-de26-44bb-8ac9-dd191f6e76b5",
   "metadata": {},
   "outputs": [],
   "source": [
    "# Definiamo due matrici 2x2\n",
    "A = np.array([[1, 1], [0, 1]])\n",
    "B = np.array([[2, 0], [3, 4]])"
   ]
  },
  {
   "cell_type": "code",
   "execution_count": null,
   "id": "761bd4be",
   "metadata": {},
   "outputs": [],
   "source": [
    "A, B"
   ]
  },
  {
   "cell_type": "code",
   "execution_count": null,
   "id": "b6e83ce6",
   "metadata": {},
   "outputs": [],
   "source": [
    "A + B"
   ]
  },
  {
   "cell_type": "markdown",
   "id": "05027df5-1f0e-4833-a601-ded006e8da1d",
   "metadata": {},
   "source": [
    "\\* produce il prodotto elemento per elemento (se le shape sono compatibili)"
   ]
  },
  {
   "cell_type": "code",
   "execution_count": null,
   "id": "2dfa024f",
   "metadata": {},
   "outputs": [],
   "source": [
    "A * B"
   ]
  },
  {
   "cell_type": "markdown",
   "id": "addb7597-e11f-44eb-a552-c781f97ba0ce",
   "metadata": {},
   "source": [
    "@ produce il prodotto matriciale (se le matrici sono moltiplicabili)"
   ]
  },
  {
   "cell_type": "code",
   "execution_count": null,
   "id": "96921c74",
   "metadata": {},
   "outputs": [],
   "source": [
    "A @ B"
   ]
  },
  {
   "cell_type": "markdown",
   "id": "9a0ffd3d-6497-4dd1-82f0-b5c408e13c3d",
   "metadata": {},
   "source": [
    "La stessa cosa si può ottenere anche con le funzioni `matmul` o `dot` del modulo NumPy"
   ]
  },
  {
   "cell_type": "code",
   "execution_count": null,
   "id": "edf1768c",
   "metadata": {},
   "outputs": [],
   "source": [
    "np.matmul(A, B)"
   ]
  },
  {
   "cell_type": "code",
   "execution_count": null,
   "id": "87262d5e",
   "metadata": {},
   "outputs": [],
   "source": [
    "np.dot(A, B)"
   ]
  },
  {
   "cell_type": "markdown",
   "id": "2ccb6db7-e319-400f-8e49-9c7ba1a3f210",
   "metadata": {},
   "source": [
    "Nel caso di vettori dimensionali con $n$ elementi invece `dot` restituisce il prodotto scalare\n",
    "$$\n",
    "<a, b> = \\sum_{i=1}^n a_i b_i\n",
    "$$"
   ]
  },
  {
   "cell_type": "code",
   "execution_count": null,
   "id": "a58d5aeb",
   "metadata": {},
   "outputs": [],
   "source": [
    "np.dot(v1, v2)"
   ]
  },
  {
   "cell_type": "markdown",
   "id": "36bef282-e796-4e92-8e0d-4516a93c4eab",
   "metadata": {},
   "source": [
    "Nella libreria sono poi definite molte funzioni (che possono essere chiamate anche come metodi delle istaze di `ndarray`) per il calcolo di funzioni di natura statistica."
   ]
  },
  {
   "cell_type": "code",
   "execution_count": null,
   "id": "4507e150",
   "metadata": {},
   "outputs": [],
   "source": [
    "# Minimo\n",
    "np.min(vettore), vettore.min()"
   ]
  },
  {
   "cell_type": "code",
   "execution_count": null,
   "id": "00820e84",
   "metadata": {},
   "outputs": [],
   "source": [
    "# Massimo\n",
    "np.max(vettore), vettore.max()"
   ]
  },
  {
   "cell_type": "code",
   "execution_count": null,
   "id": "29d31caf",
   "metadata": {},
   "outputs": [],
   "source": [
    "# Media aritmetica\n",
    "np.mean(vettore), vettore.mean()"
   ]
  },
  {
   "cell_type": "code",
   "execution_count": null,
   "id": "07b09ea2",
   "metadata": {},
   "outputs": [],
   "source": [
    "# Deviazione standard\n",
    "np.std(vettore), vettore.std()"
   ]
  },
  {
   "cell_type": "code",
   "execution_count": null,
   "id": "b221e564",
   "metadata": {},
   "outputs": [],
   "source": [
    "# Varianza\n",
    "np.var(vettore), vettore.var()"
   ]
  },
  {
   "cell_type": "markdown",
   "id": "75af9cc9-4de7-4588-be4e-e0737713815e",
   "metadata": {},
   "source": [
    "Per esempio la funzione che calcola la mediana invece non è disponibile come metodo di classe poiché in generale non è definita per i vettori multidimensionali."
   ]
  },
  {
   "cell_type": "code",
   "execution_count": null,
   "id": "5eb0ca7b-e242-4c7f-8bb4-5b9747e87980",
   "metadata": {},
   "outputs": [],
   "source": [
    "np.median(vettore)"
   ]
  },
  {
   "cell_type": "code",
   "execution_count": null,
   "id": "07aa24a6-8d3c-4084-8c2c-a134eae3000b",
   "metadata": {},
   "outputs": [],
   "source": [
    "vettore.median()"
   ]
  },
  {
   "cell_type": "markdown",
   "id": "9d786903",
   "metadata": {},
   "source": [
    "Il metodo `reshape` cambia la shape del vettore senza cambiare i dati contenuti in esso."
   ]
  },
  {
   "cell_type": "code",
   "execution_count": null,
   "id": "607ce79b",
   "metadata": {},
   "outputs": [],
   "source": [
    "vec = np.arange(12)\n",
    "vec"
   ]
  },
  {
   "cell_type": "code",
   "execution_count": null,
   "id": "be4097ad",
   "metadata": {},
   "outputs": [],
   "source": [
    "vec.shape"
   ]
  },
  {
   "cell_type": "code",
   "execution_count": null,
   "id": "6c538ad7",
   "metadata": {},
   "outputs": [],
   "source": [
    "# Cambiamo la shape di vec da (12, 1) a (3, 4)\n",
    "mat = vec.reshape(3, 4)\n",
    "mat"
   ]
  },
  {
   "cell_type": "code",
   "execution_count": null,
   "id": "b8b8bc6a",
   "metadata": {},
   "outputs": [],
   "source": [
    "mat.shape"
   ]
  },
  {
   "cell_type": "code",
   "execution_count": null,
   "id": "0c9f8246",
   "metadata": {},
   "outputs": [],
   "source": [
    "vec.sum()"
   ]
  },
  {
   "cell_type": "markdown",
   "id": "d50887f8-7f0d-4feb-be32-7149b84c2098",
   "metadata": {},
   "source": [
    "I metodi `min`, `max`, `sum`... possono essere calcolati solo su alcune dimensioni di un `ndarray`."
   ]
  },
  {
   "cell_type": "code",
   "execution_count": null,
   "id": "598cbb7e",
   "metadata": {},
   "outputs": [],
   "source": [
    "# Somma per colonne ovvero lungo la prima dimensione\n",
    "mat.sum(axis = 0)"
   ]
  },
  {
   "cell_type": "code",
   "execution_count": null,
   "id": "4b4d58a0",
   "metadata": {},
   "outputs": [],
   "source": [
    "# Somma per righe ovvero lungo la seconda dimensione\n",
    "mat.sum(axis = 1)"
   ]
  },
  {
   "cell_type": "markdown",
   "id": "d831a188-9d7e-4300-925a-e3c821674fbf",
   "metadata": {},
   "source": [
    "Si può passare -1 al metodo reshape per far calcolare a NumPy il numero di elementi in quella dimensione"
   ]
  },
  {
   "cell_type": "code",
   "execution_count": null,
   "id": "b9f0b420",
   "metadata": {},
   "outputs": [],
   "source": [
    "# Vogliamo mat con una shape di una sola dimensione quindi di 12 elementi\n",
    "vec2 = mat.reshape(-1)\n",
    "vec2"
   ]
  },
  {
   "cell_type": "code",
   "execution_count": null,
   "id": "e4875c33",
   "metadata": {},
   "outputs": [],
   "source": [
    "mat.reshape(3, -1)"
   ]
  },
  {
   "cell_type": "markdown",
   "id": "3dd3ec8e",
   "metadata": {},
   "source": [
    "`numpy.ravel` permette di 'appiattire' un array ad una sola dimansione."
   ]
  },
  {
   "cell_type": "code",
   "execution_count": null,
   "id": "66c3d0f6",
   "metadata": {},
   "outputs": [],
   "source": [
    "# Equivalente a mat.reshape(-1)\n",
    "np.ravel(mat)"
   ]
  },
  {
   "cell_type": "markdown",
   "id": "4c8083b6-980e-41cc-aff8-44832bd2cc18",
   "metadata": {},
   "source": [
    "Il modulo `random` che abbiamo già introdotto è usatro per la generazione di numeri pseudo casuali."
   ]
  },
  {
   "cell_type": "code",
   "execution_count": null,
   "id": "97fe7b69",
   "metadata": {},
   "outputs": [],
   "source": [
    "import random"
   ]
  },
  {
   "cell_type": "code",
   "execution_count": null,
   "id": "239991ca",
   "metadata": {},
   "outputs": [],
   "source": [
    "random.randint(0, 10)"
   ]
  },
  {
   "cell_type": "markdown",
   "id": "e67c7ecf-7e86-409e-8ba5-409392eb4817",
   "metadata": {},
   "source": [
    "Anche NumPy ha un sottomodulo random che permette di generare vettori i cui elementi sono numeri pseuso casuali."
   ]
  },
  {
   "cell_type": "markdown",
   "id": "e1e53050",
   "metadata": {},
   "source": [
    "`numpy.random.normal(mean=0.0, std=1.0, shape)` genera vettori estratti da una distribuzione Gaussiana.\n",
    "$$\n",
    "\\mathcal{N}(\\mu, \\sigma^2)\n",
    "$$"
   ]
  },
  {
   "cell_type": "code",
   "execution_count": null,
   "id": "fd545166",
   "metadata": {},
   "outputs": [],
   "source": [
    "# Vettore di dimensione 10 estratto da N(0,1) normale standard\n",
    "np.random.normal(10)"
   ]
  },
  {
   "cell_type": "code",
   "execution_count": null,
   "id": "08b804ac",
   "metadata": {},
   "outputs": [],
   "source": [
    "mu = 0\n",
    "sigma = 1\n",
    "\n",
    "sample = np.random.normal(mu, sigma, 100)"
   ]
  },
  {
   "cell_type": "markdown",
   "id": "11b1a116-b685-4819-8c5a-33a95d20aa3c",
   "metadata": {},
   "source": [
    "Se calcoliamo le stime campionarie di media e deviazione standard otteniamo i risultati attesi"
   ]
  },
  {
   "cell_type": "code",
   "execution_count": null,
   "id": "69a13ed4",
   "metadata": {},
   "outputs": [],
   "source": [
    "sample.mean(), sample.std()"
   ]
  },
  {
   "cell_type": "markdown",
   "id": "de6f59b4-a126-4a76-9d7e-febb2d3c1a83",
   "metadata": {},
   "source": [
    "La stima diventa più precisa all'aumentare della dimensione del campione"
   ]
  },
  {
   "cell_type": "code",
   "execution_count": null,
   "id": "703b1ffd",
   "metadata": {},
   "outputs": [],
   "source": [
    "sample = np.random.normal(mu, sigma, 10000)\n",
    "sample.mean(), sample.std()"
   ]
  },
  {
   "cell_type": "markdown",
   "id": "e9266354-5585-49f6-abb6-1af6216b2b1c",
   "metadata": {},
   "source": [
    "`random.uniform(low=0.0, high=1.0, size=None)` genera vettori estratti da una distribuzione Uniforme.\n",
    "$$\n",
    "\\mathcal{U}([low, high))\n",
    "$$"
   ]
  },
  {
   "cell_type": "code",
   "execution_count": null,
   "id": "8f440449-6748-476a-920c-d8fce9339768",
   "metadata": {},
   "outputs": [],
   "source": [
    "# Vettore di dimensione 10 estratto da N(0,1) normale standard\n",
    "np.random.uniform(0, 1, 10)"
   ]
  },
  {
   "cell_type": "code",
   "execution_count": null,
   "id": "27467b36-2584-43fd-86e2-ba0fd1cc10bb",
   "metadata": {},
   "outputs": [],
   "source": [
    "np.random.uniform(0, 1, (5, 5))"
   ]
  },
  {
   "cell_type": "markdown",
   "id": "2a142fed-0e01-49d4-b7e1-e2868b3cb013",
   "metadata": {},
   "source": [
    "## Esercizi"
   ]
  },
  {
   "cell_type": "markdown",
   "id": "73603c05-5235-4319-a4a7-ce7ebe117c3a",
   "metadata": {},
   "source": [
    "Definire la funzione `inversa`. Tale funzione prende in ingresso una matrice e \n",
    "- per prima cosa controlla che sia una matrice e che sia quadrata, altrimenti restituisce un errore e termina la funzione restituendo `None`. \n",
    "- calcola il determinante della matrice con la funzione `numpy.linalg.det(matrice)`\n",
    "- se il determinante è maggiore di 0.0001 calcola la matrice inversa con la funzione `numpy.linalg.inv(matrice)` e la restituisce come output."
   ]
  },
  {
   "cell_type": "code",
   "execution_count": null,
   "id": "2c94a67b-4c90-4868-a9c1-5774fa3ea83c",
   "metadata": {},
   "outputs": [],
   "source": []
  },
  {
   "cell_type": "markdown",
   "id": "cb16714f-f0c8-4b2d-a2e0-28f4032c7d33",
   "metadata": {},
   "source": [
    "Definite le matrici e i vettori\n",
    "$$\n",
    "A = \\begin{pmatrix}\n",
    "    0 & 1 & 2\\\\\n",
    "    -1 & 2 & 1\\\\\n",
    "    1 & 0 & -2\\\\\n",
    "    \\end{pmatrix}\\quad\n",
    "B = \\begin{pmatrix}\n",
    "3 & 2\\\\\n",
    "0 & -1\\\\\n",
    "1 & 1 \\\\\n",
    "\\end{pmatrix}\\quad\n",
    "v = \\begin{pmatrix}\n",
    "1\\\\\n",
    "-1\\\\\n",
    "1 \\\\\n",
    "\\end{pmatrix}\\quad\n",
    "w = \\begin{pmatrix}\n",
    "0\\\\\n",
    "-1\\\\\n",
    "2 \\\\\n",
    "\\end{pmatrix}\n",
    "$$\n",
    "calcolare $AB$, $Av$, $Av + w$ e $<Av, Aw>$"
   ]
  },
  {
   "cell_type": "code",
   "execution_count": null,
   "id": "1d52eb76-fbef-4c4c-8f00-f48a7ed10fa4",
   "metadata": {},
   "outputs": [],
   "source": []
  },
  {
   "cell_type": "markdown",
   "id": "dc6c34cd-0eec-452e-8eb7-b37e63c95951",
   "metadata": {},
   "source": [
    "Istanziare un tensore di dimensioni (5, 3, 3) le cui entrate sono estratte da una distribuzione normale standard.\n",
    "\n",
    "Dopodiché sostituire tutti e soli i valori negativi con 0.\n",
    "\n",
    "Calcolare media, varianza e mediana del tensore ottenuto."
   ]
  },
  {
   "cell_type": "code",
   "execution_count": null,
   "id": "0cc21d18-7543-4b78-bd42-d9171712debf",
   "metadata": {},
   "outputs": [],
   "source": []
  },
  {
   "cell_type": "markdown",
   "id": "d9832ebe-64c0-4515-a8f6-4a74872326b7",
   "metadata": {},
   "source": [
    "Scrivere una funzione che:\n",
    "- prende in ingresso una matrice $X$ di dimensione ($n$, $m$)\n",
    "- restituisce una matrice $Y$ di dimensione ($n$, 2) contenente le medie e le varianza per riga di $X$."
   ]
  },
  {
   "cell_type": "code",
   "execution_count": null,
   "id": "45b7e31b-e7d0-4f16-95be-368595824771",
   "metadata": {},
   "outputs": [],
   "source": []
  },
  {
   "cell_type": "markdown",
   "id": "ffeb4c11-8336-4c01-900f-83115c11a4c4",
   "metadata": {},
   "source": [
    "Creare una classe `Titolo` che rappresenta un titolo misurato anno per anno. La classe dovrà avere i seguenti attributi:\n",
    "- `nome`: string, nome del titolo\n",
    "- `titolo`: numpy.array, vettore contenente le rilevazioni del titolo\n",
    "- `periodo`: numpy.array, vettore contenente i periodi corrispondenti alle rilevazioni\n",
    "\n",
    "e i seguenti metodi:\n",
    "- `__len__` calcola la lunghezza del titolo.\n",
    "- `indice_base_fissa(base)` che restituisce l'indice a base fissa calcolato con base il periodo `base`.\n",
    "- `indice_base_mobile()` che restituisce l'indice a base mobile del titolo.\n",
    "- `variazione_media(t1, t2)` che restituisce la variazione media del titolo fra il periodo `t1` e il periodo `t2`. \n",
    "\n",
    "Definire poi una funzione che, preso in ingresso un `Titolo` resituisca la matrice $M$ di dimensione ($n$, 4) con $n$ la lunghezza del titolo. La matrice $M$ contiene nella prima colonna il periodo, nella seconda il titolo, nella terza l'indice a base fissa (con base il primo periodo) e nella quarta l'indice a base mobile. "
   ]
  },
  {
   "cell_type": "code",
   "execution_count": null,
   "id": "e0d5ff93-36e7-42ee-95a7-724eec90915b",
   "metadata": {},
   "outputs": [],
   "source": []
  }
 ],
 "metadata": {
  "kernelspec": {
   "display_name": "Python 3 (ipykernel)",
   "language": "python",
   "name": "python3"
  },
  "language_info": {
   "codemirror_mode": {
    "name": "ipython",
    "version": 3
   },
   "file_extension": ".py",
   "mimetype": "text/x-python",
   "name": "python",
   "nbconvert_exporter": "python",
   "pygments_lexer": "ipython3",
   "version": "3.12.2"
  }
 },
 "nbformat": 4,
 "nbformat_minor": 5
}
