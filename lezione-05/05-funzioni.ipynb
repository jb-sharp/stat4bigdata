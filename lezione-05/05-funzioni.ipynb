{
 "cells": [
  {
   "cell_type": "markdown",
   "id": "33918036",
   "metadata": {},
   "source": [
    "# Funzioni\n",
    "\n",
    "Una **funzione** è un gruppo di comandi che eseguono un determinato compito: serve ad evitare ripetizioni e rendere il codice riutilizzabile. Una funzione viene definita in Python utilizzando la seguente sintassi:\n",
    "\n",
    "```\n",
    "def function(parameters):\n",
    "    <statement>\n",
    "```"
   ]
  },
  {
   "cell_type": "code",
   "execution_count": null,
   "id": "164e81bd",
   "metadata": {},
   "outputs": [],
   "source": []
  },
  {
   "cell_type": "markdown",
   "id": "e10e0c5d",
   "metadata": {},
   "source": [
    "Per chiamare una funzione, ne scriviamo semplicemente il nome seguito da eventuali parametri tra parentesi."
   ]
  },
  {
   "cell_type": "code",
   "execution_count": null,
   "id": "2db46119",
   "metadata": {},
   "outputs": [],
   "source": []
  },
  {
   "cell_type": "markdown",
   "id": "77ce250a",
   "metadata": {},
   "source": [
    "Possono essere passate delle informazioni ad una funzione come **parametri**. I parametri sono specificati dopo il nome della funzione, all'interno delle parentesi. Possono essere aggiunti quanti parametri si vuole, separati da virgole."
   ]
  },
  {
   "cell_type": "code",
   "execution_count": null,
   "id": "7799311e",
   "metadata": {},
   "outputs": [],
   "source": []
  },
  {
   "cell_type": "code",
   "execution_count": null,
   "id": "f3e9e1b1",
   "metadata": {},
   "outputs": [],
   "source": []
  },
  {
   "cell_type": "markdown",
   "id": "977f193a",
   "metadata": {},
   "source": [
    "I *valori di default* indicano che il valore che il parametro della funzione assumerà nel caso in cui nessun valore venga specificato in fase di chiamata. I valori di default si specificano utilizzando l'operatore di assegnazione `=` nella forma `chiave=valore`."
   ]
  },
  {
   "cell_type": "code",
   "execution_count": null,
   "id": "d4b064fb",
   "metadata": {},
   "outputs": [],
   "source": []
  },
  {
   "cell_type": "code",
   "execution_count": null,
   "id": "a72dacc3",
   "metadata": {},
   "outputs": [],
   "source": []
  },
  {
   "cell_type": "code",
   "execution_count": null,
   "id": "75a603f1",
   "metadata": {},
   "outputs": [],
   "source": []
  },
  {
   "cell_type": "markdown",
   "id": "5f4a462b",
   "metadata": {},
   "source": [
    "`*args` permette di passare un valore variabile di parametri alla funzione."
   ]
  },
  {
   "cell_type": "code",
   "execution_count": null,
   "id": "0ce829f7",
   "metadata": {},
   "outputs": [],
   "source": []
  },
  {
   "cell_type": "code",
   "execution_count": null,
   "id": "3dd14c2e",
   "metadata": {},
   "outputs": [],
   "source": []
  },
  {
   "cell_type": "markdown",
   "id": "5649a463",
   "metadata": {},
   "source": [
    "## `return`\n",
    "\n",
    "Il comando `return` è utilizzato all'interno di una funzione per restituirne il valore."
   ]
  },
  {
   "cell_type": "code",
   "execution_count": null,
   "id": "ab00a05b",
   "metadata": {
    "scrolled": true
   },
   "outputs": [],
   "source": []
  },
  {
   "cell_type": "code",
   "execution_count": null,
   "id": "12d2a24d",
   "metadata": {
    "scrolled": true
   },
   "outputs": [],
   "source": []
  },
  {
   "cell_type": "code",
   "execution_count": null,
   "id": "bc3fb8dc",
   "metadata": {},
   "outputs": [],
   "source": []
  },
  {
   "cell_type": "code",
   "execution_count": null,
   "id": "84ab2ce4",
   "metadata": {},
   "outputs": [],
   "source": []
  },
  {
   "cell_type": "code",
   "execution_count": null,
   "id": "54d4eeaa",
   "metadata": {},
   "outputs": [],
   "source": []
  },
  {
   "cell_type": "code",
   "execution_count": null,
   "id": "5a1b0fc2",
   "metadata": {},
   "outputs": [],
   "source": []
  },
  {
   "cell_type": "code",
   "execution_count": null,
   "id": "a3e8da46",
   "metadata": {},
   "outputs": [],
   "source": []
  },
  {
   "cell_type": "markdown",
   "id": "2549dcc8",
   "metadata": {},
   "source": [
    "## Ricorsione\n",
    "\n",
    "Il processo per il quale una funzione chiama se stessa direttamente o indirettamente è chiamato **ricorsione** e la corrispondente funzione è chiamata *funzione ricorsiva*.\n",
    "\n",
    "- Eseguire la stessa operazione più volte ma con input diversi.\n",
    "- Ad ogni step, eseguiamo la funzione con numeri più piccoli.\n",
    "- Una condizione di base è richiesta per fermare la ricorsione altrimenti si entra in un ciclo infinito."
   ]
  },
  {
   "cell_type": "code",
   "execution_count": null,
   "id": "a73f1310",
   "metadata": {},
   "outputs": [],
   "source": []
  },
  {
   "cell_type": "code",
   "execution_count": null,
   "id": "373c4379",
   "metadata": {},
   "outputs": [],
   "source": []
  },
  {
   "cell_type": "code",
   "execution_count": null,
   "id": "c37ca183",
   "metadata": {},
   "outputs": [],
   "source": []
  },
  {
   "cell_type": "code",
   "execution_count": null,
   "id": "d3b450f9",
   "metadata": {
    "scrolled": true
   },
   "outputs": [],
   "source": []
  },
  {
   "cell_type": "markdown",
   "id": "3d4ed8e6",
   "metadata": {},
   "source": [
    "$x_n = x_{n-2} + x_{n-1}$\n",
    "\n",
    "Pos: 0 1 2 3 4 5 6 7  8  9  10  \n",
    "Val: 0 1 1 2 3 5 8 13 21 34 55"
   ]
  },
  {
   "cell_type": "code",
   "execution_count": null,
   "id": "edf2d6ec",
   "metadata": {},
   "outputs": [],
   "source": []
  },
  {
   "cell_type": "code",
   "execution_count": null,
   "id": "1cd468fd",
   "metadata": {},
   "outputs": [],
   "source": []
  },
  {
   "cell_type": "markdown",
   "id": "c58f90d6",
   "metadata": {},
   "source": [
    "## `lambda`\n",
    "\n",
    "Una **funzione lambda** è una funzione anonima che può avere un qualsiasi numero di parametri ma un solo comando.\n",
    "\n",
    "```\n",
    "lambda parameter(s): expression\n",
    "```"
   ]
  },
  {
   "cell_type": "code",
   "execution_count": null,
   "id": "37ecc3b8",
   "metadata": {},
   "outputs": [],
   "source": []
  },
  {
   "cell_type": "code",
   "execution_count": null,
   "id": "4a9e721c",
   "metadata": {},
   "outputs": [],
   "source": []
  },
  {
   "cell_type": "code",
   "execution_count": null,
   "id": "77eaff44",
   "metadata": {},
   "outputs": [],
   "source": []
  },
  {
   "cell_type": "code",
   "execution_count": null,
   "id": "e1c4018e",
   "metadata": {},
   "outputs": [],
   "source": []
  },
  {
   "cell_type": "code",
   "execution_count": null,
   "id": "ad535496",
   "metadata": {},
   "outputs": [],
   "source": []
  },
  {
   "cell_type": "code",
   "execution_count": null,
   "id": "553891e5",
   "metadata": {},
   "outputs": [],
   "source": []
  },
  {
   "cell_type": "markdown",
   "id": "4371e116",
   "metadata": {},
   "source": [
    "# Visibilità delle Variabili\n",
    "\n",
    "Non a tutte le variabili è possibile accedere da qualsiasi parte all'interno di un programma. La parte di programma dalla quale una variabile è accessibile è definita la sua **visibilità**. Ci sono quattro diversi livelli di visibilità in Python che seguono la regola *LEGB*: Local, Enclosing, Global, Built-in.\n",
    "\n",
    "Not all variables can be accessed from anywhere in a program. The part of a program where a variable is accessible is called its **scope**. There are four major types of variable scope and is the basis for the *LEGB rule*: Local, Enclosing, Global, Built-in."
   ]
  },
  {
   "cell_type": "code",
   "execution_count": null,
   "id": "52a9a88a",
   "metadata": {},
   "outputs": [],
   "source": []
  },
  {
   "cell_type": "code",
   "execution_count": null,
   "id": "8472a627",
   "metadata": {
    "scrolled": true
   },
   "outputs": [],
   "source": []
  },
  {
   "cell_type": "code",
   "execution_count": null,
   "id": "005fdd88",
   "metadata": {},
   "outputs": [],
   "source": []
  },
  {
   "cell_type": "markdown",
   "id": "9c9f45a2",
   "metadata": {},
   "source": [
    "# Esercizi\n",
    "\n",
    "1. Scrivi una funzione che ritorni i numeri pari data una lista di numeri."
   ]
  },
  {
   "cell_type": "code",
   "execution_count": null,
   "id": "594fd131",
   "metadata": {},
   "outputs": [],
   "source": []
  },
  {
   "cell_type": "markdown",
   "id": "16560107",
   "metadata": {},
   "source": [
    "2. Scrivi una funzione che conti il numero di occorrenze di ogni vocale in una data stringa.\n"
   ]
  },
  {
   "cell_type": "code",
   "execution_count": null,
   "id": "67a942d0",
   "metadata": {},
   "outputs": [],
   "source": []
  }
 ],
 "metadata": {
  "kernelspec": {
   "display_name": "Python 3 (ipykernel)",
   "language": "python",
   "name": "python3"
  },
  "language_info": {
   "codemirror_mode": {
    "name": "ipython",
    "version": 3
   },
   "file_extension": ".py",
   "mimetype": "text/x-python",
   "name": "python",
   "nbconvert_exporter": "python",
   "pygments_lexer": "ipython3",
   "version": "3.8.13"
  }
 },
 "nbformat": 4,
 "nbformat_minor": 5
}
