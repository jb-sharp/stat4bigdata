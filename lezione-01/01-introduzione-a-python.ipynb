{
 "cells": [
  {
   "cell_type": "markdown",
   "id": "1e64f320",
   "metadata": {},
   "source": [
    "# Statistica per i Big Data Economico-Aziendali - Esercitazioni in Python\n",
    "\n",
    "*Contatti*: sergio.picascia@unimi.it\n",
    "\n",
    "*Materiale*: www.github.com/sergiopicascia/Stat4BigData.\n",
    "\n",
    "**GitHub** è una piattaforma utilizzata per lo sviluppo collaborativo di software basata sul controllo di versione.\n",
    "- [Guida a GitHub](https://docs.github.com/en/get-started/quickstart/hello-world)\n",
    "- [Guida a Git](https://github.com/git-guides)"
   ]
  },
  {
   "cell_type": "markdown",
   "id": "3882c1fb",
   "metadata": {},
   "source": [
    "## Introduzione a Python\n",
    "\n",
    "**Python** è un linguaggio di programmazione ad alto livello, utilizzato nelle applicazioni web, nello sviluppo di software, nella data science e nel machine learning. Può essere eseguito su tutti i principali sistemi operativi informatici ed è estremamente semplice da comprendere grazie ad una sintassi simile a quella della lingua inglese. Data la sua vasta diffusione e adozione tra gli sviluppatori, è possibile reperire con facilità tutorial e documentazione, oltre a migliaia di pacchetti sviluppati per numerose attività.\n",
    "- [Documentazione](https://docs.python.org/3/)\n",
    "\n",
    "Esistono diverse opzioni per scrivere codice in Python. Gli *script* sono file di testo con estensione *.py*. Possono essere creati e modificati con semplici editor di testo, oppure tramite ambienti di sviluppo integrato (IDE); questi ultimi sono software che assistono lo sviluppatore nella scrittura del codice tramite l'utilizzo di diversi strumenti, come il debugger o l'evidenziatore di sintassi. Gli script vengono eseguiti linearmente, dall'alto verso il basso, riga per riga, fino al raggiungimento della fine del file; nel caso in cui bisognasse modificare anche solo una linea di codice, sarà necessario rieseguire lo script per attuare le modifiche.\n",
    "- Text Editors: [Sublime](https://www.sublimetext.com), [Notepad++](https://notepad-plus-plus.org)\n",
    "- IDEs: [Visual Studio Code](https://code.visualstudio.com), [PyCharm](https://www.jetbrains.com/pycharm/)\n",
    "\n",
    "I *notebook* sono composti da celle: in ogni cella è possibile scrivere sia del codice in Python, sia del semplice testo. È dunque possibile affiancare a delle sezioni di codice, delle altre contenenti spiegazioni, link o immagini. I notebook vengono eseguiti in maniera non lineare, ovvero è possibile eseguire le celle in qualsiasi ordine; ciò rende possibile modificare parte del codice presente in una cella, senza dover necessariamente rieseguire l'intero notebook.\n",
    "- [Jupyter Notebook](https://jupyter.org), [Google Colab](https://colab.research.google.com/notebooks/)"
   ]
  },
  {
   "cell_type": "code",
   "execution_count": 1,
   "id": "9f4949db",
   "metadata": {},
   "outputs": [
    {
     "name": "stdout",
     "output_type": "stream",
     "text": [
      "Hello, world!\n"
     ]
    }
   ],
   "source": [
    "# Il primo programma in Python\n",
    "print('Hello, world!')"
   ]
  },
  {
   "cell_type": "markdown",
   "id": "a8e55c52",
   "metadata": {},
   "source": [
    "## Commenti\n",
    "\n",
    "Un commento è introdotto da un asterisco (`#`) e termina alla fine di una linea di codice. I commenti vengono ignorati in fase di esecuzione del codice."
   ]
  },
  {
   "cell_type": "code",
   "execution_count": 2,
   "id": "5738fbb0",
   "metadata": {},
   "outputs": [],
   "source": [
    "# Questo è un commento\n",
    "# Anche questo è un commento"
   ]
  },
  {
   "cell_type": "markdown",
   "id": "76ce0ede",
   "metadata": {},
   "source": [
    "## Tipi di Dato\n",
    "\n",
    "Un **tipo di dato** restringe l'insieme di possibili valori che un'espressione può avere e ne definisce l'insieme di operazioni consentite su di essa. Python supporta tipi di dato basilari, come *interi* e *booleani*, e sequenziali, come *stringhe* e *liste*.\n",
    "\n",
    "#### `type(object)`\n",
    "La funzione `type()` restituisce il tipo di un oggetto. "
   ]
  },
  {
   "cell_type": "code",
   "execution_count": 3,
   "id": "b0a7c726",
   "metadata": {},
   "outputs": [
    {
     "data": {
      "text/plain": [
       "int"
      ]
     },
     "execution_count": 3,
     "metadata": {},
     "output_type": "execute_result"
    }
   ],
   "source": [
    "type(12)"
   ]
  },
  {
   "cell_type": "code",
   "execution_count": 4,
   "id": "724cd46a",
   "metadata": {},
   "outputs": [
    {
     "data": {
      "text/plain": [
       "str"
      ]
     },
     "execution_count": 4,
     "metadata": {},
     "output_type": "execute_result"
    }
   ],
   "source": [
    "type('ciao')"
   ]
  },
  {
   "cell_type": "markdown",
   "id": "d0159c4a",
   "metadata": {},
   "source": [
    "## Tipi Numerici\n",
    "\n",
    "Esistono tre tipi numerici: gli interi (*int*), i decimali (*float*), e i numeri complessi (*complex*).\n",
    "\n",
    "- `int`: gli interi sono lo zero, numeri positivi e negativi interi, dunque senza la componente decimale\n",
    "- `float`: chiamati *floating point numbers*, i decimali sono numeri reali positivi e negativi con una componente decimale indicata dal simbolo `.`or dalla notazione scienrifica `E` o `e`\n",
    "- `complex`: un numero complesso è un numero avente una componente reale ed una immaginaria; la componente immaginaria è indicata dalla lettera `J` o `j`"
   ]
  },
  {
   "cell_type": "code",
   "execution_count": 5,
   "id": "f7dd42c9",
   "metadata": {},
   "outputs": [
    {
     "name": "stdout",
     "output_type": "stream",
     "text": [
      "10\n"
     ]
    },
    {
     "data": {
      "text/plain": [
       "int"
      ]
     },
     "execution_count": 5,
     "metadata": {},
     "output_type": "execute_result"
    }
   ],
   "source": [
    "# Interi\n",
    "print(10)\n",
    "type(10)"
   ]
  },
  {
   "cell_type": "code",
   "execution_count": 6,
   "id": "fd130c92",
   "metadata": {},
   "outputs": [
    {
     "name": "stdout",
     "output_type": "stream",
     "text": [
      "12312432152314123414\n"
     ]
    }
   ],
   "source": [
    "print(12312432152314123414)"
   ]
  },
  {
   "cell_type": "code",
   "execution_count": 8,
   "id": "7c383d0e",
   "metadata": {},
   "outputs": [
    {
     "name": "stdout",
     "output_type": "stream",
     "text": [
      "10.0\n"
     ]
    },
    {
     "data": {
      "text/plain": [
       "float"
      ]
     },
     "execution_count": 8,
     "metadata": {},
     "output_type": "execute_result"
    }
   ],
   "source": [
    "# Decimali\n",
    "print(10.0)\n",
    "type(10.0)"
   ]
  },
  {
   "cell_type": "code",
   "execution_count": 10,
   "id": "5e271790",
   "metadata": {},
   "outputs": [
    {
     "data": {
      "text/plain": [
       "2.3e-16"
      ]
     },
     "execution_count": 10,
     "metadata": {},
     "output_type": "execute_result"
    }
   ],
   "source": [
    "0.00000000000000023"
   ]
  },
  {
   "cell_type": "code",
   "execution_count": 9,
   "id": "a7acfd8e",
   "metadata": {},
   "outputs": [
    {
     "name": "stdout",
     "output_type": "stream",
     "text": [
      "2.3e-10\n"
     ]
    }
   ],
   "source": [
    "print(2.3e-10)"
   ]
  },
  {
   "cell_type": "code",
   "execution_count": 13,
   "id": "12d654af",
   "metadata": {},
   "outputs": [
    {
     "name": "stdout",
     "output_type": "stream",
     "text": [
      "(2+3j)\n"
     ]
    },
    {
     "data": {
      "text/plain": [
       "complex"
      ]
     },
     "execution_count": 13,
     "metadata": {},
     "output_type": "execute_result"
    }
   ],
   "source": [
    "# Complessi\n",
    "print(2 + 3j)\n",
    "type(2 + 3j)"
   ]
  },
  {
   "cell_type": "markdown",
   "id": "444e10f3",
   "metadata": {},
   "source": [
    "### Operatori Aritmetici\n",
    "\n",
    "In Python, gli **operatori** sono speciali simboli che indicano che una certa computazione deve essere compiuta. I valori che vengono coinvolti nella computazione da un operatore, vengono detti *operandi*.\n",
    "\n",
    "Gli **operatori aritmetici** vengono utilizzati per eseguire operazioni matematiche, come l'addizione, la sottrazione, la moltiplicazione e la divisione.\n",
    "\n",
    "L'operatore *addizione* è indicato dal simbolo `+` ed è utilizzato per sommare due valori."
   ]
  },
  {
   "cell_type": "code",
   "execution_count": 14,
   "id": "0ca986a3",
   "metadata": {},
   "outputs": [
    {
     "data": {
      "text/plain": [
       "14.5"
      ]
     },
     "execution_count": 14,
     "metadata": {},
     "output_type": "execute_result"
    }
   ],
   "source": [
    "# Addizione\n",
    "2 + 12.5"
   ]
  },
  {
   "cell_type": "markdown",
   "id": "a9821299",
   "metadata": {},
   "source": [
    "L'operatore *sottrazione* è indicato dal simbolo `-` ed è utilizzato per sottrarre il secondo valore dal primo."
   ]
  },
  {
   "cell_type": "code",
   "execution_count": 17,
   "id": "ad5cb1c1",
   "metadata": {},
   "outputs": [
    {
     "name": "stdout",
     "output_type": "stream",
     "text": [
      "6\n"
     ]
    },
    {
     "data": {
      "text/plain": [
       "int"
      ]
     },
     "execution_count": 17,
     "metadata": {},
     "output_type": "execute_result"
    }
   ],
   "source": [
    "# Sottrazione\n",
    "print(12 - 6)\n",
    "type(12 - 6)"
   ]
  },
  {
   "cell_type": "markdown",
   "id": "73262955",
   "metadata": {},
   "source": [
    "L'operatore *moltiplicazione* è indicato dal simbolo `*` ed è utilizzato per calcolare il prodotto di due valori."
   ]
  },
  {
   "cell_type": "code",
   "execution_count": 18,
   "id": "aca4aa55",
   "metadata": {},
   "outputs": [
    {
     "data": {
      "text/plain": [
       "25.2"
      ]
     },
     "execution_count": 18,
     "metadata": {},
     "output_type": "execute_result"
    }
   ],
   "source": [
    "# Moltiplicazione\n",
    "12.6 * 2"
   ]
  },
  {
   "cell_type": "markdown",
   "id": "5a4e12e0",
   "metadata": {},
   "source": [
    "L'operatore *divisione* è indicato dal simbolo `/` ed è utilizzato per calcolare il quoziente quando il primo valore è diviso per il secondo."
   ]
  },
  {
   "cell_type": "code",
   "execution_count": 19,
   "id": "7ec2a8bf",
   "metadata": {},
   "outputs": [
    {
     "data": {
      "text/plain": [
       "2.857142857142857"
      ]
     },
     "execution_count": 19,
     "metadata": {},
     "output_type": "execute_result"
    }
   ],
   "source": [
    "# Divisione (float)\n",
    "20 / 7"
   ]
  },
  {
   "cell_type": "markdown",
   "id": "45b15d35",
   "metadata": {},
   "source": [
    "L'operatore *divisione floor* è indicato dal simbolo `//` ed è utilizzato per calcolare la parte intera del quoziente quando il primo valore è diviso per il secondo."
   ]
  },
  {
   "cell_type": "code",
   "execution_count": 20,
   "id": "31da0088",
   "metadata": {},
   "outputs": [
    {
     "data": {
      "text/plain": [
       "2"
      ]
     },
     "execution_count": 20,
     "metadata": {},
     "output_type": "execute_result"
    }
   ],
   "source": [
    "# Divisione (int)\n",
    "20 // 7"
   ]
  },
  {
   "cell_type": "code",
   "execution_count": 21,
   "id": "39b738bd",
   "metadata": {},
   "outputs": [
    {
     "data": {
      "text/plain": [
       "3"
      ]
     },
     "execution_count": 21,
     "metadata": {},
     "output_type": "execute_result"
    }
   ],
   "source": [
    "import math\n",
    "\n",
    "math.ceil(20 / 7)"
   ]
  },
  {
   "cell_type": "markdown",
   "id": "58a5eba6",
   "metadata": {},
   "source": [
    "L'operatore *modulo* è indicato dal simbolo `%` ed è utilizzato per calcolare il resto quando il primo valore è diviso per il secondo."
   ]
  },
  {
   "cell_type": "code",
   "execution_count": 22,
   "id": "1b91ec17",
   "metadata": {},
   "outputs": [
    {
     "data": {
      "text/plain": [
       "6"
      ]
     },
     "execution_count": 22,
     "metadata": {},
     "output_type": "execute_result"
    }
   ],
   "source": [
    "# Modulo\n",
    "20 % 7"
   ]
  },
  {
   "cell_type": "markdown",
   "id": "059fffd2",
   "metadata": {},
   "source": [
    "L'operatore *esponenziale* è indicato dal simbolo `**` ed è utilizzato per elevare il primo valore alla potenza del secondo."
   ]
  },
  {
   "cell_type": "code",
   "execution_count": 23,
   "id": "f73af4fa",
   "metadata": {},
   "outputs": [
    {
     "data": {
      "text/plain": [
       "16"
      ]
     },
     "execution_count": 23,
     "metadata": {},
     "output_type": "execute_result"
    }
   ],
   "source": [
    "# Esponenziale\n",
    "2 ** 4"
   ]
  },
  {
   "cell_type": "markdown",
   "id": "07ee7cb2",
   "metadata": {},
   "source": [
    "## Tipo Stringa\n",
    "\n",
    "In Python, i dati testuali sono gestiti con gli oggetti `str`, o *stringhe*. Una stringa può essere definita in tre diversi modi:\n",
    "- singole virgolette (`'...'`): possono contenere doppie virgolette\n",
    "- doppie virgolette (`\"...\"`): possono contenere singole virgolette\n",
    "- triple virgolette (`'''...'''`, `\"\"\"...\"\"\"`): possono essere definite su più linee"
   ]
  },
  {
   "cell_type": "code",
   "execution_count": 25,
   "id": "4691f04c",
   "metadata": {},
   "outputs": [
    {
     "data": {
      "text/plain": [
       "'in una stringa definita da virgolette singole, posso inserire \"doppie virgolette\"'"
      ]
     },
     "execution_count": 25,
     "metadata": {},
     "output_type": "execute_result"
    }
   ],
   "source": [
    "# Singole Virgolette\n",
    "'in una stringa definita da virgolette singole, posso inserire \"doppie virgolette\"'"
   ]
  },
  {
   "cell_type": "code",
   "execution_count": 26,
   "id": "a4c9a415",
   "metadata": {},
   "outputs": [
    {
     "data": {
      "text/plain": [
       "\"in una stringa definita da doppie virgolette, posso inserire 'singole virgolette'\""
      ]
     },
     "execution_count": 26,
     "metadata": {},
     "output_type": "execute_result"
    }
   ],
   "source": [
    "# Doppie Virgolette\n",
    "\"in una stringa definita da doppie virgolette, posso inserire 'singole virgolette'\""
   ]
  },
  {
   "cell_type": "code",
   "execution_count": 27,
   "id": "0e30b31a",
   "metadata": {},
   "outputs": [
    {
     "ename": "SyntaxError",
     "evalue": "EOL while scanning string literal (1005411363.py, line 1)",
     "output_type": "error",
     "traceback": [
      "\u001b[0;36m  Input \u001b[0;32mIn [27]\u001b[0;36m\u001b[0m\n\u001b[0;31m    \"Questa\u001b[0m\n\u001b[0m           ^\u001b[0m\n\u001b[0;31mSyntaxError\u001b[0m\u001b[0;31m:\u001b[0m EOL while scanning string literal\n"
     ]
    }
   ],
   "source": [
    "\"Questa\n",
    "è \n",
    "una stringa su\n",
    "linee multiple\""
   ]
  },
  {
   "cell_type": "code",
   "execution_count": 29,
   "id": "8b478115",
   "metadata": {},
   "outputs": [
    {
     "name": "stdout",
     "output_type": "stream",
     "text": [
      "\n",
      "Questa stringa\n",
      "è definita su\n",
      "diverse linee \n",
      "\n"
     ]
    }
   ],
   "source": [
    "# Triple Virgolette\n",
    "print(\"\"\"\n",
    "Questa stringa\n",
    "è definita su\n",
    "diverse linee \n",
    "\"\"\")"
   ]
  },
  {
   "cell_type": "code",
   "execution_count": 30,
   "id": "228af831",
   "metadata": {},
   "outputs": [
    {
     "data": {
      "text/plain": [
       "'\\nQuesta stringa\\nè definita su\\ndiverse linee \\n'"
      ]
     },
     "execution_count": 30,
     "metadata": {},
     "output_type": "execute_result"
    }
   ],
   "source": [
    "\"\"\"\n",
    "Questa stringa\n",
    "è definita su\n",
    "diverse linee \n",
    "\"\"\""
   ]
  },
  {
   "cell_type": "markdown",
   "id": "1ea70d80",
   "metadata": {},
   "source": [
    "### Concatenazione\n",
    "È possibile concatenare due stringhe diverse oppure ripetere la stessa stringa più volte utilizzando rispettivamente gli operatori aritmetici `+` e `*`."
   ]
  },
  {
   "cell_type": "code",
   "execution_count": 31,
   "id": "1eb619dd",
   "metadata": {},
   "outputs": [
    {
     "name": "stdout",
     "output_type": "stream",
     "text": [
      "Ciao\n"
     ]
    }
   ],
   "source": [
    "# Concatenazione di due stringhe\n",
    "print('Ci' + 'ao')"
   ]
  },
  {
   "cell_type": "code",
   "execution_count": 32,
   "id": "db5c9951",
   "metadata": {},
   "outputs": [
    {
     "name": "stdout",
     "output_type": "stream",
     "text": [
      "Ciao Ciao Ciao Ciao Ciao \n"
     ]
    }
   ],
   "source": [
    "# Ripetizione della stessa stringa\n",
    "print('Ciao ' * 5)"
   ]
  },
  {
   "cell_type": "code",
   "execution_count": 33,
   "id": "eef46c00",
   "metadata": {},
   "outputs": [
    {
     "ename": "TypeError",
     "evalue": "can only concatenate str (not \"int\") to str",
     "output_type": "error",
     "traceback": [
      "\u001b[0;31m---------------------------------------------------------------------------\u001b[0m",
      "\u001b[0;31mTypeError\u001b[0m                                 Traceback (most recent call last)",
      "Input \u001b[0;32mIn [33]\u001b[0m, in \u001b[0;36m<cell line: 1>\u001b[0;34m()\u001b[0m\n\u001b[0;32m----> 1\u001b[0m \u001b[38;5;28mprint\u001b[39m(\u001b[38;5;124;43m'\u001b[39;49m\u001b[38;5;124;43mCiao\u001b[39;49m\u001b[38;5;124;43m'\u001b[39;49m\u001b[43m \u001b[49m\u001b[38;5;241;43m+\u001b[39;49m\u001b[43m \u001b[49m\u001b[38;5;241;43m1\u001b[39;49m)\n",
      "\u001b[0;31mTypeError\u001b[0m: can only concatenate str (not \"int\") to str"
     ]
    }
   ],
   "source": [
    "print('Ciao' + 1)"
   ]
  },
  {
   "cell_type": "markdown",
   "id": "08255fdb",
   "metadata": {},
   "source": [
    "### Carattere Escape\n",
    "Nelle stringhe, la barra rovesciata (*backslash*) `\\` è un carattere speciale, chiamato **escape**. È utilizzato per definire alcune sequenze di caratteri come `\\t` e `\\n`."
   ]
  },
  {
   "cell_type": "code",
   "execution_count": 34,
   "id": "1c6abf84",
   "metadata": {},
   "outputs": [
    {
     "name": "stdout",
     "output_type": "stream",
     "text": [
      "Questo è un carattere tabulazione \t mentre questa \n",
      " è una nuova linea\n"
     ]
    }
   ],
   "source": [
    "print('Questo è un carattere tabulazione \\t mentre questa \\n è una nuova linea')"
   ]
  },
  {
   "cell_type": "markdown",
   "id": "69a112ed",
   "metadata": {},
   "source": [
    "Utilizzare `\\` prima di un carattere speciale trasforma quest'ultimo in un carattere ordinario. "
   ]
  },
  {
   "cell_type": "code",
   "execution_count": 35,
   "id": "a41840f6",
   "metadata": {},
   "outputs": [
    {
     "name": "stdout",
     "output_type": "stream",
     "text": [
      "I'm Sergio\n"
     ]
    }
   ],
   "source": [
    "print('I\\'m Sergio')"
   ]
  },
  {
   "cell_type": "markdown",
   "id": "20c95d22",
   "metadata": {},
   "source": [
    "### Slicing e Indexing\n",
    "È possibile selezionare un sottoinsiemi di caratteri da una stringa utilizzando l'operazione di *slicing*: all'interno di parentesi quadre, si specifica l'indice di inizio e l'indice di fine, separati da `:`."
   ]
  },
  {
   "cell_type": "code",
   "execution_count": 37,
   "id": "e48f0595",
   "metadata": {},
   "outputs": [
    {
     "data": {
      "text/plain": [
       "'Statistica '"
      ]
     },
     "execution_count": 37,
     "metadata": {},
     "output_type": "execute_result"
    }
   ],
   "source": [
    "'Statistica per i Big Data Economico-Aziendali'[0:11]"
   ]
  },
  {
   "cell_type": "markdown",
   "id": "75acb32c",
   "metadata": {},
   "source": [
    "In Python, i tipi sequenziali sono indicizzati a zero, ovvero le posizioni (indici) degli *n* elementi all'interno di un oggetto va da *0* a *n-1*. Indicando soltanto un numero all'interno delle parentesi quadre si seleziona soltanto l'elemento presente a quell'indice."
   ]
  },
  {
   "cell_type": "code",
   "execution_count": 38,
   "id": "210beb87",
   "metadata": {},
   "outputs": [
    {
     "data": {
      "text/plain": [
       "'S'"
      ]
     },
     "execution_count": 38,
     "metadata": {},
     "output_type": "execute_result"
    }
   ],
   "source": [
    "'Statistica per i Big Data Economico-Aziendali'[0]"
   ]
  },
  {
   "cell_type": "code",
   "execution_count": 39,
   "id": "b47487ce",
   "metadata": {},
   "outputs": [
    {
     "data": {
      "text/plain": [
       "'Statistica '"
      ]
     },
     "execution_count": 39,
     "metadata": {},
     "output_type": "execute_result"
    }
   ],
   "source": [
    "'Statistica per i Big Data Economico-Aziendali'[:11]"
   ]
  },
  {
   "cell_type": "code",
   "execution_count": 40,
   "id": "6b4f1eae",
   "metadata": {},
   "outputs": [
    {
     "data": {
      "text/plain": [
       "'per i Big Data Economico-Aziendali'"
      ]
     },
     "execution_count": 40,
     "metadata": {},
     "output_type": "execute_result"
    }
   ],
   "source": [
    "'Statistica per i Big Data Economico-Aziendali'[11:]"
   ]
  },
  {
   "cell_type": "markdown",
   "id": "3106a67e",
   "metadata": {},
   "source": [
    "### Metodi\n",
    "\n",
    "Esistono una serie di *metodi integrati (built-in)* che possono essere utilizzati sulle stringhe.\n",
    "\n",
    "`str.capitalize()` restituisce una copia della stringa con la prima lettera in maiuscolo e il resto in minuscolo."
   ]
  },
  {
   "cell_type": "code",
   "execution_count": 41,
   "id": "5e1ef211",
   "metadata": {},
   "outputs": [
    {
     "data": {
      "text/plain": [
       "'Ciao'"
      ]
     },
     "execution_count": 41,
     "metadata": {},
     "output_type": "execute_result"
    }
   ],
   "source": [
    "'ciao'.capitalize()"
   ]
  },
  {
   "cell_type": "code",
   "execution_count": 42,
   "id": "78560ca6",
   "metadata": {},
   "outputs": [
    {
     "ename": "SyntaxError",
     "evalue": "invalid syntax (2147238821.py, line 1)",
     "output_type": "error",
     "traceback": [
      "\u001b[0;36m  Input \u001b[0;32mIn [42]\u001b[0;36m\u001b[0m\n\u001b[0;31m    123.capitalize()\u001b[0m\n\u001b[0m        ^\u001b[0m\n\u001b[0;31mSyntaxError\u001b[0m\u001b[0;31m:\u001b[0m invalid syntax\n"
     ]
    }
   ],
   "source": [
    "123.capitalize()"
   ]
  },
  {
   "cell_type": "code",
   "execution_count": 43,
   "id": "f7327821",
   "metadata": {},
   "outputs": [
    {
     "ename": "AttributeError",
     "evalue": "'bool' object has no attribute 'capitalize'",
     "output_type": "error",
     "traceback": [
      "\u001b[0;31m---------------------------------------------------------------------------\u001b[0m",
      "\u001b[0;31mAttributeError\u001b[0m                            Traceback (most recent call last)",
      "Input \u001b[0;32mIn [43]\u001b[0m, in \u001b[0;36m<cell line: 1>\u001b[0;34m()\u001b[0m\n\u001b[0;32m----> 1\u001b[0m \u001b[38;5;28;43;01mTrue\u001b[39;49;00m\u001b[38;5;241;43m.\u001b[39;49m\u001b[43mcapitalize\u001b[49m()\n",
      "\u001b[0;31mAttributeError\u001b[0m: 'bool' object has no attribute 'capitalize'"
     ]
    }
   ],
   "source": [
    "True.capitalize()"
   ]
  },
  {
   "cell_type": "markdown",
   "id": "3f774487",
   "metadata": {},
   "source": [
    "`str.lower()` restituisce una copia della stringa con tutte le lettere minuscole."
   ]
  },
  {
   "cell_type": "code",
   "execution_count": 44,
   "id": "6e85ee49",
   "metadata": {},
   "outputs": [
    {
     "data": {
      "text/plain": [
       "'ciao'"
      ]
     },
     "execution_count": 44,
     "metadata": {},
     "output_type": "execute_result"
    }
   ],
   "source": [
    "'CIAO'.lower()"
   ]
  },
  {
   "cell_type": "code",
   "execution_count": 51,
   "id": "27c5a0d4",
   "metadata": {},
   "outputs": [
    {
     "data": {
      "text/plain": [
       "'c\\\\iao'"
      ]
     },
     "execution_count": 51,
     "metadata": {},
     "output_type": "execute_result"
    }
   ],
   "source": [
    "'C\\\\IAO'.lower()"
   ]
  },
  {
   "cell_type": "markdown",
   "id": "9c9351bc",
   "metadata": {},
   "source": [
    "`str.upper()` restituisce una copia della stringa con tutte le lettere maiuscole."
   ]
  },
  {
   "cell_type": "code",
   "execution_count": 45,
   "id": "240f673a",
   "metadata": {},
   "outputs": [
    {
     "data": {
      "text/plain": [
       "'CIAO'"
      ]
     },
     "execution_count": 45,
     "metadata": {},
     "output_type": "execute_result"
    }
   ],
   "source": [
    "'ciao'.upper()"
   ]
  },
  {
   "cell_type": "markdown",
   "id": "45b65bdf",
   "metadata": {},
   "source": [
    "`str.strip()` restituisce una copia della stringa eliminando eventuali spazi all'inizio e alla fine di essa."
   ]
  },
  {
   "cell_type": "code",
   "execution_count": 46,
   "id": "a850402f",
   "metadata": {},
   "outputs": [
    {
     "data": {
      "text/plain": [
       "'ciao'"
      ]
     },
     "execution_count": 46,
     "metadata": {},
     "output_type": "execute_result"
    }
   ],
   "source": [
    "'  ciao  '.strip()"
   ]
  },
  {
   "cell_type": "code",
   "execution_count": 47,
   "id": "9c430899",
   "metadata": {},
   "outputs": [
    {
     "data": {
      "text/plain": [
       "'ci ao'"
      ]
     },
     "execution_count": 47,
     "metadata": {},
     "output_type": "execute_result"
    }
   ],
   "source": [
    "'  ci ao  '.strip()"
   ]
  },
  {
   "cell_type": "markdown",
   "id": "66b36975",
   "metadata": {},
   "source": [
    "`str.find(sub)` restituisce il primo indice della stringa in cui viene trovata la sottostringa `sub`."
   ]
  },
  {
   "cell_type": "code",
   "execution_count": 53,
   "id": "d9c74e2e",
   "metadata": {},
   "outputs": [
    {
     "ename": "TypeError",
     "evalue": "find() takes at least 1 argument (0 given)",
     "output_type": "error",
     "traceback": [
      "\u001b[0;31m---------------------------------------------------------------------------\u001b[0m",
      "\u001b[0;31mTypeError\u001b[0m                                 Traceback (most recent call last)",
      "Input \u001b[0;32mIn [53]\u001b[0m, in \u001b[0;36m<cell line: 1>\u001b[0;34m()\u001b[0m\n\u001b[0;32m----> 1\u001b[0m \u001b[38;5;124;43m'\u001b[39;49m\u001b[38;5;124;43mciao\u001b[39;49m\u001b[38;5;124;43m'\u001b[39;49m\u001b[38;5;241;43m.\u001b[39;49m\u001b[43mfind\u001b[49m\u001b[43m(\u001b[49m\u001b[43m)\u001b[49m\n",
      "\u001b[0;31mTypeError\u001b[0m: find() takes at least 1 argument (0 given)"
     ]
    }
   ],
   "source": [
    "'ciao'.find()"
   ]
  },
  {
   "cell_type": "code",
   "execution_count": 52,
   "id": "cf3f2165",
   "metadata": {},
   "outputs": [
    {
     "data": {
      "text/plain": [
       "1"
      ]
     },
     "execution_count": 52,
     "metadata": {},
     "output_type": "execute_result"
    }
   ],
   "source": [
    "'ciao'.find('i')"
   ]
  },
  {
   "cell_type": "code",
   "execution_count": 54,
   "id": "b7b41763",
   "metadata": {},
   "outputs": [
    {
     "data": {
      "text/plain": [
       "2"
      ]
     },
     "execution_count": 54,
     "metadata": {},
     "output_type": "execute_result"
    }
   ],
   "source": [
    "'hello'.find('l')"
   ]
  },
  {
   "cell_type": "code",
   "execution_count": 56,
   "id": "0015b53d",
   "metadata": {},
   "outputs": [
    {
     "data": {
      "text/plain": [
       "22"
      ]
     },
     "execution_count": 56,
     "metadata": {},
     "output_type": "execute_result"
    }
   ],
   "source": [
    "'Statistica per i Big Data Economico-Aziendali'.find('a', 11, 30)"
   ]
  },
  {
   "cell_type": "code",
   "execution_count": 57,
   "id": "3d6e550b",
   "metadata": {},
   "outputs": [
    {
     "data": {
      "text/plain": [
       "22"
      ]
     },
     "execution_count": 57,
     "metadata": {},
     "output_type": "execute_result"
    }
   ],
   "source": [
    "'Statistica per i Big Data Economico-Aziendali'.find('a', 11)"
   ]
  },
  {
   "cell_type": "markdown",
   "id": "e35820e7",
   "metadata": {},
   "source": [
    "`str.replace(old, new)` restituisce una copia della stringa con tutte le occorrenze di `old` sostituite da `new`."
   ]
  },
  {
   "cell_type": "code",
   "execution_count": 60,
   "id": "cb90f36e",
   "metadata": {},
   "outputs": [
    {
     "data": {
      "text/plain": [
       "'ciap'"
      ]
     },
     "execution_count": 60,
     "metadata": {},
     "output_type": "execute_result"
    }
   ],
   "source": [
    "'ciao'.replace('o', 'p')"
   ]
  },
  {
   "cell_type": "markdown",
   "id": "079b6c36",
   "metadata": {},
   "source": [
    "`str.format()` esegue un'operazione di formattazione sulla stringa."
   ]
  },
  {
   "cell_type": "code",
   "execution_count": 61,
   "id": "12ab005d",
   "metadata": {},
   "outputs": [
    {
     "data": {
      "text/plain": [
       "'ciao, mi chiamo Sergio'"
      ]
     },
     "execution_count": 61,
     "metadata": {},
     "output_type": "execute_result"
    }
   ],
   "source": [
    "'ciao, {}'.format('mi chiamo Sergio')"
   ]
  },
  {
   "cell_type": "markdown",
   "id": "c8e75c3a",
   "metadata": {},
   "source": [
    "## Conversione di Tipo\n",
    "\n",
    "Il processo di convertire un valore da un tipo di dati ad un altro è chiamato **conversione**. In Python esistono due tipologie di conversione:\n",
    "- *implicita*: Python converte automaticamente un tipo di dato in un altro senza che venga specificato dall'utente\n",
    "- *esplicita*: l'utente converte l'oggetto da un tipo di dato all'altro utilizzando delle funzioni integrate, ad es. `int()`, `float()`, `str()`."
   ]
  },
  {
   "cell_type": "code",
   "execution_count": 62,
   "id": "c130d989",
   "metadata": {},
   "outputs": [
    {
     "name": "stdout",
     "output_type": "stream",
     "text": [
      "<class 'int'>\n",
      "<class 'float'>\n",
      "<class 'float'>\n"
     ]
    }
   ],
   "source": [
    "# Conversione implicita\n",
    "print(type(2))\n",
    "print(type(12.5))\n",
    "print(type(2 + 12.5))"
   ]
  },
  {
   "cell_type": "code",
   "execution_count": 64,
   "id": "53658756",
   "metadata": {},
   "outputs": [
    {
     "name": "stdout",
     "output_type": "stream",
     "text": [
      "<class 'int'>\n",
      "<class 'str'>\n"
     ]
    }
   ],
   "source": [
    "# Conversione esplicita\n",
    "print(type(123))\n",
    "print(type(str(123)))"
   ]
  },
  {
   "cell_type": "markdown",
   "id": "9ea402d4",
   "metadata": {},
   "source": [
    "## Variabili\n",
    "Una variabile è un contenitore utilizzato per memorizzare informazione che viene poi recuperata e modificata da un programma. È anche un modo per descrivere in maniera più significativa i nostri dati, in modo da rendere più leggibile e comprensibile il nostro codice.\n",
    "\n",
    "Per creare una variabile è necessario *dichiararla*. In Python ciò avviene definendo il nome della variabile, seguita dall'operatore *assegnazione* `=` e dal valore che le vogliamo assegnare."
   ]
  },
  {
   "cell_type": "code",
   "execution_count": 65,
   "id": "f493d8a9",
   "metadata": {},
   "outputs": [],
   "source": [
    "# Dichiarazione di una variabile\n",
    "x = 5\n",
    "y = 3"
   ]
  },
  {
   "cell_type": "code",
   "execution_count": 66,
   "id": "be9181f1",
   "metadata": {},
   "outputs": [
    {
     "data": {
      "text/plain": [
       "5"
      ]
     },
     "execution_count": 66,
     "metadata": {},
     "output_type": "execute_result"
    }
   ],
   "source": [
    "x"
   ]
  },
  {
   "cell_type": "code",
   "execution_count": 74,
   "id": "d5da602e",
   "metadata": {},
   "outputs": [],
   "source": [
    "z = x + y"
   ]
  },
  {
   "cell_type": "code",
   "execution_count": 75,
   "id": "eb3b7e3f",
   "metadata": {},
   "outputs": [
    {
     "data": {
      "text/plain": [
       "14"
      ]
     },
     "execution_count": 75,
     "metadata": {},
     "output_type": "execute_result"
    }
   ],
   "source": [
    "z"
   ]
  },
  {
   "cell_type": "code",
   "execution_count": 70,
   "id": "6fe357c7",
   "metadata": {},
   "outputs": [
    {
     "data": {
      "text/plain": [
       "10"
      ]
     },
     "execution_count": 70,
     "metadata": {},
     "output_type": "execute_result"
    }
   ],
   "source": [
    "# Aggiorna una variabile\n",
    "x = 10\n",
    "x"
   ]
  },
  {
   "cell_type": "code",
   "execution_count": 71,
   "id": "ebce5744",
   "metadata": {},
   "outputs": [
    {
     "data": {
      "text/plain": [
       "8"
      ]
     },
     "execution_count": 71,
     "metadata": {},
     "output_type": "execute_result"
    }
   ],
   "source": [
    "z"
   ]
  },
  {
   "cell_type": "markdown",
   "id": "73c5685e",
   "metadata": {},
   "source": [
    "### Altri Operatori di Assegnazione\n",
    "\n",
    "`+=` (*somma e assegna*): aggiungi l'operando a destra con quello a sinistra e assegna il risultato all'operando a sinistra."
   ]
  },
  {
   "cell_type": "code",
   "execution_count": 72,
   "id": "6063cbd5",
   "metadata": {},
   "outputs": [
    {
     "data": {
      "text/plain": [
       "10"
      ]
     },
     "execution_count": 72,
     "metadata": {},
     "output_type": "execute_result"
    }
   ],
   "source": [
    "x"
   ]
  },
  {
   "cell_type": "code",
   "execution_count": 73,
   "id": "ad097d69",
   "metadata": {},
   "outputs": [
    {
     "data": {
      "text/plain": [
       "11"
      ]
     },
     "execution_count": 73,
     "metadata": {},
     "output_type": "execute_result"
    }
   ],
   "source": [
    "x += 1\n",
    "x"
   ]
  },
  {
   "cell_type": "markdown",
   "id": "48041ecf",
   "metadata": {},
   "source": [
    "`-=` (*sottrai e assegna*): sottrai l'operando a destra da quello a sinistra e assegna il risultato all'operando a sinistra."
   ]
  },
  {
   "cell_type": "code",
   "execution_count": 76,
   "id": "5c978734",
   "metadata": {},
   "outputs": [
    {
     "data": {
      "text/plain": [
       "9"
      ]
     },
     "execution_count": 76,
     "metadata": {},
     "output_type": "execute_result"
    }
   ],
   "source": [
    "x -= 2\n",
    "x"
   ]
  },
  {
   "cell_type": "markdown",
   "id": "2b3120e8",
   "metadata": {},
   "source": [
    "`*=` (moltiplica e assegna): moltiplica l'operando a destra con quello a sinistra e assegna il risultato all'operando a sinistra."
   ]
  },
  {
   "cell_type": "code",
   "execution_count": 77,
   "id": "e5079026",
   "metadata": {},
   "outputs": [
    {
     "data": {
      "text/plain": [
       "18"
      ]
     },
     "execution_count": 77,
     "metadata": {},
     "output_type": "execute_result"
    }
   ],
   "source": [
    "x *= 2 \n",
    "x"
   ]
  },
  {
   "cell_type": "markdown",
   "id": "ae2b1cbc",
   "metadata": {},
   "source": [
    "## Riferimento agli Oggetti\n",
    "\n",
    "Una variabile in Python è un nome simbolico che fa da riferimento per un oggetto. Una volta che un oggetto viene assegnato ad una variabile, è possibile riferirsi a tale oggetto utilizzando il nome della variabile; il dato è comunque contenuto all'interno dell'oggetto e non della variabile. "
   ]
  },
  {
   "cell_type": "code",
   "execution_count": 78,
   "id": "c48b2f0c",
   "metadata": {},
   "outputs": [
    {
     "data": {
      "text/plain": [
       "3"
      ]
     },
     "execution_count": 78,
     "metadata": {},
     "output_type": "execute_result"
    }
   ],
   "source": [
    "y"
   ]
  },
  {
   "cell_type": "code",
   "execution_count": 79,
   "id": "5e53069a",
   "metadata": {},
   "outputs": [],
   "source": [
    "y = x"
   ]
  },
  {
   "cell_type": "code",
   "execution_count": 80,
   "id": "21acfbab",
   "metadata": {},
   "outputs": [
    {
     "data": {
      "text/plain": [
       "18"
      ]
     },
     "execution_count": 80,
     "metadata": {},
     "output_type": "execute_result"
    }
   ],
   "source": [
    "y"
   ]
  },
  {
   "cell_type": "markdown",
   "id": "ec05506c",
   "metadata": {},
   "source": [
    "Ad ogni oggetto creato viene assegnato un numero che lo identifica. È garantito che due oggetti non possano avere lo stesso identificatore. La funzione integrata `id(object)` restituisce l'identificatore di un oggetto."
   ]
  },
  {
   "cell_type": "code",
   "execution_count": 81,
   "id": "017e468d",
   "metadata": {},
   "outputs": [
    {
     "data": {
      "text/plain": [
       "4490845232"
      ]
     },
     "execution_count": 81,
     "metadata": {},
     "output_type": "execute_result"
    }
   ],
   "source": [
    "id(y)"
   ]
  },
  {
   "cell_type": "code",
   "execution_count": 82,
   "id": "83e2f72c",
   "metadata": {},
   "outputs": [
    {
     "data": {
      "text/plain": [
       "4490845232"
      ]
     },
     "execution_count": 82,
     "metadata": {},
     "output_type": "execute_result"
    }
   ],
   "source": [
    "id(x)"
   ]
  },
  {
   "cell_type": "code",
   "execution_count": 83,
   "id": "0a8b156e",
   "metadata": {},
   "outputs": [
    {
     "data": {
      "text/plain": [
       "4490845232"
      ]
     },
     "execution_count": 83,
     "metadata": {},
     "output_type": "execute_result"
    }
   ],
   "source": [
    "id(18)"
   ]
  },
  {
   "cell_type": "code",
   "execution_count": 84,
   "id": "cfafcb53",
   "metadata": {},
   "outputs": [
    {
     "data": {
      "text/plain": [
       "4490844976"
      ]
     },
     "execution_count": 84,
     "metadata": {},
     "output_type": "execute_result"
    }
   ],
   "source": [
    "x = 10\n",
    "id(x)"
   ]
  },
  {
   "cell_type": "markdown",
   "id": "0ea07710",
   "metadata": {},
   "source": [
    "## Convenzioni\n",
    "\n",
    "I nomi delle variabili dovrebbero essere formati da soli caratteri minuscoli, con parole separate da trattini bassi `_` per migliorarne la leggibilità.\n",
    "\n",
    "In Python, un ridotto insieme di parole chiave sono riservate per particolari funzionalità del linguaggio. Alle variabili non possono essere assegnati nomi uguali a parole chiavi. È possibile controllare la lista di parole chiave in ogni momento utilizzando il comando `help('keywords')`."
   ]
  },
  {
   "cell_type": "code",
   "execution_count": null,
   "id": "16b56ef1",
   "metadata": {},
   "outputs": [],
   "source": [
    "popolazione_italiana = 60000000"
   ]
  },
  {
   "cell_type": "code",
   "execution_count": 86,
   "id": "81c85cd0",
   "metadata": {},
   "outputs": [
    {
     "ename": "SyntaxError",
     "evalue": "invalid syntax (3594483855.py, line 1)",
     "output_type": "error",
     "traceback": [
      "\u001b[0;36m  Input \u001b[0;32mIn [86]\u001b[0;36m\u001b[0m\n\u001b[0;31m    def = 10\u001b[0m\n\u001b[0m        ^\u001b[0m\n\u001b[0;31mSyntaxError\u001b[0m\u001b[0;31m:\u001b[0m invalid syntax\n"
     ]
    }
   ],
   "source": [
    "def = 10"
   ]
  },
  {
   "cell_type": "code",
   "execution_count": 87,
   "id": "760a9e01",
   "metadata": {},
   "outputs": [
    {
     "name": "stdout",
     "output_type": "stream",
     "text": [
      "\n",
      "Here is a list of the Python keywords.  Enter any keyword to get more help.\n",
      "\n",
      "False               class               from                or\n",
      "None                continue            global              pass\n",
      "True                def                 if                  raise\n",
      "and                 del                 import              return\n",
      "as                  elif                in                  try\n",
      "assert              else                is                  while\n",
      "async               except              lambda              with\n",
      "await               finally             nonlocal            yield\n",
      "break               for                 not                 \n",
      "\n"
     ]
    }
   ],
   "source": [
    "help('keywords')"
   ]
  },
  {
   "cell_type": "markdown",
   "id": "8f5bafa0",
   "metadata": {},
   "source": [
    "## Esercizi\n",
    "\n",
    "- Scrivi un programma che sostituisce tutte le occorrenze del primo carattere di una stringa con `?`, eccetto per il primo carattere. Ad esempio `ananas` -> `an?n?s`."
   ]
  },
  {
   "cell_type": "code",
   "execution_count": 7,
   "id": "26e8a388",
   "metadata": {},
   "outputs": [
    {
     "data": {
      "text/plain": [
       "'?ur?ero'"
      ]
     },
     "execution_count": 7,
     "metadata": {},
     "output_type": "execute_result"
    }
   ],
   "source": [
    "parola = 'burbero'\n",
    "car = parola[0]\n",
    "parola.replace(car, '?')"
   ]
  },
  {
   "cell_type": "code",
   "execution_count": 8,
   "id": "a7904dfe",
   "metadata": {},
   "outputs": [
    {
     "data": {
      "text/plain": [
       "'bur?ero'"
      ]
     },
     "execution_count": 8,
     "metadata": {},
     "output_type": "execute_result"
    }
   ],
   "source": [
    "car + parola[1:].replace(car, '?')"
   ]
  },
  {
   "cell_type": "markdown",
   "id": "56095d80",
   "metadata": {},
   "source": [
    "- Scrivi un programma che dato il raggio del cerchio calcola l'area e stampa `L'area del cerchio con raggio _ è uguale a _.`, sostituendo i trattini bassi con i reali valori."
   ]
  },
  {
   "cell_type": "code",
   "execution_count": 12,
   "id": "e0146f8f",
   "metadata": {},
   "outputs": [],
   "source": [
    "raggio = 5\n",
    "PI_GRECO = 3.14\n",
    "\n",
    "area = raggio ** 2 * PI_GRECO"
   ]
  },
  {
   "cell_type": "code",
   "execution_count": 13,
   "id": "5f29e08e",
   "metadata": {},
   "outputs": [
    {
     "name": "stdout",
     "output_type": "stream",
     "text": [
      "L'area del cerchio con raggio 5 è uguale a 78.5.\n"
     ]
    }
   ],
   "source": [
    "print(f\"L'area del cerchio con raggio {raggio} è uguale a {area}.\")"
   ]
  },
  {
   "cell_type": "code",
   "execution_count": 19,
   "id": "dcc07564",
   "metadata": {},
   "outputs": [
    {
     "name": "stdout",
     "output_type": "stream",
     "text": [
      "Definisci il valore del raggio: 6\n",
      "L'area del cerchio con raggio 6 è uguale a 113.04.\n"
     ]
    }
   ],
   "source": [
    "raggio_utente = input('Definisci il valore del raggio: ')\n",
    "area = float(raggio_utente) ** 2 * PI_GRECO\n",
    "print(f\"L'area del cerchio con raggio {raggio_utente} è uguale a {area}.\")"
   ]
  },
  {
   "cell_type": "code",
   "execution_count": null,
   "id": "757cc6f5",
   "metadata": {},
   "outputs": [],
   "source": []
  }
 ],
 "metadata": {
  "kernelspec": {
   "display_name": "Python 3 (ipykernel)",
   "language": "python",
   "name": "python3"
  },
  "language_info": {
   "codemirror_mode": {
    "name": "ipython",
    "version": 3
   },
   "file_extension": ".py",
   "mimetype": "text/x-python",
   "name": "python",
   "nbconvert_exporter": "python",
   "pygments_lexer": "ipython3",
   "version": "3.8.13"
  }
 },
 "nbformat": 4,
 "nbformat_minor": 5
}
