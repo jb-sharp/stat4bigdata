{
 "cells": [
  {
   "cell_type": "markdown",
   "id": "1e64f320",
   "metadata": {},
   "source": [
    "# Statistica per i Big Data Economico-Aziendali - Esercitazioni in Python\n",
    "\n",
    "Il materiale per il seguente modulo sarà reso disponibile di volta in volta in questa repository di GitHub: www.github.com/sergiopicascia/Stat4BigData.\n",
    "\n",
    "**GitHub** è una piattaforma utilizzata per lo sviluppo collaborativo di software basata sul controllo di versione.\n",
    "- [Guida a GitHub](https://docs.github.com/en/get-started/quickstart/hello-world)\n",
    "- [Guida a Git](https://github.com/git-guides)"
   ]
  },
  {
   "cell_type": "markdown",
   "id": "3882c1fb",
   "metadata": {},
   "source": [
    "## Introduzione a Python\n",
    "\n",
    "**Python** è un linguaggio di programmazione ad alto livello, utilizzato nelle applicazioni web, nello sviluppo di software, nella data science e nel machine learning. Può essere eseguito su tutti i principali sistemi operativi informatici ed è estremamente semplice da comprendere grazie ad una sintassi simile a quella della lingua inglese. Data la sua vasta diffusione e adozione tra gli sviluppatori, è possibile reperire con facilità tutorial e documentazione, oltre a migliaia di pacchetti sviluppati per numerose attività.\n",
    "- [Documentazione](https://docs.python.org/3/)\n",
    "\n",
    "Esistono diverse opzioni per scrivere codice in Python. Gli *script* sono file di testo con estensione *.py*. Possono essere creati e modificati con semplici editor di testo, oppure tramite ambienti di sviluppo integrato (IDE); questi ultimi sono software che assistono lo sviluppatore nella scrittura del codice tramite l'utilizzo di diversi strumenti, come il debugger o l'evidenziatore di sintassi. Gli script vengono eseguiti linearmente, dall'alto verso il basso, riga per riga, fino al raggiungimento della fine del file; nel caso in cui bisognasse modificare anche solo una linea di codice, sarà necessario rieseguire lo script per attuare le modifiche.\n",
    "- Text Editors: [Sublime](https://www.sublimetext.com), [Notepad++](https://notepad-plus-plus.org)\n",
    "- IDEs: [Visual Studio Code](https://code.visualstudio.com), [PyCharm](https://www.jetbrains.com/pycharm/)\n",
    "\n",
    "I *notebook* sono composti da celle: in ogni cella è possibile scrivere sia del codice in Python, sia del semplice testo. È dunque possibile affiancare a delle sezioni di codice, delle altre contenenti spiegazioni, link o immagini. I notebook vengono eseguiti in maniera non lineare, ovvero è possibile eseguire le celle in qualsiasi ordine; ciò rende possibile modificare parte del codice presente in una cella, senza dover necessariamente rieseguire l'intero notebook.\n",
    "- [Jupyter Notebook](https://jupyter.org), [Google Colab](https://colab.research.google.com/notebooks/)"
   ]
  },
  {
   "cell_type": "code",
   "execution_count": null,
   "id": "9f4949db",
   "metadata": {},
   "outputs": [],
   "source": [
    "# Il primo programma in Python\n"
   ]
  },
  {
   "cell_type": "markdown",
   "id": "a8e55c52",
   "metadata": {},
   "source": [
    "## Commenti\n",
    "\n",
    "Un commento è introdotto da un asterisco (`#`) e termina alla fine di una linea di codice. I commenti vengono ignorati in fase di esecuzione del codice."
   ]
  },
  {
   "cell_type": "code",
   "execution_count": null,
   "id": "5738fbb0",
   "metadata": {},
   "outputs": [],
   "source": [
    "# Questo è un commento\n",
    "# Anche questo è un commento"
   ]
  },
  {
   "cell_type": "markdown",
   "id": "76ce0ede",
   "metadata": {},
   "source": [
    "## Tipi di Dato\n",
    "\n",
    "Un **tipo di dato** restringe l'insieme di possibili valori che un'espressione può avere e ne definisce l'insieme di operazioni consentite su di essa. Python supporta tipi di dato basilari, come *interi* e *booleani*, e sequenziali, come *stringhe* e *liste*.\n",
    "\n",
    "#### `type(object)`\n",
    "La funzione `type()` restituisce il tipo di un oggetto. "
   ]
  },
  {
   "cell_type": "code",
   "execution_count": null,
   "id": "b0a7c726",
   "metadata": {},
   "outputs": [],
   "source": []
  },
  {
   "cell_type": "code",
   "execution_count": null,
   "id": "724cd46a",
   "metadata": {},
   "outputs": [],
   "source": []
  },
  {
   "cell_type": "markdown",
   "id": "d0159c4a",
   "metadata": {},
   "source": [
    "## Tipi Numerici\n",
    "\n",
    "Esistono tre tipi numerici: gli interi (*int*), i decimali (*float*), e i numeri complessi (*complex*).\n",
    "\n",
    "- `int`: gli interi sono lo zero, numeri positivi e negativi interi, dunque senza la componente decimale\n",
    "- `float`: chiamati *floating point numbers*, i decimali sono numeri reali positivi e negativi con una componente decimale indicata dal simbolo `.`or dalla notazione scienrifica `E` o `e`\n",
    "- `complex`: un numero complesso è un numero avente una componente reale ed una immaginaria; la componente immaginaria è indicata dalla lettera `J` o `j`"
   ]
  },
  {
   "cell_type": "code",
   "execution_count": null,
   "id": "f7dd42c9",
   "metadata": {},
   "outputs": [],
   "source": [
    "# Interi\n",
    "\n"
   ]
  },
  {
   "cell_type": "code",
   "execution_count": null,
   "id": "7c383d0e",
   "metadata": {},
   "outputs": [],
   "source": [
    "# Decimali\n",
    "\n"
   ]
  },
  {
   "cell_type": "code",
   "execution_count": null,
   "id": "12d654af",
   "metadata": {},
   "outputs": [],
   "source": [
    "# Complessi\n"
   ]
  },
  {
   "cell_type": "markdown",
   "id": "444e10f3",
   "metadata": {},
   "source": [
    "### Operatori Aritmetici\n",
    "\n",
    "In Python, gli **operatori** sono speciali simboli che indicano che una certa computazione deve essere compiuta. I valori che vengono coinvolti nella computazione da un operatore, vengono detti *operandi*.\n",
    "\n",
    "Gli **operatori aritmetici** vengono utilizzati per eseguire operazioni matematiche, come l'addizione, la sottrazione, la moltiplicazione e la divisione.\n",
    "\n",
    "L'operatore *addizione* è indicato dal simbolo `+` ed è utilizzato per sommare due valori."
   ]
  },
  {
   "cell_type": "code",
   "execution_count": null,
   "id": "0ca986a3",
   "metadata": {},
   "outputs": [],
   "source": [
    "# Addizione\n"
   ]
  },
  {
   "cell_type": "markdown",
   "id": "a9821299",
   "metadata": {},
   "source": [
    "L'operatore *sottrazione* è indicato dal simbolo `-` ed è utilizzato per sottrarre il secondo valore dal primo."
   ]
  },
  {
   "cell_type": "code",
   "execution_count": null,
   "id": "ad5cb1c1",
   "metadata": {},
   "outputs": [],
   "source": [
    "# Sottrazione\n"
   ]
  },
  {
   "cell_type": "markdown",
   "id": "73262955",
   "metadata": {},
   "source": [
    "L'operatore *moltiplicazione* è indicato dal simbolo `*` ed è utilizzato per calcolare il prodotto di due valori."
   ]
  },
  {
   "cell_type": "code",
   "execution_count": null,
   "id": "aca4aa55",
   "metadata": {},
   "outputs": [],
   "source": [
    "# Moltiplicazione\n"
   ]
  },
  {
   "cell_type": "markdown",
   "id": "5a4e12e0",
   "metadata": {},
   "source": [
    "L'operatore *divisione* è indicato dal simbolo `/` ed è utilizzato per calcolare il quoziente quando il primo valore è diviso per il secondo."
   ]
  },
  {
   "cell_type": "code",
   "execution_count": null,
   "id": "7ec2a8bf",
   "metadata": {},
   "outputs": [],
   "source": [
    "# Divisione (float)\n"
   ]
  },
  {
   "cell_type": "markdown",
   "id": "45b15d35",
   "metadata": {},
   "source": [
    "L'operatore *divisione floor* è indicato dal simbolo `//` ed è utilizzato per calcolare la parte intera del quoziente quando il primo valore è diviso per il secondo."
   ]
  },
  {
   "cell_type": "code",
   "execution_count": null,
   "id": "31da0088",
   "metadata": {},
   "outputs": [],
   "source": [
    "# Divisione (int)\n"
   ]
  },
  {
   "cell_type": "markdown",
   "id": "58a5eba6",
   "metadata": {},
   "source": [
    "L'operatore *modulo* è indicato dal simbolo `%` ed è utilizzato per calcolare il resto quando il primo valore è diviso per il secondo."
   ]
  },
  {
   "cell_type": "code",
   "execution_count": null,
   "id": "1b91ec17",
   "metadata": {},
   "outputs": [],
   "source": [
    "# Modulo\n"
   ]
  },
  {
   "cell_type": "markdown",
   "id": "059fffd2",
   "metadata": {},
   "source": [
    "L'operatore *esponenziale* è indicato dal simbolo `**` ed è utilizzato per elevare il primo valore alla potenza del secondo."
   ]
  },
  {
   "cell_type": "code",
   "execution_count": null,
   "id": "f73af4fa",
   "metadata": {},
   "outputs": [],
   "source": [
    "# Esponenziale\n"
   ]
  },
  {
   "cell_type": "markdown",
   "id": "07ee7cb2",
   "metadata": {},
   "source": [
    "## Tipo Stringa\n",
    "\n",
    "In Python, i dati testuali sono gestiti con gli oggetti `str`, o *stringhe*. Una stringa può essere definita in tre diversi modi:\n",
    "- singole virgolette (`'...'`): possono contenere doppie virgolette\n",
    "- doppie virgolette (`\"...\"`): possono contenere singole virgolette\n",
    "- triple virgolette (`'''...'''`, `\"\"\"...\"\"\"`): possono essere definite su più linee"
   ]
  },
  {
   "cell_type": "code",
   "execution_count": null,
   "id": "4691f04c",
   "metadata": {},
   "outputs": [],
   "source": [
    "# Singole Virgolette\n"
   ]
  },
  {
   "cell_type": "code",
   "execution_count": null,
   "id": "a4c9a415",
   "metadata": {},
   "outputs": [],
   "source": [
    "# Doppie Virgolette\n"
   ]
  },
  {
   "cell_type": "code",
   "execution_count": null,
   "id": "8b478115",
   "metadata": {},
   "outputs": [],
   "source": [
    "# Triple Virgolette\n",
    "\n"
   ]
  },
  {
   "cell_type": "markdown",
   "id": "1ea70d80",
   "metadata": {},
   "source": [
    "### Concatenazione\n",
    "È possibile concatenare due stringhe diverse oppure ripetere la stessa stringa più volte utilizzando rispettivamente gli operatori aritmetici `+` e `*`."
   ]
  },
  {
   "cell_type": "code",
   "execution_count": null,
   "id": "1eb619dd",
   "metadata": {},
   "outputs": [],
   "source": [
    "# Concatenazione di due stringhe\n"
   ]
  },
  {
   "cell_type": "code",
   "execution_count": null,
   "id": "db5c9951",
   "metadata": {},
   "outputs": [],
   "source": [
    "# Ripetizione della stessa stringa\n"
   ]
  },
  {
   "cell_type": "markdown",
   "id": "08255fdb",
   "metadata": {},
   "source": [
    "### Carattere Escape\n",
    "Nelle stringhe, la barra rovesciata (*backslash*) `\\` è un carattere speciale, chiamato **escape**. È utilizzato per definire alcune sequenze di caratteri come `\\t` e `\\n`."
   ]
  },
  {
   "cell_type": "code",
   "execution_count": null,
   "id": "1c6abf84",
   "metadata": {},
   "outputs": [],
   "source": []
  },
  {
   "cell_type": "markdown",
   "id": "69a112ed",
   "metadata": {},
   "source": [
    "Utilizzare `\\` prima di un carattere speciale trasforma quest'ultimo in un carattere ordinario. "
   ]
  },
  {
   "cell_type": "code",
   "execution_count": null,
   "id": "a41840f6",
   "metadata": {},
   "outputs": [],
   "source": []
  },
  {
   "cell_type": "markdown",
   "id": "20c95d22",
   "metadata": {},
   "source": [
    "### Slicing e Indexing\n",
    "È possibile selezionare un sottoinsiemi di caratteri da una stringa utilizzando l'operazione di *slicing*: all'interno di parentesi quadre, si specifica l'indice di inizio e l'indice di fine, separati da `:`."
   ]
  },
  {
   "cell_type": "code",
   "execution_count": null,
   "id": "e48f0595",
   "metadata": {},
   "outputs": [],
   "source": []
  },
  {
   "cell_type": "markdown",
   "id": "75acb32c",
   "metadata": {},
   "source": [
    "In Python, i tipi sequenziali sono indicizzati a zero, ovvero le posizioni (indici) degli *n* elementi all'interno di un oggetto va da *0* a *n-1*. Indicando soltanto un numero all'interno delle parentesi quadre si seleziona soltanto l'elemento presente a quell'indice."
   ]
  },
  {
   "cell_type": "code",
   "execution_count": null,
   "id": "210beb87",
   "metadata": {},
   "outputs": [],
   "source": []
  },
  {
   "cell_type": "markdown",
   "id": "3106a67e",
   "metadata": {},
   "source": [
    "### Metodi\n",
    "\n",
    "Esistono una serie di *metodi integrati (built-in)* che possono essere utilizzati sulle stringhe.\n",
    "\n",
    "`str.capitalize()` restituisce una copia della stringa con la prima lettera in maiuscolo e il resto in minuscolo."
   ]
  },
  {
   "cell_type": "code",
   "execution_count": null,
   "id": "5e1ef211",
   "metadata": {},
   "outputs": [],
   "source": []
  },
  {
   "cell_type": "markdown",
   "id": "3f774487",
   "metadata": {},
   "source": [
    "`str.lower()` restituisce una copia della stringa con tutte le lettere minuscole."
   ]
  },
  {
   "cell_type": "code",
   "execution_count": null,
   "id": "6e85ee49",
   "metadata": {},
   "outputs": [],
   "source": []
  },
  {
   "cell_type": "markdown",
   "id": "9c9351bc",
   "metadata": {},
   "source": [
    "`str.upper()` restituisce una copia della stringa con tutte le lettere maiuscole."
   ]
  },
  {
   "cell_type": "code",
   "execution_count": null,
   "id": "240f673a",
   "metadata": {},
   "outputs": [],
   "source": []
  },
  {
   "cell_type": "markdown",
   "id": "45b65bdf",
   "metadata": {},
   "source": [
    "`str.strip()` restituisce una copia della stringa eliminando eventuali spazi all'inizio e alla fine di essa."
   ]
  },
  {
   "cell_type": "code",
   "execution_count": null,
   "id": "a850402f",
   "metadata": {},
   "outputs": [],
   "source": []
  },
  {
   "cell_type": "markdown",
   "id": "66b36975",
   "metadata": {},
   "source": [
    "`str.find(sub)` restituisce il primo indice della stringa in cui viene trovata la sottostringa `sub`."
   ]
  },
  {
   "cell_type": "code",
   "execution_count": null,
   "id": "cf3f2165",
   "metadata": {},
   "outputs": [],
   "source": []
  },
  {
   "cell_type": "markdown",
   "id": "e35820e7",
   "metadata": {},
   "source": [
    "`str.replace(old, new)` restituisce una copia della stringa con tutte le occorrenze di `old` sostituite da `new`."
   ]
  },
  {
   "cell_type": "code",
   "execution_count": null,
   "id": "cb90f36e",
   "metadata": {},
   "outputs": [],
   "source": []
  },
  {
   "cell_type": "markdown",
   "id": "079b6c36",
   "metadata": {},
   "source": [
    "`str.format()` esegue un'operazione di formattazione sulla stringa."
   ]
  },
  {
   "cell_type": "code",
   "execution_count": null,
   "id": "12ab005d",
   "metadata": {},
   "outputs": [],
   "source": []
  },
  {
   "cell_type": "markdown",
   "id": "c8e75c3a",
   "metadata": {},
   "source": [
    "## Conversione di Tipo\n",
    "\n",
    "Il processo di convertire un valore da un tipo di dati ad un altro è chiamato **conversione**. In Python esistono due tipologie di conversione:\n",
    "- *implicita*: Python converte automaticamente un tipo di dato in un altro senza che venga specificato dall'utente\n",
    "- *esplicita*: l'utente converte l'oggetto da un tipo di dato all'altro utilizzando delle funzioni integrate, ad es. `int()`, `float()`, `str()`."
   ]
  },
  {
   "cell_type": "code",
   "execution_count": null,
   "id": "c130d989",
   "metadata": {},
   "outputs": [],
   "source": [
    "# Conversione implicita\n",
    "\n",
    "\n"
   ]
  },
  {
   "cell_type": "code",
   "execution_count": null,
   "id": "53658756",
   "metadata": {},
   "outputs": [],
   "source": [
    "# Conversione esplicita\n",
    "\n"
   ]
  },
  {
   "cell_type": "markdown",
   "id": "9ea402d4",
   "metadata": {},
   "source": [
    "## Variabili\n",
    "Una variabile è un contenitore utilizzato per memorizzare informazione che viene poi recuperata e modificata da un programma. È anche un modo per descrivere in maniera più significativa i nostri dati, in modo da rendere più leggibile e comprensibile il nostro codice.\n",
    "\n",
    "Per creare una variabile è necessario *dichiararla*. In Python ciò avviene definendo il nome della variabile, seguita dall'operatore *assegnazione* `=` e dal valore che le vogliamo assegnare."
   ]
  },
  {
   "cell_type": "code",
   "execution_count": null,
   "id": "f493d8a9",
   "metadata": {},
   "outputs": [],
   "source": [
    "# Dichiarazione di una variabile\n",
    "\n"
   ]
  },
  {
   "cell_type": "code",
   "execution_count": null,
   "id": "d5da602e",
   "metadata": {},
   "outputs": [],
   "source": [
    "\n"
   ]
  },
  {
   "cell_type": "code",
   "execution_count": null,
   "id": "6fe357c7",
   "metadata": {},
   "outputs": [],
   "source": [
    "# Aggiorna una variabile\n",
    "\n"
   ]
  },
  {
   "cell_type": "code",
   "execution_count": null,
   "id": "ebce5744",
   "metadata": {},
   "outputs": [],
   "source": []
  },
  {
   "cell_type": "markdown",
   "id": "73c5685e",
   "metadata": {},
   "source": [
    "### Altri Operatori di Assegnazione\n",
    "\n",
    "`+=` (*somma e assegna*): aggiungi l'operando a destra con quello a sinistra e assegna il risultato all'operando a sinistra."
   ]
  },
  {
   "cell_type": "code",
   "execution_count": null,
   "id": "6063cbd5",
   "metadata": {},
   "outputs": [],
   "source": [
    "\n"
   ]
  },
  {
   "cell_type": "code",
   "execution_count": null,
   "id": "ad097d69",
   "metadata": {},
   "outputs": [],
   "source": [
    "\n"
   ]
  },
  {
   "cell_type": "markdown",
   "id": "48041ecf",
   "metadata": {},
   "source": [
    "`-=` (*sottrai e assegna*): sottrai l'operando a destra da quello a sinistra e assegna il risultato all'operando a sinistra."
   ]
  },
  {
   "cell_type": "code",
   "execution_count": null,
   "id": "5c978734",
   "metadata": {},
   "outputs": [],
   "source": [
    "\n"
   ]
  },
  {
   "cell_type": "markdown",
   "id": "2b3120e8",
   "metadata": {},
   "source": [
    "`*=` (moltiplica e assegna): moltiplica l'operando a destra con quello a sinistra e assegna il risultato all'operando a sinistra."
   ]
  },
  {
   "cell_type": "code",
   "execution_count": null,
   "id": "e5079026",
   "metadata": {},
   "outputs": [],
   "source": [
    "\n"
   ]
  },
  {
   "cell_type": "markdown",
   "id": "ae2b1cbc",
   "metadata": {},
   "source": [
    "## Riferimento agli Oggetti\n",
    "\n",
    "Una variabile in Python è un nome simbolico che fa da riferimento per un oggetto. Una volta che un oggetto viene assegnato ad una variabile, è possibile riferirsi a tale oggetto utilizzando il nome della variabile; il dato è comunque contenuto all'interno dell'oggetto e non della variabile. "
   ]
  },
  {
   "cell_type": "code",
   "execution_count": null,
   "id": "c48b2f0c",
   "metadata": {},
   "outputs": [],
   "source": [
    "\n",
    "\n"
   ]
  },
  {
   "cell_type": "markdown",
   "id": "ec05506c",
   "metadata": {},
   "source": [
    "Ad ogni oggetto creato viene assegnato un numero che lo identifica. È garantito che due oggetti non possano avere lo stesso identificatore. La funzione integrata `id(object)` restituisce l'identificatore di un oggetto."
   ]
  },
  {
   "cell_type": "code",
   "execution_count": null,
   "id": "017e468d",
   "metadata": {},
   "outputs": [],
   "source": []
  },
  {
   "cell_type": "code",
   "execution_count": null,
   "id": "83e2f72c",
   "metadata": {},
   "outputs": [],
   "source": []
  },
  {
   "cell_type": "code",
   "execution_count": null,
   "id": "0a8b156e",
   "metadata": {},
   "outputs": [],
   "source": [
    "\n",
    "\n"
   ]
  },
  {
   "cell_type": "code",
   "execution_count": null,
   "id": "cfafcb53",
   "metadata": {},
   "outputs": [],
   "source": []
  },
  {
   "cell_type": "markdown",
   "id": "0ea07710",
   "metadata": {},
   "source": [
    "## Convenzioni\n",
    "\n",
    "I nomi delle variabili dovrebbero essere formati da soli caratteri minuscoli, con parole separate da trattini bassi `_` per migliorarne la leggibilità.\n",
    "\n",
    "In Python, un ridotto insieme di parole chiave sono riservate per particolari funzionalità del linguaggio. Alle variabili non possono essere assegnati nomi uguali a parole chiavi. È possibile controllare la lista di parole chiave in ogni momento utilizzando il comando `help('keywords')`."
   ]
  },
  {
   "cell_type": "code",
   "execution_count": null,
   "id": "16b56ef1",
   "metadata": {},
   "outputs": [],
   "source": []
  },
  {
   "cell_type": "markdown",
   "id": "8f5bafa0",
   "metadata": {},
   "source": [
    "## Esercizi\n",
    "\n",
    "- Scrivi un programma che sostituisce tutte le occorrenze del primo carattere di una stringa con `?`, eccetto per il primo carattere. Ad esempio `ananas` -> `an?n?s`."
   ]
  },
  {
   "cell_type": "code",
   "execution_count": null,
   "id": "26e8a388",
   "metadata": {},
   "outputs": [],
   "source": [
    "\n",
    "\n",
    "\n"
   ]
  },
  {
   "cell_type": "markdown",
   "id": "56095d80",
   "metadata": {},
   "source": [
    "- Scrivi un programma che dato il raggio del cerchio calcola l'area e stampa `L'area del cerchio con raggio _ è uguale a _.`, sostituendo i trattini bassi con i reali valori."
   ]
  },
  {
   "cell_type": "code",
   "execution_count": null,
   "id": "e0146f8f",
   "metadata": {},
   "outputs": [],
   "source": [
    "\n",
    "\n",
    "\n"
   ]
  }
 ],
 "metadata": {
  "kernelspec": {
   "display_name": "Python 3 (ipykernel)",
   "language": "python",
   "name": "python3"
  },
  "language_info": {
   "codemirror_mode": {
    "name": "ipython",
    "version": 3
   },
   "file_extension": ".py",
   "mimetype": "text/x-python",
   "name": "python",
   "nbconvert_exporter": "python",
   "pygments_lexer": "ipython3",
   "version": "3.8.13"
  }
 },
 "nbformat": 4,
 "nbformat_minor": 5
}
